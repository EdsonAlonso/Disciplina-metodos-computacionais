{
 "cells": [
  {
   "cell_type": "markdown",
   "metadata": {},
   "source": [
    "# Finite differences - introduction - part 2"
   ]
  },
  {
   "cell_type": "markdown",
   "metadata": {},
   "source": [
    "The content of this topic is based on the amazing book **Finite Difference Computing with Exponential Decay Models**, which can be freely accessed as a [GitHub page](https://hplgit.github.io/decay-book/doc/web/index.html) or as a [book](http://link.springer.com/book/10.1007%2F978-3-319-29439-1) in the Springer series Lecture Notes in Computational Science and Engineering. This seminal work is authored by [Professor Hans Petter Langtangen](http://hplgit.github.io/homepage/index.html)."
   ]
  },
  {
   "cell_type": "markdown",
   "metadata": {},
   "source": [
    "This book uses an ordinary differential equation <a href=\"https://en.wikipedia.org/wiki/Ordinary_differential_equation\"><sup>[1]</sup></a> <a href=\"http://mathworld.wolfram.com/OrdinaryDifferentialEquation.html\"><sup>[2]</sup></a> <a href=\"http://tutorial.math.lamar.edu/Classes/DE/DE.aspx\"><sup>[3]</sup></a> describing an [exponential decay process](https://en.wikipedia.org/wiki/Exponential_decay) to illustrate fundamental concepts in mathematics and computer science."
   ]
  },
  {
   "cell_type": "markdown",
   "metadata": {},
   "source": [
    "## Analysis of the stability properties"
   ]
  },
  {
   "cell_type": "markdown",
   "metadata": {},
   "source": [
    "The algorithm presented in part 1 can be rewritten as follows:"
   ]
  },
  {
   "cell_type": "markdown",
   "metadata": {},
   "source": [
    "$$\n",
    "\\begin{split}\n",
    "u^{0} &= C_{0} \\\\\n",
    "u^{1} &= u^{0} \\lambda \\\\\n",
    "u^{2} &= u^{0} \\lambda^{2} \\\\\n",
    "u^{3} &= u^{0} \\lambda^{3} \\\\\n",
    "& \\quad \\vdots \\\\\n",
    "u^{N} &= u^{0} \\lambda^{N}\n",
    "\\end{split} \\: ,\n",
    "$$"
   ]
  },
  {
   "cell_type": "markdown",
   "metadata": {},
   "source": [
    "where "
   ]
  },
  {
   "cell_type": "markdown",
   "metadata": {},
   "source": [
    "$$\n",
    "\\lambda = \\frac{1 - \\left( \\, 1 - \\theta \\, \\right) \\alpha \\, \\Delta t}{1 + \\theta \\, \\alpha \\, \\Delta t} \\: .\n",
    "$$"
   ]
  },
  {
   "cell_type": "markdown",
   "metadata": {},
   "source": [
    "The EDO we have solved numerically represents an exponential decay process. Consequently, our solution must satisfy $u^{\\, n} \\gt u^{\\, n+1}$, for $n = 0, 1, \\dots, N-1 \\: .$ This characteristic leads us to the following question: what about $\\lambda$? can it assume arbitrary values?"
   ]
  },
  {
   "cell_type": "markdown",
   "metadata": {},
   "source": [
    "The factor $\\lambda$ depends on $\\theta$, $\\alpha$, and $\\Delta t$. The parameter $\\theta$ is defined a priori and determines the scheme to be used for solving the EDO (FE, BE, or CN - see part 1). The parameter $\\alpha$ is the coefficient of the EDO and, consequently, it is known. Then, it seems logical to analyze the influence of $\\Delta t$ on the algorithm. So, given $\\theta$ and $\\alpha$, is there an otpimum $\\Delta t$?"
   ]
  },
  {
   "cell_type": "code",
   "execution_count": 1,
   "metadata": {
    "collapsed": true
   },
   "outputs": [],
   "source": [
    "%matplotlib inline\n",
    "import numpy as np\n",
    "import matplotlib.pyplot as plt"
   ]
  },
  {
   "cell_type": "markdown",
   "metadata": {},
   "source": [
    "### FE scheme ($\\theta$ = 0)"
   ]
  },
  {
   "cell_type": "markdown",
   "metadata": {},
   "source": [
    "$$\n",
    "\\lambda = 1 - \\alpha \\, \\Delta t \\: , \\quad \\alpha > 0 \\: , \\quad \\Delta t > 0 \\: .\n",
    "$$"
   ]
  },
  {
   "cell_type": "markdown",
   "metadata": {},
   "source": [
    "The Figure below shows that:\n",
    "\n",
    "1) $\\Delta t = \\frac{1}{\\alpha} \\Longrightarrow \\lambda = 0$\n",
    "\n",
    "\n",
    "2) $\\Delta t > \\frac{1}{\\alpha} \\Longrightarrow \\lambda < 0$\n",
    "\n",
    "\n",
    "3) $\\Delta t < \\frac{1}{\\alpha} \\Longrightarrow \\lambda > 0$\n",
    "\n",
    "\n",
    "4) $\\Delta t = \\frac{2}{\\alpha} \\Longrightarrow \\lambda = -1$\n",
    "\n",
    "\n",
    "5) $\\Delta t > \\frac{2}{\\alpha} \\Longrightarrow \\lambda < -1$\n",
    "\n",
    "\n",
    "6) $\\Delta t < \\frac{2}{\\alpha} \\Longrightarrow \\lambda > -1$"
   ]
  },
  {
   "cell_type": "markdown",
   "metadata": {},
   "source": [
    "resulting that \n",
    "\n",
    "* $0 < \\Delta t < \\frac{1}{\\alpha}$ produces meaningful solutions;\n",
    "\n",
    "\n",
    "* $\\frac{1}{\\alpha} < \\Delta t < \\frac{2}{\\alpha}$ produces decreasing oscillatory solutions;\n",
    "\n",
    "\n",
    "* $\\Delta t > \\frac{2}{\\alpha}$ produces growing oscillatory solutions."
   ]
  },
  {
   "cell_type": "code",
   "execution_count": 6,
   "metadata": {
    "collapsed": true
   },
   "outputs": [],
   "source": [
    "alpha = 2.71\n",
    "\n",
    "dt = np.linspace(0., 3./alpha, 21)\n",
    "\n",
    "dt_min = np.min(dt)\n",
    "dt_max = np.max(dt)\n",
    "\n",
    "lamb = 1. - alpha*dt\n",
    "\n",
    "lamb_max = np.max(lamb)\n",
    "lamb_min = np.min(lamb)"
   ]
  },
  {
   "cell_type": "code",
   "execution_count": 7,
   "metadata": {
    "collapsed": false
   },
   "outputs": [
    {
     "data": {
      "image/png": "[encoded data removed]",
      "text/plain": [
       "<matplotlib.figure.Figure at 0xb2497f0>"
      ]
     },
     "metadata": {},
     "output_type": "display_data"
    }
   ],
   "source": [
    "plt.figure(figsize=(8,6))\n",
    "plt.title('$\\lambda = 1 - \\\\alpha \\Delta t$   |   $\\\\alpha$ = %.2f' % alpha, fontsize = 18)\n",
    "plt.plot([1./alpha, 1./alpha], \n",
    "         [lamb_min - 0.05*(lamb_max - lamb_min), \n",
    "         lamb_max + 0.05*(lamb_max - lamb_min)], '-r', \\\n",
    "         label='$\\Delta t = 1 / \\\\alpha}$')\n",
    "plt.plot([2./alpha, 2./alpha], \n",
    "         [lamb_min - 0.05*(lamb_max - lamb_min), \n",
    "         lamb_max + 0.05*(lamb_max - lamb_min)], '-b', \\\n",
    "         label='$\\Delta t = 2 / \\\\alpha}$')\n",
    "plt.plot([dt_min, dt_max], [1., 1.], 'k--')\n",
    "plt.plot([dt_min, dt_max], [0., 0.], 'k--')\n",
    "plt.plot([dt_min, dt_max], [-1., -1.], 'k--')\n",
    "plt.plot(dt, lamb, '-k', linewidth=3)\n",
    "plt.ylim(lamb_min - 0.05*(lamb_max - lamb_min), \n",
    "         lamb_max + 0.05*(lamb_max - lamb_min))\n",
    "plt.xlim(dt_min, dt_max)\n",
    "plt.ylabel('$\\lambda$', fontsize=20)\n",
    "plt.xlabel('$\\Delta \\, t$', fontsize=20)\n",
    "plt.legend(loc='lower left', fontsize = 16)\n",
    "plt.show()"
   ]
  },
  {
   "cell_type": "markdown",
   "metadata": {},
   "source": [
    "### BE scheme ($\\theta$ = 1)"
   ]
  },
  {
   "cell_type": "markdown",
   "metadata": {},
   "source": []
  },
  {
   "cell_type": "markdown",
   "metadata": {},
   "source": [
    "### CN scheme ($\\theta$ = $\\frac{1}{2}$)"
   ]
  },
  {
   "cell_type": "markdown",
   "metadata": {},
   "source": []
  }
 ],
 "metadata": {
  "kernelspec": {
   "display_name": "Python 2",
   "language": "python",
   "name": "python2"
  },
  "language_info": {
   "codemirror_mode": {
    "name": "ipython",
    "version": 2
   },
   "file_extension": ".py",
   "mimetype": "text/x-python",
   "name": "python",
   "nbconvert_exporter": "python",
   "pygments_lexer": "ipython2",
   "version": "2.7.11"
  }
 },
 "nbformat": 4,
 "nbformat_minor": 0
}
