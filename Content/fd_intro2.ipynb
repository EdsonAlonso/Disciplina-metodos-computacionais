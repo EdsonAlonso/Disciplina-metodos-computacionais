{
 "cells": [
  {
   "cell_type": "markdown",
   "metadata": {},
   "source": [
    "# Finite differences - introduction - part 2"
   ]
  },
  {
   "cell_type": "markdown",
   "metadata": {},
   "source": [
    "The content of this topic is based on the amazing book **Finite Difference Computing with Exponential Decay Models**, which can be freely accessed as a [GitHub page](https://hplgit.github.io/decay-book/doc/web/index.html) or as a [book](http://link.springer.com/book/10.1007%2F978-3-319-29439-1) in the Springer series Lecture Notes in Computational Science and Engineering. This seminal work is authored by [Professor Hans Petter Langtangen](http://hplgit.github.io/homepage/index.html)."
   ]
  },
  {
   "cell_type": "markdown",
   "metadata": {},
   "source": [
    "This book uses an ordinary differential equation <a href=\"https://en.wikipedia.org/wiki/Ordinary_differential_equation\"><sup>[1]</sup></a> <a href=\"http://mathworld.wolfram.com/OrdinaryDifferentialEquation.html\"><sup>[2]</sup></a> <a href=\"http://tutorial.math.lamar.edu/Classes/DE/DE.aspx\"><sup>[3]</sup></a> describing an [exponential decay process](https://en.wikipedia.org/wiki/Exponential_decay) to illustrate fundamental concepts in mathematics and computer science."
   ]
  },
  {
   "cell_type": "markdown",
   "metadata": {},
   "source": [
    "## Analysis of the stability properties"
   ]
  },
  {
   "cell_type": "markdown",
   "metadata": {},
   "source": [
    "The algorithm presented in part 1 can be rewritten as follows:"
   ]
  },
  {
   "cell_type": "markdown",
   "metadata": {},
   "source": [
    "$$\n",
    "\\begin{split}\n",
    "u^{0} &= C_{0} \\\\\n",
    "u^{1} &= u^{0} \\lambda \\\\\n",
    "u^{2} &= u^{0} \\lambda^{2} \\\\\n",
    "u^{3} &= u^{0} \\lambda^{3} \\\\\n",
    "& \\quad \\vdots \\\\\n",
    "u^{N} &= u^{0} \\lambda^{N}\n",
    "\\end{split} \\: ,\n",
    "$$"
   ]
  },
  {
   "cell_type": "markdown",
   "metadata": {},
   "source": [
    "where "
   ]
  },
  {
   "cell_type": "markdown",
   "metadata": {},
   "source": [
    "$$\n",
    "\\lambda = \\frac{1 - \\left( \\, 1 - \\theta \\, \\right) \\alpha \\, \\Delta t}{1 + \\theta \\, \\alpha \\, \\Delta t} \\: .\n",
    "$$"
   ]
  },
  {
   "cell_type": "markdown",
   "metadata": {},
   "source": [
    "The EDO we have solved numerically represents an exponential decay process. Consequently, our solution must satisfy $u^{\\, n} \\gt u^{\\, n+1}$, for $n = 0, 1, \\dots, N-1 \\: .$ This characteristic leads us to the following question: what about $\\lambda$? can it assume arbitrary values?"
   ]
  },
  {
   "cell_type": "markdown",
   "metadata": {},
   "source": [
    "The factor $\\lambda$ depends on $\\theta$, $\\alpha$, and $\\Delta t$. Notice that, in order to produce meaningful solutions (solutions that properly represents a decay process), the condition $0 < \\lambda < 1$ must be satisfied. The parameter $\\theta$ is defined a priori and determines the scheme to be used for solving the EDO (FE, BE, or CN - see part 1). The parameter $\\alpha$ is the coefficient of the EDO and, consequently, it is known. Then, it seems logical to analyze the influence of $\\Delta t$ on the algorithm. So, given $\\theta$ and $\\alpha$, is there an otpimum $\\Delta t$?"
   ]
  },
  {
   "cell_type": "markdown",
   "metadata": {},
   "source": [
    "### FE scheme ($\\theta$ = 0)"
   ]
  },
  {
   "cell_type": "markdown",
   "metadata": {},
   "source": [
    "$$\n",
    "\\lambda = 1 - \\alpha \\, \\Delta t \\: , \\quad \\alpha > 0 \\: , \\quad \\Delta t > 0 \\: .\n",
    "$$"
   ]
  },
  {
   "cell_type": "code",
   "execution_count": 1,
   "metadata": {},
   "outputs": [],
   "source": [
    "%matplotlib inline\n",
    "import numpy as np\n",
    "import matplotlib.pyplot as plt"
   ]
  },
  {
   "cell_type": "code",
   "execution_count": 2,
   "metadata": {},
   "outputs": [],
   "source": [
    "alpha = 2.71\n",
    "\n",
    "dt = np.linspace(0., 3./alpha, 21)\n",
    "\n",
    "dt_min = np.min(dt)\n",
    "dt_max = np.max(dt)\n",
    "\n",
    "lamb_FE = 1. - alpha*dt\n",
    "\n",
    "lamb_max_FE = np.max(lamb_FE)\n",
    "lamb_min_FE = np.min(lamb_FE)"
   ]
  },
  {
   "cell_type": "code",
   "execution_count": 3,
   "metadata": {},
   "outputs": [
    {
     "data": {
      "image/png": "[encoded data removed]",
      "text/plain": [
       "<Figure size 576x432 with 1 Axes>"
      ]
     },
     "metadata": {
      "needs_background": "light"
     },
     "output_type": "display_data"
    }
   ],
   "source": [
    "plt.figure(figsize=(8,6))\n",
    "plt.title('$\\lambda = 1 - \\\\alpha \\Delta t$   |   $\\\\alpha$ = %.2f' % alpha, fontsize = 18)\n",
    "plt.plot([1./alpha, 1./alpha], \n",
    "         [lamb_min_FE - 0.05*(lamb_max_FE - lamb_min_FE), \n",
    "         lamb_max_FE + 0.05*(lamb_max_FE - lamb_min_FE)], '-r', \\\n",
    "         label='$\\Delta t = 1 / \\\\alpha}$')\n",
    "plt.plot([2./alpha, 2./alpha], \n",
    "         [lamb_min_FE - 0.05*(lamb_max_FE - lamb_min_FE), \n",
    "         lamb_max_FE + 0.05*(lamb_max_FE - lamb_min_FE)], '-b', \\\n",
    "         label='$\\Delta t = 2 / \\\\alpha}$')\n",
    "plt.plot([dt_min, dt_max], [1., 1.], 'k--')\n",
    "plt.plot([dt_min, dt_max], [0., 0.], 'k--')\n",
    "plt.plot([dt_min, dt_max], [-1., -1.], 'k--')\n",
    "plt.plot(dt, lamb_FE, '-k', linewidth=3)\n",
    "plt.ylim(lamb_min_FE - 0.05*(lamb_max_FE - lamb_min_FE), \n",
    "         lamb_max_FE + 0.05*(lamb_max_FE - lamb_min_FE))\n",
    "plt.xlim(dt_min, dt_max)\n",
    "plt.ylabel('$\\lambda$', fontsize=20)\n",
    "plt.xlabel('$\\Delta \\, t$', fontsize=20)\n",
    "plt.legend(loc='lower left', fontsize = 16)\n",
    "plt.show()"
   ]
  },
  {
   "cell_type": "markdown",
   "metadata": {},
   "source": [
    "The Figure above shows that:\n",
    "\n",
    "1) $\\Delta t = \\frac{1}{\\alpha} \\Longrightarrow \\lambda = 0$\n",
    "\n",
    "\n",
    "2) $\\Delta t > \\frac{1}{\\alpha} \\Longrightarrow \\lambda < 0$\n",
    "\n",
    "\n",
    "3) $\\Delta t < \\frac{1}{\\alpha} \\Longrightarrow \\lambda > 0$\n",
    "\n",
    "\n",
    "4) $\\Delta t = \\frac{2}{\\alpha} \\Longrightarrow \\lambda = -1$\n",
    "\n",
    "\n",
    "5) $\\Delta t > \\frac{2}{\\alpha} \\Longrightarrow \\lambda < -1$\n",
    "\n",
    "\n",
    "6) $\\Delta t < \\frac{2}{\\alpha} \\Longrightarrow \\lambda > -1$"
   ]
  },
  {
   "cell_type": "markdown",
   "metadata": {},
   "source": [
    "resulting that \n",
    "\n",
    "* $0 < \\Delta t < \\frac{1}{\\alpha}$ produces meaningful solutions;\n",
    "\n",
    "\n",
    "* $\\frac{1}{\\alpha} < \\Delta t < \\frac{2}{\\alpha}$ produces decreasing oscillatory solutions;\n",
    "\n",
    "\n",
    "* $\\Delta t > \\frac{2}{\\alpha}$ produces growing oscillatory solutions."
   ]
  },
  {
   "cell_type": "markdown",
   "metadata": {},
   "source": [
    "### BE scheme ($\\theta$ = 1)"
   ]
  },
  {
   "cell_type": "markdown",
   "metadata": {},
   "source": [
    "$$\n",
    "\\lambda = \\frac{1}{1 + \\alpha \\, \\Delta t} \\: , \\quad \\alpha > 0 \\: , \\quad \\Delta t > 0 \\: .\n",
    "$$"
   ]
  },
  {
   "cell_type": "markdown",
   "metadata": {},
   "source": [
    "Notice that, due to the conditions $\\alpha > 0$ and $\\Delta t > 0$, the condition $0 < \\lambda < 1$ is always satisfied and, consequently, the BE scheme produces meaningful solutions for any $\\Delta t$."
   ]
  },
  {
   "cell_type": "markdown",
   "metadata": {},
   "source": [
    "### CN scheme ($\\theta$ = $\\frac{1}{2}$)"
   ]
  },
  {
   "cell_type": "markdown",
   "metadata": {},
   "source": [
    "$$\n",
    "\\lambda = \\frac{1 - \\frac{1}{2}\\alpha \\, \\Delta t}{1 + \\frac{1}{2}\\alpha \\, \\Delta t} \\: , \\quad \\alpha > 0 \\: , \\quad \\Delta t > 0 \\: .\n",
    "$$"
   ]
  },
  {
   "cell_type": "markdown",
   "metadata": {},
   "source": [
    "Notice that, in this case, $\\lambda < 1$ for any $\\Delta t$. "
   ]
  },
  {
   "cell_type": "code",
   "execution_count": 4,
   "metadata": {},
   "outputs": [],
   "source": [
    "alpha = 2.71\n",
    "\n",
    "dt = np.linspace(0., 3./alpha, 21)\n",
    "\n",
    "dt_min = np.min(dt)\n",
    "dt_max = np.max(dt)\n",
    "\n",
    "lamb_CN = (1. - 0.5*alpha*dt)/(1. + 0.5*alpha*dt)\n",
    "\n",
    "lamb_max_CN = np.max(lamb_CN)\n",
    "lamb_min_CN = np.min(lamb_CN)"
   ]
  },
  {
   "cell_type": "code",
   "execution_count": 5,
   "metadata": {},
   "outputs": [
    {
     "data": {
      "image/png": "[encoded data removed]",
      "text/plain": [
       "<Figure size 576x432 with 1 Axes>"
      ]
     },
     "metadata": {
      "needs_background": "light"
     },
     "output_type": "display_data"
    }
   ],
   "source": [
    "plt.figure(figsize=(8,6))\n",
    "plt.title('$\\lambda = \\frac{1 + \\frac{1}{2} \\\\alpha \\Delta t}{1 - \\frac{1}{2} \\\\alpha \\Delta t}$   |   $\\\\alpha$ = %.2f' % alpha, fontsize = 18)\n",
    "plt.plot([1./alpha, 1./alpha], \n",
    "         [lamb_min_CN - 0.05*(lamb_max_CN - lamb_min_CN), \n",
    "         lamb_max_CN + 0.05*(lamb_max_CN - lamb_min_CN)], '-r', \\\n",
    "         label='$\\Delta t = 1 / \\\\alpha}$')\n",
    "plt.plot([2./alpha, 2./alpha], \n",
    "         [lamb_min_CN - 0.05*(lamb_max_CN - lamb_min_CN), \n",
    "         lamb_max_CN + 0.05*(lamb_max_CN - lamb_min_CN)], '-b', \\\n",
    "         label='$\\Delta t = 2 / \\\\alpha}$')\n",
    "plt.plot([dt_min, dt_max], [1., 1.], 'k--')\n",
    "plt.plot([dt_min, dt_max], [0., 0.], 'k--')\n",
    "plt.plot([dt_min, dt_max], [-1., -1.], 'k--')\n",
    "plt.plot(dt, lamb_CN, '-k', linewidth=3)\n",
    "plt.ylim(lamb_min_CN - 0.05*(lamb_max_CN - lamb_min_CN), \n",
    "         lamb_max_CN + 0.05*(lamb_max_CN - lamb_min_CN))\n",
    "plt.xlim(dt_min, dt_max)\n",
    "plt.ylabel('$\\lambda$', fontsize=20)\n",
    "plt.xlabel('$\\Delta \\, t$', fontsize=20)\n",
    "plt.legend(loc='center right', fontsize = 16)\n",
    "plt.show()"
   ]
  },
  {
   "cell_type": "markdown",
   "metadata": {},
   "source": [
    "The Figure above shows that:\n",
    "\n",
    "1) $\\Delta t = \\frac{2}{\\alpha} \\Longrightarrow \\lambda = 0$\n",
    "\n",
    "\n",
    "2) $\\Delta t > \\frac{2}{\\alpha} \\Longrightarrow \\lambda < 0$\n",
    "\n",
    "\n",
    "3) $\\Delta t < \\frac{2}{\\alpha} \\Longrightarrow \\lambda > 0$"
   ]
  },
  {
   "cell_type": "markdown",
   "metadata": {},
   "source": [
    "resulting that \n",
    "\n",
    "* $0 < \\Delta t < \\frac{2}{\\alpha}$ produces meaningful solutions;\n",
    "\n",
    "\n",
    "* $\\Delta t > \\frac{2}{\\alpha}$ produces decreasing oscillatory solutions."
   ]
  },
  {
   "cell_type": "markdown",
   "metadata": {},
   "source": [
    "### Summary of the stability properties"
   ]
  },
  {
   "cell_type": "markdown",
   "metadata": {},
   "source": [
    "| Scheme |   Stability with respect to growing solutions   |   Stabilyty with respect to oscillatory solutions   |\n",
    "|:------:|:-----------------------------------------------:|:---------------------------------------------------:|\n",
    "|FE|CS$^{\\dagger}$ with criterion $\\Delta t < \\frac{1}{\\alpha}$ |CS$^{\\dagger}$ with criterion $\\Delta t < \\frac{2}{\\alpha}$|\n",
    "| BE     |                  US$^{\\ddagger}$                |                US$^{\\ddagger}$                      |\n",
    "| CN     |                US$^{\\ddagger}$           | CS$^{\\dagger}$ with criterion $\\Delta t < \\frac{2}{\\alpha}$|\n",
    "\n",
    "\n",
    "$^{\\dagger}$ *Conditionally Stable*, $^{\\ddagger}$ *Unconditionally Stable*"
   ]
  },
  {
   "cell_type": "markdown",
   "metadata": {},
   "source": [
    "This table summarizes the stability properties of the schemes FE, BE, and CN with respect to growing and oscillatory solutions. For example, this Table shows that the FE scheme is *conditionally stable* with respect to growing solution and that $\\Delta t < \\frac{1}{\\alpha}$ is the criterion for avoiding growing solutions. On the other hand, the BE scheme is *unconditionally stable* with respect to both growing and oscillatory solutions, which means that this scheme cannot produce neither growing nor oscillatory solutions."
   ]
  },
  {
   "cell_type": "markdown",
   "metadata": {},
   "source": [
    "## Generalizations"
   ]
  },
  {
   "cell_type": "markdown",
   "metadata": {},
   "source": [
    "The exponential decay EDO can be generalized by including a variable coefficient $\\alpha(t)$ and a source term $f(t)$ as follows:"
   ]
  },
  {
   "cell_type": "markdown",
   "metadata": {},
   "source": [
    "$$\n",
    "u^{\\prime}(t) = -\\alpha(t) \\, u(t) + f(t) \\: , \\quad 0 > t < T \\: .\n",
    "$$"
   ]
  },
  {
   "cell_type": "markdown",
   "metadata": {},
   "source": [
    "In this case, the algorithm is modified according to the cell below:"
   ]
  },
  {
   "cell_type": "markdown",
   "metadata": {},
   "source": [
    "$$\n",
    "u^{n+1} = \\frac{\\left[ 1 - \\left( \\, 1 - \\theta \\, \\right) \\alpha^{\\, n} \\Delta t \\right] u^{n} +\n",
    "\\Delta t \\, \\left[ \\left( \\, 1 - \\theta \\, \\right) f^{n} + \\theta \\, f^{n+1} \\right] }\n",
    "{1 + \\theta \\, \\alpha^{\\, n+1} \\Delta t} \\: ,\n",
    "$$"
   ]
  },
  {
   "cell_type": "markdown",
   "metadata": {},
   "source": [
    "where $\\alpha^{\\, n} \\approx \\alpha(t_{n})$, $\\alpha^{\\, n+1} \\approx \\alpha(t_{n+1})$, $f^{n} \\approx f(t_{n})$, and $f^{n+1} \\approx f(t_{n+1})$."
   ]
  },
  {
   "cell_type": "markdown",
   "metadata": {},
   "source": [
    "For readers interested in more generalizations, I recommend see the section [Generalizations](https://hplgit.github.io/decay-book/doc/pub/book/sphinx/._book006.html#generalizations) of the Professor Hans' book."
   ]
  },
  {
   "cell_type": "markdown",
   "metadata": {},
   "source": [
    "### Exercise"
   ]
  },
  {
   "cell_type": "markdown",
   "metadata": {},
   "source": [
    "1. Use the code implemented in the part 1 for verifying the stability conditions of the FE, Be, and CN schemes.\n",
    "2. Modify the code implemented in the part 1 for including a variable coefficient and a term source.\n",
    "3. Test the new code with a [constant solution](https://hplgit.github.io/decay-book/doc/pub/book/sphinx/._book006.html#verifying-a-constant-solution) and a [linear solution](https://hplgit.github.io/decay-book/doc/pub/book/sphinx/._book006.html#verification-via-manufactured-solutions)."
   ]
  },
  {
   "cell_type": "code",
   "execution_count": null,
   "metadata": {},
   "outputs": [],
   "source": []
  }
 ],
 "metadata": {
  "kernelspec": {
   "display_name": "Python 2",
   "language": "python",
   "name": "python2"
  },
  "language_info": {
   "codemirror_mode": {
    "name": "ipython",
    "version": 2
   },
   "file_extension": ".py",
   "mimetype": "text/x-python",
   "name": "python",
   "nbconvert_exporter": "python",
   "pygments_lexer": "ipython2",
   "version": "2.7.16"
  }
 },
 "nbformat": 4,
 "nbformat_minor": 1
}
