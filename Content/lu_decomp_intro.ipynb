{
 "cells": [
  {
   "cell_type": "markdown",
   "metadata": {},
   "source": [
    "# LU decomposition - introduction"
   ]
  },
  {
   "cell_type": "markdown",
   "metadata": {},
   "source": [
    "The [LU decomposition](https://en.wikipedia.org/wiki/LU_decomposition) was introduced by no other than [Alan Turing](https://en.wikipedia.org/wiki/Alan_Turing), in his paper [Rounding-off errors in matrix processes, The Quarterly Journal of Mechanics and Applied Mathematics, 1: 287–308. doi:10.1093/qjmam/1.1.287](http://dx.doi.org/10.1093/qjmam/1.1.287). The LU decomposition is a factorization process that describes a matrix as product  $\\mathbf{A} = \\mathbf{L} \\mathbf{U}$, were $\\mathbf{L}$ is a unit triangular matrix (i.e., all the entries of its main diagonal are equal to one) and $\\mathbf{U}$ is a upper triangular matrix. In his paper, Turing showed, among other things, how the Gaussian elimination enshrines the LU decompositon."
   ]
  },
  {
   "cell_type": "markdown",
   "metadata": {},
   "source": [
    "Let's firts recall the $3 \\times 3$ linear system $\\mathbf{A}\\mathbf{x} = \\mathbf{y}$ presented in our last classes:"
   ]
  },
  {
   "cell_type": "code",
   "execution_count": 1,
   "metadata": {
    "collapsed": true
   },
   "outputs": [],
   "source": [
    "import numpy as np\n",
    "from scipy.linalg import lu"
   ]
  },
  {
   "cell_type": "code",
   "execution_count": 2,
   "metadata": {
    "collapsed": true
   },
   "outputs": [],
   "source": [
    "A = np.array([[2.,1.,-1.],\n",
    "              [-3.,-1.,2.],\n",
    "              [-2.,1.,2.]])"
   ]
  },
  {
   "cell_type": "code",
   "execution_count": 3,
   "metadata": {
    "collapsed": true
   },
   "outputs": [],
   "source": [
    "y = np.array([8., -11., -3.])"
   ]
  },
  {
   "cell_type": "markdown",
   "metadata": {},
   "source": [
    "The solution of this system is given by:"
   ]
  },
  {
   "cell_type": "code",
   "execution_count": 4,
   "metadata": {
    "collapsed": true
   },
   "outputs": [],
   "source": [
    "x = np.linalg.solve(A,y)"
   ]
  },
  {
   "cell_type": "code",
   "execution_count": 5,
   "metadata": {
    "collapsed": false
   },
   "outputs": [
    {
     "name": "stdout",
     "output_type": "stream",
     "text": [
      "[ 2.  3. -1.]\n"
     ]
    }
   ],
   "source": [
    "print x"
   ]
  },
  {
   "cell_type": "markdown",
   "metadata": {},
   "source": [
    "Consider the solution of this linear system by using the Gaussian elimination without pivoting, as follows:"
   ]
  },
  {
   "cell_type": "markdown",
   "metadata": {},
   "source": [
    "$$\n",
    "\\begin{array}{ccccc}\n",
    "\\mathbf{A}^{(0)} = \\mathbf{A} & & & \\mathbf{y}^{(0)} = \\mathbf{y} \\\\\\\\\n",
    "\\mathbf{A}^{(1)} = \\left(\\mathbf{I} - \\mathbf{M}^{(1)}\\right) \\mathbf{A}^{(0)} & & &\n",
    "\\mathbf{y}^{(1)} = \\left(\\mathbf{I} - \\mathbf{M}^{(1)}\\right) \\mathbf{y}^{(0)} \\\\\\\\\n",
    "\\mathbf{A}^{(2)} = \\left(\\mathbf{I} - \\mathbf{M}^{(2)}\\right) \\mathbf{A}^{(1)} & & &\n",
    "\\mathbf{y}^{(2)} = \\left(\\mathbf{I} - \\mathbf{M}^{(2)}\\right) \\mathbf{y}^{(1)}\n",
    "\\end{array} \\: ,$$"
   ]
  },
  {
   "cell_type": "markdown",
   "metadata": {},
   "source": [
    "where $\\mathbf{M}^{(k)}$ is a matrix given by"
   ]
  },
  {
   "cell_type": "markdown",
   "metadata": {},
   "source": [
    "$$\\mathbf{M}^{(k)} = \\mathbf{t}^{(k)} \\otimes (\\mathbf{u}^{(k)})^{\\top} \\: ,$$"
   ]
  },
  {
   "cell_type": "markdown",
   "metadata": {},
   "source": [
    "$\\mathbf{u}^{(k)}$ is a $3 \\times 1$ vector with all elements equal to $0$, except the $k$th element, which is equal to $1$, and $\\mathbf{t}^{(k)}$ is a $3 \\times 1$ vector whose $i$th element $t_{i}^{(k)}$ is given by:"
   ]
  },
  {
   "cell_type": "markdown",
   "metadata": {},
   "source": [
    "$t_{i}^{(k)} = \\begin{cases} 0 & \\quad \\text{if } i \\le k \\\\\\\\ \\dfrac{a^{(k-1)}_{ik}}{a^{(k-1)}_{kk}} & \\quad \\text{if } i \\gt k\\\\ \\end{cases} \\: ,$"
   ]
  },
  {
   "cell_type": "markdown",
   "metadata": {},
   "source": [
    "where $a^{(k-1)}_{ij}$ is the $ij$ element of the matrix $\\mathbf{A}^{(k-1)}$."
   ]
  },
  {
   "cell_type": "markdown",
   "metadata": {},
   "source": [
    "At the end of this algorithm, the original matrix $\\mathbf{A}$ is transformed into an upper triangular matrix $\\mathbf{A}^{(2)}$."
   ]
  },
  {
   "cell_type": "markdown",
   "metadata": {},
   "source": [
    "Now, let's analyze the matrices $\\mathbf{M}^{(1)}$ and $\\mathbf{M}^{(2)}$. They are given by:"
   ]
  },
  {
   "cell_type": "code",
   "execution_count": null,
   "metadata": {
    "collapsed": true
   },
   "outputs": [],
   "source": []
  },
  {
   "cell_type": "code",
   "execution_count": null,
   "metadata": {
    "collapsed": true
   },
   "outputs": [],
   "source": []
  },
  {
   "cell_type": "code",
   "execution_count": null,
   "metadata": {
    "collapsed": true
   },
   "outputs": [],
   "source": []
  },
  {
   "cell_type": "code",
   "execution_count": null,
   "metadata": {
    "collapsed": true
   },
   "outputs": [],
   "source": []
  },
  {
   "cell_type": "markdown",
   "metadata": {},
   "source": [
    "The Gaussian elimination with partial pivoting can be implemented as follows:"
   ]
  },
  {
   "cell_type": "markdown",
   "metadata": {},
   "source": [
    "    N = y.size\n",
    "    C = np.hstack(np.copy(A), np.copy(y))\n",
    "    D = np.identity(N)\n",
    "    \n",
    "    for i = 1:N-1\n",
    "        \n",
    "        # permutation step (computation of C tilde)\n",
    "        p, C = np.permut(C, i)\n",
    "        D = D[p]\n",
    "        \n",
    "        # assert the pivot is nonzero\n",
    "        assert C[i,i] != 0., 'null pivot!'\n",
    "        \n",
    "        # calculate the Gauss multipliers and store them \n",
    "        # in the lower part of C\n",
    "        C[i+1:,i] = C[i+1:,i]/C[i,i]\n",
    "        \n",
    "        # zeroing of the elements in the ith column\n",
    "        C[i+1:,i+1:] = C[i+1:,i+1:] - outer(C[i+1:,i], C[i,i+1:])\n",
    "        \n",
    "    return C[:,:N], C[:,N]"
   ]
  },
  {
   "cell_type": "markdown",
   "metadata": {},
   "source": [
    "The permutation function can be defined as follows:"
   ]
  },
  {
   "cell_type": "markdown",
   "metadata": {},
   "source": [
    "    permut (C, i):\n",
    "        p = [j for j in range(C.shape[0])]\n",
    "        imax = i + np.argmax(np.abs(C[i:,i]))\n",
    "        if imax != i:\n",
    "            p[i], p[imax] = p[imax], p[i]\n",
    "    return p, C[p,:]"
   ]
  },
  {
   "cell_type": "markdown",
   "metadata": {},
   "source": [
    "### Exercise 14"
   ]
  },
  {
   "cell_type": "markdown",
   "metadata": {},
   "source": [
    "1. Implement the Gaussian elimination with partial pivoting to calculate the equivalent triangular system. The code must use the outer product function that was implemented in a previous class. The code must receive the matrix `A` and the vector `y` and return the matrix `B` and the vector `z`. The Gauss multipliers must be stored below the diagonal of `B`.\n",
    "\n",
    "2. Use the function implemented in a previous class for solving the equivalent (upper) triangular system `Bx = z`.\n",
    "\n",
    "3. Use the `code-template.ipynb` to test your code against `np.dot(A,y)`."
   ]
  },
  {
   "cell_type": "markdown",
   "metadata": {},
   "source": [
    "## Inverse matrices"
   ]
  },
  {
   "cell_type": "markdown",
   "metadata": {
    "collapsed": true
   },
   "source": [
    "Sometimes, we need to calculate the inverse of a matrix. The inverse of a $N \\times N$ matrix $\\mathbf{A}$ is commonly represented by $\\mathbf{A}^{-1}$. The inverse satisfies the following property:"
   ]
  },
  {
   "cell_type": "markdown",
   "metadata": {},
   "source": [
    "$$\n",
    "\\begin{split}\n",
    "\\mathbf{A}^{-1} \\mathbf{A} &= \\mathbf{I} \\\\\n",
    "\\mathbf{A} \\mathbf{A}^{-1} &= \\mathbf{I} \n",
    "\\end{split} \\: ,\n",
    "$$"
   ]
  },
  {
   "cell_type": "markdown",
   "metadata": {},
   "source": [
    "where $\\mathbf{I}$ represents the identity matrix."
   ]
  },
  {
   "cell_type": "markdown",
   "metadata": {},
   "source": [
    "The second equation presented above can be conveniently rewritten by using a column partition given by:"
   ]
  },
  {
   "cell_type": "markdown",
   "metadata": {},
   "source": [
    "$$\n",
    "\\mathbf{A} \n",
    "\\left[ \\mathbf{A}^{-1}\\left[ \\, : \\, , \\, 1  \\right] \\cdots \\mathbf{A}^{-1} \\left[ \\, : \\, , \\, N  \\right]  \\right] = \n",
    "\\left[ \\mathbf{u}_{1} \\cdots \\mathbf{u}_{N} \\right] \\: ,\n",
    "$$"
   ]
  },
  {
   "cell_type": "markdown",
   "metadata": {},
   "source": [
    "where $\\mathbf{u}_{i}$, $i = 1, \\dots, N$, is a $N \\times 1$ vector with all elements equal to zero, except the $i$th element, which is equal to $1$. The vectors $\\mathbf{A}^{-1}\\left[ \\, : \\, , \\, i  \\right]$ and $\\mathbf{u}_{i}$ represent the $i$th column of $\\mathbf{A}^{-1}$ and $\\mathbf{I}$, respectively. This equation can then be separated into $N$ linear systems:"
   ]
  },
  {
   "cell_type": "markdown",
   "metadata": {},
   "source": [
    "$$\n",
    "\\begin{split}\n",
    "\\mathbf{A} \\, \\mathbf{A}^{-1} \\left[ \\, : \\, , \\, 1 \\right] &= \\mathbf{u}_{1} \\\\\n",
    "\\mathbf{A} \\, \\mathbf{A}^{-1} \\left[ \\, : \\, , \\, 2 \\right] &= \\mathbf{u}_{2} \\\\\n",
    "\\vdots \\\\\n",
    "\\mathbf{A} \\, \\mathbf{A}^{-1} \\left[ \\, : \\, , \\, N \\right] &= \\mathbf{u}_{N}\n",
    "\\end{split} \\: .\n",
    "$$"
   ]
  },
  {
   "cell_type": "markdown",
   "metadata": {},
   "source": [
    "This equation shows that each column of the inverse matrix $\\mathbf{A}^{-1}$ can be calculated by solving a linear system."
   ]
  },
  {
   "cell_type": "markdown",
   "metadata": {},
   "source": [
    "### Exercise 15"
   ]
  },
  {
   "cell_type": "markdown",
   "metadata": {},
   "source": [
    "1. Use your Gauss elimination code for calculating the inverse of a matrix. The code must receive a matrix `A` and calculate its inverse, column by column.\n",
    "\n",
    "2. Use the `code-template.ipynb` to test your code against `np.inv(A)`."
   ]
  },
  {
   "cell_type": "code",
   "execution_count": null,
   "metadata": {
    "collapsed": true
   },
   "outputs": [],
   "source": []
  }
 ],
 "metadata": {
  "kernelspec": {
   "display_name": "Python 2",
   "language": "python",
   "name": "python2"
  },
  "language_info": {
   "codemirror_mode": {
    "name": "ipython",
    "version": 2
   },
   "file_extension": ".py",
   "mimetype": "text/x-python",
   "name": "python",
   "nbconvert_exporter": "python",
   "pygments_lexer": "ipython2",
   "version": "2.7.11"
  }
 },
 "nbformat": 4,
 "nbformat_minor": 0
}
