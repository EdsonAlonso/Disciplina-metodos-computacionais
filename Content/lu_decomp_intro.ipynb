{
 "cells": [
  {
   "cell_type": "markdown",
   "metadata": {},
   "source": [
    "# LU decomposition - introduction"
   ]
  },
  {
   "cell_type": "markdown",
   "metadata": {},
   "source": [
    "The [LU decomposition](https://en.wikipedia.org/wiki/LU_decomposition) was introduced by no other than [Alan Turing](https://en.wikipedia.org/wiki/Alan_Turing), in his paper [Rounding-off errors in matrix processes, Q. J. Mechanics Appl. Math. (1948) 1 (1): 287-308. doi: 10.1093/qjmam/1.1.287](http://dx.doi.org/10.1093/qjmam/1.1.287). The LU decomposition is a factorization process that describes a matrix $\\mathbf{A}$ as a product of a unit triangular matrix $\\mathbf{L}$ (i.e., all the entries of its main diagonal are equal to one) and an upper triangular matrix $\\mathbf{U}$. In his paper, Turing showed, among other things, how the Gaussian elimination enshrines the LU decompositon."
   ]
  },
  {
   "cell_type": "markdown",
   "metadata": {},
   "source": [
    "Let's first recall the $3 \\times 3$ linear system $\\mathbf{A}\\mathbf{x} = \\mathbf{y}$ presented in our last classes:"
   ]
  },
  {
   "cell_type": "code",
   "execution_count": 1,
   "metadata": {
    "collapsed": true
   },
   "outputs": [],
   "source": [
    "import numpy as np\n",
    "from scipy.linalg import lu"
   ]
  },
  {
   "cell_type": "code",
   "execution_count": 2,
   "metadata": {
    "collapsed": true
   },
   "outputs": [],
   "source": [
    "A = np.array([[2.,1.,-1.],\n",
    "              [-3.,-1.,2.],\n",
    "              [-2.,1.,2.]])"
   ]
  },
  {
   "cell_type": "code",
   "execution_count": 3,
   "metadata": {
    "collapsed": true
   },
   "outputs": [],
   "source": [
    "y = np.array([8., -11., -3.])"
   ]
  },
  {
   "cell_type": "markdown",
   "metadata": {},
   "source": [
    "The solution of this system is given by:"
   ]
  },
  {
   "cell_type": "code",
   "execution_count": 4,
   "metadata": {
    "collapsed": true
   },
   "outputs": [],
   "source": [
    "x = np.linalg.solve(A,y)"
   ]
  },
  {
   "cell_type": "code",
   "execution_count": 5,
   "metadata": {
    "collapsed": false
   },
   "outputs": [
    {
     "name": "stdout",
     "output_type": "stream",
     "text": [
      "[ 2.  3. -1.]\n"
     ]
    }
   ],
   "source": [
    "print x"
   ]
  },
  {
   "cell_type": "markdown",
   "metadata": {},
   "source": [
    "Consider the solution of this linear system by using the Gaussian elimination without pivoting."
   ]
  },
  {
   "cell_type": "markdown",
   "metadata": {},
   "source": [
    "$$\n",
    "\\begin{array}{ccccc}\n",
    "\\mathbf{A}^{(0)} = \\mathbf{A} & & & \\mathbf{y}^{(0)} = \\mathbf{y} \\\\\\\\\n",
    "\\mathbf{A}^{(1)} = \\left(\\mathbf{I} - \\mathbf{M}^{(1)}\\right) \\mathbf{A}^{(0)} & & &\n",
    "\\mathbf{y}^{(1)} = \\left(\\mathbf{I} - \\mathbf{M}^{(1)}\\right) \\mathbf{y}^{(0)} \\\\\\\\\n",
    "\\mathbf{A}^{(2)} = \\left(\\mathbf{I} - \\mathbf{M}^{(2)}\\right) \\mathbf{A}^{(1)} & & &\n",
    "\\mathbf{y}^{(2)} = \\left(\\mathbf{I} - \\mathbf{M}^{(2)}\\right) \\mathbf{y}^{(1)}\n",
    "\\end{array} \\: ,$$"
   ]
  },
  {
   "cell_type": "markdown",
   "metadata": {},
   "source": [
    "where $\\mathbf{M}^{(k)}$ is a matrix given by"
   ]
  },
  {
   "cell_type": "markdown",
   "metadata": {},
   "source": [
    "$$\\mathbf{M}^{(k)} = \\mathbf{t}^{(k)} \\otimes (\\mathbf{u}^{(k)})^{\\top} \\: ,$$"
   ]
  },
  {
   "cell_type": "markdown",
   "metadata": {},
   "source": [
    "$\\mathbf{u}^{(k)}$ is a $3 \\times 1$ vector with all elements equal to $0$, except the $k$th element, which is equal to $1$, and $\\mathbf{t}^{(k)}$ is a $3 \\times 1$ vector whose $i$th element $t_{i}^{(k)}$ is given by:"
   ]
  },
  {
   "cell_type": "markdown",
   "metadata": {},
   "source": [
    "$t_{i}^{(k)} = \\begin{cases} 0 & \\quad \\text{if } i \\le k \\\\\\\\ \\dfrac{a^{(k-1)}_{ik}}{a^{(k-1)}_{kk}} & \\quad \\text{if } i \\gt k\\\\ \\end{cases} \\: ,$"
   ]
  },
  {
   "cell_type": "markdown",
   "metadata": {},
   "source": [
    "where $a^{(k-1)}_{ij}$ is the $ij$ element of the matrix $\\mathbf{A}^{(k-1)}$."
   ]
  },
  {
   "cell_type": "markdown",
   "metadata": {},
   "source": [
    "At the end of this algorithm, the original matrix $\\mathbf{A}$ is transformed into an upper triangular matrix $\\mathbf{A}^{(2)}$."
   ]
  },
  {
   "cell_type": "markdown",
   "metadata": {},
   "source": [
    "Now, let's analyze the matrices $\\mathbf{M}^{(1)}$ and $\\mathbf{M}^{(2)}$. They are given by:"
   ]
  },
  {
   "cell_type": "markdown",
   "metadata": {
    "collapsed": true
   },
   "source": [
    "$$\n",
    "\\begin{split}\n",
    "\\mathbf{M}^{(1)} &= \\mathbf{t}^{(1)} \\otimes (\\mathbf{u}^{(1)})^{\\top}  \\\\\n",
    "&= \\left[ \n",
    "\\begin{array}{c}\n",
    "0 \\\\\n",
    "t_{2}^{(1)} \\\\\n",
    "t_{3}^{(1)}\n",
    "\\end{array} \\right] \\otimes \n",
    "\\left[ \\begin{array}{ccc}\n",
    "1 & 0 & 0\n",
    "\\end{array} \\right] \\\\\n",
    "&= \\left[ \\begin{array}{ccc}\n",
    "0 & 0 & 0 \\\\\n",
    "t_{2}^{(1)} & 0 & 0 \\\\\n",
    "t_{3}^{(1)} & 0 & 0\n",
    "\\end{array} \\right]\n",
    "\\end{split}\n",
    "$$"
   ]
  },
  {
   "cell_type": "markdown",
   "metadata": {
    "collapsed": true
   },
   "source": [
    "and, similarly, "
   ]
  },
  {
   "cell_type": "markdown",
   "metadata": {
    "collapsed": true
   },
   "source": [
    "$$\n",
    "\\begin{split}\n",
    "\\mathbf{M}^{(2)} &= \\mathbf{t}^{(2)} \\otimes (\\mathbf{u}^{(2)})^{\\top}  \\\\\n",
    "&= \\left[ \n",
    "\\begin{array}{c}\n",
    "0 \\\\\n",
    "0 \\\\\n",
    "t_{3}^{(2)}\n",
    "\\end{array} \\right] \\otimes \n",
    "\\left[ \\begin{array}{ccc}\n",
    "0 & 1 & 0\n",
    "\\end{array} \\right] \\\\\n",
    "&= \\left[ \\begin{array}{ccc}\n",
    "0 & 0 & 0 \\\\\n",
    "0 & 0 & 0 \\\\\n",
    "0 & t_{3}^{(2)} & 0\n",
    "\\end{array} \\right]\n",
    "\\end{split} \\: .\n",
    "$$"
   ]
  },
  {
   "cell_type": "markdown",
   "metadata": {
    "collapsed": true
   },
   "source": [
    "Notice that, according to the algorithm, the matrix $\\mathbf{A}^{(2)}$ can be written as follows:"
   ]
  },
  {
   "cell_type": "markdown",
   "metadata": {},
   "source": [
    "$$\n",
    "\\mathbf{A}^{(2)} = \\mathbf{Q} \\, \\mathbf{A} \\: ,\n",
    "$$"
   ]
  },
  {
   "cell_type": "markdown",
   "metadata": {},
   "source": [
    "were $\\mathbf{Q} = \\mathbf{Q}^{(2)} \\, \\mathbf{Q}^{(1)}$ is the product of the Gauss transformations, which are given by:"
   ]
  },
  {
   "cell_type": "markdown",
   "metadata": {},
   "source": [
    "$$\n",
    "\\begin{split}\n",
    "\\mathbf{Q}^{(1)} &= \\left( \\mathbf{I} - \\mathbf{M}^{(1)} \\right) \\\\\n",
    "\\mathbf{Q}^{(2)} &= \\left( \\mathbf{I} - \\mathbf{M}^{(2)} \\right)\n",
    "\\end{split} \\: .\n",
    "$$"
   ]
  },
  {
   "cell_type": "markdown",
   "metadata": {},
   "source": [
    "Then, the original matrix $\\mathbf{A}$ can be written as follows:"
   ]
  },
  {
   "cell_type": "markdown",
   "metadata": {},
   "source": [
    "$$\n",
    "\\mathbf{A} = \\mathbf{Q}^{-1} \\, \\mathbf{A}^{(2)} \\: ,\n",
    "$$"
   ]
  },
  {
   "cell_type": "markdown",
   "metadata": {},
   "source": [
    "where $\\mathbf{Q}^{-1} = \\mathbf{Q}^{(-1)} \\, \\mathbf{Q}^{(-2)}$. We know that $\\mathbf{A}^{(2)}$ is an upper triangular matrix. However, what about the matrix $\\mathbf{Q}^{-1}$? To answer this question, let's define a generic $\\mathbf{Q}^{(-k)}$. It can be shown that "
   ]
  },
  {
   "cell_type": "markdown",
   "metadata": {},
   "source": [
    "$$\n",
    "\\begin{split}\n",
    "\\mathbf{Q}^{(-k)} &=\n",
    "\\mathbf{I} + \\mathbf{M}^{(k)} \\\\\n",
    "&= \\mathbf{I} + \\mathbf{t}^{(k)} \\otimes \\left( \\mathbf{u}^{(k)} \\right)^{\\top}\n",
    "\\end{split} \\: .\n",
    "$$"
   ]
  },
  {
   "cell_type": "markdown",
   "metadata": {},
   "source": [
    "We can verify this equation by showing that the product $\\mathbf{Q}^{(k)} \\mathbf{Q}^{(-k)}$ equals to the identity, as follows:"
   ]
  },
  {
   "cell_type": "markdown",
   "metadata": {},
   "source": [
    "$$\n",
    "\\begin{split}\n",
    "\\mathbf{Q}^{(k)} \\mathbf{Q}^{(-k)}\n",
    "&= \\left[ \\mathbf{I} - \\mathbf{t}^{(k)} \\otimes \\left( \\mathbf{u}^{(k)} \\right)^{\\top} \\right] \\,\n",
    "\\left[ \\mathbf{I} + \\mathbf{t}^{(k)} \\otimes \\left( \\mathbf{u}^{(k)} \\right)^{\\top} \\right] \\\\\n",
    "&= \\mathbf{I} - \\mathbf{t}^{(k)} \\otimes \\left( \\mathbf{u}^{(k)} \\right)^{\\top}\n",
    "+ \\mathbf{t}^{(k)} \\otimes \\left( \\mathbf{u}^{(k)} \\right)^{\\top} -\n",
    "\\mathbf{t}^{(k)} \\otimes \\left( \\mathbf{u}^{(k)} \\right)^{\\top} \\, \\mathbf{t}^{(k)} \\otimes \\left( \\mathbf{u}^{(k)} \\right)^{\\top} \\\\\n",
    "&= \\mathbf{I} - \n",
    "\\mathbf{t}^{(k)} \\otimes \n",
    "\\underbrace{ \\left( \\mathbf{u}^{(k)} \\right)^{\\top} \\mathbf{t}^{(k)} }_{= \\, 0}\n",
    "\\otimes \\left( \\mathbf{u}^{(k)} \\right)^{\\top} \\\\\n",
    "&= \\mathbf{I}\n",
    "\\end{split} \\: .\n",
    "$$"
   ]
  },
  {
   "cell_type": "markdown",
   "metadata": {},
   "source": [
    "The third row of the equation above uses the fact that $\\left( \\mathbf{u}^{(k)} \\right)^{\\top} \\mathbf{t}^{(k)} = 0$. This property can be easily verified by noting that, while the $k$th element of $\\mathbf{u}^{(k)}$ is its only nonzero element, the $k$th element of $\\mathbf{t}^{(k)}$ is equal to zero. Consequently, the dot product equals to zero."
   ]
  },
  {
   "cell_type": "markdown",
   "metadata": {},
   "source": [
    "By using this result, we can write the matrix $\\mathbf{Q}^{-1}$ as follows:"
   ]
  },
  {
   "cell_type": "markdown",
   "metadata": {},
   "source": [
    "$$\n",
    "\\begin{split}\n",
    "\\mathbf{Q}^{-1}\n",
    "&= \\left[ \\mathbf{I} + \\mathbf{t}^{(1)} \\otimes \\left( \\mathbf{u}^{(1)} \\right)^{\\top} \\right]\n",
    "   \\left[ \\mathbf{I} + \\mathbf{t}^{(2)} \\otimes \\left( \\mathbf{u}^{(2)} \\right)^{\\top} \\right] \\\\\n",
    "&= \\mathbf{I} + \\mathbf{t}^{(1)} \\otimes \\left( \\mathbf{u}^{(1)} \\right)^{\\top} +\n",
    "   \\mathbf{t}^{(2)} \\otimes \\left( \\mathbf{u}^{(2)} \\right)^{\\top} + \n",
    "   \\mathbf{t}^{(1)} \\otimes \n",
    "   \\underbrace{ \\left( \\mathbf{u}^{(1)} \\right)^{\\top} \\mathbf{t}^{(2)}}_{= \\, 0}\n",
    "   \\otimes \\left( \\mathbf{u}^{(2)} \\right)^{\\top} \\\\\n",
    "&= \\mathbf{I} + \\mathbf{t}^{(1)} \\otimes \\left( \\mathbf{u}^{(1)} \\right)^{\\top} +\n",
    "   \\mathbf{t}^{(2)} \\otimes \\left( \\mathbf{u}^{(2)} \\right)^{\\top} \\\\\n",
    "&= \n",
    "\\left[ \\begin{array}{ccc}\n",
    "1 & 0 & 0 \\\\\n",
    "0 & 1 & 0 \\\\\n",
    "0 & 0 & 1\n",
    "\\end{array} \\right] +\n",
    "\\left[ \\begin{array}{ccc}\n",
    "0 & 0 & 0 \\\\\n",
    "t_{2}^{(1)} & 0 & 0 \\\\\n",
    "t_{3}^{(1)} & 0 & 0\n",
    "\\end{array} \\right] +\n",
    "\\left[ \\begin{array}{ccc}\n",
    "0 & 0 & 0 \\\\\n",
    "0 & 0 & 0 \\\\\n",
    "0 & t_{3}^{(2)} & 0\n",
    "\\end{array} \\right] \\\\\n",
    "&=\n",
    "\\left[ \\begin{array}{ccc}\n",
    "1 & 0 & 0 \\\\\n",
    "t_{2}^{(1)} & 1 & 0 \\\\\n",
    "t_{3}^{(1)} & t_{3}^{(2)} & 1\n",
    "\\end{array} \\right]\n",
    "\\end{split} \\: ,\n",
    "$$"
   ]
  },
  {
   "cell_type": "markdown",
   "metadata": {},
   "source": [
    "which is a unit **L**ower triangular matrix containing the Gauss multipliers. Because of that, $\\mathbf{Q}^{-1}$ is commonly defined as $\\mathbf{L}$. Similarly, the **U**pper triangular matrix $\\mathbf{A}^{(2)}$ is defined as $\\mathbf{U}$ and the original matrix $\\mathbf{A}$ is factored as follows:"
   ]
  },
  {
   "cell_type": "markdown",
   "metadata": {},
   "source": [
    "$$\n",
    "\\mathbf{A} = \\mathbf{L} \\, \\mathbf{U} \\: .\n",
    "$$"
   ]
  },
  {
   "cell_type": "markdown",
   "metadata": {},
   "source": [
    "The mathematical development presented here is valid for $3 \\times 3$ matrices, however, it can be easily generalized to $N \\times N$ matrices as well."
   ]
  },
  {
   "cell_type": "markdown",
   "metadata": {},
   "source": [
    "The LU decomposition described above can be implemented as follows:"
   ]
  },
  {
   "cell_type": "markdown",
   "metadata": {},
   "source": [
    "    N = y.size\n",
    "    C = np.copy(A)\n",
    "    \n",
    "    for i = 1:N-1\n",
    "        \n",
    "        # assert the pivot is nonzero\n",
    "        assert C[i,i] != 0., 'null pivot!'\n",
    "        \n",
    "        # calculate the Gauss multipliers and store them \n",
    "        # in the lower part of C\n",
    "        C[i+1:,i] = C[i+1:,i]/C[i,i]\n",
    "        \n",
    "        # zeroing of the elements in the ith column\n",
    "        C[i+1:,i+1:] = C[i+1:,i+1:] - outer(C[i+1:,i], C[i,i+1:])\n",
    "        \n",
    "    return C"
   ]
  },
  {
   "cell_type": "markdown",
   "metadata": {},
   "source": [
    "This algorithm receives a square matrix $\\mathbf{A}$ and returns a matrix $\\mathbf{C}$ containing the triangular matrices $\\mathbf{L}$ and $\\mathbf{U}$. The elements of $\\mathbf{L}$, except the unitary elements of its main diagonal, are stored below the main diagonal of $\\mathbf{C}$. The elements of $\\mathbf{U}$ are stored in the upper part of $\\mathbf{C}$, including its main diagonal."
   ]
  },
  {
   "cell_type": "markdown",
   "metadata": {},
   "source": [
    "## Solving a linear system by using the LU decomposition"
   ]
  },
  {
   "cell_type": "markdown",
   "metadata": {},
   "source": [
    "Once the triangular matrices $\\mathbf{L}$ and $\\mathbf{U}$ are calculated, we may use them to solve a linear system $\\mathbf{A} \\mathbf{x} = \\mathbf{y}$. Let's first substitute the LU decomposition into the linear system:"
   ]
  },
  {
   "cell_type": "markdown",
   "metadata": {},
   "source": [
    "$$\n",
    "\\begin{split}\n",
    "\\mathbf{A} \\mathbf{x} &= \\mathbf{y} \\\\\n",
    "\\mathbf{L} \\mathbf{U} \\mathbf{x} &= \\mathbf{y}\n",
    "\\end{split} \\: .\n",
    "$$"
   ]
  },
  {
   "cell_type": "markdown",
   "metadata": {},
   "source": [
    "This equation shows that the original linear system can be represented by two triangular systems:"
   ]
  },
  {
   "cell_type": "markdown",
   "metadata": {},
   "source": [
    "$$\n",
    "\\begin{split}\n",
    "\\mathbf{L}\\mathbf{w} &= \\mathbf{y} \\\\\n",
    "\\mathbf{U}\\mathbf{x} &= \\mathbf{w}\n",
    "\\end{split} \\: ,\n",
    "$$"
   ]
  },
  {
   "cell_type": "markdown",
   "metadata": {},
   "source": [
    "where $\\mathbf{w}$ is a dummy variable. Therefore, the linear system can be solved in two steps: 1) solve the lower triangular system for $\\mathbf{w}$ and then 2) use it to solve the upper triangular system for $\\mathbf{x}$."
   ]
  },
  {
   "cell_type": "markdown",
   "metadata": {
    "collapsed": true
   },
   "source": [
    "## Existence of the LU decomposition"
   ]
  },
  {
   "cell_type": "markdown",
   "metadata": {},
   "source": [
    "The LU decomposition may not exist. Based on our previous classes, it is relatively easy to notice that the existence of the LU decomposition requires all the pivots be nonzero. However, there is a formal definition of the conditions under which the LU decomposition exists (Golub and Van Loan, 2013):"
   ]
  },
  {
   "cell_type": "markdown",
   "metadata": {},
   "source": [
    "THEOREM: If $\\mathbf{A} \\in \\mathbb{R}^{N \\times N}$ and $\\text{det} \\left( \\mathbf{A} \\left[1:k \\, , 1:k \\right] \\right) \\ne 0$ for $k = 1 : N-1$, then there exists a lower triangular matrix $\\mathbf{L} \\in \\mathbb{R}^{N \\times N}$ and an upper triangular matrix $\\mathbf{U} \\in \\mathbb{R}^{N \\times N}$ such that $\\mathbf{A} = \\mathbf{L} \\mathbf{U}$. If this is the case and $\\mathbf{A}$ is nonsingular, then the factorization is unique and $\\text{det} \\left( \\mathbf{A} \\right) = u_{11} \\cdots u_{NN}$."
   ]
  },
  {
   "cell_type": "markdown",
   "metadata": {
    "collapsed": true
   },
   "source": [
    "### Exercise 16"
   ]
  },
  {
   "cell_type": "markdown",
   "metadata": {},
   "source": [
    "1. Implement the LU decomposition presented above. The code must receive a matrix `A` and calculate the matrices `L` and `U`.\n",
    "\n",
    "2. Use the calculated matrices `L` and `U` for solving a linear system `Ax = y`. The code must use the functions you have created for solving lower and upper triangular systems.\n",
    "\n",
    "3. Use the `numpy.allclose` to compare (a) the original matrix `A` to the product `LU` and (b) the solution of the linear system  obtained by your LU code to the solution obtained by `numpy.solve(A,y)`."
   ]
  },
  {
   "cell_type": "code",
   "execution_count": null,
   "metadata": {
    "collapsed": true
   },
   "outputs": [],
   "source": []
  }
 ],
 "metadata": {
  "kernelspec": {
   "display_name": "Python 2",
   "language": "python",
   "name": "python2"
  },
  "language_info": {
   "codemirror_mode": {
    "name": "ipython",
    "version": 2
   },
   "file_extension": ".py",
   "mimetype": "text/x-python",
   "name": "python",
   "nbconvert_exporter": "python",
   "pygments_lexer": "ipython2",
   "version": "2.7.11"
  }
 },
 "nbformat": 4,
 "nbformat_minor": 0
}
