{
 "cells": [
  {
   "cell_type": "markdown",
   "metadata": {},
   "source": [
    "# Vector norms"
   ]
  },
  {
   "cell_type": "markdown",
   "metadata": {},
   "source": [
    "Let $\\mathbf{x}$ be a $N \\times 1$ vector given by:"
   ]
  },
  {
   "cell_type": "markdown",
   "metadata": {},
   "source": [
    "$$\n",
    "\\mathbf{x} = \\begin{bmatrix}\n",
    "x_{1} \\\\\n",
    "x_{2} \\\\\n",
    "\\vdots \\\\\n",
    "x_{N}\n",
    "\\end{bmatrix}_{\\, N \\times 1} \\quad .\n",
    "$$"
   ]
  },
  {
   "cell_type": "markdown",
   "metadata": {},
   "source": [
    "A [vector norm](http://mathworld.wolfram.com/VectorNorm.html) is a scalar function $f(\\mathbf{x})$ satisfying the folllowing conditions:\n",
    "\n",
    "$$\n",
    "\\begin{split}\n",
    "f(\\mathbf{x}) > 0 &, \\quad \\mathbf{x} \\in \\mathbb{R}^{n}, \\quad f(\\mathbf{x}) = 0 \\:\\: \\text{iff} \\:\\: x_{i} = 0, \\quad \\forall \\: i \\\\\n",
    "f(\\mathbf{x} + \\mathbf{y}) \\leq f(\\mathbf{x}) + f(\\mathbf{y}) &, \\quad \\mathbf{x}, \\mathbf{y} \\in \\mathbb{R}^{n} \\\\\n",
    "f(\\alpha \\, \\mathbf{x}) \\leq \\: \\mid \\alpha \\mid \\, f(\\mathbf{x}) &, \\quad \\mathbf{x} \\in \\mathbb{R}^{n}, \\:\\: \\alpha \\in \\mathbb{R}\n",
    "\\end{split}\n",
    "$$"
   ]
  },
  {
   "cell_type": "markdown",
   "metadata": {},
   "source": [
    "There is a useful class of norms called *p-norms*:\n",
    "\n",
    "$$\n",
    "\\begin{split}\n",
    "f_{p}(\\mathbf{x}) \n",
    "&= \\| \\mathbf{x} \\|_{p} \\\\\n",
    "&= \\left( \\, \\mid x_{1} \\mid^{p} + \\cdots + \\mid x_{N} \\mid^{p} \\, \\right)^{\\frac{1}{p}}, \\quad p \\leq 1\n",
    "\\end{split}\n",
    "$$"
   ]
  },
  {
   "cell_type": "markdown",
   "metadata": {},
   "source": [
    "There are three important $p$-norms: "
   ]
  },
  {
   "cell_type": "markdown",
   "metadata": {},
   "source": [
    "#### 2-norm\n",
    "\n",
    "$$\n",
    "\\begin{split}\n",
    "\\| \\mathbf{x} \\|_{2} \n",
    "&= \\left( \\, \\mid x_{1} \\mid^{2} + \\cdots + \\mid x_{N} \\mid^{2} \\, \\right)^{\\frac{1}{2}}\n",
    "&= \\sqrt{\\left( \\mathbf{x}^{\\top}\\mathbf{x} \\right)}\n",
    "\\end{split}\n",
    "$$"
   ]
  },
  {
   "cell_type": "markdown",
   "metadata": {},
   "source": [
    "#### 1-norm\n",
    "\n",
    "$$\n",
    "\\| \\mathbf{x} \\|_{1} = \\mid x_{1} \\mid + \\cdots + \\mid x_{N} \\mid\n",
    "$$"
   ]
  },
  {
   "cell_type": "markdown",
   "metadata": {},
   "source": [
    "#### $\\infty$-norm\n",
    "\n",
    "$$\n",
    "\\| \\mathbf{x} \\|_{\\infty} = \\max\\limits_{1 \\leq i \\leq N} \\, \\mid x_{i} \\mid\n",
    "$$"
   ]
  },
  {
   "cell_type": "markdown",
   "metadata": {},
   "source": [
    "### Exercise"
   ]
  },
  {
   "cell_type": "markdown",
   "metadata": {},
   "source": [
    "1. Create a function called `vec_norm` that receives a numpy array 1D and an interger defining the $p$-norm. \n",
    "2. Create three tests for this function"
   ]
  },
  {
   "cell_type": "code",
   "execution_count": null,
   "metadata": {},
   "outputs": [],
   "source": []
  }
 ],
 "metadata": {
  "kernelspec": {
   "display_name": "Python 3",
   "language": "python",
   "name": "python3"
  },
  "language_info": {
   "codemirror_mode": {
    "name": "ipython",
    "version": 3
   },
   "file_extension": ".py",
   "mimetype": "text/x-python",
   "name": "python",
   "nbconvert_exporter": "python",
   "pygments_lexer": "ipython3",
   "version": "3.6.8"
  }
 },
 "nbformat": 4,
 "nbformat_minor": 1
}
