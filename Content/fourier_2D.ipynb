{
 "cells": [
  {
   "cell_type": "markdown",
   "metadata": {},
   "source": [
    "# 2D Fourier Transform"
   ]
  },
  {
   "cell_type": "markdown",
   "metadata": {},
   "source": [
    "The Fourier Transform for functions depending on two variables $x$ and $y$ can be defined as follows:"
   ]
  },
  {
   "cell_type": "markdown",
   "metadata": {},
   "source": [
    "<a id='eq49'></a>\n",
    "\n",
    "$$\n",
    "G(u, v) = \\int \\limits_{-\\infty}^{\\infty} \\int \\limits_{-\\infty}^{\\infty} \n",
    "g(x, y) \\, e^{\\, -i \\, 2 \\, \\pi \\, \\left( u \\, x + v \\, y \\right)} \\; dx \\, dy \\tag{49}\n",
    "$$"
   ]
  },
  {
   "cell_type": "markdown",
   "metadata": {},
   "source": [
    "and the inverse Fourier Transform is given by:"
   ]
  },
  {
   "cell_type": "markdown",
   "metadata": {},
   "source": [
    "<a id='eq50'></a>\n",
    "\n",
    "$$\n",
    "g(x, y) = \\int \\limits_{-\\infty}^{\\infty} \\int \\limits_{-\\infty}^{\\infty} \n",
    "G(u, v) \\, e^{\\, i \\, 2 \\, \\pi \\, \\left( u \\, x + v \\, y \\right)} \\; du \\, dv  \\quad ,\\tag{50}\n",
    "$$"
   ]
  },
  {
   "cell_type": "markdown",
   "metadata": {},
   "source": [
    "where $u$ and $v$ are the coordinates in the Fourier domain."
   ]
  },
  {
   "cell_type": "markdown",
   "metadata": {
    "collapsed": true
   },
   "source": [
    "<a id='exercise'></a>\n",
    "\n",
    "### Exercise"
   ]
  },
  {
   "cell_type": "markdown",
   "metadata": {},
   "source": [
    "1. In your `my_function.py` file, create a function called `DFT_matrix`. The function must receive the positive integer $N$ and a string called `scale` representing the scale factor $s$. This string may assume three possible values: `None`, `'n'` or `'sqrtn'`. Your function must define the scale factor $s$ based on the string `scale`. Hint: the DFT matrix and can be defined by using `outer(n, n)`, where `n` is a vector with elements varying from `0` to `N-1`.\n",
    "2. In your file `test_my_function.py`, create three tests for the function `DFT_matrix`. One test must compare the result produced by `DFT_matrix` and an expected result produced by a specific input. The other test must compare the result produced by your function and the result produced by the routine [`scipy.linalg.dft`](https://docs.scipy.org/doc/scipy/reference/generated/scipy.linalg.dft.html). The last test must verify that $\\mathbf{W}$ satisfy the following conditions: $\\mathbf{W}^{\\ast} = \\mathbf{W}^{H}$, $\\mathbf{W}^{-1} = \\frac{1}{N} \\, \\mathbf{W}^{\\ast}$ and $N \\mathbf{I} = \\mathbf{W}^{H} \\mathbf{W}$.\n",
    "3. In your `my_function.py` file, create a function called `fft1D`. The function must receive the data vector $\\mathbf{g}$ and return its Discrete Fourier Transform. This function must create the DFT matrix $\\mathbf{W}$ ([equation 47](#eq47)) by using your function `DFT_matrix` and must compute the matrix-vector product by using your function `matvec_complex` (see the notebook `block_matrix.ipynb`).\n",
    "4. In your file `test_my_function.py`, create one test for the function `fft1D`. This test must compare the result produced by `fft1D` and the result produced by the routine [`scipy.fftpack.fft`](https://docs.scipy.org/doc/scipy/reference/generated/scipy.fftpack.fft.html#scipy.fftpack.fft).\n",
    "5. In your `my_function.py` file, create a function called `ifft1D`. The function must receive the complex vector $\\mathbf{G}$ and return its Discrete Inverse Fourier Transform. This function must create the DFT matrix $\\mathbf{W}$ ([equation 47](#eq47)) by using your function `DFT_matrix` and must compute the matrix-vector product by using your function `matvec_complex` (see the notebook `block_matrix.ipynb`). Hint: given a complex numpy array 2D `A`, its conjugate transpose is given by `np.conjugate(A).T`.\n",
    "6. In your file `test_my_function.py`, create one test for the function `ifft1D`. This test must compare the result produced by `ifft1D` and the result produced by the routine [`scipy.fftpack.ifft`](https://docs.scipy.org/doc/scipy/reference/generated/scipy.fftpack.ifft.html)."
   ]
  },
  {
   "cell_type": "code",
   "execution_count": 12,
   "metadata": {},
   "outputs": [],
   "source": [
    "N = 7"
   ]
  },
  {
   "cell_type": "code",
   "execution_count": 20,
   "metadata": {},
   "outputs": [],
   "source": [
    "W = dft(N, scale=None)"
   ]
  },
  {
   "cell_type": "code",
   "execution_count": 14,
   "metadata": {},
   "outputs": [],
   "source": [
    "A = np.dot(W, np.conjugate(W).T)"
   ]
  },
  {
   "cell_type": "code",
   "execution_count": 15,
   "metadata": {},
   "outputs": [
    {
     "data": {
      "text/plain": [
       "array([[ 7., -0., -0.,  0.,  0.,  0.,  0.],\n",
       "       [-0.,  7., -0., -0.,  0., -0.,  0.],\n",
       "       [-0., -0.,  7., -0.,  0., -0.,  0.],\n",
       "       [ 0., -0., -0.,  7.,  0., -0.,  0.],\n",
       "       [ 0.,  0.,  0.,  0.,  7., -0.,  0.],\n",
       "       [ 0., -0., -0., -0., -0.,  7., -0.],\n",
       "       [ 0.,  0.,  0.,  0., -0., -0.,  7.]])"
      ]
     },
     "execution_count": 15,
     "metadata": {},
     "output_type": "execute_result"
    }
   ],
   "source": [
    "np.round(A.real, decimals=10)"
   ]
  },
  {
   "cell_type": "code",
   "execution_count": 16,
   "metadata": {},
   "outputs": [
    {
     "data": {
      "text/plain": [
       "array([[ 0., -0.,  0.,  0.,  0.,  0.,  0.],\n",
       "       [ 0.,  0., -0.,  0., -0.,  0.,  0.],\n",
       "       [ 0.,  0.,  0.,  0.,  0., -0.,  0.],\n",
       "       [-0., -0., -0.,  0.,  0.,  0.,  0.],\n",
       "       [-0.,  0., -0., -0.,  0.,  0.,  0.],\n",
       "       [-0., -0.,  0.,  0., -0.,  0., -0.],\n",
       "       [-0., -0., -0., -0., -0.,  0.,  0.]])"
      ]
     },
     "execution_count": 16,
     "metadata": {},
     "output_type": "execute_result"
    }
   ],
   "source": [
    "np.round(A.imag, decimals=10)"
   ]
  },
  {
   "cell_type": "code",
   "execution_count": 17,
   "metadata": {},
   "outputs": [],
   "source": [
    "N = 10"
   ]
  },
  {
   "cell_type": "code",
   "execution_count": 18,
   "metadata": {},
   "outputs": [],
   "source": [
    "n = np.arange(N)"
   ]
  },
  {
   "cell_type": "code",
   "execution_count": 22,
   "metadata": {},
   "outputs": [
    {
     "data": {
      "text/plain": [
       "True"
      ]
     },
     "execution_count": 22,
     "metadata": {},
     "output_type": "execute_result"
    }
   ],
   "source": [
    "np.allclose(np.exp(-1j*2*np.pi*np.outer(n,n)/N), dft(N, scale=None))"
   ]
  },
  {
   "cell_type": "code",
   "execution_count": null,
   "metadata": {},
   "outputs": [],
   "source": []
  }
 ],
 "metadata": {
  "anaconda-cloud": {},
  "kernelspec": {
   "display_name": "Python 3",
   "language": "python",
   "name": "python3"
  },
  "language_info": {
   "codemirror_mode": {
    "name": "ipython",
    "version": 3
   },
   "file_extension": ".py",
   "mimetype": "text/x-python",
   "name": "python",
   "nbconvert_exporter": "python",
   "pygments_lexer": "ipython3",
   "version": "3.6.8"
  }
 },
 "nbformat": 4,
 "nbformat_minor": 1
}
