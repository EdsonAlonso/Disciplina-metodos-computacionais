{
 "cells": [
  {
   "cell_type": "markdown",
   "metadata": {},
   "source": [
    "# 2D Fourier Transform"
   ]
  },
  {
   "cell_type": "markdown",
   "metadata": {},
   "source": [
    "The Fourier Transform for functions depending on two variables $x$ and $y$ can be defined as follows:"
   ]
  },
  {
   "cell_type": "markdown",
   "metadata": {},
   "source": [
    "<a id='eq51'></a>\n",
    "\n",
    "$$\n",
    "G(u, v) = \\int \\limits_{-\\infty}^{\\infty} \\int \\limits_{-\\infty}^{\\infty} \n",
    "g(x, y) \\, e^{\\, -i \\, 2 \\, \\pi \\, \\left( u \\, x + v \\, y \\right)} \\; dx \\, dy \\tag{51}\n",
    "$$"
   ]
  },
  {
   "cell_type": "markdown",
   "metadata": {},
   "source": [
    "and the inverse Fourier Transform is given by:"
   ]
  },
  {
   "cell_type": "markdown",
   "metadata": {},
   "source": [
    "<a id='eq52'></a>\n",
    "\n",
    "$$\n",
    "g(x, y) = \\int \\limits_{-\\infty}^{\\infty} \\int \\limits_{-\\infty}^{\\infty} \n",
    "G(u, v) \\, e^{\\, i \\, 2 \\, \\pi \\, \\left( u \\, x + v \\, y \\right)} \\; du \\, dv  \\quad ,\\tag{52}\n",
    "$$"
   ]
  },
  {
   "cell_type": "markdown",
   "metadata": {},
   "source": [
    "where $u$ and $v$ are the coordinates in the Fourier domain."
   ]
  },
  {
   "cell_type": "markdown",
   "metadata": {},
   "source": [
    "<a id='eq53'></a>\n",
    "\n",
    "$$\n",
    "x_{j} = j \\, \\Delta x \\: , \\quad j = 0, \\dots, M-1 \\tag{53}\n",
    "$$"
   ]
  },
  {
   "cell_type": "markdown",
   "metadata": {},
   "source": [
    "<a id='eq54'></a>\n",
    "\n",
    "$$\n",
    "y_{k} = k \\, \\Delta y \\: , \\quad k = 0, \\dots, N-1 \\tag{54}\n",
    "$$"
   ]
  },
  {
   "cell_type": "markdown",
   "metadata": {},
   "source": [
    "<a id='eq55'></a>\n",
    "\n",
    "$$\n",
    "u_{m} = \\frac{m}{M \\, \\Delta x} \\: , \\quad m = -\\frac{M}{2}, \\dots, \\frac{M}{2} - 1 \\tag{55}\n",
    "$$"
   ]
  },
  {
   "cell_type": "markdown",
   "metadata": {},
   "source": [
    "<a id='eq56'></a>\n",
    "\n",
    "$$\n",
    "v_{n} = \\frac{n}{N \\, \\Delta y} \\: , \\quad n = -\\frac{N}{2}, \\dots, \\frac{N}{2} - 1 \\tag{56}\n",
    "$$"
   ]
  },
  {
   "cell_type": "markdown",
   "metadata": {},
   "source": [
    "<a id='eq57a'></a>\n",
    "\n",
    "$$\n",
    "\\begin{split}\n",
    "G(u_{m}, v_{n}) \n",
    "&\\approx \\sum\\limits_{j=0}^{M-1}\\sum\\limits_{k=0}^{N-1} g(x_{j},y_{k})e^{- i 2 \\pi (u_{m}x_{j} + v_{n}y_{k})} \n",
    "\\Delta x \\Delta y \\\\\n",
    "&\\approx \\Delta x \\Delta y \\sum\\limits_{j=0}^{M-1}\\sum\\limits_{k=0}^{N-1} g(x_{j},y_{k}) \n",
    "e^{- i 2 \\pi (\\frac{m j}{M} + \\frac{n k}{N})} \\\\\n",
    "&\\approx \\Delta x \\Delta y \\sum\\limits_{j=0}^{M-1}\\sum\\limits_{k=0}^{N-1} g_{jk} \n",
    "e^{- i 2 \\pi m j / M} e^{- i 2 \\pi n k / N} \\\\\n",
    "\\end{split} \\tag{57a}\n",
    "$$"
   ]
  },
  {
   "cell_type": "markdown",
   "metadata": {},
   "source": [
    "<a id='eq57b'></a>\n",
    "\n",
    "$$\n",
    "G_{mn} = \\sum\\limits_{j=0}^{M-1}\\sum\\limits_{k=0}^{N-1} g_{jk} e^{- i 2 \\pi m j / M} e^{- i 2 \\pi n k / N} \\tag{57b}\n",
    "$$"
   ]
  },
  {
   "cell_type": "markdown",
   "metadata": {},
   "source": [
    "where $G_{mn} \\equiv \\frac{G(u_{m}, v_{n})}{\\Delta x \\Delta y}$ ."
   ]
  },
  {
   "cell_type": "markdown",
   "metadata": {},
   "source": [
    "<a id='eq58'></a>\n",
    "\n",
    "$$\n",
    "\\mathbf{G} = \\mathbf{W}_{M} \\, \\mathbf{g} \\, \\mathbf{W}_{N} \\tag{58}\n",
    "$$"
   ]
  },
  {
   "cell_type": "markdown",
   "metadata": {},
   "source": [
    "<a id='eq59a'></a>\n",
    "\n",
    "$$\n",
    "\\begin{split}\n",
    "g_{jk} \n",
    "&\\approx \\sum\\limits_{m=-\\frac{M}{2}}^{\\frac{M}{2}-1}\\sum\\limits_{n=-\\frac{N}{2}}^{\\frac{N}{2}-1} \n",
    "G(u_{m},v_{n}) e^{i 2 \\pi (u_{m}x_{j} + v_{n}y_{k})} \n",
    "\\frac{1}{M \\, \\Delta x} \\frac{1}{N \\, \\Delta y} \\\\\n",
    "&\\approx \\frac{1}{M \\, N} \\sum\\limits_{m=-\\frac{M}{2}}^{\\frac{M}{2}-1}\\sum\\limits_{n=-\\frac{N}{2}}^{\\frac{N}{2}-1} \n",
    "\\frac{G(u_{m},v_{n})}{\\Delta x \\, \\Delta y}\n",
    "e^{i 2 \\pi (\\frac{m j}{M} + \\frac{n k}{N})} \\\\\n",
    "&\\approx \\frac{1}{M \\, N} \\sum\\limits_{m=-\\frac{M}{2}}^{\\frac{M}{2}-1}\\sum\\limits_{n=-\\frac{N}{2}}^{\\frac{N}{2}-1} \n",
    "G_{mn} \\, e^{i 2 \\pi m j / M} e^{i 2 \\pi n k / N} \\\\\n",
    "\\end{split} \\tag{59a}\n",
    "$$"
   ]
  },
  {
   "cell_type": "markdown",
   "metadata": {},
   "source": [
    "<a id='eq59b'></a>\n",
    "\n",
    "$$\n",
    "g_{jk} \\approx \\frac{1}{M \\, N}\\sum\\limits_{m=0}^{M-1}\\sum\\limits_{n=0}^{N-1} \n",
    "G_{mn} \\, e^{i 2 \\pi m j / M} e^{i 2 \\pi n k / N} \n",
    "\\tag{59b}\n",
    "$$"
   ]
  },
  {
   "cell_type": "markdown",
   "metadata": {},
   "source": [
    "<a id='eq60'></a>\n",
    "\n",
    "$$\n",
    "\\mathbf{g} = \\frac{1}{M \\, N} \\tilde{\\mathbf{W}}_{M} \\, \\mathbf{G} \\, \\tilde{\\mathbf{W}}_{N} \\tag{60}\n",
    "$$"
   ]
  },
  {
   "cell_type": "code",
   "execution_count": 1,
   "metadata": {},
   "outputs": [],
   "source": [
    "from scipy.linalg import dft\n",
    "import numpy as np"
   ]
  },
  {
   "cell_type": "code",
   "execution_count": 2,
   "metadata": {},
   "outputs": [],
   "source": [
    "from numpy.linalg import multi_dot as mdot"
   ]
  },
  {
   "cell_type": "code",
   "execution_count": 3,
   "metadata": {},
   "outputs": [],
   "source": [
    "from scipy.fftpack import fft2, ifft2"
   ]
  },
  {
   "cell_type": "code",
   "execution_count": 4,
   "metadata": {},
   "outputs": [],
   "source": [
    "N = 7\n",
    "M = 11"
   ]
  },
  {
   "cell_type": "code",
   "execution_count": 5,
   "metadata": {},
   "outputs": [],
   "source": [
    "WN = dft(N, scale=None)"
   ]
  },
  {
   "cell_type": "code",
   "execution_count": 6,
   "metadata": {},
   "outputs": [],
   "source": [
    "WM = dft(M, scale=None)"
   ]
  },
  {
   "cell_type": "code",
   "execution_count": 7,
   "metadata": {},
   "outputs": [],
   "source": [
    "A = np.random.rand(N, M)"
   ]
  },
  {
   "cell_type": "code",
   "execution_count": 8,
   "metadata": {},
   "outputs": [],
   "source": [
    "FTA = fft2(A)"
   ]
  },
  {
   "cell_type": "code",
   "execution_count": 9,
   "metadata": {},
   "outputs": [],
   "source": [
    "FTA2 = mdot([WN, A, WM])"
   ]
  },
  {
   "cell_type": "code",
   "execution_count": 10,
   "metadata": {},
   "outputs": [
    {
     "data": {
      "text/plain": [
       "True"
      ]
     },
     "execution_count": 10,
     "metadata": {},
     "output_type": "execute_result"
    }
   ],
   "source": [
    "np.allclose(FTA, FTA2)"
   ]
  },
  {
   "cell_type": "code",
   "execution_count": 11,
   "metadata": {},
   "outputs": [],
   "source": [
    "IFTA = ifft2(FTA)"
   ]
  },
  {
   "cell_type": "code",
   "execution_count": 12,
   "metadata": {},
   "outputs": [],
   "source": [
    "IFTA2 = (1/(N*M))*mdot([np.conjugate(WN), FTA2, np.conjugate(WM)])"
   ]
  },
  {
   "cell_type": "code",
   "execution_count": 13,
   "metadata": {},
   "outputs": [
    {
     "data": {
      "text/plain": [
       "True"
      ]
     },
     "execution_count": 13,
     "metadata": {},
     "output_type": "execute_result"
    }
   ],
   "source": [
    "np.allclose(IFTA, IFTA2)"
   ]
  },
  {
   "cell_type": "code",
   "execution_count": null,
   "metadata": {},
   "outputs": [],
   "source": []
  }
 ],
 "metadata": {
  "anaconda-cloud": {},
  "kernelspec": {
   "display_name": "Python 3",
   "language": "python",
   "name": "python3"
  },
  "language_info": {
   "codemirror_mode": {
    "name": "ipython",
    "version": 3
   },
   "file_extension": ".py",
   "mimetype": "text/x-python",
   "name": "python",
   "nbconvert_exporter": "python",
   "pygments_lexer": "ipython3",
   "version": "3.6.8"
  }
 },
 "nbformat": 4,
 "nbformat_minor": 1
}
