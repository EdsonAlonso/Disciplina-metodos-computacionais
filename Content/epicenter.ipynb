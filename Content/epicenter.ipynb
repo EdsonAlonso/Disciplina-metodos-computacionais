{
 "cells": [
  {
   "cell_type": "markdown",
   "metadata": {},
   "source": [
    "# Simple epicenter problem"
   ]
  },
  {
   "cell_type": "markdown",
   "metadata": {},
   "source": [
    "This notebook illustrates a simple method for estimating the horizontal coordinates of an epicenter."
   ]
  },
  {
   "cell_type": "markdown",
   "metadata": {},
   "source": [
    "## Geophysical problem"
   ]
  },
  {
   "cell_type": "markdown",
   "metadata": {},
   "source": [
    "An earthquake generates seismic waves that propagate in the subsusface and are detected by three of seismic stations, A, B and C (green triangles), located on the Earth's surface."
   ]
  },
  {
   "cell_type": "markdown",
   "metadata": {},
   "source": [
    "<img src='epicenter_figs\\fig1.png', width=700>"
   ]
  },
  {
   "cell_type": "markdown",
   "metadata": {
    "collapsed": true
   },
   "source": [
    "Let's consider that, at each station, there is a measure of the difference between the first arrivals of the P and S waves."
   ]
  },
  {
   "cell_type": "markdown",
   "metadata": {},
   "source": [
    "<img src='epicenter_figs\\fig2.png', width=700>"
   ]
  },
  {
   "cell_type": "markdown",
   "metadata": {},
   "source": [
    "## Parameterization and forward problem"
   ]
  },
  {
   "cell_type": "markdown",
   "metadata": {},
   "source": [
    "By considering that (i) the ray paths can be approximated by straight lines, (ii) the depth of the hypocenter can be negleted and also that (iii) the crust is homogeneous and isotropic, we can define a time difference $\\Delta t_{i}$, $i = A, B, C$, as a function of the:\n",
    "\n",
    "* seismic velocities $v_{P}$ and $v_{S}$;\n",
    "\n",
    "* station coordinates $x_{i}$ and $y_{i}$, $i = A, B, C$;\n",
    "\n",
    "* epicenter coordinates $x_{0}$ and $y_{0}$."
   ]
  },
  {
   "cell_type": "markdown",
   "metadata": {},
   "source": [
    "Here, we consider a Cartesian coordinate system in which $x$ points to North, $y$ points to East and $z$ points to the subsurface."
   ]
  },
  {
   "cell_type": "markdown",
   "metadata": {},
   "source": [
    "In this case, the time differences can be written as follows:"
   ]
  },
  {
   "cell_type": "markdown",
   "metadata": {},
   "source": [
    "$$\n",
    "\\Delta t_{i} (\\mathbf{p}) = \\alpha \\,\n",
    "\\left[ \\left( x_{i} - x_{0} \\right)^{2} + \\left( y_{i} - y_{0} \\right)^{2} \\right]^{\\frac{1}{2}} \\: ,\n",
    "$$"
   ]
  },
  {
   "cell_type": "markdown",
   "metadata": {},
   "source": [
    "where"
   ]
  },
  {
   "cell_type": "markdown",
   "metadata": {},
   "source": [
    "$$\n",
    "\\mathbf{p} = \n",
    "\\left[ \\begin{array}{c}\n",
    "x_{0} \\\\\n",
    "y_{0}\n",
    "\\end{array} \\right]\n",
    "$$"
   ]
  },
  {
   "cell_type": "markdown",
   "metadata": {},
   "source": [
    "contains the parameters to be estimated (parameter vector) and"
   ]
  },
  {
   "cell_type": "markdown",
   "metadata": {},
   "source": [
    "$$\n",
    "\\alpha = \\frac{1}{v_{S}} - \\frac{1}{v_{P}} \\: .\n",
    "$$"
   ]
  },
  {
   "cell_type": "markdown",
   "metadata": {},
   "source": [
    "From these equations, we obtain a predicted data vector given by:"
   ]
  },
  {
   "cell_type": "markdown",
   "metadata": {},
   "source": [
    "$$\n",
    "\\mathbf{\\Delta t}(\\mathbf{p}) =\n",
    "\\alpha \\, \\left[ \\begin{array}{c}\n",
    "\\Delta t_{A} (\\mathbf{p}) \\\\\n",
    "\\Delta t_{B} (\\mathbf{p}) \\\\\n",
    "\\Delta t_{C} (\\mathbf{p})\n",
    "\\end{array} \\right] \\: .\n",
    "$$"
   ]
  },
  {
   "cell_type": "markdown",
   "metadata": {},
   "source": [
    "## Synthetic data"
   ]
  },
  {
   "cell_type": "code",
   "execution_count": 1,
   "metadata": {
    "collapsed": true
   },
   "outputs": [],
   "source": [
    "%matplotlib inline\n",
    "import numpy as np\n",
    "from matplotlib import pyplot as plt"
   ]
  },
  {
   "cell_type": "markdown",
   "metadata": {},
   "source": [
    "#### Limits of the simulated study area"
   ]
  },
  {
   "cell_type": "code",
   "execution_count": 2,
   "metadata": {
    "collapsed": true
   },
   "outputs": [],
   "source": [
    "# limits of the study area in km\n",
    "xmin = 0.\n",
    "xmax = 100.\n",
    "ymin = -50.\n",
    "ymax = 50."
   ]
  },
  {
   "cell_type": "markdown",
   "metadata": {},
   "source": [
    "#### Seismic velocities"
   ]
  },
  {
   "cell_type": "code",
   "execution_count": 3,
   "metadata": {
    "collapsed": true
   },
   "outputs": [],
   "source": [
    "# seismic velocities in km/s\n",
    "vp = 6.5\n",
    "vs = 6.5/1.6"
   ]
  },
  {
   "cell_type": "markdown",
   "metadata": {},
   "source": [
    "#### Coordinates of the epicenter"
   ]
  },
  {
   "cell_type": "code",
   "execution_count": 5,
   "metadata": {
    "collapsed": true
   },
   "outputs": [],
   "source": [
    "# coordinates of the simulated epicenter in km\n",
    "p_true = np.array([50., 0.])"
   ]
  },
  {
   "cell_type": "markdown",
   "metadata": {},
   "source": [
    "#### Coordinates of the seismic stations"
   ]
  },
  {
   "cell_type": "code",
   "execution_count": 6,
   "metadata": {
    "collapsed": true
   },
   "outputs": [],
   "source": [
    "# coordinates of the seismic stations in km\n",
    "x = np.array([10., 80., 7.])\n",
    "\n",
    "y = np.array([-40., 0., 35.])"
   ]
  },
  {
   "cell_type": "code",
   "execution_count": 7,
   "metadata": {},
   "outputs": [
    {
     "data": {
      "image/png": "[encoded data removed]",
      "text/plain": [
       "<matplotlib.figure.Figure at 0x7f2d542c4250>"
      ]
     },
     "metadata": {},
     "output_type": "display_data"
    }
   ],
   "source": [
    "plt.figure(figsize=(8,6))\n",
    "plt.axis('scaled')\n",
    "plt.plot(y,x,'k^', markersize=14, label='Stations')\n",
    "plt.plot([p_true[1]], [p_true[0]], 'ro', markersize=14, label='True epicenter')\n",
    "plt.xlabel('y (km)', fontsize=14)\n",
    "plt.ylabel('x (km)', fontsize=14)\n",
    "plt.legend(loc='best', numpoints=1)\n",
    "plt.xticks(fontsize=12)\n",
    "plt.yticks(fontsize=12)\n",
    "plt.xlim(ymin,ymax)\n",
    "plt.ylim(xmin,xmax)\n",
    "plt.show()"
   ]
  },
  {
   "cell_type": "markdown",
   "metadata": {},
   "source": [
    "#### Synthetic data vector"
   ]
  },
  {
   "cell_type": "markdown",
   "metadata": {},
   "source": [
    "Let's simulate a time difference data set and store them into a vector `d`. This vector represents an observed data vector containing the measured time differences at each station."
   ]
  },
  {
   "cell_type": "code",
   "execution_count": 8,
   "metadata": {
    "collapsed": true
   },
   "outputs": [],
   "source": [
    "def data(vp,vs,x,y,p):\n",
    "    '''\n",
    "    input\n",
    "    vp: float - seismic velocity vp\n",
    "    vs: float - seismic velocity vs\n",
    "    x: numpy array - coordinates x of the sations\n",
    "    y: numpy array - coordinates y of the sations\n",
    "    p: numpy array - true parameter vector\n",
    "    \n",
    "    output\n",
    "    dt: numpy array - vector containing the simulated \n",
    "    time differences\n",
    "    '''\n",
    "    \n",
    "    assert (vp > vs), 'vp must be greater than vs'\n",
    "    \n",
    "    assert (x.size == y.size), 'x and y must have the same number of elements'\n",
    "    \n",
    "    assert (vp != 0.) and (vs != 0.), 'vp and vs must be different from zero'\n",
    "    \n",
    "    alfa = 1./vs - 1./vp\n",
    "    \n",
    "    return alfa*np.sqrt((x - p[0])**2 + (y - p[1])**2)"
   ]
  },
  {
   "cell_type": "code",
   "execution_count": 9,
   "metadata": {
    "collapsed": true
   },
   "outputs": [],
   "source": [
    "d = data(vp, vs, x, y, p_true)"
   ]
  },
  {
   "cell_type": "code",
   "execution_count": 10,
   "metadata": {},
   "outputs": [
    {
     "data": {
      "image/png": "[encoded data removed]",
      "text/plain": [
       "<matplotlib.figure.Figure at 0x7f2d544fa450>"
      ]
     },
     "metadata": {},
     "output_type": "display_data"
    }
   ],
   "source": [
    "plt.figure(figsize=(8,3))\n",
    "stations_label = ['A', 'B', 'C']\n",
    "stations = [1,2,3]\n",
    "\n",
    "plt.barh(stations, d, align='center', \n",
    "         color='r', alpha=0.6, label='Simulated data')\n",
    "plt.yticks(stations, stations_label, fontsize=18)\n",
    "plt.xticks(fontsize=14)\n",
    "plt.xlabel('$\\Delta t$ ($s$)', fontsize=18)\n",
    "plt.ylabel('Stations', fontsize=16)\n",
    "plt.grid()\n",
    "plt.legend(bbox_to_anchor=(0., 1.02, 1., .102), \n",
    "           loc=3, ncol=2, borderaxespad=0.)\n",
    "plt.show()"
   ]
  },
  {
   "cell_type": "markdown",
   "metadata": {},
   "source": [
    "#### Goal function"
   ]
  },
  {
   "cell_type": "markdown",
   "metadata": {},
   "source": [
    "The coordinates of the simulated epicenter can be estimated by estimating the parameter vector `p` minimizing the following goal function:"
   ]
  },
  {
   "cell_type": "markdown",
   "metadata": {},
   "source": [
    "$$\n",
    "\\Phi(\\mathbf{p}) = \\left[ \\mathbf{d} - \\mathbf{\\Delta t}(\\mathbf{p}) \\right]^{\\, \\top}\\left[ \\mathbf{d} - \\mathbf{\\Delta t}(\\mathbf{p}) \\right]\n",
    "$$"
   ]
  },
  {
   "cell_type": "markdown",
   "metadata": {},
   "source": [
    "This is a function depending on two parameters, which represent the Cartesian coordinates of the epicenter. It means that, given a point $(x_{0},y_{0})$, and consequently a vector $\\mathbf{p}$, we can calculate the function $\\Phi(\\mathbf{p})$. Then, if we define a grid of points $(x_{0},y_{0})$, each one representing a possible epicenter, we can calculate the goal function $\\Phi(\\mathbf{p})$ on a grid."
   ]
  },
  {
   "cell_type": "markdown",
   "metadata": {},
   "source": [
    "The grid of points representing possible epicenter can be defined as follows:"
   ]
  },
  {
   "cell_type": "code",
   "execution_count": 11,
   "metadata": {
    "collapsed": true
   },
   "outputs": [],
   "source": [
    "# number of points along the x and y axes\n",
    "Nx = 200\n",
    "Ny = 200"
   ]
  },
  {
   "cell_type": "code",
   "execution_count": 13,
   "metadata": {
    "collapsed": true
   },
   "outputs": [],
   "source": [
    "# grid of Nx by Ny points\n",
    "\n",
    "x0_grid = np.linspace(xmin, xmax, Nx) # numpy array 1D\n",
    "y0_grid = np.linspace(ymin, ymax, Ny) # numpy array 1D\n",
    "\n",
    "# use the numpy arrays 1D to create numpy arrays 2D\n",
    "x0_grid, y0_grid = np.meshgrid(x0_grid,y0_grid)"
   ]
  },
  {
   "cell_type": "code",
   "execution_count": 14,
   "metadata": {
    "collapsed": true
   },
   "outputs": [],
   "source": [
    "def goal_function(d,vp,vs,x,y,x0,y0):\n",
    "    '''\n",
    "    Calculates the goal function at a set of points (x0, y0).\n",
    "    \n",
    "    input\n",
    "    \n",
    "    d: numpy array 1D - observed time differences\n",
    "    vp: float - seismic velocity vp\n",
    "    vs: float - seismic velocity vs\n",
    "    x: numpy array - coordinates x of the stations\n",
    "    y: numpy array - coordinates y of the stations\n",
    "    x0: numpy array - coordinates x0 of the points at which the\n",
    "        goal function is calculated\n",
    "    y0: numpy array - coordinates y0 of the points at which the\n",
    "        goal function is calculated\n",
    "\n",
    "    output\n",
    "    phi: numpy array - vector containing the calculated goal function     \n",
    "    '''\n",
    "    \n",
    "    assert (vp > vs), 'vp must be greater than vs'\n",
    "    \n",
    "    assert (x.size == y.size), 'x and y must have the same number of elements'\n",
    "    \n",
    "    assert (vp != 0.) and (vs != 0.), 'vp and vs must be different from zero'\n",
    "    \n",
    "    alfa = 1./vs - 1./vp\n",
    "   \n",
    "    phi = np.zeros_like(x0)\n",
    "    for xs, ys, dt in zip(x, y, d):\n",
    "        phi += (dt - alfa*np.sqrt((xs - x0)**2 + (ys - y0)**2))**2\n",
    "    return phi"
   ]
  },
  {
   "cell_type": "code",
   "execution_count": 15,
   "metadata": {
    "collapsed": true
   },
   "outputs": [],
   "source": [
    "phi_grid = goal_function(d,vp,vs,x,y,x0_grid,y0_grid)"
   ]
  },
  {
   "cell_type": "code",
   "execution_count": 17,
   "metadata": {},
   "outputs": [
    {
     "data": {
      "image/png": "[encoded data removed]",
      "text/plain": [
       "<matplotlib.figure.Figure at 0x7f2d5410e750>"
      ]
     },
     "metadata": {},
     "output_type": "display_data"
    }
   ],
   "source": [
    "plt.figure(figsize=(8,6))\n",
    "plt.axis('scaled')\n",
    "plt.contourf(y0_grid,x0_grid,phi_grid,40, cmap=plt.get_cmap('viridis'))\n",
    "cbar = plt.colorbar()\n",
    "cbar.set_label('$\\Delta t^{2}$ ($s^{2}$)', fontsize=16)\n",
    "plt.plot(y,x,'k^', markersize=14, label='Stations')\n",
    "plt.plot([p_true[1]], [p_true[0]], 'ro', markersize=14, label='True epicenter')\n",
    "plt.xlabel('y (km)', fontsize=14)\n",
    "plt.ylabel('x (km)', fontsize=14)\n",
    "plt.legend(loc='best', numpoints=1)\n",
    "plt.xticks(fontsize=12)\n",
    "plt.yticks(fontsize=12)\n",
    "plt.xlim(ymin,ymax)\n",
    "plt.ylim(xmin,xmax)\n",
    "plt.show()"
   ]
  },
  {
   "cell_type": "markdown",
   "metadata": {},
   "source": [
    "Notice that the minimum of the goal function is located at the point representing the true epicenter (red circle)."
   ]
  },
  {
   "cell_type": "markdown",
   "metadata": {},
   "source": [
    "### Exercise"
   ]
  },
  {
   "cell_type": "markdown",
   "metadata": {},
   "source": [
    "1) In your `my_functions.py` file, create a function for calculating the Jacobian matrix. This function must receive `vp`, `vs` (the seismic velocities), `x`, `y` (the coordinates of the stations) and `p` (a parameter vector) and return the Jacobian matrix `G`. Your code must look like:\n",
    "\n",
    "    def jacobian(vp,vs,x,y,p):\n",
    "        '''\n",
    "        Brief description of this function\n",
    "        text text text ...\n",
    "\n",
    "        input\n",
    "        text text text ...\n",
    "\n",
    "        output\n",
    "        text text text ...\n",
    "        '''\n",
    "\n",
    "        assert (vp > vs), 'vp must be greater than vs'\n",
    "\n",
    "        assert (x.size == y.size), 'x and y must have the same number of elements'\n",
    "\n",
    "        assert (vp != 0.) and (vs != 0.), 'vp and vs must be different from zero'\n",
    "        \n",
    "        your code your code your code\n",
    "        your code your code your code\n",
    "        your code your code your code\n",
    "        your code your code your code\n",
    "        \n",
    "        return G"
   ]
  },
  {
   "cell_type": "markdown",
   "metadata": {},
   "source": [
    "2) In your `my_functions.py` file, create a function for calculating the true Hessian matrix. This function must receive `vp`, `vs` (the seismic velocities), `x`, `y` (the coordinates of the stations) and `p` (a parameter vector) and return the Hessian matrix `H`. Your code must look like:\n",
    "\n",
    "    def hessian(vp,vs,x,y,p):\n",
    "        '''\n",
    "        Brief description of this function\n",
    "        text text text ...\n",
    "\n",
    "        input\n",
    "        text text text ...\n",
    "\n",
    "        output\n",
    "        text text text ...\n",
    "        '''\n",
    "\n",
    "        assert (vp > vs), 'vp must be greater than vs'\n",
    "\n",
    "        assert (x.size == y.size), 'x and y must have the same number of elements'\n",
    "\n",
    "        assert (vp != 0.) and (vs != 0.), 'vp and vs must be different from zero'\n",
    "        \n",
    "        your code your code your code\n",
    "        your code your code your code\n",
    "        your code your code your code\n",
    "        your code your code your code\n",
    "        \n",
    "        return H"
   ]
  },
  {
   "cell_type": "markdown",
   "metadata": {},
   "source": [
    "3) In your `test_my_functions.py` file, create a test for the function `jacobian` and another test for the function `hessian`. The test must compare the Jacobian and Hessian matrices created by your functions and, respectively, the Jacobian and Hessian matrices obtained by using known `vp`, `vs`, `x`, `y`, and `p`."
   ]
  },
  {
   "cell_type": "code",
   "execution_count": null,
   "metadata": {
    "collapsed": true
   },
   "outputs": [],
   "source": []
  }
 ],
 "metadata": {
  "kernelspec": {
   "display_name": "Python 2",
   "language": "python",
   "name": "python2"
  },
  "language_info": {
   "codemirror_mode": {
    "name": "ipython",
    "version": 2
   },
   "file_extension": ".py",
   "mimetype": "text/x-python",
   "name": "python",
   "nbconvert_exporter": "python",
   "pygments_lexer": "ipython2",
   "version": "2.7.13"
  }
 },
 "nbformat": 4,
 "nbformat_minor": 1
}
