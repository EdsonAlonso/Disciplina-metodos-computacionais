{
 "cells": [
  {
   "cell_type": "markdown",
   "metadata": {},
   "source": [
    "# Simple epicenter problem"
   ]
  },
  {
   "cell_type": "markdown",
   "metadata": {},
   "source": [
    "This notebook illustrates a simple method for estimating the horizontal coordinates of an epicenter."
   ]
  },
  {
   "cell_type": "markdown",
   "metadata": {},
   "source": [
    "## Geophysical problem"
   ]
  },
  {
   "cell_type": "markdown",
   "metadata": {},
   "source": [
    "An earthquake generates seismic waves that propagate in the subsusface and are detected by three of seismic stations, A, B and C (green triangles), located on the Earth's surface."
   ]
  },
  {
   "cell_type": "markdown",
   "metadata": {},
   "source": [
    "<img src='epicenter_figs\\fig1.png', width=700>"
   ]
  },
  {
   "cell_type": "markdown",
   "metadata": {
    "collapsed": true
   },
   "source": [
    "Let's consider that, at each station, there is a measure of the difference between the first arrivals of the P and S waves."
   ]
  },
  {
   "cell_type": "markdown",
   "metadata": {},
   "source": [
    "<img src='epicenter_figs\\fig2.png', width=700>"
   ]
  },
  {
   "cell_type": "markdown",
   "metadata": {},
   "source": [
    "We may then group these measurements in a vector as follows:\n",
    "\n",
    "$$\n",
    "\\mathbf{d} = \\begin{bmatrix}\n",
    "\\Delta t_{A} \\\\\n",
    "\\Delta t_{B} \\\\\n",
    "\\Delta t_{C}\n",
    "\\end{bmatrix} \\: ,\n",
    "$$\n",
    "\n",
    "where $\\Delta t_{i}$ represents the observed time difference between the first arrivals of the P and S waves at the station $i$, $i = A, B, C$. This vector is called **observed data vector**."
   ]
  },
  {
   "cell_type": "markdown",
   "metadata": {},
   "source": [
    "## Parameterization and forward problem"
   ]
  },
  {
   "cell_type": "markdown",
   "metadata": {},
   "source": [
    "By considering that (i) the ray paths can be approximated by straight lines, (ii) the depth of the hypocenter can be negleted and also that (iii) the crust is homogeneous and isotropic, we can define a time difference $\\Delta t_{i}$, $i = A, B, C$, as a function of the:\n",
    "\n",
    "* seismic velocities $v_{P}$ and $v_{S}$;\n",
    "\n",
    "* station coordinates $x_{i}$ and $y_{i}$, $i = A, B, C$;\n",
    "\n",
    "* epicenter coordinates $x_{0}$ and $y_{0}$."
   ]
  },
  {
   "cell_type": "markdown",
   "metadata": {},
   "source": [
    "Here, we consider a Cartesian coordinate system in which $x$ points to North, $y$ points to East and $z$ points to the subsurface."
   ]
  },
  {
   "cell_type": "markdown",
   "metadata": {},
   "source": [
    "In this case, the time differences can be written as follows:"
   ]
  },
  {
   "cell_type": "markdown",
   "metadata": {},
   "source": [
    "$$\n",
    "\\Delta t_{i} (\\mathbf{p}) = \\alpha \\,\n",
    "\\left[ \\left( x_{i} - x_{0} \\right)^{2} + \\left( y_{i} - y_{0} \\right)^{2} \\right]^{\\frac{1}{2}} \\: , \\quad i = A, B, C \\: ,\n",
    "$$"
   ]
  },
  {
   "cell_type": "markdown",
   "metadata": {},
   "source": [
    "where"
   ]
  },
  {
   "cell_type": "markdown",
   "metadata": {},
   "source": [
    "$$\n",
    "\\mathbf{p} = \n",
    "\\left[ \\begin{array}{c}\n",
    "x_{0} \\\\\n",
    "y_{0}\n",
    "\\end{array} \\right]\n",
    "$$"
   ]
  },
  {
   "cell_type": "markdown",
   "metadata": {},
   "source": [
    "contains the parameters to be estimated (**parameter vector**) and"
   ]
  },
  {
   "cell_type": "markdown",
   "metadata": {},
   "source": [
    "$$\n",
    "\\alpha = \\frac{1}{v_{S}} - \\frac{1}{v_{P}} \\: .\n",
    "$$"
   ]
  },
  {
   "cell_type": "markdown",
   "metadata": {},
   "source": [
    "From these equations, we obtain a **predicted data vector** given by:"
   ]
  },
  {
   "cell_type": "markdown",
   "metadata": {},
   "source": [
    "$$\n",
    "\\mathbf{\\Delta t}(\\mathbf{p}) =\n",
    "\\alpha \\, \\left[ \\begin{array}{c}\n",
    "\\Delta t_{A} (\\mathbf{p}) \\\\\n",
    "\\Delta t_{B} (\\mathbf{p}) \\\\\n",
    "\\Delta t_{C} (\\mathbf{p})\n",
    "\\end{array} \\right] \\: .\n",
    "$$"
   ]
  },
  {
   "cell_type": "markdown",
   "metadata": {},
   "source": [
    "## Goal function"
   ]
  },
  {
   "cell_type": "markdown",
   "metadata": {},
   "source": [
    "Given the observed data vector $\\mathbf{d}$, the coordinates of the stations, and the seismic velocities $v_{P}$ and $v_{S}$, we can determine the coordinates of the epicenter by estimating the particular parameter vector $\\mathbf{p}^{\\ast}$ minimizing the goal function:\n",
    "\n",
    "$$\n",
    "\\Phi(\\mathbf{p}) = \\left[ \\mathbf{d} - \\mathbf{\\Delta t}(\\mathbf{p}) \\right]^{\\, \\top}\\left[ \\mathbf{d} - \\mathbf{\\Delta t}(\\mathbf{p}) \\right] \\: .\n",
    "$$"
   ]
  },
  {
   "cell_type": "markdown",
   "metadata": {},
   "source": [
    "Note that, differently from a linear problem (e.g., the problems presented in the notebooks [least_squares](https://nbviewer.jupyter.org/github/birocoles/Disciplina-metodos-computacionais/blob/master/Content/least_squares.ipynb) and [grav_net](https://nbviewer.jupyter.org/github/birocoles/Disciplina-metodos-computacionais/blob/master/Content/grav_net.ipynb)), the derivative of the predicted data $\\Delta t_{i} (\\mathbf{p})$, $i = A, B, C$, with respect to $x_{0}$ or $y_{0}$ is still a function of $x_{0}$ and $y_{0}$. Consequently, setting the gradient of $\\Phi(\\mathbf{p})$ to the null vector does not result in a linear system for estimating $\\mathbf{p}^{\\ast}$. The problem of estimating $\\mathbf{p}^{\\ast}$ is an example of non-linear optimization problem and needs to be solved iteratively."
   ]
  },
  {
   "cell_type": "markdown",
   "metadata": {},
   "source": [
    "## Synthetic data"
   ]
  },
  {
   "cell_type": "markdown",
   "metadata": {},
   "source": [
    "<a id='Auxiliary functions'></a>\n",
    "#### Auxiliary functions"
   ]
  },
  {
   "cell_type": "code",
   "execution_count": 1,
   "metadata": {
    "collapsed": true
   },
   "outputs": [],
   "source": [
    "def predicted_data(vp,vs,x,y,p):\n",
    "    '''\n",
    "    Computes the predicted data.\n",
    "    \n",
    "    input\n",
    "    vp, vs: floats - seismic velocities\n",
    "    x, y: numpy arrays - coordinates x and y of the stations\n",
    "    p: numpy array - parameter vector\n",
    "    \n",
    "    output\n",
    "    dt: numpy array - predicted data\n",
    "    '''\n",
    "    \n",
    "    if vp <= vs:\n",
    "        raise ValueError('vp must be greater than vs')\n",
    "    \n",
    "    if x.size != y.size:\n",
    "        raise ValueError('x and y must have the same number of elements')\n",
    "    \n",
    "    if (vp != 0.) & (vs != 0.):\n",
    "        alfa = 1./vs - 1./vp\n",
    "    else:\n",
    "        raise ValueError('vp and vs must be non-null')\n",
    "    \n",
    "    # predicted data\n",
    "    dt = alfa*np.sqrt((x - p[0])**2 + (y - p[1])**2)\n",
    "    \n",
    "    return dt"
   ]
  },
  {
   "cell_type": "code",
   "execution_count": 2,
   "metadata": {
    "collapsed": true
   },
   "outputs": [],
   "source": [
    "def plot_data(data, filename=None):\n",
    "    '''\n",
    "    input\n",
    "    data: list of numpy arrays - data sets to be plotted.\n",
    "          In the case of two data sets, the first \n",
    "          one must be the observed data.\n",
    "    filename: string or None - if not None, it saves the figure with\n",
    "              name defined by filename.\n",
    "   \n",
    "    output\n",
    "    matplotlib figure\n",
    "    '''\n",
    "\n",
    "    assert (len(data) == 1) or (len(data) == 2), \\\n",
    "'must use one or two data sets'\n",
    "\n",
    "    plt.figure(figsize=(8,3))\n",
    "    stations_label = ['A', 'B', 'C']\n",
    "    stations = [1,2,3]\n",
    "    \n",
    "    if len(data) == 1:\n",
    "        plt.barh(stations, data[0], align='center', \n",
    "             color='r', alpha=1, label='Observed')\n",
    "    if len(data) == 2:\n",
    "        plt.barh(stations, data[0], align='center', \n",
    "                 color='r', alpha=0.6, label='Observed')\n",
    "        plt.barh(stations, data[1], align='center', \n",
    "                 fill=False, edgecolor='b', alpha=1.,\n",
    "                 linewidth=3., linestyle='dashed', label='Predicted')\n",
    "    plt.yticks(stations, stations_label, fontsize=18)\n",
    "    plt.xticks(fontsize=14)\n",
    "    plt.xlabel('$\\Delta t$ ($s$)', fontsize=18)\n",
    "    plt.ylabel('Stations', fontsize=16)\n",
    "    plt.grid()\n",
    "    plt.legend(bbox_to_anchor=(0., 1.02, 1., .102), \n",
    "               loc=3, ncol=2, borderaxespad=0.)\n",
    "    if filename is not None:\n",
    "        plt.savefig(filename)\n",
    "    plt.show()"
   ]
  },
  {
   "cell_type": "code",
   "execution_count": 3,
   "metadata": {
    "collapsed": true
   },
   "outputs": [],
   "source": [
    "def goal_function_grid(dobs,vp,vs,x,y,x0,y0):\n",
    "    '''\n",
    "    Computes the goal function in a grid of\n",
    "    parameters x0 and y0.\n",
    "    \n",
    "    input\n",
    "    dobs: numpy array - observed data\n",
    "    vp, vs: floats - seismic velocities\n",
    "    x, y: numpy arrays - coordinates x and y of the stations\n",
    "    \n",
    "    output\n",
    "    phi: numpy array - grid of goal function values\n",
    "    '''\n",
    "    \n",
    "    if vp <= vs:\n",
    "        raise ValueError('vp must be greater than vs')\n",
    "    \n",
    "    if x.size != y.size:\n",
    "        raise ValueError('x and y must have the same number of elements')\n",
    "    \n",
    "    if (vp != 0.) & (vs != 0.):\n",
    "        alfa = 1./vs - 1./vp\n",
    "    else:\n",
    "        raise ValueError('vp and vs must be non-null')\n",
    "   \n",
    "    phi = np.zeros_like(x0)\n",
    "    for x, y, dt in zip(x, y, dobs):\n",
    "        phi += (dt - alfa*np.sqrt((x - x0)**2 + (y - y0)**2))**2\n",
    "    return phi"
   ]
  },
  {
   "cell_type": "code",
   "execution_count": 4,
   "metadata": {
    "collapsed": true
   },
   "outputs": [],
   "source": [
    "def convergence(phi0,phi,beta):\n",
    "    '''\n",
    "    Evaluate the convergence criterion.\n",
    "    '''\n",
    "\n",
    "    # relative variation\n",
    "    rel_variation = abs((phi0-phi)/phi0)\n",
    "    \n",
    "    return rel_variation < beta"
   ]
  },
  {
   "cell_type": "code",
   "execution_count": 5,
   "metadata": {
    "collapsed": true
   },
   "outputs": [],
   "source": [
    "def plot_goal_function(x0, y0, phi, p_true=None, stations=None, epicenters=None, \n",
    "                       filename=None):\n",
    "    '''\n",
    "    Plot the goal function, the stations, the true epicenter\n",
    "    location and the set of estimated epicenters produced by\n",
    "    an iterative method.\n",
    "    \n",
    "    input\n",
    "    x0, y0: numpy arrays 2D - grid of epicenter coordinates\n",
    "            on which the goal function is evaluated\n",
    "    phi: numpy array 2D - grid of goal function values\n",
    "    p_true: None or numpy array 1D containing the true coordinates\n",
    "            of the epicenter\n",
    "    stations: numpy array 2D - matrix containing the coordinates of\n",
    "              the stations. The first collumn contains the\n",
    "                x coordinate and the second collumn contains the y coordinate\n",
    "                of the stations.\n",
    "    epicenters: numpy array 2D - matrix containing the estimated coordinates\n",
    "                computed by an iterative method. The first collumn contains the\n",
    "                x coordinate and the second collumn contains the y coordinate\n",
    "                of the estimated epicenters.\n",
    "    filename: string or None - if not None, it saves the figure with\n",
    "              name defined by filename\n",
    "    \n",
    "    output\n",
    "    matplotlib figure\n",
    "    '''\n",
    "    \n",
    "    if p_true is not None:\n",
    "        assert p_true.size == 2, 'p_true must have 2 elements'\n",
    "    if stations is not None:\n",
    "        assert (stations.shape[1] == 2), 'stations must have 2 collumns'\n",
    "        assert (stations.shape[0] >= 3), \\\n",
    "'the number of stations must be greater than or equal to 3'\n",
    "\n",
    "    xmax = np.max(x0)\n",
    "    xmin = np.min(x0)\n",
    "    \n",
    "    ymax = np.max(y0)\n",
    "    ymin = np.min(y0)\n",
    "    \n",
    "    plt.figure(figsize=(8,6))\n",
    "    plt.axis('scaled')\n",
    "    plt.contourf(y0,x0,phi,40, cmap = plt.get_cmap('viridis'))\n",
    "    cbar = plt.colorbar()\n",
    "    cbar.set_label('$\\Delta t$ ($s$)', fontsize=16)\n",
    "    if stations is not None:\n",
    "        plt.plot(stations[:,1], stations[:,0],'k^', markersize=14)\n",
    "    if p_true is not None:\n",
    "        plt.plot([p_true[1]], [p_true[0]], 'ro', markersize=14)\n",
    "    if epicenters is not None:\n",
    "        plt.plot(epicenters[:,1],epicenters[:,0],'w-', linewidth=1)\n",
    "        plt.plot(epicenters[:,1],epicenters[:,0],'wo', markersize=6)\n",
    "    plt.xlabel('y (km)', fontsize=14)\n",
    "    plt.ylabel('x (km)', fontsize=14)\n",
    "    plt.xticks(fontsize=12)\n",
    "    plt.yticks(fontsize=12)\n",
    "    plt.xlim(ymin,ymax)\n",
    "    plt.ylim(xmin,xmax)\n",
    "    if filename is not None:\n",
    "        plt.savefig(filename)\n",
    "    plt.show()"
   ]
  },
  {
   "cell_type": "code",
   "execution_count": 6,
   "metadata": {
    "collapsed": true
   },
   "outputs": [],
   "source": [
    "def plot_phi(phi, filename=None):\n",
    "    '''\n",
    "    Plot the goal function values along the\n",
    "    iterations.\n",
    "    \n",
    "    input\n",
    "    phi: list - goal function values\n",
    "    filename: string or None - if not None, it saves the figure with\n",
    "              name defined by filename\n",
    "    \n",
    "    output\n",
    "    matplotlib figure\n",
    "    '''\n",
    "    \n",
    "    it = [i for i in range(len(phi))]\n",
    "    plt.figure(figsize=(8,8))\n",
    "    plt.plot(it,phi,'ko')\n",
    "    plt.plot(it,phi,'k-')\n",
    "    plt.xlabel('$k$', fontsize=18)\n",
    "    plt.ylabel('$\\phi(\\mathbf{p})$', fontsize=18)\n",
    "    plt.xticks(fontsize=14)\n",
    "    plt.yticks(fontsize=14)\n",
    "    plt.grid()\n",
    "    plt.xlim(0, len(phi))\n",
    "    plt.ylim(-5.,phi[0]+5.)\n",
    "    if filename is not None:\n",
    "        plt.savefig(filename)\n",
    "    plt.show()"
   ]
  },
  {
   "cell_type": "markdown",
   "metadata": {},
   "source": [
    "#### Import the required packages"
   ]
  },
  {
   "cell_type": "code",
   "execution_count": 7,
   "metadata": {
    "collapsed": true
   },
   "outputs": [],
   "source": [
    "%matplotlib inline\n",
    "import numpy as np\n",
    "from matplotlib import pyplot as plt"
   ]
  },
  {
   "cell_type": "markdown",
   "metadata": {},
   "source": [
    "#### Limits of the simulated study area"
   ]
  },
  {
   "cell_type": "code",
   "execution_count": 8,
   "metadata": {
    "collapsed": true
   },
   "outputs": [],
   "source": [
    "# limits of the study area in km\n",
    "xmin = 0.\n",
    "xmax = 100.\n",
    "ymin = -50.\n",
    "ymax = 50."
   ]
  },
  {
   "cell_type": "markdown",
   "metadata": {},
   "source": [
    "#### Seismic velocities"
   ]
  },
  {
   "cell_type": "code",
   "execution_count": 9,
   "metadata": {
    "collapsed": true
   },
   "outputs": [],
   "source": [
    "# seismic velocities in km/s\n",
    "vp = 6.5\n",
    "vs = 6.5/1.6"
   ]
  },
  {
   "cell_type": "markdown",
   "metadata": {},
   "source": [
    "#### Coordinates of the epicenter"
   ]
  },
  {
   "cell_type": "code",
   "execution_count": 10,
   "metadata": {
    "collapsed": true
   },
   "outputs": [],
   "source": [
    "# coordinates of the simulated epicenter in km\n",
    "p_true = np.array([50., -17.])"
   ]
  },
  {
   "cell_type": "markdown",
   "metadata": {},
   "source": [
    "#### Coordinates of the seismic stations"
   ]
  },
  {
   "cell_type": "code",
   "execution_count": 11,
   "metadata": {
    "collapsed": true
   },
   "outputs": [],
   "source": [
    "# coordinates of the seismic stations in km\n",
    "x = np.array([10., 80., 60.])\n",
    "\n",
    "y = np.array([-40., -20., 35.])\n",
    "\n",
    "stations = np.vstack([x, y]).T"
   ]
  },
  {
   "cell_type": "code",
   "execution_count": 12,
   "metadata": {},
   "outputs": [
    {
     "data": {
      "image/png": "[encoded data removed]",
      "text/plain": [
       "<matplotlib.figure.Figure at 0x7ff91573a850>"
      ]
     },
     "metadata": {},
     "output_type": "display_data"
    }
   ],
   "source": [
    "plt.figure(figsize=(8,6))\n",
    "plt.axis('scaled')\n",
    "plt.plot(y, x,'k^', markersize=14, label='Stations')\n",
    "plt.plot([p_true[1]], [p_true[0]], 'ro', markersize=14, label='True epicenter')\n",
    "plt.xlabel('y (km)', fontsize=14)\n",
    "plt.ylabel('x (km)', fontsize=14)\n",
    "plt.legend(loc='best', numpoints=1)\n",
    "plt.xticks(fontsize=12)\n",
    "plt.yticks(fontsize=12)\n",
    "plt.xlim(ymin,ymax)\n",
    "plt.ylim(xmin,xmax)\n",
    "plt.show()"
   ]
  },
  {
   "cell_type": "markdown",
   "metadata": {},
   "source": [
    "#### Synthetic data vector"
   ]
  },
  {
   "cell_type": "markdown",
   "metadata": {},
   "source": [
    "Given the model defined in the previous cells, we can simulate an observed data vector $\\mathbf{d}$ by using the function `predicted_data` as follows:"
   ]
  },
  {
   "cell_type": "code",
   "execution_count": 13,
   "metadata": {
    "collapsed": true
   },
   "outputs": [],
   "source": [
    "d = predicted_data(vp, vs, x, y, p_true)"
   ]
  },
  {
   "cell_type": "markdown",
   "metadata": {},
   "source": [
    "#### Goal function"
   ]
  },
  {
   "cell_type": "markdown",
   "metadata": {},
   "source": [
    "In this example, the goal function depends on two parameters, which represent the Cartesian coordinates of the epicenter. It means that, given a point $(x_{0},y_{0})$, and consequently a parameter vector $\\mathbf{p}$, we can calculate the function $\\Phi(\\mathbf{p})$. Then, if we define a grid of points $(x_{0},y_{0})$, each one representing a possible epicenter, we can calculate the goal function $\\Phi(\\mathbf{p})$ on a grid."
   ]
  },
  {
   "cell_type": "markdown",
   "metadata": {},
   "source": [
    "The grid of points representing possible epicenter can be defined as follows:"
   ]
  },
  {
   "cell_type": "code",
   "execution_count": 14,
   "metadata": {
    "collapsed": true
   },
   "outputs": [],
   "source": [
    "# number of points along the x and y axes\n",
    "Nx = 200\n",
    "Ny = 200"
   ]
  },
  {
   "cell_type": "code",
   "execution_count": 15,
   "metadata": {
    "collapsed": true
   },
   "outputs": [],
   "source": [
    "# grid of Nx by Ny points\n",
    "\n",
    "x0_grid = np.linspace(xmin, xmax, Nx) # numpy array 1D\n",
    "y0_grid = np.linspace(ymin, ymax, Ny) # numpy array 1D\n",
    "\n",
    "# use the numpy arrays 1D to create numpy arrays 2D\n",
    "x0_grid, y0_grid = np.meshgrid(x0_grid,y0_grid)"
   ]
  },
  {
   "cell_type": "code",
   "execution_count": 16,
   "metadata": {
    "collapsed": true
   },
   "outputs": [],
   "source": [
    "phi_grid = goal_function_grid(d,vp,vs,x,y,x0_grid,y0_grid)"
   ]
  },
  {
   "cell_type": "code",
   "execution_count": 17,
   "metadata": {},
   "outputs": [
    {
     "data": {
      "image/png": "[encoded data removed]",
      "text/plain": [
       "<matplotlib.figure.Figure at 0x7ff912eba890>"
      ]
     },
     "metadata": {},
     "output_type": "display_data"
    }
   ],
   "source": [
    "plot_goal_function(x0_grid, y0_grid, phi_grid, \n",
    "                   p_true=p_true, stations=stations)"
   ]
  },
  {
   "cell_type": "markdown",
   "metadata": {},
   "source": [
    "Notice that the minimum of the goal function is located at the point representing the true epicenter (red circle). So, we could use the figure above to estimate the coordinates of the epicenter by choosing the point associated with the minimum value of the goal function."
   ]
  },
  {
   "cell_type": "markdown",
   "metadata": {},
   "source": [
    "Another way of estimating the coordinates of the epicenter is using a numerical method. Here, we will limit ourselves to methods based on the gradient of the goal function. Specifically, we will talk about **Newton's**, **Gauss-Newton**, **Steepest Decent**, and **Levenberg-Marquardt** method."
   ]
  },
  {
   "cell_type": "markdown",
   "metadata": {},
   "source": [
    "The following cell contains the base algorithm used to implement the **Newton's**, **Gauss-Newton**, **Steepest Decent** method."
   ]
  },
  {
   "cell_type": "markdown",
   "metadata": {},
   "source": [
    "    # initial approximation\n",
    "    p0 = np.array([20., 40.])\n",
    "    \n",
    "    # predicted data produced by the initial approximation\n",
    "    d0 = predicted_data(vp,vs,x,y,p0)\n",
    "    \n",
    "    # residual produced by the initial approaximation\n",
    "    r0 = dobs - d0\n",
    "    \n",
    "    # goal function produced by the initial approximation\n",
    "    phi0 = np.sum(r0*r0)\n",
    "\n",
    "    # lists used to save the estimated parameters \n",
    "    # and goal function values\n",
    "    x0_list = [p0[0]]\n",
    "    y0_list = [p0[1]]\n",
    "    phi_list = [phi0]\n",
    "\n",
    "    # maximum number of iterations\n",
    "    itmax = 50\n",
    "    \n",
    "    # small value controlling the convergence\n",
    "    beta = 0.00001\n",
    "\n",
    "    for it in range(itmax):\n",
    "\n",
    "        # Jacobian matrix\n",
    "        G = jacobian()\n",
    "        \n",
    "        # gradient\n",
    "        g = -2.*np.dot(G.T,r0)\n",
    "        \n",
    "        # Hessian matrix\n",
    "        H = hessian()\n",
    "\n",
    "        # correction on the parameter vector\n",
    "        dp = linear_system(H,-g)\n",
    "\n",
    "        # predicte data produced by the new parameter vector p0+dp\n",
    "        d = predicted_data(vp,vs,x,y,p0+dp)\n",
    "        \n",
    "        # residuals produced by the new parameter vector p0+dp\n",
    "        r = dobs - d\n",
    "        \n",
    "        # goal function produced by the new parameter vector p0+dp\n",
    "        phi = np.sum(r*r)\n",
    "\n",
    "        # absolute variation in the goal function\n",
    "        dphi = phi - phi0\n",
    "        \n",
    "        # relative variation in the goal function\n",
    "        rel_variation = abs(dphi)/(phi0 + 1e-15)\n",
    "\n",
    "        # convengence analysis\n",
    "        if (dphi > 0) or (rel_variation <= beta):\n",
    "            # convergence achieved\n",
    "            break\n",
    "        else:\n",
    "            # convengence not achieved\n",
    "            phi0 = phi\n",
    "            p0 += dp\n",
    "            d0 = d\n",
    "            r0 = r\n",
    "            x0_list.append(p0[0])\n",
    "            y0_list.append(p0[1])\n",
    "            phi_list.append(phi0)\n",
    "\n",
    "    # predicted data produced by the final estimate\n",
    "    d = d0\n",
    "    \n",
    "    # set of estimated parameters\n",
    "    epicenters = np.array([x0_list, y0_list]).T"
   ]
  },
  {
   "cell_type": "markdown",
   "metadata": {},
   "source": [
    "The following cell contains the base algorithm used to implement the **Levenberg-Marquardt** method."
   ]
  },
  {
   "cell_type": "markdown",
   "metadata": {},
   "source": [
    "    # initial approximation\n",
    "    p0 = np.array([20., 40.])\n",
    "    \n",
    "    # predicted data produced by the initial approximation\n",
    "    d0 = predicted_data(vp,vs,x,y,p0)\n",
    "    \n",
    "    # residual produced by the initial approaximation\n",
    "    r0 = dobs - d0\n",
    "    \n",
    "    # goal function produced by the initial approximation\n",
    "    phi0 = np.sum(r0*r0)\n",
    "\n",
    "    # lists used to save the estimated parameters \n",
    "    # and goal function values\n",
    "    x0_list = [p0[0]]\n",
    "    y0_list = [p0[1]]\n",
    "    phi_list = [phi0]\n",
    "\n",
    "    # maximum number of iterations in the outer loop\n",
    "    itmax = 50\n",
    "    \n",
    "    # small value controlling the convergence\n",
    "    beta = 0.00001\n",
    "    \n",
    "    # Identity matrix\n",
    "    I = np.identity(2)\n",
    "    \n",
    "    # initial value for the levenberg-marquardt parameter\n",
    "    lamb = 0.1\n",
    "    \n",
    "    # positive contant used to change the levenberg-marquardt parameter\n",
    "    dlamb = 2.\n",
    "    \n",
    "    # maximum number of iterations in the inner loop\n",
    "    itmax_marq = 15\n",
    "\n",
    "    for it in range(itmax):\n",
    "\n",
    "        # Jacobian matrix\n",
    "        G = jacobian()\n",
    "        \n",
    "        # gradient\n",
    "        g = -2.*np.dot(G.T,r0)\n",
    "        \n",
    "        # Hessian matrix\n",
    "        H = hessian()\n",
    "\n",
    "        # correction on the parameter vector\n",
    "        dp = linear_system(H,-g)\n",
    "\n",
    "        # predicte data produced by the new parameter vector p0+dp\n",
    "        d = predicted_data(vp,vs,x,y,p0+dp)\n",
    "        \n",
    "        # residuals produced by the new parameter vector p0+dp\n",
    "        r = dobs - d\n",
    "        \n",
    "        # goal function produced by the new parameter vector p0+dp\n",
    "        phi = np.sum(r*r)\n",
    "\n",
    "        # absolute variation in the goal function\n",
    "        dphi = phi - phi0\n",
    "        \n",
    "        # relative variation in the goal function\n",
    "        rel_variation = abs(dphi)/(phi0 + 1e-15)\n",
    "\n",
    "        # convengence analysis\n",
    "        if (dphi > 0) or (rel_variation <= beta):\n",
    "            # convergence achieved\n",
    "            break\n",
    "        else:\n",
    "            # convengence not achieved\n",
    "            phi0 = phi\n",
    "            p0 += dp\n",
    "            d0 = d\n",
    "            r0 = r\n",
    "            x0_list.append(p0[0])\n",
    "            y0_list.append(p0[1])\n",
    "            phi_list.append(phi0)\n",
    "\n",
    "    # predicted data produced by the final estimate\n",
    "    d = d0\n",
    "    \n",
    "    # set of estimated parameters\n",
    "    epicenters = np.array([x0_list, y0_list]).T"
   ]
  },
  {
   "cell_type": "markdown",
   "metadata": {},
   "source": [
    "### Exercise"
   ]
  },
  {
   "cell_type": "markdown",
   "metadata": {},
   "source": [
    "1) In your `my_functions.py` file, create a function for calculating the Jacobian matrix. Your code must look like:\n",
    "\n",
    "    def jacobian(variable1, variable2, ...):\n",
    "        '''\n",
    "        Brief description of this function\n",
    "        text text text ...\n",
    "\n",
    "        input\n",
    "        text text text ...\n",
    "        text text text ...\n",
    "\n",
    "        output\n",
    "        G: numpy array 2D - the Jacobian matrix\n",
    "        '''\n",
    "\n",
    "        assert (condition), 'error message'\n",
    "        assert (condition1) and (condition2), 'error message'\n",
    "        \n",
    "        your code your code your code\n",
    "        your code your code your code\n",
    "        your code your code your code\n",
    "        your code your code your code\n",
    "        \n",
    "        return G"
   ]
  },
  {
   "cell_type": "markdown",
   "metadata": {},
   "source": [
    "2) In your `my_functions.py` file, create a function for calculating the true Hessian matrix. Your code must look like:\n",
    "\n",
    "    def hessian(variable1, variable2, ...):\n",
    "        '''\n",
    "        Brief description of this function\n",
    "        text text text ...\n",
    "\n",
    "        input\n",
    "        text text text ...\n",
    "        text text text ...\n",
    "\n",
    "        output\n",
    "        H: numpy array 2D - the Hessian matrix\n",
    "        '''\n",
    "\n",
    "        assert (condition), 'error message'\n",
    "        assert (condition1) and (condition2), 'error message'\n",
    "        \n",
    "        your code your code your code\n",
    "        your code your code your code\n",
    "        your code your code your code\n",
    "        your code your code your code\n",
    "        \n",
    "        return H"
   ]
  },
  {
   "cell_type": "markdown",
   "metadata": {},
   "source": [
    "3) In your `test_my_functions.py` file, create a test for the function `jacobian`. The test must compare the Jacobian matrix created by your function and the Jacobian matrix obtained by using known `vp`, `vs`, `x`, `y`, and `p`.\n",
    "\n",
    "4) In your `test_my_functions.py` file, create a test for the function `hessian`. The test must compare the Hessian matrix created by your function and the Hessian matrix obtained by using known `vp`, `vs`, `x`, `y`, and `p`."
   ]
  },
  {
   "cell_type": "markdown",
   "metadata": {
    "collapsed": true
   },
   "source": [
    "### Exercise (extra)"
   ]
  },
  {
   "cell_type": "markdown",
   "metadata": {},
   "source": [
    "By using one of your functions for solving linear systems and your functions for computing the Jacobian and Hessian matrices, implement the **Newton's**, **Gauss-Newton**, **Steepest Decent**, and **Levenberg-Marquardt** method.\n",
    "\n",
    "After estimating the epicenter by using these methods, use the [Auxiliary functions](#Auxiliary functions) to plot the results. The following cells present some results obtained with the Levenberg-Marquardt method:"
   ]
  },
  {
   "cell_type": "markdown",
   "metadata": {},
   "source": [
    "    plot_goal_function(x0_grid, y0_grid, phi_grid,\n",
    "                       p_true=p_true, stations=stations, epicenters=epicenters_lm,\n",
    "                       filename='epicenters_lm.png')"
   ]
  },
  {
   "cell_type": "markdown",
   "metadata": {},
   "source": [
    "<img src='epicenter_figs/epicenters_lm.png', width=500>"
   ]
  },
  {
   "cell_type": "markdown",
   "metadata": {},
   "source": [
    "    plot_phi(phi_list_lm, filename='convergence_lm.png')"
   ]
  },
  {
   "cell_type": "markdown",
   "metadata": {},
   "source": [
    "<img src='epicenter_figs/convergence_lm.png', width=500>"
   ]
  },
  {
   "cell_type": "markdown",
   "metadata": {},
   "source": [
    "    plot_data([dobs, d_lm], filename='datafit_lm.png')"
   ]
  },
  {
   "cell_type": "markdown",
   "metadata": {},
   "source": [
    "<img src='epicenter_figs/datafit_lm.png', width=500>"
   ]
  },
  {
   "cell_type": "code",
   "execution_count": null,
   "metadata": {
    "collapsed": true
   },
   "outputs": [],
   "source": []
  }
 ],
 "metadata": {
  "kernelspec": {
   "display_name": "Python 2",
   "language": "python",
   "name": "python2"
  },
  "language_info": {
   "codemirror_mode": {
    "name": "ipython",
    "version": 2
   },
   "file_extension": ".py",
   "mimetype": "text/x-python",
   "name": "python",
   "nbconvert_exporter": "python",
   "pygments_lexer": "ipython2",
   "version": "2.7.14"
  }
 },
 "nbformat": 4,
 "nbformat_minor": 1
}
