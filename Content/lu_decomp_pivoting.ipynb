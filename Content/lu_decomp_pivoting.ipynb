{
 "cells": [
  {
   "cell_type": "markdown",
   "metadata": {},
   "source": [
    "# LU decomposition - pivoting"
   ]
  },
  {
   "cell_type": "markdown",
   "metadata": {},
   "source": [
    "The previous notebook presents an algorithm for computing the [LU decomposition](https://en.wikipedia.org/wiki/LU_decomposition). The algotithm, however, does not apply any pivoting scheme for preventing spurious errors due to numerical instabilities. This notebook shows how the partial pivoting changes our previous algorithm for computing the LU decomposition."
   ]
  },
  {
   "cell_type": "markdown",
   "metadata": {},
   "source": [
    "Let's recall the solution of a linear system by using the Gaussian elimination with partial pivoting:"
   ]
  },
  {
   "cell_type": "markdown",
   "metadata": {},
   "source": [
    "$$\n",
    "\\begin{array}{ccccc}\n",
    "\\mathbf{A}^{(0)} = \\mathbf{A} & & & \\mathbf{y}^{(0)} = \\mathbf{y} \\\\\\\\\n",
    "\\mathbf{A}^{(1)} = \\left(\\mathbf{I} - \\mathbf{M}^{(1)}\\right) \\mathbf{P}^{(1)}\\mathbf{A}^{(0)} & & &\n",
    "\\mathbf{y}^{(1)} = \\left(\\mathbf{I} - \\mathbf{M}^{(1)}\\right) \\mathbf{P}^{(1)}\\mathbf{y}^{(0)} \\\\\\\\\n",
    "\\mathbf{A}^{(2)} = \\left(\\mathbf{I} - \\mathbf{M}^{(2)}\\right) \\mathbf{P}^{(2)}\\mathbf{A}^{(1)} & & &\n",
    "\\mathbf{y}^{(2)} = \\left(\\mathbf{I} - \\mathbf{M}^{(2)}\\right) \\mathbf{P}^{(2)}\\mathbf{y}^{(1)}\n",
    "\\end{array} \\: ,\n",
    "$$"
   ]
  },
  {
   "cell_type": "markdown",
   "metadata": {},
   "source": [
    "where $\\mathbf{P}^{(k)}$ is the permutation matrix used to interchange the rows and perform the partial pivoting."
   ]
  },
  {
   "cell_type": "markdown",
   "metadata": {},
   "source": [
    "At the end of this algorithm, the original matrix $\\mathbf{A}$ is transformed into an upper triangular matrix $\\mathbf{A}^{(2)}$."
   ]
  },
  {
   "cell_type": "markdown",
   "metadata": {
    "collapsed": true
   },
   "source": [
    "Notice that, according to the algorithm, the matrix $\\mathbf{A}^{(2)}$ can be written as follows:"
   ]
  },
  {
   "cell_type": "markdown",
   "metadata": {},
   "source": [
    "$$\n",
    "\\begin{split}\n",
    "\\mathbf{A}^{(2)} \n",
    "&= \n",
    "\\left( \\mathbf{I} - \\mathbf{M}^{(2)} \\right) \\mathbf{P}^{(2)} \\,\n",
    "\\left( \\mathbf{I} - \\mathbf{M}^{(1)} \\right) \\mathbf{P}^{(1)} \\,\n",
    "\\mathbf{A} \\\\\n",
    "&=\n",
    "\\underbrace{\\left( \\mathbf{I} - \\mathbf{M}^{(2)} \\right)}_{\\mathbf{Q}^{(2)}} \\,\n",
    "\\underbrace{\\mathbf{P}^{(2)} \\left( \\mathbf{I} - \\mathbf{M}^{(1)} \\right) \\mathbf{P}^{(-2)}}_{\\mathbf{Q}^{(1)}} \\,\n",
    "\\mathbf{P}^{(2)} \\mathbf{P}^{(1)} \\,\n",
    "\\mathbf{A} \\\\\n",
    "&= \\mathbf{Q} \\mathbf{P} \\mathbf{A}\n",
    "\\end{split}\n",
    "$$"
   ]
  },
  {
   "cell_type": "markdown",
   "metadata": {},
   "source": [
    "wHere $\\mathbf{P}^{(-k)} \\equiv \\left( \\mathbf{P}^{(k)} \\right)^{-1}$, $\\mathbf{P} = \\mathbf{P}^{(2)} \\, \\mathbf{P}^{(1)}$ and $\\mathbf{Q} = \\mathbf{Q}^{(2)} \\, \\mathbf{Q}^{(1)}$."
   ]
  },
  {
   "cell_type": "markdown",
   "metadata": {},
   "source": [
    "The permuted matrix $\\mathbf{P}\\mathbf{A}$ can be written as follows:"
   ]
  },
  {
   "cell_type": "markdown",
   "metadata": {},
   "source": [
    "$$\n",
    "\\mathbf{P}\\mathbf{A} = \\mathbf{Q}^{-1} \\, \\mathbf{A}^{(2)} \\: ,\n",
    "$$"
   ]
  },
  {
   "cell_type": "markdown",
   "metadata": {},
   "source": [
    "where $\\mathbf{Q}^{-1} = \\mathbf{Q}^{(-1)} \\, \\mathbf{Q}^{(-2)}$, $\\mathbf{Q}^{(-k)} \\equiv \\left( \\mathbf{Q}^{(k)} \\right)^{-1}$. As in the previous class, we need to know how to define a generic $\\mathbf{Q}^{(-k)}$. Let's first define a generic $\\mathbf{Q}^{(k)}$ as follows:"
   ]
  },
  {
   "cell_type": "markdown",
   "metadata": {},
   "source": [
    "$$\n",
    "\\mathbf{Q}^{(k)} = \\mathbf{P}^{(N-1)} \\cdots \\mathbf{P}^{(k+2)}\\mathbf{P}^{(k+1)} \\,\n",
    "\\left( \\mathbf{I} - \\mathbf{M}^{(k)} \\right) \\,\n",
    "\\mathbf{P}^{-(k+1)}\\mathbf{P}^{-(k+2)} \\cdots \\mathbf{P}^{-(N-1)} \\: .\n",
    "$$"
   ]
  },
  {
   "cell_type": "markdown",
   "metadata": {},
   "source": [
    "Then, a generic $\\mathbf{Q}^{(-k)}$ is given by:"
   ]
  },
  {
   "cell_type": "markdown",
   "metadata": {},
   "source": [
    "$$\n",
    "\\mathbf{Q}^{(-k)} = \\mathbf{P}^{-(N-1)} \\cdots \\mathbf{P}^{-(k+2)}\\mathbf{P}^{-(k+1)} \\,\n",
    "\\left( \\mathbf{I} + \\mathbf{M}^{(k)} \\right) \\,\n",
    "\\mathbf{P}^{(k+1)}\\mathbf{P}^{(k+2)} \\cdots \\mathbf{P}^{(N-1)} \\: .\n",
    "$$"
   ]
  },
  {
   "cell_type": "code",
   "execution_count": 2,
   "metadata": {
    "collapsed": false
   },
   "outputs": [
    {
     "ename": "SyntaxError",
     "evalue": "invalid syntax (<ipython-input-2-29da87566340>, line 1)",
     "output_type": "error",
     "traceback": [
      "\u001b[1;36m  File \u001b[1;32m\"<ipython-input-2-29da87566340>\"\u001b[1;36m, line \u001b[1;32m1\u001b[0m\n\u001b[1;33m    PAREI AQUI\u001b[0m\n\u001b[1;37m             ^\u001b[0m\n\u001b[1;31mSyntaxError\u001b[0m\u001b[1;31m:\u001b[0m invalid syntax\n"
     ]
    }
   ],
   "source": [
    "PAREI AQUI"
   ]
  },
  {
   "cell_type": "markdown",
   "metadata": {},
   "source": [
    "We can verify this equation by showing that the product $\\mathbf{Q}^{(k)} \\left( \\mathbf{Q}^{(k)}\\right)^{-1}$ equals to the identity, as follows:"
   ]
  },
  {
   "cell_type": "markdown",
   "metadata": {},
   "source": [
    "$$\n",
    "\\begin{split}\n",
    "\\mathbf{Q}^{(k)} \\left( \\mathbf{Q}^{(k)}\\right)^{-1}\n",
    "&= \\left[ \\mathbf{I} - \\mathbf{t}^{(k)} \\otimes \\left( \\mathbf{u}^{(k)} \\right)^{\\top} \\right] \\,\n",
    "\\left[ \\mathbf{I} + \\mathbf{t}^{(k)} \\otimes \\left( \\mathbf{u}^{(k)} \\right)^{\\top} \\right] \\\\\n",
    "&= \\mathbf{I} - \\mathbf{t}^{(k)} \\otimes \\left( \\mathbf{u}^{(k)} \\right)^{\\top}\n",
    "+ \\mathbf{t}^{(k)} \\otimes \\left( \\mathbf{u}^{(k)} \\right)^{\\top} -\n",
    "\\mathbf{t}^{(k)} \\otimes \\left( \\mathbf{u}^{(k)} \\right)^{\\top} \\, \\mathbf{t}^{(k)} \\otimes \\left( \\mathbf{u}^{(k)} \\right)^{\\top} \\\\\n",
    "&= \\mathbf{I} - \n",
    "\\mathbf{t}^{(k)} \\otimes \n",
    "\\underbrace{ \\left( \\mathbf{u}^{(k)} \\right)^{\\top} \\mathbf{t}^{(k)} }_{= \\, 0}\n",
    "\\otimes \\left( \\mathbf{u}^{(k)} \\right)^{\\top} \\\\\n",
    "&= \\mathbf{I}\n",
    "\\end{split} \\: .\n",
    "$$"
   ]
  },
  {
   "cell_type": "markdown",
   "metadata": {},
   "source": [
    "The third row of the equation above uses the fact that $\\left( \\mathbf{u}^{(k)} \\right)^{\\top} \\mathbf{t}^{(k)} = 0$. This property can be easily verified by noting that, while the $k$th element of $\\mathbf{u}^{(k)}$ is its only nonzero element, the $k$th element of $\\mathbf{t}^{(k)}$ is equal to zero. Consequently, the dot product equals to zero."
   ]
  },
  {
   "cell_type": "markdown",
   "metadata": {},
   "source": [
    "By using this result, we can write the matrix $\\mathbf{Q}^{-1}$ as follows:"
   ]
  },
  {
   "cell_type": "markdown",
   "metadata": {},
   "source": [
    "$$\n",
    "\\begin{split}\n",
    "\\mathbf{Q}^{-1}\n",
    "&= \\left[ \\mathbf{I} + \\mathbf{t}^{(1)} \\otimes \\left( \\mathbf{u}^{(1)} \\right)^{\\top} \\right]\n",
    "   \\left[ \\mathbf{I} + \\mathbf{t}^{(2)} \\otimes \\left( \\mathbf{u}^{(2)} \\right)^{\\top} \\right] \\\\\n",
    "&= \\mathbf{I} + \\mathbf{t}^{(1)} \\otimes \\left( \\mathbf{u}^{(1)} \\right)^{\\top} +\n",
    "   \\mathbf{t}^{(2)} \\otimes \\left( \\mathbf{u}^{(2)} \\right)^{\\top} + \n",
    "   \\mathbf{t}^{(1)} \\otimes \n",
    "   \\underbrace{ \\left( \\mathbf{u}^{(1)} \\right)^{\\top} \\mathbf{t}^{(2)}}_{= \\, 0}\n",
    "   \\otimes \\left( \\mathbf{u}^{(2)} \\right)^{\\top} \\\\\n",
    "&= \\mathbf{I} + \\mathbf{t}^{(1)} \\otimes \\left( \\mathbf{u}^{(1)} \\right)^{\\top} +\n",
    "   \\mathbf{t}^{(2)} \\otimes \\left( \\mathbf{u}^{(2)} \\right)^{\\top} \\\\\n",
    "&= \n",
    "\\left[ \\begin{array}{ccc}\n",
    "1 & 0 & 0 \\\\\n",
    "0 & 1 & 0 \\\\\n",
    "0 & 0 & 1\n",
    "\\end{array} \\right] +\n",
    "\\left[ \\begin{array}{ccc}\n",
    "0 & 0 & 0 \\\\\n",
    "t_{2}^{(1)} & 0 & 0 \\\\\n",
    "t_{3}^{(1)} & 0 & 0\n",
    "\\end{array} \\right] +\n",
    "\\left[ \\begin{array}{ccc}\n",
    "0 & 0 & 0 \\\\\n",
    "0 & 0 & 0 \\\\\n",
    "0 & t_{3}^{(2)} & 0\n",
    "\\end{array} \\right] \\\\\n",
    "&=\n",
    "\\left[ \\begin{array}{ccc}\n",
    "1 & 0 & 0 \\\\\n",
    "t_{2}^{(1)} & 1 & 0 \\\\\n",
    "t_{3}^{(1)} & t_{3}^{(2)} & 1\n",
    "\\end{array} \\right]\n",
    "\\end{split} \\: ,\n",
    "$$"
   ]
  },
  {
   "cell_type": "markdown",
   "metadata": {},
   "source": [
    "which is a unit **L**ower triangular matrix containing the Gauss multipliers. Because of that, $\\mathbf{Q}^{-1}$ is commonly defined as $\\mathbf{L}$. Similarly, the **U**pper triangular matrix $\\mathbf{A}^{(2)}$ is defined as $\\mathbf{U}$ and the original matrix $\\mathbf{A}$ is factored as follows:"
   ]
  },
  {
   "cell_type": "markdown",
   "metadata": {},
   "source": [
    "$$\n",
    "\\mathbf{A} = \\mathbf{L} \\, \\mathbf{U} \\: .\n",
    "$$"
   ]
  },
  {
   "cell_type": "markdown",
   "metadata": {},
   "source": [
    "The mathematical development presented here is valid for $3 \\times 3$ matrices, however, it can be easily generalized to $N \\times N$ matrices as well."
   ]
  },
  {
   "cell_type": "markdown",
   "metadata": {},
   "source": [
    "The LU decomposition described above can be implemented as follows:"
   ]
  },
  {
   "cell_type": "markdown",
   "metadata": {},
   "source": [
    "    N = y.size\n",
    "    C = np.copy(A)\n",
    "    \n",
    "    for i = 1:N-1\n",
    "        \n",
    "        # assert the pivot is nonzero\n",
    "        assert C[i,i] != 0., 'null pivot!'\n",
    "        \n",
    "        # calculate the Gauss multipliers and store them \n",
    "        # in the lower part of C\n",
    "        C[i+1:,i] = C[i+1:,i]/C[i,i]\n",
    "        \n",
    "        # zeroing of the elements in the ith column\n",
    "        C[i+1:,i+1:] = C[i+1:,i+1:] - outer(C[i+1:,i], C[i,i+1:])\n",
    "        \n",
    "    return C"
   ]
  },
  {
   "cell_type": "markdown",
   "metadata": {},
   "source": [
    "This algorithm receives a square matrix $\\mathbf{A}$ and returns a matrix $\\mathbf{C}$ containing the triangular matrices $\\mathbf{L}$ and $\\mathbf{U}$. The elements of $\\mathbf{L}$, except the unitary elements of its main diagonal, are stored below the main diagonal of $\\mathbf{C}$. The elements of $\\mathbf{U}$ are stored in the upper part of $\\mathbf{C}$, including its main diagonal."
   ]
  },
  {
   "cell_type": "markdown",
   "metadata": {},
   "source": [
    "## Solving a linear system by using the LU decomposition"
   ]
  },
  {
   "cell_type": "markdown",
   "metadata": {},
   "source": [
    "Once the triangular matrices $\\mathbf{L}$ and $\\mathbf{U}$ are calculated, we may use them to solve a linear system $\\mathbf{A} \\mathbf{x} = \\mathbf{y}$. Let's first substitute the LU decomposition into the linear system:"
   ]
  },
  {
   "cell_type": "markdown",
   "metadata": {},
   "source": [
    "$$\n",
    "\\begin{split}\n",
    "\\mathbf{A} \\mathbf{x} &= \\mathbf{y} \\\\\n",
    "\\mathbf{L} \\mathbf{U} \\mathbf{x} &= \\mathbf{y}\n",
    "\\end{split} \\: .\n",
    "$$"
   ]
  },
  {
   "cell_type": "markdown",
   "metadata": {},
   "source": [
    "This equation shows that the original linear system can be represented by two triangular systems:"
   ]
  },
  {
   "cell_type": "markdown",
   "metadata": {},
   "source": [
    "$$\n",
    "\\begin{split}\n",
    "\\mathbf{L}\\mathbf{w} &= \\mathbf{y} \\\\\n",
    "\\mathbf{U}\\mathbf{x} &= \\mathbf{w}\n",
    "\\end{split} \\: ,\n",
    "$$"
   ]
  },
  {
   "cell_type": "markdown",
   "metadata": {},
   "source": [
    "where $\\mathbf{w}$ is a dummy variable. Therefore, the linear system can be solved in two steps: 1) solve the lower triangular system for $\\mathbf{w}$ and then 2) use it to solve the upper triangular system for $\\mathbf{x}$."
   ]
  },
  {
   "cell_type": "code",
   "execution_count": null,
   "metadata": {
    "collapsed": true
   },
   "outputs": [],
   "source": []
  }
 ],
 "metadata": {
  "kernelspec": {
   "display_name": "Python 2",
   "language": "python",
   "name": "python2"
  },
  "language_info": {
   "codemirror_mode": {
    "name": "ipython",
    "version": 2
   },
   "file_extension": ".py",
   "mimetype": "text/x-python",
   "name": "python",
   "nbconvert_exporter": "python",
   "pygments_lexer": "ipython2",
   "version": "2.7.11"
  }
 },
 "nbformat": 4,
 "nbformat_minor": 0
}
