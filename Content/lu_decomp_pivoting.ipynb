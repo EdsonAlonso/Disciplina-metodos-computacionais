{
 "cells": [
  {
   "cell_type": "markdown",
   "metadata": {},
   "source": [
    "# LU decomposition - pivoting"
   ]
  },
  {
   "cell_type": "markdown",
   "metadata": {},
   "source": [
    "The previous notebook presents an algorithm for computing the [LU decomposition](https://en.wikipedia.org/wiki/LU_decomposition). The algotithm, however, does not apply any pivoting scheme for preventing spurious errors due to numerical instabilities. The algorithm presented here, on the other hand, shows how the partial pivoting changes our previous algorithm for computing the LU decomposition."
   ]
  },
  {
   "cell_type": "markdown",
   "metadata": {},
   "source": [
    "Let's recall the solution of a linear system by using the Gaussian elimination with partial pivoting:"
   ]
  },
  {
   "cell_type": "markdown",
   "metadata": {},
   "source": [
    "$$\n",
    "\\begin{array}{ccccc}\n",
    "\\mathbf{A}^{(0)} = \\mathbf{A} & & & \\mathbf{y}^{(0)} = \\mathbf{y} \\\\\\\\\n",
    "\\mathbf{A}^{(1)} = \\left(\\mathbf{I} - \\mathbf{M}^{(1)}\\right) \\mathbf{P}^{(1)}\\mathbf{A}^{(0)} & & &\n",
    "\\mathbf{y}^{(1)} = \\left(\\mathbf{I} - \\mathbf{M}^{(1)}\\right) \\mathbf{P}^{(1)}\\mathbf{y}^{(0)} \\\\\\\\\n",
    "\\mathbf{A}^{(2)} = \\left(\\mathbf{I} - \\mathbf{M}^{(2)}\\right) \\mathbf{P}^{(2)}\\mathbf{A}^{(1)} & & &\n",
    "\\mathbf{y}^{(2)} = \\left(\\mathbf{I} - \\mathbf{M}^{(2)}\\right) \\mathbf{P}^{(2)}\\mathbf{y}^{(1)}\n",
    "\\end{array} \\: ,\n",
    "$$"
   ]
  },
  {
   "cell_type": "markdown",
   "metadata": {},
   "source": [
    "where $\\mathbf{P}^{(k)}$ is the permutation matrix used to interchange the rows and perform the partial pivoting."
   ]
  },
  {
   "cell_type": "markdown",
   "metadata": {},
   "source": [
    "At the end of this algorithm, the original matrix $\\mathbf{A}$ is transformed into an upper triangular matrix $\\mathbf{A}^{(N-1)}$, where, in this case, $N = 3$."
   ]
  },
  {
   "cell_type": "markdown",
   "metadata": {
    "collapsed": true
   },
   "source": [
    "Notice that, according to the algorithm, the matrix $\\mathbf{A}^{(2)}$ can be written as follows:"
   ]
  },
  {
   "cell_type": "markdown",
   "metadata": {},
   "source": [
    "$$\n",
    "\\begin{split}\n",
    "\\mathbf{A}^{(2)} \n",
    "&= \n",
    "\\left( \\mathbf{I} - \\mathbf{M}^{(2)} \\right) \\mathbf{P}^{(2)} \\,\n",
    "\\left( \\mathbf{I} - \\mathbf{M}^{(1)} \\right) \\mathbf{P}^{(1)} \\,\n",
    "\\mathbf{A} \\\\\n",
    "&=\n",
    "\\underbrace{\\left( \\mathbf{I} - \\mathbf{M}^{(2)} \\right)}_{\\tilde{\\mathbf{Q}}^{(2)}} \\,\n",
    "\\underbrace{\\mathbf{P}^{(2)} \\left( \\mathbf{I} - \\mathbf{M}^{(1)} \\right) \\mathbf{P}^{(-2)}}_{\\tilde{\\mathbf{Q}}^{(1)}} \\,\n",
    "\\underbrace{\\mathbf{P}^{(2)} \\mathbf{P}^{(1)}}_{\\mathbf{P}} \\,\n",
    "\\mathbf{A} \\\\\n",
    "&= \\tilde{\\mathbf{Q}} \\mathbf{P} \\mathbf{A}\n",
    "\\end{split} \\: ,\n",
    "$$"
   ]
  },
  {
   "cell_type": "markdown",
   "metadata": {},
   "source": [
    "where $\\mathbf{P}^{(-k)} \\equiv \\left( \\mathbf{P}^{(k)} \\right)^{-1}$, $\\mathbf{P} = \\mathbf{P}^{(N-1)}\\mathbf{P}^{(N-2)} \\cdots  \\mathbf{P}^{(1)}$, $\\tilde{\\mathbf{Q}} = \\tilde{\\mathbf{Q}}^{(N-1)} \\tilde{\\mathbf{Q}}^{(N-2)} \\cdots \\tilde{\\mathbf{Q}}^{(1)}$, $N = 3$. It is worth noting the diference between the matrix $\\tilde{\\mathbf{Q}}$ presented here and the matrix $\\mathbf{Q}$ presented in the previous notebook."
   ]
  },
  {
   "cell_type": "markdown",
   "metadata": {},
   "source": [
    "The permuted matrix $\\mathbf{P}\\mathbf{A}$ can be written as follows:"
   ]
  },
  {
   "cell_type": "markdown",
   "metadata": {},
   "source": [
    "$$\n",
    "\\mathbf{P}\\mathbf{A} = \\tilde{\\mathbf{Q}}^{-1} \\, \\mathbf{A}^{(2)} \\: ,\n",
    "$$"
   ]
  },
  {
   "cell_type": "markdown",
   "metadata": {},
   "source": [
    "where $\\tilde{\\mathbf{Q}}^{-1} = \\tilde{\\mathbf{Q}}^{(-1)} \\tilde{\\mathbf{Q}}^{(-2)}$, $\\tilde{\\mathbf{Q}}^{(-k)} \\equiv \\left( \\tilde{\\mathbf{Q}}^{(k)} \\right)^{-1}$. As in the previous class, we need to know how to define a generic $\\tilde{\\mathbf{Q}}^{(-k)}$. Let's first define a generic $\\tilde{\\mathbf{Q}}^{(k)}$ as follows:"
   ]
  },
  {
   "cell_type": "markdown",
   "metadata": {},
   "source": [
    "$$\n",
    "\\tilde{\\mathbf{Q}}^{(k)} = \n",
    "\\tilde{\\mathbf{P}}^{(k)} \\, \\left( \\mathbf{I} - \\mathbf{M}^{(k)} \\right) \\, \\tilde{\\mathbf{P}}^{(-k)} \\: ,\n",
    "$$"
   ]
  },
  {
   "cell_type": "markdown",
   "metadata": {},
   "source": [
    "where"
   ]
  },
  {
   "cell_type": "markdown",
   "metadata": {},
   "source": [
    "$$\\tilde{\\mathbf{P}}^{(k)} = \\mathbf{P}^{(N-1)} \\cdots \\mathbf{P}^{(k+2)}\\mathbf{P}^{(k+1)} \\: .$$"
   ]
  },
  {
   "cell_type": "markdown",
   "metadata": {},
   "source": [
    "Then, a generic $\\tilde{\\mathbf{Q}}^{(-k)}$ is given by:"
   ]
  },
  {
   "cell_type": "markdown",
   "metadata": {},
   "source": [
    "$$\n",
    "\\tilde{\\mathbf{Q}}^{(-k)} = \\tilde{\\mathbf{P}}^{(k)} \\,\n",
    "\\left( \\mathbf{I} + \\mathbf{M}^{(k)} \\right) \\,\n",
    "\\tilde{\\mathbf{P}}^{(-k)} \\: .\n",
    "$$"
   ]
  },
  {
   "cell_type": "markdown",
   "metadata": {},
   "source": [
    "It can be shown that the permutation matrices $\\mathbf{P}^{(k)}$ satisfy the equation $\\mathbf{P}^{(-k)} = \\left( \\mathbf{P}^{(k)} \\right)^{\\top}$, which means that they are [orthogonal matrices](http://mathworld.wolfram.com/OrthogonalMatrix.html). Consequently, the matrices $\\tilde{\\mathbf{P}}^{(k)}$ are orthogonal as well. The cell below shows an example of permutation matrix constructed by randomly shuffling the rows of an identity matrix. The routine [`numpy.random.shuffle`](http://docs.scipy.org/doc/numpy/reference/generated/numpy.random.shuffle.html) is used."
   ]
  },
  {
   "cell_type": "code",
   "execution_count": 1,
   "metadata": {},
   "outputs": [],
   "source": [
    "import numpy as np"
   ]
  },
  {
   "cell_type": "code",
   "execution_count": 2,
   "metadata": {},
   "outputs": [],
   "source": [
    "p = np.arange(10)"
   ]
  },
  {
   "cell_type": "code",
   "execution_count": 3,
   "metadata": {},
   "outputs": [
    {
     "name": "stdout",
     "output_type": "stream",
     "text": [
      "[0 1 2 3 4 5 6 7 8 9]\n"
     ]
    }
   ],
   "source": [
    "print p"
   ]
  },
  {
   "cell_type": "code",
   "execution_count": 4,
   "metadata": {},
   "outputs": [],
   "source": [
    "np.random.shuffle(p)"
   ]
  },
  {
   "cell_type": "code",
   "execution_count": 5,
   "metadata": {},
   "outputs": [
    {
     "name": "stdout",
     "output_type": "stream",
     "text": [
      "[5 2 0 8 7 4 3 1 9 6]\n"
     ]
    }
   ],
   "source": [
    "print p"
   ]
  },
  {
   "cell_type": "code",
   "execution_count": 6,
   "metadata": {},
   "outputs": [],
   "source": [
    "P = np.identity(p.size)[p]"
   ]
  },
  {
   "cell_type": "code",
   "execution_count": 7,
   "metadata": {},
   "outputs": [
    {
     "name": "stdout",
     "output_type": "stream",
     "text": [
      "[[ 0.  0.  0.  0.  0.  1.  0.  0.  0.  0.]\n",
      " [ 0.  0.  1.  0.  0.  0.  0.  0.  0.  0.]\n",
      " [ 1.  0.  0.  0.  0.  0.  0.  0.  0.  0.]\n",
      " [ 0.  0.  0.  0.  0.  0.  0.  0.  1.  0.]\n",
      " [ 0.  0.  0.  0.  0.  0.  0.  1.  0.  0.]\n",
      " [ 0.  0.  0.  0.  1.  0.  0.  0.  0.  0.]\n",
      " [ 0.  0.  0.  1.  0.  0.  0.  0.  0.  0.]\n",
      " [ 0.  1.  0.  0.  0.  0.  0.  0.  0.  0.]\n",
      " [ 0.  0.  0.  0.  0.  0.  0.  0.  0.  1.]\n",
      " [ 0.  0.  0.  0.  0.  0.  1.  0.  0.  0.]]\n"
     ]
    }
   ],
   "source": [
    "print P"
   ]
  },
  {
   "cell_type": "code",
   "execution_count": 8,
   "metadata": {},
   "outputs": [
    {
     "data": {
      "text/plain": [
       "True"
      ]
     },
     "execution_count": 8,
     "metadata": {},
     "output_type": "execute_result"
    }
   ],
   "source": [
    "np.allclose(np.dot(P.T,P), np.identity(p.size))"
   ]
  },
  {
   "cell_type": "markdown",
   "metadata": {},
   "source": [
    "Now, let's analyze the matrix $\\tilde{\\mathbf{Q}}^{(-k)}$:"
   ]
  },
  {
   "cell_type": "markdown",
   "metadata": {},
   "source": [
    "$$\n",
    "\\begin{split}\n",
    "\\tilde{\\mathbf{Q}}^{(-k)} &= \\tilde{\\mathbf{P}}^{(-k)} \\,\n",
    "\\left( \\mathbf{I} + \\mathbf{M}^{(k)} \\right) \\,\n",
    "\\tilde{\\mathbf{P}}^{(k)} \\\\\n",
    "&= \\mathbf{I} + \\tilde{\\mathbf{P}}^{(-k)} \\,\n",
    "\\, \\mathbf{M}^{(k)} \\,\n",
    "\\tilde{\\mathbf{P}}^{(k)} \\\\\n",
    "&= \\mathbf{I} + \\tilde{\\mathbf{P}}^{(-k)} \\,\n",
    "\\mathbf{t}^{(k)} \\otimes \\left( \\mathbf{u}^{(k)} \\right)^{\\top} \\,\n",
    "\\tilde{\\mathbf{P}}^{(k)}\n",
    "\\end{split} \\: .\n",
    "$$"
   ]
  },
  {
   "cell_type": "markdown",
   "metadata": {},
   "source": [
    "Notice that the matrix $\\tilde{\\mathbf{P}}^{(-k)}$ swaps the elements $\\left[ \\, k+1 \\, : \\, \\right]$ of $\\mathbf{t}^{(k)}$, resulting in a new vector $\\tilde{\\mathbf{t}}^{(k)} = \\tilde{\\mathbf{P}}^{(-k)} \\, \\mathbf{t}^{(k)}$. Similarly, the matrix $\\tilde{\\mathbf{P}}^{(k)}$ swaps the elements $\\left[ \\, k+1 \\, : \\, \\right]$ of $\\left( \\mathbf{u}^{(k)} \\right)^{\\top}$ and, consequently, $\\left( \\mathbf{u}^{(k)} \\right)^{\\top} \\, \\tilde{\\mathbf{P}}^{(k)} = \\left( \\mathbf{u}^{(k)} \\right)^{\\top}$. Then, the matrix $\\tilde{\\mathbf{Q}}^{(-k)}$ can be rewritten as follows:"
   ]
  },
  {
   "cell_type": "markdown",
   "metadata": {},
   "source": [
    "$$\n",
    "\\tilde{\\mathbf{Q}}^{(-k)} = \\mathbf{I} + \\tilde{\\mathbf{t}}^{(k)} \\otimes \\left( \\mathbf{u}^{(k)} \\right)^{\\top} \\: .\n",
    "$$"
   ]
  },
  {
   "cell_type": "markdown",
   "metadata": {},
   "source": [
    "By using this result, we can verify that the matrix $\\tilde{\\mathbf{Q}}^{-1}$ is given by:"
   ]
  },
  {
   "cell_type": "markdown",
   "metadata": {},
   "source": [
    "$$\n",
    "\\begin{split}\n",
    "\\tilde{\\mathbf{Q}}^{-1}\n",
    "&= \\left[ \\mathbf{I} + \\tilde{\\mathbf{t}}^{(1)} \\otimes \\left( \\mathbf{u}^{(1)} \\right)^{\\top} \\right]\n",
    "   \\left[ \\mathbf{I} + \\tilde{\\mathbf{t}}^{(2)} \\otimes \\left( \\mathbf{u}^{(2)} \\right)^{\\top} \\right] \\\\\n",
    "&= \\mathbf{I} + \\tilde{\\mathbf{t}}^{(1)} \\otimes \\left( \\mathbf{u}^{(1)} \\right)^{\\top} +\n",
    "   \\tilde{\\mathbf{t}}^{(2)} \\otimes \\left( \\mathbf{u}^{(2)} \\right)^{\\top} + \n",
    "   \\tilde{\\mathbf{t}}^{(1)} \\otimes \n",
    "   \\underbrace{ \\left( \\mathbf{u}^{(1)} \\right)^{\\top} \\tilde{\\mathbf{t}}^{(2)}}_{= \\, 0}\n",
    "   \\otimes \\left( \\mathbf{u}^{(2)} \\right)^{\\top} \\\\\n",
    "&= \\mathbf{I} + \\tilde{\\mathbf{t}}^{(1)} \\otimes \\left( \\mathbf{u}^{(1)} \\right)^{\\top} +\n",
    "   \\tilde{\\mathbf{t}}^{(2)} \\otimes \\left( \\mathbf{u}^{(2)} \\right)^{\\top} \\\\\n",
    "&= \n",
    "\\left[ \\begin{array}{ccc}\n",
    "1 & 0 & 0 \\\\\n",
    "0 & 1 & 0 \\\\\n",
    "0 & 0 & 1\n",
    "\\end{array} \\right] +\n",
    "\\left[ \\begin{array}{ccc}\n",
    "0 & 0 & 0 \\\\\n",
    "\\tilde{t}_{2}^{(1)} & 0 & 0 \\\\\n",
    "\\tilde{t}_{3}^{(1)} & 0 & 0\n",
    "\\end{array} \\right] +\n",
    "\\left[ \\begin{array}{ccc}\n",
    "0 & 0 & 0 \\\\\n",
    "0 & 0 & 0 \\\\\n",
    "0 & \\tilde{t}_{3}^{(2)} & 0\n",
    "\\end{array} \\right] \\\\\n",
    "&=\n",
    "\\left[ \\begin{array}{ccc}\n",
    "1 & 0 & 0 \\\\\n",
    "\\tilde{t}_{2}^{(1)} & 1 & 0 \\\\\n",
    "\\tilde{t}_{3}^{(1)} & \\tilde{t}_{3}^{(2)} & 1\n",
    "\\end{array} \\right]\n",
    "\\end{split} \\: ,\n",
    "$$"
   ]
  },
  {
   "cell_type": "markdown",
   "metadata": {},
   "source": [
    "which is a unit **L**ower triangular matrix containing the permuted Gauss multipliers. Notice that this matrix $\\tilde{\\mathbf{Q}}^{-1}$ differs from that one presented in the previous class because the Gauss multipliers are permuted. Similarly to the previous class, the **U**pper triangular matrix $\\mathbf{A}^{(2)}$ is defined as $\\mathbf{U}$ and the original matrix $\\mathbf{A}$ is factored as follows:"
   ]
  },
  {
   "cell_type": "markdown",
   "metadata": {},
   "source": [
    "$$\n",
    "\\mathbf{P} \\, \\mathbf{A} = \\tilde{\\mathbf{L}} \\, \\mathbf{U} \\: ,\n",
    "$$"
   ]
  },
  {
   "cell_type": "markdown",
   "metadata": {},
   "source": [
    "where $\\mathbf{P}$ is the product of all permutation matrices. Notice that the lower triangular matrix $\\tilde{\\mathbf{L}}$ presented here is different from the lower triangular matrix $\\mathbf{L}$ presented in the previous notebook."
   ]
  },
  {
   "cell_type": "markdown",
   "metadata": {},
   "source": [
    "The mathematical development presented here is valid for $3 \\times 3$ matrices, however, it can be easily generalized to $N \\times N$ matrices as well."
   ]
  },
  {
   "cell_type": "markdown",
   "metadata": {},
   "source": [
    "The LU decomposition described above can be implemented as follows:"
   ]
  },
  {
   "cell_type": "markdown",
   "metadata": {},
   "source": [
    "    N = y.size\n",
    "    C = np.copy(A)\n",
    "    P = np.identity(N)\n",
    "    \n",
    "    for i = 1:N-1\n",
    "\n",
    "        # permutation step (computation of C tilde)\n",
    "        p, C = permut(C, i)\n",
    "        P = P[p]\n",
    "        \n",
    "        # assert the pivot is nonzero\n",
    "        assert C[i,i] != 0., 'null pivot!'\n",
    "        \n",
    "        # calculate the Gauss multipliers and store them \n",
    "        # in the lower part of C\n",
    "        C[i+1:,i] = C[i+1:,i]/C[i,i]\n",
    "        \n",
    "        # zeroing of the elements in the ith column\n",
    "        C[i+1:,i+1:] = C[i+1:,i+1:] - outer(C[i+1:,i], C[i,i+1:])\n",
    "        \n",
    "    return P, C"
   ]
  },
  {
   "cell_type": "markdown",
   "metadata": {},
   "source": [
    "The permutation function can be defined as follows:"
   ]
  },
  {
   "cell_type": "markdown",
   "metadata": {},
   "source": [
    "    permut (C, i):\n",
    "        p = [j for j in range(C.shape[0])]\n",
    "        imax = i + np.argmax(np.abs(C[i:,i]))\n",
    "        if imax != i:\n",
    "            p[i], p[imax] = p[imax], p[i]\n",
    "    return p, C[p,:]"
   ]
  },
  {
   "cell_type": "markdown",
   "metadata": {},
   "source": [
    "This algorithm receives a square matrix $\\mathbf{A}$ and returns the permutation matrix $\\mathbf{P}$ and a matrix $\\mathbf{C}$ containing the triangular matrices $\\mathbf{L}$ and $\\mathbf{U}$. The elements of $\\mathbf{L}$, except the unitary elements of its main diagonal, are stored below the main diagonal of $\\mathbf{C}$. The elements of $\\mathbf{U}$ are stored in the upper part of $\\mathbf{C}$, including its main diagonal."
   ]
  },
  {
   "cell_type": "markdown",
   "metadata": {},
   "source": [
    "## Solving a linear system by using the LU decomposition with partial pivoting"
   ]
  },
  {
   "cell_type": "markdown",
   "metadata": {},
   "source": [
    "Once the permutation matrix $\\mathbf{P}$ and the triangular matrices $\\tilde{\\mathbf{L}}$ and $\\mathbf{U}$ are calculated, we may use them to solve a linear system $\\mathbf{A} \\mathbf{x} = \\mathbf{y}$. Let's first substitute the LU decomposition into the linear system:"
   ]
  },
  {
   "cell_type": "markdown",
   "metadata": {},
   "source": [
    "$$\n",
    "\\begin{split}\n",
    "\\mathbf{A} \\mathbf{x} &= \\mathbf{y} \\\\\n",
    "\\mathbf{P} \\mathbf{A} \\mathbf{x} &= \\mathbf{P} \\mathbf{y} \\\\\n",
    "\\tilde{\\mathbf{L}} \\mathbf{U} \\mathbf{x} &= \\mathbf{P} \\mathbf{y}\n",
    "\\end{split} \\: .\n",
    "$$"
   ]
  },
  {
   "cell_type": "markdown",
   "metadata": {},
   "source": [
    "This equation shows that the original linear system can be represented by two triangular systems:"
   ]
  },
  {
   "cell_type": "markdown",
   "metadata": {},
   "source": [
    "$$\n",
    "\\begin{split}\n",
    "\\tilde{\\mathbf{L}}\\mathbf{w} &= \\mathbf{P} \\mathbf{y} \\\\\n",
    "\\mathbf{U}\\mathbf{x} &= \\mathbf{w}\n",
    "\\end{split} \\: ,\n",
    "$$"
   ]
  },
  {
   "cell_type": "markdown",
   "metadata": {},
   "source": [
    "where $\\mathbf{w}$ is a dummy variable. Therefore, the linear system can be solved in two steps: 1) solve the lower triangular system for $\\mathbf{w}$ and then 2) use it to solve the upper triangular system for $\\mathbf{x}$."
   ]
  },
  {
   "cell_type": "markdown",
   "metadata": {},
   "source": [
    "## Computing inverses by using the LU decomposition"
   ]
  },
  {
   "cell_type": "markdown",
   "metadata": {},
   "source": [
    "As we have learned in a previous class, each column of the inverse of a matrix can be computed by solving a linear system. It means that computing the inverse of an $N \\times N$ matrix requires the solution of $N$ linear systems. Note that, by using the Gaussian elimination (with or without partial pivoting), we need to compute the triangular matrix just once, but a different 'data vector' for each one of the $N$ columns of the inverse matrix. If we instead use the LU decomposition (with or without partial pivoting), we need to compute the matrices $\\mathbf{L}$ and $\\mathbf{U}$ just once."
   ]
  },
  {
   "cell_type": "markdown",
   "metadata": {},
   "source": [
    "### Exercise\n",
    "\n",
    "In your `my_functions.py` file:\n",
    "\n",
    "1) Implement the LU decomposition with partial pivoting presented above. The code must receive a matrix `A` and return the matrices `C` and `P`.\n",
    "\n",
    "2) Use the matrices `C` and `P` to solve a linear system `Ax = y`. The code must use the function you have created in the item 1, as well as the functions you have created for solving triangular systems.\n",
    "\n",
    "3) Create a test that defines a square matrix `A`, compute the matrices `C` and `P` by using the function implemented in the item 1, use `C` to create the triangular matrices `L` and `U` and verify the condition `PA = LU` is satisfied.\n",
    "\n",
    "In your `test_my_functions.py` file:\n",
    "\n",
    "4) Create a test to compare the solution of the linear system  obtained by the function implemented in item 2 and the solution obtained by [`numpy.linalg.solve`](https://docs.scipy.org/doc/numpy/reference/generated/numpy.linalg.solve.html).\n",
    "\n",
    "5) Create a test to compare the matrices `P`, `L`, `U` obtainted by using your function with the matrices `P`, `L`, `U` obtainted by using the function [`scipy.linalg.lu`](http://docs.scipy.org/doc/scipy-0.14.0/reference/generated/scipy.linalg.lu.html). Be careful! The matrix `P` calculated by the routine `scipy.linalg.lu` is equal to the transpose of the matrix `P` calculated by the algorithm presented here."
   ]
  },
  {
   "cell_type": "code",
   "execution_count": 9,
   "metadata": {},
   "outputs": [],
   "source": [
    "from scipy.linalg import lu"
   ]
  },
  {
   "cell_type": "code",
   "execution_count": 10,
   "metadata": {},
   "outputs": [],
   "source": [
    "N = 5\n",
    "A = np.reshape(10.*np.random.rand(N*N), (N,N))"
   ]
  },
  {
   "cell_type": "code",
   "execution_count": 11,
   "metadata": {},
   "outputs": [],
   "source": [
    "P_sp, L_sp, U_sp = lu(A)"
   ]
  },
  {
   "cell_type": "code",
   "execution_count": 12,
   "metadata": {},
   "outputs": [
    {
     "data": {
      "text/plain": [
       "True"
      ]
     },
     "execution_count": 12,
     "metadata": {},
     "output_type": "execute_result"
    }
   ],
   "source": [
    "np.allclose(A, np.dot(P_sp, np.dot(L_sp,U_sp)))"
   ]
  },
  {
   "cell_type": "code",
   "execution_count": null,
   "metadata": {},
   "outputs": [],
   "source": []
  }
 ],
 "metadata": {
  "kernelspec": {
   "display_name": "Python 2",
   "language": "python",
   "name": "python2"
  },
  "language_info": {
   "codemirror_mode": {
    "name": "ipython",
    "version": 2
   },
   "file_extension": ".py",
   "mimetype": "text/x-python",
   "name": "python",
   "nbconvert_exporter": "python",
   "pygments_lexer": "ipython2",
   "version": "2.7.14"
  }
 },
 "nbformat": 4,
 "nbformat_minor": 1
}
