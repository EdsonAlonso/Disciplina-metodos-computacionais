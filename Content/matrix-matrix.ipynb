{
 "cells": [
  {
   "cell_type": "markdown",
   "metadata": {},
   "source": [
    "#Produto entre matrizes"
   ]
  },
  {
   "cell_type": "markdown",
   "metadata": {},
   "source": [
    "Seja $\\mathbf{A}$ uma matriz $N \\times M$ e $\\mathbf{B}$ uma matriz $M \\times L$. Tais matrizes podem ser particionadas em linhas ou em colunas, tal como descrito abaixo:"
   ]
  },
  {
   "cell_type": "markdown",
   "metadata": {},
   "source": [
    "$$\\begin{split}\n",
    "    \\mathbf{A} \n",
    "    & = \\left[\n",
    "    \\begin{array}{ccc}\n",
    "        a_{11} & \\cdots & a_{1M} \\\\\n",
    "        \\vdots &        & \\vdots \\\\\n",
    "        a_{N1} & \\cdots & a_{NM}\n",
    "    \\end{array}\n",
    "    \\right]_{N \\times M} \\\\\\\\\n",
    "    & = \\left[\n",
    "    \\begin{array}{c}\n",
    "        \\mathbf{A}(1,:) \\\\\n",
    "        \\vdots \\\\\n",
    "        \\mathbf{A}(N,:)\n",
    "    \\end{array}\n",
    "    \\right]_{N \\times M} \\\\\\\\\n",
    "    & = \\left[\n",
    "    \\begin{array}{ccc}\n",
    "        \\mathbf{A}(:,1) &\n",
    "        \\cdots &\n",
    "        \\mathbf{A}(:,M)\n",
    "    \\end{array}\n",
    "    \\right]_{N \\times M} \\:\n",
    "\\end{split}$$"
   ]
  },
  {
   "cell_type": "markdown",
   "metadata": {},
   "source": [
    "e"
   ]
  },
  {
   "cell_type": "markdown",
   "metadata": {},
   "source": [
    "$$\\begin{split}\n",
    "    \\mathbf{B} \n",
    "    & = \\left[\n",
    "    \\begin{array}{ccc}\n",
    "        b_{11} & \\cdots & b_{1L} \\\\\n",
    "        \\vdots &        & \\vdots \\\\\n",
    "        b_{M1} & \\cdots & b_{ML}\n",
    "    \\end{array}\n",
    "    \\right]_{M \\times L} \\\\\\\\\n",
    "    & = \\left[\n",
    "    \\begin{array}{c}\n",
    "        \\mathbf{B}(1,:) \\\\\n",
    "        \\vdots \\\\\n",
    "        \\mathbf{B}(M,:)\n",
    "    \\end{array}\n",
    "    \\right]_{M \\times L} \\\\\\\\\n",
    "    & = \\left[\n",
    "    \\begin{array}{ccc}\n",
    "        \\mathbf{B}(:,1) &\n",
    "        \\cdots &\n",
    "        \\mathbf{B}(:,L)\n",
    "    \\end{array}\n",
    "    \\right]_{M \\times L} \\: , \\\\\n",
    "\\end{split}$$"
   ]
  },
  {
   "cell_type": "markdown",
   "metadata": {},
   "source": [
    "em que $\\mathbf{A}(i,:)$, $i = 1, ..., N$, é o vetor $1 \\times M$ que representa a $i$-ésima linha de $\\mathbf{A}$ e $\\mathbf{A}(:,j)$, $j = 1, ..., M$, é o vetor $N \\times 1$ que representa a $j$-ésima coluna de $\\mathbf{A}$. Analogamente, $\\mathbf{B}(i,:)$, $i = 1, ..., M$, é o vetor $1 \\times L$ que representa a $i$-ésima linha de $\\mathbf{B}$ e $\\mathbf{B}(:,j)$, $j = 1, ..., L$, é o vetor $M \\times 1$ que representa a $j$-ésima coluna de $\\mathbf{B}$."
   ]
  },
  {
   "cell_type": "markdown",
   "metadata": {
    "collapsed": true
   },
   "source": [
    "Seja $\\mathbf{C}$ a matriz $N \\times L$ resultante do produto entre as matrizes $\\mathbf{A}$ e $\\mathbf{B}$. A expressão que descreve os elementos de $\\mathbf{C}$ é dada por:"
   ]
  },
  {
   "cell_type": "markdown",
   "metadata": {},
   "source": [
    "$$\\begin{split}\n",
    "\\mathbf{C} \n",
    "    & = \\left[\n",
    "    \\begin{array}{ccc}\n",
    "        c_{11} & \\cdots & c_{1L} \\\\\n",
    "        \\vdots &        & \\vdots \\\\\n",
    "        c_{N1} & \\cdots & c_{NL}\n",
    "    \\end{array}\n",
    "    \\right]_{N \\times L} \\\\\\\\\n",
    "    & = \\left[\n",
    "    \\begin{array}{cccc}\n",
    "        \\left( a_{11} \\, b_{11} + \\cdots + a_{1M} \\, b_{M1} \\right) &\n",
    "        \\left( a_{11} \\, b_{12} + \\cdots + a_{1M} \\, b_{M2} \\right) &\n",
    "        \\cdots &\n",
    "        \\left( a_{11} \\, b_{1L} + \\cdots + a_{1M} \\, b_{ML} \\right) \\\\\n",
    "        \\left( a_{21} \\, b_{11} + \\cdots + a_{2M} \\, b_{M1} \\right) &\n",
    "        \\left( a_{21} \\, b_{12} + \\cdots + a_{2M} \\, b_{M2} \\right) &\n",
    "        \\cdots &\n",
    "        \\left( a_{21} \\, b_{1L} + \\cdots + a_{2M} \\, b_{ML} \\right) \\\\\n",
    "        \\vdots & \\vdots & & \\vdots \\\\\n",
    "        \\left( a_{N1} \\, b_{11} + \\cdots + a_{NM} \\, b_{M1} \\right) &\n",
    "        \\left( a_{N1} \\, b_{12} + \\cdots + a_{NM} \\, b_{M2} \\right) &\n",
    "        \\cdots &\n",
    "        \\left( a_{N1} \\, b_{1L} + \\cdots + a_{NM} \\, b_{ML} \\right)\n",
    "    \\end{array}\n",
    "    \\right]_{N \\times L} \\: .    \n",
    "\\end{split}\n",
    "$$"
   ]
  },
  {
   "cell_type": "code",
   "execution_count": null,
   "metadata": {
    "collapsed": true
   },
   "outputs": [],
   "source": []
  },
  {
   "cell_type": "markdown",
   "metadata": {},
   "source": [
    "##1) Formulação baseada no encadeamento de três laços"
   ]
  },
  {
   "cell_type": "markdown",
   "metadata": {},
   "source": [
    "O algoritmo mais simples para calcular o produto $\\mathbf{C} = \\mathbf{A} \\mathbf{B}$ é dado por:"
   ]
  },
  {
   "cell_type": "markdown",
   "metadata": {},
   "source": [
    "-----\n",
    "$\\mathbf{C} = \\mathbf{0}$\n",
    "\n",
    "for $i = 1:N$\n",
    "\n",
    ">for $j = 1:L$ \n",
    "\n",
    ">>for $k = 1:M$\n",
    "\n",
    ">>>$c_{ij} = c_{ij} + a_{ik} \\, b_{kj}$\n",
    "\n",
    ">>end\n",
    "\n",
    ">end\n",
    "\n",
    "end\n",
    "\n",
    "-----"
   ]
  },
  {
   "cell_type": "markdown",
   "metadata": {},
   "source": [
    "Note que o loop $i$ percorre as linhas de $\\mathbf{A}$, o loop $j$ percorre as colunas de $\\mathbf{B}$ e o loop $k$ percorre os elementos ao longo da $i$-ésima linha de $\\mathbf{A}$ e os elementos ao longo da $j$-ésima coluna de $\\mathbf{B}$."
   ]
  },
  {
   "cell_type": "markdown",
   "metadata": {
    "collapsed": true
   },
   "source": [
    "Compare este algoritmo com a expressão que descreve os elementos de $\\mathbf{C}$."
   ]
  },
  {
   "cell_type": "code",
   "execution_count": null,
   "metadata": {
    "collapsed": true
   },
   "outputs": [],
   "source": []
  },
  {
   "cell_type": "markdown",
   "metadata": {},
   "source": [
    "##2) Formulação baseada no produto escalar"
   ]
  },
  {
   "cell_type": "markdown",
   "metadata": {},
   "source": [
    "A expressão que descreve os elementos de $\\mathbf{C}$ pode ser reescrita da seguinte forma:"
   ]
  },
  {
   "cell_type": "markdown",
   "metadata": {},
   "source": [
    "$$\\begin{split}\n",
    "\\mathbf{C} \n",
    "    & = \\left[\n",
    "    \\begin{array}{ccc}\n",
    "        c_{11} & \\cdots & c_{1L} \\\\\n",
    "        \\vdots &        & \\vdots \\\\\n",
    "        c_{N1} & \\cdots & c_{NL}\n",
    "    \\end{array}\n",
    "    \\right]_{N \\times L} \\\\\\\\\n",
    "    & = \\left[\n",
    "    \\begin{array}{cccc}\n",
    "        \\left( a_{11} \\, b_{11} + \\cdots + a_{1M} \\, b_{M1} \\right) &\n",
    "        \\left( a_{11} \\, b_{12} + \\cdots + a_{1M} \\, b_{M2} \\right) &\n",
    "        \\cdots &\n",
    "        \\left( a_{11} \\, b_{1L} + \\cdots + a_{1M} \\, b_{ML} \\right) \\\\\n",
    "        \\left( a_{21} \\, b_{11} + \\cdots + a_{2M} \\, b_{M1} \\right) &\n",
    "        \\left( a_{21} \\, b_{12} + \\cdots + a_{2M} \\, b_{M2} \\right) &\n",
    "        \\cdots &\n",
    "        \\left( a_{21} \\, b_{1L} + \\cdots + a_{2M} \\, b_{ML} \\right) \\\\\n",
    "        \\vdots & \\vdots & & \\vdots \\\\\n",
    "        \\left( a_{N1} \\, b_{11} + \\cdots + a_{NM} \\, b_{M1} \\right) &\n",
    "        \\left( a_{N1} \\, b_{12} + \\cdots + a_{NM} \\, b_{M2} \\right) &\n",
    "        \\cdots &\n",
    "        \\left( a_{N1} \\, b_{1L} + \\cdots + a_{NM} \\, b_{ML} \\right)\n",
    "    \\end{array}\n",
    "    \\right]_{N \\times L} \\\\\\\\\n",
    "    & = \\left[\n",
    "    \\begin{array}{cccc}\n",
    "        \\mathbf{A}(1,:) \\mathbf{B}(:,1) &\n",
    "        \\mathbf{A}(1,:) \\mathbf{B}(:,2) &\n",
    "        \\cdots &\n",
    "        \\mathbf{A}(1,:) \\mathbf{B}(:,L) \\\\\n",
    "        \\mathbf{A}(2,:) \\mathbf{B}(:,1) &\n",
    "        \\mathbf{A}(2,:) \\mathbf{B}(:,2) &\n",
    "        \\cdots &\n",
    "        \\mathbf{A}(2,:) \\mathbf{B}(:,L) \\\\        \n",
    "        \\vdots & \\vdots & & \\vdots \\\\\n",
    "        \\mathbf{A}(N,:) \\mathbf{B}(:,1) &\n",
    "        \\mathbf{A}(N,:) \\mathbf{B}(:,2) &\n",
    "        \\cdots &\n",
    "        \\mathbf{A}(N,:) \\mathbf{B}(:,L) \\\\\n",
    "    \\end{array}\n",
    "    \\right]_{N \\times L} \\: ,\n",
    "\\end{split}\n",
    "$$"
   ]
  },
  {
   "cell_type": "markdown",
   "metadata": {},
   "source": [
    "em que $\\mathbf{A}(i,:) \\, \\mathbf{B}(:,j)$ indica o produto escalar entre o vetor $\\mathbf{A}(i,:)$, que é $1 \\times M$, e o vetor $\\mathbf{B}(:,j)$, que é $M \\times 1$. Esta formulação consiste em representar cada elemento $c_{ij}$, $i = 1, ..., N$, $j = 1, ..., L$, como o produto escalar entre $\\mathbf{A}(i,:)$ e $\\mathbf{B}(:,j)$. Sendo assim, o algoritmo para calcular o produto $\\mathbf{C} = \\mathbf{A} \\mathbf{B}$ pode ser reescrito da seguinte forma:"
   ]
  },
  {
   "cell_type": "markdown",
   "metadata": {},
   "source": [
    "----\n",
    "for $i = 1:N$\n",
    "\n",
    ">for $j = 1:L$ \n",
    "\n",
    ">>$c_{ij} = \\mathbf{A}(i,:) \\, \\mathbf{B}(:,j)$\n",
    "\n",
    ">end\n",
    "\n",
    "end\n",
    "\n",
    "-----"
   ]
  },
  {
   "cell_type": "markdown",
   "metadata": {},
   "source": [
    "Note que o loop $j$ percorre os elementos da $i$-ésima linha da matriz $\\mathbf{C}$. Isso permite reescrever a expressão que descreve o elementos de $\\mathbf{C}$ da seguinte forma:"
   ]
  },
  {
   "cell_type": "markdown",
   "metadata": {},
   "source": [
    "$$\\begin{split}\n",
    "\\mathbf{C} \n",
    "    & = \\left[\n",
    "    \\begin{array}{cccc}\n",
    "        \\mathbf{A}(1,:) \\mathbf{B}(:,1) &\n",
    "        \\mathbf{A}(1,:) \\mathbf{B}(:,2) &\n",
    "        \\cdots &\n",
    "        \\mathbf{A}(1,:) \\mathbf{B}(:,L) \\\\\n",
    "        \\mathbf{A}(2,:) \\mathbf{B}(:,1) &\n",
    "        \\mathbf{A}(2,:) \\mathbf{B}(:,2) &\n",
    "        \\cdots &\n",
    "        \\mathbf{A}(2,:) \\mathbf{B}(:,L) \\\\        \n",
    "        \\vdots & \\vdots & & \\vdots \\\\\n",
    "        \\mathbf{A}(N,:) \\mathbf{B}(:,1) &\n",
    "        \\mathbf{A}(N,:) \\mathbf{B}(:,2) &\n",
    "        \\cdots &\n",
    "        \\mathbf{A}(N,:) \\mathbf{B}(:,L) \\\\\n",
    "    \\end{array}\n",
    "    \\right]_{N \\times L} \\\\\\\\\n",
    "    & = \\left[\n",
    "    \\begin{array}{c}\n",
    "        \\mathbf{A}(1,:)\n",
    "        \\left[ \\begin{array}{cccc}\n",
    "        \\mathbf{B}(:,1) \\: \\mathbf{B}(:,2) \\: \\cdots \\: \\mathbf{B}(:,L)\n",
    "        \\end{array} \\right] \\\\\n",
    "        \\vdots \\\\\n",
    "        \\mathbf{A}(N,:)\n",
    "        \\left[ \\begin{array}{cccc}\n",
    "        \\mathbf{B}(:,1) \\: \\mathbf{B}(:,2) \\: \\cdots \\: \\mathbf{B}(:,L)\n",
    "        \\end{array} \\right]\n",
    "    \\end{array}\n",
    "    \\right]_{N \\times L} \\\\\\\\\n",
    "    & = \\left[\n",
    "    \\begin{array}{c}\n",
    "        \\mathbf{A}(1,:) \\mathbf{B} \\\\\n",
    "        \\vdots \\\\\n",
    "        \\mathbf{A}(N,:) \\mathbf{B}\n",
    "    \\end{array}\n",
    "    \\right]_{N \\times L} \\: .\n",
    "\\end{split}\n",
    "$$"
   ]
  },
  {
   "cell_type": "markdown",
   "metadata": {},
   "source": [
    "Note que esta expressão descreve cada linha $\\mathbf{C}(i,:)$, $i = 1, ..., N$, de $\\mathbf{C}$ como o produto entre $\\mathbf{A}(i,:)$, $i = 1, ..., N$, que é a $i$-ésima linha de $\\mathbf{A}$, e a matriz $\\mathbf{B}$. Esta expressão permite reescrever o algoritmo para o cálculo de $\\mathbf{C}$ da seguinte forma:"
   ]
  },
  {
   "cell_type": "markdown",
   "metadata": {},
   "source": [
    "----\n",
    "for $i = 1:N$\n",
    "\n",
    ">$\\mathbf{C}(i,:) = \\mathbf{A}(i,:) \\, \\mathbf{B}$\n",
    "\n",
    "end\n",
    "\n",
    "-----"
   ]
  },
  {
   "cell_type": "markdown",
   "metadata": {},
   "source": [
    "**ATENÇÃO:** $\\mathbf{A}(i,:) \\, \\mathbf{B}$ indica o produto entre o vetor $\\mathbf{A}(i,:)$, que é $1 \\times M$, pela matriz $\\mathbf{B}$, que é $M \\times L$. Portanto, $\\mathbf{C}(i,:)$ é um vetor $1 \\times L$."
   ]
  },
  {
   "cell_type": "code",
   "execution_count": null,
   "metadata": {
    "collapsed": true
   },
   "outputs": [],
   "source": []
  },
  {
   "cell_type": "markdown",
   "metadata": {},
   "source": [
    "##3) Formulação baseada na combinação linear de colunas"
   ]
  },
  {
   "cell_type": "markdown",
   "metadata": {},
   "source": [
    "A expressão que descreve os elementos de $\\mathbf{C}$ também pode ser escrita da seguinte forma:"
   ]
  },
  {
   "cell_type": "markdown",
   "metadata": {},
   "source": [
    "$$\\begin{split}\n",
    "\\mathbf{C} \n",
    "    & = \\left[\n",
    "    \\begin{array}{cccc}\n",
    "        \\mathbf{A}(1,:) \\mathbf{B}(:,1) &\n",
    "        \\mathbf{A}(1,:) \\mathbf{B}(:,2) &\n",
    "        \\cdots &\n",
    "        \\mathbf{A}(1,:) \\mathbf{B}(:,L) \\\\\n",
    "        \\mathbf{A}(2,:) \\mathbf{B}(:,1) &\n",
    "        \\mathbf{A}(2,:) \\mathbf{B}(:,2) &\n",
    "        \\cdots &\n",
    "        \\mathbf{A}(2,:) \\mathbf{B}(:,L) \\\\        \n",
    "        \\vdots & \\vdots & & \\vdots \\\\\n",
    "        \\mathbf{A}(N,:) \\mathbf{B}(:,1) &\n",
    "        \\mathbf{A}(N,:) \\mathbf{B}(:,2) &\n",
    "        \\cdots &\n",
    "        \\mathbf{A}(N,:) \\mathbf{B}(:,L) \\\\\n",
    "    \\end{array}\n",
    "    \\right]_{N \\times L} \\\\\\\\\n",
    "    & = \\left[\n",
    "    \\begin{array}{cccc}\n",
    "        \\left[ \\begin{array}{c}\n",
    "        \\mathbf{A}(1,:) \\\\ \\mathbf{A}(2,:) \\\\ \\vdots \\\\ \\mathbf{A}(M,:)\n",
    "        \\end{array} \\right] \\, \\mathbf{B}(:,1) &\n",
    "        \\left[ \\begin{array}{c}\n",
    "        \\mathbf{A}(1,:) \\\\ \\mathbf{A}(2,:) \\\\ \\vdots \\\\ \\mathbf{A}(M,:)\n",
    "        \\end{array} \\right] \\, \\mathbf{B}(:,2) &\n",
    "        \\cdots &\n",
    "        \\left[ \\begin{array}{c}\n",
    "        \\mathbf{A}(1,:) \\\\ \\mathbf{A}(2,:) \\\\ \\vdots \\\\ \\mathbf{A}(M,:)\n",
    "        \\end{array} \\right] \\, \\mathbf{B}(:,L) &\n",
    "        \\end{array}\n",
    "    \\right]_{N \\times L} \\\\\\\\\n",
    "    & = \\left[\n",
    "    \\begin{array}{cccc}\n",
    "        \\mathbf{A} \\, \\mathbf{B}(:,1) &\n",
    "        \\mathbf{A} \\, \\mathbf{B}(:,2) &\n",
    "        \\cdots &\n",
    "        \\mathbf{A} \\, \\mathbf{B}(:,L)\n",
    "    \\end{array}\n",
    "    \\right]_{N \\times L} \\: .\n",
    "\\end{split}\n",
    "$$"
   ]
  },
  {
   "cell_type": "markdown",
   "metadata": {},
   "source": [
    "Esta formulação consiste em representar cada coluna $\\mathbf{C}(:,j)$, $j = 1, ..., L$, pela combinação linear das colunas de $\\mathbf{A}$, isto é, a $j$-ésima coluna de $\\mathbf{C}$, $j = 1, ..., L$, é o produto entre a matriz $\\mathbf{A}$ e a $j$-ésima, $j = 1, ..., L$, coluna de $\\mathbf{B}$. Isso permite rearranjar a ordem dos loops $i$, $j$ e $k$ da \"Formulação baseada no encadeamento de três laços\", tal como mostrado abaixo:"
   ]
  },
  {
   "cell_type": "markdown",
   "metadata": {},
   "source": [
    "-----\n",
    "$\\mathbf{C} = \\mathbf{0}$\n",
    "\n",
    "for $j = 1:L$ \n",
    "\n",
    ">for $k = 1:M$\n",
    "\n",
    ">>for $i = 1:N$\n",
    "\n",
    ">>>$c_{ij} = c_{ij} + a_{ik} \\, b_{kj}$\n",
    "\n",
    ">>end\n",
    "\n",
    ">end\n",
    "\n",
    "end\n",
    "\n",
    "-----"
   ]
  },
  {
   "cell_type": "markdown",
   "metadata": {},
   "source": [
    "Note que o loop $i$ representa a multiplicação da coluna $\\mathbf{A}(:,k)$ pelo elemento $b_{kj}$. Este loop pode ser suprimido da seguinte forma:"
   ]
  },
  {
   "cell_type": "markdown",
   "metadata": {},
   "source": [
    "-----\n",
    "$\\mathbf{C} = \\mathbf{0}$\n",
    "\n",
    "for $j = 1:L$ \n",
    "\n",
    ">for $k = 1:M$\n",
    "\n",
    ">>$\\mathbf{C}(:,j) = \\mathbf{C}(:,j) + \\mathbf{A}(:,k) \\, b_{kj}$\n",
    "\n",
    ">end\n",
    "\n",
    "end\n",
    "\n",
    "-----"
   ]
  },
  {
   "cell_type": "markdown",
   "metadata": {},
   "source": [
    "**ATENÇÃO:** $\\mathbf{A}(:,k) \\, b_{kj}$ indica o produto entre o vetor $\\mathbf{A}(:,k)$, que é $N \\times 1$, pelo elemento $b_{kj}$, que é um escalar. Portanto, $\\mathbf{C}(:,j)$ é um vetor $N \\times 1$."
   ]
  },
  {
   "cell_type": "markdown",
   "metadata": {},
   "source": [
    "Por fim, note que o loop $k$ representa o produto entre $\\mathbf{A}$ e as colunas $\\mathbf{B}(:,j)$. Portanto, este loop pode ser suprimido da seguinte forma:"
   ]
  },
  {
   "cell_type": "markdown",
   "metadata": {},
   "source": [
    "-----\n",
    "for $j = 1:L$ \n",
    "\n",
    ">$\\mathbf{C}(:,j) = \\mathbf{A} \\, \\mathbf{B}(:,j)$\n",
    "\n",
    "end\n",
    "\n",
    "-----"
   ]
  },
  {
   "cell_type": "markdown",
   "metadata": {},
   "source": [
    "**ATENÇÃO:** $\\mathbf{A} \\, \\mathbf{B}(:,j)$ indica o produto entre a matriz $\\mathbf{A}$, que é $N \\times M$, pelo vetor $\\mathbf{B}(:,j)$, que é $M \\times 1$. Portanto, $\\mathbf{C}(:,j)$ é um vetor $N \\times 1$."
   ]
  },
  {
   "cell_type": "code",
   "execution_count": null,
   "metadata": {
    "collapsed": true
   },
   "outputs": [],
   "source": []
  },
  {
   "cell_type": "markdown",
   "metadata": {},
   "source": [
    "##4) Formulação baseada no produto direto"
   ]
  },
  {
   "cell_type": "markdown",
   "metadata": {},
   "source": [
    "Esta formulação consiste em representar a matriz $\\mathbf{C}$ como uma soma de matrizes definidas pelo produto direto entre as colunas $\\mathbf{A}(:,k)$ e as linhas $\\mathbf{B}(k,:)$, $k = 1, ..., M$. Para verificarmos esta soma de matrizes, basta manipular a expressão que determina os elementos de $\\mathbf{C}$: "
   ]
  },
  {
   "cell_type": "markdown",
   "metadata": {},
   "source": [
    "$$\\begin{split}\n",
    "\\mathbf{C} \n",
    "    & = \\left[\n",
    "    \\begin{array}{ccc}\n",
    "        c_{11} & \\cdots & c_{1L} \\\\\n",
    "        \\vdots &        & \\vdots \\\\\n",
    "        c_{N1} & \\cdots & c_{NL}\n",
    "    \\end{array}\n",
    "    \\right]_{N \\times L} \\\\\\\\\n",
    "    & = \\left[\n",
    "    \\begin{array}{cccc}\n",
    "        \\left( a_{11} \\, b_{11} + \\cdots + a_{1M} \\, b_{M1} \\right) &\n",
    "        \\left( a_{11} \\, b_{12} + \\cdots + a_{1M} \\, b_{M2} \\right) &\n",
    "        \\cdots &\n",
    "        \\left( a_{11} \\, b_{1L} + \\cdots + a_{1M} \\, b_{ML} \\right) \\\\\n",
    "        \\left( a_{21} \\, b_{11} + \\cdots + a_{2M} \\, b_{M1} \\right) &\n",
    "        \\left( a_{21} \\, b_{12} + \\cdots + a_{2M} \\, b_{M2} \\right) &\n",
    "        \\cdots &\n",
    "        \\left( a_{21} \\, b_{1L} + \\cdots + a_{2M} \\, b_{ML} \\right) \\\\\n",
    "        \\vdots & \\vdots & & \\vdots \\\\\n",
    "        \\left( a_{N1} \\, b_{11} + \\cdots + a_{NM} \\, b_{M1} \\right) &\n",
    "        \\left( a_{N1} \\, b_{12} + \\cdots + a_{NM} \\, b_{M2} \\right) &\n",
    "        \\cdots &\n",
    "        \\left( a_{N1} \\, b_{1L} + \\cdots + a_{NM} \\, b_{ML} \\right)\n",
    "    \\end{array}\n",
    "    \\right]_{N \\times L} \\\\\\\\\n",
    "    & = \\left[\n",
    "    \\begin{array}{cccc}\n",
    "        a_{11} \\, b_{11} & a_{11} \\, b_{12} & \\cdots & a_{11} \\, b_{1L} \\\\\n",
    "        a_{21} \\, b_{11} & a_{21} \\, b_{12} & \\cdots & a_{21} \\, b_{1L} \\\\\n",
    "        \\vdots & \\vdots & & \\vdots \\\\\n",
    "        a_{N1} \\, b_{11} & a_{N1} \\, b_{12} & \\cdots & a_{N1} \\, b_{1L}\n",
    "    \\end{array}\n",
    "    \\right]_{N \\times L} + \\cdots +\n",
    "    \\left[\n",
    "    \\begin{array}{cccc}\n",
    "        a_{1M} \\, b_{M1} & a_{1M} \\, b_{M2} & \\cdots & a_{1M} \\, b_{ML} \\\\\n",
    "        a_{2M} \\, b_{M1} & a_{2M} \\, b_{M2} & \\cdots & a_{2M} \\, b_{ML} \\\\\n",
    "        \\vdots & \\vdots & & \\vdots \\\\\n",
    "        a_{NM} \\, b_{M1} & a_{NM} \\, b_{M2} & \\cdots & a_{NM} \\, b_{ML}\n",
    "    \\end{array}\n",
    "    \\right]_{N \\times L}\n",
    "\\end{split}\n",
    "$$"
   ]
  },
  {
   "cell_type": "markdown",
   "metadata": {},
   "source": [
    "Observe que cada uma dessas matrizes é o produto direto entre uma coluna de $\\mathbf{A}$ e uma linha de $\\mathbf{B}$:"
   ]
  },
  {
   "cell_type": "markdown",
   "metadata": {},
   "source": [
    "$$\\begin{split}\n",
    "\\mathbf{C} \n",
    "   & = \\left[\n",
    "    \\begin{array}{cccc}\n",
    "        a_{11} \\, b_{11} & a_{11} \\, b_{12} & \\cdots & a_{11} \\, b_{1L} \\\\\n",
    "        a_{21} \\, b_{11} & a_{21} \\, b_{12} & \\cdots & a_{21} \\, b_{1L} \\\\\n",
    "        \\vdots & \\vdots & & \\vdots \\\\\n",
    "        a_{N1} \\, b_{11} & a_{N1} \\, b_{12} & \\cdots & a_{N1} \\, b_{1L}\n",
    "    \\end{array}\n",
    "    \\right]_{N \\times L} + \\cdots +\n",
    "    \\left[\n",
    "    \\begin{array}{cccc}\n",
    "        a_{1M} \\, b_{M1} & a_{1M} \\, b_{M2} & \\cdots & a_{1M} \\, b_{ML} \\\\\n",
    "        a_{2M} \\, b_{M1} & a_{2M} \\, b_{M2} & \\cdots & a_{2M} \\, b_{ML} \\\\\n",
    "        \\vdots & \\vdots & & \\vdots \\\\\n",
    "        a_{NM} \\, b_{M1} & a_{NM} \\, b_{M2} & \\cdots & a_{NM} \\, b_{ML}\n",
    "    \\end{array}\n",
    "    \\right]_{N \\times L} \\\\\\\\\n",
    "   & = \\left[\n",
    "    \\begin{array}{c}\n",
    "        a_{11} \\, \n",
    "        \\left[ \\begin{array}{cccc}\n",
    "        b_{11} \\, b_{12} & \\cdots & \\, b_{1L} \n",
    "        \\end{array} \\right]\\\\\n",
    "        a_{21} \\, \n",
    "        \\left[ \\begin{array}{cccc}\n",
    "        b_{11} \\, b_{12} & \\cdots & \\, b_{1L} \n",
    "        \\end{array} \\right]\\\\\n",
    "        \\vdots \\\\\n",
    "        a_{N1} \\, \n",
    "        \\left[ \\begin{array}{cccc}\n",
    "        b_{11} \\, b_{12} & \\cdots & \\, b_{1L} \n",
    "        \\end{array} \\right]\n",
    "    \\end{array}\n",
    "    \\right]_{N \\times L} + \\cdots +\n",
    "    \\left[\n",
    "    \\begin{array}{c}\n",
    "        a_{1M} \\, \n",
    "        \\left[ \\begin{array}{cccc}\n",
    "        b_{M1} \\, b_{M2} & \\cdots & \\, b_{ML} \n",
    "        \\end{array} \\right]\\\\\n",
    "        a_{2M} \\, \n",
    "        \\left[ \\begin{array}{cccc}\n",
    "        b_{M1} \\, b_{M2} & \\cdots & \\, b_{ML} \n",
    "        \\end{array} \\right]\\\\\n",
    "        \\vdots \\\\\n",
    "        a_{NM} \\, \n",
    "        \\left[ \\begin{array}{cccc}\n",
    "        b_{M1} \\, b_{M2} & \\cdots & \\, b_{ML}\n",
    "        \\end{array} \\right]\n",
    "    \\end{array}\n",
    "    \\right]_{N \\times L} \\\\\\\\\n",
    "    & = \\mathbf{A}(:,1) \\, \\mathbf{B}(1,:) +\n",
    "        \\mathbf{A}(:,2) \\, \\mathbf{B}(2,:) +\n",
    "        \\cdots +\n",
    "        \\mathbf{A}(:,M) \\, \\mathbf{B}(M,:)\n",
    "\\end{split}\n",
    "$$"
   ]
  },
  {
   "cell_type": "markdown",
   "metadata": {},
   "source": [
    "Note que $\\mathbf{A}(:,k) \\, \\mathbf{B}(k,:)$, $k = 1, ..., M$, representa o produto direto entre a $k$-ésima coluna de $\\mathbf{A}$ e a $k$-ésima linha de $\\mathbf{B}$. O cálculo dos elementos de $\\mathbf{C}$ por meio desta expressão é equivalente a rearranjar a ordem dos loops $i$, $j$ e $k$ da \"Formulação baseada no encadeamento de três laços\", tal como mostrado abaixo:"
   ]
  },
  {
   "cell_type": "markdown",
   "metadata": {},
   "source": [
    "-----\n",
    "$\\mathbf{C} = \\mathbf{0}$\n",
    "\n",
    "for $k = 1:M$\n",
    "\n",
    ">for $j = 1:L$\n",
    "\n",
    ">>for $i = 1:N$ \n",
    "\n",
    ">>>$c_{ij} = c_{ij} + a_{ik} \\, b_{kj}$\n",
    "\n",
    ">>end\n",
    "\n",
    ">end\n",
    "\n",
    "end\n",
    "\n",
    "-----"
   ]
  },
  {
   "cell_type": "markdown",
   "metadata": {},
   "source": [
    "Note que, tal como mostrado na \"Formulação baseada na combinação linear de colunas\", o loop $i$ representa a multiplicação da coluna $\\mathbf{A}(:,k)$ pelo elemento $b_{kj}$ e, portanto, o loop $i$ pode ser suprimido da seguinte forma:"
   ]
  },
  {
   "cell_type": "markdown",
   "metadata": {},
   "source": [
    "-----\n",
    "$\\mathbf{C} = \\mathbf{0}$\n",
    "\n",
    "for $k = 1:M$\n",
    "\n",
    ">for $j = 1:L$\n",
    "\n",
    ">>$\\mathbf{C}(:,j) = \\mathbf{C}(:,j) + \\mathbf{A}(:,k) \\, b_{kj}$\n",
    "\n",
    ">end\n",
    "\n",
    "end\n",
    "\n",
    "-----"
   ]
  },
  {
   "cell_type": "markdown",
   "metadata": {},
   "source": [
    "**ATENÇÃO:** $\\mathbf{A}(:,k) \\, b_{kj}$ indica o produto entre o vetor $\\mathbf{A}(:,k)$, que é $N \\times 1$, pelo elemento $b_{kj}$, que é um escalar. Portanto, $\\mathbf{C}(:,j)$ é um vetor $N \\times 1$."
   ]
  },
  {
   "cell_type": "markdown",
   "metadata": {},
   "source": [
    "Por fim, note que o loop $j$ representa o produto direto entre $\\mathbf{A}(:,k)$ e $\\mathbf{B}(k,:)$, tal que:"
   ]
  },
  {
   "cell_type": "markdown",
   "metadata": {},
   "source": [
    "-----\n",
    "$\\mathbf{C} = \\mathbf{0}$\n",
    "\n",
    "for $k = 1:M$\n",
    "\n",
    ">$\\mathbf{C} = \\mathbf{C} + \\mathbf{A}(:,k) \\, \\mathbf{B}(k,:)$\n",
    "\n",
    "end\n",
    "\n",
    "-----"
   ]
  },
  {
   "cell_type": "markdown",
   "metadata": {},
   "source": [
    "**ATENÇÃO:** $\\mathbf{A}(:,k) \\, \\mathbf{B}(k,:)$ indica o produto direto entre o vetor $\\mathbf{A}(:,k)$, que é $N \\times 1$, e o vetor $\\mathbf{B}(k,:)$, que é $1 \\times L$. Portanto, $\\mathbf{C}$ é uma matriz $N \\times L$."
   ]
  },
  {
   "cell_type": "code",
   "execution_count": null,
   "metadata": {
    "collapsed": true
   },
   "outputs": [],
   "source": []
  },
  {
   "cell_type": "markdown",
   "metadata": {},
   "source": [
    "###Exercício"
   ]
  },
  {
   "cell_type": "markdown",
   "metadata": {},
   "source": [
    "Implemente o produto $\\mathbf{A} \\mathbf{B}$ seguindo as quatro formulações diferentes apresentadas acima. **Cada implementação deve estar em uma função diferente**. Todas as implementações, exceto aquela baseada no encadeamento de três laços, devem, **obrigatoriamente**, utilizar as funções desenvolvidas previamente. **As implementações devem seguir o template da disciplina**."
   ]
  },
  {
   "cell_type": "markdown",
   "metadata": {
    "collapsed": true
   },
   "source": [
    "###Exemplo de implementação em Python"
   ]
  },
  {
   "cell_type": "code",
   "execution_count": 1,
   "metadata": {
    "collapsed": false
   },
   "outputs": [],
   "source": [
    "import numpy as np"
   ]
  },
  {
   "cell_type": "markdown",
   "metadata": {},
   "source": [
    "`C = A.dot(B)` ,\n",
    "\n",
    "em que A e B são arrays do numpy."
   ]
  },
  {
   "cell_type": "code",
   "execution_count": 2,
   "metadata": {
    "collapsed": false
   },
   "outputs": [],
   "source": [
    "A = np.array([[1.,2.],\n",
    "              [3.,4.],\n",
    "              [5.,6.]])\n",
    "B = np.array([[7., 8.],\n",
    "              [9., 10.]])"
   ]
  },
  {
   "cell_type": "code",
   "execution_count": 3,
   "metadata": {
    "collapsed": true
   },
   "outputs": [],
   "source": [
    "C = A.dot(B)"
   ]
  },
  {
   "cell_type": "code",
   "execution_count": 4,
   "metadata": {
    "collapsed": false
   },
   "outputs": [
    {
     "name": "stdout",
     "output_type": "stream",
     "text": [
      "[[  25.   28.]\n",
      " [  57.   64.]\n",
      " [  89.  100.]]\n"
     ]
    }
   ],
   "source": [
    "print C"
   ]
  },
  {
   "cell_type": "code",
   "execution_count": null,
   "metadata": {
    "collapsed": true
   },
   "outputs": [],
   "source": []
  }
 ],
 "metadata": {
  "kernelspec": {
   "display_name": "Python 2",
   "language": "python",
   "name": "python2"
  },
  "language_info": {
   "codemirror_mode": {
    "name": "ipython",
    "version": 2
   },
   "file_extension": ".py",
   "mimetype": "text/x-python",
   "name": "python",
   "nbconvert_exporter": "python",
   "pygments_lexer": "ipython2",
   "version": "2.7.11"
  }
 },
 "nbformat": 4,
 "nbformat_minor": 0
}
