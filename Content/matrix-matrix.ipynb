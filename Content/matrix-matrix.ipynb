{
 "cells": [
  {
   "cell_type": "markdown",
   "metadata": {},
   "source": [
    "# Product of two matrices"
   ]
  },
  {
   "cell_type": "markdown",
   "metadata": {},
   "source": [
    "Let $\\mathbf{A}$ and $\\mathbf{B}$ be, respectively, $N \\times M$ and $M \\times L$ matrices. These matrices can be represented *element-by-element*, by using a *row partition* or by using a *colunm partition* as follows:"
   ]
  },
  {
   "cell_type": "markdown",
   "metadata": {},
   "source": [
    "$$\\begin{split}\n",
    "    \\mathbf{A} \n",
    "    & = \\left[\n",
    "    \\begin{array}{ccc}\n",
    "        a_{11} & \\cdots & a_{1M} \\\\\n",
    "        \\vdots &        & \\vdots \\\\\n",
    "        a_{N1} & \\cdots & a_{NM}\n",
    "    \\end{array}\n",
    "    \\right]_{N \\times M} \\\\\\\\\n",
    "    & = \\left[\n",
    "    \\begin{array}{c}\n",
    "        \\mathbf{A}[1,:] \\\\\n",
    "        \\vdots \\\\\n",
    "        \\mathbf{A}[N,:]\n",
    "    \\end{array}\n",
    "    \\right]_{N \\times M} \\\\\\\\\n",
    "    & = \\left[\n",
    "    \\begin{array}{ccc}\n",
    "        \\mathbf{A}[:,1] &\n",
    "        \\cdots &\n",
    "        \\mathbf{A}[:,M]\n",
    "    \\end{array}\n",
    "    \\right]_{N \\times M} \\:\n",
    "\\end{split}$$"
   ]
  },
  {
   "cell_type": "markdown",
   "metadata": {},
   "source": [
    "$$\\begin{split}\n",
    "    \\mathbf{B} \n",
    "    & = \\left[\n",
    "    \\begin{array}{ccc}\n",
    "        b_{11} & \\cdots & b_{1L} \\\\\n",
    "        \\vdots &        & \\vdots \\\\\n",
    "        b_{M1} & \\cdots & b_{ML}\n",
    "    \\end{array}\n",
    "    \\right]_{M \\times L} \\\\\\\\\n",
    "    & = \\left[\n",
    "    \\begin{array}{c}\n",
    "        \\mathbf{B}[1,:] \\\\\n",
    "        \\vdots \\\\\n",
    "        \\mathbf{B}[M,:]\n",
    "    \\end{array}\n",
    "    \\right]_{M \\times L} \\\\\\\\\n",
    "    & = \\left[\n",
    "    \\begin{array}{ccc}\n",
    "        \\mathbf{B}[:,1] &\n",
    "        \\cdots &\n",
    "        \\mathbf{B}[:,L]\n",
    "    \\end{array}\n",
    "    \\right]_{M \\times L}\n",
    "\\end{split} \\: ,$$"
   ]
  },
  {
   "cell_type": "markdown",
   "metadata": {},
   "source": [
    "where $a_{ij} = \\mathbf{A}[i,j]$ and $b_{ij} = \\mathbf{B}[i,j]$, $i = 1, ..., N$, $j = 1, ..., M$ and $k = 1, ..., L$."
   ]
  },
  {
   "cell_type": "markdown",
   "metadata": {
    "collapsed": true
   },
   "source": [
    "Let $\\mathbf{C}$ be a $N \\times L$ matrix given by:"
   ]
  },
  {
   "cell_type": "markdown",
   "metadata": {},
   "source": [
    "$$\n",
    "\\mathbf{C} = \\mathbf{A} \\, \\mathbf{B} \\: ,\n",
    "$$"
   ]
  },
  {
   "cell_type": "markdown",
   "metadata": {},
   "source": [
    "with elements $c_{ij} = \\mathbf{C}[i,k]$, $i = 1, ..., N$, $k = 1, ..., L$, defined as follows:"
   ]
  },
  {
   "cell_type": "markdown",
   "metadata": {},
   "source": [
    "$$\\begin{split}\n",
    "\\mathbf{C} \n",
    "    & = \\left[\n",
    "    \\begin{array}{ccc}\n",
    "        c_{11} & \\cdots & c_{1L} \\\\\n",
    "        \\vdots &        & \\vdots \\\\\n",
    "        c_{N1} & \\cdots & c_{NL}\n",
    "    \\end{array}\n",
    "    \\right] \\\\\\\\\n",
    "    & = \\left[\n",
    "    \\begin{array}{cccc}\n",
    "        \\left( a_{11} \\, b_{11} + \\cdots + a_{1M} \\, b_{M1} \\right) &\n",
    "        \\left( a_{11} \\, b_{12} + \\cdots + a_{1M} \\, b_{M2} \\right) &\n",
    "        \\cdots &\n",
    "        \\left( a_{11} \\, b_{1L} + \\cdots + a_{1M} \\, b_{ML} \\right) \\\\\n",
    "        \\left( a_{21} \\, b_{11} + \\cdots + a_{2M} \\, b_{M1} \\right) &\n",
    "        \\left( a_{21} \\, b_{12} + \\cdots + a_{2M} \\, b_{M2} \\right) &\n",
    "        \\cdots &\n",
    "        \\left( a_{21} \\, b_{1L} + \\cdots + a_{2M} \\, b_{ML} \\right) \\\\\n",
    "        \\vdots & \\vdots & & \\vdots \\\\\n",
    "        \\left( a_{N1} \\, b_{11} + \\cdots + a_{NM} \\, b_{M1} \\right) &\n",
    "        \\left( a_{N1} \\, b_{12} + \\cdots + a_{NM} \\, b_{M2} \\right) &\n",
    "        \\cdots &\n",
    "        \\left( a_{N1} \\, b_{1L} + \\cdots + a_{NM} \\, b_{ML} \\right)\n",
    "    \\end{array}\n",
    "    \\right] \\: .    \n",
    "\\end{split}\n",
    "$$"
   ]
  },
  {
   "cell_type": "markdown",
   "metadata": {},
   "source": [
    "The matrix $\\mathbf{C}$ can be calculated by following different formulations:"
   ]
  },
  {
   "cell_type": "markdown",
   "metadata": {},
   "source": [
    "#### 1) The *triply nested for*"
   ]
  },
  {
   "cell_type": "markdown",
   "metadata": {},
   "source": [
    "    for i = 1:N\n",
    "        for j = 1:L\n",
    "            for k = 1:M\n",
    "                C[i,j] = C[i,j] + A[i,k]*B[k,j]"
   ]
  },
  {
   "cell_type": "markdown",
   "metadata": {},
   "source": [
    "#### 2) Dot product formulation"
   ]
  },
  {
   "cell_type": "markdown",
   "metadata": {},
   "source": [
    "    for i = 1:N\n",
    "        for j = 1:L\n",
    "            C[i,j] = dot(A[i,:],B[:,j])"
   ]
  },
  {
   "cell_type": "markdown",
   "metadata": {},
   "source": [
    "Notice that the k-loop was removed."
   ]
  },
  {
   "cell_type": "markdown",
   "metadata": {},
   "source": [
    "#### 3) Matrix-vector product formulation (row update)"
   ]
  },
  {
   "cell_type": "markdown",
   "metadata": {},
   "source": [
    "    for i = 1:N\n",
    "        C[i,:] = dot(A[i,:],B[:,:])"
   ]
  },
  {
   "cell_type": "markdown",
   "metadata": {},
   "source": [
    "Notice that the i- and k-loops were removed."
   ]
  },
  {
   "cell_type": "markdown",
   "metadata": {},
   "source": [
    "#### 4) Matrix-vector product formulation (colunm update)"
   ]
  },
  {
   "cell_type": "markdown",
   "metadata": {},
   "source": [
    "    for j = 1:L\n",
    "        C[:,j] = dot(A[:,:],B[:,j])"
   ]
  },
  {
   "cell_type": "markdown",
   "metadata": {},
   "source": [
    "Notice that the j- and k-loops were removed."
   ]
  },
  {
   "cell_type": "markdown",
   "metadata": {},
   "source": [
    "#### 5) Outer product formulation"
   ]
  },
  {
   "cell_type": "markdown",
   "metadata": {},
   "source": [
    "Let's first change the loops order in the *triply nested for* algorithm:"
   ]
  },
  {
   "cell_type": "markdown",
   "metadata": {},
   "source": [
    "    for k = 1:M\n",
    "        for j = 1:L\n",
    "            for i = 1:N\n",
    "                C[i,j] = C[i,j] + A[i,k]*B[k,j]"
   ]
  },
  {
   "cell_type": "markdown",
   "metadata": {},
   "source": [
    "Then, remove the i-loop"
   ]
  },
  {
   "cell_type": "markdown",
   "metadata": {},
   "source": [
    "    for k = 1:M\n",
    "        for j = 1:L\n",
    "            C[:,j] = C[:,j] + A[:,k]*B[k,j]"
   ]
  },
  {
   "cell_type": "markdown",
   "metadata": {},
   "source": [
    "Notice that this scheme updates the colunms of `C` iteratively. Finally, remove the j-loop"
   ]
  },
  {
   "cell_type": "markdown",
   "metadata": {},
   "source": [
    "    for k = 1:M\n",
    "        C[:,:] = C[:,:] + outer(A[:,k],B[k,:])"
   ]
  },
  {
   "cell_type": "markdown",
   "metadata": {},
   "source": [
    "The term `outer(A[:,k],B[k,:])` means the outer product of the colunm vector `A[:,k]` by the row vector `B[k,:]`."
   ]
  },
  {
   "cell_type": "markdown",
   "metadata": {},
   "source": [
    "### Exercise"
   ]
  },
  {
   "cell_type": "markdown",
   "metadata": {},
   "source": [
    "Show that these five approaches are equivalent. To do this, follow the steps below:\n",
    "\n",
    "1. In your `my_function.py` file, create 5 functions for implementing the 5 algorithms shown above. All functions must receive 2 matrices and return the resultant matrix.\n",
    "2. In your `test_my_function.py` file, create 2 tests for each function created in the previous item. One test must compare the result produced by your function and an expected result produced by a specific input. The other test must compare the result produced by your function and the result produced by the routine [`numpy.dot`](https://docs.scipy.org/doc/numpy/reference/generated/numpy.dot.html) (see the example presented below).\n",
    "3. *Extra*: use the `%timeit` to compare your functions and the function `numpy.dot`."
   ]
  },
  {
   "cell_type": "code",
   "execution_count": 1,
   "metadata": {
    "collapsed": true
   },
   "outputs": [],
   "source": [
    "import numpy as np"
   ]
  },
  {
   "cell_type": "code",
   "execution_count": 2,
   "metadata": {
    "collapsed": true
   },
   "outputs": [],
   "source": [
    "A = np.array([[1.,2.],\n",
    "              [3.,4.],\n",
    "              [5.,6.]])\n",
    "B = np.array([[7., 8.],\n",
    "              [9., 10.]])"
   ]
  },
  {
   "cell_type": "code",
   "execution_count": 3,
   "metadata": {
    "collapsed": true
   },
   "outputs": [],
   "source": [
    "C = np.dot(A, B)"
   ]
  },
  {
   "cell_type": "code",
   "execution_count": 4,
   "metadata": {},
   "outputs": [
    {
     "name": "stdout",
     "output_type": "stream",
     "text": [
      "[[  25.   28.]\n",
      " [  57.   64.]\n",
      " [  89.  100.]]\n"
     ]
    }
   ],
   "source": [
    "print C"
   ]
  },
  {
   "cell_type": "code",
   "execution_count": null,
   "metadata": {
    "collapsed": true
   },
   "outputs": [],
   "source": []
  },
  {
   "cell_type": "markdown",
   "metadata": {},
   "source": [
    "### Exercise"
   ]
  },
  {
   "cell_type": "markdown",
   "metadata": {
    "collapsed": true
   },
   "source": [
    "Consider the following rotation matrices:"
   ]
  },
  {
   "cell_type": "markdown",
   "metadata": {},
   "source": [
    "$$\n",
    "\\mathbf{R}_{1}(\\theta) = \\left[ \\begin{array}{ccc}\n",
    "1 & 0 & 0 \\\\\n",
    "0 & \\cos \\theta & \\sin \\theta \\\\\n",
    "0 & -\\sin \\theta & \\cos \\theta\n",
    "\\end{array} \\right] \\: ,\n",
    "$$"
   ]
  },
  {
   "cell_type": "markdown",
   "metadata": {},
   "source": [
    "$$\n",
    "\\mathbf{R}_{2}(\\theta) = \\left[ \\begin{array}{ccc}\n",
    "\\cos \\theta & 0 & -\\sin \\theta \\\\\n",
    "0 & 1 & 0 \\\\\n",
    "\\sin \\theta & 0 & \\cos \\theta\n",
    "\\end{array} \\right]\n",
    "$$"
   ]
  },
  {
   "cell_type": "markdown",
   "metadata": {},
   "source": [
    "and"
   ]
  },
  {
   "cell_type": "markdown",
   "metadata": {},
   "source": [
    "$$\n",
    "\\mathbf{R}_{3}(\\theta) = \\left[ \\begin{array}{ccc}\n",
    "\\cos \\theta & \\sin \\theta & 0 \\\\\n",
    "-\\sin \\theta & \\cos \\theta & 0 \\\\\n",
    "0 & 0 & 1\n",
    "\\end{array} \\right] \\: .\n",
    "$$"
   ]
  },
  {
   "cell_type": "markdown",
   "metadata": {
    "collapsed": true
   },
   "source": [
    "Show that these matrices are orthogonal. To do this, follow the steps below:\n",
    "\n",
    "1. In your `my_functions.py` file, create 3 functions. Each function must receive an angle $\\theta$, in degrees, and return one of the rotation matrices shown above.\n",
    "2. In your `test_my_functions.py`, create 3 tests. Each test must verify if a particular rotation matrix is orthogonal. The tests must use your functions for computing the product between matrices."
   ]
  },
  {
   "cell_type": "code",
   "execution_count": null,
   "metadata": {
    "collapsed": true
   },
   "outputs": [],
   "source": []
  }
 ],
 "metadata": {
  "anaconda-cloud": {},
  "kernelspec": {
   "display_name": "Python 2",
   "language": "python",
   "name": "python2"
  },
  "language_info": {
   "codemirror_mode": {
    "name": "ipython",
    "version": 2
   },
   "file_extension": ".py",
   "mimetype": "text/x-python",
   "name": "python",
   "nbconvert_exporter": "python",
   "pygments_lexer": "ipython2",
   "version": "2.7.14"
  }
 },
 "nbformat": 4,
 "nbformat_minor": 1
}
