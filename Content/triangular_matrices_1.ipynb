{
 "cells": [
  {
   "cell_type": "markdown",
   "metadata": {},
   "source": [
    "# Triangular matrices - part 1"
   ]
  },
  {
   "cell_type": "markdown",
   "metadata": {},
   "source": [
    "Consider two $N \\times N$ matrices $\\mathbf{U}$ and $\\mathbf{L}$ given by:"
   ]
  },
  {
   "cell_type": "markdown",
   "metadata": {},
   "source": [
    "$$\\mathbf{U} \n",
    "= \\left[ \\begin{array}{ccccc}\n",
    "u_{11} & u_{12} & u_{13} & \\cdots & u_{1N} \\\\\n",
    "       & u_{22} & u_{23} & \\cdots & u_{2N} \\\\\n",
    "       &        & u_{33} & \\cdots & u_{3N}  \\\\\n",
    "       &        &        & \\ddots & \\vdots  \\\\\n",
    "       &        &        &        & u_{NN}\n",
    "\\end{array} \\right]\n",
    "$$"
   ]
  },
  {
   "cell_type": "markdown",
   "metadata": {},
   "source": [
    "and"
   ]
  },
  {
   "cell_type": "markdown",
   "metadata": {},
   "source": [
    "$$\\mathbf{L} \n",
    "= \\left[ \\begin{array}{ccccc}\n",
    "l_{11} & & & & \\\\\n",
    "\\vdots & \\ddots & & & \\\\\n",
    "l_{N-2 \\, 1} & \\cdots & l_{N-2\\,N-2} & &\\\\\n",
    "l_{N-1 \\, 1} & \\cdots & l_{N-1\\,N-2} & l_{N-1\\,N-1} &\\\\\n",
    "l_{N1} & \\cdots & l_{N\\,N-2} & l_{N\\,N-1} & l_{N\\,N}\n",
    "\\end{array} \\right] \\: .\n",
    "$$"
   ]
  },
  {
   "cell_type": "markdown",
   "metadata": {},
   "source": [
    "The matrix $\\mathbf{U}$ is called **upper triangular** and has all the elements below the main diagonal equal to zero. Similarly, the matrix $\\mathbf{L}$ is called **lower triangular** and has all the elements above the main diagonal equal to zero."
   ]
  },
  {
   "cell_type": "markdown",
   "metadata": {},
   "source": [
    "Let $\\mathbf{x}$ be a $N \\times 1$ vector given by:"
   ]
  },
  {
   "cell_type": "markdown",
   "metadata": {},
   "source": [
    "$$\\mathbf{x} = \n",
    "\\left[ \\begin{array}{c}\n",
    "x_{1} \\\\\n",
    "\\vdots \\\\\n",
    "x_{N}\n",
    "\\end{array} \\right] \\: .\n",
    "$$"
   ]
  },
  {
   "cell_type": "markdown",
   "metadata": {},
   "source": [
    "By using the notebook [`matrix-vector.ipynb`](https://nbviewer.jupyter.org/github/birocoles/Disciplina-metodos-computacionais/blob/master/Content/matrix-vector.ipynb), it can be shown that the product $\\mathbf{y} = \\mathbf{U} \\mathbf{x}$ can be calculated by following different algorithms:"
   ]
  },
  {
   "cell_type": "markdown",
   "metadata": {},
   "source": [
    "**Algorithm 1**\n",
    "    \n",
    "    for i = 1:N\n",
    "        for j = 1:N\n",
    "            y[i] = y[i] + U[i,j]*x[j]"
   ]
  },
  {
   "cell_type": "markdown",
   "metadata": {},
   "source": [
    "**Algorithm 2**\n",
    "    \n",
    "    for i = 1:N\n",
    "        for j = i:N\n",
    "            y[i] = y[i] + U[i,j]*x[j]"
   ]
  },
  {
   "cell_type": "markdown",
   "metadata": {},
   "source": [
    "**Algorithm 3**\n",
    "\n",
    "    for i = 1:N\n",
    "        y[i] = dot(U[i,i:],x[i:])"
   ]
  },
  {
   "cell_type": "markdown",
   "metadata": {},
   "source": [
    "**Algorithm 4**\n",
    "\n",
    "    for j = 1:N\n",
    "        for i = 1:j\n",
    "            y[i] = y[i] + U[i,j]*x[j]"
   ]
  },
  {
   "cell_type": "markdown",
   "metadata": {},
   "source": [
    "**Algorithm 5**\n",
    "\n",
    "    for j = 1:N\n",
    "        y[:j] = y[:j] + U[:j,j]*x[j]"
   ]
  },
  {
   "cell_type": "markdown",
   "metadata": {},
   "source": [
    "Similarly, there are different algorithms to compute the product $\\mathbf{z} = \\mathbf{L} \\mathbf{x}$:"
   ]
  },
  {
   "cell_type": "markdown",
   "metadata": {},
   "source": [
    "**Algorithm 6**\n",
    "    \n",
    "    for i = 1:N\n",
    "        for j = 1:N\n",
    "            z[i] = z[i] + L[i,j]*x[j]"
   ]
  },
  {
   "cell_type": "markdown",
   "metadata": {},
   "source": [
    "**Algorithm 7**\n",
    "    \n",
    "    for i = 1:N\n",
    "        for j = 1:i\n",
    "            z[i] = z[i] + L[i,j]*x[j]"
   ]
  },
  {
   "cell_type": "markdown",
   "metadata": {},
   "source": [
    "**Algorithm 8**\n",
    "\n",
    "    for i = 1:N\n",
    "        z[i] = dot(L[i,:i],x[:i])"
   ]
  },
  {
   "cell_type": "markdown",
   "metadata": {},
   "source": [
    "**Algorithm 9**\n",
    "\n",
    "    for j = 1:N\n",
    "        for i = j:N\n",
    "            z[i] = z[i] + L[i,j]*x[j]"
   ]
  },
  {
   "cell_type": "markdown",
   "metadata": {},
   "source": [
    "**Algorithm 10**\n",
    "\n",
    "    for j = 1:N\n",
    "        z[j:] = z[j:] + L[j:,j]*x[j]"
   ]
  },
  {
   "cell_type": "markdown",
   "metadata": {},
   "source": [
    "Note that some of the algorithms presented above include the terms associated with null elements of the triangular matrices and other algorithms do not include these null elements."
   ]
  },
  {
   "cell_type": "markdown",
   "metadata": {},
   "source": [
    "### Exercise (extra)\n",
    "\n",
    "What is the total number of flops associated with each algorithm presented above?"
   ]
  },
  {
   "cell_type": "markdown",
   "metadata": {},
   "source": [
    "### Exercise"
   ]
  },
  {
   "cell_type": "markdown",
   "metadata": {},
   "source": [
    "1. In your `my_functions.py` file, implement the algorithms 3, 5, 8, and 10. Each algorithm must be implemented in a single function. Each algorithm must receive the triangular matrix U or L and the vector x and return the resultant vector y or z, according to the notation presented above. The cells below show how to create the matrices U and L.\n",
    "2. In your `test_my_functions.py` file, create four tests. The first test must compare the results produced by the algorithms 3 and 5; the second test must compare the results produced by the algorithms 8 and 10; the third test must compare the results produced by the algorithms 3 and 5 and the result produced by the routine [`numpy.dot`](https://docs.scipy.org/doc/numpy/reference/generated/numpy.dot.html), and the fourth test must compare the results produced by the algorithms 8 and 10 and the result produced by the routine [`numpy.dot`](https://docs.scipy.org/doc/numpy/reference/generated/numpy.dot.html)."
   ]
  },
  {
   "cell_type": "markdown",
   "metadata": {},
   "source": [
    "#### How to create triangular matrices"
   ]
  },
  {
   "cell_type": "markdown",
   "metadata": {},
   "source": [
    "The code below uses the routines [`numpy.random.rand`](https://docs.scipy.org/doc/numpy/reference/generated/numpy.random.rand.html), [`numpy.triu`](https://docs.scipy.org/doc/numpy/reference/generated/numpy.triu.html), and [`numpy.tril`](https://docs.scipy.org/doc/numpy/reference/generated/numpy.tril.html)."
   ]
  },
  {
   "cell_type": "code",
   "execution_count": 1,
   "metadata": {
    "collapsed": true
   },
   "outputs": [],
   "source": [
    "import numpy as np"
   ]
  },
  {
   "cell_type": "code",
   "execution_count": 5,
   "metadata": {
    "collapsed": true
   },
   "outputs": [],
   "source": [
    "N = 5"
   ]
  },
  {
   "cell_type": "code",
   "execution_count": 8,
   "metadata": {
    "collapsed": true
   },
   "outputs": [],
   "source": [
    "A = 10*np.random.rand(N,N)"
   ]
  },
  {
   "cell_type": "code",
   "execution_count": 10,
   "metadata": {
    "collapsed": true
   },
   "outputs": [],
   "source": [
    "U = np.triu(A)"
   ]
  },
  {
   "cell_type": "code",
   "execution_count": 11,
   "metadata": {
    "collapsed": true
   },
   "outputs": [],
   "source": [
    "L = np.tril(A)"
   ]
  },
  {
   "cell_type": "code",
   "execution_count": 9,
   "metadata": {
    "collapsed": false
   },
   "outputs": [
    {
     "name": "stdout",
     "output_type": "stream",
     "text": [
      "[[ 2.39994494  5.1990145   6.64802477  8.26461278  9.97597219]\n",
      " [ 9.32020145  6.16766859  7.21614016  9.56120463  3.36986973]\n",
      " [ 4.80990239  7.81498467  5.32755188  2.66383862  4.80562381]\n",
      " [ 1.06540763  0.13238005  3.60187207  9.63759958  6.58738176]\n",
      " [ 8.64717915  7.79233115  6.66156655  5.49369209  1.39116862]]\n"
     ]
    }
   ],
   "source": [
    "print A"
   ]
  },
  {
   "cell_type": "code",
   "execution_count": 12,
   "metadata": {
    "collapsed": false
   },
   "outputs": [
    {
     "name": "stdout",
     "output_type": "stream",
     "text": [
      "[[ 2.39994494  5.1990145   6.64802477  8.26461278  9.97597219]\n",
      " [ 0.          6.16766859  7.21614016  9.56120463  3.36986973]\n",
      " [ 0.          0.          5.32755188  2.66383862  4.80562381]\n",
      " [ 0.          0.          0.          9.63759958  6.58738176]\n",
      " [ 0.          0.          0.          0.          1.39116862]]\n"
     ]
    }
   ],
   "source": [
    "print U"
   ]
  },
  {
   "cell_type": "code",
   "execution_count": 13,
   "metadata": {
    "collapsed": false
   },
   "outputs": [
    {
     "name": "stdout",
     "output_type": "stream",
     "text": [
      "[[ 2.39994494  0.          0.          0.          0.        ]\n",
      " [ 9.32020145  6.16766859  0.          0.          0.        ]\n",
      " [ 4.80990239  7.81498467  5.32755188  0.          0.        ]\n",
      " [ 1.06540763  0.13238005  3.60187207  9.63759958  0.        ]\n",
      " [ 8.64717915  7.79233115  6.66156655  5.49369209  1.39116862]]\n"
     ]
    }
   ],
   "source": [
    "print L"
   ]
  },
  {
   "cell_type": "code",
   "execution_count": null,
   "metadata": {
    "collapsed": true
   },
   "outputs": [],
   "source": []
  }
 ],
 "metadata": {
  "anaconda-cloud": {},
  "kernelspec": {
   "display_name": "Python [default]",
   "language": "python",
   "name": "python2"
  },
  "language_info": {
   "codemirror_mode": {
    "name": "ipython",
    "version": 2
   },
   "file_extension": ".py",
   "mimetype": "text/x-python",
   "name": "python",
   "nbconvert_exporter": "python",
   "pygments_lexer": "ipython2",
   "version": "2.7.10"
  }
 },
 "nbformat": 4,
 "nbformat_minor": 0
}
