{
 "cells": [
  {
   "cell_type": "markdown",
   "metadata": {},
   "source": [
    "# Product of a matrix and a vector"
   ]
  },
  {
   "cell_type": "markdown",
   "metadata": {},
   "source": [
    "Let $\\mathbf{A}$ be a $N \\times M$ matrix and $\\mathbf{x}$ be a $M \\times 1$ vector. $\\mathbf{A}$ can be represented by using a *row partition* or by a *colunm partition* as follows:"
   ]
  },
  {
   "cell_type": "markdown",
   "metadata": {},
   "source": [
    "$$\\begin{split}\n",
    "    \\mathbf{A} \n",
    "    & = \\left[\n",
    "    \\begin{array}{ccc}\n",
    "        a_{11} & \\cdots & a_{1M} \\\\\n",
    "        \\vdots &        & \\vdots \\\\\n",
    "        a_{N1} & \\cdots & a_{NM}\n",
    "    \\end{array}\n",
    "    \\right]_{N \\times M} \\\\\n",
    "    & = \\left[\n",
    "    \\begin{array}{c}\n",
    "        \\mathbf{A}[1,:] \\\\\n",
    "        \\vdots \\\\\n",
    "        \\mathbf{A}[N,:]\n",
    "    \\end{array}\n",
    "    \\right]_{N \\times M} \\\\\n",
    "    & = \\left[\n",
    "    \\begin{array}{ccc}\n",
    "        \\mathbf{A}[:,1] &\n",
    "        \\cdots &\n",
    "        \\mathbf{A}[:,M]\n",
    "    \\end{array}\n",
    "    \\right]_{N \\times M}\n",
    "\\end{split} \\: ,$$"
   ]
  },
  {
   "cell_type": "markdown",
   "metadata": {},
   "source": [
    "where $\\mathbf{A}[i,:]$, $i = 1, ..., N$, is a $1 \\times M$ vector representing the $i$th row of $\\mathbf{A}$ and $\\mathbf{A}[:,j]$, $j = 1, ..., M$, is a $N \\times 1$ vector representing the $j$th colunm of $\\mathbf{A}$."
   ]
  },
  {
   "cell_type": "markdown",
   "metadata": {},
   "source": [
    "Once defined these partitions, we can define the product $\\mathbf{y} = \\mathbf{A} \\mathbf{x}$ by using three different approaches:"
   ]
  },
  {
   "cell_type": "markdown",
   "metadata": {},
   "source": [
    "**1) *doubly nested for***"
   ]
  },
  {
   "cell_type": "markdown",
   "metadata": {},
   "source": [
    "    for i = 1:N\n",
    "        for j = 1:M\n",
    "            y[i] = y[i] + A[i,j]*x[j]"
   ]
  },
  {
   "cell_type": "markdown",
   "metadata": {},
   "source": [
    "**2) *dot product formulation***"
   ]
  },
  {
   "cell_type": "markdown",
   "metadata": {},
   "source": [
    "    for i = 1:N\n",
    "        y[i] = dot(A[i,:], x[:])"
   ]
  },
  {
   "cell_type": "markdown",
   "metadata": {},
   "source": [
    "**3) *linear combination formulation* **"
   ]
  },
  {
   "cell_type": "markdown",
   "metadata": {},
   "source": [
    "    for j = 1:M\n",
    "        y[:] = y[:] + A[:,j]*x[j]"
   ]
  },
  {
   "cell_type": "code",
   "execution_count": null,
   "metadata": {
    "collapsed": true
   },
   "outputs": [],
   "source": []
  },
  {
   "cell_type": "markdown",
   "metadata": {},
   "source": [
    "### Exercise"
   ]
  },
  {
   "cell_type": "markdown",
   "metadata": {},
   "source": [
    "Show that these three approaches are equivalent. To do this, follow the steps below:\n",
    "\n",
    "1. In your `my_functions.py` file, create 3 functions. Each function must implement one of the 3 algorithms shown above. Follow the template presented in the [`dot.ipynb`](https://nbviewer.jupyter.org/github/birocoles/Disciplina-metodos-computacionais/blob/master/Content/dot.ipynb). All functions must return the resultant vector, given a matrix and a vector.\n",
    "2. For each function created in the previous item, create 2 tests in your `test_my_functions.py`. One test must compare the result produced by your function and an expected result produced by a specific input. The other test must compare the result produced by your function and the result produced by the routine [`numpy.dot`](https://docs.scipy.org/doc/numpy/reference/generated/numpy.dot.html) (see the example shown below). Follow the template presented in the [`dot.ipynb`](https://nbviewer.jupyter.org/github/birocoles/Disciplina-metodos-computacionais/blob/master/Content/dot.ipynb).\n",
    "3. *Extra*: use the `%timeit` to compare your functions and the function `numpy.dot`."
   ]
  },
  {
   "cell_type": "markdown",
   "metadata": {},
   "source": [
    "##### Numpy example of the matrix-vector product"
   ]
  },
  {
   "cell_type": "markdown",
   "metadata": {},
   "source": [
    "This example uses the routines [numpy.arange](http://docs.scipy.org/doc/numpy/reference/generated/numpy.arange.html) and [numpy.reshape](http://docs.scipy.org/doc/numpy/reference/generated/numpy.reshape.html)."
   ]
  },
  {
   "cell_type": "code",
   "execution_count": 1,
   "metadata": {
    "collapsed": true
   },
   "outputs": [],
   "source": [
    "import numpy as np"
   ]
  },
  {
   "cell_type": "code",
   "execution_count": 2,
   "metadata": {
    "collapsed": true
   },
   "outputs": [],
   "source": [
    "x = np.arange(5.)"
   ]
  },
  {
   "cell_type": "code",
   "execution_count": 3,
   "metadata": {},
   "outputs": [
    {
     "data": {
      "text/plain": [
       "array([ 0.,  1.,  2.,  3.,  4.])"
      ]
     },
     "execution_count": 3,
     "metadata": {},
     "output_type": "execute_result"
    }
   ],
   "source": [
    "x"
   ]
  },
  {
   "cell_type": "code",
   "execution_count": 4,
   "metadata": {
    "collapsed": true
   },
   "outputs": [],
   "source": [
    "A = np.reshape(np.arange(20.), (4,5))"
   ]
  },
  {
   "cell_type": "code",
   "execution_count": 5,
   "metadata": {},
   "outputs": [
    {
     "data": {
      "text/plain": [
       "array([[  0.,   1.,   2.,   3.,   4.],\n",
       "       [  5.,   6.,   7.,   8.,   9.],\n",
       "       [ 10.,  11.,  12.,  13.,  14.],\n",
       "       [ 15.,  16.,  17.,  18.,  19.]])"
      ]
     },
     "execution_count": 5,
     "metadata": {},
     "output_type": "execute_result"
    }
   ],
   "source": [
    "A"
   ]
  },
  {
   "cell_type": "code",
   "execution_count": 6,
   "metadata": {
    "scrolled": true
   },
   "outputs": [
    {
     "data": {
      "text/plain": [
       "array([  30.,   80.,  130.,  180.])"
      ]
     },
     "execution_count": 6,
     "metadata": {},
     "output_type": "execute_result"
    }
   ],
   "source": [
    "np.dot(A, x)"
   ]
  },
  {
   "cell_type": "code",
   "execution_count": null,
   "metadata": {
    "collapsed": true
   },
   "outputs": [],
   "source": []
  },
  {
   "cell_type": "markdown",
   "metadata": {},
   "source": [
    "### Exercise"
   ]
  },
  {
   "cell_type": "markdown",
   "metadata": {},
   "source": [
    "The previously presented algorithm for calculating a [simple moving average filter](https://nbviewer.jupyter.org/github/birocoles/Disciplina-metodos-computacionais/tree/master/Content/first_steps_Python/SMA/) can be formulated as the product of a matrix $\\mathbf{A}$ and the original data $\\mathbf{x}$, where $\\mathbf{A}$ depends on the number of points forming the moving window and the number of data. For example, consider a data vector $\\mathbf{x}$ given by"
   ]
  },
  {
   "cell_type": "markdown",
   "metadata": {},
   "source": [
    "$$\n",
    "\\mathbf{x} = \\left[ \\begin{array}{c}\n",
    "x_{1} \\\\\n",
    "x_{2} \\\\\n",
    "x_{3} \\\\\n",
    "x_{4} \\\\\n",
    "x_{5}\n",
    "\\end{array} \\right]\n",
    "$$"
   ]
  },
  {
   "cell_type": "markdown",
   "metadata": {},
   "source": [
    "and a moving window formed by $3$ elements. In this case, the matrix $\\mathbf{A}$ (see the hint presented below for creating this matrix automatically) is given by"
   ]
  },
  {
   "cell_type": "markdown",
   "metadata": {},
   "source": [
    "$$\n",
    "\\mathbf{A} = \\frac{1}{3} \\, \\left[ \\begin{array}{ccccc}\n",
    "0 & 0 & 0 & 0 & 0 \\\\\n",
    "1 & 1 & 1 & 0 & 0 \\\\\n",
    "0 & 1 & 1 & 1 & 0 \\\\\n",
    "0 & 0 & 1 & 1 & 1 \\\\\n",
    "0 & 0 & 0 & 0 & 0\n",
    "\\end{array} \\right] \\: .\n",
    "$$"
   ]
  },
  {
   "cell_type": "markdown",
   "metadata": {},
   "source": [
    "Then, the filtered data $\\mathbf{x}_{f}$ can be calculated as follows:"
   ]
  },
  {
   "cell_type": "markdown",
   "metadata": {},
   "source": [
    "$$\\mathbf{x}_{f} = \\mathbf{A} \\, \\mathbf{x} \\: .$$"
   ]
  },
  {
   "cell_type": "markdown",
   "metadata": {},
   "source": [
    "Show that this formulation is equivalent to that presented previously. To do that,\n",
    "\n",
    "1. Create a function that calculates the moving average filter by using the matrix-vector product and save it in your `my_functions.py` file. This function must receive two arguments: the data vector and the number of points forming the moving window. This function must create the matrix $\\mathbf{A}$ and call one of the three functions created in the previous exercise for calculating the matrix-vector product.\n",
    "2. In your `test_my_functions.py` file, create a test to compare the results produced by this function and the results produced by the previously presented simple moving average filter (`first_steps_Python\\SMA\\`)."
   ]
  },
  {
   "cell_type": "markdown",
   "metadata": {},
   "source": [
    "##### Hint: how to create $\\mathbf{A}$ automatically?"
   ]
  },
  {
   "cell_type": "code",
   "execution_count": 7,
   "metadata": {
    "collapsed": true
   },
   "outputs": [],
   "source": [
    "N = 5 # number of data\n",
    "ws = 3 # window size\n",
    "i0 = ws//2\n",
    "A = np.array(np.hstack(((1./ws)*np.ones(ws), np.zeros(N - ws + 1))))"
   ]
  },
  {
   "cell_type": "code",
   "execution_count": 8,
   "metadata": {
    "collapsed": true
   },
   "outputs": [],
   "source": [
    "A = np.resize(A, (N-2*i0, N))"
   ]
  },
  {
   "cell_type": "code",
   "execution_count": 9,
   "metadata": {
    "collapsed": true
   },
   "outputs": [],
   "source": [
    "A = np.vstack((np.zeros(N), A, np.zeros(N)))"
   ]
  },
  {
   "cell_type": "code",
   "execution_count": 10,
   "metadata": {},
   "outputs": [
    {
     "data": {
      "text/plain": [
       "array([[ 0.        ,  0.        ,  0.        ,  0.        ,  0.        ],\n",
       "       [ 0.33333333,  0.33333333,  0.33333333,  0.        ,  0.        ],\n",
       "       [ 0.        ,  0.33333333,  0.33333333,  0.33333333,  0.        ],\n",
       "       [ 0.        ,  0.        ,  0.33333333,  0.33333333,  0.33333333],\n",
       "       [ 0.        ,  0.        ,  0.        ,  0.        ,  0.        ]])"
      ]
     },
     "execution_count": 10,
     "metadata": {},
     "output_type": "execute_result"
    }
   ],
   "source": [
    "A"
   ]
  },
  {
   "cell_type": "code",
   "execution_count": null,
   "metadata": {
    "collapsed": true
   },
   "outputs": [],
   "source": []
  },
  {
   "cell_type": "markdown",
   "metadata": {},
   "source": [
    "### Exercise"
   ]
  },
  {
   "cell_type": "markdown",
   "metadata": {},
   "source": [
    "Let $\\mathbf{y}$ be a $N \\times 1$ vector whose $i$th element $y_{i} = f(x_{i})$, $i = 1, ..., N$, represents a function $f(x)$ evaluated at a point $x_{i}$. Let us also consider that the $N$ points $x_{i}$ are regularly spaced, it means"
   ]
  },
  {
   "cell_type": "markdown",
   "metadata": {},
   "source": [
    "$$\n",
    "x_{i} = x_{1} + (i-1)*h \\: , \\quad i = 1, ..., N \\: ,\n",
    "$$"
   ]
  },
  {
   "cell_type": "markdown",
   "metadata": {},
   "source": [
    "where $x_{1}$ is the minimum $x_{i}$."
   ]
  },
  {
   "cell_type": "markdown",
   "metadata": {},
   "source": [
    "In this case, the derivative of the function $f(x)$ with respect to $x$ can be approximated by using a [central finite difference](https://en.wikipedia.org/wiki/Finite_difference) equation:"
   ]
  },
  {
   "cell_type": "markdown",
   "metadata": {},
   "source": [
    "$$\n",
    "\\frac{d \\, f(x_{i})}{d \\, x} \\approx \\frac{f(x_{i} + h) - f(x_{i} - h)}{2 \\, h} \\: , \\quad i = 2, ..., N-1 \\: ,\n",
    "$$"
   ]
  },
  {
   "cell_type": "markdown",
   "metadata": {},
   "source": [
    "where $y_{i+1} = f(x_{i} + h)$ and $y_{i-1} = f(x_{i} - h)$. Notice that the derivative $\\frac{d \\, f(x_{i})}{d \\, x}$ is not calculated at the points $x_{1}$ and $x_{N-1}$. The first derivatives $\\frac{d \\, f(x_{i})}{d \\, x}$ can be calculated as a matrix-vector product $\\mathbf{D} \\, \\mathbf{y}$, where"
   ]
  },
  {
   "cell_type": "markdown",
   "metadata": {},
   "source": [
    "$$\n",
    "\\mathbf{D} = \\frac{1}{2 \\, h} \\, \\left[ \\begin{array}{c}\n",
    "0 & 0 & 0 & 0 & \\cdots & 0 \\\\\n",
    "-1 & 0 & 1 & 0 & \\cdots & 0 \\\\\n",
    "0 & -1 & 0 & 1 & & 0 \\\\\n",
    "\\vdots  & & &  &  & \\vdots \\\\\n",
    "0  &  & -1 & 0 & 1 & 0 \\\\\n",
    "0  & \\cdots & 0 & -1 & 0 & 1 \\\\\n",
    "0 & \\cdots & 0 & 0 & 0 & 0\n",
    "\\end{array} \\right] \\: .\n",
    "$$"
   ]
  },
  {
   "cell_type": "markdown",
   "metadata": {},
   "source": [
    "Based on this introduction,\n",
    "\n",
    "1. In your `my_functions.py` file, create a function that receives a $N \\times 1$ data vector $\\mathbf{y}$ and return the first derivatives calculated according to the matrix-vector product presented above. The function must call one your functions for calculating the matrix-vector product. Hint: modify the algorithm for creating the matrix $\\mathbf{A}$ presented in the previous exercise to create the matrix $\\mathbf{D}$ automatically.\n",
    "2. In your `test_my_function.py` file, create a test for the function created in the previous item. In this test, create a vector `theta` with the function [`numpy.arange`](http://docs.scipy.org/doc/numpy/reference/generated/numpy.arange.html), by using the arguments `0.`, `2*np.pi`, `dtheta`, where `dtheta = 2.*np.pi/1000`. Create a data vector `y` by using the [`numpy.sin`](http://docs.scipy.org/doc/numpy/reference/generated/numpy.sin.html) function. Then, calculate a vector `z_true` by using the [`numpy.cos`](http://docs.scipy.org/doc/numpy/reference/generated/numpy.cos.html) function. Finally, calculate a `z_calc` vector with your function and compare with the `z_true` vector by using the routine [`numpy.testing.assert_almost_equal`](https://docs.scipy.org/doc/numpy/reference/generated/numpy.testing.assert_almost_equal.html). In the routine `numpy.testing.assert_almost_equal`, use `decimal = 3`. Remember that the first and last elements of `z_calc` will be equal to zero. Be careful!"
   ]
  },
  {
   "cell_type": "code",
   "execution_count": null,
   "metadata": {
    "collapsed": true
   },
   "outputs": [],
   "source": []
  }
 ],
 "metadata": {
  "anaconda-cloud": {},
  "kernelspec": {
   "display_name": "Python 2",
   "language": "python",
   "name": "python2"
  },
  "language_info": {
   "codemirror_mode": {
    "name": "ipython",
    "version": 2
   },
   "file_extension": ".py",
   "mimetype": "text/x-python",
   "name": "python",
   "nbconvert_exporter": "python",
   "pygments_lexer": "ipython2",
   "version": "2.7.14"
  }
 },
 "nbformat": 4,
 "nbformat_minor": 1
}
