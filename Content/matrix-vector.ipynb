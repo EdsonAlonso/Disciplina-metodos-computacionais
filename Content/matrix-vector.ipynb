{
 "cells": [
  {
   "cell_type": "markdown",
   "metadata": {},
   "source": [
    "# Product of a matrix and a vector"
   ]
  },
  {
   "cell_type": "markdown",
   "metadata": {},
   "source": [
    "Let $\\mathbf{A}$ be a $N \\times M$ matrix and $\\mathbf{x}$ be a $M \\times 1$ vector. $\\mathbf{A}$ can be represented by using a *row partition* or by a *colunm partition* as follows:"
   ]
  },
  {
   "cell_type": "markdown",
   "metadata": {},
   "source": [
    "$$\\begin{split}\n",
    "    \\mathbf{A} \n",
    "    & = \\left[\n",
    "    \\begin{array}{ccc}\n",
    "        a_{11} & \\cdots & a_{1M} \\\\\n",
    "        \\vdots &        & \\vdots \\\\\n",
    "        a_{N1} & \\cdots & a_{NM}\n",
    "    \\end{array}\n",
    "    \\right]_{N \\times M} \\\\\n",
    "    & = \\left[\n",
    "    \\begin{array}{c}\n",
    "        \\mathbf{A}[1,:] \\\\\n",
    "        \\vdots \\\\\n",
    "        \\mathbf{A}[N,:]\n",
    "    \\end{array}\n",
    "    \\right]_{N \\times M} \\\\\n",
    "    & = \\left[\n",
    "    \\begin{array}{ccc}\n",
    "        \\mathbf{A}[:,1] &\n",
    "        \\cdots &\n",
    "        \\mathbf{A}[:,M]\n",
    "    \\end{array}\n",
    "    \\right]_{N \\times M}\n",
    "\\end{split} \\: ,$$"
   ]
  },
  {
   "cell_type": "markdown",
   "metadata": {},
   "source": [
    "where $\\mathbf{A}[i,:]$, $i = 1, ..., N$, is a $1 \\times M$ vector representing the $i$th row of $\\mathbf{A}[i,:]$ and $\\mathbf{A}[:,j]$, $j = 1, ..., M$, is a $N \\times 1$ vector representing the $j$th colunm of $\\mathbf{A}$."
   ]
  },
  {
   "cell_type": "markdown",
   "metadata": {},
   "source": [
    "Once defined these partitions, we can define the product $\\mathbf{y} = \\mathbf{A} \\mathbf{x}$ by using a *doubly nested for*"
   ]
  },
  {
   "cell_type": "markdown",
   "metadata": {},
   "source": [
    "    for i = 1:N\n",
    "        y[i] = 0\n",
    "        for j = 1:M\n",
    "            y[i] = y[i] + A[i,j]*x[j]"
   ]
  },
  {
   "cell_type": "markdown",
   "metadata": {},
   "source": [
    "or by using a *dot product formulation*"
   ]
  },
  {
   "cell_type": "markdown",
   "metadata": {},
   "source": [
    "    for i = 1:N\n",
    "        y[i] = dot(A[i,:], x[:])"
   ]
  },
  {
   "cell_type": "markdown",
   "metadata": {},
   "source": [
    "or by using a *linear combination formulation*"
   ]
  },
  {
   "cell_type": "markdown",
   "metadata": {},
   "source": [
    "    y[:] = 0\n",
    "    for j = 1:M\n",
    "        y[:] = y[:] + A[:,j]*x[j]"
   ]
  },
  {
   "cell_type": "markdown",
   "metadata": {},
   "source": [
    "### Exercise 5"
   ]
  },
  {
   "cell_type": "markdown",
   "metadata": {},
   "source": [
    "Show that these three approaches are equivalent. To do this, follow the steps below:\n",
    "\n",
    "1. Create a function that implements the first approach and save it in an external file\n",
    "2. Create a function that implements the second approach and save it in an external file\n",
    "3. Create a function that implements the third approach and save it in an external file\n",
    "3. Use the `code-template.ipynb` for testing the three functions against the python code shown below"
   ]
  },
  {
   "cell_type": "markdown",
   "metadata": {},
   "source": [
    "#### Numpy example of the matrix-vector product"
   ]
  },
  {
   "cell_type": "markdown",
   "metadata": {},
   "source": [
    "Import numpy"
   ]
  },
  {
   "cell_type": "code",
   "execution_count": 1,
   "metadata": {
    "collapsed": true
   },
   "outputs": [],
   "source": [
    "import numpy as np"
   ]
  },
  {
   "cell_type": "markdown",
   "metadata": {},
   "source": [
    "Create a colunm vector `x` by using the function [numpy.arange](http://docs.scipy.org/doc/numpy/reference/generated/numpy.arange.html) and a row vector `zT` by using the function [numpy.reshape](http://docs.scipy.org/doc/numpy/reference/generated/numpy.reshape.html)"
   ]
  },
  {
   "cell_type": "code",
   "execution_count": 2,
   "metadata": {
    "collapsed": true
   },
   "outputs": [],
   "source": [
    "x = np.arange(5.)\n",
    "x = np.reshape(x, (x.size, 1))"
   ]
  },
  {
   "cell_type": "code",
   "execution_count": 3,
   "metadata": {
    "collapsed": false
   },
   "outputs": [
    {
     "data": {
      "text/plain": [
       "array([[ 0.],\n",
       "       [ 1.],\n",
       "       [ 2.],\n",
       "       [ 3.],\n",
       "       [ 4.]])"
      ]
     },
     "execution_count": 3,
     "metadata": {},
     "output_type": "execute_result"
    }
   ],
   "source": [
    "x"
   ]
  },
  {
   "cell_type": "markdown",
   "metadata": {},
   "source": [
    "Create a matrix `A` by using the function [numpy.arange](http://docs.scipy.org/doc/numpy/reference/generated/numpy.arange.html) and [numpy.reshape](http://docs.scipy.org/doc/numpy/reference/generated/numpy.reshape.html)"
   ]
  },
  {
   "cell_type": "code",
   "execution_count": 4,
   "metadata": {
    "collapsed": false
   },
   "outputs": [],
   "source": [
    "A = np.reshape(np.arange(20.), (4,5))"
   ]
  },
  {
   "cell_type": "code",
   "execution_count": 5,
   "metadata": {
    "collapsed": false
   },
   "outputs": [
    {
     "data": {
      "text/plain": [
       "array([[  0.,   1.,   2.,   3.,   4.],\n",
       "       [  5.,   6.,   7.,   8.,   9.],\n",
       "       [ 10.,  11.,  12.,  13.,  14.],\n",
       "       [ 15.,  16.,  17.,  18.,  19.]])"
      ]
     },
     "execution_count": 5,
     "metadata": {},
     "output_type": "execute_result"
    }
   ],
   "source": [
    "A"
   ]
  },
  {
   "cell_type": "markdown",
   "metadata": {},
   "source": [
    "Calculate the matrix-vector product by using the function [numpy.dot](http://docs.scipy.org/doc/numpy/reference/generated/numpy.dot.html):"
   ]
  },
  {
   "cell_type": "code",
   "execution_count": 6,
   "metadata": {
    "collapsed": false
   },
   "outputs": [
    {
     "data": {
      "text/plain": [
       "array([[  30.],\n",
       "       [  80.],\n",
       "       [ 130.],\n",
       "       [ 180.]])"
      ]
     },
     "execution_count": 6,
     "metadata": {},
     "output_type": "execute_result"
    }
   ],
   "source": [
    "np.dot(A,x)"
   ]
  },
  {
   "cell_type": "markdown",
   "metadata": {},
   "source": [
    "What happens if the function `numpy.dot` is used to compute the product of the matrix `A` and a vector `y = np.arange(5.)`?"
   ]
  },
  {
   "cell_type": "markdown",
   "metadata": {},
   "source": [
    "### Exercise 6"
   ]
  },
  {
   "cell_type": "markdown",
   "metadata": {},
   "source": [
    "The previously presented algorithm for calculating a simple moving average filter (`first_steps_Python\\SMA\\sma.ipynb`) can be formulated as the product of a matrix $\\mathbf{A}$ and the original data $\\mathbf{x}$, where $\\mathbf{A}$ depends on the number of points forming the moving window and the number of data. For example, consider a data vector $\\mathbf{x}$ given by"
   ]
  },
  {
   "cell_type": "markdown",
   "metadata": {},
   "source": [
    "$$\n",
    "\\mathbf{x} = \\left[ \\begin{array}{c}\n",
    "x_{1} \\\\\n",
    "x_{2} \\\\\n",
    "x_{3} \\\\\n",
    "x_{4} \\\\\n",
    "x_{5}\n",
    "\\end{array} \\right]\n",
    "$$"
   ]
  },
  {
   "cell_type": "markdown",
   "metadata": {},
   "source": [
    "and a moving window formed with size $3$. In this case, the matrix $\\mathbf{A}$ is given by"
   ]
  },
  {
   "cell_type": "markdown",
   "metadata": {},
   "source": [
    "$$\n",
    "\\mathbf{A} = \\frac{1}{3} \\, \\left[ \\begin{array}{ccccc}\n",
    "0 & 0 & 0 & 0 & 0 \\\\\n",
    "1 & 1 & 1 & 0 & 0 \\\\\n",
    "0 & 1 & 1 & 1 & 0 \\\\\n",
    "0 & 0 & 1 & 1 & 1 \\\\\n",
    "0 & 0 & 0 & 0 & 0\n",
    "\\end{array} \\right] \\: .\n",
    "$$"
   ]
  },
  {
   "cell_type": "markdown",
   "metadata": {},
   "source": [
    "#### Hint: how to create $\\mathbf{A}$ automatically?"
   ]
  },
  {
   "cell_type": "code",
   "execution_count": 7,
   "metadata": {
    "collapsed": false
   },
   "outputs": [],
   "source": [
    "N = 5 # number of data\n",
    "ws = 3 # window size\n",
    "i0 = ws//2\n",
    "A = np.array(np.hstack(((1./ws)*np.ones(ws), np.zeros(N - ws + 1))))\n",
    "#A = np.array(np.hstack((np.array([-1.,0.,1.]), np.zeros(N - ws + 1))))"
   ]
  },
  {
   "cell_type": "code",
   "execution_count": 8,
   "metadata": {
    "collapsed": false
   },
   "outputs": [],
   "source": [
    "A = np.resize(A, (N-2*i0, N))"
   ]
  },
  {
   "cell_type": "code",
   "execution_count": 9,
   "metadata": {
    "collapsed": false
   },
   "outputs": [],
   "source": [
    "A = np.vstack((np.zeros(N), A, np.zeros(N)))"
   ]
  },
  {
   "cell_type": "code",
   "execution_count": 10,
   "metadata": {
    "collapsed": false
   },
   "outputs": [
    {
     "data": {
      "text/plain": [
       "array([[ 0.        ,  0.        ,  0.        ,  0.        ,  0.        ],\n",
       "       [ 0.33333333,  0.33333333,  0.33333333,  0.        ,  0.        ],\n",
       "       [ 0.        ,  0.33333333,  0.33333333,  0.33333333,  0.        ],\n",
       "       [ 0.        ,  0.        ,  0.33333333,  0.33333333,  0.33333333],\n",
       "       [ 0.        ,  0.        ,  0.        ,  0.        ,  0.        ]])"
      ]
     },
     "execution_count": 10,
     "metadata": {},
     "output_type": "execute_result"
    }
   ],
   "source": [
    "A"
   ]
  },
  {
   "cell_type": "markdown",
   "metadata": {},
   "source": [
    "Then, the filtered data $\\mathbf{x}_{f}$ can be calculated as follows:"
   ]
  },
  {
   "cell_type": "markdown",
   "metadata": {},
   "source": [
    "$$\\mathbf{x}_{f} = \\mathbf{A} \\, \\mathbf{x} \\: .$$"
   ]
  },
  {
   "cell_type": "markdown",
   "metadata": {},
   "source": [
    "Show that this formulation is equivalent to the previously presented one. To do that,\n",
    "\n",
    "1. Create a function that calculates the moving average filter by using the matrix-vector product. This function must receive two arguments: the data vector and the number of points forming the moving window. This function must create the matrix $\\mathbf{A}$ and call one of the three functions created in the previous exercise for calculating the matrix-vector product.\n",
    "2. Use the `code-template.ipynb` to compare the results produced by the function created in the previous step with the results produced by the function created in the previous class for calculating the moving average filter."
   ]
  },
  {
   "cell_type": "markdown",
   "metadata": {},
   "source": [
    "### Exercise 7"
   ]
  },
  {
   "cell_type": "markdown",
   "metadata": {},
   "source": [
    "Let $\\mathbf{y}$ be a $N \\times 1$ vector whose $i$th element $y_{i} = f(x_{i})$, $i = 1, ..., N$, represents a function $f(x)$ evaluated at a point $x_{i}$. Let us also consider that the $N$ points $x_{i}$ are regularly spaced, it means"
   ]
  },
  {
   "cell_type": "markdown",
   "metadata": {},
   "source": [
    "$$\n",
    "x_{i} = x_{1} + (i-1)*h \\: , \\quad i = 1, ..., N \\: ,\n",
    "$$"
   ]
  },
  {
   "cell_type": "markdown",
   "metadata": {},
   "source": [
    "where $x_{1}$ is the minimum $x_{i}$."
   ]
  },
  {
   "cell_type": "markdown",
   "metadata": {},
   "source": [
    "In this case, the derivative of the function $f(x)$ with respect to $x$ can be approximated by using a [central finite difference](https://en.wikipedia.org/wiki/Finite_difference) equation:"
   ]
  },
  {
   "cell_type": "markdown",
   "metadata": {},
   "source": [
    "$$\n",
    "\\frac{d \\, f(x_{i})}{d \\, x} \\approx \\frac{f(x_{i} + h) - f(x_{i} - h)}{2 \\, h} \\: , \\quad i = 2, ..., N-1 \\: ,\n",
    "$$"
   ]
  },
  {
   "cell_type": "markdown",
   "metadata": {},
   "source": [
    "where $y_{i+1} = f(x_{i} + h)$ and $y_{i-1} = f(x_{i} - h)$. Notice that the derivative $\\frac{d \\, f(x_{i})}{d \\, x}$ is not calculated at the points $x_{1}$ and $x_{N-1}$. The first derivatives $\\frac{d \\, f(x_{i})}{d \\, x}$ can be calculated as a matrix-vector product $\\mathbf{A} \\, \\mathbf{y}$, where"
   ]
  },
  {
   "cell_type": "markdown",
   "metadata": {},
   "source": [
    "$$\n",
    "\\mathbf{A} = \\frac{1}{2 \\, h} \\, \\left[ \\begin{array}{c}\n",
    "0 & 0 & 0 & 0 & \\cdots & 0 \\\\\n",
    "-1 & 0 & 1 & 0 & \\cdots & 0 \\\\\n",
    "0 & -1 & 0 & 1 & & 0 \\\\\n",
    "\\vdots  & & &  &  & \\vdots \\\\\n",
    "0  &  & -1 & 0 & 1 & 0 \\\\\n",
    "0  & \\cdots & 0 & -1 & 0 & 1 \\\\\n",
    "0 & \\cdots & 0 & 0 & 0 & 0\n",
    "\\end{array} \\right] \\: .\n",
    "$$"
   ]
  },
  {
   "cell_type": "markdown",
   "metadata": {},
   "source": [
    "Based on this introduction,\n",
    "\n",
    "1. Create a function that receives a $N \\times 1$ data vector $\\mathbf{y}$ and return the first derivatives calculated according to the matrix-vector product presented above. The function must call one the functions created in the Exercise 5 for calculating the matrix-vector product.\n",
    "2. Use the `code-template.ipynb` to test this function. Create a vector `theta` with the function [numpy.arange](http://docs.scipy.org/doc/numpy/reference/generated/numpy.arange.html), by using the arguments `0.`, `2*np.pi`, `dtheta`, where `dtheta = 2.*np.pi/1000`. Create a data vector `y` by using the [numpy.sin](http://docs.scipy.org/doc/numpy/reference/generated/numpy.sin.html) function.\n",
    "3. Calculate a vector `z_true` by using the [numpy.cos](http://docs.scipy.org/doc/numpy/reference/generated/numpy.cos.html) function.\n",
    "4. Calculate a `z_calc` vector with our function and compare with the `z_true` vector by using the [numpy.allclose](http://docs.scipy.org/doc/numpy/reference/generated/numpy.allclose.html) function. Remember that the first and last elements of `z_calc` will be equal to zero. This fact must be taken into account in the test."
   ]
  },
  {
   "cell_type": "code",
   "execution_count": 11,
   "metadata": {
    "collapsed": true
   },
   "outputs": [],
   "source": [
    "dtheta = 2.*np.pi/1000\n",
    "theta = np.arange(0., 2*np.pi, dtheta)"
   ]
  },
  {
   "cell_type": "code",
   "execution_count": 12,
   "metadata": {
    "collapsed": true
   },
   "outputs": [],
   "source": [
    "y = np.sin(theta)"
   ]
  },
  {
   "cell_type": "code",
   "execution_count": 13,
   "metadata": {
    "collapsed": false
   },
   "outputs": [],
   "source": [
    "N = y.size # number of data\n",
    "ws = 3\n",
    "i0 = ws//2\n",
    "#A = np.array(np.hstack(((1./ws)*np.ones(ws), np.zeros(N - ws + 1))))\n",
    "A = np.array(np.hstack((np.array([-1.,0.,1.]), np.zeros(N - ws + 1))))"
   ]
  },
  {
   "cell_type": "code",
   "execution_count": 14,
   "metadata": {
    "collapsed": false
   },
   "outputs": [],
   "source": [
    "A = np.resize(A, (N-2*i0, N))"
   ]
  },
  {
   "cell_type": "code",
   "execution_count": 15,
   "metadata": {
    "collapsed": false
   },
   "outputs": [],
   "source": [
    "A = np.vstack((np.zeros(N), A, np.zeros(N)))"
   ]
  },
  {
   "cell_type": "code",
   "execution_count": 16,
   "metadata": {
    "collapsed": false
   },
   "outputs": [
    {
     "data": {
      "text/plain": [
       "(1000L, 1000L)"
      ]
     },
     "execution_count": 16,
     "metadata": {},
     "output_type": "execute_result"
    }
   ],
   "source": [
    "A.shape"
   ]
  },
  {
   "cell_type": "code",
   "execution_count": 17,
   "metadata": {
    "collapsed": true
   },
   "outputs": [],
   "source": [
    "y_filt = (1./(2.*dtheta))*np.dot(A,y)"
   ]
  },
  {
   "cell_type": "code",
   "execution_count": 18,
   "metadata": {
    "collapsed": true
   },
   "outputs": [],
   "source": [
    "z = np.cos(theta)"
   ]
  },
  {
   "cell_type": "code",
   "execution_count": 19,
   "metadata": {
    "collapsed": true
   },
   "outputs": [],
   "source": [
    "%matplotlib inline"
   ]
  },
  {
   "cell_type": "code",
   "execution_count": 20,
   "metadata": {
    "collapsed": true
   },
   "outputs": [],
   "source": [
    "import matplotlib.pyplot as plt"
   ]
  },
  {
   "cell_type": "code",
   "execution_count": 21,
   "metadata": {
    "collapsed": false
   },
   "outputs": [
    {
     "data": {
      "image/png": "[encoded data removed]",
      "text/plain": [
       "<matplotlib.figure.Figure at 0x9057c88>"
      ]
     },
     "metadata": {},
     "output_type": "display_data"
    }
   ],
   "source": [
    "plt.plot(theta[1:N-1], z[1:N-1], 'r-', linewidth=2)\n",
    "plt.plot(theta[1:N-1], y_filt[1:N-1], 'b--', linewidth=2)\n",
    "plt.show()"
   ]
  },
  {
   "cell_type": "code",
   "execution_count": null,
   "metadata": {
    "collapsed": true
   },
   "outputs": [],
   "source": []
  }
 ],
 "metadata": {
  "kernelspec": {
   "display_name": "Python 2",
   "language": "python",
   "name": "python2"
  },
  "language_info": {
   "codemirror_mode": {
    "name": "ipython",
    "version": 2
   },
   "file_extension": ".py",
   "mimetype": "text/x-python",
   "name": "python",
   "nbconvert_exporter": "python",
   "pygments_lexer": "ipython2",
   "version": "2.7.11"
  }
 },
 "nbformat": 4,
 "nbformat_minor": 0
}
