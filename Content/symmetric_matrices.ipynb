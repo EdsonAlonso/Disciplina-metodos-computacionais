{
 "cells": [
  {
   "cell_type": "markdown",
   "metadata": {},
   "source": [
    "# Triangular matrices"
   ]
  },
  {
   "cell_type": "markdown",
   "metadata": {},
   "source": [
    "Consider the $N \\times N$ matrix $\\mathbf{S}$ given by:"
   ]
  },
  {
   "cell_type": "markdown",
   "metadata": {},
   "source": [
    "$$\\mathbf{S} \n",
    "= \\left[ \\begin{array}{ccccc}\n",
    "s_{11} & s_{12} & s_{13} & \\cdots & s_{1N} \\\\\n",
    "s_{12} & s_{22} & s_{23} & \\cdots & s_{2N} \\\\\n",
    "s_{13} & s_{23} & s_{33} & \\cdots & s_{3N}  \\\\\n",
    "\\vdots & \\vdots & \\vdots & \\ddots & \\vdots  \\\\\n",
    "s_{1N} & s_{2N} & s_{3N} & \\cdots & s_{NN}\n",
    "\\end{array} \\right] \\: .\n",
    "$$"
   ]
  },
  {
   "cell_type": "markdown",
   "metadata": {},
   "source": [
    "This matrix is called **symmetric matrix**. Notice that, in this matrix, $s_{ij} = s_{ji}$."
   ]
  },
  {
   "cell_type": "markdown",
   "metadata": {},
   "source": [
    "Let $\\mathbf{x}$ be a $N \\times 1$ vector given by:"
   ]
  },
  {
   "cell_type": "markdown",
   "metadata": {},
   "source": [
    "$$\\mathbf{x} = \n",
    "\\left[ \\begin{array}{c}\n",
    "x_{1} \\\\\n",
    "\\vdots \\\\\n",
    "x_{N}\n",
    "\\end{array} \\right] \\: .\n",
    "$$"
   ]
  },
  {
   "cell_type": "markdown",
   "metadata": {},
   "source": [
    "It can be show that the product $\\mathbf{y} = \\mathbf{S} \\mathbf{x}$ can be calculated as follows:"
   ]
  },
  {
   "cell_type": "markdown",
   "metadata": {},
   "source": [
    "    y[:] = 0\n",
    "    for i = 1:N\n",
    "        for j = 1:N\n",
    "            y[i] = y[i] + S[i,j]*x[j]"
   ]
  },
  {
   "cell_type": "markdown",
   "metadata": {},
   "source": [
    "    y[:] = 0\n",
    "    for i = 1:N\n",
    "        for j = i:N\n",
    "            y[i] = y[i] + S[i,j]*x[j]\n",
    "\n",
    "    for i = 1:N\n",
    "        for j = 1:i-1\n",
    "            y[i] = y[i] + S[i,j]*x[j]"
   ]
  },
  {
   "cell_type": "markdown",
   "metadata": {},
   "source": [
    "    y[:] = 0\n",
    "    for i = 1:N\n",
    "        y[i] = y[i] + dot(S[i,i:],x[i:])\n",
    "\n",
    "    for j = 1:N\n",
    "        y[j+1:] = y[j+1:] + S[j+1:,j]*x[j]"
   ]
  },
  {
   "cell_type": "markdown",
   "metadata": {},
   "source": [
    "    y[:] = 0\n",
    "    for i = 1:N\n",
    "        y[i] = y[i] + dot(S[i,i:],x[i:])\n",
    "\n",
    "    for j = 1:N\n",
    "        y[j+1:] = y[j+1:] + S[j,j+1:]*x[j]"
   ]
  },
  {
   "cell_type": "markdown",
   "metadata": {},
   "source": [
    "### Exercise 11"
   ]
  },
  {
   "cell_type": "markdown",
   "metadata": {},
   "source": [
    "Validate this algorithm according to the steps below:\n",
    "\n",
    "1. Create a function that calculates the product `Sx`. The function may receive the full symmetric matrix `S` or just its upper part (including the diagonal) and the vector `x`.\n",
    "2. Use the `code-template.ipynb` for testing the two functions against the Python code shown below:"
   ]
  },
  {
   "cell_type": "code",
   "execution_count": 1,
   "metadata": {
    "collapsed": true
   },
   "outputs": [],
   "source": [
    "import numpy as np"
   ]
  },
  {
   "cell_type": "markdown",
   "metadata": {},
   "source": [
    "Create a full symmetric matrix `S` and a vector `x` by using, for example, the functions [`numpy.random.rand`](http://docs.scipy.org/doc/numpy/reference/generated/numpy.random.rand.html#numpy.random.rand) and [`numpy.arange`](http://docs.scipy.org/doc/numpy/reference/generated/numpy.arange.html)"
   ]
  },
  {
   "cell_type": "code",
   "execution_count": 2,
   "metadata": {
    "collapsed": false
   },
   "outputs": [],
   "source": [
    "S = np.reshape(np.arange(1., 26.), (5,5))\n",
    "S = np.dot(S.T, S)\n",
    "\n",
    "x = np.arange(11.,16.)"
   ]
  },
  {
   "cell_type": "code",
   "execution_count": 3,
   "metadata": {
    "collapsed": false
   },
   "outputs": [
    {
     "name": "stdout",
     "output_type": "stream",
     "text": [
      "[[  855.   910.   965.  1020.  1075.]\n",
      " [  910.   970.  1030.  1090.  1150.]\n",
      " [  965.  1030.  1095.  1160.  1225.]\n",
      " [ 1020.  1090.  1160.  1230.  1300.]\n",
      " [ 1075.  1150.  1225.  1300.  1375.]]\n"
     ]
    }
   ],
   "source": [
    "print S"
   ]
  },
  {
   "cell_type": "code",
   "execution_count": 4,
   "metadata": {
    "collapsed": false
   },
   "outputs": [
    {
     "name": "stdout",
     "output_type": "stream",
     "text": [
      "[ 11.  12.  13.  14.  15.]\n"
     ]
    }
   ],
   "source": [
    "print x"
   ]
  },
  {
   "cell_type": "markdown",
   "metadata": {},
   "source": [
    "Compare the results produced by your functions with the function [`numpy.dot`](http://docs.scipy.org/doc/numpy/reference/generated/numpy.dot.html)"
   ]
  },
  {
   "cell_type": "code",
   "execution_count": 5,
   "metadata": {
    "collapsed": false
   },
   "outputs": [
    {
     "name": "stdout",
     "output_type": "stream",
     "text": [
      "[ 63275.  67550.  71825.  76100.  80375.]\n"
     ]
    }
   ],
   "source": [
    "print np.dot(S,x)"
   ]
  },
  {
   "cell_type": "code",
   "execution_count": null,
   "metadata": {
    "collapsed": true
   },
   "outputs": [],
   "source": []
  }
 ],
 "metadata": {
  "kernelspec": {
   "display_name": "Python 2",
   "language": "python",
   "name": "python2"
  },
  "language_info": {
   "codemirror_mode": {
    "name": "ipython",
    "version": 2
   },
   "file_extension": ".py",
   "mimetype": "text/x-python",
   "name": "python",
   "nbconvert_exporter": "python",
   "pygments_lexer": "ipython2",
   "version": "2.7.11"
  }
 },
 "nbformat": 4,
 "nbformat_minor": 0
}
