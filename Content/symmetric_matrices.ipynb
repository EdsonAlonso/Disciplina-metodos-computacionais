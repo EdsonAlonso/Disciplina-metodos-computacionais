{
 "cells": [
  {
   "cell_type": "markdown",
   "metadata": {},
   "source": [
    "# Symmetric matrices"
   ]
  },
  {
   "cell_type": "markdown",
   "metadata": {},
   "source": [
    "Consider the $N \\times N$ matrix $\\mathbf{S}$ given by:"
   ]
  },
  {
   "cell_type": "markdown",
   "metadata": {},
   "source": [
    "$$\\mathbf{S} \n",
    "= \\left[ \\begin{array}{ccccc}\n",
    "s_{11} & s_{12} & s_{13} & \\cdots & s_{1N} \\\\\n",
    "s_{12} & s_{22} & s_{23} & \\cdots & s_{2N} \\\\\n",
    "s_{13} & s_{23} & s_{33} & \\cdots & s_{3N}  \\\\\n",
    "\\vdots & \\vdots & \\vdots & \\ddots & \\vdots  \\\\\n",
    "s_{1N} & s_{2N} & s_{3N} & \\cdots & s_{NN}\n",
    "\\end{array} \\right] \\: .\n",
    "$$"
   ]
  },
  {
   "cell_type": "markdown",
   "metadata": {},
   "source": [
    "This matrix is called **symmetric matrix**. Notice that, in this matrix, $s_{ij} = s_{ji}$."
   ]
  },
  {
   "cell_type": "markdown",
   "metadata": {},
   "source": [
    "Let $\\mathbf{x}$ be a $N \\times 1$ vector given by:"
   ]
  },
  {
   "cell_type": "markdown",
   "metadata": {},
   "source": [
    "$$\\mathbf{x} = \n",
    "\\left[ \\begin{array}{c}\n",
    "x_{1} \\\\\n",
    "\\vdots \\\\\n",
    "x_{N}\n",
    "\\end{array} \\right] \\: .\n",
    "$$"
   ]
  },
  {
   "cell_type": "markdown",
   "metadata": {},
   "source": [
    "For convenience, let's consider the example with $N = 4$. In this case, the matrix $\\mathbf{S}$ can be rewritten as follows:"
   ]
  },
  {
   "cell_type": "markdown",
   "metadata": {},
   "source": [
    "$$\n",
    "\\mathbf{S} = \n",
    "\\underbrace{\n",
    "\\begin{bmatrix}\n",
    "0 & 0 & 0 & 0 \\\\\n",
    "0 & 0 & 0 & 0 \\\\\n",
    "0 & 0 & 0 & 0 \\\\\n",
    "s_{41} & 0 & 0 & 0\n",
    "\\end{bmatrix}}_{\\mathbf{S}_{-3}} +\n",
    "\\underbrace{\\begin{bmatrix}\n",
    "0 & 0 & 0 & 0 \\\\\n",
    "0 & 0 & 0 & 0 \\\\\n",
    "s_{31} & 0 & 0 & 0 \\\\\n",
    "0 & s_{42} & 0 & 0\n",
    "\\end{bmatrix}}_{\\mathbf{S}_{-2}} + \\cdots +\n",
    "\\underbrace{\\begin{bmatrix}\n",
    "s_{11} & 0 & 0 & 0 \\\\\n",
    "0 & s_{22} & 0 & 0 \\\\\n",
    "0 & 0 & s_{33} & 0 \\\\\n",
    "0 & 0 & 0 & s_{44}\n",
    "\\end{bmatrix}}_{\\mathbf{S}_{0}} + \\cdots +\n",
    "\\underbrace{\\begin{bmatrix}\n",
    "0 & 0 & 0 & s_{14} \\\\\n",
    "0 & 0 & 0 & 0 \\\\\n",
    "0 & 0 & 0 & 0 \\\\\n",
    "0 & 0 & 0 & 0\n",
    "\\end{bmatrix}}_{\\mathbf{S}_{3}}\n",
    "$$"
   ]
  },
  {
   "cell_type": "markdown",
   "metadata": {},
   "source": [
    "Notice that, according to the notation used above, $\\mathbf{S}_{-k} = \\mathbf{S}_{k}^{\\top}$. By using the matrix $\\mathbf{S}$ defined above, we can rewrite the product $\\mathbf{Sx}$ as follows:"
   ]
  },
  {
   "cell_type": "markdown",
   "metadata": {},
   "source": [
    "$$\n",
    "\\begin{split}\n",
    "\\mathbf{Sx} \n",
    "&= \\mathbf{S}_{-3}\\mathbf{x} + \\mathbf{S}_{-2}\\mathbf{x} + \\mathbf{S}_{-1}\\mathbf{x} + \\mathbf{S}_{0}\\mathbf{x} + \n",
    "\\mathbf{S}_{1}\\mathbf{x} + \\mathbf{S}_{2}\\mathbf{x} + \\mathbf{S}_{3}\\mathbf{x} \\\\\n",
    "&= \\mathbf{S}_{3}^{\\top}\\mathbf{x} + \\mathbf{S}_{2}^{\\top}\\mathbf{x} + \\mathbf{S}_{1}^{\\top}\\mathbf{x} + \\mathbf{S}_{0}\\mathbf{x} + \n",
    "\\mathbf{S}_{1}\\mathbf{x} + \\mathbf{S}_{2}\\mathbf{x} + \\mathbf{S}_{3}\\mathbf{x} \\\\\n",
    "&= \\mathbf{S}_{0}\\mathbf{x}\n",
    "+ \\left( \\mathbf{S}_{1}\\mathbf{x} + \\mathbf{S}_{1}^{\\top}\\mathbf{x} \\right)\n",
    "+ \\left( \\mathbf{S}_{2}\\mathbf{x} + \\mathbf{S}_{2}^{\\top}\\mathbf{x} \\right)\n",
    "+ \\left( \\mathbf{S}_{3}\\mathbf{x} + \\mathbf{S}_{3}^{\\top}\\mathbf{x} \\right)\n",
    "\\end{split}\n",
    "$$"
   ]
  },
  {
   "cell_type": "markdown",
   "metadata": {},
   "source": [
    "Now consider that, instead of storing the full matrix $\\mathbf{S}$, we have a single vector $\\mathbf{s}$ formed by the diagonal of the matrices $\\mathbf{S}_{0}$, $\\mathbf{S}_{1}$, ..., $\\mathbf{S}_{3}$, as follows:"
   ]
  },
  {
   "cell_type": "markdown",
   "metadata": {},
   "source": [
    "$$\n",
    "\\mathbf{s} = \\begin{bmatrix}\n",
    "s_{11} \\\\\n",
    "s_{22} \\\\\n",
    "s_{33} \\\\\n",
    "s_{44} \\\\\n",
    "s_{12} \\\\\n",
    "s_{23} \\\\\n",
    "s_{34} \\\\\n",
    "s_{13} \\\\\n",
    "s_{24} \\\\\n",
    "s_{14}\n",
    "\\end{bmatrix}\n",
    "$$"
   ]
  },
  {
   "cell_type": "markdown",
   "metadata": {},
   "source": [
    "By using this vector, we can write the following pseudo-code for computing the product $\\mathbf{Sx}$:"
   ]
  },
  {
   "cell_type": "markdown",
   "metadata": {},
   "source": [
    "    y = hadamard(s[:N], x)\n",
    "    j1 = \n",
    "    j2 = \n",
    "    for i = 1:N-1\n",
    "        y += matvec_diagk_prod(s[j1:j2], i, x)\n",
    "        y += matvec_diagk_prod(s[j1:j2], -i, x)\n",
    "        j1 = \n",
    "        j2 = "
   ]
  },
  {
   "cell_type": "markdown",
   "metadata": {},
   "source": [
    "where `j1` and `j2` are positive integers, `hadamard(s[:N], x)` is the function created in the notebook `hadamard.ipynb` and `matvec_diagk_prod(s[j1:j2], i, x[:])` is the function created in the notebook `diagonal_matrices_part2.ipynb`."
   ]
  },
  {
   "cell_type": "markdown",
   "metadata": {},
   "source": [
    "### Exercise"
   ]
  },
  {
   "cell_type": "markdown",
   "metadata": {},
   "source": [
    "1. In your `my_functions.py` file, create a function called `matvec_symm_opt_prod` for computing the product $\\mathbf{S} \\mathbf{x}$ according to the algorithm described above. Your function must receive the vector $\\mathbf{s}$ and the vector $\\mathbf{x}$.\n",
    "2. In your `test_my_functions.py` file, create two tests for the function `matvec_symm_opt_prod`. One test must receive a specific input and compare the result obtained by `matvec_symm_opt_prod` with an expected result. The other test must create the symmetric matrix $\\mathbf{S}$ by using the vector $\\mathbf{s}$. This test must compare the result produced by one of your previous functions developed in the notebook `matrix-vector.ipynb` and the result produced by the function `matvec_symm_opt_prod`."
   ]
  }
 ],
 "metadata": {
  "anaconda-cloud": {},
  "kernelspec": {
   "display_name": "Python 3",
   "language": "python",
   "name": "python3"
  },
  "language_info": {
   "codemirror_mode": {
    "name": "ipython",
    "version": 3
   },
   "file_extension": ".py",
   "mimetype": "text/x-python",
   "name": "python",
   "nbconvert_exporter": "python",
   "pygments_lexer": "ipython3",
   "version": "3.6.8"
  }
 },
 "nbformat": 4,
 "nbformat_minor": 1
}
