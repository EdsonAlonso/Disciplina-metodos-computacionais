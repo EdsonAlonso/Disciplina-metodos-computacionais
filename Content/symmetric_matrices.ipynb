{
 "cells": [
  {
   "cell_type": "markdown",
   "metadata": {},
   "source": [
    "# Symmetric matrices"
   ]
  },
  {
   "cell_type": "markdown",
   "metadata": {},
   "source": [
    "Consider the $N \\times N$ matrix $\\mathbf{S}$ given by:"
   ]
  },
  {
   "cell_type": "markdown",
   "metadata": {},
   "source": [
    "$$\\mathbf{S} \n",
    "= \\left[ \\begin{array}{ccccc}\n",
    "s_{11} & s_{12} & s_{13} & \\cdots & s_{1N} \\\\\n",
    "s_{12} & s_{22} & s_{23} & \\cdots & s_{2N} \\\\\n",
    "s_{13} & s_{23} & s_{33} & \\cdots & s_{3N}  \\\\\n",
    "\\vdots & \\vdots & \\vdots & \\ddots & \\vdots  \\\\\n",
    "s_{1N} & s_{2N} & s_{3N} & \\cdots & s_{NN}\n",
    "\\end{array} \\right] \\: .\n",
    "$$"
   ]
  },
  {
   "cell_type": "markdown",
   "metadata": {},
   "source": [
    "This matrix is called **symmetric matrix**. Notice that, in this matrix, $s_{ij} = s_{ji}$."
   ]
  },
  {
   "cell_type": "markdown",
   "metadata": {},
   "source": [
    "Let $\\mathbf{x}$ be a $N \\times 1$ vector given by:"
   ]
  },
  {
   "cell_type": "markdown",
   "metadata": {},
   "source": [
    "$$\\mathbf{x} = \n",
    "\\left[ \\begin{array}{c}\n",
    "x_{1} \\\\\n",
    "\\vdots \\\\\n",
    "x_{N}\n",
    "\\end{array} \\right] \\: .\n",
    "$$"
   ]
  },
  {
   "cell_type": "markdown",
   "metadata": {},
   "source": [
    "The simplest algorithm for computing the product $\\mathbf{y} = \\mathbf{S} \\mathbf{x}$ is given by:"
   ]
  },
  {
   "cell_type": "markdown",
   "metadata": {},
   "source": [
    "    for i = 1:N\n",
    "        for j = 1:N\n",
    "            y[i] = y[i] + S[i,j]*x[j]"
   ]
  },
  {
   "cell_type": "markdown",
   "metadata": {},
   "source": [
    "The symmetry of $\\mathbf{S}$, however, allows storing its elements by using one of the storage schemes presented in the notebook [`triangular_matrices_2.ipynb`](https://nbviewer.jupyter.org/github/birocoles/Disciplina-metodos-computacionais/blob/master/Content/triangular_matrices_2.ipynb). Let's first split the algorithm presented above into three parts:"
   ]
  },
  {
   "cell_type": "markdown",
   "metadata": {},
   "source": [
    "    # main diagonal\n",
    "    for i = 1:N\n",
    "        y[i] = S[i,i]*x[i]\n",
    "    \n",
    "    # upper triangle without main diagonal\n",
    "    for i = 1:N-1\n",
    "        for j = i+1:N\n",
    "            y[i] = y[i] + S[i,j]*x[j]\n",
    "\n",
    "    # lower triangle without main diagonal\n",
    "    for i = 2:N\n",
    "        for j = 1:i-1\n",
    "            y[i] = y[i] + S[i,j]*x[j]"
   ]
  }
 ],
 "metadata": {
  "kernelspec": {
   "display_name": "Python [default]",
   "language": "python",
   "name": "python2"
  },
  "language_info": {
   "codemirror_mode": {
    "name": "ipython",
    "version": 2
   },
   "file_extension": ".py",
   "mimetype": "text/x-python",
   "name": "python",
   "nbconvert_exporter": "python",
   "pygments_lexer": "ipython2",
   "version": "2.7.10"
  }
 },
 "nbformat": 4,
 "nbformat_minor": 0
}
