{
 "cells": [
  {
   "cell_type": "markdown",
   "metadata": {},
   "source": [
    "# Diagonal matrices"
   ]
  },
  {
   "cell_type": "markdown",
   "metadata": {},
   "source": [
    "Consider a $N \\times N$ matrix $\\mathbf{D}$ given by:"
   ]
  },
  {
   "cell_type": "markdown",
   "metadata": {},
   "source": [
    "$$\\mathbf{D} \n",
    "= \\left[ \\begin{array}{ccc}\n",
    "d_{11} &  &  \\\\\n",
    " & \\ddots &  \\\\\n",
    " &  & d_{NN}\n",
    "\\end{array} \\right] \\: .\n",
    "$$"
   ]
  },
  {
   "cell_type": "markdown",
   "metadata": {},
   "source": [
    "This matrix is called **diagonal**. Only the diagonal elements are different from zero. In this case, most of the matrix elements are zero and, consequently, do not need to be stored. Such matrices can be represented by a $N \\times 1$ vector defined as follows:"
   ]
  },
  {
   "cell_type": "markdown",
   "metadata": {},
   "source": [
    "$$\\mathbf{d} = diag \\left( \\mathbf{D} \\right) = \n",
    "\\left[ \\begin{array}{c}\n",
    "d_{11} \\\\\n",
    "\\vdots \\\\\n",
    "d_{NN}\n",
    "\\end{array} \\right] \\: .\n",
    "$$"
   ]
  },
  {
   "cell_type": "markdown",
   "metadata": {},
   "source": [
    "Let $\\mathbf{x}$ be a $N \\times 1$ vector given by:"
   ]
  },
  {
   "cell_type": "markdown",
   "metadata": {},
   "source": [
    "$$\\mathbf{x} = \n",
    "\\left[ \\begin{array}{c}\n",
    "x_{1} \\\\\n",
    "\\vdots \\\\\n",
    "x_{N}\n",
    "\\end{array} \\right] \\: .\n",
    "$$"
   ]
  },
  {
   "cell_type": "markdown",
   "metadata": {},
   "source": [
    "In this case, it can be easily shown that"
   ]
  },
  {
   "cell_type": "markdown",
   "metadata": {},
   "source": [
    "$$\n",
    "\\mathbf{D} \\mathbf{x} = \\mathbf{d} \\circ \\mathbf{x} \\: ,\n",
    "$$\n",
    "\n",
    "which represents the Hadamard (or entrywise) product of $\\mathbf{d}$ and $\\mathbf{x}$."
   ]
  },
  {
   "cell_type": "markdown",
   "metadata": {},
   "source": [
    "Now, consider a full $N \\times N$ matrix $\\mathbf{B}$. It can be show that the resultant matrix $\\mathbf{C} = \\mathbf{D} \\mathbf{B}$ can be calculated as follows:"
   ]
  },
  {
   "cell_type": "markdown",
   "metadata": {},
   "source": [
    "    for i = 1:N\n",
    "        C[i, :] = d[i]*B[i,:]"
   ]
  },
  {
   "cell_type": "markdown",
   "metadata": {},
   "source": [
    "Similarly, it can be shown that the product $\\mathbf{E} = \\mathbf{B} \\mathbf{D}$ can be calculated as follows:"
   ]
  },
  {
   "cell_type": "markdown",
   "metadata": {},
   "source": [
    "    for j = 1:N\n",
    "        E[:,j] = d[j]*B[:,j]"
   ]
  },
  {
   "cell_type": "markdown",
   "metadata": {},
   "source": [
    "### Exercise (extra)"
   ]
  },
  {
   "cell_type": "markdown",
   "metadata": {},
   "source": [
    "1. In your `my_functions.py` file, create a function for computing the product `DB` according to the first algorithm shown above. The function must receive the diagonal `d` and the full matrix `B`.\n",
    "2. In your `test_my_functions.py` file, create two tests for the function created in item 1. One test must receive an specific input and compare the result obtained by your function with an expected result. The other test must create the diagonal matrix `D` and the vector `d` containing its diagonal elements (see the example below). This test must compare the result produced by one of your previous functions for computing the product `DB` and the result produced by the function created in the item 1.\n",
    "3. In your `my_functions.py` file, create a function for computing the product `BD` according to the second algorithm shown above. The function must receive the full matrix `B` and the diagonal `d`.\n",
    "4. In your `test_my_functions.py` file, create two tests for the function created in item 3. One test must receive an specific input and compare the result obtained by your function with an expected result. The other test must create the diagonal matrix `D` and the vector `d` containing its diagonal elements (see the example below). This test must compare the result produced by one of your previous functions for computing the product `BD` and the result produced by the function created in the item 3.\n",
    "5. Determine the total number of flops associated with each algorithm presented above. These number of flops are the same as those required for computing the conventional product between full matrices?"
   ]
  },
  {
   "cell_type": "markdown",
   "metadata": {},
   "source": [
    "#### Creating the diagonal matrix $\\mathbf{D}$ and the vector $\\mathbf{d}$ containing its diagonal elements"
   ]
  },
  {
   "cell_type": "code",
   "execution_count": 1,
   "metadata": {
    "collapsed": true
   },
   "outputs": [],
   "source": [
    "import numpy as np"
   ]
  },
  {
   "cell_type": "markdown",
   "metadata": {},
   "source": [
    "Create a vector `d` by using, for example, the function [`numpy.random.rand`](https://docs.scipy.org/doc/numpy/reference/generated/numpy.random.rand.html)"
   ]
  },
  {
   "cell_type": "code",
   "execution_count": 4,
   "metadata": {
    "collapsed": true
   },
   "outputs": [],
   "source": [
    "d = np.random.rand(5)"
   ]
  },
  {
   "cell_type": "code",
   "execution_count": 5,
   "metadata": {
    "collapsed": false
   },
   "outputs": [
    {
     "name": "stdout",
     "output_type": "stream",
     "text": [
      "[ 0.55499654  0.35267852  0.81974081  0.42099811  0.92899849]\n"
     ]
    }
   ],
   "source": [
    "print d"
   ]
  },
  {
   "cell_type": "markdown",
   "metadata": {
    "collapsed": true
   },
   "source": [
    "Now, create the diagonal matrix `D` by using the routine [`numpy.diag`](https://docs.scipy.org/doc/numpy/reference/generated/numpy.diag.html)"
   ]
  },
  {
   "cell_type": "code",
   "execution_count": 6,
   "metadata": {
    "collapsed": true
   },
   "outputs": [],
   "source": [
    "D = np.diag(d)"
   ]
  },
  {
   "cell_type": "code",
   "execution_count": 7,
   "metadata": {
    "collapsed": false
   },
   "outputs": [
    {
     "name": "stdout",
     "output_type": "stream",
     "text": [
      "[[ 0.55499654  0.          0.          0.          0.        ]\n",
      " [ 0.          0.35267852  0.          0.          0.        ]\n",
      " [ 0.          0.          0.81974081  0.          0.        ]\n",
      " [ 0.          0.          0.          0.42099811  0.        ]\n",
      " [ 0.          0.          0.          0.          0.92899849]]\n"
     ]
    }
   ],
   "source": [
    "print D"
   ]
  },
  {
   "cell_type": "code",
   "execution_count": null,
   "metadata": {
    "collapsed": true
   },
   "outputs": [],
   "source": []
  }
 ],
 "metadata": {
  "anaconda-cloud": {},
  "kernelspec": {
   "display_name": "Python [default]",
   "language": "python",
   "name": "python2"
  },
  "language_info": {
   "codemirror_mode": {
    "name": "ipython",
    "version": 2
   },
   "file_extension": ".py",
   "mimetype": "text/x-python",
   "name": "python",
   "nbconvert_exporter": "python",
   "pygments_lexer": "ipython2",
   "version": "2.7.10"
  }
 },
 "nbformat": 4,
 "nbformat_minor": 0
}
