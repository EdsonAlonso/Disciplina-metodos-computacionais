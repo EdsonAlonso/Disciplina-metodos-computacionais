{
 "cells": [
  {
   "cell_type": "markdown",
   "metadata": {},
   "source": [
    "# Diagonal matrices"
   ]
  },
  {
   "cell_type": "markdown",
   "metadata": {},
   "source": [
    "Consider a $N \\times N$ matrix $\\mathbf{A}$ given by:"
   ]
  },
  {
   "cell_type": "markdown",
   "metadata": {},
   "source": [
    "$$\\mathbf{A} \n",
    "= \\left[ \\begin{array}{ccc}\n",
    "a_{11} &  &  \\\\\n",
    " & \\ddots &  \\\\\n",
    " &  & a_{NN}\n",
    "\\end{array} \\right] \\: .\n",
    "$$"
   ]
  },
  {
   "cell_type": "markdown",
   "metadata": {},
   "source": [
    "This matrix is called **diagonal**. Only the diagonal elements are different from zero. In this case, most of the matrix elements are zero and, consequently, do not need to be stored. Such matrices can be represented by a $N \\times 1$ vector defined as follows:"
   ]
  },
  {
   "cell_type": "markdown",
   "metadata": {},
   "source": [
    "$$diag \\left( \\mathbf{A} \\right) = \n",
    "\\left[ \\begin{array}{c}\n",
    "a_{11} \\\\\n",
    "\\vdots \\\\\n",
    "a_{NN}\n",
    "\\end{array} \\right] \\: .\n",
    "$$"
   ]
  },
  {
   "cell_type": "markdown",
   "metadata": {},
   "source": [
    "Let $\\mathbf{x}$ be a $N \\times 1$ vector given by:"
   ]
  },
  {
   "cell_type": "markdown",
   "metadata": {},
   "source": [
    "$$\\mathbf{x} = \n",
    "\\left[ \\begin{array}{c}\n",
    "x_{1} \\\\\n",
    "\\vdots \\\\\n",
    "x_{N}\n",
    "\\end{array} \\right] \\: .\n",
    "$$"
   ]
  },
  {
   "cell_type": "markdown",
   "metadata": {},
   "source": [
    "In this case, it can be easily shown that"
   ]
  },
  {
   "cell_type": "markdown",
   "metadata": {},
   "source": [
    "$$\n",
    "\\mathbf{A} \\mathbf{x} = diag \\left( \\mathbf{A} \\right) \\circ \\mathbf{x} \\: .\n",
    "$$"
   ]
  },
  {
   "cell_type": "markdown",
   "metadata": {},
   "source": [
    "Now, consider a full $L \\times N$ matrix $\\mathbf{B}$ and a full $N \\times M$ matrix $\\mathbf{C}$. It can be show that the product $\\mathbf{D} = \\mathbf{B} \\mathbf{A}$ can be calculated as follows:"
   ]
  },
  {
   "cell_type": "markdown",
   "metadata": {},
   "source": [
    "    for j = 1:N\n",
    "        D[:,j] = B[:,j]*A[j,j]"
   ]
  },
  {
   "cell_type": "markdown",
   "metadata": {},
   "source": [
    "Similarly, it can be shown that the product $\\mathbf{E} = \\mathbf{A} \\mathbf{C}$ can be calculated as follows:"
   ]
  },
  {
   "cell_type": "markdown",
   "metadata": {},
   "source": [
    "    for i = 1:N\n",
    "        E[i,:] = C[i,:]*A[i,i]"
   ]
  },
  {
   "cell_type": "markdown",
   "metadata": {},
   "source": [
    "### Exercise 9"
   ]
  },
  {
   "cell_type": "markdown",
   "metadata": {},
   "source": [
    "Validate these two algorithms according to the steps below:\n",
    "\n",
    "1. Create a function that calculates the product `BA`. The function must receive the full matrix `B` and the diagonal of `A`.\n",
    "2. Create a function that calculates the product `AC`. The function must receive the diagonal of `A` and the full matrix `C`.\n",
    "3. Use the `code-template.ipynb` for testing the two functions against the Python code shown below:"
   ]
  },
  {
   "cell_type": "code",
   "execution_count": 2,
   "metadata": {
    "collapsed": true
   },
   "outputs": [],
   "source": [
    "import numpy as np"
   ]
  },
  {
   "cell_type": "markdown",
   "metadata": {},
   "source": [
    "Create a matrix by using, for example, the function [`numpy.diag`](http://docs.scipy.org/doc/numpy/reference/generated/numpy.diag.html)"
   ]
  },
  {
   "cell_type": "code",
   "execution_count": 7,
   "metadata": {
    "collapsed": true
   },
   "outputs": [],
   "source": [
    "A = np.diag(np.linspace(20., 100., 5))"
   ]
  },
  {
   "cell_type": "code",
   "execution_count": 8,
   "metadata": {
    "collapsed": false
   },
   "outputs": [
    {
     "data": {
      "text/plain": [
       "array([[  20.,    0.,    0.,    0.,    0.],\n",
       "       [   0.,   40.,    0.,    0.,    0.],\n",
       "       [   0.,    0.,   60.,    0.,    0.],\n",
       "       [   0.,    0.,    0.,   80.,    0.],\n",
       "       [   0.,    0.,    0.,    0.,  100.]])"
      ]
     },
     "execution_count": 8,
     "metadata": {},
     "output_type": "execute_result"
    }
   ],
   "source": [
    "A"
   ]
  },
  {
   "cell_type": "markdown",
   "metadata": {},
   "source": [
    "Create two matrices by using, for example, the function [`numpy.random.rand`](http://docs.scipy.org/doc/numpy/reference/generated/numpy.random.rand.html#numpy.random.rand)"
   ]
  },
  {
   "cell_type": "code",
   "execution_count": 9,
   "metadata": {
    "collapsed": true
   },
   "outputs": [],
   "source": [
    "B = np.random.rand(4,A.shape[0])"
   ]
  },
  {
   "cell_type": "code",
   "execution_count": 15,
   "metadata": {
    "collapsed": false
   },
   "outputs": [
    {
     "name": "stdout",
     "output_type": "stream",
     "text": [
      "[[ 0.09482231  0.92140011  0.6288456   0.57622648  0.54855956]\n",
      " [ 0.76323911  0.09369195  0.47751263  0.39128319  0.89209618]\n",
      " [ 0.46296025  0.8084192   0.97832675  0.71180099  0.8685995 ]\n",
      " [ 0.45131512  0.19583903  0.70030389  0.85515572  0.12601004]]\n"
     ]
    }
   ],
   "source": [
    "print B"
   ]
  },
  {
   "cell_type": "code",
   "execution_count": 11,
   "metadata": {
    "collapsed": true
   },
   "outputs": [],
   "source": [
    "C = np.random.rand(A.shape[1], 3)"
   ]
  },
  {
   "cell_type": "code",
   "execution_count": 16,
   "metadata": {
    "collapsed": false
   },
   "outputs": [
    {
     "name": "stdout",
     "output_type": "stream",
     "text": [
      "[[ 0.72286696  0.01768515  0.32915472]\n",
      " [ 0.55605813  0.76311434  0.13326642]\n",
      " [ 0.85481818  0.59127274  0.57808891]\n",
      " [ 0.88191343  0.106508    0.8190515 ]\n",
      " [ 0.32797104  0.39916993  0.26937097]]\n"
     ]
    }
   ],
   "source": [
    "print C"
   ]
  },
  {
   "cell_type": "markdown",
   "metadata": {},
   "source": [
    "Calculate the products `BA` and `AC` by using the [`numpy.dot`](http://docs.scipy.org/doc/numpy/reference/generated/numpy.dot.html)"
   ]
  },
  {
   "cell_type": "code",
   "execution_count": 13,
   "metadata": {
    "collapsed": true
   },
   "outputs": [],
   "source": [
    "D = np.dot(B, A)"
   ]
  },
  {
   "cell_type": "code",
   "execution_count": 17,
   "metadata": {
    "collapsed": false
   },
   "outputs": [
    {
     "name": "stdout",
     "output_type": "stream",
     "text": [
      "[[  1.89644629  36.85600448  37.73073586  46.09811868  54.85595641]\n",
      " [ 15.26478223   3.74767792  28.65075794  31.30265541  89.20961816]\n",
      " [  9.25920492  32.33676807  58.69960504  56.9440796   86.85994974]\n",
      " [  9.0263024    7.83356132  42.01823315  68.41245753  12.6010038 ]]\n"
     ]
    }
   ],
   "source": [
    "print D"
   ]
  },
  {
   "cell_type": "code",
   "execution_count": 18,
   "metadata": {
    "collapsed": true
   },
   "outputs": [],
   "source": [
    "E = np.dot(A, C)"
   ]
  },
  {
   "cell_type": "code",
   "execution_count": 19,
   "metadata": {
    "collapsed": false
   },
   "outputs": [
    {
     "name": "stdout",
     "output_type": "stream",
     "text": [
      "[[ 14.45733911   0.35370295   6.58309433]\n",
      " [ 22.24232506  30.52457346   5.33065668]\n",
      " [ 51.28909107  35.47636436  34.68533476]\n",
      " [ 70.55307437   8.52063962  65.52412004]\n",
      " [ 32.79710417  39.91699274  26.93709724]]\n"
     ]
    }
   ],
   "source": [
    "print E"
   ]
  },
  {
   "cell_type": "code",
   "execution_count": null,
   "metadata": {
    "collapsed": true
   },
   "outputs": [],
   "source": []
  }
 ],
 "metadata": {
  "kernelspec": {
   "display_name": "Python 2",
   "language": "python",
   "name": "python2"
  },
  "language_info": {
   "codemirror_mode": {
    "name": "ipython",
    "version": 2
   },
   "file_extension": ".py",
   "mimetype": "text/x-python",
   "name": "python",
   "nbconvert_exporter": "python",
   "pygments_lexer": "ipython2",
   "version": "2.7.11"
  }
 },
 "nbformat": 4,
 "nbformat_minor": 0
}
