{
 "cells": [
  {
   "cell_type": "code",
   "execution_count": 1,
   "metadata": {},
   "outputs": [],
   "source": [
    "import numpy as np\n",
    "from scipy.signal import convolve2d"
   ]
  },
  {
   "cell_type": "code",
   "execution_count": 2,
   "metadata": {},
   "outputs": [],
   "source": [
    "Ma = 4\n",
    "Na = 4\n",
    "Mb = 3\n",
    "Nb = 3"
   ]
  },
  {
   "cell_type": "code",
   "execution_count": 3,
   "metadata": {},
   "outputs": [],
   "source": [
    "i, j = np.indices((Ma,Na))"
   ]
  },
  {
   "cell_type": "code",
   "execution_count": 4,
   "metadata": {},
   "outputs": [],
   "source": [
    "A = np.char.add(i.astype(str), j.astype(str))"
   ]
  },
  {
   "cell_type": "code",
   "execution_count": 5,
   "metadata": {},
   "outputs": [],
   "source": [
    "i, j = np.indices((Mb,Nb))"
   ]
  },
  {
   "cell_type": "code",
   "execution_count": 6,
   "metadata": {},
   "outputs": [],
   "source": [
    "B = np.char.add(i.astype(str), j.astype(str))"
   ]
  },
  {
   "cell_type": "code",
   "execution_count": 7,
   "metadata": {},
   "outputs": [
    {
     "name": "stdout",
     "output_type": "stream",
     "text": [
      "[['00' '01' '02' '03']\n",
      " ['10' '11' '12' '13']\n",
      " ['20' '21' '22' '23']\n",
      " ['30' '31' '32' '33']]\n"
     ]
    }
   ],
   "source": [
    "print(A)"
   ]
  },
  {
   "cell_type": "code",
   "execution_count": 8,
   "metadata": {},
   "outputs": [
    {
     "name": "stdout",
     "output_type": "stream",
     "text": [
      "[['00' '01' '02']\n",
      " ['10' '11' '12']\n",
      " ['20' '21' '22']]\n"
     ]
    }
   ],
   "source": [
    "print(B)"
   ]
  },
  {
   "cell_type": "code",
   "execution_count": 9,
   "metadata": {},
   "outputs": [],
   "source": [
    "Mw = Ma + Mb - 1\n",
    "Nw = Na + Nb - 1\n",
    "\n",
    "C = np.empty((Mw, Nw), dtype='<U8')\n",
    "\n",
    "for j in range(Mw):\n",
    "    for k in range(Nw):\n",
    "        for m in range(j+1):\n",
    "            for n in range(k+1):\n",
    "                if (m > Ma) or (n > Na):\n",
    "                    a = 'x'\n",
    "                else:\n",
    "                    a = '{!s}{!s}'.format(m,n)\n",
    "                if ((j-m) < 0) or ((j-m) > Mb):\n",
    "                    b = 'x'\n",
    "                elif ((k-n) < 0) or ((k-n) > Nb):\n",
    "                    b = 'x'\n",
    "                else:\n",
    "                    b = '{!s}{!s}'.format(j-m,k-n)\n",
    "                C[j,k] = '{:>5s}'.format(b+'*'+a)"
   ]
  },
  {
   "cell_type": "code",
   "execution_count": 10,
   "metadata": {},
   "outputs": [
    {
     "name": "stdout",
     "output_type": "stream",
     "text": [
      "[['00*00' '00*01' '00*02' '00*03' '00*04' ' 00*x']\n",
      " ['00*10' '00*11' '00*12' '00*13' '00*14' ' 00*x']\n",
      " ['00*20' '00*21' '00*22' '00*23' '00*24' ' 00*x']\n",
      " ['00*30' '00*31' '00*32' '00*33' '00*34' ' 00*x']\n",
      " ['00*40' '00*41' '00*42' '00*43' '00*44' ' 00*x']\n",
      " [' 00*x' ' 00*x' ' 00*x' ' 00*x' ' 00*x' ' 00*x']]\n"
     ]
    }
   ],
   "source": [
    "print(C)"
   ]
  },
  {
   "cell_type": "code",
   "execution_count": null,
   "metadata": {},
   "outputs": [],
   "source": []
  }
 ],
 "metadata": {
  "kernelspec": {
   "display_name": "Python 3",
   "language": "python",
   "name": "python3"
  },
  "language_info": {
   "codemirror_mode": {
    "name": "ipython",
    "version": 3
   },
   "file_extension": ".py",
   "mimetype": "text/x-python",
   "name": "python",
   "nbconvert_exporter": "python",
   "pygments_lexer": "ipython3",
   "version": "3.7.4"
  }
 },
 "nbformat": 4,
 "nbformat_minor": 4
}
