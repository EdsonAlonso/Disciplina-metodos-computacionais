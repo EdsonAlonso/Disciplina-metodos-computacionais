{
 "cells": [
  {
   "cell_type": "markdown",
   "metadata": {},
   "source": [
    "# Cubic splines"
   ]
  },
  {
   "cell_type": "markdown",
   "metadata": {},
   "source": [
    "The file `cubic_splines.pdf` presents some notes about the cubic splines method."
   ]
  },
  {
   "cell_type": "code",
   "execution_count": 1,
   "metadata": {
    "collapsed": true
   },
   "outputs": [],
   "source": [
    "%matplotlib inline\n",
    "import numpy as np\n",
    "import matplotlib.pyplot as plt\n",
    "from scipy.interpolate import lagrange\n",
    "\n",
    "#used for inserting images\n",
    "from IPython.display import Image as img"
   ]
  },
  {
   "cell_type": "code",
   "execution_count": 2,
   "metadata": {
    "collapsed": true
   },
   "outputs": [],
   "source": [
    "def spline3(x, f):\n",
    "    \n",
    "    L = f.size\n",
    "    \n",
    "    g = 3.*np.hstack(((f[1] - f[0]), (f[2:] - f[:L-2]), (f[-1] - f[-2])))\n",
    "\n",
    "    indices = np.arange(L)\n",
    "    A = np.zeros((L,L))\n",
    "    A[indices[1:L-1],indices[1:L-1]] = 4\n",
    "    A[0,0] = 2\n",
    "    A[L-1,L-1] = 2\n",
    "    A[indices[:L-1],indices[1:]] = 1\n",
    "    A[indices[1:],indices[:L-1]] = 1\n",
    "    \n",
    "    D = np.linalg.solve(np.dot(A.T, A), np.dot(A.T, g))\n",
    "    \n",
    "    c = 3.*(f[1:] - f[:L-1]) - 2.*D[:L-1] - D[1:]\n",
    "    d = 2.*(f[:L-1] - f[1:]) + D[:L-1] + D[1:]\n",
    "    \n",
    "    return D, c, d"
   ]
  },
  {
   "cell_type": "code",
   "execution_count": 3,
   "metadata": {
    "collapsed": true
   },
   "outputs": [],
   "source": [
    "def define_t(x, x0):\n",
    "    L = x.size\n",
    "    xmax = np.max(x)\n",
    "    xmin = np.min(x)\n",
    "    \n",
    "    x_norm = (x - xmin)*(L-1)/(xmax - xmin)\n",
    "    x0_norm = (x0 - xmin)*(L-1)/(xmax - xmin)\n",
    "    \n",
    "    t = []\n",
    "    t_size = []\n",
    "    i0 = 0\n",
    "    for i, (xi, xi_plus) in enumerate(zip(x_norm[:L-1],x_norm[1:])): \n",
    "        mask = x0_norm[i0:] < xi_plus\n",
    "        t.append(x0_norm[i0:][mask]-i)\n",
    "        t_size.append(x0_norm[i0:][mask].size)\n",
    "        i0 += t_size[i]\n",
    "\n",
    "    t_size = np.array(t_size, dtype=int)\n",
    "    t_mask = (t_size == 0)\n",
    "    t_remove = np.arange(L-1, dtype=int)[t_mask]\n",
    "    \n",
    "    t_intervals = np.delete(np.arange(L-1, dtype=int),t_remove)\n",
    "    \n",
    "    return t, t_size, t_intervals"
   ]
  },
  {
   "cell_type": "code",
   "execution_count": 4,
   "metadata": {
    "collapsed": true
   },
   "outputs": [],
   "source": [
    "def spline3_interpolate3(a,b,c,d,x,x0):\n",
    "    \n",
    "    y0 = []\n",
    "    \n",
    "    t, t_size, t_intervals = define_t(x, x0)\n",
    "    \n",
    "    for (i, ti_size, ai, bi, ci, di) in zip(t_intervals, t_size[t_intervals], \\\n",
    "                                            a[t_intervals], b[t_intervals], \\\n",
    "                                            c[t_intervals],d[t_intervals]):\n",
    "\n",
    "        y0i = np.zeros(ti_size) + ai\n",
    "    \n",
    "        e = t[i].copy()\n",
    "        y0i += bi*e\n",
    "            \n",
    "        e = e*t[i]\n",
    "        y0i += ci*e\n",
    "        \n",
    "        e = e*t[i]\n",
    "        y0i += di*e\n",
    "        \n",
    "        y0.append(y0i)\n",
    "        \n",
    "    y0 = np.hstack(y0)\n",
    "\n",
    "    return y0"
   ]
  },
  {
   "cell_type": "code",
   "execution_count": 5,
   "metadata": {
    "collapsed": false
   },
   "outputs": [],
   "source": [
    "def spline3_interpolate(a,b,c,d,t,x):\n",
    "    \n",
    "    y0 = np.empty((a.size,t.size))\n",
    "    \n",
    "    e = t.copy()\n",
    "    \n",
    "    for i, ai in enumerate(a):\n",
    "        y0[i] = ai\n",
    "    for i, bi in enumerate(b):\n",
    "        y0[i] += bi*e\n",
    "    e = e*t\n",
    "    for i, ci in enumerate(c):\n",
    "        y0[i] += ci*e\n",
    "    e = e*t\n",
    "    for i, di in enumerate(d):\n",
    "        y0[i] += di*e\n",
    "   \n",
    "    y0 = np.ravel(y0)\n",
    "    \n",
    "    x0 = np.empty((a.size,t.size))\n",
    "    for i in range(a.size):\n",
    "        dx = x[i+1] - x[i]\n",
    "        x0[i] = x[i] + dx*t\n",
    "    x0 = np.ravel(x0)\n",
    "    \n",
    "    return x0, y0"
   ]
  },
  {
   "cell_type": "code",
   "execution_count": 6,
   "metadata": {
    "collapsed": true
   },
   "outputs": [],
   "source": [
    "L = 15\n",
    "\n",
    "x = np.sort(np.random.rand(L)*L) # x coordinates of the data\n",
    "y = np.sin(2.*np.pi*x/10.)       # data values"
   ]
  },
  {
   "cell_type": "code",
   "execution_count": 7,
   "metadata": {
    "collapsed": false
   },
   "outputs": [],
   "source": [
    "xmax = np.max(x)\n",
    "xmin = np.min(x)\n",
    "\n",
    "x0min = np.ceil(xmin)\n",
    "x0max = np.floor(xmax)\n",
    "nx0 = 10\n",
    "\n",
    "x0 = np.linspace(x0min,x0max,nx0) # interpolating points\n",
    "y0 = np.sin(2.*np.pi*x0/10.)      # true values of the original function at the interpolation points"
   ]
  },
  {
   "cell_type": "code",
   "execution_count": 8,
   "metadata": {
    "collapsed": false
   },
   "outputs": [
    {
     "data": {
      "image/png": "[encoded data removed]",
      "text/plain": [
       "<matplotlib.figure.Figure at 0x136c1978>"
      ]
     },
     "metadata": {},
     "output_type": "display_data"
    }
   ],
   "source": [
    "plt.close('all')\n",
    "plt.figure(figsize=(10,10))\n",
    "plt.axis('scaled')\n",
    "plt.plot(x, y, 'bo', label='Data')\n",
    "plt.plot(x0, y0, 'r.', label='True interpolated data')\n",
    "plt.xlim(np.min([np.min(x0),np.min(x)]), np.max([np.max(x0),np.max(x)]))\n",
    "plt.ylim(-2., 2.)\n",
    "plt.xlabel('x', fontsize=16)\n",
    "plt.ylabel('y', fontsize=16)\n",
    "plt.xticks(fontsize=14)\n",
    "plt.yticks(fontsize=14)\n",
    "plt.legend(loc='best', numpoints=1, fontsize=12)\n",
    "plt.show()"
   ]
  },
  {
   "cell_type": "code",
   "execution_count": 9,
   "metadata": {
    "collapsed": false
   },
   "outputs": [],
   "source": [
    "t, t_size, t_intervals = define_t(x,x0)"
   ]
  },
  {
   "cell_type": "code",
   "execution_count": 10,
   "metadata": {
    "collapsed": false
   },
   "outputs": [
    {
     "data": {
      "text/plain": [
       "array([ 1,  4,  6,  7,  8, 10, 13])"
      ]
     },
     "execution_count": 10,
     "metadata": {},
     "output_type": "execute_result"
    }
   ],
   "source": [
    "t_intervals"
   ]
  },
  {
   "cell_type": "code",
   "execution_count": 11,
   "metadata": {
    "collapsed": false
   },
   "outputs": [],
   "source": [
    "b,c,d = spline3(x,y)"
   ]
  },
  {
   "cell_type": "code",
   "execution_count": 12,
   "metadata": {
    "collapsed": false
   },
   "outputs": [],
   "source": [
    "y0_calc = spline3_interpolate3(y[:L-1],b[:L-1],c,d,x,x0)"
   ]
  },
  {
   "cell_type": "code",
   "execution_count": 19,
   "metadata": {
    "collapsed": false
   },
   "outputs": [
    {
     "data": {
      "image/png": "[encoded data removed]",
      "text/plain": [
       "<matplotlib.figure.Figure at 0x1441fdd8>"
      ]
     },
     "metadata": {},
     "output_type": "display_data"
    }
   ],
   "source": [
    "plt.figure(figsize=(10,10))\n",
    "plt.axis('scaled')\n",
    "plt.plot(x, y, 'bo', label='Data')\n",
    "plt.plot(x0, y0, 'r.', label='True interpolated data')\n",
    "plt.plot(x0, y0_calc, 'xr', label='Interpolated data')\n",
    "plt.xlim(np.min([np.min(x0),np.min(x)]), np.max([np.max(x0),np.max(x)]))\n",
    "plt.ylim(-2., 2.)\n",
    "plt.xlabel('x', fontsize=16)\n",
    "plt.ylabel('y', fontsize=16)\n",
    "plt.xticks(fontsize=14)\n",
    "plt.yticks(fontsize=14)\n",
    "plt.legend(loc='best', numpoints=1, fontsize=12)\n",
    "plt.show()"
   ]
  },
  {
   "cell_type": "markdown",
   "metadata": {},
   "source": [
    "### Exercise 25"
   ]
  },
  {
   "cell_type": "markdown",
   "metadata": {},
   "source": [
    "The folder `synthetic_gravity_data` contains a jupyter notebook named [`synthetic_data_fatiando.ipynb`](https://nbviewer.jupyter.org/github/birocoles/Disciplina-metodos-computacionais/blob/master/Content/synthetic_gravity_data/synthetic_data_fatiando.ipynb). This code uses the open-source Python toolkit for geophysical modeling and inversion [Fatiando a Terra](http://www.fatiando.org/) for calculating the gravity anomaly produced by the following synthetic body:"
   ]
  },
  {
   "cell_type": "code",
   "execution_count": null,
   "metadata": {
    "collapsed": false
   },
   "outputs": [],
   "source": [
    "img('synthetic_gravity_data/model.png')"
   ]
  },
  {
   "cell_type": "markdown",
   "metadata": {},
   "source": [
    "The synthetic body shown above produces the gravity anomaly shown below:"
   ]
  },
  {
   "cell_type": "code",
   "execution_count": null,
   "metadata": {
    "collapsed": false
   },
   "outputs": [],
   "source": [
    "img('synthetic_gravity_data/map.png')"
   ]
  },
  {
   "cell_type": "code",
   "execution_count": null,
   "metadata": {
    "collapsed": false
   },
   "outputs": [],
   "source": [
    "img('synthetic_gravity_data/profile.png')"
   ]
  },
  {
   "cell_type": "markdown",
   "metadata": {},
   "source": [
    "The files `synthetic_gravity_data/gravity_anomaly.txt` and `synthetic_gravity_data/gravity_anomaly_profile.txt` contain, respectively, the synthetic gravity anomaly map and the gravity anomaly profile on x = 0 m."
   ]
  },
  {
   "cell_type": "markdown",
   "metadata": {},
   "source": [
    "To solve this exercise:"
   ]
  },
  {
   "cell_type": "markdown",
   "metadata": {},
   "source": [
    "1. Load the file `synthetic_gravity_data/gravity_anomaly_profile.txt` by using the routine [`numpy.loadtxt`](http://docs.scipy.org/doc/numpy/reference/generated/numpy.loadtxt.html). \n",
    "\n",
    "2. Use the function `my_neville` to calculate one interpolated gravity data between two adjacent gravity data (black dots on the gravity profile) on the profile.\n",
    "\n",
    "3. Plot a Figure similar to the gravity profile shown above containing: (i) the original data (black dots on the gravity profile) and (ii) the interpolated points."
   ]
  },
  {
   "cell_type": "code",
   "execution_count": null,
   "metadata": {
    "collapsed": true
   },
   "outputs": [],
   "source": []
  }
 ],
 "metadata": {
  "kernelspec": {
   "display_name": "Python 2",
   "language": "python",
   "name": "python2"
  },
  "language_info": {
   "codemirror_mode": {
    "name": "ipython",
    "version": 2
   },
   "file_extension": ".py",
   "mimetype": "text/x-python",
   "name": "python",
   "nbconvert_exporter": "python",
   "pygments_lexer": "ipython2",
   "version": "2.7.11"
  }
 },
 "nbformat": 4,
 "nbformat_minor": 0
}
