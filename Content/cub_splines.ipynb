{
 "cells": [
  {
   "cell_type": "markdown",
   "metadata": {},
   "source": [
    "# Cubic splines"
   ]
  },
  {
   "cell_type": "markdown",
   "metadata": {},
   "source": [
    "The file `cubic_splines.pdf` presents some notes about the cubic splines method."
   ]
  },
  {
   "cell_type": "code",
   "execution_count": 1,
   "metadata": {
    "collapsed": true
   },
   "outputs": [],
   "source": [
    "%matplotlib inline\n",
    "import numpy as np\n",
    "import matplotlib.pyplot as plt\n",
    "from scipy.interpolate import lagrange\n",
    "\n",
    "#used for inserting images\n",
    "from IPython.display import Image as img"
   ]
  },
  {
   "cell_type": "code",
   "execution_count": null,
   "metadata": {
    "collapsed": true
   },
   "outputs": [],
   "source": [
    "L = 5\n",
    "x = np.linspace(0., 10., L) # x coordinates of the data\n",
    "y = np.sin(2.*np.pi*x/10.)  # data values"
   ]
  },
  {
   "cell_type": "code",
   "execution_count": null,
   "metadata": {
    "collapsed": false
   },
   "outputs": [],
   "source": [
    "x0 = np.linspace(0., 10., 5+3*4) # x coordinates of the interpolating points\n",
    "y0 = np.sin(2.*np.pi*x0/10.)   # true values of the original function at the interpolation points"
   ]
  },
  {
   "cell_type": "code",
   "execution_count": null,
   "metadata": {
    "collapsed": false
   },
   "outputs": [],
   "source": [
    "plt.figure(figsize=(10,10))\n",
    "plt.axis('scaled')\n",
    "plt.plot(x, y, 'bo', label='Data')\n",
    "plt.plot(x0, y0, 'b.', label='True interpolated data')\n",
    "plt.xlim(np.min(x0), np.max(x0))\n",
    "plt.ylim(-2., 2.)\n",
    "plt.xlabel('x', fontsize=16)\n",
    "plt.ylabel('y', fontsize=16)\n",
    "plt.xticks(fontsize=14)\n",
    "plt.yticks(fontsize=14)\n",
    "plt.legend(loc='best', numpoints=1, fontsize=16)\n",
    "plt.show()"
   ]
  },
  {
   "cell_type": "code",
   "execution_count": null,
   "metadata": {
    "collapsed": true
   },
   "outputs": [],
   "source": [
    "def spline3(x, f):\n",
    "    \n",
    "    L = f.size\n",
    "    \n",
    "    g = 3.*np.hstack(((f[1] - f[0]), (f[2:] - f[:L-2]), (f[-1] - f[-2])))\n",
    "\n",
    "    indices = np.arange(L)\n",
    "    A = np.zeros((L,L))\n",
    "    A[indices[1:L-1],indices[1:L-1]] = 4\n",
    "    A[0,0] = 2\n",
    "    A[L-1,L-1] = 2\n",
    "    A[indices[:L-1],indices[1:]] = 1\n",
    "    A[indices[1:],indices[:L-1]] = 1\n",
    "    \n",
    "    D = np.linalg.solve(np.dot(A.T, A), np.dot(A.T, g))\n",
    "    \n",
    "    c = 3.*(f[1:] - f[:L-1]) - 2.*D[:L-1] - D[1:]\n",
    "    d = 2.*(f[:L-1] - f[1:]) + D[:L-1] + D[1:]\n",
    "    \n",
    "    return D, c, d"
   ]
  },
  {
   "cell_type": "code",
   "execution_count": null,
   "metadata": {
    "collapsed": false
   },
   "outputs": [],
   "source": [
    "def spline3_interpolate(a,b,c,d,t,x):\n",
    "    \n",
    "    y0 = np.empty((a.size,t.size))\n",
    "    \n",
    "    e = t.copy()\n",
    "    \n",
    "    for i, ai in enumerate(a):\n",
    "        y0[i] = ai\n",
    "    for i, bi in enumerate(b):\n",
    "        y0[i] += bi*e\n",
    "    e = e*t\n",
    "    for i, ci in enumerate(c):\n",
    "        y0[i] += ci*e\n",
    "    e = e*t\n",
    "    for i, di in enumerate(d):\n",
    "        y0[i] += di*e\n",
    "   \n",
    "    y0 = np.ravel(y0)\n",
    "    \n",
    "    x0 = np.empty((a.size,t.size))\n",
    "    for i in range(a.size):\n",
    "        dx = x[i+1] - x[i]\n",
    "        x0[i] = x[i] + dx*t\n",
    "    x0 = np.ravel(x0)\n",
    "    \n",
    "    return x0, y0"
   ]
  },
  {
   "cell_type": "code",
   "execution_count": null,
   "metadata": {
    "collapsed": false
   },
   "outputs": [],
   "source": [
    "def spline3_interpolate2(a,b,c,d,x,x0):\n",
    "    \n",
    "    L = x.size\n",
    "    \n",
    "    indices = np.arange(x0.size)\n",
    "    split = []\n",
    "    i0 = 0\n",
    "    \n",
    "    for i, xi, xi_plus in enumerate(x[:L-1],x[1:]):\n",
    "        mask = (x0[i0:] >= xi) and (x0[i0:] < xi_plus)\n",
    "        split.append(indices[mask])\n",
    "        i0 = indices[mask][-1] + 1\n",
    "        indices = indices[mask]\n",
    "    \n",
    "    for i, ai in enumerate(a):\n",
    "        y0[i] = ai\n",
    "    for i, bi in enumerate(b):\n",
    "        y0[i] += bi*e\n",
    "    e = e*t\n",
    "    for i, ci in enumerate(c):\n",
    "        y0[i] += ci*e\n",
    "    e = e*t\n",
    "    for i, di in enumerate(d):\n",
    "        y0[i] += di*e\n",
    "   \n",
    "    y0 = np.ravel(y0)\n",
    "    \n",
    "    x0 = np.empty((a.size,t.size))\n",
    "    for i in range(a.size):\n",
    "        dx = x[i+1] - x[i]\n",
    "        x0[i] = x[i] + dx*t\n",
    "    x0 = np.ravel(x0)\n",
    "    \n",
    "    return x0, y0"
   ]
  },
  {
   "cell_type": "code",
   "execution_count": 43,
   "metadata": {
    "collapsed": false
   },
   "outputs": [
    {
     "name": "stdout",
     "output_type": "stream",
     "text": [
      "[  0.           0.34083183   1.           1.06643063   1.90270109   2.\n",
      "   2.05689567   2.87587031   3.           3.01571644   3.23953361   4.           5.\n",
      "   6.           6.31129322   7.           7.68897821   8.           9.\n",
      "   9.80198743  10.        ]\n",
      "[  0.   2.   4.   6.   8.  10.]\n",
      "[ 0.          0.17041592  0.5         0.53321531  0.95135054  1.\n",
      "  1.02844783  1.43793516  1.5         1.50785822  1.6197668   2.          2.5\n",
      "  3.          3.15564661  3.5         3.8444891   4.          4.5\n",
      "  4.90099371  5.        ]\n",
      "[ 0.  1.  2.  3.  4.  5.]\n",
      "0 1.0\n",
      "1 2.0\n",
      "2 3.0\n",
      "3 4.0\n",
      "4 5.0\n",
      "[ 0.          0.17041592  0.5         0.53321531  0.95135054]\n",
      "[ 0.          0.02844783  0.43793516  0.5         0.50785822  0.6197668 ]\n",
      "[ 0.   0.5]\n",
      "[ 0.          0.15564661  0.5         0.8444891 ]\n",
      "[ 0.          0.5         0.90099371]\n"
     ]
    }
   ],
   "source": [
    "x0 = np.sort(np.hstack((np.random.rand(10)*10, np.arange(11))))\n",
    "print x0\n",
    "\n",
    "x = np.arange(0.,11.,2.)\n",
    "print x\n",
    "\n",
    "L = x.size\n",
    "\n",
    "xmax = np.max(x)\n",
    "xmin = np.min(x)\n",
    "\n",
    "x0_norm = x0*(x.size-1)/(xmax - xmin)\n",
    "print x0_norm\n",
    "\n",
    "x_norm = x*(x.size-1)/(xmax - xmin)\n",
    "print x_norm\n",
    "\n",
    "split = []\n",
    "i0 = 0\n",
    "for i, xi_plus in enumerate(x_norm[1:]):\n",
    "    print i, xi_plus\n",
    "    mask = x0_norm[i0:] < xi_plus\n",
    "    split.append(x0_norm[i0:][mask]-i)\n",
    "    i0 += x0_norm[i0:][mask].size\n",
    "\n",
    "for sp in split:\n",
    "    print sp"
   ]
  },
  {
   "cell_type": "code",
   "execution_count": 18,
   "metadata": {
    "collapsed": false
   },
   "outputs": [
    {
     "name": "stdout",
     "output_type": "stream",
     "text": [
      "0\n",
      "[ 0  1  2  3  4  5  6  7  8  9 10 11]\n",
      "0\n",
      "1.0 4.0\n",
      "2\n",
      "[ 2  3  4  5  6  7  8  9 10 11]\n",
      "[  4.20701833   4.92718984   5.06562716   5.88432496   5.90750611\n",
      "   7.65855465   8.38016733   8.88389164   9.96866649  10.5468182 ]\n",
      "1\n",
      "4.0 7.0\n",
      "5\n",
      "[ 7  8  9 10 11]\n",
      "[  7.65855465   8.38016733   8.88389164   9.96866649  10.5468182 ]\n",
      "2\n",
      "7.0 10.0\n"
     ]
    },
    {
     "name": "stderr",
     "output_type": "stream",
     "text": [
      "C:\\Anaconda2\\lib\\site-packages\\ipykernel\\__main__.py:14: VisibleDeprecationWarning: boolean index did not match indexed array along dimension 0; dimension is 10 but corresponding boolean dimension is 8\n",
      "C:\\Anaconda2\\lib\\site-packages\\ipykernel\\__main__.py:15: VisibleDeprecationWarning: boolean index did not match indexed array along dimension 0; dimension is 10 but corresponding boolean dimension is 8\n"
     ]
    },
    {
     "ename": "IndexError",
     "evalue": "index -1 is out of bounds for axis 0 with size 0",
     "output_type": "error",
     "traceback": [
      "\u001b[1;31m---------------------------------------------------------------------------\u001b[0m",
      "\u001b[1;31mIndexError\u001b[0m                                Traceback (most recent call last)",
      "\u001b[1;32m<ipython-input-18-8f079e05937f>\u001b[0m in \u001b[0;36m<module>\u001b[1;34m()\u001b[0m\n\u001b[0;32m     13\u001b[0m     \u001b[0mmask\u001b[0m \u001b[1;33m=\u001b[0m \u001b[1;33m(\u001b[0m\u001b[0mx0\u001b[0m\u001b[1;33m[\u001b[0m\u001b[0mi0\u001b[0m\u001b[1;33m:\u001b[0m\u001b[1;33m]\u001b[0m \u001b[1;33m>=\u001b[0m \u001b[0mxi\u001b[0m\u001b[1;33m)\u001b[0m \u001b[1;33m&\u001b[0m \u001b[1;33m(\u001b[0m\u001b[0mx0\u001b[0m\u001b[1;33m[\u001b[0m\u001b[0mi0\u001b[0m\u001b[1;33m:\u001b[0m\u001b[1;33m]\u001b[0m \u001b[1;33m<\u001b[0m \u001b[0mxi_plus\u001b[0m\u001b[1;33m)\u001b[0m\u001b[1;33m\u001b[0m\u001b[0m\n\u001b[0;32m     14\u001b[0m     \u001b[0msplit\u001b[0m\u001b[1;33m.\u001b[0m\u001b[0mappend\u001b[0m\u001b[1;33m(\u001b[0m\u001b[0mindices\u001b[0m\u001b[1;33m[\u001b[0m\u001b[0mmask\u001b[0m\u001b[1;33m]\u001b[0m\u001b[1;33m)\u001b[0m\u001b[1;33m\u001b[0m\u001b[0m\n\u001b[1;32m---> 15\u001b[1;33m     \u001b[0mi0\u001b[0m \u001b[1;33m=\u001b[0m \u001b[0mindices\u001b[0m\u001b[1;33m[\u001b[0m\u001b[0mmask\u001b[0m\u001b[1;33m]\u001b[0m\u001b[1;33m[\u001b[0m\u001b[1;33m-\u001b[0m\u001b[1;36m1\u001b[0m\u001b[1;33m]\u001b[0m \u001b[1;33m+\u001b[0m \u001b[1;36m1\u001b[0m\u001b[1;33m\u001b[0m\u001b[0m\n\u001b[0m\u001b[0;32m     16\u001b[0m     \u001b[1;32mif\u001b[0m \u001b[0mi0\u001b[0m \u001b[1;33m>=\u001b[0m \u001b[0mL0\u001b[0m\u001b[1;33m:\u001b[0m\u001b[1;33m\u001b[0m\u001b[0m\n\u001b[0;32m     17\u001b[0m         \u001b[1;32mbreak\u001b[0m\u001b[1;33m\u001b[0m\u001b[0m\n",
      "\u001b[1;31mIndexError\u001b[0m: index -1 is out of bounds for axis 0 with size 0"
     ]
    }
   ],
   "source": [
    "L = x.size\n",
    "L0 = x0.size\n",
    "    \n",
    "indices = np.arange(x0.size)\n",
    "split = []\n",
    "i0 = 0\n",
    "print i0\n",
    "print indices\n",
    "\n",
    "for i, (xi, xi_plus) in enumerate(zip(x[:L-1],x[1:])):\n",
    "    print i\n",
    "    print xi, xi_plus\n",
    "    mask = (x0[i0:] >= xi) & (x0[i0:] < xi_plus)\n",
    "    split.append(indices[mask])\n",
    "    i0 = indices[mask][-1] + 1\n",
    "    if i0 >= L0:\n",
    "        break\n",
    "    print i0\n",
    "    indices = np.delete(indices, \n",
    "    print indices\n",
    "    x0 = x0[i0:]\n",
    "    print x0"
   ]
  },
  {
   "cell_type": "code",
   "execution_count": 15,
   "metadata": {
    "collapsed": false
   },
   "outputs": [
    {
     "name": "stdout",
     "output_type": "stream",
     "text": [
      "[0 1]\n",
      "[2 3 4 5 6]\n"
     ]
    }
   ],
   "source": [
    "for sp in split:\n",
    "    print sp"
   ]
  },
  {
   "cell_type": "code",
   "execution_count": null,
   "metadata": {
    "collapsed": false
   },
   "outputs": [],
   "source": [
    "b,c,d = spline3(x,y)"
   ]
  },
  {
   "cell_type": "code",
   "execution_count": null,
   "metadata": {
    "collapsed": true
   },
   "outputs": [],
   "source": [
    "t = np.linspace(0.25, 0.75, 3)"
   ]
  },
  {
   "cell_type": "code",
   "execution_count": null,
   "metadata": {
    "collapsed": false
   },
   "outputs": [],
   "source": [
    "x0_calc, y0_calc = spline3_interpolate(y[:L-1],b[:L-1],c,d,t,x)"
   ]
  },
  {
   "cell_type": "code",
   "execution_count": null,
   "metadata": {
    "collapsed": false
   },
   "outputs": [],
   "source": [
    "plt.figure(figsize=(10,10))\n",
    "plt.axis('scaled')\n",
    "plt.plot(x, y, 'bo', label='Data')\n",
    "plt.plot(x0, y0, 'b.', label='True interpolated data')\n",
    "plt.plot(x0_calc, y0_calc, 'xr', label='Interpolated data')\n",
    "plt.xlim(np.min(x0), np.max(x0))\n",
    "plt.ylim(-2., 2.)\n",
    "plt.xlabel('x', fontsize=16)\n",
    "plt.ylabel('y', fontsize=16)\n",
    "plt.xticks(fontsize=14)\n",
    "plt.yticks(fontsize=14)\n",
    "plt.legend(loc='best', numpoints=1, fontsize=16)\n",
    "plt.show()"
   ]
  },
  {
   "cell_type": "markdown",
   "metadata": {},
   "source": [
    "### Exercise 25"
   ]
  },
  {
   "cell_type": "markdown",
   "metadata": {},
   "source": [
    "The folder `synthetic_gravity_data` contains a jupyter notebook named [`synthetic_data_fatiando.ipynb`](https://nbviewer.jupyter.org/github/birocoles/Disciplina-metodos-computacionais/blob/master/Content/synthetic_gravity_data/synthetic_data_fatiando.ipynb). This code uses the open-source Python toolkit for geophysical modeling and inversion [Fatiando a Terra](http://www.fatiando.org/) for calculating the gravity anomaly produced by the following synthetic body:"
   ]
  },
  {
   "cell_type": "code",
   "execution_count": null,
   "metadata": {
    "collapsed": false
   },
   "outputs": [],
   "source": [
    "img('synthetic_gravity_data/model.png')"
   ]
  },
  {
   "cell_type": "markdown",
   "metadata": {},
   "source": [
    "The synthetic body shown above produces the gravity anomaly shown below:"
   ]
  },
  {
   "cell_type": "code",
   "execution_count": null,
   "metadata": {
    "collapsed": false
   },
   "outputs": [],
   "source": [
    "img('synthetic_gravity_data/map.png')"
   ]
  },
  {
   "cell_type": "code",
   "execution_count": null,
   "metadata": {
    "collapsed": false
   },
   "outputs": [],
   "source": [
    "img('synthetic_gravity_data/profile.png')"
   ]
  },
  {
   "cell_type": "markdown",
   "metadata": {},
   "source": [
    "The files `synthetic_gravity_data/gravity_anomaly.txt` and `synthetic_gravity_data/gravity_anomaly_profile.txt` contain, respectively, the synthetic gravity anomaly map and the gravity anomaly profile on x = 0 m."
   ]
  },
  {
   "cell_type": "markdown",
   "metadata": {},
   "source": [
    "To solve this exercise:"
   ]
  },
  {
   "cell_type": "markdown",
   "metadata": {},
   "source": [
    "1. Load the file `synthetic_gravity_data/gravity_anomaly_profile.txt` by using the routine [`numpy.loadtxt`](http://docs.scipy.org/doc/numpy/reference/generated/numpy.loadtxt.html). \n",
    "\n",
    "2. Use the function `my_neville` to calculate one interpolated gravity data between two adjacent gravity data (black dots on the gravity profile) on the profile.\n",
    "\n",
    "3. Plot a Figure similar to the gravity profile shown above containing: (i) the original data (black dots on the gravity profile) and (ii) the interpolated points."
   ]
  },
  {
   "cell_type": "code",
   "execution_count": null,
   "metadata": {
    "collapsed": true
   },
   "outputs": [],
   "source": []
  }
 ],
 "metadata": {
  "kernelspec": {
   "display_name": "Python 2",
   "language": "python",
   "name": "python2"
  },
  "language_info": {
   "codemirror_mode": {
    "name": "ipython",
    "version": 2
   },
   "file_extension": ".py",
   "mimetype": "text/x-python",
   "name": "python",
   "nbconvert_exporter": "python",
   "pygments_lexer": "ipython2",
   "version": "2.7.11"
  }
 },
 "nbformat": 4,
 "nbformat_minor": 0
}
