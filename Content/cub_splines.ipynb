{
 "cells": [
  {
   "cell_type": "markdown",
   "metadata": {},
   "source": [
    "# Cubic splines"
   ]
  },
  {
   "cell_type": "markdown",
   "metadata": {},
   "source": [
    "The file `cubic_splines.pdf` presents some notes about the cubic splines method."
   ]
  },
  {
   "cell_type": "code",
   "execution_count": 1,
   "metadata": {
    "collapsed": true
   },
   "outputs": [],
   "source": [
    "%matplotlib inline\n",
    "import numpy as np\n",
    "import matplotlib.pyplot as plt\n",
    "from scipy.interpolate import lagrange\n",
    "\n",
    "#used for inserting images\n",
    "from IPython.display import Image as img"
   ]
  },
  {
   "cell_type": "code",
   "execution_count": 2,
   "metadata": {
    "collapsed": true
   },
   "outputs": [],
   "source": [
    "L = 5\n",
    "x = np.linspace(0., 10., L) # x coordinates of the data\n",
    "y = np.sin(2.*np.pi*x/10.)  # data values"
   ]
  },
  {
   "cell_type": "code",
   "execution_count": 3,
   "metadata": {
    "collapsed": false
   },
   "outputs": [],
   "source": [
    "x0 = np.linspace(0., 10., 5+3*4) # x coordinates of the interpolating points\n",
    "y0 = np.sin(2.*np.pi*x0/10.)   # true values of the original function at the interpolation points"
   ]
  },
  {
   "cell_type": "code",
   "execution_count": 4,
   "metadata": {
    "collapsed": false
   },
   "outputs": [
    {
     "data": {
      "image/png": "[encoded data removed]",
      "text/plain": [
       "<matplotlib.figure.Figure at 0x67b7048>"
      ]
     },
     "metadata": {},
     "output_type": "display_data"
    }
   ],
   "source": [
    "plt.figure(figsize=(10,10))\n",
    "plt.axis('scaled')\n",
    "plt.plot(x, y, 'bo', label='Data')\n",
    "plt.plot(x0, y0, 'b.', label='True interpolated data')\n",
    "plt.xlim(np.min(x0), np.max(x0))\n",
    "plt.ylim(-2., 2.)\n",
    "plt.xlabel('x', fontsize=16)\n",
    "plt.ylabel('y', fontsize=16)\n",
    "plt.xticks(fontsize=14)\n",
    "plt.yticks(fontsize=14)\n",
    "plt.legend(loc='best', numpoints=1, fontsize=16)\n",
    "plt.show()"
   ]
  },
  {
   "cell_type": "code",
   "execution_count": 5,
   "metadata": {
    "collapsed": true
   },
   "outputs": [],
   "source": [
    "def spline3(x, f):\n",
    "    \n",
    "    L = f.size\n",
    "    \n",
    "    g = 3.*np.hstack(((f[1] - f[0]), (f[2:] - f[:L-2]), (f[-1] - f[-2])))\n",
    "\n",
    "    indices = np.arange(L)\n",
    "    A = np.zeros((L,L))\n",
    "    A[indices[1:L-1],indices[1:L-1]] = 4\n",
    "    A[0,0] = 2\n",
    "    A[L-1,L-1] = 2\n",
    "    A[indices[:L-1],indices[1:]] = 1\n",
    "    A[indices[1:],indices[:L-1]] = 1\n",
    "    \n",
    "    D = np.linalg.solve(np.dot(A.T, A), np.dot(A.T, g))\n",
    "    \n",
    "    c = 3.*(f[1:] - f[:L-1]) - 2.*D[:L-1] - D[1:]\n",
    "    d = 2.*(f[:L-1] - f[1:]) + D[:L-1] + D[1:]\n",
    "    \n",
    "    return D, c, d"
   ]
  },
  {
   "cell_type": "code",
   "execution_count": 6,
   "metadata": {
    "collapsed": false
   },
   "outputs": [],
   "source": [
    "def spline3_interpolate(a,b,c,d,t,x):\n",
    "    \n",
    "    y0 = np.empty((a.size,t.size))\n",
    "    \n",
    "    e = t.copy()\n",
    "    \n",
    "    for i, ai in enumerate(a):\n",
    "        y0[i] = ai\n",
    "    for i, bi in enumerate(b):\n",
    "        y0[i] += bi*e\n",
    "    e = e*t\n",
    "    for i, ci in enumerate(c):\n",
    "        y0[i] += ci*e\n",
    "    e = e*t\n",
    "    for i, di in enumerate(d):\n",
    "        y0[i] += di*e\n",
    "    \n",
    "    #for i, (ai, bi, ci, di) in enumerate(zip(a,b,c,d)):\n",
    "    #    y0[i] = ai + bi*t + ci*t*t + di*t*t*t\n",
    "    \n",
    "    y0 = np.ravel(y0)\n",
    "    \n",
    "    x0 = np.empty((a.size,t.size))\n",
    "    for i in range(a.size):\n",
    "        dx = x[i+1] - x[i]\n",
    "        x0[i] = x[i] + dx*t\n",
    "    x0 = np.ravel(x0)\n",
    "    \n",
    "    return x0, y0"
   ]
  },
  {
   "cell_type": "code",
   "execution_count": 7,
   "metadata": {
    "collapsed": false
   },
   "outputs": [],
   "source": [
    "b,c,d = spline3(x,y)"
   ]
  },
  {
   "cell_type": "code",
   "execution_count": 8,
   "metadata": {
    "collapsed": true
   },
   "outputs": [],
   "source": [
    "t = np.linspace(0.25, 0.75, 3)"
   ]
  },
  {
   "cell_type": "code",
   "execution_count": 9,
   "metadata": {
    "collapsed": false
   },
   "outputs": [],
   "source": [
    "x0_calc, y0_calc = spline3_interpolate(y[:L-1],b[:L-1],c,d,t,x)"
   ]
  },
  {
   "cell_type": "code",
   "execution_count": 10,
   "metadata": {
    "collapsed": false
   },
   "outputs": [
    {
     "data": {
      "image/png": "[encoded data removed]",
      "text/plain": [
       "<matplotlib.figure.Figure at 0x3db84e0>"
      ]
     },
     "metadata": {},
     "output_type": "display_data"
    }
   ],
   "source": [
    "plt.figure(figsize=(10,10))\n",
    "plt.axis('scaled')\n",
    "plt.plot(x, y, 'bo', label='Data')\n",
    "plt.plot(x0, y0, 'b.', label='True interpolated data')\n",
    "plt.plot(x0_calc, y0_calc, 'xr', label='Interpolated data')\n",
    "plt.xlim(np.min(x0), np.max(x0))\n",
    "plt.ylim(-2., 2.)\n",
    "plt.xlabel('x', fontsize=16)\n",
    "plt.ylabel('y', fontsize=16)\n",
    "plt.xticks(fontsize=14)\n",
    "plt.yticks(fontsize=14)\n",
    "plt.legend(loc='best', numpoints=1, fontsize=16)\n",
    "plt.show()"
   ]
  },
  {
   "cell_type": "markdown",
   "metadata": {},
   "source": [
    "### Exercise 25"
   ]
  },
  {
   "cell_type": "markdown",
   "metadata": {},
   "source": [
    "The folder `synthetic_gravity_data` contains a jupyter notebook named [`synthetic_data_fatiando.ipynb`](https://nbviewer.jupyter.org/github/birocoles/Disciplina-metodos-computacionais/blob/master/Content/synthetic_gravity_data/synthetic_data_fatiando.ipynb). This code uses the open-source Python toolkit for geophysical modeling and inversion [Fatiando a Terra](http://www.fatiando.org/) for calculating the gravity anomaly produced by the following synthetic body:"
   ]
  },
  {
   "cell_type": "code",
   "execution_count": null,
   "metadata": {
    "collapsed": false
   },
   "outputs": [],
   "source": [
    "img('synthetic_gravity_data/model.png')"
   ]
  },
  {
   "cell_type": "markdown",
   "metadata": {},
   "source": [
    "The synthetic body shown above produces the gravity anomaly shown below:"
   ]
  },
  {
   "cell_type": "code",
   "execution_count": null,
   "metadata": {
    "collapsed": false
   },
   "outputs": [],
   "source": [
    "img('synthetic_gravity_data/map.png')"
   ]
  },
  {
   "cell_type": "code",
   "execution_count": null,
   "metadata": {
    "collapsed": false
   },
   "outputs": [],
   "source": [
    "img('synthetic_gravity_data/profile.png')"
   ]
  },
  {
   "cell_type": "markdown",
   "metadata": {},
   "source": [
    "The files `synthetic_gravity_data/gravity_anomaly.txt` and `synthetic_gravity_data/gravity_anomaly_profile.txt` contain, respectively, the synthetic gravity anomaly map and the gravity anomaly profile on x = 0 m."
   ]
  },
  {
   "cell_type": "markdown",
   "metadata": {},
   "source": [
    "To solve this exercise:"
   ]
  },
  {
   "cell_type": "markdown",
   "metadata": {},
   "source": [
    "1. Load the file `synthetic_gravity_data/gravity_anomaly_profile.txt` by using the routine [`numpy.loadtxt`](http://docs.scipy.org/doc/numpy/reference/generated/numpy.loadtxt.html). \n",
    "\n",
    "2. Use the function `my_neville` to calculate one interpolated gravity data between two adjacent gravity data (black dots on the gravity profile) on the profile.\n",
    "\n",
    "3. Plot a Figure similar to the gravity profile shown above containing: (i) the original data (black dots on the gravity profile) and (ii) the interpolated points."
   ]
  },
  {
   "cell_type": "code",
   "execution_count": null,
   "metadata": {
    "collapsed": true
   },
   "outputs": [],
   "source": []
  }
 ],
 "metadata": {
  "kernelspec": {
   "display_name": "Python 2",
   "language": "python",
   "name": "python2"
  },
  "language_info": {
   "codemirror_mode": {
    "name": "ipython",
    "version": 2
   },
   "file_extension": ".py",
   "mimetype": "text/x-python",
   "name": "python",
   "nbconvert_exporter": "python",
   "pygments_lexer": "ipython2",
   "version": "2.7.11"
  }
 },
 "nbformat": 4,
 "nbformat_minor": 0
}
