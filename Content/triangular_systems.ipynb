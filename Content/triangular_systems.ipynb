{
 "cells": [
  {
   "cell_type": "markdown",
   "metadata": {},
   "source": [
    "## Triangular systems"
   ]
  },
  {
   "cell_type": "markdown",
   "metadata": {},
   "source": [
    "Consider the linear system"
   ]
  },
  {
   "cell_type": "markdown",
   "metadata": {},
   "source": [
    "$$\n",
    "\\mathbf{A} \\mathbf{x} = \\mathbf{y} \\: ,\n",
    "$$"
   ]
  },
  {
   "cell_type": "markdown",
   "metadata": {},
   "source": [
    "where $\\mathbf{A}$ is a $N \\times N$ matrix and $\\mathbf{y}$ is a $N \\times 1$ vector."
   ]
  },
  {
   "cell_type": "markdown",
   "metadata": {},
   "source": [
    "### Upper triangular systems"
   ]
  },
  {
   "cell_type": "markdown",
   "metadata": {},
   "source": [
    "In this case, $\\mathbf{A}$ is an upper triangular matrix and the solution $\\mathbf{x}$ is given by:"
   ]
  },
  {
   "cell_type": "markdown",
   "metadata": {},
   "source": [
    "    for i = N-1:0:-1\n",
    "        x[i] = y[i]\n",
    "        for j = i+1:N-1\n",
    "            x[i] = x[i] - A[i,j]*x[j]\n",
    "        x[i] = x[i]/A[i,i]"
   ]
  },
  {
   "cell_type": "markdown",
   "metadata": {},
   "source": [
    "    for i = N-1:0:-1\n",
    "        x[i] = y[i] - dot(A[i,i+1:],x[i+1:])\n",
    "        x[i] = x[i]/A[i,i]"
   ]
  },
  {
   "cell_type": "markdown",
   "metadata": {},
   "source": [
    "### Lower triangular systems"
   ]
  },
  {
   "cell_type": "markdown",
   "metadata": {},
   "source": [
    "In this case, $\\mathbf{A}$ is a lower triangular matrix and the solution $\\mathbf{x}$ is given by:"
   ]
  },
  {
   "cell_type": "markdown",
   "metadata": {},
   "source": [
    "    for i = 0:N-1\n",
    "        x[i] = y[i]\n",
    "        for j = 0:i-1\n",
    "            x[i] = x[i] - A[i,j]*x[j]\n",
    "        x[i] = x[i]/A[i,i]"
   ]
  },
  {
   "cell_type": "markdown",
   "metadata": {},
   "source": [
    "    for i = 0:N-1\n",
    "        x[i] = y[i] - dot(A[i,:i-1],x[:i-1])\n",
    "        x[i] = x[i]/A[i,i]"
   ]
  },
  {
   "cell_type": "markdown",
   "metadata": {},
   "source": [
    "### Exercise"
   ]
  },
  {
   "cell_type": "markdown",
   "metadata": {},
   "source": [
    "1) In your `my_functions.py` file, create a function called `triu_system` that solves the linear system `Ax = y`, where `A` is an UPPER triangular matrix. The function must receive the matrix `A` and the vector `y` and return the computed vector `x`.\n",
    "\n",
    "2) In your `test_my_functions.py` file, create two tests. In the first test, create an UPPER triangular matrix `A0` and a vector `x0` and use them to compute a vector `A0x0 = y0`. Then, use `A0` and `y0` to compute a vector `x` with the function `triu_system`. Finally, compare the computed vector `x` and the expected vector `x0`. In the second test, compare the result produced by `triu_system` and the result produced by the [`numpy.linalg.solve`](https://docs.scipy.org/doc/numpy/reference/generated/numpy.linalg.solve.html) (see the example presented below), given the same input."
   ]
  },
  {
   "cell_type": "markdown",
   "metadata": {},
   "source": [
    "### Exercise"
   ]
  },
  {
   "cell_type": "markdown",
   "metadata": {},
   "source": [
    "3) In your `my_functions.py` file, create a function called `tril_system` that solves the linear system `Ax = y`, where `A` is an LOWER triangular matrix. The function must receive the matrix `A` and the vector `y` and return the computed vector `x`.\n",
    "\n",
    "4) In your `test_my_functions.py` file, create two tests. In the first test, create a LOWER triangular matrix `A0` and a vector `x0` and use them to compute a vector `A0x0 = y0`. Then, use `A0` and `y0` to compute a vector `x` with the function `tril_system`. Finally, compare the computed vector `x` and the expected vector `x0`. In the second test, compare the result produced by `tril_system` and the result produced by the [`numpy.linalg.solve`](https://docs.scipy.org/doc/numpy/reference/generated/numpy.linalg.solve.html) (see the example presented below), given the same input."
   ]
  },
  {
   "cell_type": "code",
   "execution_count": 1,
   "metadata": {},
   "outputs": [],
   "source": [
    "import numpy as np"
   ]
  },
  {
   "cell_type": "code",
   "execution_count": 2,
   "metadata": {},
   "outputs": [],
   "source": [
    "N = 5"
   ]
  },
  {
   "cell_type": "code",
   "execution_count": 4,
   "metadata": {},
   "outputs": [
    {
     "name": "stdout",
     "output_type": "stream",
     "text": [
      "[[0.85 3.54 5.32 2.22 3.9 ]\n",
      " [3.62 4.76 5.34 9.46 2.19]\n",
      " [3.36 0.72 5.16 8.16 7.52]\n",
      " [9.62 4.24 1.45 8.96 1.42]\n",
      " [1.23 6.64 2.51 2.98 2.12]]\n"
     ]
    }
   ],
   "source": [
    "A = 10*np.around(np.random.rand(N,N), decimals=3)\n",
    "print(A)"
   ]
  },
  {
   "cell_type": "code",
   "execution_count": 5,
   "metadata": {},
   "outputs": [
    {
     "name": "stdout",
     "output_type": "stream",
     "text": [
      "[0.476 0.176 0.543 0.313 0.937]\n"
     ]
    }
   ],
   "source": [
    "y = np.around(np.random.rand(N), decimals=3)\n",
    "print(y)"
   ]
  },
  {
   "cell_type": "code",
   "execution_count": 6,
   "metadata": {},
   "outputs": [
    {
     "name": "stdout",
     "output_type": "stream",
     "text": [
      "[[0.85 0.   0.   0.   0.  ]\n",
      " [3.62 4.76 0.   0.   0.  ]\n",
      " [3.36 0.72 5.16 0.   0.  ]\n",
      " [9.62 4.24 1.45 8.96 0.  ]\n",
      " [1.23 6.64 2.51 2.98 2.12]]\n"
     ]
    }
   ],
   "source": [
    "L = np.tril(A)\n",
    "print(L)"
   ]
  },
  {
   "cell_type": "code",
   "execution_count": 7,
   "metadata": {},
   "outputs": [
    {
     "name": "stdout",
     "output_type": "stream",
     "text": [
      "[[0.85 3.54 5.32 2.22 3.9 ]\n",
      " [0.   4.76 5.34 9.46 2.19]\n",
      " [0.   0.   5.16 8.16 7.52]\n",
      " [0.   0.   0.   8.96 1.42]\n",
      " [0.   0.   0.   0.   2.12]]\n"
     ]
    }
   ],
   "source": [
    "U = np.triu(A)\n",
    "print(U)"
   ]
  },
  {
   "cell_type": "code",
   "execution_count": 8,
   "metadata": {},
   "outputs": [
    {
     "name": "stdout",
     "output_type": "stream",
     "text": [
      "[ 0.56       -0.38890756 -0.20515243 -0.34908046  2.06874462]\n"
     ]
    }
   ],
   "source": [
    "print(np.linalg.solve(L,y))"
   ]
  },
  {
   "cell_type": "code",
   "execution_count": 9,
   "metadata": {},
   "outputs": [
    {
     "name": "stdout",
     "output_type": "stream",
     "text": [
      "[-0.20700047  0.44567491 -0.48336732 -0.03511308  0.44198113]\n"
     ]
    }
   ],
   "source": [
    "print(np.linalg.solve(U,y))"
   ]
  },
  {
   "cell_type": "markdown",
   "metadata": {},
   "source": [
    "### Exercise"
   ]
  },
  {
   "cell_type": "markdown",
   "metadata": {},
   "source": [
    "Consider the vertical seismic profiling problem where we wish to estimate vertical seismic slowness using travel time measurements of downward-propagating seismic waves, according to the Figure shown below. The orange star represent the source and the green triangles represent the receivers. The subsurface is discretized at $N$ depths $z_{i}$, $i =1, \\dots, N$, that are equally spaced at intervals of $\\Delta z$. The shallowest depth $z_{1}$ is equal to $\\Delta z_{0}$. At each depth $z_{i}$, there is an observed time $t_{i}$ (data). Let us also consider that each depth $z_{i}$ coincides with the limit between two layers having a constant slowness $s_{i}$."
   ]
  },
  {
   "cell_type": "markdown",
   "metadata": {},
   "source": [
    "<img src='vsp_sketch.png' width=600>"
   ]
  },
  {
   "cell_type": "markdown",
   "metadata": {
    "collapsed": true
   },
   "source": [
    "Notice that, according to the Figure presented above, the linear system to be solved is given by:\n",
    "\n",
    "$$\n",
    "\\underbrace{\\begin{bmatrix}\n",
    "\\Delta z_{0} & & & & & & \\\\\n",
    "\\Delta z_{0} & \\Delta z & & & & & \\\\\n",
    "\\Delta z_{0} & \\Delta z & \\Delta z & & & & \\\\\n",
    "\\Delta z_{0} & \\Delta z & \\Delta z & \\Delta z & & & \\\\\n",
    "\\Delta z_{0} & \\Delta z & \\Delta z & \\Delta z & \\Delta z & & \\\\\n",
    "\\Delta z_{0} & \\Delta z & \\Delta z & \\Delta z & \\Delta z & \\Delta z & \\\\\n",
    "\\Delta z_{0} & \\Delta z & \\Delta z & \\Delta z & \\Delta z & \\Delta z & \\Delta z \\\\\n",
    "\\end{bmatrix}}_{\\mathbf{M}}\n",
    "\\underbrace{\\begin{bmatrix}\n",
    "s_{1} \\\\ s_{2} \\\\ s_{3} \\\\ s_{4} \\\\ s_{5} \\\\ s_{6} \\\\ s_{7}\n",
    "\\end{bmatrix}}_{\\mathbf{s}} = \n",
    "\\underbrace{\\begin{bmatrix}\n",
    "t_{1} \\\\ t_{2} \\\\ t_{3} \\\\ t_{4} \\\\ t_{5} \\\\ t_{6} \\\\ t_{7}\n",
    "\\end{bmatrix}}_{\\mathbf{t}}\n",
    "$$"
   ]
  },
  {
   "cell_type": "markdown",
   "metadata": {},
   "source": [
    "### Exercise"
   ]
  },
  {
   "cell_type": "markdown",
   "metadata": {},
   "source": [
    "1. In your `my_functions.py` file, create a function called `vsp` for solving the linear system $\\mathbf{M} \\mathbf{s} = \\mathbf{t}$. The function must receive $\\Delta z_{0}$, $\\Delta z$, and $\\mathbf{t}$ and return the slowness vector $\\mathbf{s}$. The function cannot create the matrix $\\mathbf{M}$, but use only the variables $\\Delta z_{0}$ and $\\Delta z$. To do it, modify one of the algorithms presented above for solving triangular systems.\n",
    "2. In your `test_my_functions.py` file, create one test. In this test, specify values for $\\Delta z_{0}$ and $\\Delta z$ and create a slowness vector $\\mathbf{s}_{0}$. By using $\\Delta z_{0}$ and $\\Delta z$, create the triangular matrix $\\mathbf{M}$. After that, compute a data vector $\\mathbf{t}_{0}$ by using $\\mathbf{M}$ and $\\mathbf{s}_{0}$. Then, use $\\Delta z_{0}$, $\\Delta z$ and $\\mathbf{t}_{0}$ to estimate a slowness vector $\\mathbf{s}$ by using the function `vsp`. Finally, compare the estimated slowness vector $\\mathbf{s}$ and the true slowness vector $\\mathbf{s}_{0}$."
   ]
  },
  {
   "cell_type": "code",
   "execution_count": null,
   "metadata": {},
   "outputs": [],
   "source": []
  }
 ],
 "metadata": {
  "kernelspec": {
   "display_name": "Python 3",
   "language": "python",
   "name": "python3"
  },
  "language_info": {
   "codemirror_mode": {
    "name": "ipython",
    "version": 3
   },
   "file_extension": ".py",
   "mimetype": "text/x-python",
   "name": "python",
   "nbconvert_exporter": "python",
   "pygments_lexer": "ipython3",
   "version": "3.7.7"
  }
 },
 "nbformat": 4,
 "nbformat_minor": 1
}
