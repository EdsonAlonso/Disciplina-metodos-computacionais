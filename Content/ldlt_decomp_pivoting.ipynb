{
 "cells": [
  {
   "cell_type": "code",
   "execution_count": 1,
   "metadata": {
    "collapsed": true
   },
   "outputs": [],
   "source": [
    "import numpy as np"
   ]
  },
  {
   "cell_type": "code",
   "execution_count": 2,
   "metadata": {
    "collapsed": true
   },
   "outputs": [],
   "source": [
    "N = 5"
   ]
  },
  {
   "cell_type": "code",
   "execution_count": 3,
   "metadata": {
    "collapsed": false
   },
   "outputs": [],
   "source": [
    "A = np.reshape(np.random.rand(N*N), (N,N))\n",
    "\n",
    "A = np.dot(A.T, A)"
   ]
  },
  {
   "cell_type": "code",
   "execution_count": 4,
   "metadata": {
    "collapsed": false
   },
   "outputs": [],
   "source": [
    "def permut (C, i):\n",
    "    p = [j for j in range(C.shape[0])]\n",
    "    imax = i + np.argmax(np.abs(np.diag(C)[i:]))\n",
    "    if imax != i:\n",
    "        p[i], p[imax] = p[imax], p[i]\n",
    "    C = C[p,:]\n",
    "    C = C[:,p]\n",
    "    return p, C"
   ]
  },
  {
   "cell_type": "code",
   "execution_count": 5,
   "metadata": {
    "collapsed": false
   },
   "outputs": [
    {
     "name": "stdout",
     "output_type": "stream",
     "text": [
      "[[ 1.10047269  1.35077762  1.05271579  1.16353626  1.13307255]\n",
      " [ 1.35077762  1.83819919  1.5097005   1.53238027  1.50675037]\n",
      " [ 1.05271579  1.5097005   1.35227312  1.04567117  1.11098115]\n",
      " [ 1.16353626  1.53238027  1.04567117  1.79026306  1.61219812]\n",
      " [ 1.13307255  1.50675037  1.11098115  1.61219812  1.54008367]]\n"
     ]
    }
   ],
   "source": [
    "print A"
   ]
  },
  {
   "cell_type": "code",
   "execution_count": 6,
   "metadata": {
    "collapsed": true
   },
   "outputs": [],
   "source": [
    "p, C = permut(A,0)\n",
    "P = np.identity(N)[p,:]"
   ]
  },
  {
   "cell_type": "code",
   "execution_count": 7,
   "metadata": {
    "collapsed": false
   },
   "outputs": [
    {
     "name": "stdout",
     "output_type": "stream",
     "text": [
      "[[ 1.83819919  1.35077762  1.5097005   1.53238027  1.50675037]\n",
      " [ 1.35077762  1.10047269  1.05271579  1.16353626  1.13307255]\n",
      " [ 1.5097005   1.05271579  1.35227312  1.04567117  1.11098115]\n",
      " [ 1.53238027  1.16353626  1.04567117  1.79026306  1.61219812]\n",
      " [ 1.50675037  1.13307255  1.11098115  1.61219812  1.54008367]]\n"
     ]
    }
   ],
   "source": [
    "print C"
   ]
  },
  {
   "cell_type": "code",
   "execution_count": 8,
   "metadata": {
    "collapsed": false
   },
   "outputs": [
    {
     "name": "stdout",
     "output_type": "stream",
     "text": [
      "[[ 0.  1.  0.  0.  0.]\n",
      " [ 1.  0.  0.  0.  0.]\n",
      " [ 0.  0.  1.  0.  0.]\n",
      " [ 0.  0.  0.  1.  0.]\n",
      " [ 0.  0.  0.  0.  1.]]\n"
     ]
    }
   ],
   "source": [
    "print P"
   ]
  },
  {
   "cell_type": "code",
   "execution_count": 9,
   "metadata": {
    "collapsed": false
   },
   "outputs": [
    {
     "data": {
      "text/plain": [
       "True"
      ]
     },
     "execution_count": 9,
     "metadata": {},
     "output_type": "execute_result"
    }
   ],
   "source": [
    "np.allclose(C, np.dot(P,np.dot(A,P.T)))"
   ]
  },
  {
   "cell_type": "code",
   "execution_count": 10,
   "metadata": {
    "collapsed": false
   },
   "outputs": [],
   "source": [
    "v = np.zeros(N)\n",
    "C = np.copy(A)\n",
    "P = np.identity(N)"
   ]
  },
  {
   "cell_type": "code",
   "execution_count": 11,
   "metadata": {
    "collapsed": false
   },
   "outputs": [],
   "source": [
    "for j in range(N):\n",
    "    \n",
    "    p, C = permut(C,j)\n",
    "    P = P[p,:]\n",
    "\n",
    "    alpha = C[j,j]\n",
    "    \n",
    "    v = C[j+1:,j]\n",
    "\n",
    "    C[j+1:,j] = v/alpha\n",
    "    \n",
    "    C[j+1:,j+1:] -= np.outer(v,v)/alpha"
   ]
  },
  {
   "cell_type": "code",
   "execution_count": 12,
   "metadata": {
    "collapsed": false
   },
   "outputs": [],
   "source": [
    "L = np.identity(N) + np.tril(C,k=-1)"
   ]
  },
  {
   "cell_type": "code",
   "execution_count": 13,
   "metadata": {
    "collapsed": false
   },
   "outputs": [
    {
     "name": "stdout",
     "output_type": "stream",
     "text": [
      "[[ 1.83819919  1.53238027  1.5097005   1.50675037  1.35077762]\n",
      " [ 0.83363124  1.41220771  0.67321117  1.24046596  0.83028431]\n",
      " [ 0.8212932   0.47670832  0.82440682  0.44824002  0.52593179]\n",
      " [ 0.8196883   0.87838775  0.54371216  0.2696265   0.01896055]\n",
      " [ 0.73483746  0.58793356  0.63795177  0.07032155  0.04993699]]\n"
     ]
    }
   ],
   "source": [
    "print C"
   ]
  },
  {
   "cell_type": "code",
   "execution_count": 14,
   "metadata": {
    "collapsed": false
   },
   "outputs": [
    {
     "name": "stdout",
     "output_type": "stream",
     "text": [
      "[[ 1.          0.          0.          0.          0.        ]\n",
      " [ 0.83363124  1.          0.          0.          0.        ]\n",
      " [ 0.8212932   0.47670832  1.          0.          0.        ]\n",
      " [ 0.8196883   0.87838775  0.54371216  1.          0.        ]\n",
      " [ 0.73483746  0.58793356  0.63795177  0.07032155  1.        ]]\n"
     ]
    }
   ],
   "source": [
    "print L"
   ]
  },
  {
   "cell_type": "code",
   "execution_count": 15,
   "metadata": {
    "collapsed": false
   },
   "outputs": [],
   "source": [
    "D = np.diag(np.diag(C))"
   ]
  },
  {
   "cell_type": "code",
   "execution_count": 29,
   "metadata": {
    "collapsed": false
   },
   "outputs": [
    {
     "name": "stdout",
     "output_type": "stream",
     "text": [
      "[[ 1.83819919  0.          0.          0.          0.        ]\n",
      " [ 0.          1.41220771  0.          0.          0.        ]\n",
      " [ 0.          0.          0.82440682  0.          0.        ]\n",
      " [ 0.          0.          0.          0.2696265   0.        ]\n",
      " [ 0.          0.          0.          0.          0.04993699]]\n"
     ]
    }
   ],
   "source": [
    "print D"
   ]
  },
  {
   "cell_type": "code",
   "execution_count": 16,
   "metadata": {
    "collapsed": true
   },
   "outputs": [],
   "source": [
    "PAPt = np.dot(P,np.dot(A,P.T))\n",
    "A_til = np.dot(P.T,np.dot(A,P))\n",
    "LDLt = np.dot(L, np.dot(D,L.T))"
   ]
  },
  {
   "cell_type": "code",
   "execution_count": 17,
   "metadata": {
    "collapsed": true
   },
   "outputs": [],
   "source": [
    "PA_tilPt = np.dot(P,np.dot(A_til,P.T))"
   ]
  },
  {
   "cell_type": "code",
   "execution_count": 18,
   "metadata": {
    "collapsed": false
   },
   "outputs": [
    {
     "data": {
      "text/plain": [
       "False"
      ]
     },
     "execution_count": 18,
     "metadata": {},
     "output_type": "execute_result"
    }
   ],
   "source": [
    "np.allclose(PA_tilPt, LDLt)"
   ]
  },
  {
   "cell_type": "code",
   "execution_count": 27,
   "metadata": {
    "collapsed": false
   },
   "outputs": [
    {
     "data": {
      "text/plain": [
       "False"
      ]
     },
     "execution_count": 27,
     "metadata": {},
     "output_type": "execute_result"
    }
   ],
   "source": [
    "np.allclose(A_til, LDLt)"
   ]
  },
  {
   "cell_type": "code",
   "execution_count": 19,
   "metadata": {
    "collapsed": false
   },
   "outputs": [
    {
     "data": {
      "text/plain": [
       "True"
      ]
     },
     "execution_count": 19,
     "metadata": {},
     "output_type": "execute_result"
    }
   ],
   "source": [
    "np.allclose(PA_tilPt, A)"
   ]
  },
  {
   "cell_type": "code",
   "execution_count": 20,
   "metadata": {
    "collapsed": false
   },
   "outputs": [
    {
     "data": {
      "text/plain": [
       "False"
      ]
     },
     "execution_count": 20,
     "metadata": {},
     "output_type": "execute_result"
    }
   ],
   "source": [
    "np.allclose(PAPt, LDLt)"
   ]
  },
  {
   "cell_type": "code",
   "execution_count": 21,
   "metadata": {
    "collapsed": false
   },
   "outputs": [
    {
     "data": {
      "text/plain": [
       "False"
      ]
     },
     "execution_count": 21,
     "metadata": {},
     "output_type": "execute_result"
    }
   ],
   "source": [
    "np.allclose(PAPt, A)"
   ]
  },
  {
   "cell_type": "code",
   "execution_count": 22,
   "metadata": {
    "collapsed": false
   },
   "outputs": [
    {
     "name": "stdout",
     "output_type": "stream",
     "text": [
      "[[ 1.10047269  1.35077762  1.05271579  1.16353626  1.13307255]\n",
      " [ 1.35077762  1.83819919  1.5097005   1.53238027  1.50675037]\n",
      " [ 1.05271579  1.5097005   1.35227312  1.04567117  1.11098115]\n",
      " [ 1.16353626  1.53238027  1.04567117  1.79026306  1.61219812]\n",
      " [ 1.13307255  1.50675037  1.11098115  1.61219812  1.54008367]]\n"
     ]
    }
   ],
   "source": [
    "print A"
   ]
  },
  {
   "cell_type": "code",
   "execution_count": 23,
   "metadata": {
    "collapsed": false
   },
   "outputs": [
    {
     "name": "stdout",
     "output_type": "stream",
     "text": [
      "[[ 1.10047269  1.35077762  1.05271579  1.16353626  1.13307255]\n",
      " [ 1.35077762  1.83819919  1.5097005   1.53238027  1.50675037]\n",
      " [ 1.05271579  1.5097005   1.35227312  1.04567117  1.11098115]\n",
      " [ 1.16353626  1.53238027  1.04567117  1.79026306  1.61219812]\n",
      " [ 1.13307255  1.50675037  1.11098115  1.61219812  1.54008367]]\n"
     ]
    }
   ],
   "source": [
    "print PA_tilPt"
   ]
  },
  {
   "cell_type": "code",
   "execution_count": 24,
   "metadata": {
    "collapsed": false
   },
   "outputs": [
    {
     "name": "stdout",
     "output_type": "stream",
     "text": [
      "[[ 1.83819919  1.53238027  1.5097005   1.50675037  1.35077762]\n",
      " [ 1.53238027  2.68964777  1.93174466  2.49654013  1.95633473]\n",
      " [ 1.5097005   1.93174466  2.38523895  2.2770643   2.0311197 ]\n",
      " [ 1.50675037  2.49654013  2.2770643   2.8380158   2.14144424]\n",
      " [ 1.35077762  1.95633473  2.0311197   2.14144424  1.86754345]]\n"
     ]
    }
   ],
   "source": [
    "print LDLt"
   ]
  },
  {
   "cell_type": "code",
   "execution_count": 28,
   "metadata": {
    "collapsed": false
   },
   "outputs": [
    {
     "name": "stdout",
     "output_type": "stream",
     "text": [
      "[[ 1.83819919  1.53238027  1.5097005   1.50675037  1.35077762]\n",
      " [ 0.83363124  1.41220771  0.67321117  1.24046596  0.83028431]\n",
      " [ 0.8212932   0.47670832  0.82440682  0.44824002  0.52593179]\n",
      " [ 0.8196883   0.87838775  0.54371216  0.2696265   0.01896055]\n",
      " [ 0.73483746  0.58793356  0.63795177  0.07032155  0.04993699]]\n"
     ]
    }
   ],
   "source": [
    "print C"
   ]
  },
  {
   "cell_type": "code",
   "execution_count": 25,
   "metadata": {
    "collapsed": false
   },
   "outputs": [
    {
     "name": "stdout",
     "output_type": "stream",
     "text": [
      "[ 1.83819919  2.68964777  2.38523895  2.8380158   1.86754345]\n"
     ]
    }
   ],
   "source": [
    "print np.diag(LDLt)"
   ]
  },
  {
   "cell_type": "code",
   "execution_count": 26,
   "metadata": {
    "collapsed": false
   },
   "outputs": [
    {
     "name": "stdout",
     "output_type": "stream",
     "text": [
      "[ 1.83819919  1.41220771  0.82440682  0.2696265   0.04993699]\n"
     ]
    }
   ],
   "source": [
    "print np.diag(C)"
   ]
  },
  {
   "cell_type": "code",
   "execution_count": null,
   "metadata": {
    "collapsed": true
   },
   "outputs": [],
   "source": []
  }
 ],
 "metadata": {
  "kernelspec": {
   "display_name": "Python 2",
   "language": "python",
   "name": "python2"
  },
  "language_info": {
   "codemirror_mode": {
    "name": "ipython",
    "version": 2
   },
   "file_extension": ".py",
   "mimetype": "text/x-python",
   "name": "python",
   "nbconvert_exporter": "python",
   "pygments_lexer": "ipython2",
   "version": "2.7.11"
  }
 },
 "nbformat": 4,
 "nbformat_minor": 0
}
