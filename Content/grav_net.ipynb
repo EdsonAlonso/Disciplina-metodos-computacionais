{
 "cells": [
  {
   "cell_type": "markdown",
   "metadata": {},
   "source": [
    "# Simple gravity network"
   ]
  },
  {
   "cell_type": "markdown",
   "metadata": {},
   "source": [
    "Consider the simple gravity network represented in the figure below:"
   ]
  },
  {
   "cell_type": "markdown",
   "metadata": {},
   "source": [
    "<img src='grav_net/grav_net.jpg', width=700>"
   ]
  },
  {
   "cell_type": "markdown",
   "metadata": {},
   "source": [
    "This network is formed by 6 nodes and 5 connections. The nodes represent points on the Earth's surface. Consider that, at each node $i$, $i = 0, \\dots, 5$, there is a gravity value $g_{i}$. Moreover, consider that the gravity values at the nodes $0$ and $5$ are known and that, on each connection (dashed lines), there is a differential gravity measurement $\\ell_{ij}$ defined by:\n",
    "\n",
    "$$\n",
    "\\ell_{ij} = g_{j} - g_{i} \\: , \\quad j \\ne i \\: ,\n",
    "$$\n",
    "\n",
    "where $g_{j}$ and $g_{i}$ are, respectively, the gravity values at positions $j$ and $i$. For convenience, let's call $g_{i}$ the **start station** and $g_{j}$ the **end station** associated with the differential gravity measurement $\\ell_{ij}$."
   ]
  },
  {
   "cell_type": "markdown",
   "metadata": {},
   "source": [
    "In this case, we have the following equations for the differential gravity measurements:"
   ]
  },
  {
   "cell_type": "markdown",
   "metadata": {},
   "source": [
    "$$\n",
    "\\begin{split}\n",
    "\\ell_{01} &= g_{1} - g_{0} \\\\\n",
    "\\ell_{12} &= g_{2} - g_{1} \\\\\n",
    "\\ell_{25} &= g_{5} - g_{2} \\\\\n",
    "\\ell_{34} &= g_{4} - g_{3} \\\\\n",
    "\\ell_{23} &= g_{3} - g_{2}\n",
    "\\end{split} \\: ,\n",
    "$$"
   ]
  },
  {
   "cell_type": "markdown",
   "metadata": {},
   "source": [
    "and the following equations for the known gravity values:"
   ]
  },
  {
   "cell_type": "markdown",
   "metadata": {},
   "source": [
    "$$\n",
    "\\begin{split}\n",
    "g_{0} &= \\tilde{g}_{0} \\\\\n",
    "g_{5} &= \\tilde{g}_{5}\n",
    "\\end{split} \\: ,\n",
    "$$"
   ]
  },
  {
   "cell_type": "markdown",
   "metadata": {},
   "source": [
    "where $\\tilde{g}_{0}$ and $\\tilde{g}_{5}$ represent, respectively, the known gravity values at the nodes $0$ and $5$."
   ]
  },
  {
   "cell_type": "markdown",
   "metadata": {},
   "source": [
    "Notice that, by defining a vector $\\mathbf{g}$ containing the gravity values at each node, e.g.,"
   ]
  },
  {
   "cell_type": "markdown",
   "metadata": {},
   "source": [
    "$$\n",
    "\\mathbf{g} = \\left[ \\begin{array}{c}\n",
    "g_{0} \\\\\n",
    "g_{1} \\\\\n",
    "g_{2} \\\\\n",
    "g_{3} \\\\\n",
    "g_{4} \\\\\n",
    "g_{5}\n",
    "\\end{array} \\right] \\: ,\n",
    "$$"
   ]
  },
  {
   "cell_type": "markdown",
   "metadata": {},
   "source": [
    "and another vector $\\mathbf{d}$ defined as follows:"
   ]
  },
  {
   "cell_type": "markdown",
   "metadata": {},
   "source": [
    "$$\n",
    "\\mathbf{d} = \\left[ \\begin{array}{c}\n",
    "\\ell_{01} \\\\\n",
    "\\ell_{12} \\\\\n",
    "\\ell_{25} \\\\\n",
    "\\ell_{34} \\\\\n",
    "\\ell_{23} \\\\\n",
    "\\tilde{g}_{0} \\\\\n",
    "\\tilde{g}_{5}\n",
    "\\end{array} \\right] \\: ,\n",
    "$$"
   ]
  },
  {
   "cell_type": "markdown",
   "metadata": {},
   "source": [
    "it is possible to estimate the gravity values at all nodes by solving a linear system $\\mathbf{A} \\, \\mathbf{g} = \\mathbf{d}$."
   ]
  },
  {
   "cell_type": "markdown",
   "metadata": {},
   "source": [
    "### Exercise"
   ]
  },
  {
   "cell_type": "markdown",
   "metadata": {},
   "source": [
    "1. In your `my_functions.py` file, create a function that defines the matrix $\\mathbf{A}$. The function must receive three arguments: an 1D array or list containing the indices of the start stations, an 1D array or list containing the indices of the end stations\n",
    "Simulate the simple gravity network represented above. First, simulate the parameter vector $\\mathbf{g}$ containing the gravity values at all nodes.\n",
    "\n",
    "2. Create the matrix $\\mathbf{A}$ and the data vector $\\mathbf{d}$.\n",
    "\n",
    "3. Create a function `grav_net` that receives $\\mathbf{A}$ and $\\mathbf{d}$ and returns the estimated parameter vector $\\mathbf{g}$ by applying the Least Squares Estimator. Use your previously implemented functions for calculating any matrix operation and/or solving any linear system.\n",
    "\n",
    "4. Use the `code-template.ipynb` and compare the estimated parameter vector with the simulated parameter vector by using the routine  `numpy.allclose`."
   ]
  },
  {
   "cell_type": "markdown",
   "metadata": {},
   "source": [
    "#### Simulating a simple gravity network"
   ]
  },
  {
   "cell_type": "markdown",
   "metadata": {},
   "source": [
    "The cell below uses the routine [`numpy.random.normal`](http://docs.scipy.org/doc/numpy/reference/generated/numpy.random.normal.html) for simulating the parameter vector containing the gravity values at all nodes of our simple gravity network."
   ]
  },
  {
   "cell_type": "code",
   "execution_count": 1,
   "metadata": {
    "collapsed": true
   },
   "outputs": [],
   "source": [
    "import numpy as np\n",
    "from scipy.spatial import Delaunay\n",
    "import matplotlib.pyplot as plt"
   ]
  },
  {
   "cell_type": "code",
   "execution_count": 2,
   "metadata": {
    "collapsed": true
   },
   "outputs": [],
   "source": [
    "def triangles_area(nodes, vertices):\n",
    "    areas = []\n",
    "    for v0, v1, v2 in nodes[vertices]:\n",
    "        v01 = v1 - v0\n",
    "        v02 = v2 - v0\n",
    "        # compute the area of the triangle\n",
    "        areas.append(np.cross(v01, v02))\n",
    "    areas = np.array(areas)\n",
    "    return areas"
   ]
  },
  {
   "cell_type": "code",
   "execution_count": 3,
   "metadata": {},
   "outputs": [],
   "source": [
    "# gravity reference value in mGal\n",
    "g0 = 979000.0\n",
    "\n",
    "# gravity variation in mGal\n",
    "delta_g = 200.0\n",
    "\n",
    "# number of nodes\n",
    "N = 15\n",
    "\n",
    "# true gravity values\n",
    "g = g0 + np.random.normal(loc=0., scale=delta_g, size=N)\n",
    "\n",
    "# station labels\n",
    "stations_ID = np.arange(N)"
   ]
  },
  {
   "cell_type": "code",
   "execution_count": 4,
   "metadata": {
    "collapsed": true
   },
   "outputs": [],
   "source": [
    "# coordinates (in degrees)\n",
    "longitude = -49. - 5*np.random.rand(N)\n",
    "latitude = -23. - 4*np.random.rand(N)"
   ]
  },
  {
   "cell_type": "code",
   "execution_count": 5,
   "metadata": {},
   "outputs": [],
   "source": [
    "# nodes\n",
    "nodes = np.vstack([longitude, latitude]).T\n",
    "\n",
    "# connections os the network\n",
    "triangles = Delaunay(nodes)"
   ]
  },
  {
   "cell_type": "code",
   "execution_count": 6,
   "metadata": {
    "collapsed": true
   },
   "outputs": [],
   "source": [
    "areas = triangles_area(nodes, triangles.vertices)\n",
    "cutoff_min = np.min(areas) + 0.1*(np.max(areas) - np.min(areas))\n",
    "cutoff_max = np.max(areas) - 0.1*(np.max(areas) - np.min(areas))"
   ]
  },
  {
   "cell_type": "code",
   "execution_count": 7,
   "metadata": {},
   "outputs": [],
   "source": [
    "mask = (areas > cutoff_min) & (areas < cutoff_max)"
   ]
  },
  {
   "cell_type": "code",
   "execution_count": 9,
   "metadata": {},
   "outputs": [
    {
     "data": {
      "image/png": "[encoded data removed]",
      "text/plain": [
       "<matplotlib.figure.Figure at 0x7f6bf4474a50>"
      ]
     },
     "metadata": {},
     "output_type": "display_data"
    }
   ],
   "source": [
    "plt.close('all')\n",
    "plt.figure()\n",
    "plt.triplot(nodes[:,0], nodes[:,1], triangles.simplices[mask], 'k--')\n",
    "plt.plot(nodes[:,0], nodes[:,1], 'ro', label='nodes')\n",
    "plt.legend(loc = 'best')\n",
    "plt.xlabel('longitude')\n",
    "plt.ylabel('latitude')\n",
    "plt.show()"
   ]
  },
  {
   "cell_type": "code",
   "execution_count": null,
   "metadata": {
    "collapsed": true
   },
   "outputs": [],
   "source": []
  }
 ],
 "metadata": {
  "kernelspec": {
   "display_name": "Python 2",
   "language": "python",
   "name": "python2"
  },
  "language_info": {
   "codemirror_mode": {
    "name": "ipython",
    "version": 2
   },
   "file_extension": ".py",
   "mimetype": "text/x-python",
   "name": "python",
   "nbconvert_exporter": "python",
   "pygments_lexer": "ipython2",
   "version": "2.7.13"
  }
 },
 "nbformat": 4,
 "nbformat_minor": 1
}
