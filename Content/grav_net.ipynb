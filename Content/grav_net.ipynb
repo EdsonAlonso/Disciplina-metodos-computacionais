{
 "cells": [
  {
   "cell_type": "markdown",
   "metadata": {},
   "source": [
    "# Simple gravity network"
   ]
  },
  {
   "cell_type": "markdown",
   "metadata": {},
   "source": [
    "Consider the simple gravity network represented in the figure below:"
   ]
  },
  {
   "cell_type": "markdown",
   "metadata": {},
   "source": [
    "<img src='grav_net/grav_net.jpg', width=700>"
   ]
  },
  {
   "cell_type": "markdown",
   "metadata": {},
   "source": [
    "This network is formed by 6 nodes and 5 connections. The nodes represent points on the Earth's surface. Consider that, at each node $i$, $i = 0, \\dots, 5$, there is a gravity value $g_{i}$. Moreover, consider that the gravity values at the nodes $0$ and $5$ are known and that, on each connection (dashed lines), there is a differential gravity measurement $\\ell_{ij}$ defined by:\n",
    "\n",
    "$$\n",
    "\\ell_{ij} = g_{j} - g_{i} \\: , \\quad j \\ne i \\: ,\n",
    "$$\n",
    "\n",
    "where $g_{j}$ and $g_{i}$ are, respectively, the gravity values at positions $j$ and $i$."
   ]
  },
  {
   "cell_type": "markdown",
   "metadata": {},
   "source": [
    "In this case, we have the following equations for the differential gravity measurements:"
   ]
  },
  {
   "cell_type": "markdown",
   "metadata": {},
   "source": [
    "$$\n",
    "\\begin{split}\n",
    "\\ell_{01} &= g_{1} - g_{0} \\\\\n",
    "\\ell_{12} &= g_{2} - g_{1} \\\\\n",
    "\\ell_{25} &= g_{5} - g_{2} \\\\\n",
    "\\ell_{34} &= g_{4} - g_{3} \\\\\n",
    "\\ell_{23} &= g_{3} - g_{2}\n",
    "\\end{split} \\: ,\n",
    "$$"
   ]
  },
  {
   "cell_type": "markdown",
   "metadata": {},
   "source": [
    "and the following equations for the known gravity values:"
   ]
  },
  {
   "cell_type": "markdown",
   "metadata": {},
   "source": [
    "$$\n",
    "\\begin{split}\n",
    "g_{0} &= \\tilde{g}_{0} \\\\\n",
    "g_{5} &= \\tilde{g}_{5}\n",
    "\\end{split} \\: ,\n",
    "$$"
   ]
  },
  {
   "cell_type": "markdown",
   "metadata": {},
   "source": [
    "where $\\tilde{g}_{0}$ and $\\tilde{g}_{5}$ represent, respectively, the absolute gravity values measured at the nodes $0$ and $5$."
   ]
  },
  {
   "cell_type": "markdown",
   "metadata": {},
   "source": [
    "Let's define a vector $\\mathbf{g}$ containing the gravity values at each node (the parameter vector),"
   ]
  },
  {
   "cell_type": "markdown",
   "metadata": {},
   "source": [
    "$$\n",
    "\\mathbf{g} = \\left[ \\begin{array}{c}\n",
    "g_{0} \\\\\n",
    "g_{1} \\\\\n",
    "g_{2} \\\\\n",
    "g_{3} \\\\\n",
    "g_{4} \\\\\n",
    "g_{5}\n",
    "\\end{array} \\right] \\: ,\n",
    "$$"
   ]
  },
  {
   "cell_type": "markdown",
   "metadata": {},
   "source": [
    "and a vector $\\mathbf{d}$ containing the data (the observed data vector),"
   ]
  },
  {
   "cell_type": "markdown",
   "metadata": {},
   "source": [
    "$$\n",
    "\\mathbf{d} = \\left[ \\begin{array}{c}\n",
    "\\ell_{01} \\\\\n",
    "\\ell_{12} \\\\\n",
    "\\ell_{25} \\\\\n",
    "\\ell_{34} \\\\\n",
    "\\ell_{23} \\\\\n",
    "\\tilde{g}_{0} \\\\\n",
    "\\tilde{g}_{5}\n",
    "\\end{array} \\right] \\: .\n",
    "$$"
   ]
  },
  {
   "cell_type": "markdown",
   "metadata": {},
   "source": [
    "Besides, let's consider that:\n",
    "\n",
    "i. all gravity differences have the same variance $\\sigma_{\\ell}^{2}$;\n",
    "ii. all absolute gravity values have the same variance $\\sigma_{\\tilde{g}}^{2}$ and\n",
    "iii. the data are statistically uncorrelated.\n",
    "\n",
    "In this case, it is possible to estimate the particular parameter vector $\\mathbf{g}^{\\ast}$ minimizing the goal function:\n",
    "\n",
    "$$\n",
    "\\Phi(\\mathbf{g}) = \\left[\\mathbf{d} - \\mathbf{A \\, g} \\right]^{\\top}\\mathbf{W}\\left[\\mathbf{d} - \\mathbf{A \\, g} \\right] \\: ,\n",
    "$$\n",
    "\n",
    "where $\\mathbf{W}$ is a diagonal matrix given by\n",
    "\n",
    "$$\n",
    "\\mathbf{W} =\n",
    "\\begin{bmatrix}\n",
    "\\sigma_{\\ell}^{-2} & 0 & 0 & 0 & 0 & 0 & 0 \\\\\n",
    "0 & \\sigma_{\\ell}^{-2} & 0 & 0 & 0 & 0 & 0 \\\\\n",
    "0 & 0 & \\sigma_{\\ell}^{-2} & 0 & 0 & 0 & 0 \\\\\n",
    "0 & 0 & 0 & \\sigma_{\\ell}^{-2} & 0 & 0 & 0 \\\\\n",
    "0 & 0 & 0 & 0 & \\sigma_{\\ell}^{-2} & 0 & 0 \\\\\n",
    "0 & 0 & 0 & 0 & 0 & \\sigma_{\\tilde{g}}^{-2} & 0 \\\\\n",
    "0 & 0 & 0 & 0 & 0 & 0 & \\sigma_{\\tilde{g}}^{-2}\n",
    "\\end{bmatrix} \\: .\n",
    "$$\n",
    "\n",
    "The particular parameter vector $\\mathbf{g}^{\\ast}$ satisfies the condition:\n",
    "\n",
    "$$\n",
    "\\nabla \\Phi(\\mathbf{g}^{\\ast}) = \\mathbf{0} \\: .\n",
    "$$\n",
    "\n",
    "The gradient of $\\Phi(\\mathbf{g})$ with respect to $\\mathbf{g}$ is given by:\n",
    "\n",
    "$$\n",
    "\\nabla \\Phi(\\mathbf{g}) = -2 \\, \\mathbf{A}^{\\top}\\mathbf{W}\\left[\\mathbf{d} - \\mathbf{A} \\mathbf{g} \\right] \\: .\n",
    "$$\n",
    "\n",
    "By substituting $\\mathbf{g}^{\\ast}$ in the equation above and setting the result to the null vector we obtain the following linear system:\n",
    "\n",
    "$$\n",
    "\\mathbf{A}^{\\top}\\mathbf{W}\\mathbf{A} \\, \\mathbf{g}^{\\ast} = \\mathbf{A}^{\\top}\\mathbf{W} \\; \\mathbf{d} \\: .\n",
    "$$\n",
    "\n",
    "The solution of this linear system gives the gravity values at all nodes of our simple gravity network. This is an example of the **weighted least-squares estimator**, where $\\mathbf{W}$ is the **weighting matrix**."
   ]
  },
  {
   "cell_type": "markdown",
   "metadata": {},
   "source": [
    "According to the [previous class](https://nbviewer.jupyter.org/github/birocoles/Disciplina-metodos-computacionais/blob/master/Content/least_squares.ipynb), we may compute the covariance matrix $\\mathbf{\\Sigma}_{\\mathbf{g}}$ of the parameter vector as follows:\n",
    "\n",
    "$$\n",
    "\\mathbf{\\Sigma}_{\\mathbf{g}} = \\left( \\mathbf{A}^{\\top}\\mathbf{W}\\mathbf{A} \\right)^{-1} \\mathbf{A}^{\\top}\\mathbf{W}\n",
    "\\, \\mathbf{\\Sigma}_{\\mathbf{d}} \\,\n",
    "\\mathbf{W} \\mathbf{A} \\left( \\mathbf{A}^{\\top}\\mathbf{W}\\mathbf{A} \\right)^{-1} \\: ,\n",
    "$$\n",
    "\n",
    "where $\\mathbf{\\Sigma}_{\\mathbf{d}}$ is covariance matrix of $\\mathbf{d}$. Note that $\\mathbf{\\Sigma}_{\\mathbf{d}}$ represents the inverse of the weighting matrix $\\mathbf{W}$. Consequently,\n",
    "\n",
    "$$\n",
    "\\mathbf{\\Sigma}_{\\mathbf{g}} = \\left( \\mathbf{A}^{\\top}\\mathbf{W}\\mathbf{A} \\right)^{-1} \\: .\n",
    "$$\n",
    "\n",
    "Then, we may use the diagonal elements of $\\mathbf{\\Sigma}_{\\mathbf{g}}$ to determine the standard deviation of the estimated parameters."
   ]
  },
  {
   "cell_type": "markdown",
   "metadata": {},
   "source": [
    "### Exercise"
   ]
  },
  {
   "cell_type": "markdown",
   "metadata": {},
   "source": [
    "The cells below simulate differential and absolute gravity measurements."
   ]
  },
  {
   "cell_type": "code",
   "execution_count": 1,
   "metadata": {
    "collapsed": true
   },
   "outputs": [],
   "source": [
    "import numpy as np"
   ]
  },
  {
   "cell_type": "code",
   "execution_count": 11,
   "metadata": {},
   "outputs": [],
   "source": [
    "# number of nodes\n",
    "N = 6\n",
    "\n",
    "# reference gravity value in mGal\n",
    "g_ref = 978163.000\n",
    "\n",
    "# true gravity values at each node\n",
    "g_true = g_ref + 200.*np.random.rand(N)\n",
    "\n",
    "# indices of the stations gi and gj\n",
    "# used to compute the gravity differences\n",
    "i = [0, 1, 2, 3, 2]\n",
    "j = [1, 2, 5, 4, 3]\n",
    "\n",
    "# true gravity differences\n",
    "l_true = g_true[j] - g_true[i]\n",
    "\n",
    "# true absolute gravity values\n",
    "g_abs_true = g_true[[0, 5]]\n",
    "\n",
    "# Variance of the absolute gravity data in (mGal)**2\n",
    "var_g_abs = 0.008\n",
    "\n",
    "# Variance of the differential gravity data in (mGal)**2\n",
    "var_l = 0.030\n",
    "\n",
    "# noise-corrupted data\n",
    "l = np.round(l_true + np.random.normal(loc=0., scale=np.sqrt(var_l), size=l_true.size), decimals=3)\n",
    "g_abs = np.round(g_abs_true + np.random.normal(loc=0., scale=np.sqrt(var_g_abs), size=g_abs_true.size), decimals=3)"
   ]
  },
  {
   "cell_type": "markdown",
   "metadata": {},
   "source": [
    "By using the data set given above, estimate the gravity values at all nodes of our simple gravity network. To do it,\n",
    "\n",
    "1. Create the matrix $\\mathbf{A}$ by using the indices `i` and `j`;\n",
    "2. Create the data vector $\\mathbf{d}$ by using the arrays `l` and `g`;\n",
    "3. Create the weighting matrix $\\mathbf{W}$ by using the variances `var_g_abs` and `var_l`;\n",
    "4. Solve the linear system $\\mathbf{A}^{\\top}\\mathbf{W A} \\, \\mathbf{g}^{\\ast} = \\mathbf{A}^{\\top}\\mathbf{W} \\mathbf{d}$. You must use your previous functions for solving the linear system and compute all matrix operations;\n",
    "5. Compute the covariance matrix $\\mathbf{\\Sigma_{g}}$ and use it to compute the standard deviation of the estimated gravity values. "
   ]
  }
 ],
 "metadata": {
  "kernelspec": {
   "display_name": "Python 2",
   "language": "python",
   "name": "python2"
  },
  "language_info": {
   "codemirror_mode": {
    "name": "ipython",
    "version": 2
   },
   "file_extension": ".py",
   "mimetype": "text/x-python",
   "name": "python",
   "nbconvert_exporter": "python",
   "pygments_lexer": "ipython2",
   "version": "2.7.13"
  }
 },
 "nbformat": 4,
 "nbformat_minor": 1
}
