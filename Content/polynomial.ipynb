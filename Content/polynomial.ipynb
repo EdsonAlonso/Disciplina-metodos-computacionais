{
 "cells": [
  {
   "cell_type": "markdown",
   "metadata": {},
   "source": [
    "# Polynomial fitting"
   ]
  },
  {
   "cell_type": "code",
   "execution_count": 1,
   "metadata": {},
   "outputs": [],
   "source": [
    "#used for inserting images\n",
    "from IPython.display import Image as img\n",
    "\n",
    "import numpy as np"
   ]
  },
  {
   "cell_type": "code",
   "execution_count": 2,
   "metadata": {},
   "outputs": [],
   "source": [
    "from numpy.polynomial.polynomial import polyvander, polyvander2d"
   ]
  },
  {
   "cell_type": "markdown",
   "metadata": {},
   "source": [
    "#### Example of the routine [`numpy.polynomial.polynomial.polyvander`](https://docs.scipy.org/doc/numpy-1.14.0/reference/generated/numpy.polynomial.polynomial.polyvander.html)"
   ]
  },
  {
   "cell_type": "code",
   "execution_count": 3,
   "metadata": {},
   "outputs": [],
   "source": [
    "x = np.arange(1, 5)\n",
    "degree = 3"
   ]
  },
  {
   "cell_type": "code",
   "execution_count": 6,
   "metadata": {},
   "outputs": [
    {
     "name": "stdout",
     "output_type": "stream",
     "text": [
      "[1 2 3 4]\n"
     ]
    }
   ],
   "source": [
    "print(x)"
   ]
  },
  {
   "cell_type": "code",
   "execution_count": 5,
   "metadata": {},
   "outputs": [
    {
     "name": "stdout",
     "output_type": "stream",
     "text": [
      "[[ 1.  1.  1.  1.]\n",
      " [ 1.  2.  4.  8.]\n",
      " [ 1.  3.  9. 27.]\n",
      " [ 1.  4. 16. 64.]]\n"
     ]
    }
   ],
   "source": [
    "print(polyvander(x, degree))"
   ]
  },
  {
   "cell_type": "markdown",
   "metadata": {},
   "source": [
    "The matrix in the cell above is used in the 1D polynomial fitting."
   ]
  },
  {
   "cell_type": "markdown",
   "metadata": {},
   "source": [
    "#### Example of the routine [`numpy.polynomial.polynomial.polyvander2d`](https://docs.scipy.org/doc/numpy-1.14.0/reference/generated/numpy.polynomial.polynomial.polyvander2d.html)"
   ]
  },
  {
   "cell_type": "code",
   "execution_count": 7,
   "metadata": {},
   "outputs": [],
   "source": [
    "x, y = np.meshgrid(np.arange(1, 5), np.arange(2, 6))\n",
    "x = np.ravel(x)\n",
    "y = np.ravel(y)"
   ]
  },
  {
   "cell_type": "code",
   "execution_count": 8,
   "metadata": {},
   "outputs": [
    {
     "name": "stdout",
     "output_type": "stream",
     "text": [
      "[1 2 3 4 1 2 3 4 1 2 3 4 1 2 3 4]\n",
      "[2 2 2 2 3 3 3 3 4 4 4 4 5 5 5 5]\n"
     ]
    }
   ],
   "source": [
    "print(x)\n",
    "print(y)"
   ]
  },
  {
   "cell_type": "code",
   "execution_count": 9,
   "metadata": {},
   "outputs": [],
   "source": [
    "degreex = 2 # maximum degree in x\n",
    "degreey = 2 # maximum degree in y"
   ]
  },
  {
   "cell_type": "code",
   "execution_count": 10,
   "metadata": {},
   "outputs": [
    {
     "name": "stdout",
     "output_type": "stream",
     "text": [
      "[[  1.   2.   4.   1.   2.   4.   1.   2.   4.]\n",
      " [  1.   2.   4.   2.   4.   8.   4.   8.  16.]\n",
      " [  1.   2.   4.   3.   6.  12.   9.  18.  36.]\n",
      " [  1.   2.   4.   4.   8.  16.  16.  32.  64.]\n",
      " [  1.   3.   9.   1.   3.   9.   1.   3.   9.]\n",
      " [  1.   3.   9.   2.   6.  18.   4.  12.  36.]\n",
      " [  1.   3.   9.   3.   9.  27.   9.  27.  81.]\n",
      " [  1.   3.   9.   4.  12.  36.  16.  48. 144.]\n",
      " [  1.   4.  16.   1.   4.  16.   1.   4.  16.]\n",
      " [  1.   4.  16.   2.   8.  32.   4.  16.  64.]\n",
      " [  1.   4.  16.   3.  12.  48.   9.  36. 144.]\n",
      " [  1.   4.  16.   4.  16.  64.  16.  64. 256.]\n",
      " [  1.   5.  25.   1.   5.  25.   1.   5.  25.]\n",
      " [  1.   5.  25.   2.  10.  50.   4.  20. 100.]\n",
      " [  1.   5.  25.   3.  15.  75.   9.  45. 225.]\n",
      " [  1.   5.  25.   4.  20. 100.  16.  80. 400.]]\n"
     ]
    }
   ],
   "source": [
    "print(polyvander2d(x, y, [degreex, degreey]))"
   ]
  },
  {
   "cell_type": "markdown",
   "metadata": {},
   "source": [
    "The matrix in the cell above is used in the 2D polynomial fitting."
   ]
  },
  {
   "cell_type": "markdown",
   "metadata": {},
   "source": [
    "### Exercise for 1D polynomials"
   ]
  },
  {
   "cell_type": "markdown",
   "metadata": {},
   "source": [
    "In your `my_functions.py` file,\n",
    "\n",
    "1. create a function called `pol1d_matrix` to calculate the matrix `A` associated with an 1D polynomial od degree `D`. The function must receive the data coordinates `x` and the degree `D` and return the matrix `A` used in the polynomial fitting. \n",
    "\n",
    "2. create a function `pol1d_coeffs` to estimate the coefficients of a 1D polynomial that fits a given dataset. The function must receive the data coordinates `x`, the degree `D` of the polynomial and the 1d-array containing the data `y`. The function must return a 1D-array `p` containing the coefficients of the polynomial. Use the function `pol1d_matrix` and your previous functions for calculating the matrix operations and solving the linear system.\n",
    "\n",
    "3. create a function `pol1d_interpol` to interpolate data. The function must receive the interpolating points `x0` and the 1D-array of coefficients `p` calculated with the function `pol1d_coeffs` and return a 1D-array containing the interpolated points. Use the function `pol1d_matrix` and your previous functions for calculating the matrix operations.\n",
    "\n",
    "In your `test_my_functions.py`, \n",
    "\n",
    "4. create a test to compare the result produced by `pol1d_matrix` and that produced by the routine [`numpy.polynomial.polynomial.polyvander`](https://docs.scipy.org/doc/numpy-1.14.0/reference/generated/numpy.polynomial.polynomial.polyvander.html) (See the example above).\n",
    "\n",
    "5. create a test for function `pol1d_coeffs`. This test must simulate data produced by a known polynomial and use these data to estimate the coefficients of the polynomial with your function `pol1d_coeffs`.\n",
    "\n",
    "In a `Jupyter Notebook`,\n",
    "\n",
    "6. Simulate data `d` produced by a given 1D polynomial at irregularly spaced points `x`. Simulate data `d_regular` produced by the same 1D polynomial at regularly spaced points `x_regular`. Use your function `pol1d_interpol` to estimate the coefficients of the polynomial by using the irregularly spaced data `d`. Use your function `pol1d_interpol` to interpolate data at the regularly spaced points `x_regular`. Plot the interpolated data obtained with your function `pol1d_interpol` and the true data set `d_regular`."
   ]
  },
  {
   "cell_type": "markdown",
   "metadata": {},
   "source": [
    "### Exercise for 2D polynomials"
   ]
  },
  {
   "cell_type": "markdown",
   "metadata": {},
   "source": [
    "In your `my_functions.py` file,\n",
    "\n",
    "1. create a function called `pol2d_matrix` to calculate the matrix `A` associated with an 1D polynomial od degree `D`. The function must receive the data coordinates `x` and `y`, the maximum degrees `Dx` and `Dy` and return the matrix `A` used in the polynomial fitting. \n",
    "\n",
    "2. create a function `pol2d_coeffs` to estimate the coefficients of a 2D polynomial that fits a given dataset. The function must receive the data coordinates `x` and `y`, the maximum degrees `Dx` and `Dy` of the variables x and y and the **1D-array** containing the data `y`. The function must return a 1D-array `p` containing the coefficients of the polynomial. Use the function `pol1d_matrix` and your previous functions for calculating the matrix operations and solving the linear system.\n",
    "\n",
    "3. create a function `pol2d_interpol` to interpolate data. The function must receive the interpolating points `x0` and `y0` and the 1D-array of coefficients `p` calculated with the function `pol2d_coeffs` and return a **1D-array** containing the interpolated points. Use the function `pol2d_matrix` and your previous functions for calculating the matrix operations.\n",
    "\n",
    "In your `test_my_functions.py`, \n",
    "\n",
    "4. create a test to compare the result produced by `pol2d_matrix` and that produced by the routine [`numpy.polynomial.polynomial.polyvander2d`](https://docs.scipy.org/doc/numpy-1.14.0/reference/generated/numpy.polynomial.polynomial.polyvander2d.html) (See the example above).\n",
    "\n",
    "5. create a test for function `pol2d_coeffs`. This test must simulate data produced by a known polynomial and use these data to estimate the coefficients of the polynomial with your function `pol2d_coeffs`.\n",
    "\n",
    "In a `Jupyter Notebook`,\n",
    "\n",
    "6. Simulate data `d` produced by a given 2D polynomial at irregularly spaced points `x` and `y`. Simulate data `d_regular` produced by the same 2D polynomial at regularly spaced points `x_regular` and `y_regular`. Use your function `pol2d_interpol` to estimate the coefficients of the polynomial by using the irregularly spaced data `d`. Use your function `pol2d_interpol` to interpolate data at the regularly spaced points `x_regular` and `y_regular`. Plot the interpolated data obtained with your function `pol2d_interpol` and the true data set `d_regular`."
   ]
  },
  {
   "cell_type": "code",
   "execution_count": null,
   "metadata": {},
   "outputs": [],
   "source": []
  }
 ],
 "metadata": {
  "kernelspec": {
   "display_name": "Python 3",
   "language": "python",
   "name": "python3"
  },
  "language_info": {
   "codemirror_mode": {
    "name": "ipython",
    "version": 3
   },
   "file_extension": ".py",
   "mimetype": "text/x-python",
   "name": "python",
   "nbconvert_exporter": "python",
   "pygments_lexer": "ipython3",
   "version": "3.6.8"
  }
 },
 "nbformat": 4,
 "nbformat_minor": 1
}
