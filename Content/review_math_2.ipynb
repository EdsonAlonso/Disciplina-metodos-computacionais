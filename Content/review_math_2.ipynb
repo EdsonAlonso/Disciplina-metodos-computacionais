{
 "cells": [
  {
   "cell_type": "markdown",
   "metadata": {},
   "source": [
    "# Review of some matrix operations"
   ]
  },
  {
   "cell_type": "markdown",
   "metadata": {},
   "source": [
    "This notebook aims at presenting a simple review of some mathematical stuff we will need along the course. The content presented here is not an extended and rigorous review!"
   ]
  },
  {
   "cell_type": "markdown",
   "metadata": {},
   "source": [
    "### Topics\n",
    "\n",
    "* [Gradient of a scalar function](#grad_scalar)\n",
    "* [Taylor Series and Hessian of a scalar function](#taylor_series_hessian_scalar)\n",
    "* [Jacobian of a scalar function](#jacobian_scalar)"
   ]
  },
  {
   "cell_type": "markdown",
   "metadata": {},
   "source": [
    "<a id='grad_scalar'></a>\n",
    "### Gradient of a scalar function"
   ]
  },
  {
   "cell_type": "markdown",
   "metadata": {},
   "source": [
    "Let $f(\\mathbf{p})$ be a real valued function. Its <a href=\"https://mathworld.wolfram.com/Gradient.html\" target=\"_blank\">gradient</a> is given by:"
   ]
  },
  {
   "cell_type": "markdown",
   "metadata": {},
   "source": [
    "<a id='eq1'></a>\n",
    "\n",
    "$$\n",
    "\\nabla f(\\mathbf{p}) = \\begin{bmatrix}\n",
    "\\frac{\\partial \\, f(\\mathbf{p})}{\\partial \\, p_{0}} \\\\\n",
    "\\frac{\\partial \\, f(\\mathbf{p})}{\\partial \\, p_{1}} \\\\\n",
    "\\vdots \\\\\n",
    "\\frac{\\partial \\, f(\\mathbf{p})}{\\partial \\, p_{M-1}} \\\\\n",
    "\\end{bmatrix} \\quad . \\tag{1}\n",
    "$$"
   ]
  },
  {
   "cell_type": "markdown",
   "metadata": {},
   "source": [
    "<a id='taylor_series_hessian_scalar'></a>\n",
    "### Taylor Series and Hessian of a scalar function"
   ]
  },
  {
   "cell_type": "markdown",
   "metadata": {},
   "source": [
    "Let $\\Delta \\mathbf{p}$ be a small perturbation around $\\mathbf{p}_{0}$. The <a href=\"https://mathworld.wolfram.com/TaylorSeries.html\" target=\"_blank\">Taylor Series</a> of $f(\\mathbf{p})$ at $\\mathbf{p}_{0}$, up to second order, is given by:"
   ]
  },
  {
   "cell_type": "markdown",
   "metadata": {},
   "source": [
    "<a id='eq2a'></a>\n",
    "$$\n",
    "f(\\mathbf{p}_{0} + \\Delta \\mathbf{p}) \\approx f(\\mathbf{p}_{0}) + \\nabla f(\\mathbf{p}_{0})^{\\top} \\Delta \\mathbf{p} + \\frac{1}{2} \\Delta \\mathbf{p}^{\\top} \\mathbf{H}(\\mathbf{p}_{0}) \\, \\Delta \\mathbf{p} \\quad , \\tag{2a}\n",
    "$$"
   ]
  },
  {
   "cell_type": "markdown",
   "metadata": {},
   "source": [
    "where $\\mathbf{H}(\\mathbf{p}_{0})$ is the <a href=\"https://mathworld.wolfram.com/Hessian.html\" target=\"_blank\">Hessian</a> matrix"
   ]
  },
  {
   "cell_type": "markdown",
   "metadata": {},
   "source": [
    "<a id='eq2b'></a>\n",
    "$$\n",
    "\\mathbf{H}(\\mathbf{p}) = \\begin{bmatrix}\n",
    "\\frac{\\partial^{2} \\, f(\\mathbf{p})}{\\partial p_{0} \\partial p_{0}} & \\dots &\n",
    "\\frac{\\partial^{2} \\, f(\\mathbf{p})}{\\partial p_{0} \\partial p_{M-1}} \\\\\n",
    "\\vdots & \\ddots & \\vdots \\\\\n",
    "\\frac{\\partial^{2} \\, f(\\mathbf{p})}{\\partial p_{M-1} \\partial p_{0}} & \\dots &\n",
    "\\frac{\\partial^{2} \\, f(\\mathbf{p})}{\\partial p_{M-1} \\partial p_{M-1}} \\\\\n",
    "\\end{bmatrix} \\quad , \\tag{2b}\n",
    "$$"
   ]
  },
  {
   "cell_type": "markdown",
   "metadata": {},
   "source": [
    "evaluated at $\\mathbf{p}_{0}$."
   ]
  },
  {
   "cell_type": "markdown",
   "metadata": {},
   "source": [
    "<a id='jacobian_scalar'></a>\n",
    "### Jacobian of a scalar function"
   ]
  },
  {
   "cell_type": "markdown",
   "metadata": {},
   "source": [
    "Let $\\mathbf{f}(\\mathbf{p})$ be a vector function (equation 10 of the notebook `review_math_1`). Its <a href=\"https://mathworld.wolfram.com/Jacobian.html\" target=\"_blank\">Jacobian</a> is given by:"
   ]
  },
  {
   "cell_type": "markdown",
   "metadata": {},
   "source": [
    "<a id='eq3'></a>\n",
    "$$\n",
    "\\begin{split}\n",
    "\\mathbf{J}(\\mathbf{p}) \n",
    "&= \\begin{bmatrix}\n",
    "\\frac{\\partial \\, f_{0}(\\mathbf{p})}{\\partial \\, p_{0}} & \\dots &\n",
    "\\frac{\\partial \\, f_{0}(\\mathbf{p})}{\\partial \\, p_{M-1}} \\\\\n",
    "\\vdots & & \\vdots \\\\\n",
    "\\frac{\\partial \\, f_{N-1}(\\mathbf{p})}{\\partial \\, p_{0}} & \\dots &\n",
    "\\frac{\\partial \\, f_{N-1}(\\mathbf{p})}{\\partial \\, p_{M-1}} \\\\\n",
    "\\end{bmatrix} \\\\\n",
    "&= \\begin{bmatrix}\n",
    "\\nabla f_{0}(\\mathbf{p})^{\\top} \\\\\n",
    "\\vdots \\\\\n",
    "\\nabla f_{N-1}(\\mathbf{p})^{\\top} \\\\\n",
    "\\end{bmatrix}\n",
    "\\end{split} \\quad . \\tag{3}\n",
    "$$"
   ]
  },
  {
   "cell_type": "markdown",
   "metadata": {},
   "source": [
    "By computing the Taylor Series of a vector function $\\mathbf{f}(\\mathbf{p})$ (equation 10 of the notebook `review_math_1`), up to first order, around $\\mathbf{p}_{0}$, we obtain:"
   ]
  },
  {
   "cell_type": "markdown",
   "metadata": {},
   "source": [
    "<a id='eq4'></a>\n",
    "$$\n",
    "\\mathbf{f}(\\mathbf{p}_{0} + \\Delta \\mathbf{p}) \\approx \\mathbf{f}(\\mathbf{p}_{0}) + \\, \n",
    "\\mathbf{J}(\\mathbf{p}_{0}) \\, \\Delta \\mathbf{p} \\quad . \\tag{4}\n",
    "$$"
   ]
  },
  {
   "cell_type": "code",
   "execution_count": null,
   "metadata": {},
   "outputs": [],
   "source": []
  }
 ],
 "metadata": {
  "kernelspec": {
   "display_name": "Python 3",
   "language": "python",
   "name": "python3"
  },
  "language_info": {
   "codemirror_mode": {
    "name": "ipython",
    "version": 3
   },
   "file_extension": ".py",
   "mimetype": "text/x-python",
   "name": "python",
   "nbconvert_exporter": "python",
   "pygments_lexer": "ipython3",
   "version": "3.7.7"
  }
 },
 "nbformat": 4,
 "nbformat_minor": 2
}
