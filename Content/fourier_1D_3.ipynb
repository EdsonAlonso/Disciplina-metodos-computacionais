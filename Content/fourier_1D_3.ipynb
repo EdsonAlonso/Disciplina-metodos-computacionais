{
 "cells": [
  {
   "cell_type": "markdown",
   "metadata": {},
   "source": [
    "# 1D Fourier Transform - part 3"
   ]
  },
  {
   "cell_type": "code",
   "execution_count": 1,
   "metadata": {
    "collapsed": true
   },
   "outputs": [],
   "source": [
    "%matplotlib inline\n",
    "import numpy as np\n",
    "import matplotlib.pyplot as plt"
   ]
  },
  {
   "cell_type": "code",
   "execution_count": 2,
   "metadata": {
    "collapsed": true
   },
   "outputs": [],
   "source": [
    "import my_functions as mfun"
   ]
  },
  {
   "cell_type": "markdown",
   "metadata": {},
   "source": [
    "## Contents"
   ]
  },
  {
   "cell_type": "markdown",
   "metadata": {},
   "source": [
    "* [Functions with arbitrary period $T_{0}$](#sec1)\n",
    "\n",
    "\n",
    "* [New orthogonality relations for sine and cosine functions](#sec2)\n",
    "\n",
    "\n",
    "* [Fourier series defined as a combination of sines and cosines for functions with arbitrary period $T_{0}$](#sec3)\n",
    "\n",
    "\n",
    "* [New orthogonality relations for complex exponential functions](#sec4)\n",
    "\n",
    "\n",
    "* [Fourier series defined as a combination of complex exponentials for functions with arbitrary period $T_{0}$](#sec5)"
   ]
  },
  {
   "cell_type": "markdown",
   "metadata": {},
   "source": [
    "<a id='sec1'></a>\n",
    "## Functions with arbitrary period $T_{0}$"
   ]
  },
  {
   "cell_type": "markdown",
   "metadata": {},
   "source": [
    "In the previous classes, we have studied the Fourier series (equations [6](https://nbviewer.jupyter.org/github/birocoles/Disciplina-metodos-computacionais/blob/master/Content/fourier_1D_1.ipynb#eq6), [19a](https://nbviewer.jupyter.org/github/birocoles/Disciplina-metodos-computacionais/blob/master/Content/fourier_1D_2.ipynb#eq19a), and [20d](https://nbviewer.jupyter.org/github/birocoles/Disciplina-metodos-computacionais/blob/master/Content/fourier_1D_2.ipynb#eq20d)) of periodic functions with period $2 \\, \\pi$. These functions, however, can be transformed into functions with arbitrary period $T_{0}$ by changing variables. Consider, for example, a function $f(x)$ obtained by stacking sine functions:\n",
    "\n",
    "$$\n",
    "f(x) = \\sin(x) + \\sin(2x) + \\sin(3x)\n",
    "$$"
   ]
  },
  {
   "cell_type": "code",
   "execution_count": 3,
   "metadata": {
    "collapsed": true
   },
   "outputs": [],
   "source": [
    "x_min = -2.2*np.pi\n",
    "x_max = 2.5*np.pi\n",
    "\n",
    "x = np.linspace(x_min, x_max, 200)\n",
    "\n",
    "k = range(1,4)\n",
    "\n",
    "sine = np.zeros_like(x)\n",
    "\n",
    "for ki in k:\n",
    "    sine += np.sin(ki*x)"
   ]
  },
  {
   "cell_type": "code",
   "execution_count": 4,
   "metadata": {},
   "outputs": [
    {
     "data": {
      "image/png": "[encoded data removed]",
      "text/plain": [
       "<matplotlib.figure.Figure at 0xa6aada0>"
      ]
     },
     "metadata": {},
     "output_type": "display_data"
    }
   ],
   "source": [
    "mfun.g_T0(x, sine, 2.*np.pi)"
   ]
  },
  {
   "cell_type": "markdown",
   "metadata": {},
   "source": [
    "**<a id='fig1'>Figure 1</a>**: *Periodic function $f(x)$ obtained by stacking sine functions. The vertical lines are located at multiples of $2 \\, \\pi$.*"
   ]
  },
  {
   "cell_type": "markdown",
   "metadata": {},
   "source": [
    "This function is defined for a variable $x$ and has a period $2 \\, \\pi$, which means that:"
   ]
  },
  {
   "cell_type": "markdown",
   "metadata": {},
   "source": [
    "<a id='eq25'></a>\n",
    "\n",
    "$$\n",
    "f(x) = f(x + k \\, 2 \\, \\pi) \\: , \\tag{25}\n",
    "$$"
   ]
  },
  {
   "cell_type": "markdown",
   "metadata": {},
   "source": [
    "where $k$ is an integer. Consider a new variable $y$ given by:"
   ]
  },
  {
   "cell_type": "markdown",
   "metadata": {},
   "source": [
    "<a id='eq26a'></a>\n",
    "\n",
    "$$\n",
    "y = \\left( \\frac{T_{0}}{2 \\, \\pi} \\right) x \\quad , \\tag{26a}\n",
    "$$"
   ]
  },
  {
   "cell_type": "markdown",
   "metadata": {},
   "source": [
    "where $T_{0}$ is a positive real number."
   ]
  },
  {
   "cell_type": "code",
   "execution_count": 9,
   "metadata": {
    "collapsed": true
   },
   "outputs": [],
   "source": [
    "T0 = 4.\n",
    "y = (T0/(2.*np.pi))*x"
   ]
  },
  {
   "cell_type": "markdown",
   "metadata": {},
   "source": [
    "Now, consider the new periodic function given by:\n",
    "\n",
    "$$\n",
    "g \\left( y \\right) = \\sin \\left( \\frac{2 \\pi}{T_{0}} y \\right) +\n",
    "\\sin \\left( 2 \\frac{2 \\pi}{T_{0}} y \\right) + \\sin \\left( 3 \\frac{2 \\pi}{T_{0}} y \\right)\n",
    "$$"
   ]
  },
  {
   "cell_type": "code",
   "execution_count": 10,
   "metadata": {
    "collapsed": true
   },
   "outputs": [],
   "source": [
    "y_min = np.min(y)\n",
    "y_max = np.max(y)\n",
    "\n",
    "y = np.linspace(y_min, y_max, 200)\n",
    "\n",
    "sine_T0 = np.zeros_like(y)\n",
    "\n",
    "for ki in k:\n",
    "    sine_T0 += np.sin(ki*2.*np.pi*y/T0)"
   ]
  },
  {
   "cell_type": "code",
   "execution_count": 12,
   "metadata": {},
   "outputs": [
    {
     "data": {
      "image/png": "[encoded data removed]",
      "text/plain": [
       "<matplotlib.figure.Figure at 0xb6c75f8>"
      ]
     },
     "metadata": {},
     "output_type": "display_data"
    }
   ],
   "source": [
    "mfun.g_T0(y, sine_T0, T0)"
   ]
  },
  {
   "cell_type": "markdown",
   "metadata": {},
   "source": [
    "**<a id='fig2'>Figure 2</a>**: *Periodic function $g(y)$ obtained by stacking sine functions. The vertical lines are located at multiples of $T_{0} = 4$.*"
   ]
  },
  {
   "cell_type": "markdown",
   "metadata": {},
   "source": [
    "Notice that, although this new function $g(y)$ ([Figure 2](#fig2)) has the same shape as that shown in [Figure 1](#fig1), it has a different period $T_{0}$. This function satisfies the following condition: "
   ]
  },
  {
   "cell_type": "markdown",
   "metadata": {},
   "source": [
    "<a id='eq26b'></a>\n",
    "\n",
    "$$\n",
    "g(y) = g(y + k \\, T_{0}) \\: , \\tag{26b}\n",
    "$$"
   ]
  },
  {
   "cell_type": "markdown",
   "metadata": {},
   "source": [
    "where $k$ is an integer."
   ]
  },
  {
   "cell_type": "markdown",
   "metadata": {},
   "source": [
    "<a id='sec2'></a>\n",
    "## New orthogonality relations for sine and cosine functions"
   ]
  },
  {
   "cell_type": "markdown",
   "metadata": {},
   "source": [
    "From [equation 26a](#eq26a), we obtain:"
   ]
  },
  {
   "cell_type": "markdown",
   "metadata": {},
   "source": [
    "<a id='eq27a'></a>\n",
    "\n",
    "$$\n",
    "x = \\left( \\frac{2 \\, \\pi}{T_{0}} \\right) \\, y \\quad , \\tag{27a}\n",
    "$$"
   ]
  },
  {
   "cell_type": "markdown",
   "metadata": {},
   "source": [
    "<a id='eq27b'></a>\n",
    "\n",
    "$$\n",
    "dx = \\left( \\frac{2 \\, \\pi}{T_{0}} \\right) \\, dy \\quad , \\tag{27b}\n",
    "$$"
   ]
  },
  {
   "cell_type": "markdown",
   "metadata": {},
   "source": [
    "<a id='eq27c'></a>\n",
    "\n",
    "$$\n",
    "x = -\\pi \\quad \\Longrightarrow \\quad y = -\\frac{T_{0}}{2}\\quad , \\tag{27c}\n",
    "$$"
   ]
  },
  {
   "cell_type": "markdown",
   "metadata": {},
   "source": [
    "and"
   ]
  },
  {
   "cell_type": "markdown",
   "metadata": {},
   "source": [
    "<a id='eq27d'></a>\n",
    "\n",
    "$$\n",
    "x = \\pi \\quad \\Longrightarrow \\quad y = \\frac{T_{0}}{2}\\quad . \\tag{27d}\n",
    "$$"
   ]
  },
  {
   "cell_type": "markdown",
   "metadata": {},
   "source": [
    "Let $m$ and $n$ be integers, e. g., $m \\, , \\, n \\in \\mathbb{N}$. Based on equations [7](https://nbviewer.jupyter.org/github/birocoles/Disciplina-metodos-computacionais/blob/master/Content/fourier_1D_1.ipynb#eq7), [8](https://nbviewer.jupyter.org/github/birocoles/Disciplina-metodos-computacionais/blob/master/Content/fourier_1D_1.ipynb#eq8), and [9](https://nbviewer.jupyter.org/github/birocoles/Disciplina-metodos-computacionais/blob/master/Content/fourier_1D_1.ipynb#eq9), the new orthogonality relations between sine and cosine functions are given by:"
   ]
  },
  {
   "cell_type": "markdown",
   "metadata": {},
   "source": [
    "<a id='eq28'></a>\n",
    "\n",
    "$$\n",
    "\\int \\limits_{-\\frac{T_0}{2}}^{\\frac{T_0}{2}} \\sin \\left( m \\frac{2 \\, \\pi}{T_{0}} y\\right) \\\n",
    "\\sin \\left( n \\frac{2 \\, \\pi}{T_{0}} y\\right) \\; dy =\n",
    "\\int \\limits_{-\\pi}^{\\pi} \\sin \\left( m x \\right) \\\n",
    "\\sin \\left( n x \\right) \\, \\frac{T_{0}}{2 \\, \\pi} \\; dx =\n",
    "\\begin{cases} \\begin{split}\n",
    "\\frac{T_{0}}{2} \\: &, \\quad m = n \\\\ \n",
    "0 \\: &, \\quad m \\ne n\n",
    "\\end{split} \\end{cases} \\quad , \\tag{28}\n",
    "$$"
   ]
  },
  {
   "cell_type": "markdown",
   "metadata": {},
   "source": [
    "<a id='eq29'></a>\n",
    "\n",
    "$$\n",
    "\\int \\limits_{-\\frac{T_0}{2}}^{\\frac{T_0}{2}} \\cos \\left( m \\frac{2 \\, \\pi}{T_{0}} y\\right) \\\n",
    "\\cos \\left( n \\frac{2 \\, \\pi}{T_{0}} y\\right) \\; dy =\n",
    "\\int \\limits_{-\\pi}^{\\pi} \\cos \\left( m x \\right) \\\n",
    "\\cos \\left( n x \\right) \\, \\frac{T_{0}}{2 \\, \\pi} \\; dx =\n",
    "\\begin{cases} \\begin{split}\n",
    "T_{0} \\: &, \\quad m = n = 0 \\\\ \n",
    "\\frac{T_{0}}{2} \\: &, \\quad m = n \\ne 0 \\\\ \n",
    "0 \\: &, \\quad m \\ne n\n",
    "\\end{split} \\end{cases} \\quad , \\tag{29}\n",
    "$$"
   ]
  },
  {
   "cell_type": "markdown",
   "metadata": {},
   "source": [
    "and"
   ]
  },
  {
   "cell_type": "markdown",
   "metadata": {},
   "source": [
    "<a id='eq30'></a>\n",
    "\n",
    "$$\n",
    "\\int \\limits_{-\\frac{T_0}{2}}^{\\frac{T_0}{2}} \\sin \\left( m \\frac{2 \\, \\pi}{T_{0}} y\\right) \\\n",
    "\\cos \\left( n \\frac{2 \\, \\pi}{T_{0}} y\\right) \\; dy =\n",
    "\\int \\limits_{-\\pi}^{\\pi} \\sin \\left( m x \\right) \\\n",
    "\\cos \\left( n x \\right) \\, \\frac{T_{0}}{2 \\, \\pi} \\; dx = 0 \\quad . \\tag{30}\n",
    "$$"
   ]
  },
  {
   "cell_type": "markdown",
   "metadata": {},
   "source": [
    "<a id='sec3'></a>\n",
    "## Fourier series defined as a combination of sines and cosines for functions with arbitrary period $T_{0}$"
   ]
  },
  {
   "cell_type": "markdown",
   "metadata": {},
   "source": [
    "Let $g (y)$ be a function that is periodic over $\\left[ 0 \\, , \\, T_{0} \\right]$, e. g., $g(y) = g(y + k \\, T_{0})$, where $k$ is any integer, and satisfies the [Dirichlet conditions](https://en.wikipedia.org/wiki/Dirichlet_conditions) on this interval. In this case, $g(y)$ can be represented by an infinite series of sine and cosine functions given by"
   ]
  },
  {
   "cell_type": "markdown",
   "metadata": {},
   "source": [
    "<a id='eq31a'></a>\n",
    "\n",
    "$$\n",
    "g(y) = \\frac{a_{0}}{2} + \\sum \\limits_{n=1}^{N} \n",
    "\\underbrace{a_{n} \\cos \\left( n \\, 2 \\, \\pi \\, f_{0} \\, y \\right)}_{\\text{even functions}} + \n",
    "\\underbrace{b_{n} \\sin \\left( n \\, 2 \\, \\pi \\, f_{0} \\, y \\right)}_{\\text{odd functions}} \\: , \\quad N \\to \\infty \\: , \\tag{31a}\n",
    "$$"
   ]
  },
  {
   "cell_type": "markdown",
   "metadata": {},
   "source": [
    "where"
   ]
  },
  {
   "cell_type": "markdown",
   "metadata": {},
   "source": [
    "<a id='eq31b'></a>\n",
    "\n",
    "$$\n",
    "f_{0} = \\frac{1}{T_{0}} \\tag{31b}\n",
    "$$"
   ]
  },
  {
   "cell_type": "markdown",
   "metadata": {},
   "source": [
    "is the fundamental frequency,"
   ]
  },
  {
   "cell_type": "markdown",
   "metadata": {},
   "source": [
    "<a id='eq32'></a>\n",
    "\n",
    "$$\n",
    "a_{0} = \\frac{2}{T_{0}} \\int \\limits_{-\\frac{T_{0}}{2}}^{\\frac{T_{0}}{2}} g (y) \\, dy \\quad , \\tag{32}\n",
    "$$"
   ]
  },
  {
   "cell_type": "markdown",
   "metadata": {},
   "source": [
    "<a id='eq33'></a>\n",
    "\n",
    "$$\n",
    "a_{n} = \\frac{2}{T_{0}} \\int \\limits_{-\\frac{T_{0}}{2}}^{\\frac{T_{0}}{2}} \n",
    "\\cos \\left( n \\, 2 \\, \\pi \\, f_{0} \\, y \\right) \\, g (y) \\; dy \\quad , \\tag{33}\n",
    "$$"
   ]
  },
  {
   "cell_type": "markdown",
   "metadata": {},
   "source": [
    "and"
   ]
  },
  {
   "cell_type": "markdown",
   "metadata": {},
   "source": [
    "<a id='eq34'></a>\n",
    "\n",
    "$$\n",
    "b_{n} = \\frac{2}{T_{0}} \\int \\limits_{-\\frac{T_{0}}{2}}^{\\frac{T_{0}}{2}} \n",
    "\\sin \\left( n \\, 2 \\, \\pi \\, f_{0} \\, y \\right) \\, g (y) \\; dy \\quad . \\tag{34}\n",
    "$$"
   ]
  },
  {
   "cell_type": "markdown",
   "metadata": {},
   "source": [
    "<a id='sec4'></a>\n",
    "## New orthogonality relations for complex exponential functions"
   ]
  },
  {
   "cell_type": "markdown",
   "metadata": {},
   "source": [
    "Let $m$ and $n$ be integers, e. g., $m \\, , \\, n \\in \\mathbb{N}$. Based on equations [21a](https://nbviewer.jupyter.org/github/birocoles/Disciplina-metodos-computacionais/blob/master/Content/fourier_1D_2.ipynb#eq21a)$-$[22c](https://nbviewer.jupyter.org/github/birocoles/Disciplina-metodos-computacionais/blob/master/Content/fourier_1D_2.ipynb#eq22c), the new orthogonality relations between exponential functions are given by:"
   ]
  },
  {
   "cell_type": "markdown",
   "metadata": {},
   "source": [
    "<a id='eq35'></a>\n",
    "\n",
    "$$\n",
    "\\int \\limits_{-\\frac{T_{0}}{2}}^{\\frac{T_{0}}{2}} e^{\\, -i \\, n \\, 2 \\, \\pi \\, f_{0} \\, y } \\, e^{\\, i \\, n \\, 2 \\, \\pi \\, f_{0} \\, y} \\, dy = \n",
    "\\begin{cases} \\begin{split}\n",
    "T_{0} \\: &, \\quad m = n \\\\\n",
    "0 \\: &, \\quad m \\ne n \\\\\n",
    "\\end{split} \\end{cases} \\quad . \\tag{35}\n",
    "$$"
   ]
  },
  {
   "cell_type": "markdown",
   "metadata": {},
   "source": [
    "<a id='sec5'></a>\n",
    "## Fourier series defined as a combination of complex exponentials for functions with arbitrary period $T_{0}$"
   ]
  },
  {
   "cell_type": "markdown",
   "metadata": {},
   "source": [
    "<a id='eq36'></a>\n",
    "\n",
    "$$\n",
    "g(y) = \\sum \\limits_{n=-N}^{N} c_{n} \\, e^{\\, i \\, 2 \\, \\pi \\, n \\, f_{0} \\, y} \\: , \\quad \\text{for} \\; \n",
    "N \\to \\infty \\: , \\tag{36}\n",
    "$$"
   ]
  },
  {
   "cell_type": "markdown",
   "metadata": {},
   "source": [
    "<a id='eq37'></a>\n",
    "\n",
    "$$\n",
    "c_{n} = \\frac{1}{T_{0}} \\int \\limits_{-\\frac{T_{0}}{2}}^{\\frac{T_{0}}{2}} e^{\\, -i \\, 2 \\, \\pi \\, n \\, f_{0} \\, y} \\, g(y) \\; dy \\: . \\tag{37}\n",
    "$$"
   ]
  }
 ],
 "metadata": {
  "anaconda-cloud": {},
  "kernelspec": {
   "display_name": "Python 2",
   "language": "python",
   "name": "python2"
  },
  "language_info": {
   "codemirror_mode": {
    "name": "ipython",
    "version": 2
   },
   "file_extension": ".py",
   "mimetype": "text/x-python",
   "name": "python",
   "nbconvert_exporter": "python",
   "pygments_lexer": "ipython2",
   "version": "2.7.14"
  }
 },
 "nbformat": 4,
 "nbformat_minor": 1
}
