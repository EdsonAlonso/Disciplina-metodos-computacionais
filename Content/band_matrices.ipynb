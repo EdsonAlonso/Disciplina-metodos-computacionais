{
 "cells": [
  {
   "cell_type": "markdown",
   "metadata": {},
   "source": [
    "# Band matrices"
   ]
  },
  {
   "cell_type": "markdown",
   "metadata": {},
   "source": [
    "Let's consider the following $5 \\times 5$ matrix $\\mathbf{B}$:"
   ]
  },
  {
   "cell_type": "markdown",
   "metadata": {},
   "source": [
    "$$\\mathbf{B} \n",
    "= \\begin{bmatrix}\n",
    "b_{11} & b_{12} & b_{13} & 0 & 0 \\\\\n",
    "b_{21} & b_{22} & b_{23} & b_{24} & 0 \\\\\n",
    "0 & b_{32} & b_{33} & b_{34} & b_{35}  \\\\\n",
    "0 & 0 & b_{43} & b_{44} & b_{45} \\\\\n",
    "0 & 0 & 0 & b_{54} & b_{55}\n",
    "\\end{bmatrix} \\: .\n",
    "$$"
   ]
  },
  {
   "cell_type": "markdown",
   "metadata": {},
   "source": [
    "This matrix is called **band matrix** or **banded matrix**. In this example, the diagonals $k = -1, 0, 1, 2$ have non-null elements. The remaining diagonals have all elements equal to zero. The lower and upper limits of $k$ are defined as the *lower bandwidth* and *upper bandwidth* of $\\mathbf{B}$."
   ]
  },
  {
   "cell_type": "markdown",
   "metadata": {},
   "source": [
    "Similarly to the symmetric matrix $\\mathbf{S}$ (see the notebook `symmetric_matrices.ipynb`), we may store the non-null elements of $\\mathbf{B}$ in a single vector $\\mathbf{b}$ as follows:"
   ]
  },
  {
   "cell_type": "markdown",
   "metadata": {},
   "source": [
    "$$\n",
    "\\mathbf{b} = \\begin{bmatrix}\n",
    "b_{21} \\\\\n",
    "b_{32} \\\\\n",
    "b_{43} \\\\\n",
    "b_{54} \\\\\n",
    "b_{11} \\\\\n",
    "b_{22} \\\\\n",
    "b_{33} \\\\\n",
    "b_{44} \\\\\n",
    "\\vdots \\\\\n",
    "b_{24} \\\\\n",
    "b_{35}\n",
    "\\end{bmatrix}\n",
    "$$"
   ]
  },
  {
   "cell_type": "markdown",
   "metadata": {},
   "source": [
    "By using this vector, we can write the following pseudo-code for computing the product $\\mathbf{Bx}$:"
   ]
  },
  {
   "cell_type": "markdown",
   "metadata": {},
   "source": [
    "    for i = p:q\n",
    "        j1 =\n",
    "        j2 = \n",
    "        y += matvec_diagk_prod(b[j1:j2], i, x)"
   ]
  },
  {
   "cell_type": "markdown",
   "metadata": {},
   "source": [
    "where `j1` and `j2` are positive integers and `matvec_diagk_prod(s[j1:j2], i, x[:])` is the function created in the notebook `diagonal_matrices_part2.ipynb`."
   ]
  },
  {
   "cell_type": "markdown",
   "metadata": {},
   "source": [
    "### Exercise"
   ]
  },
  {
   "cell_type": "markdown",
   "metadata": {},
   "source": [
    "1. In your `my_functions.py` file, create a function called `matvec_band_opt_prod` for computing the product $\\mathbf{B} \\mathbf{x}$ according to the algorithm described above. Your function must receive the vector $\\mathbf{b}$ and the vector $\\mathbf{x}$.\n",
    "2. In your `test_my_functions.py` file, create two tests for the function `matvec_band_opt_prod`. One test must receive a specific input and compare the result obtained by `matvec_band_opt_prod` with an expected result. The other test must create the symmetric matrix $\\mathbf{B}$ by using the vector $\\mathbf{b}$. This test must compare the result produced by one of your previous functions developed in the notebook `matrix-vector.ipynb` and the result produced by the function `matvec_band_opt_prod`."
   ]
  }
 ],
 "metadata": {
  "anaconda-cloud": {},
  "kernelspec": {
   "display_name": "Python 3",
   "language": "python",
   "name": "python3"
  },
  "language_info": {
   "codemirror_mode": {
    "name": "ipython",
    "version": 3
   },
   "file_extension": ".py",
   "mimetype": "text/x-python",
   "name": "python",
   "nbconvert_exporter": "python",
   "pygments_lexer": "ipython3",
   "version": "3.6.8"
  }
 },
 "nbformat": 4,
 "nbformat_minor": 1
}
