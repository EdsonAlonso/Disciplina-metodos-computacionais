{
 "cells": [
  {
   "cell_type": "markdown",
   "metadata": {},
   "source": [
    "# Review of some matrix operations"
   ]
  },
  {
   "cell_type": "markdown",
   "metadata": {},
   "source": [
    "This notebook aims at presenting a simple review of some mathematical stuff we will need along the course. The content presented here is not an extended and rigorous review!"
   ]
  },
  {
   "cell_type": "markdown",
   "metadata": {},
   "source": [
    "<a id='Parameter_vector'></a>\n",
    "### Parameter vector"
   ]
  },
  {
   "cell_type": "markdown",
   "metadata": {},
   "source": [
    "Along the course, we will work with scalar and vector functions depending on a **parameter vector** $\\mathbf{p}$ defined as follows:"
   ]
  },
  {
   "cell_type": "markdown",
   "metadata": {},
   "source": [
    "<a id='eq1'></a>\n",
    "\n",
    "$$\n",
    "\\mathbf{p} = \\begin{bmatrix}\n",
    "p_{1} \\\\\n",
    "p_{2} \\\\\n",
    "\\vdots \\\\\n",
    "p_{M}\n",
    "\\end{bmatrix} \\: , \\tag{1}\n",
    "$$"
   ]
  },
  {
   "cell_type": "markdown",
   "metadata": {},
   "source": [
    "where $p_{j}$, $j = 1, \\dots, M$, are constants called **parameters**."
   ]
  },
  {
   "cell_type": "markdown",
   "metadata": {},
   "source": [
    "<a id='Scalar_functions'></a>\n",
    "### Scalar functions"
   ]
  },
  {
   "cell_type": "markdown",
   "metadata": {},
   "source": [
    "Given a parameter vector $\\mathbf{p}$, a scalar function $f(\\mathbf{p})$ returns a number. The following functions are examples of scalar functions:"
   ]
  },
  {
   "cell_type": "markdown",
   "metadata": {},
   "source": [
    "<a id='eq2'></a>\n",
    "$$\n",
    "f(\\mathbf{p}) = p_{1} + p_{2} \\, x + p_{3} \\, x^{2} \\: , \\tag{2}\n",
    "$$"
   ]
  },
  {
   "cell_type": "markdown",
   "metadata": {},
   "source": [
    "<a id='eq3'></a>\n",
    "$$\n",
    "f(\\mathbf{p}) = \\sin(p_{1} \\, t) + \\cos(3 \\, p_{2}) \\, \\exp^{\\, p_{3} \\, t} \\: , \\tag{3}\n",
    "$$"
   ]
  },
  {
   "cell_type": "markdown",
   "metadata": {},
   "source": [
    "<a id='eq4'></a>\n",
    "$$\n",
    "f(\\mathbf{p}) = \\frac{p_{1}}{\\left[ ( p_{2} \\, x )^{2} + (p_{3} \\, y)^{2} + (p_{4} \\, z)^{2} \\right]^{\\frac{1}{2}}} \\: . \\tag{4}\n",
    "$$"
   ]
  },
  {
   "cell_type": "markdown",
   "metadata": {},
   "source": [
    "In these examples, there are functions depending on spatial coordinates $x$, $y$, $z$, and time $t$. In general, we omit the dependence of $f$ on these variables and write just $f(\\mathbf{p})$. If we need to specify that $f$ is evaluated at a particular spatial coordinate $(x_{i}, y_{i}, z_{i})$ or time $t_{i}$, we use the subscript a subcript notation. Let's consider, for example, the two first functions presented above (equations [2](#eq2) and [3](#eq3)). By using the subscript notation, they are represented as follows:"
   ]
  },
  {
   "cell_type": "markdown",
   "metadata": {},
   "source": [
    "<a id='eq5'></a>\n",
    "$$\n",
    "f_{i}(\\mathbf{p}) = p_{1} + p_{2} \\, x_{i} + p_{3} \\, x_{i}^{2} \\: , \\tag{5}\n",
    "$$"
   ]
  },
  {
   "cell_type": "markdown",
   "metadata": {},
   "source": [
    "<a id='eq6'></a>\n",
    "$$\n",
    "f_{i}(\\mathbf{p}) = \\sin(p_{1} \\, t_{i}) + \\cos(3 \\, p_{2}) \\, \\exp^{\\, p_{3} \\, t_{i}} \\: . \\tag{6}\n",
    "$$"
   ]
  },
  {
   "cell_type": "markdown",
   "metadata": {},
   "source": [
    "It is worth noting that, in general, we consider that spatial coordinates $x$, $y$, $z$, and/or time $t$ are secondary variables with known values. The notation used here does not specify if $f$ depends on $x$, $y$, and $z$ or if it depends only on $x$, for example. The only unknown variables, in general, are the elements of the parameter vector $\\mathbf{p}$."
   ]
  },
  {
   "cell_type": "markdown",
   "metadata": {
    "collapsed": true
   },
   "source": [
    "<a id='Vector functions'></a>\n",
    "### Vector functions"
   ]
  },
  {
   "cell_type": "markdown",
   "metadata": {},
   "source": [
    "Given a parameter vector $\\mathbf{p}$, a vector function $\\mathbf{f}(\\mathbf{p})$ returns a vector. The following functions are examples of vector functions:"
   ]
  },
  {
   "cell_type": "markdown",
   "metadata": {},
   "source": [
    "<a id='eq7'></a>\n",
    "$$\n",
    "\\mathbf{f}(\\mathbf{p}) = \\begin{bmatrix}\n",
    "p_{1} + p_{2} \\, x_{1} + p_{3} \\, x_{1}^{2} \\\\\\\\\n",
    "p_{1} + p_{2} \\, x_{2} + p_{3} \\, x_{2}^{2} \\\\\\\\\n",
    "\\vdots \\\\\\\\\n",
    "p_{1} + p_{2} \\, x_{N} + p_{3} \\, x_{N}^{2}\n",
    "\\end{bmatrix} \\tag{7}\n",
    "$$"
   ]
  },
  {
   "cell_type": "markdown",
   "metadata": {},
   "source": [
    "<a id='eq8'></a>\n",
    "$$\n",
    "\\mathbf{f}(\\mathbf{p}) = \\begin{bmatrix}\n",
    "\\sin(p_{1} \\, t_{1}) + \\cos(3 \\, p_{2}) \\, \\exp^{\\, p_{3} \\, t_{1}} \\\\\\\\\n",
    "\\sin(p_{1} \\, t_{2}) + \\cos(3 \\, p_{2}) \\, \\exp^{\\, p_{3} \\, t_{2}} \\\\\\\\\n",
    "\\vdots \\\\\\\\\n",
    "\\sin(p_{1} \\, t_{N}) + \\cos(3 \\, p_{2}) \\, \\exp^{\\, p_{3} \\, t_{N}}\n",
    "\\end{bmatrix} \\tag{8}\n",
    "$$"
   ]
  },
  {
   "cell_type": "markdown",
   "metadata": {},
   "source": [
    "<a id='eq9'></a>\n",
    "$$\n",
    "\\mathbf{f}(\\mathbf{p}) = \\begin{bmatrix}\n",
    "\\frac{p_{1}}{\\left[ ( p_{2} \\, x_{1} )^{2} + (p_{3} \\, y_{1})^{2} + (p_{4} \\, z_{1})^{2} \\right]^{\\frac{1}{2}}} \\\\\\\\\n",
    "\\frac{p_{1}}{\\left[ ( p_{2} \\, x_{2} )^{2} + (p_{3} \\, y_{2})^{2} + (p_{4} \\, z_{2})^{2} \\right]^{\\frac{1}{2}}} \\\\\\\\\n",
    "\\vdots \\\\\\\\\n",
    "\\frac{p_{1}}{\\left[ ( p_{2} \\, x_{N} )^{2} + (p_{3} \\, y_{N})^{2} + (p_{4} \\, z_{N})^{2} \\right]^{\\frac{1}{2}}}\n",
    "\\end{bmatrix} \\: . \\tag{9}\n",
    "$$"
   ]
  },
  {
   "cell_type": "markdown",
   "metadata": {},
   "source": [
    "Similarly to the case of [Scalar functions](#Scalar_functions), we omit the dependence of $\\mathbf{f}$ on spatial coordinates $x$, $y$, $z$, and/or time $t$. Notice that, in all the examples given above, the elements of $\\mathbf{f}(\\mathbf{p})$ are defined by the same function evaluated at a different spatial coordinate $x_{i}$, $y_{i}$, $z_{i}$, and/or time $t_{i}$, $i = 1, \\dots, N$. Along the course, we will work with vector functions like these. In general, we use the subscript notation to define the elements of $\\mathbf{f}(\\mathbf{p})$. For example, let's consider the first vector function presented above (equation [7](#eq7)). By using the subscript notation, we represent this function as follows:"
   ]
  },
  {
   "cell_type": "markdown",
   "metadata": {},
   "source": [
    "<a id='eq10'></a>\n",
    "$$\n",
    "\\mathbf{f}(\\mathbf{p}) = \\begin{bmatrix}\n",
    "f_{1}(\\mathbf{p}) \\\\\n",
    "f_{2}(\\mathbf{p}) \\\\\n",
    "\\vdots \\\\\n",
    "f_{N}(\\mathbf{p})\n",
    "\\end{bmatrix} \\: , \\tag{10}\n",
    "$$"
   ]
  },
  {
   "cell_type": "markdown",
   "metadata": {},
   "source": [
    "where"
   ]
  },
  {
   "cell_type": "markdown",
   "metadata": {},
   "source": [
    "<a id='eq11'></a>\n",
    "$$\n",
    "f_{i}(\\mathbf{p}) = p_{1} + p_{2} \\, x_{i} + p_{3} \\, x_{i}^{2} \\: , \\quad i = 1, \\dots, N \\: . \\tag{11}\n",
    "$$"
   ]
  },
  {
   "cell_type": "markdown",
   "metadata": {},
   "source": [
    "<a id='Derivatives of scalar functions'></a>\n",
    "### Derivatives of scalar functions"
   ]
  },
  {
   "cell_type": "markdown",
   "metadata": {},
   "source": [
    "Frequently, we need to compute the first order partial derivative of a [Scalar function](#Scalar_functions) $f(\\mathbf{p})$ with respect to a given [parameter](#Parameter_vector) $p_{j}$, $j = 1, \\dots, M$. We represent this derivative as follows:"
   ]
  },
  {
   "cell_type": "markdown",
   "metadata": {},
   "source": [
    "<a id='eq12a'></a>\n",
    "$$\n",
    "\\frac{\\partial f(\\mathbf{p})}{\\partial p_{j}} \\tag{12a}\n",
    "$$"
   ]
  },
  {
   "cell_type": "markdown",
   "metadata": {},
   "source": [
    "or"
   ]
  },
  {
   "cell_type": "markdown",
   "metadata": {},
   "source": [
    "<a id='eq12b'></a>\n",
    "$$\n",
    "\\frac{\\partial f_{i}(\\mathbf{p})}{\\partial p_{j}} \\: . \\tag{12b}\n",
    "$$"
   ]
  },
  {
   "cell_type": "markdown",
   "metadata": {},
   "source": [
    "Similarly, an $n$th order derivative of $f(\\mathbf{p})$ is represented as follows:"
   ]
  },
  {
   "cell_type": "markdown",
   "metadata": {},
   "source": [
    "<a id='eq13a'></a>\n",
    "$$\n",
    "\\frac{\\partial^{2} f(\\mathbf{p})}{\\partial p_{1} \\partial p_{4}} \\: , \\quad n = 2 \\: , \\tag{13a}\n",
    "$$"
   ]
  },
  {
   "cell_type": "markdown",
   "metadata": {},
   "source": [
    "<a id='eq13b'></a>\n",
    "$$\n",
    "\\frac{\\partial^{3} f(\\mathbf{p})}{\\partial p_{2} \\partial p_{5} \\partial p_{6}} \\: , \\quad n = 3 \\: , \\tag{13b}\n",
    "$$"
   ]
  },
  {
   "cell_type": "markdown",
   "metadata": {},
   "source": [
    "or"
   ]
  },
  {
   "cell_type": "markdown",
   "metadata": {},
   "source": [
    "<a id='eq13c'></a>\n",
    "$$\n",
    "\\frac{\\partial^{5} f(\\mathbf{p})}{\\partial p_{2} \\partial p_{1} \\partial p_{5} \\partial p_{4} \\partial p_{6}} \\: , \\quad n = 5 \\: . \\tag{13c}\n",
    "$$"
   ]
  },
  {
   "cell_type": "markdown",
   "metadata": {},
   "source": [
    "Along the course, we will work with scalar functions $f(\\mathbf{p})$ whose derivatives can be computed in any order. For example, let's consider the derivative represented in equation [13b](#eq13b). We consider that $f(\\mathbf{p})$ satisfies the required conditions so that\n",
    "\n",
    "$$\n",
    "\\frac{\\partial^{3} f(\\mathbf{p})}{\\partial p_{2} \\partial p_{5} \\partial p_{6}} =\n",
    "\\frac{\\partial^{3} f(\\mathbf{p})}{\\partial p_{2} \\partial p_{6} \\partial p_{5}} = \n",
    "\\frac{\\partial^{3} f(\\mathbf{p})}{\\partial p_{6} \\partial p_{5} \\partial p_{2}} \\: .\n",
    "$$"
   ]
  },
  {
   "cell_type": "markdown",
   "metadata": {},
   "source": [
    "Let's consider some particular scalar and vector functions, as well as their partial derivatives with respect to the $j$th parameter $p_{j}$."
   ]
  },
  {
   "cell_type": "markdown",
   "metadata": {},
   "source": [
    "<a id='Derivative 1'></a>\n",
    "#### Derivative 1"
   ]
  },
  {
   "cell_type": "markdown",
   "metadata": {},
   "source": [
    "<a id='eq14a'></a>\n",
    "$$\n",
    "f(\\mathbf{p}) = \\mathbf{c}^{\\top}\\mathbf{p} \\: , \\tag{14a}\n",
    "$$"
   ]
  },
  {
   "cell_type": "markdown",
   "metadata": {},
   "source": [
    "<a id='eq14b'></a>\n",
    "$$\n",
    "\\frac{\\partial \\, f(\\mathbf{p})}{\\partial p_{j}} = \\mathbf{c}^{\\top}\\mathbf{u}_{j} \\: , \\tag{14b}\n",
    "$$"
   ]
  },
  {
   "cell_type": "markdown",
   "metadata": {},
   "source": [
    "where $\\mathbf{c}$ is a generic constant vector and $\\mathbf{u}_{j}$ is a vector with the $j$th element equal to $1$ and the remaining equal to $0$. It is represented as follows:"
   ]
  },
  {
   "cell_type": "markdown",
   "metadata": {},
   "source": [
    "<a id='eq15'></a>\n",
    "$$\n",
    "\\mathbf{u}_{j} = \\begin{bmatrix}\n",
    "0 \\\\\n",
    "\\vdots \\\\\n",
    "0 \\\\\n",
    "1 \\\\\n",
    "0 \\\\\n",
    "\\vdots \\\\\n",
    "0\n",
    "\\end{bmatrix} \\: . \\tag{15}\n",
    "$$"
   ]
  },
  {
   "cell_type": "markdown",
   "metadata": {
    "collapsed": true
   },
   "source": [
    "This vector is extremely import in the following developments."
   ]
  },
  {
   "cell_type": "markdown",
   "metadata": {},
   "source": [
    "<a id='Derivative 2'></a>\n",
    "#### Derivative 2"
   ]
  },
  {
   "cell_type": "markdown",
   "metadata": {},
   "source": [
    "<a id='eq16a'></a>\n",
    "$$\n",
    "f(\\mathbf{p}) = \\mathbf{p}^{\\top}\\mathbf{p} \\: , \\tag{16a}\n",
    "$$"
   ]
  },
  {
   "cell_type": "markdown",
   "metadata": {},
   "source": [
    "<a id='eq16b'></a>\n",
    "$$\n",
    "\\frac{\\partial \\, f(\\mathbf{p})}{\\partial p_{j}} = \n",
    "2 \\, \\mathbf{u}_{j}^{\\top}\\mathbf{p} \\: . \\tag{16b}\n",
    "$$"
   ]
  },
  {
   "cell_type": "markdown",
   "metadata": {},
   "source": [
    "<a id='Derivative_3'></a>\n",
    "#### Derivative 3"
   ]
  },
  {
   "cell_type": "markdown",
   "metadata": {},
   "source": [
    "<a id='eq17a'></a>\n",
    "$$\n",
    "\\mathbf{f}(\\mathbf{p}) = \\mathbf{A} \\, \\mathbf{p} \\: , \\tag{17a}\n",
    "$$"
   ]
  },
  {
   "cell_type": "markdown",
   "metadata": {},
   "source": [
    "<a id='eq17b'></a>\n",
    "$$\n",
    "\\frac{\\partial \\, \\mathbf{f}(\\mathbf{p})}{\\partial p_{j}} = \n",
    "\\mathbf{A}^{\\top}\\mathbf{u}_{j} \\: , \\tag{17b}\n",
    "$$"
   ]
  },
  {
   "cell_type": "markdown",
   "metadata": {},
   "source": [
    "where $\\mathbf{A}$ is a constant matrix."
   ]
  },
  {
   "cell_type": "markdown",
   "metadata": {},
   "source": [
    "<a id='Derivative 4'></a>\n",
    "#### Derivative 4"
   ]
  },
  {
   "cell_type": "markdown",
   "metadata": {},
   "source": [
    "<a id='eq18a'></a>\n",
    "$$\n",
    "f(\\mathbf{p}) = \\mathbf{p}^{\\top} \\mathbf{A}^{\\top} \\mathbf{A} \\, \\mathbf{p} \\: , \\tag{18a}\n",
    "$$"
   ]
  },
  {
   "cell_type": "markdown",
   "metadata": {},
   "source": [
    "<a id='eq17b'></a>\n",
    "$$\n",
    "\\frac{\\partial \\, f(\\mathbf{p})}{\\partial p_{j}} = \n",
    "2 \\, \\mathbf{u}_{j}^{\\top} \\mathbf{A}^{\\top} \\mathbf{A} \\, \\mathbf{p} \\: . \\tag{18b}\n",
    "$$"
   ]
  },
  {
   "cell_type": "markdown",
   "metadata": {},
   "source": [
    "<a id='Derivative 5'></a>\n",
    "#### Derivative 5"
   ]
  },
  {
   "cell_type": "markdown",
   "metadata": {},
   "source": [
    "<a id='eq19a'></a>\n",
    "$$\n",
    "\\mathbf{f}(\\mathbf{p}) = \\mathbf{d} - \\mathbf{A} \\, \\mathbf{p} \\: , \\tag{19a}\n",
    "$$"
   ]
  },
  {
   "cell_type": "markdown",
   "metadata": {},
   "source": [
    "<a id='eq19b'></a>\n",
    "$$\n",
    "\\frac{\\partial \\, \\mathbf{f}(\\mathbf{p})}{\\partial p_{j}} = \n",
    "-\\mathbf{A}^{\\top}\\mathbf{u}_{j} \\: . \\tag{19b}\n",
    "$$"
   ]
  },
  {
   "cell_type": "markdown",
   "metadata": {},
   "source": [
    "P.S.: Use the [Derivative 3](#Derivative_3)."
   ]
  },
  {
   "cell_type": "markdown",
   "metadata": {},
   "source": [
    "<a id='Derivative 6'></a>\n",
    "#### Derivative 6"
   ]
  },
  {
   "cell_type": "markdown",
   "metadata": {},
   "source": [
    "<a id='eq20a'></a>\n",
    "$$\n",
    "f(\\mathbf{p}) = \n",
    "\\left( \\mathbf{d} - \\mathbf{A} \\, \\mathbf{p} \\right)^{\\top}\n",
    "\\left( \\mathbf{d} - \\mathbf{A} \\, \\mathbf{p} \\right) \\: , \\tag{20a}\n",
    "$$"
   ]
  },
  {
   "cell_type": "markdown",
   "metadata": {},
   "source": [
    "<a id='eq20b'></a>\n",
    "$$\n",
    "\\frac{\\partial \\, f(\\mathbf{p})}{\\partial p_{j}} = \n",
    "-2 \\, \\mathbf{u}_{j}^{\\top} \\mathbf{A}^{\\top}\n",
    "\\left( \\mathbf{d} - \\mathbf{A} \\, \\mathbf{p} \\right) \\: . \\tag{20b}\n",
    "$$"
   ]
  }
 ],
 "metadata": {
  "kernelspec": {
   "display_name": "Python 3",
   "language": "python",
   "name": "python3"
  },
  "language_info": {
   "codemirror_mode": {
    "name": "ipython",
    "version": 3
   },
   "file_extension": ".py",
   "mimetype": "text/x-python",
   "name": "python",
   "nbconvert_exporter": "python",
   "pygments_lexer": "ipython3",
   "version": "3.6.8"
  }
 },
 "nbformat": 4,
 "nbformat_minor": 2
}
