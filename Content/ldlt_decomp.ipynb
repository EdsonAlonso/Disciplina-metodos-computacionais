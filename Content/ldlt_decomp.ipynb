{
 "cells": [
  {
   "cell_type": "markdown",
   "metadata": {},
   "source": [
    "# LDL<sup>T</sup> decomposition"
   ]
  },
  {
   "cell_type": "markdown",
   "metadata": {},
   "source": [
    "Consider a $N \\times N$ matrix $\\mathbf{A}$ that is symmetric and admits an LU decomposition, e.g., the matrix $\\mathbf{A}$ satisfies the following equations:"
   ]
  },
  {
   "cell_type": "markdown",
   "metadata": {},
   "source": [
    "$$\n",
    "\\begin{split}\n",
    "\\mathbf{A} &= \\mathbf{A}^{\\top} \\\\\n",
    "\\mathbf{A} &= \\mathbf{L} \\, \\mathbf{U}\n",
    "\\end{split}\\: .\n",
    "$$"
   ]
  },
  {
   "cell_type": "markdown",
   "metadata": {},
   "source": [
    "By considering the existence of the inverse $\\mathbf{L}^{-1}$, we may rewrite the equation above as follows:"
   ]
  },
  {
   "cell_type": "markdown",
   "metadata": {},
   "source": [
    "$$\n",
    "\\begin{split}\n",
    "\\mathbf{L}^{-1} \\, \\mathbf{A} &= \\mathbf{U} \\\\\n",
    "\\mathbf{L}^{-1} \\, \\mathbf{A} \\, \\mathbf{L}^{-\\top} &= \\mathbf{U} \\, \\mathbf{L}^{-\\top}\n",
    "\\end{split} \\: ,\n",
    "$$"
   ]
  },
  {
   "cell_type": "markdown",
   "metadata": {},
   "source": [
    "where $\\mathbf{L}^{-\\top} = \\left( \\mathbf{L}^{-1} \\right)^{\\top} = \\left( \\mathbf{L}^{\\top} \\right)^{-1}$. Notice that"
   ]
  },
  {
   "cell_type": "markdown",
   "metadata": {},
   "source": [
    "$$\n",
    "\\begin{split}\n",
    "\\left( \\mathbf{L}^{-1} \\, \\mathbf{A} \\, \\mathbf{L}^{-\\top} \\right)^{\\top} \n",
    "&= \\left( \\mathbf{L}^{-\\top} \\right)^{\\top} \\, \\mathbf{A}^{\\top} \\, \\left( \\mathbf{L}^{-1} \\right)^{\\top}\\\\\n",
    "&= \\left[ \\left( \\mathbf{L}^{-1} \\right)^{\\top} \\right]^{\\top} \\, \\mathbf{A} \\, \\mathbf{L}^{-\\top} \\\\\n",
    "&= \\mathbf{L}^{-1} \\, \\mathbf{A} \\, \\mathbf{L}^{-\\top}\n",
    "\\end{split} \\: ,\n",
    "$$"
   ]
  },
  {
   "cell_type": "markdown",
   "metadata": {},
   "source": [
    "which means that $\\mathbf{L}^{-1} \\, \\mathbf{A} \\, \\mathbf{L}^{-\\top}$ **and, consequently,** $\\mathbf{U} \\, \\mathbf{L}^{-\\top}$ **are symmetric matrices**. Now, let's analyze the matrix $\\mathbf{U} \\, \\mathbf{L}^{-\\top}$. First, consider two square matrices $\\mathbf{B}$ and $\\mathbf{C}$. Then, bear in mind that:\n",
    "\n",
    "1. If $\\mathbf{B}$ is upper (lower) triangular, then $\\mathbf{B}^{-1}$ is also upper (lower) triangular;\n",
    "\n",
    "2. If $\\mathbf{B}$ and $\\mathbf{C}$ are upper (lower) triangular, then $\\mathbf{BC}$ is also upper (lower) triangular;\n",
    "\n",
    "3. If $\\mathbf{B}$ is unit upper (lower) triangular, then $\\mathbf{B}^{-1}$ is also unit upper (lower) triangular;\n",
    "\n",
    "4. If $\\mathbf{B}$ and $\\mathbf{C}$ are unit upper (lower) triangular, then $\\mathbf{BC}$ is also unit upper (lower) triangular."
   ]
  },
  {
   "cell_type": "markdown",
   "metadata": {},
   "source": [
    "These statements can be verified numericaly by running the cell below. It uses the routines [`numpy.random.rand`](http://docs.scipy.org/doc/numpy/reference/generated/numpy.random.rand.html), [`numpy.triu`](http://docs.scipy.org/doc/numpy/reference/generated/numpy.triu.html), [`numpy.tril`](http://docs.scipy.org/doc/numpy/reference/generated/numpy.tril.html), [`numpy.indentity`](http://docs.scipy.org/doc/numpy/reference/generated/numpy.identity.html), [`numpy.dot`](http://docs.scipy.org/doc/numpy/reference/generated/numpy.dot.html) and [`numpy.linalg.inv`](http://docs.scipy.org/doc/numpy/reference/generated/numpy.linalg.inv.html)."
   ]
  },
  {
   "cell_type": "code",
   "execution_count": 1,
   "metadata": {},
   "outputs": [],
   "source": [
    "import numpy as np"
   ]
  },
  {
   "cell_type": "code",
   "execution_count": 2,
   "metadata": {},
   "outputs": [],
   "source": [
    "N = 5"
   ]
  },
  {
   "cell_type": "code",
   "execution_count": 3,
   "metadata": {},
   "outputs": [
    {
     "name": "stdout",
     "output_type": "stream",
     "text": [
      "B = \n",
      "[[ 0.89843375  0.30350636  0.13911497  0.88416058  0.09712178]\n",
      " [ 0.          0.0801839   0.74634789  0.39969053  0.16566735]\n",
      " [ 0.          0.          0.28926747  0.78656502  0.27631712]\n",
      " [ 0.          0.          0.          0.02862008  0.03034395]\n",
      " [ 0.          0.          0.          0.          0.5295557 ]]\n",
      "\n",
      "\n",
      "B^-1 = \n",
      "[[   1.11304812   -4.21303016   10.3348799  -259.5820728    10.59549009]\n",
      " [   0.           12.47133182  -32.17766695  710.17107943  -27.8049122 ]\n",
      " [   0.            0.            3.45700817  -95.00887424    3.64024827]\n",
      " [   0.            0.            0.           34.94050163   -2.00211785]\n",
      " [   0.            0.            0.            0.            1.88837548]]\n",
      "\n",
      "\n",
      "BC = \n",
      "[[ 0.89775154  0.35443469  1.00022816  1.43885578  0.74119136]\n",
      " [ 0.          0.00921287  0.06064792  0.49233543  0.6306564 ]\n",
      " [ 0.          0.          0.00159742  0.53370795  0.46299893]\n",
      " [ 0.          0.          0.          0.01565434  0.02485295]\n",
      " [ 0.          0.          0.          0.          0.35718713]]\n"
     ]
    }
   ],
   "source": [
    "#Example of upper triangular matrices\n",
    "B = np.triu(np.reshape(np.random.rand(N*N), (N,N)))\n",
    "C = np.triu(np.reshape(np.random.rand(N*N), (N,N)))\n",
    "\n",
    "#Example of lower triangular matrices\n",
    "#B = np.tril(np.reshape(np.random.rand(N*N), (N,N)))\n",
    "#C = np.tril(np.reshape(np.random.rand(N*N), (N,N)))\n",
    "\n",
    "#Example of unit upper triangular matrices\n",
    "#B = np.triu(np.reshape(np.random.rand(N*N), (N,N)), k=1)\n",
    "#B += np.identity(N)\n",
    "#C = np.triu(np.reshape(np.random.rand(N*N), (N,N)), k=1)\n",
    "#C += np.identity(N)\n",
    "\n",
    "#Example of unit lower triangular matrices\n",
    "#B = np.tril(np.reshape(np.random.rand(N*N), (N,N)), k=1)\n",
    "#B += np.identity(N)\n",
    "#C = np.tril(np.reshape(np.random.rand(N*N), (N,N)), k=1)\n",
    "#C += np.identity(N)\n",
    "\n",
    "Binv = np.linalg.inv(B)\n",
    "\n",
    "BC = np.dot(B,C)\n",
    "\n",
    "print 'B = \\n', B\n",
    "print '\\n'\n",
    "print 'B^-1 = \\n', Binv\n",
    "print '\\n'\n",
    "print 'BC = \\n', BC"
   ]
  },
  {
   "cell_type": "markdown",
   "metadata": {},
   "source": [
    "Then, we conclude that, besides being symmetric, $\\mathbf{U} \\, \\mathbf{L}^{\\top}$ is also upper triangular. In this case, $\\mathbf{U} \\, \\mathbf{L}^{\\top}$ must be a diagonal matrix, which we conveniently represent as $\\mathbf{D}$. So,"
   ]
  },
  {
   "cell_type": "markdown",
   "metadata": {},
   "source": [
    "$$\n",
    "\\mathbf{L}^{-1} \\, \\mathbf{A} \\, \\mathbf{L}^{-\\top} = \\mathbf{D}\n",
    "$$"
   ]
  },
  {
   "cell_type": "markdown",
   "metadata": {},
   "source": [
    "and, finally,"
   ]
  },
  {
   "cell_type": "markdown",
   "metadata": {},
   "source": [
    "$$\n",
    "\\mathbf{A} = \\mathbf{L} \\, \\mathbf{D} \\, \\mathbf{L}^{\\top} \\: .\n",
    "$$"
   ]
  },
  {
   "cell_type": "markdown",
   "metadata": {},
   "source": [
    "This is the LDL<sup>T</sup> decomposition. Any matrix that admits the LU decomposition and is symmetric admits a LDL<sup>T</sup> decomposition as well."
   ]
  },
  {
   "cell_type": "markdown",
   "metadata": {},
   "source": [
    "In a most rigorous definition (Golub and Van Loan, 2013):"
   ]
  },
  {
   "cell_type": "markdown",
   "metadata": {},
   "source": [
    "**THEOREM:** If $\\mathbf{A} \\in \\mathbb{R}^{N \\times N}$ is symmetric and the principal submatrix $\\mathbf{A} \\left[1:k \\, , 1:k \\right]$ is nonsingular for $k = 1 : N-1$, then there exists a unit lower triangular matrix $\\mathbf{L} \\in \\mathbb{R}^{N \\times N}$ and a diagonal matrix $\\mathbf{D} \\in \\mathbb{R}^{N \\times N}$ such that $\\mathbf{A} = \\mathbf{L} \\mathbf{D} \\mathbf{L}^{\\top}$. The factorization is unique."
   ]
  },
  {
   "cell_type": "markdown",
   "metadata": {},
   "source": [
    "The following cells illustrate the LDL<sup>T</sup> algorithm for the particular case in which $N = 4$."
   ]
  },
  {
   "cell_type": "markdown",
   "metadata": {},
   "source": [
    "$$\n",
    "\\begin{split}\n",
    "\\begin{bmatrix}\n",
    "a_{11} & a_{21} & a_{31} & a_{41} \\\\\n",
    "a_{21} & a_{22} & a_{32} & a_{42} \\\\\n",
    "a_{31} & a_{32} & a_{33} & a_{43} \\\\\n",
    "a_{41} & a_{42} & a_{43} & a_{44}\n",
    "\\end{bmatrix}\n",
    "&=\n",
    "\\begin{bmatrix}\n",
    "1 &  &  &  \\\\\n",
    "l_{21} & 1 & & \\\\\n",
    "l_{31} & l_{32} & 1 & \\\\\n",
    "l_{41} & l_{42} & l_{43} & 1\n",
    "\\end{bmatrix}\n",
    "\\begin{bmatrix}\n",
    "d_{11} &  &  &  \\\\\n",
    "& d_{22} & & \\\\\n",
    "& & d_{33} & \\\\\n",
    "& & & d_{44}\n",
    "\\end{bmatrix}\n",
    "\\begin{bmatrix}\n",
    "1 & l_{21} & l_{31} & l_{41} \\\\\n",
    " & 1 & l_{32} & l_{42} \\\\\n",
    " & & 1 & l_{43} \\\\\n",
    " & & & 1\n",
    "\\end{bmatrix} \\\\\\\\\n",
    "&=\n",
    "\\begin{bmatrix}\n",
    "1 &  &  &  \\\\\n",
    "l_{21} & 1 & & \\\\\n",
    "l_{31} & l_{32} & 1 & \\\\\n",
    "l_{41} & l_{42} & l_{43} & 1\n",
    "\\end{bmatrix}\n",
    "\\begin{bmatrix}\n",
    "d_{11} & d_{11} \\, l_{21} & d_{11} \\, l_{31} & d_{11} \\, l_{41} \\\\\n",
    " & d_{22} & d_{22} \\, l_{32} & d_{22} \\, l_{42} \\\\\n",
    " & & d_{33} & d_{33} \\, l_{43} \\\\\n",
    " & & & d_{44}\n",
    "\\end{bmatrix}\n",
    "\\end{split}\n",
    "$$"
   ]
  },
  {
   "cell_type": "markdown",
   "metadata": {},
   "source": [
    "Column 1 $\\left( \\, j = 1 \\, \\right)$\n",
    "\n",
    "$$\n",
    "\\begin{split}\n",
    "a_{11} &= d_{11} &\\longrightarrow \\: &d_{11} = a_{11} \\\\\\\\\n",
    "a_{21} &= d_{11} l_{21} &\\longrightarrow \\: &l_{21} = \\frac{a_{21}}{d_{11}} \\\\\\\\\n",
    "a_{31} &= d_{11} l_{31} &\\longrightarrow \\: &l_{31} = \\frac{a_{31}}{d_{11}} \\\\\\\\\n",
    "a_{41} &= d_{11} l_{41} &\\longrightarrow \\: &l_{41} = \\frac{a_{41}}{d_{11}}\n",
    "\\end{split}\n",
    "$$"
   ]
  },
  {
   "cell_type": "markdown",
   "metadata": {},
   "source": [
    "Column 2 $\\left( \\, j = 2 \\, \\right)$\n",
    "\n",
    "$$\n",
    "\\begin{split}\n",
    "a_{22} &= (d_{11} l_{21}) l_{21} + d_{22} &\\longrightarrow \\: \n",
    "&d_{22} = a_{22} - (d_{11} l_{21}) l_{21} \\\\\\\\\n",
    "a_{32} &= (d_{11} l_{21}) l_{31} + d_{22} l_{32} &\\longrightarrow \\: \n",
    "&l_{32} = \\frac{a_{32} - (d_{11} l_{21}) l_{31}}{d_{22}} \\\\\\\\\n",
    "a_{42} &= (d_{11} l_{21}) l_{41} + d_{22} l_{42} &\\longrightarrow \\: \n",
    "&l_{42} = \\frac{a_{42} - (d_{11} l_{21}) l_{41}}{d_{22}} \\\\\\\\\n",
    "\\end{split}\n",
    "$$"
   ]
  },
  {
   "cell_type": "markdown",
   "metadata": {},
   "source": [
    "Column 3 $\\left( \\, j = 3 \\, \\right)$\n",
    "\n",
    "$$\n",
    "\\begin{split}\n",
    "a_{33} &= (d_{11} l_{31}) l_{31} + (d_{22} l_{32}) l_{32} + d_{33} &\\longrightarrow \\: \n",
    "&d_{33} = a_{33} - (d_{11} l_{31}) l_{31} - (d_{22} l_{32}) l_{32} \\\\\\\\\n",
    "a_{43} &= (d_{11} l_{31}) l_{41} + (d_{22} l_{32}) l_{42} + d_{33} l_{43} &\\longrightarrow \\: \n",
    "&l_{43} = \\frac{a_{43} -(d_{11} l_{31}) l_{41} - (d_{22} l_{32}) l_{42}}{d_{33}} \\\\\\\\\n",
    "\\end{split}\n",
    "$$"
   ]
  },
  {
   "cell_type": "markdown",
   "metadata": {},
   "source": [
    "Column 4 $\\left( \\, j = 4 \\, \\right)$\n",
    "\n",
    "$$\n",
    "\\begin{split}\n",
    "a_{44} &= (d_{11} l_{41}) l_{41} + (d_{22} l_{42}) l_{42} + (d_{33} l_{43}) l_{43} + d_{44} &\\longrightarrow \\: \n",
    "&l_{44} = a_{44} - (d_{11} l_{41}) l_{41} - (d_{22} l_{42}) l_{42} - (d_{33} l_{43}) l_{43}\n",
    "\\end{split}\n",
    "$$"
   ]
  },
  {
   "cell_type": "markdown",
   "metadata": {},
   "source": [
    "The example given above can be easily generalized for any symmetric $N \\times N$ matrix $\\mathbf{A}$. Based on the example given above, the matrices $\\mathbf{L}$ and $\\mathbf{D}$ can be calculated as follows:"
   ]
  },
  {
   "cell_type": "markdown",
   "metadata": {},
   "source": [
    "    for j = 1:N\n",
    "\n",
    "        v = L[j,:j-1]*d[:j-1]\n",
    "\n",
    "        d[j] = A[j,j] - dot(L[j,:j-1], v[:j-1])\n",
    "\n",
    "        L[j+1:,j] = (A[j+1:,j] - dot(L[j+1:,:j-1],v[:j-1]))/d[j]"
   ]
  },
  {
   "cell_type": "markdown",
   "metadata": {},
   "source": [
    "where `v` is an auxiliary variable and `d` is an 1D array containing the diagonal elements of $\\mathbf{D}$."
   ]
  },
  {
   "cell_type": "markdown",
   "metadata": {},
   "source": [
    "### Solving a linear system by applying the LDL<sup>T</sup> decomposition"
   ]
  },
  {
   "cell_type": "markdown",
   "metadata": {},
   "source": [
    "Consider a linear system"
   ]
  },
  {
   "cell_type": "markdown",
   "metadata": {},
   "source": [
    "$$\n",
    "\\mathbf{A} \\mathbf{x} = \\mathbf{y} \\: ,\n",
    "$$"
   ]
  },
  {
   "cell_type": "markdown",
   "metadata": {},
   "source": [
    "where $\\mathbf{A}$ is a square symmetric matrix that admits a LU decomposition. In this case, the linear system can be rewritten as follows:"
   ]
  },
  {
   "cell_type": "markdown",
   "metadata": {},
   "source": [
    "$$\n",
    "\\begin{split}\n",
    "\\mathbf{A} \\, &\\mathbf{x} &= \\mathbf{y} \\\\\n",
    "\\mathbf{L} \\, \\mathbf{D} \\, \\mathbf{L}^{\\top} &\\mathbf{x} &= \\mathbf{y}\n",
    "\\end{split} \\: .\n",
    "$$"
   ]
  },
  {
   "cell_type": "markdown",
   "metadata": {},
   "source": [
    "So, the linear system can be solved in three steps:"
   ]
  },
  {
   "cell_type": "markdown",
   "metadata": {},
   "source": [
    "$$\n",
    "\\begin{split}\n",
    "\\mathbf{L} \\, &\\mathbf{w} &= \\mathbf{y} \\\\\n",
    "\\mathbf{D} \\, &\\mathbf{z} &= \\mathbf{w} \\\\\n",
    "\\mathbf{L}^{\\top} &\\mathbf{x} &= \\mathbf{z}\n",
    "\\end{split} \\: .\n",
    "$$"
   ]
  },
  {
   "cell_type": "markdown",
   "metadata": {},
   "source": [
    "## Computing inverses by using the LDL<sup>T</sup> decomposition\n",
    "\n",
    "As we have learned in a previous class, each column of the inverse of a matrix can be computed by solving a linear system. It means that computing the inverse of an $N \\times N$ matrix requires the solution of $N$ linear systems. Note that, by using the Gaussian elimination (with or without partial pivoting), we need to compute and solve one equivalent triangular system for each one of the $N$ columns of the inverse matrix. If the matrix is symmetric, we may use the LDL<sup>T</sup> decomposition to compute its inverse. In this case, we need to compute the matrices $\\mathbf{L}$ and $\\mathbf{D}$ just once and use them to solve the $N$ required linear systems, each one for a different column of the inverse."
   ]
  },
  {
   "cell_type": "markdown",
   "metadata": {},
   "source": [
    "As we have learned in a previous class, each column of the inverse of a matrix can be computed by solving a linear system. It means that computing the inverse of an $N \\times N$ matrix requires the solution of $N$ linear systems. Note that, by using the Gaussian elimination (with or without partial pivoting), we need to compute and solve one equivalent triangular system for each one of the $N$ columns of the inverse matrix. If the matrix is symmetric, we may use the LDL<sup>T</sup> decomposition to compute its inverse. In this case, we need to compute the matrices $\\mathbf{L}$ and $\\mathbf{D}$ just once and use them to solve the $N$ required linear systems, each one for a different collumn of the inverse."
   ]
  },
  {
   "cell_type": "markdown",
   "metadata": {},
   "source": [
    "### Exercise"
   ]
  },
  {
   "cell_type": "markdown",
   "metadata": {},
   "source": [
    "In your `my_functions.py` file:\n",
    "\n",
    "1) Implement the algorithm presented above for calculating the matrices `L` and `D` from a symmetric matrix `A`. The function must receive a symmetric matrix `A` and return a lower triangular matrix `L` and an 1D array `d` with the diagonal elements of the matrix `D`.\n",
    "\n",
    "2) Create a function to solve a linear system by using the calculated `L` and `d`. Use the functions you have implemented previously for solving triangular and diagonal systems.\n",
    "\n",
    "3) Create a function to compute the inverse of a matrix. The code must receive a matrix `A` and calculate its inverse `Ainv`, column by column, by using the LDL<sup>T</sup> decomposition.\n",
    "\n",
    "In your `test_my_functions.py` file:\n",
    "\n",
    "4) Use the function implemented in item 1 to verify if $\\mathbf{A} = \\mathbf{L}\\mathbf{D}\\mathbf{L}^{\\top}$.\n",
    "\n",
    "5) Compare the solution obtained by using the function implemented in 2 with the solution obtained by using the routine [`numpy.linalg.solve`](http://docs.scipy.org/doc/numpy/reference/generated/numpy.linalg.solve.html)\n",
    "\n",
    "6) Use the function implemented in item 3 to compute the inverse matrix and verify if $\\mathbf{A} \\mathbf{A}^{-1} = \\mathbf{I}$."
   ]
  },
  {
   "cell_type": "code",
   "execution_count": 1,
   "metadata": {},
   "outputs": [],
   "source": [
    "import numpy as np"
   ]
  },
  {
   "cell_type": "code",
   "execution_count": 10,
   "metadata": {},
   "outputs": [],
   "source": [
    "def ldlt(A):\n",
    "    N = A.shape[0]\n",
    "    \n",
    "    L = np.zeros((N,N))\n",
    "    d = np.zeros(N)\n",
    "\n",
    "    #for j = 1:N\n",
    "    for j in range(N):\n",
    "\n",
    "        #v = L[j,:j-1]*d[:j-1]\n",
    "        v = L[j,:j]*d[:j]\n",
    "\n",
    "        #d[j] = A[j,j] - dot(L[j,:j-1], v[:j-1])\n",
    "        d[j] = A[j,j] - np.dot(L[j,:j], v[:j])\n",
    "\n",
    "        #L[j+1:,j] = (A[j+1:,j] - dot(L[j+1:,:j-1],v[:j-1]))/d[j]\n",
    "        L[j+1:,j] = (A[j+1:,j] - np.dot(L[j+1:,:j],v[:j]))/d[j]\n",
    "        \n",
    "        return L, d"
   ]
  },
  {
   "cell_type": "code",
   "execution_count": 11,
   "metadata": {},
   "outputs": [],
   "source": [
    "N = 5\n",
    "A = np.reshape(np.random.rand(N*N), (N,N))"
   ]
  },
  {
   "cell_type": "code",
   "execution_count": 12,
   "metadata": {},
   "outputs": [
    {
     "name": "stdout",
     "output_type": "stream",
     "text": [
      "[[ 0.67144818  0.56456904  0.41961263  0.65275313  0.03113899]\n",
      " [ 0.98847055  0.52851954  0.6075698   0.06412598  0.21480163]\n",
      " [ 0.07108071  0.14467005  0.8028226   0.66262614  0.04989618]\n",
      " [ 0.05033082  0.79774816  0.71223589  0.81554282  0.49053002]\n",
      " [ 0.41712207  0.66945643  0.40929267  0.38067434  0.45524212]]\n"
     ]
    }
   ],
   "source": [
    "print A"
   ]
  },
  {
   "cell_type": "code",
   "execution_count": 14,
   "metadata": {},
   "outputs": [],
   "source": [
    "L, d = ldlt(A)"
   ]
  },
  {
   "cell_type": "code",
   "execution_count": 15,
   "metadata": {},
   "outputs": [
    {
     "name": "stdout",
     "output_type": "stream",
     "text": [
      "[[ 0.          0.          0.          0.          0.        ]\n",
      " [ 1.47214719  0.          0.          0.          0.        ]\n",
      " [ 0.1058618   0.          0.          0.          0.        ]\n",
      " [ 0.07495861  0.          0.          0.          0.        ]\n",
      " [ 0.6212275   0.          0.          0.          0.        ]]\n"
     ]
    }
   ],
   "source": [
    "print L"
   ]
  },
  {
   "cell_type": "code",
   "execution_count": 16,
   "metadata": {},
   "outputs": [
    {
     "name": "stdout",
     "output_type": "stream",
     "text": [
      "[ 0.67144818  0.          0.          0.          0.        ]\n"
     ]
    }
   ],
   "source": [
    "print d"
   ]
  },
  {
   "cell_type": "code",
   "execution_count": null,
   "metadata": {},
   "outputs": [],
   "source": []
  }
 ],
 "metadata": {
  "kernelspec": {
   "display_name": "Python 2",
   "language": "python",
   "name": "python2"
  },
  "language_info": {
   "codemirror_mode": {
    "name": "ipython",
    "version": 2
   },
   "file_extension": ".py",
   "mimetype": "text/x-python",
   "name": "python",
   "nbconvert_exporter": "python",
   "pygments_lexer": "ipython2",
   "version": "2.7.14"
  }
 },
 "nbformat": 4,
 "nbformat_minor": 1
}
