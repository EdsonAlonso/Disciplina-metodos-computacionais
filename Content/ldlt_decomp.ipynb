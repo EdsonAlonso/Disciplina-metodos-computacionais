{
 "cells": [
  {
   "cell_type": "code",
   "execution_count": 1,
   "metadata": {
    "collapsed": true
   },
   "outputs": [],
   "source": [
    "import numpy as np"
   ]
  },
  {
   "cell_type": "code",
   "execution_count": 2,
   "metadata": {
    "collapsed": true
   },
   "outputs": [],
   "source": [
    "N = 5"
   ]
  },
  {
   "cell_type": "code",
   "execution_count": 3,
   "metadata": {
    "collapsed": false
   },
   "outputs": [],
   "source": [
    "A = np.reshape(np.random.rand(N*N), (N,N))\n",
    "\n",
    "A = np.dot(A.T, A)"
   ]
  },
  {
   "cell_type": "code",
   "execution_count": 4,
   "metadata": {
    "collapsed": false
   },
   "outputs": [],
   "source": [
    "v = np.zeros(N)\n",
    "d = np.zeros(N)\n",
    "L = np.identity(N)"
   ]
  },
  {
   "cell_type": "code",
   "execution_count": 6,
   "metadata": {
    "collapsed": false
   },
   "outputs": [
    {
     "name": "stdout",
     "output_type": "stream",
     "text": [
      "[ 0.  0.  0.  0.]\n",
      "[ 1.28583394  1.50651059  1.12025257]\n",
      "[ 1.03582655  0.87974366]\n",
      "[ 1.33401399]\n",
      "[]\n"
     ]
    }
   ],
   "source": [
    "for j in range(N):\n",
    "    \n",
    "    L[j,j] = 1.\n",
    "\n",
    "    v[:j] = L[j,:j]*d[:j]\n",
    "        \n",
    "    d[j] = A[j,j] - np.dot(L[j,:j], v[:j])\n",
    "    \n",
    "    L[j+1:,j] = (A[j+1:,j] - np.dot(L[j+1:,:j],v[:j]))/d[j]\n",
    "    \n",
    "    print np.dot(L[j+1:,:j],v[:j])"
   ]
  },
  {
   "cell_type": "code",
   "execution_count": 7,
   "metadata": {
    "collapsed": false
   },
   "outputs": [],
   "source": [
    "A_calc = np.dot(L, np.dot(np.diag(d), L.T))"
   ]
  },
  {
   "cell_type": "code",
   "execution_count": 8,
   "metadata": {
    "collapsed": false
   },
   "outputs": [
    {
     "data": {
      "text/plain": [
       "True"
      ]
     },
     "execution_count": 8,
     "metadata": {},
     "output_type": "execute_result"
    }
   ],
   "source": [
    "np.allclose(A, A_calc)"
   ]
  },
  {
   "cell_type": "code",
   "execution_count": 9,
   "metadata": {
    "collapsed": true
   },
   "outputs": [],
   "source": [
    "v1 = np.zeros(N)\n",
    "d1 = np.zeros(N)\n",
    "L1 = np.identity(N)"
   ]
  },
  {
   "cell_type": "code",
   "execution_count": 10,
   "metadata": {
    "collapsed": true
   },
   "outputs": [],
   "source": [
    "for j in range(N):\n",
    "    \n",
    "    for i in range(j):\n",
    "        v1[i] = d1[i]*L1[j,i]\n",
    "        \n",
    "    d1[j] = A[j,j]\n",
    "    for i in range(j):\n",
    "        d1[j] -= v1[i]*L1[j,i]\n",
    "    \n",
    "    for i in range(j+1,N):\n",
    "        L1[i,j] = A[i,j] - np.dot(L1[i,:j],v1[:j])\n",
    "        #for k in range(j):\n",
    "        #    L1[i,j] -= v1[k]*L1[i,k]\n",
    "        L1[i,j] = L[i,j]/d1[j]"
   ]
  },
  {
   "cell_type": "code",
   "execution_count": 11,
   "metadata": {
    "collapsed": true
   },
   "outputs": [],
   "source": [
    "A_calc = np.dot(L1, np.dot(np.diag(d1), L1.T))"
   ]
  },
  {
   "cell_type": "code",
   "execution_count": 12,
   "metadata": {
    "collapsed": false
   },
   "outputs": [
    {
     "data": {
      "text/plain": [
       "False"
      ]
     },
     "execution_count": 12,
     "metadata": {},
     "output_type": "execute_result"
    }
   ],
   "source": [
    "np.allclose(A, A_calc)"
   ]
  },
  {
   "cell_type": "code",
   "execution_count": 13,
   "metadata": {
    "collapsed": false
   },
   "outputs": [
    {
     "data": {
      "text/plain": [
       "array([[ 1.        ,  0.        ,  0.        ,  0.        ,  0.        ],\n",
       "       [ 1.71458863,  1.        ,  0.        ,  0.        ,  0.        ],\n",
       "       [ 0.8412663 ,  0.46013694,  1.        ,  0.        ,  0.        ],\n",
       "       [ 0.98564562,  0.83565593,  0.13315588,  1.        ,  0.        ],\n",
       "       [ 0.73293348,  0.92984122,  0.99748548,  0.04342415,  1.        ]])"
      ]
     },
     "execution_count": 13,
     "metadata": {},
     "output_type": "execute_result"
    }
   ],
   "source": [
    "L"
   ]
  },
  {
   "cell_type": "code",
   "execution_count": 15,
   "metadata": {
    "collapsed": false
   },
   "outputs": [
    {
     "data": {
      "text/plain": [
       "array([ 0.89143863,  0.77149984,  0.68175157,  0.8141073 ,  0.09191125])"
      ]
     },
     "execution_count": 15,
     "metadata": {},
     "output_type": "execute_result"
    }
   ],
   "source": [
    "d"
   ]
  },
  {
   "cell_type": "code",
   "execution_count": null,
   "metadata": {
    "collapsed": true
   },
   "outputs": [],
   "source": []
  }
 ],
 "metadata": {
  "kernelspec": {
   "display_name": "Python 2",
   "language": "python",
   "name": "python2"
  },
  "language_info": {
   "codemirror_mode": {
    "name": "ipython",
    "version": 2
   },
   "file_extension": ".py",
   "mimetype": "text/x-python",
   "name": "python",
   "nbconvert_exporter": "python",
   "pygments_lexer": "ipython2",
   "version": "2.7.11"
  }
 },
 "nbformat": 4,
 "nbformat_minor": 0
}
