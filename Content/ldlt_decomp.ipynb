{
 "cells": [
  {
   "cell_type": "markdown",
   "metadata": {},
   "source": [
    "# LDL<sup>T</sup> decomposition"
   ]
  },
  {
   "cell_type": "markdown",
   "metadata": {},
   "source": [
    "Consider a $N \\times N$ matrix $\\mathbf{A}$ that is symmetric and admits an LU decomposition, e.g., the matrix $\\mathbf{A}$ satisfies the following equation:"
   ]
  },
  {
   "cell_type": "markdown",
   "metadata": {},
   "source": [
    "$$\n",
    "\\mathbf{A} = \\mathbf{L} \\, \\mathbf{U} \\: .\n",
    "$$"
   ]
  },
  {
   "cell_type": "markdown",
   "metadata": {},
   "source": [
    "By considering the existence of the inverse $\\mathbf{L}^{-1}$, we may rewrite the equation above as follows:"
   ]
  },
  {
   "cell_type": "markdown",
   "metadata": {},
   "source": [
    "$$\n",
    "\\begin{split}\n",
    "\\mathbf{L}^{-1} \\, \\mathbf{A} &= \\mathbf{U} \\\\\n",
    "\\mathbf{L}^{-1} \\, \\mathbf{A} \\, \\mathbf{L}^{-\\top} &= \\mathbf{U} \\, \\mathbf{L}^{-\\top}\n",
    "\\end{split} \\: ,\n",
    "$$"
   ]
  },
  {
   "cell_type": "markdown",
   "metadata": {},
   "source": [
    "where $\\mathbf{L}^{-\\top} = \\left( \\mathbf{L}^{-1} \\right)^{\\top} = \\left( \\mathbf{L}^{\\top} \\right)^{-1}$. Notice that"
   ]
  },
  {
   "cell_type": "markdown",
   "metadata": {},
   "source": [
    "$$\n",
    "\\begin{split}\n",
    "\\left( \\mathbf{L}^{-1} \\, \\mathbf{A} \\, \\mathbf{L}^{-\\top} \\right)^{\\top} \n",
    "&= \\left( \\mathbf{L}^{-\\top} \\right)^{\\top} \\, \\mathbf{A}^{\\top} \\, \\left( \\mathbf{L}^{-1} \\right)^{\\top}\\\\\n",
    "&= \\left[ \\left( \\mathbf{L}^{-1} \\right)^{\\top} \\right]^{\\top} \\, \\mathbf{A} \\, \\mathbf{L}^{-\\top} \\\\\n",
    "&= \\mathbf{L}^{-1} \\, \\mathbf{A} \\, \\mathbf{L}^{-\\top}\n",
    "\\end{split} \\: ,\n",
    "$$"
   ]
  },
  {
   "cell_type": "markdown",
   "metadata": {},
   "source": [
    "which means that $\\mathbf{L}^{-1} \\, \\mathbf{A} \\, \\mathbf{L}^{-\\top}$ and, consequently, $\\mathbf{U} \\, \\mathbf{L}^{-\\top}$ are symmetric matrices. Now, let's analyze the matrix $\\mathbf{U} \\, \\mathbf{L}^{-\\top}$. First, consider two square matrices $\\mathbf{B}$ and $\\mathbf{C}$. Then, bear in mind that:\n",
    "\n",
    "1. If $\\mathbf{B}$ is upper (lower) triangular, then $\\mathbf{B}^{-1}$ is also upper (lower) triangular;\n",
    "\n",
    "2. If $\\mathbf{B}$ and $\\mathbf{C}$ are upper (lower) triangular, then $\\mathbf{BC}$ is also upper (lower) triangular;\n",
    "\n",
    "3. If $\\mathbf{B}$ is unit upper (lower) triangular, then $\\mathbf{B}^{-1}$ is also unit upper (lower) triangular;\n",
    "\n",
    "4. If $\\mathbf{B}$ and $\\mathbf{C}$ are unit upper (lower) triangular, then $\\mathbf{BC}$ is also unit upper (lower) triangular."
   ]
  },
  {
   "cell_type": "markdown",
   "metadata": {},
   "source": [
    "These statements can be verified numericaly by running the cell below. It uses the routines [`numpy.random.rand`](http://docs.scipy.org/doc/numpy/reference/generated/numpy.random.rand.html), [`numpy.triu`](http://docs.scipy.org/doc/numpy/reference/generated/numpy.triu.html), [`numpy.tril`](http://docs.scipy.org/doc/numpy/reference/generated/numpy.tril.html), [`numpy.indentity`](http://docs.scipy.org/doc/numpy/reference/generated/numpy.identity.html), [`numpy.dot`](http://docs.scipy.org/doc/numpy/reference/generated/numpy.dot.html) and [`numpy.linalg.inv`](http://docs.scipy.org/doc/numpy/reference/generated/numpy.linalg.inv.html)."
   ]
  },
  {
   "cell_type": "code",
   "execution_count": 1,
   "metadata": {
    "collapsed": true
   },
   "outputs": [],
   "source": [
    "import numpy as np"
   ]
  },
  {
   "cell_type": "code",
   "execution_count": 2,
   "metadata": {
    "collapsed": true
   },
   "outputs": [],
   "source": [
    "N = 5"
   ]
  },
  {
   "cell_type": "code",
   "execution_count": 3,
   "metadata": {
    "collapsed": false
   },
   "outputs": [
    {
     "name": "stdout",
     "output_type": "stream",
     "text": [
      "B = \n",
      "[[ 0.76232337  0.773993    0.04934886  0.97607779  0.06170274]\n",
      " [ 0.          0.24348637  0.49218532  0.0057127   0.67401715]\n",
      " [ 0.          0.          0.11145379  0.69038759  0.35207957]\n",
      " [ 0.          0.          0.          0.12305399  0.80226336]\n",
      " [ 0.          0.          0.          0.          0.64298304]]\n",
      "\n",
      "\n",
      "B^-1 = \n",
      "[[   1.31177927   -4.16987611   17.83355231 -110.26575224  132.06097998]\n",
      " [   0.            4.10700616  -18.13673759  101.56449743 -121.09820518]\n",
      " [   0.            0.            8.97232831  -50.33875141   57.89571375]\n",
      " [   0.            0.            0.            8.12651439  -10.13962155]\n",
      " [   0.            0.            0.            0.            1.55525096]]\n",
      "\n",
      "\n",
      "BC = \n",
      "[[ 0.0034238   1.29782368  1.25710973  1.38242975  0.7138184 ]\n",
      " [ 0.          0.22145888  0.64254935  0.42891649  0.45724576]\n",
      " [ 0.          0.          0.1037343   0.37293063  0.22156328]\n",
      " [ 0.          0.          0.          0.05514951  0.13936707]\n",
      " [ 0.          0.          0.          0.          0.09737577]]\n"
     ]
    }
   ],
   "source": [
    "#Example of upper triangular matrices\n",
    "B = np.triu(np.reshape(np.random.rand(N*N), (N,N)))\n",
    "C = np.triu(np.reshape(np.random.rand(N*N), (N,N)))\n",
    "\n",
    "#Example of lower triangular matrices\n",
    "#B = np.tril(np.reshape(np.random.rand(N*N), (N,N)))\n",
    "#C = np.tril(np.reshape(np.random.rand(N*N), (N,N)))\n",
    "\n",
    "#Example of unit upper triangular matrices\n",
    "#B = np.triu(np.reshape(np.random.rand(N*N), (N,N)), k=1)\n",
    "#B += np.identity(N)\n",
    "#C = np.triu(np.reshape(np.random.rand(N*N), (N,N)), k=1)\n",
    "#C += np.identity(N)\n",
    "\n",
    "#Example of unit lower triangular matrices\n",
    "#B = np.tril(np.reshape(np.random.rand(N*N), (N,N)), k=1)\n",
    "#B += np.identity(N)\n",
    "#C = np.tril(np.reshape(np.random.rand(N*N), (N,N)), k=1)\n",
    "#C += np.identity(N)\n",
    "\n",
    "Binv = np.linalg.inv(B)\n",
    "\n",
    "BC = np.dot(B,C)\n",
    "\n",
    "print 'B = \\n', B\n",
    "print '\\n'\n",
    "print 'B^-1 = \\n', Binv\n",
    "print '\\n'\n",
    "print 'BC = \\n', BC"
   ]
  },
  {
   "cell_type": "markdown",
   "metadata": {},
   "source": [
    "Then, we conclude that, besides being symmetric, $\\mathbf{U} \\, \\mathbf{L}^{\\top}$ is also upper triangular. In this case, $\\mathbf{U} \\, \\mathbf{L}^{\\top}$ must be a diagonal matrix, which we conveniently represent as $\\mathbf{D}$. So,"
   ]
  },
  {
   "cell_type": "markdown",
   "metadata": {},
   "source": [
    "$$\n",
    "\\mathbf{L}^{-1} \\, \\mathbf{A} \\, \\mathbf{L}^{-\\top} = \\mathbf{D}\n",
    "$$"
   ]
  },
  {
   "cell_type": "markdown",
   "metadata": {},
   "source": [
    "and, finally,"
   ]
  },
  {
   "cell_type": "markdown",
   "metadata": {},
   "source": [
    "$$\n",
    "\\mathbf{A} = \\mathbf{L} \\, \\mathbf{D} \\, \\mathbf{L}^{\\top} \\: .\n",
    "$$"
   ]
  },
  {
   "cell_type": "markdown",
   "metadata": {},
   "source": [
    "This is the LDL<sup>T</sup> decomposition. Any matrix that admits the LU decomposition and is symmetric admits a LDL<sup>T</sup> decomposition as well."
   ]
  },
  {
   "cell_type": "markdown",
   "metadata": {},
   "source": [
    "It can be shown that, given a symmetric matrix $\\mathbf{A}$, the matrices $\\mathbf{L}$ and $\\mathbf{D}$ can be calculated as follows:"
   ]
  },
  {
   "cell_type": "markdown",
   "metadata": {
    "collapsed": false
   },
   "source": [
    "    for j in range(N):\n",
    "\n",
    "        v = L[j,:j]*d[:j]\n",
    "\n",
    "        d[j] = A[j,j] - np.dot(L[j,:j], v[:j])\n",
    "\n",
    "        L[j+1:,j] = (A[j+1:,j] - np.dot(L[j+1:,:j],v[:j]))/d[j]"
   ]
  },
  {
   "cell_type": "markdown",
   "metadata": {},
   "source": [
    "where `v` is an auxiliary variable and `d` is an 1D array containing the diagonal elements of $\\mathbf{D}$."
   ]
  },
  {
   "cell_type": "markdown",
   "metadata": {},
   "source": [
    "### Solving a linear system bu applying the LDL<sup>T</sup> decomposition"
   ]
  },
  {
   "cell_type": "markdown",
   "metadata": {},
   "source": [
    "Consider a linear a linaer system"
   ]
  },
  {
   "cell_type": "markdown",
   "metadata": {},
   "source": [
    "$$\n",
    "\\mathbf{A} \\mathbf{x} = \\mathbf{y} \\: ,\n",
    "$$"
   ]
  },
  {
   "cell_type": "markdown",
   "metadata": {},
   "source": [
    "where $\\mathbf{A}$ is a square symmetric matrix that admitis a LU decomposition. In this case, the linear system can be rewritten as follows:"
   ]
  },
  {
   "cell_type": "markdown",
   "metadata": {},
   "source": [
    "$$\n",
    "\\begin{split}\n",
    "\\mathbf{A} \\, &\\mathbf{x} &= \\mathbf{y} \\\\\n",
    "\\mathbf{L} \\, \\mathbf{D} \\, \\mathbf{L}^{\\top} &\\mathbf{x} &= \\mathbf{y}\n",
    "\\end{split} \\: .\n",
    "$$"
   ]
  },
  {
   "cell_type": "markdown",
   "metadata": {},
   "source": [
    "So, the linear system can be solved in three steps:"
   ]
  },
  {
   "cell_type": "markdown",
   "metadata": {},
   "source": [
    "$$\n",
    "\\begin{split}\n",
    "\\mathbf{L} \\, &\\mathbf{w} &= \\mathbf{y} \\\\\n",
    "\\mathbf{D} \\, &\\mathbf{z} &= \\mathbf{w} \\\\\n",
    "\\mathbf{L}^{\\top} &\\mathbf{x} &= \\mathbf{z}\n",
    "\\end{split} \\: .\n",
    "$$"
   ]
  },
  {
   "cell_type": "markdown",
   "metadata": {},
   "source": [
    "### Exercise 18"
   ]
  },
  {
   "cell_type": "markdown",
   "metadata": {},
   "source": [
    "1. Implement the algorithm presented above for calculating the matrices `L` and `D` from a symmetric matrix `A`. The function must receive a symmetric matrix `A` and return a lower triangular matrix `L` and an 1D array `d` with the diagonal elements of the matrix `D`.\n",
    "\n",
    "2. Solve a linear system by using the calculated `L` and `d`. Use the functions implemented previously for solving triangular and diagonal systems.\n",
    "\n",
    "3. Test if `A` = `LDL`<sup>T</sup>\n",
    "\n",
    "4. Test your solution of the linear system againt the solution obtained by using the routine [`numpy.linalg.solve`](http://docs.scipy.org/doc/numpy/reference/generated/numpy.linalg.solve.html)"
   ]
  },
  {
   "cell_type": "markdown",
   "metadata": {},
   "source": [
    "How to create a symmetric matrix?"
   ]
  },
  {
   "cell_type": "code",
   "execution_count": 4,
   "metadata": {
    "collapsed": false
   },
   "outputs": [],
   "source": [
    "N = 5\n",
    "\n",
    "A = np.reshape(np.random.rand(N*N), (N,N))\n",
    "\n",
    "A = np.dot(A.T, A)"
   ]
  },
  {
   "cell_type": "code",
   "execution_count": 5,
   "metadata": {
    "collapsed": false
   },
   "outputs": [
    {
     "name": "stdout",
     "output_type": "stream",
     "text": [
      "[[ 2.37236061  2.1176592   2.26495545  1.16510657  1.0490748 ]\n",
      " [ 2.1176592   2.56340889  2.10077217  0.99854764  1.29929365]\n",
      " [ 2.26495545  2.10077217  2.95203926  1.49470026  1.27651369]\n",
      " [ 1.16510657  0.99854764  1.49470026  0.77740187  0.56441059]\n",
      " [ 1.0490748   1.29929365  1.27651369  0.56441059  0.91402017]]\n"
     ]
    }
   ],
   "source": [
    "print A"
   ]
  }
 ],
 "metadata": {
  "kernelspec": {
   "display_name": "Python 2",
   "language": "python",
   "name": "python2"
  },
  "language_info": {
   "codemirror_mode": {
    "name": "ipython",
    "version": 2
   },
   "file_extension": ".py",
   "mimetype": "text/x-python",
   "name": "python",
   "nbconvert_exporter": "python",
   "pygments_lexer": "ipython2",
   "version": "2.7.11"
  }
 },
 "nbformat": 4,
 "nbformat_minor": 0
}
