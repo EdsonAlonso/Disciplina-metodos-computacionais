{
 "cells": [
  {
   "cell_type": "markdown",
   "metadata": {},
   "source": [
    "# Outer product"
   ]
  },
  {
   "cell_type": "markdown",
   "metadata": {},
   "source": [
    "Let $\\mathbf{x}$ and $\\mathbf{y}$ be two $N \\times 1$ vectors given by:"
   ]
  },
  {
   "cell_type": "markdown",
   "metadata": {},
   "source": [
    "$$\\mathbf{x} = \\left[\n",
    "\\begin{array}{c}\n",
    "x_{1} \\\\\n",
    "x_{2} \\\\\n",
    "\\vdots \\\\\n",
    "x_{N}\n",
    "\\end{array}\n",
    "\\right]_{\\, N \\times 1}$$"
   ]
  },
  {
   "cell_type": "markdown",
   "metadata": {},
   "source": [
    "and"
   ]
  },
  {
   "cell_type": "markdown",
   "metadata": {},
   "source": [
    "$$\\mathbf{y} = \\left[\n",
    "\\begin{array}{c}\n",
    "y_{1} \\\\\n",
    "y_{2} \\\\\n",
    "\\vdots \\\\\n",
    "y_{M}\n",
    "\\end{array}\n",
    "\\right]_{\\, M \\times 1} \\: .$$"
   ]
  },
  {
   "cell_type": "markdown",
   "metadata": {},
   "source": [
    "### Kronecker (or direct, or [outer](https://en.wikipedia.org/wiki/Outer_product)) product"
   ]
  },
  {
   "cell_type": "markdown",
   "metadata": {},
   "source": [
    "$$\\begin{split}\n",
    "\\mathbf{M} & = \\mathbf{x} \\otimes \\mathbf{y}^{\\top} \\\\\n",
    "           & = \\left[\n",
    "                \\begin{array}{c}\n",
    "                x_{1} \\, \\mathbf{y}^{\\top} \\\\\n",
    "                x_{2} \\, \\mathbf{y}^{\\top}\\\\\n",
    "                \\vdots \\\\\n",
    "                x_{N} \\, \\mathbf{y}^{\\top}\n",
    "                \\end{array}\n",
    "                \\right]_{N \\times N} \\\\\n",
    "           & = \\left[\n",
    "                \\begin{array}{ccc}\n",
    "                y_{1} \\, \\mathbf{x} & \\dots & y_{N} \\, \\mathbf{x}\n",
    "                \\end{array}\n",
    "                \\right]_{N \\times N}\n",
    "\\end{split} \\: .$$"
   ]
  },
  {
   "cell_type": "markdown",
   "metadata": {},
   "source": [
    "Notice that, in this case, the result is a square matrix with order $N$ equal to the number of elements of $\\mathbf{x}$ and $\\mathbf{y}$. However, this operation does not require that the vectors $\\mathbf{x}$ and $\\mathbf{y}$ have the same number of elements. Consider, for example, that $\\mathbf{x}$ is a $N \\times 1$ vector and that $\\mathbf{y}$ is a $M \\times 1$ vector, where $N \\neq M$. In this case, the matrix $\\mathbf{M}$ is $N \\times M$, e.g., it has the number of rows equal to the number of elements of $\\mathbf{x}$ and the number of colunms equal to the number of elements of $\\mathbf{y}$."
   ]
  },
  {
   "cell_type": "markdown",
   "metadata": {},
   "source": [
    "The matrix $\\mathbf{M}$ can be represented by"
   ]
  },
  {
   "cell_type": "markdown",
   "metadata": {},
   "source": [
    "    for i = 1:N\n",
    "        for j = 1:M\n",
    "            M[i,j] = x[i]*y[j]"
   ]
  },
  {
   "cell_type": "markdown",
   "metadata": {},
   "source": [
    "or, according to the *colon notation*, by a *row partition*"
   ]
  },
  {
   "cell_type": "markdown",
   "metadata": {},
   "source": [
    "    for i = 1:N\n",
    "        M[i,:] = x[i]*y[:]"
   ]
  },
  {
   "cell_type": "markdown",
   "metadata": {},
   "source": [
    "or a *colounm partition*"
   ]
  },
  {
   "cell_type": "markdown",
   "metadata": {},
   "source": [
    "    for j = 1:M\n",
    "        M[:,j] = x[:]*y[j]"
   ]
  },
  {
   "cell_type": "markdown",
   "metadata": {},
   "source": [
    "### Exercise 3"
   ]
  },
  {
   "cell_type": "markdown",
   "metadata": {
    "collapsed": true
   },
   "source": [
    "Show that these three approaches are equivalent. To do this, follow the steps below:\n",
    "\n",
    "1. Create a function according to the first approach and save it in an external file\n",
    "2. Create a function according to the second approach and save it in an external file\n",
    "3. Create a function according to the third approach and save it in an external file\n",
    "4. Use the `code-template.ipynb` for comparing the results produced by these three functions with the code presented below"
   ]
  },
  {
   "cell_type": "markdown",
   "metadata": {
    "collapsed": true
   },
   "source": [
    "#### Numpy example of the outer product"
   ]
  },
  {
   "cell_type": "markdown",
   "metadata": {},
   "source": [
    "Import numpy"
   ]
  },
  {
   "cell_type": "code",
   "execution_count": 1,
   "metadata": {
    "collapsed": true
   },
   "outputs": [],
   "source": [
    "import numpy as np"
   ]
  },
  {
   "cell_type": "markdown",
   "metadata": {},
   "source": [
    "Create a colunm vector using the functions [numpy.arange](http://docs.scipy.org/doc/numpy/reference/generated/numpy.arange.html) and [numpy.reshape](http://docs.scipy.org/doc/numpy/reference/generated/numpy.reshape.html)"
   ]
  },
  {
   "cell_type": "code",
   "execution_count": 2,
   "metadata": {
    "collapsed": true
   },
   "outputs": [],
   "source": [
    "x = np.arange(5.)\n",
    "x = np.reshape(x, (x.size, 1))"
   ]
  },
  {
   "cell_type": "code",
   "execution_count": 3,
   "metadata": {},
   "outputs": [
    {
     "data": {
      "text/plain": [
       "array([[ 0.],\n",
       "       [ 1.],\n",
       "       [ 2.],\n",
       "       [ 3.],\n",
       "       [ 4.]])"
      ]
     },
     "execution_count": 3,
     "metadata": {},
     "output_type": "execute_result"
    }
   ],
   "source": [
    "x"
   ]
  },
  {
   "cell_type": "markdown",
   "metadata": {},
   "source": [
    "Create a row vector by using the function [numpy.linspace](http://docs.scipy.org/doc/numpy/reference/generated/numpy.linspace.html)"
   ]
  },
  {
   "cell_type": "code",
   "execution_count": 4,
   "metadata": {
    "collapsed": true
   },
   "outputs": [],
   "source": [
    "yT = np.linspace(0.6, 1.2, 3)"
   ]
  },
  {
   "cell_type": "code",
   "execution_count": 5,
   "metadata": {},
   "outputs": [
    {
     "data": {
      "text/plain": [
       "array([ 0.6,  0.9,  1.2])"
      ]
     },
     "execution_count": 5,
     "metadata": {},
     "output_type": "execute_result"
    }
   ],
   "source": [
    "yT"
   ]
  },
  {
   "cell_type": "markdown",
   "metadata": {},
   "source": [
    "Calculate the outer product"
   ]
  },
  {
   "cell_type": "code",
   "execution_count": 6,
   "metadata": {},
   "outputs": [
    {
     "data": {
      "text/plain": [
       "array([[ 0. ,  0. ,  0. ],\n",
       "       [ 0.6,  0.9,  1.2],\n",
       "       [ 1.2,  1.8,  2.4],\n",
       "       [ 1.8,  2.7,  3.6],\n",
       "       [ 2.4,  3.6,  4.8]])"
      ]
     },
     "execution_count": 6,
     "metadata": {},
     "output_type": "execute_result"
    }
   ],
   "source": [
    "x*yT"
   ]
  },
  {
   "cell_type": "markdown",
   "metadata": {
    "collapsed": true
   },
   "source": [
    "### Exercise 4"
   ]
  },
  {
   "cell_type": "markdown",
   "metadata": {},
   "source": [
    "Let $\\mathbf{a}^{\\top}$ be an ${1 \\times 5}$ vector and $\\mathbf{b}^{\\top}$ be an ${1 \\times 3}$ vector as follows:"
   ]
  },
  {
   "cell_type": "code",
   "execution_count": 7,
   "metadata": {
    "collapsed": true
   },
   "outputs": [],
   "source": [
    "aT = np.arange(5.)\n",
    "bT = np.linspace(11., 13., 3)"
   ]
  },
  {
   "cell_type": "markdown",
   "metadata": {},
   "source": [
    "Let's also consider the two matrices $\\mathbf{A}$ and $\\mathbf{B}$, created from $\\mathbf{a}^{\\top}$ and $\\mathbf{b}^{\\top}$ by using the function [numpy.meshgrid](http://docs.scipy.org/doc/numpy/reference/generated/numpy.meshgrid.html):"
   ]
  },
  {
   "cell_type": "code",
   "execution_count": 8,
   "metadata": {
    "collapsed": true
   },
   "outputs": [],
   "source": [
    "A, B = np.meshgrid(aT,bT)"
   ]
  },
  {
   "cell_type": "code",
   "execution_count": 9,
   "metadata": {},
   "outputs": [
    {
     "data": {
      "text/plain": [
       "array([[ 0.,  1.,  2.,  3.,  4.],\n",
       "       [ 0.,  1.,  2.,  3.,  4.],\n",
       "       [ 0.,  1.,  2.,  3.,  4.]])"
      ]
     },
     "execution_count": 9,
     "metadata": {},
     "output_type": "execute_result"
    }
   ],
   "source": [
    "A"
   ]
  },
  {
   "cell_type": "code",
   "execution_count": 10,
   "metadata": {},
   "outputs": [
    {
     "data": {
      "text/plain": [
       "array([[ 11.,  11.,  11.,  11.,  11.],\n",
       "       [ 12.,  12.,  12.,  12.,  12.],\n",
       "       [ 13.,  13.,  13.,  13.,  13.]])"
      ]
     },
     "execution_count": 10,
     "metadata": {},
     "output_type": "execute_result"
    }
   ],
   "source": [
    "B"
   ]
  },
  {
   "cell_type": "markdown",
   "metadata": {},
   "source": [
    "Show that $\\mathbf{A} = \\mathbf{1}_{3 \\times 1} \\otimes \\mathbf{a}^{\\top}$ and $\\mathbf{B} = \\mathbf{b} \\otimes \\mathbf{1}_{1 \\times 5}$. Use the `code-template.ipynb` and follow the steps below:\n",
    "\n",
    "1. Create the inputs $\\mathbf{a}^{\\top}$, $\\mathbf{b}$, $\\mathbf{1}_{3 \\times 1}$ and $\\mathbf{1}_{1 \\times 5}$\n",
    "\n",
    "2. Calculate $\\mathbf{A}$ and $\\mathbf{B}$ by using one of your outer product functions\n",
    "\n",
    "3. Calculate $\\mathbf{A}$ and $\\mathbf{B}$ by using the `numpy.meshgrid` function\n",
    "\n",
    "4. Compare the results by using the function `numpy.allclose`"
   ]
  },
  {
   "cell_type": "markdown",
   "metadata": {},
   "source": [
    "### References"
   ]
  },
  {
   "cell_type": "markdown",
   "metadata": {},
   "source": [
    "* Golub, G. H. and Van Loan, C. F. Matrix computations, 4th edition, Johns Hopkins University Press, 2013\n",
    "\n",
    "* Horn, R. A. and Johnson, C. R. Topics in matrix analysis, Cambridge University Press, 1994"
   ]
  }
 ],
 "metadata": {
  "anaconda-cloud": {},
  "kernelspec": {
   "display_name": "Python 2",
   "language": "python",
   "name": "python2"
  },
  "language_info": {
   "codemirror_mode": {
    "name": "ipython",
    "version": 2
   },
   "file_extension": ".py",
   "mimetype": "text/x-python",
   "name": "python",
   "nbconvert_exporter": "python",
   "pygments_lexer": "ipython2",
   "version": "2.7.13"
  }
 },
 "nbformat": 4,
 "nbformat_minor": 1
}
