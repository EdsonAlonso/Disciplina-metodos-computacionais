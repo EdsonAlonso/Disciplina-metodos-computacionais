{
 "cells": [
  {
   "cell_type": "markdown",
   "metadata": {},
   "source": [
    "# Outer product"
   ]
  },
  {
   "cell_type": "markdown",
   "metadata": {},
   "source": [
    "Let $\\mathbf{x}$ and $\\mathbf{y}$ be two vectors given by:"
   ]
  },
  {
   "cell_type": "markdown",
   "metadata": {},
   "source": [
    "$$\\mathbf{x} = \\left[\n",
    "\\begin{array}{c}\n",
    "x_{1} \\\\\n",
    "x_{2} \\\\\n",
    "\\vdots \\\\\n",
    "x_{N}\n",
    "\\end{array}\n",
    "\\right]_{\\, N \\times 1}$$"
   ]
  },
  {
   "cell_type": "markdown",
   "metadata": {},
   "source": [
    "and"
   ]
  },
  {
   "cell_type": "markdown",
   "metadata": {},
   "source": [
    "$$\\mathbf{y} = \\left[\n",
    "\\begin{array}{c}\n",
    "y_{1} \\\\\n",
    "y_{2} \\\\\n",
    "\\vdots \\\\\n",
    "y_{M}\n",
    "\\end{array}\n",
    "\\right]_{\\, M \\times 1} \\: .$$"
   ]
  },
  {
   "cell_type": "markdown",
   "metadata": {},
   "source": [
    "The [outer](https://en.wikipedia.org/wiki/Outer_product) product is defined as follows:"
   ]
  },
  {
   "cell_type": "markdown",
   "metadata": {},
   "source": [
    "$$\n",
    "\\begin{split}\n",
    "\\mathbf{M} &= \\mathbf{x} \\otimes \\mathbf{y} \\\\\n",
    "           &= \\mathbf{x} \\cdot \\mathbf{y}^{\\top} \\\\\n",
    "           &= \\begin{bmatrix}\n",
    "                x_{1} \\, \\mathbf{y}^{\\top} \\\\\n",
    "                x_{2} \\, \\mathbf{y}^{\\top} \\\\\n",
    "                \\vdots \\\\\n",
    "                x_{N} \\, \\mathbf{y}^{\\top}\n",
    "              \\end{bmatrix}_{\\, N \\times M} \\\\\n",
    "           &= \\begin{bmatrix}\n",
    "                y_{1} \\, \\mathbf{x} & \\dots & y_{N} \\, \\mathbf{x}\n",
    "              \\end{bmatrix}_{\\, N \\times M}\n",
    "\\end{split} \\: .\n",
    "$$"
   ]
  },
  {
   "cell_type": "markdown",
   "metadata": {},
   "source": [
    "Notice that, in this case, the result is a $N \\times M$ matrix, where $N$ is the number of elements of $\\mathbf{x}$ and $M$ is the number of elements of $\\mathbf{y}$."
   ]
  },
  {
   "cell_type": "markdown",
   "metadata": {},
   "source": [
    "The matrix $\\mathbf{M}$ can be represented by"
   ]
  },
  {
   "cell_type": "markdown",
   "metadata": {},
   "source": [
    "    for i = 1:N\n",
    "        for j = 1:M\n",
    "            M[i,j] = x[i]*y[j]"
   ]
  },
  {
   "cell_type": "markdown",
   "metadata": {},
   "source": [
    "or, according to the *colon notation*, by a *row partition*"
   ]
  },
  {
   "cell_type": "markdown",
   "metadata": {},
   "source": [
    "    for i = 1:N\n",
    "        M[i,:] = x[i]*y[:]"
   ]
  },
  {
   "cell_type": "markdown",
   "metadata": {},
   "source": [
    "or a *colounm partition*"
   ]
  },
  {
   "cell_type": "markdown",
   "metadata": {},
   "source": [
    "    for j = 1:M\n",
    "        M[:,j] = x[:]*y[j]"
   ]
  },
  {
   "cell_type": "markdown",
   "metadata": {},
   "source": [
    "### Exercise"
   ]
  },
  {
   "cell_type": "markdown",
   "metadata": {},
   "source": [
    "1. Create three functions called `outer1`, `outer2` and `outer3` to implement the three algoritms shown above. All functions must receive two numpy arrays and return the outer product. The numpy arrays may have different sizes. The functions must be written in your `my_functions.py` file, according to the template shown in the notebook `dot.ipynb`.\n",
    "2. Create four automatic tests in your `test_my_functions.py` file, according to the template shown in the notebook `dot.ipynb`. One test must compare the result obtained by all your functions and the result obtained by the function [`numpy.outer`](https://docs.scipy.org/doc/numpy/reference/generated/numpy.outer.html) (see the example below). The other three tests must set a specific input and compare the expected result and the result obtained by each of your functions."
   ]
  },
  {
   "cell_type": "markdown",
   "metadata": {
    "collapsed": true
   },
   "source": [
    "#### The routine [`numpy.outer`](https://docs.scipy.org/doc/numpy/reference/generated/numpy.outer.html)"
   ]
  },
  {
   "cell_type": "markdown",
   "metadata": {},
   "source": [
    "The code below uses the routines [`numpy.arange`](https://docs.scipy.org/doc/numpy/reference/generated/numpy.arange.html) and [`numpy.linspace`](https://docs.scipy.org/doc/numpy/reference/generated/numpy.linspace.html)."
   ]
  },
  {
   "cell_type": "code",
   "execution_count": 1,
   "metadata": {
    "collapsed": true
   },
   "outputs": [],
   "source": [
    "import numpy as np"
   ]
  },
  {
   "cell_type": "code",
   "execution_count": 2,
   "metadata": {
    "collapsed": true
   },
   "outputs": [],
   "source": [
    "x = np.arange(5.)"
   ]
  },
  {
   "cell_type": "code",
   "execution_count": 3,
   "metadata": {},
   "outputs": [
    {
     "data": {
      "text/plain": [
       "array([ 0.,  1.,  2.,  3.,  4.])"
      ]
     },
     "execution_count": 3,
     "metadata": {},
     "output_type": "execute_result"
    }
   ],
   "source": [
    "x"
   ]
  },
  {
   "cell_type": "code",
   "execution_count": 4,
   "metadata": {
    "collapsed": true
   },
   "outputs": [],
   "source": [
    "y = np.linspace(0.6, 1.2, 3)"
   ]
  },
  {
   "cell_type": "code",
   "execution_count": 5,
   "metadata": {},
   "outputs": [
    {
     "data": {
      "text/plain": [
       "array([ 0.6,  0.9,  1.2])"
      ]
     },
     "execution_count": 5,
     "metadata": {},
     "output_type": "execute_result"
    }
   ],
   "source": [
    "y"
   ]
  },
  {
   "cell_type": "markdown",
   "metadata": {},
   "source": [
    "Calculate the outer product"
   ]
  },
  {
   "cell_type": "code",
   "execution_count": 6,
   "metadata": {},
   "outputs": [
    {
     "data": {
      "text/plain": [
       "array([[ 0. ,  0. ,  0. ],\n",
       "       [ 0.6,  0.9,  1.2],\n",
       "       [ 1.2,  1.8,  2.4],\n",
       "       [ 1.8,  2.7,  3.6],\n",
       "       [ 2.4,  3.6,  4.8]])"
      ]
     },
     "execution_count": 6,
     "metadata": {},
     "output_type": "execute_result"
    }
   ],
   "source": [
    "np.outer(x, y)"
   ]
  }
 ],
 "metadata": {
  "anaconda-cloud": {},
  "kernelspec": {
   "display_name": "Python 3",
   "language": "python",
   "name": "python3"
  },
  "language_info": {
   "codemirror_mode": {
    "name": "ipython",
    "version": 3
   },
   "file_extension": ".py",
   "mimetype": "text/x-python",
   "name": "python",
   "nbconvert_exporter": "python",
   "pygments_lexer": "ipython3",
   "version": "3.6.8"
  }
 },
 "nbformat": 4,
 "nbformat_minor": 1
}
