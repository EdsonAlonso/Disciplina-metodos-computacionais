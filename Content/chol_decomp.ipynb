{
 "cells": [
  {
   "cell_type": "markdown",
   "metadata": {},
   "source": [
    "# Cholesky decomposition"
   ]
  },
  {
   "cell_type": "markdown",
   "metadata": {},
   "source": [
    "Consider a $N \\times N$ matrix $\\mathbf{A}$ that is symmetric and [positive definite](http://mathworld.wolfram.com/PositiveDefiniteMatrix.html). Then, it satisfies the following equations:"
   ]
  },
  {
   "cell_type": "markdown",
   "metadata": {},
   "source": [
    "$$\n",
    "\\mathbf{A} = \\mathbf{A}^{\\top}\n",
    "$$"
   ]
  },
  {
   "cell_type": "markdown",
   "metadata": {},
   "source": [
    "and"
   ]
  },
  {
   "cell_type": "markdown",
   "metadata": {},
   "source": [
    "$$\n",
    "\\mathbf{x}^{\\top} \\mathbf{A} \\mathbf{x} \\gt 0 \\: , \n",
    "\\quad \\text{for all nonzero} \\: \\mathbf{x} \\in \\mathbb{R}^{N} \\: .\n",
    "$$"
   ]
  },
  {
   "cell_type": "markdown",
   "metadata": {},
   "source": [
    "In this case, $\\mathbf{A}$ satisfies the following theorem (Golub and Van Loan, 2013):"
   ]
  },
  {
   "cell_type": "markdown",
   "metadata": {},
   "source": [
    "**THEOREM:** If $\\mathbf{A} \\in \\mathbb{R}^{N \\times N}$ is symmetric and positive definite, then there exists a unique lower triangular matrix $\\mathbf{G} \\in \\mathbb{R}^{N \\times N}$ with positive diagonal entries such that $\\mathbf{A} = \\mathbf{G} \\mathbf{G}^{\\top}$."
   ]
  },
  {
   "cell_type": "markdown",
   "metadata": {},
   "source": [
    "The following cells illustrate the Cholesky's decomposition algorithm for the particular case in which $N = 4$."
   ]
  },
  {
   "cell_type": "markdown",
   "metadata": {},
   "source": [
    "$$\n",
    "\\begin{bmatrix}\n",
    "a_{11} & a_{21} & a_{31} & a_{41} \\\\\n",
    "a_{21} & a_{22} & a_{32} & a_{42} \\\\\n",
    "a_{31} & a_{32} & a_{33} & a_{43} \\\\\n",
    "a_{41} & a_{42} & a_{43} & a_{44}\n",
    "\\end{bmatrix} =\n",
    "\\begin{bmatrix}\n",
    "g_{11} &  &  &  \\\\\n",
    "g_{21} & g_{22} & & \\\\\n",
    "g_{31} & g_{32} & g_{33} & \\\\\n",
    "g_{41} & g_{42} & g_{43} & g_{44}\n",
    "\\end{bmatrix}\n",
    "\\begin{bmatrix}\n",
    "g_{11} & g_{21} & g_{31} & g_{41} \\\\\n",
    " & g_{22} & g_{32} & g_{42} \\\\\n",
    " & & g_{33} & g_{43} \\\\\n",
    " & & & g_{44}\n",
    "\\end{bmatrix}\n",
    "$$"
   ]
  },
  {
   "cell_type": "markdown",
   "metadata": {},
   "source": [
    "Column 1 $\\left( \\, j = 1 \\, \\right)$\n",
    "\n",
    "$$\n",
    "\\begin{split}\n",
    "a_{11} &= g_{11} g_{11} &\\longrightarrow \\: &g_{11} = \\sqrt{a_{11}} \\\\\\\\\n",
    "a_{21} &= g_{11} g_{21} &\\longrightarrow \\: &g_{21} = \\frac{a_{21}}{g_{11}} \\\\\\\\\n",
    "a_{31} &= g_{11} g_{31} &\\longrightarrow \\: &g_{31} = \\frac{a_{31}}{g_{11}} \\\\\\\\\n",
    "a_{41} &= g_{11} g_{41} &\\longrightarrow \\: &g_{41} = \\frac{a_{41}}{g_{11}}\n",
    "\\end{split}\n",
    "$$"
   ]
  },
  {
   "cell_type": "markdown",
   "metadata": {},
   "source": [
    "Column 2 $\\left( \\, j = 2 \\, \\right)$\n",
    "\n",
    "$$\n",
    "\\begin{split}\n",
    "a_{22} &= g_{21} g_{21} + g_{22} g_{22} &\\longrightarrow \\: &g_{22} = \\sqrt{a_{22} - g_{21} g_{21}} \\\\\\\\\n",
    "a_{32} &= g_{21} g_{31} + g_{22} g_{32} &\\longrightarrow \\: &g_{32} = \\frac{a_{32} - g_{21} g_{31}}{g_{22}} \\\\\\\\\n",
    "a_{42} &= g_{21} g_{41} + g_{22} g_{42} &\\longrightarrow \\: &g_{42} = \\frac{a_{42} - g_{21} g_{41}}{g_{22}} \\\\\\\\\n",
    "\\end{split}\n",
    "$$"
   ]
  },
  {
   "cell_type": "markdown",
   "metadata": {},
   "source": [
    "Column 3 $\\left( \\, j = 3 \\, \\right)$\n",
    "\n",
    "$$\n",
    "\\begin{split}\n",
    "a_{33} &= g_{31} g_{31} + g_{32} g_{32} + g_{33} g_{33} &\\longrightarrow \\: &g_{33} = \\sqrt{a_{33} - g_{31} g_{31} - g_{32} g_{32}} \\\\\\\\\n",
    "a_{43} &= g_{31} g_{41} + g_{32} g_{42} + g_{33} g_{43} &\\longrightarrow \\: &g_{43} = \\frac{a_{43} - g_{31} g_{41} - g_{32} g_{42}}{g_{33}} \\\\\\\\\n",
    "\\end{split}\n",
    "$$"
   ]
  },
  {
   "cell_type": "markdown",
   "metadata": {},
   "source": [
    "Column 4 $\\left( \\, j = 4 \\, \\right)$\n",
    "\n",
    "$$\n",
    "\\begin{split}\n",
    "a_{44} &= g_{41} g_{41} + g_{42} g_{42} + g_{43} g_{43} + g_{44} g_{44} &\\longrightarrow \\: &g_{44} = \\sqrt{a_{44} - g_{41} g_{41} - g_{42} g_{42} - g_{43} g_{43}}\n",
    "\\end{split}\n",
    "$$"
   ]
  },
  {
   "cell_type": "markdown",
   "metadata": {},
   "source": [
    "The example given above can be easily generalized for any symmetric and positive definite $N \\times N$ matrix $\\mathbf{A}$. Based on the example given above, the matrix $\\mathbf{G}$ can be calculated as follows:"
   ]
  },
  {
   "cell_type": "markdown",
   "metadata": {},
   "source": [
    "    G = N x N matrix of zeros \n",
    "\n",
    "    for j = 1:N\n",
    "\n",
    "        G[j,j] = A[j,j] - dot(G[j,:j-1],G[j,:j-1])    \n",
    "\n",
    "        G[j,j] = sqrt(G[j,j])\n",
    "\n",
    "        G[j+1:,j] = (A[j+1:,j] - dot(G[j+1:,:j-1], G[j,:j-1]))/G[j,j]"
   ]
  },
  {
   "cell_type": "markdown",
   "metadata": {},
   "source": [
    "Note that this algorithm can be used to verify if a given symmetric matrix is positive definite. If a given matrix is not positive definite, there will be a negative argument in the square root presented above."
   ]
  },
  {
   "cell_type": "markdown",
   "metadata": {},
   "source": [
    "## Computing inverses by using the Cholesky decomposition\n",
    "\n",
    "As we have learned in a previous class, each column of the inverse of a matrix can be computed by solving a linear system. It means that computing the inverse of an $N \\times N$ matrix requires the solution of $N$ linear systems. Note that, by using the Gaussian elimination (with or without partial pivoting), we need to compute and solve one equivalent triangular system for each one of the $N$ columns of the inverse matrix. If the matrix is symmetric, we may use the Cholesky decomposition to compute its inverse. In this case, we need to compute the matrix $\\mathbf{G}$ just once and use it to solve the $N$ required linear systems, each one for a different column of the inverse."
   ]
  },
  {
   "cell_type": "markdown",
   "metadata": {},
   "source": [
    "### Solving a linear system by applying the Cholesky decomposition"
   ]
  },
  {
   "cell_type": "markdown",
   "metadata": {},
   "source": [
    "Consider a linear system"
   ]
  },
  {
   "cell_type": "markdown",
   "metadata": {},
   "source": [
    "$$\n",
    "\\mathbf{A} \\mathbf{x} = \\mathbf{y} \\: ,\n",
    "$$"
   ]
  },
  {
   "cell_type": "markdown",
   "metadata": {},
   "source": [
    "where $\\mathbf{A}$ is a symmetric positive definite matrix. In this case, the linear system can be rewritten as follows:"
   ]
  },
  {
   "cell_type": "markdown",
   "metadata": {},
   "source": [
    "$$\n",
    "\\begin{split}\n",
    "\\mathbf{A} \\, &\\mathbf{x} &= \\mathbf{y} \\\\\n",
    "\\mathbf{G} \\, \\mathbf{G}^{\\top} &\\mathbf{x} &= \\mathbf{y}\n",
    "\\end{split} \\: .\n",
    "$$"
   ]
  },
  {
   "cell_type": "markdown",
   "metadata": {},
   "source": [
    "So, the linear system can be solved in two steps:"
   ]
  },
  {
   "cell_type": "markdown",
   "metadata": {},
   "source": [
    "$$\n",
    "\\begin{split}\n",
    "\\mathbf{G} \\, &\\mathbf{w} &= \\mathbf{y} \\\\\n",
    "\\mathbf{G}^{\\top} \\, &\\mathbf{x} &= \\mathbf{w}\n",
    "\\end{split} \\: .\n",
    "$$"
   ]
  },
  {
   "cell_type": "markdown",
   "metadata": {},
   "source": [
    "### Exercise"
   ]
  },
  {
   "cell_type": "markdown",
   "metadata": {},
   "source": [
    "In your `my_functions.py` file:\n",
    "\n",
    "1) Implement the algorithm presented above for calculating the matrix `G` from a symmetric and positive definite matrix `A`. The function must receive a symmetric matrix `A` and return the matrix `G`.\n",
    "\n",
    "2) Create a function to solve a linear system by using the calculated `G`. Use the functions you have implemented previously for solving triangular and diagonal systems.\n",
    "\n",
    "3) Create a function to compute the inverse of a matrix. The code must receive a matrix `A` and calculate its inverse `Ainv`, column by column, by using the Cholesky decomposition.\n",
    "\n",
    "In your `test_my_functions.py` file:\n",
    "\n",
    "4) Use the function implemented in item 1 to verify if $\\mathbf{A} = \\mathbf{G}\\mathbf{G}^{\\top}$.\n",
    "\n",
    "5) Compare the solution obtained by using the function implemented in 2 with the solution obtained by using the routine [`numpy.linalg.solve`](http://docs.scipy.org/doc/numpy/reference/generated/numpy.linalg.solve.html)\n",
    "\n",
    "6) Use the function implemented in item 3 to compute the inverse matrix and verify if $\\mathbf{A} \\mathbf{A}^{-1} = \\mathbf{I}$."
   ]
  }
 ],
 "metadata": {
  "kernelspec": {
   "display_name": "Python 3",
   "language": "python",
   "name": "python3"
  },
  "language_info": {
   "codemirror_mode": {
    "name": "ipython",
    "version": 3
   },
   "file_extension": ".py",
   "mimetype": "text/x-python",
   "name": "python",
   "nbconvert_exporter": "python",
   "pygments_lexer": "ipython3",
   "version": "3.6.8"
  }
 },
 "nbformat": 4,
 "nbformat_minor": 1
}
