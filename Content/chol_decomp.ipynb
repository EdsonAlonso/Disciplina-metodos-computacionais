{
 "cells": [
  {
   "cell_type": "markdown",
   "metadata": {},
   "source": [
    "# Cholesky decomposition"
   ]
  },
  {
   "cell_type": "markdown",
   "metadata": {},
   "source": [
    "Consider a $N \\times N$ matrix $\\mathbf{A}$ that is symmetric and [positive definite](http://mathworld.wolfram.com/PositiveDefiniteMatrix.html). Then, it satisfies the following equations:"
   ]
  },
  {
   "cell_type": "markdown",
   "metadata": {},
   "source": [
    "$$\n",
    "\\mathbf{A} = \\mathbf{A}^{\\top}\n",
    "$$"
   ]
  },
  {
   "cell_type": "markdown",
   "metadata": {},
   "source": [
    "and"
   ]
  },
  {
   "cell_type": "markdown",
   "metadata": {},
   "source": [
    "$$\n",
    "\\mathbf{x}^{\\top} \\mathbf{A} \\mathbf{x} \\gt 0 \\: , \n",
    "\\quad \\text{for all nonzero} \\: \\mathbf{x} \\in \\mathbb{R}^{N \\times N} \\: .\n",
    "$$"
   ]
  },
  {
   "cell_type": "markdown",
   "metadata": {},
   "source": [
    "In this case, $\\mathbf{A}$ satisfies the following theorem (Golub and Van Loan, 2013):"
   ]
  },
  {
   "cell_type": "markdown",
   "metadata": {},
   "source": [
    "**THEOREM:** If $\\mathbf{A} \\in \\mathbb{R}^{N \\times N}$ is symmetric and positive definite, then there exists a unique lower triangular matrix $\\mathbf{G} \\in \\mathbb{R}^{N \\times N}$ with positive diagonal entries such that $\\mathbf{A} = \\mathbf{G} \\mathbf{G}^{\\top}$."
   ]
  },
  {
   "cell_type": "markdown",
   "metadata": {},
   "source": [
    "It can be shown that, given a symmetric positive definite matrix $\\mathbf{A}$, the matrix $\\mathbf{G}$ can be calculated as follows:"
   ]
  },
  {
   "cell_type": "markdown",
   "metadata": {
    "collapsed": false
   },
   "source": [
    "    for j = 1:N\n",
    "\n",
    "        G[j,j] = A[j,j] - dot(G[j,:j-1],G[j,:j-1])    \n",
    "\n",
    "        G[j,j] = sqrt(G[j,j])\n",
    "\n",
    "        G[j+1:,j] = (A[j+1:,j] - dot(G[j+1:,:j-1], G[j,:j-1]))/G[j,j]"
   ]
  },
  {
   "cell_type": "markdown",
   "metadata": {},
   "source": [
    "The following two images present a \"proof\" of this algorithm for the particular case in which $N = 4$."
   ]
  },
  {
   "cell_type": "markdown",
   "metadata": {},
   "source": [
    "<img src='Cholesky_decomposition_sketch_1.jpg' width = 600>"
   ]
  },
  {
   "cell_type": "markdown",
   "metadata": {},
   "source": [
    "<img src='Cholesky_decomposition_sketch_2.jpg' width = 600>"
   ]
  },
  {
   "cell_type": "markdown",
   "metadata": {},
   "source": [
    "### Solving a linear system by applying the Cholesky decomposition"
   ]
  },
  {
   "cell_type": "markdown",
   "metadata": {},
   "source": [
    "Consider a linear a linaer system"
   ]
  },
  {
   "cell_type": "markdown",
   "metadata": {},
   "source": [
    "$$\n",
    "\\mathbf{A} \\mathbf{x} = \\mathbf{y} \\: ,\n",
    "$$"
   ]
  },
  {
   "cell_type": "markdown",
   "metadata": {},
   "source": [
    "where $\\mathbf{A}$ is a symmetric positive definite matrix. In this case, the linear system can be rewritten as follows:"
   ]
  },
  {
   "cell_type": "markdown",
   "metadata": {},
   "source": [
    "$$\n",
    "\\begin{split}\n",
    "\\mathbf{A} \\, &\\mathbf{x} &= \\mathbf{y} \\\\\n",
    "\\mathbf{G} \\, \\mathbf{G}^{\\top} &\\mathbf{x} &= \\mathbf{y}\n",
    "\\end{split} \\: .\n",
    "$$"
   ]
  },
  {
   "cell_type": "markdown",
   "metadata": {},
   "source": [
    "So, the linear system can be solved in two steps:"
   ]
  },
  {
   "cell_type": "markdown",
   "metadata": {},
   "source": [
    "$$\n",
    "\\begin{split}\n",
    "\\mathbf{G} \\, &\\mathbf{w} &= \\mathbf{y} \\\\\n",
    "\\mathbf{G}^{\\top} \\, &\\mathbf{x} &= \\mathbf{w}\n",
    "\\end{split} \\: .\n",
    "$$"
   ]
  },
  {
   "cell_type": "markdown",
   "metadata": {},
   "source": [
    "### Exercise 19"
   ]
  },
  {
   "cell_type": "markdown",
   "metadata": {},
   "source": [
    "1. Implement the algorithm presented above for calculating the matrix `G` from a symmetric positive definite matrix `A`. The function must receive a symmetric positive definite matrix `A` and return the lower triangular matrix `G`.\n",
    "\n",
    "2. Solve a linear system by using the calculated `G`. Use the functions implemented previously for solving triangular systems.\n",
    "\n",
    "3. Test if `A` = `GG`<sup>T</sup>\n",
    "\n",
    "4. Test your solution of the linear system against the solution obtained by using the routine [`numpy.linalg.solve`](http://docs.scipy.org/doc/numpy/reference/generated/numpy.linalg.solve.html)"
   ]
  },
  {
   "cell_type": "markdown",
   "metadata": {},
   "source": [
    "How to create a symmetric matrix?"
   ]
  },
  {
   "cell_type": "code",
   "execution_count": 1,
   "metadata": {
    "collapsed": true
   },
   "outputs": [],
   "source": [
    "import numpy as np"
   ]
  },
  {
   "cell_type": "code",
   "execution_count": 2,
   "metadata": {
    "collapsed": false
   },
   "outputs": [],
   "source": [
    "N = 5\n",
    "\n",
    "A = np.reshape(np.random.rand(N*N), (N,N))\n",
    "\n",
    "A = np.dot(A.T, A)"
   ]
  },
  {
   "cell_type": "code",
   "execution_count": 3,
   "metadata": {
    "collapsed": false
   },
   "outputs": [
    {
     "name": "stdout",
     "output_type": "stream",
     "text": [
      "[[ 1.78680217  1.20091478  1.56831244  1.04615701  1.53371694]\n",
      " [ 1.20091478  0.99696385  1.34769708  0.83271709  1.23109583]\n",
      " [ 1.56831244  1.34769708  1.97846671  1.10315765  1.80366976]\n",
      " [ 1.04615701  0.83271709  1.10315765  1.34197254  1.30109305]\n",
      " [ 1.53371694  1.23109583  1.80366976  1.30109305  2.02298205]]\n"
     ]
    }
   ],
   "source": [
    "print A"
   ]
  },
  {
   "cell_type": "markdown",
   "metadata": {},
   "source": [
    "Remember that a matrix can be symmetric but not necessarily positive definite. In this case, the Cholesky decomposition fails and "
   ]
  }
 ],
 "metadata": {
  "kernelspec": {
   "display_name": "Python 2",
   "language": "python",
   "name": "python2"
  },
  "language_info": {
   "codemirror_mode": {
    "name": "ipython",
    "version": 2
   },
   "file_extension": ".py",
   "mimetype": "text/x-python",
   "name": "python",
   "nbconvert_exporter": "python",
   "pygments_lexer": "ipython2",
   "version": "2.7.11"
  }
 },
 "nbformat": 4,
 "nbformat_minor": 0
}
