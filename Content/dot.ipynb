{
 "cells": [
  {
   "cell_type": "markdown",
   "metadata": {},
   "source": [
    "# Dot product"
   ]
  },
  {
   "cell_type": "markdown",
   "metadata": {},
   "source": [
    "Let $\\mathbf{x}$ and $\\mathbf{y}$ be two $N \\times 1$ vectors defined as follows:"
   ]
  },
  {
   "cell_type": "markdown",
   "metadata": {},
   "source": [
    "$$\\mathbf{x} = \\left[\n",
    "\\begin{array}{c}\n",
    "x_{1} \\\\\n",
    "x_{2} \\\\\n",
    "\\vdots \\\\\n",
    "x_{N}\n",
    "\\end{array}\n",
    "\\right]_{\\, N \\times 1}$$"
   ]
  },
  {
   "cell_type": "markdown",
   "metadata": {},
   "source": [
    "and"
   ]
  },
  {
   "cell_type": "markdown",
   "metadata": {},
   "source": [
    "$$\\mathbf{y} = \\left[\n",
    "\\begin{array}{c}\n",
    "y_{1} \\\\\n",
    "y_{2} \\\\\n",
    "\\vdots \\\\\n",
    "y_{N}\n",
    "\\end{array}\n",
    "\\right]_{\\, N \\times 1}$$ ."
   ]
  },
  {
   "cell_type": "markdown",
   "metadata": {},
   "source": [
    "The [dot product](http://mathworld.wolfram.com/DotProduct.html) of $\\mathbf{x}$ and $\\mathbf{y}$ is given by:"
   ]
  },
  {
   "cell_type": "markdown",
   "metadata": {},
   "source": [
    "$$\\begin{split}\n",
    "c & = \\mathbf{x}^{\\top}\\mathbf{y} \\\\\n",
    "  & = \\mathbf{x} \\cdot \\mathbf{y} \\\\\n",
    "  & = \\sum^{N}_{i=1} x_{i} \\, y_{i}\n",
    "\\end{split}$$"
   ]
  },
  {
   "cell_type": "markdown",
   "metadata": {},
   "source": [
    "Notice that the result is a scalar."
   ]
  },
  {
   "cell_type": "markdown",
   "metadata": {},
   "source": [
    "This product can be represented as follows:"
   ]
  },
  {
   "cell_type": "markdown",
   "metadata": {},
   "source": [
    "    c = 0\n",
    "    for i = 1:N\n",
    "        c = c + x[i]*y[i]"
   ]
  },
  {
   "cell_type": "markdown",
   "metadata": {},
   "source": [
    "### Exercise"
   ]
  },
  {
   "cell_type": "markdown",
   "metadata": {},
   "source": [
    "1. Create a function that receives two numpy arrays and computes the dot product according to the algorithm shown above. The numpy arrays must have the same size (hint: use an `assert` to verify the input). The function must be written in your `my_functions.py` file, according to the template shown below.\n",
    "2. Create 3 automatic tests in your `test_my_functions.py` file, according to the template shown below. One of the tests must compare the result obtained by your function and the result obtained by using the function [`numpy.dot`](https://docs.scipy.org/doc/numpy/reference/generated/numpy.dot.html). Another test must set a specific input and compare the result obtained by your function and the expected result. The last test must verify if your function raises an AssertionError, given a specific input."
   ]
  },
  {
   "cell_type": "markdown",
   "metadata": {},
   "source": [
    "#### Template for function"
   ]
  },
  {
   "cell_type": "markdown",
   "metadata": {},
   "source": [
    "    import package_bla as pckbla\n",
    "    import package_ble as pckble\n",
    "    import package_bli as pckbli\n",
    "\n",
    "\n",
    "    def my_function():\n",
    "\n",
    "        '''\n",
    "        Description of the function.\n",
    "\n",
    "\n",
    "        input\n",
    "\n",
    "        input1: variable type - description of the variable\n",
    "        input2: variable type - description of the variable    \n",
    "\n",
    "\n",
    "        output\n",
    "\n",
    "        output1: variable type - description of the variable\n",
    "        output2: variable type - description of the variable\n",
    "\n",
    "\n",
    "        '''\n",
    "\n",
    "        # create variables\n",
    "\n",
    "        # define assert statements\n",
    "        assert 'statement A' and 'statement B', 'error message 1'\n",
    "        assert 'statement A' == 'statement B', 'error message 2'\n",
    "        assert 'statement A' != 'statement B', 'error message 3'\n",
    "        assert 'statement A' <= 'statement B', 'error message 4'\n",
    "        assert 'statement A' or 'statement B', 'error message 5'\n",
    "\n",
    "        # your code\n",
    "        a = pckbla.function(...)\n",
    "        b = pckble.function(...)\n",
    "        for i in range ...\n",
    "            c = a*pckbli.function(b)\n",
    "        ...\n",
    "\n",
    "        return output1, output2, ..."
   ]
  },
  {
   "cell_type": "markdown",
   "metadata": {},
   "source": [
    "#### Template for test functions"
   ]
  },
  {
   "cell_type": "markdown",
   "metadata": {},
   "source": [
    "    import my_functions as mf\n",
    "    import numpy as np\n",
    "    from numpy.testing import assert_almost_equal as aae\n",
    "    from pytest import raises\n",
    "\n",
    "\n",
    "    def test_my_function1():\n",
    "\n",
    "        'Function must return a specific result given a specific input'\n",
    "\n",
    "        specific_input = ...\n",
    "        expected_result = ...\n",
    "        my_result = mf.my_function1(...)\n",
    "        \n",
    "        aae(my_result, expected_result, decimal=15)\n",
    "\n",
    "\n",
    "    def test_my_function2():\n",
    "\n",
    "        'Function must raise an AssertionError for a specific input'\n",
    "\n",
    "        # parameter values\n",
    "        p1 = ...\n",
    "        p2 = ...\n",
    "        p3 = ...\n",
    "        \n",
    "        raises(AssertionError, mf.my_function2, parameter1=p1, parameter2=p2, parameter3=p3)\n"
   ]
  },
  {
   "cell_type": "markdown",
   "metadata": {},
   "source": [
    "#### Notes"
   ]
  },
  {
   "cell_type": "markdown",
   "metadata": {},
   "source": [
    "The test function `test_my_function2` shown above presumes that the function `mf.my_function2` is defined as follows:\n",
    "\n",
    "    def my_function2(parameter1, parameter2, parameter3):\n",
    "        ...\n",
    "        assert ...\n",
    "        return ..."
   ]
  },
  {
   "cell_type": "markdown",
   "metadata": {},
   "source": [
    "Do not use [Tab](https://en.wikipedia.org/wiki/Tab_key) in your code. Replace a Tab by 4 spaces. Use only [ASCII characters](https://en.wikipedia.org/wiki/ASCII#Printable_characters)."
   ]
  }
 ],
 "metadata": {
  "anaconda-cloud": {},
  "kernelspec": {
   "display_name": "Python 2",
   "language": "python",
   "name": "python2"
  },
  "language_info": {
   "codemirror_mode": {
    "name": "ipython",
    "version": 2
   },
   "file_extension": ".py",
   "mimetype": "text/x-python",
   "name": "python",
   "nbconvert_exporter": "python",
   "pygments_lexer": "ipython2",
   "version": "2.7.13"
  }
 },
 "nbformat": 4,
 "nbformat_minor": 1
}
