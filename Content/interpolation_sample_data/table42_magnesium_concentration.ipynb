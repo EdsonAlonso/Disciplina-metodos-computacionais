{
 "cells": [
  {
   "cell_type": "markdown",
   "metadata": {},
   "source": [
    "# Magnesium concentration"
   ]
  },
  {
   "cell_type": "markdown",
   "metadata": {},
   "source": [
    "Data set shown by Davis (2002, Table 4-2, p. 164) containing measurements of magnesium concentration in stream water at 20 locations. Distances are from stream mouth t o sample locations.\n",
    "\n",
    "* Davis, J.C. (2002). Statistics and Data Analysis in Geology. 3rt edition, John Wiley & Sons, ISBN 0-47 1-1 7275-8."
   ]
  },
  {
   "cell_type": "code",
   "execution_count": 1,
   "metadata": {},
   "outputs": [],
   "source": [
    "import numpy as np\n",
    "import matplotlib.pyplot as plt"
   ]
  },
  {
   "cell_type": "code",
   "execution_count": 2,
   "metadata": {},
   "outputs": [],
   "source": [
    "distance, concentration = np.loadtxt('table42_magnesium_concentration.txt', unpack=True)"
   ]
  },
  {
   "cell_type": "code",
   "execution_count": 3,
   "metadata": {},
   "outputs": [
    {
     "name": "stdout",
     "output_type": "stream",
     "text": [
      "[    0.  1820.  2542.  2889.  3460.  4586.  6020.  6841.  7232. 10903.\n",
      " 11098. 11922. 12530. 14065. 14937. 16244. 17632. 19002. 20860. 22471.]\n"
     ]
    }
   ],
   "source": [
    "print(distance)"
   ]
  },
  {
   "cell_type": "code",
   "execution_count": 5,
   "metadata": {},
   "outputs": [
    {
     "name": "stdout",
     "output_type": "stream",
     "text": [
      "[6.44 8.61 5.24 5.73 3.81 4.05 2.95 2.57 3.37 3.84 2.86 1.22 1.09 2.36\n",
      " 2.24 2.05 2.23 0.42 0.87 1.26]\n"
     ]
    }
   ],
   "source": [
    "print(concentration)"
   ]
  },
  {
   "cell_type": "code",
   "execution_count": 6,
   "metadata": {},
   "outputs": [
    {
     "data": {
      "image/png": "[encoded data removed]",
      "text/plain": [
       "<Figure size 432x288 with 1 Axes>"
      ]
     },
     "metadata": {},
     "output_type": "display_data"
    }
   ],
   "source": [
    "plt.figure()\n",
    "plt.plot(0.001*distance, concentration, 'k-')\n",
    "plt.plot(0.001*distance, concentration, 'ko')\n",
    "plt.xticks(fontsize=14)\n",
    "plt.yticks(fontsize=14)\n",
    "plt.xlabel('Distance (km)', fontsize=16)\n",
    "plt.ylabel('Mg (ppm)', fontsize=16)\n",
    "plt.xlim(-2, 25)\n",
    "plt.ylim(0, 11)\n",
    "plt.show()"
   ]
  },
  {
   "cell_type": "code",
   "execution_count": null,
   "metadata": {},
   "outputs": [],
   "source": []
  }
 ],
 "metadata": {
  "kernelspec": {
   "display_name": "Python 3",
   "language": "python",
   "name": "python3"
  },
  "language_info": {
   "codemirror_mode": {
    "name": "ipython",
    "version": 3
   },
   "file_extension": ".py",
   "mimetype": "text/x-python",
   "name": "python",
   "nbconvert_exporter": "python",
   "pygments_lexer": "ipython3",
   "version": "3.6.8"
  }
 },
 "nbformat": 4,
 "nbformat_minor": 2
}
