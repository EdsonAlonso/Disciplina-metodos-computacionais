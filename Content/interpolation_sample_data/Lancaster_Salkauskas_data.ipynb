{
 "cells": [
  {
   "cell_type": "markdown",
   "metadata": {},
   "source": [
    "# Synthetic data presented by Lancaster and Salkauskas (1980)"
   ]
  },
  {
   "cell_type": "markdown",
   "metadata": {},
   "source": [
    "Synthetic data set containing two flat regions separated by a linear slope, with a Gaussian peak placed on lower level (Lancaster and Salkauskas, 1980).\n",
    "\n",
    "**References**\n",
    "\n",
    "* Lancaster, P., Salkauskas, K., 1980. Curve and Surface Fitting: An Introduction. Academic Press, London, UK pp 280.\n",
    "\n",
    "* Sandwell, David T. 1987. “Biharmonic Spline Interpolation of GEOS-3 and SEASAT Altimeter Data.” Geophysical Research Letters 14 (2): 139–42. https://doi.org/10.1029/GL014i002p00139.\n",
    "\n",
    "* Wessel, Paul. 2009. “A General-Purpose Green’s Function-Based Interpolator.” Computers & Geosciences 35 (6): 1247–54. https://doi.org/10.1016/j.cageo.2008.08.012."
   ]
  },
  {
   "cell_type": "code",
   "execution_count": 1,
   "metadata": {},
   "outputs": [],
   "source": [
    "import matplotlib"
   ]
  },
  {
   "cell_type": "raw",
   "metadata": {},
   "source": [
    "matplotlib.rcsetup.all_backends"
   ]
  },
  {
   "cell_type": "code",
   "execution_count": 2,
   "metadata": {},
   "outputs": [],
   "source": [
    "matplotlib.use('Qt5Agg', force=True)"
   ]
  },
  {
   "cell_type": "code",
   "execution_count": 3,
   "metadata": {},
   "outputs": [],
   "source": [
    "import matplotlib.pyplot as plt\n",
    "from mpl_toolkits import mplot3d\n",
    "\n",
    "import numpy as np"
   ]
  },
  {
   "cell_type": "code",
   "execution_count": 4,
   "metadata": {},
   "outputs": [],
   "source": [
    "def synthetic_data(x, y):\n",
    "\n",
    "    shapex = x.shape\n",
    "    shapey = y.shape\n",
    "    assert shapex == shapey, 'x and y must have the same shape'\n",
    "\n",
    "    mask1 = ((y - x) >= 0.5)\n",
    "    mask2 = ((0 <= (y - x)) & ((y - x) < 0.5))\n",
    "    mask3 = ((x - 1.5)**2 + (y - 0.5)**2 <= 1/16)\n",
    "\n",
    "    z = np.zeros_like(x)\n",
    "\n",
    "    z[mask1] = 1\n",
    "    z[mask2] = 2*(y[mask2] - x[mask2])\n",
    "    z[mask3] = 0.5*(np.cos(4*np.pi*np.sqrt((x[mask3] - 1.5)**2 + (y[mask3] - 0.5)**2)) + 1)\n",
    "\n",
    "    return np.reshape(z, shapex)"
   ]
  },
  {
   "cell_type": "code",
   "execution_count": 5,
   "metadata": {},
   "outputs": [],
   "source": [
    "Nx = 100\n",
    "Ny = 50\n",
    "xmin = 0\n",
    "xmax = 2\n",
    "ymin = 0\n",
    "ymax = 1\n",
    "x_grid, y_grid = np.meshgrid(np.linspace(xmin, xmax, Nx),\n",
    "                             np.linspace(ymin, ymax, Ny))"
   ]
  },
  {
   "cell_type": "code",
   "execution_count": 6,
   "metadata": {},
   "outputs": [],
   "source": [
    "z_grid = synthetic_data(x_grid, y_grid)"
   ]
  },
  {
   "cell_type": "code",
   "execution_count": 7,
   "metadata": {},
   "outputs": [],
   "source": [
    "plt.close('all')\n",
    "fig, ax = plt.subplots(nrows=1, ncols=1)\n",
    "\n",
    "colormap = ax.pcolormesh(x_grid, y_grid, z_grid, cmap=plt.get_cmap('viridis'))\n",
    "fig.colorbar(colormap, ax=ax)\n",
    "\n",
    "plt.show()"
   ]
  },
  {
   "cell_type": "code",
   "execution_count": 8,
   "metadata": {},
   "outputs": [],
   "source": [
    "plt.close('all')\n",
    "fig = plt.figure()\n",
    "ax = plt.axes(projection=\"3d\")\n",
    "colormap3D = ax.plot_surface(x_grid, y_grid, z_grid, rstride=1, cstride=1, cmap=plt.get_cmap('viridis'))\n",
    "fig.colorbar(colormap3D, ax=ax)\n",
    "plt.show()"
   ]
  },
  {
   "cell_type": "code",
   "execution_count": null,
   "metadata": {},
   "outputs": [],
   "source": [
    "x_random = xmin + (xmax - xmin)*np.random.rand()"
   ]
  }
 ],
 "metadata": {
  "kernelspec": {
   "display_name": "Python 3",
   "language": "python",
   "name": "python3"
  },
  "language_info": {
   "codemirror_mode": {
    "name": "ipython",
    "version": 3
   },
   "file_extension": ".py",
   "mimetype": "text/x-python",
   "name": "python",
   "nbconvert_exporter": "python",
   "pygments_lexer": "ipython3",
   "version": "3.6.8"
  }
 },
 "nbformat": 4,
 "nbformat_minor": 2
}
