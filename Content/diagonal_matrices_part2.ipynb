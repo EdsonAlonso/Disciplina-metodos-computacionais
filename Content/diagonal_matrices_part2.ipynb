{
 "cells": [
  {
   "cell_type": "markdown",
   "metadata": {},
   "source": [
    "# Diagonal matrices - part 2"
   ]
  },
  {
   "cell_type": "markdown",
   "metadata": {},
   "source": [
    "Consider now a generalized $N \\times N$ diagonal matrix $\\mathbf{D}_{k}$ with a dislocated diagonal. Let's consider that the diagonal has an offset $k$. If $k > 0$, the diagonal is dislocated towards the upper triangle of $\\mathbf{D}_{k}$. If $k < 0$, then it is dislocated towards the lower triangle of $\\mathbf{D}_{k}$. The particular case in which $k = 0$ is equivalent to the diagonal matrix presented in `diagonal_matrices_part1.ipynb`. Consider a the following examples with $N = 5$:"
   ]
  },
  {
   "cell_type": "markdown",
   "metadata": {},
   "source": [
    "$$\\mathbf{D}_{2} = \\begin{bmatrix}\n",
    "0 & 0 & d_{13} & 0 & 0 \\\\\n",
    "0 & 0 & 0 & d_{24} & 0 \\\\\n",
    "0 & 0 & 0 & 0 & d_{35} \\\\\n",
    "0 & 0 & 0 & 0 & 0 \\\\\n",
    "0 & 0 & 0 & 0 & 0\n",
    "\\end{bmatrix}\n",
    "$$"
   ]
  },
  {
   "cell_type": "markdown",
   "metadata": {},
   "source": [
    "$$\\mathbf{D}_{-1} = \\begin{bmatrix}\n",
    "0 & 0 & 0 & 0 & 0 \\\\\n",
    "d_{21} & 0 & 0 & 0 & 0 \\\\\n",
    "0 & d_{32} & 0 & 0 & 0 \\\\\n",
    "0 & 0 & d_{43} & 0 & 0 \\\\\n",
    "0 & 0 & 0 & d_{54} & 0\n",
    "\\end{bmatrix}\n",
    "$$"
   ]
  },
  {
   "cell_type": "markdown",
   "metadata": {},
   "source": [
    "Similarly to the case $k = 0$, the product of $\\mathbf{D}_{k}$ and a vector $\\mathbf{x}$ for $k \\ne 0$ can be defined in terms of the Hadamard product (see the notebook `hadamard.ipynb`), as follows:"
   ]
  },
  {
   "cell_type": "markdown",
   "metadata": {},
   "source": [
    "$$\\mathbf{d} = diag \\left( \\mathbf{D} \\right) = \n",
    "\\left[ \\begin{array}{c}\n",
    "d_{11} \\\\\n",
    "\\vdots \\\\\n",
    "d_{NN}\n",
    "\\end{array} \\right] \\: .\n",
    "$$"
   ]
  },
  {
   "cell_type": "markdown",
   "metadata": {},
   "source": [
    "Let $\\mathbf{x}$ be a $N \\times 1$ vector given by:"
   ]
  },
  {
   "cell_type": "markdown",
   "metadata": {},
   "source": [
    "$$\\mathbf{x} = \n",
    "\\left[ \\begin{array}{c}\n",
    "x_{1} \\\\\n",
    "\\vdots \\\\\n",
    "x_{N}\n",
    "\\end{array} \\right] \\: .\n",
    "$$"
   ]
  },
  {
   "cell_type": "markdown",
   "metadata": {},
   "source": [
    "In this case, it can be easily shown that"
   ]
  },
  {
   "cell_type": "markdown",
   "metadata": {},
   "source": [
    "$$\n",
    "\\mathbf{D} \\mathbf{x} = \\mathbf{d} \\circ \\mathbf{x} \\: ,\n",
    "$$\n",
    "\n",
    "which represents the Hadamard (or entrywise) product of $\\mathbf{d}$ and $\\mathbf{x}$."
   ]
  },
  {
   "cell_type": "markdown",
   "metadata": {},
   "source": [
    "Now, consider a full $N \\times N$ matrix $\\mathbf{B}$. It can be show that the resultant matrix $\\mathbf{C} = \\mathbf{D} \\mathbf{B}$ can be calculated as follows:"
   ]
  },
  {
   "cell_type": "markdown",
   "metadata": {},
   "source": [
    "    for i = 1:N\n",
    "        C[i, :] = d[i]*B[i,:]"
   ]
  },
  {
   "cell_type": "markdown",
   "metadata": {},
   "source": [
    "Similarly, it can be shown that the product $\\mathbf{E} = \\mathbf{B} \\mathbf{D}$ can be calculated as follows:"
   ]
  },
  {
   "cell_type": "markdown",
   "metadata": {},
   "source": [
    "    for j = 1:N\n",
    "        E[:,j] = d[j]*B[:,j]"
   ]
  },
  {
   "cell_type": "markdown",
   "metadata": {},
   "source": [
    "### Exercise"
   ]
  },
  {
   "cell_type": "markdown",
   "metadata": {},
   "source": [
    "1. In your `my_functions.py` file, create a function called `matvec_diag_prod` for computing the product `Dx` according to the algorithm presented above. The function must receive the diagonal `d` and the vector `x`.\n",
    "2. In your `test_my_functions.py` file, create two tests for the function `matvec_diag_prod`. One test must receive an specific input and compare the result obtained by your function with an expected result. The other test must create the diagonal matrix `D` by using the vector `d` containing its diagonal elements (see the example below). This test must compare the result produced by one of your previous functions developed in the notebook `matrix-vector.ipynb` and the result produced by the function `matvec_diag_prod`.\n",
    "3. In your `my_functions.py` file, create a function called `matmat_diagfull_prod` for computing the product `DB` according to the first algorithm shown above. The function must receive the diagonal `d` and the full matrix `B`.\n",
    "4. In your `test_my_functions.py` file, create two tests for the function `matmat_diagfull_prod`. One test must receive an specific input and compare the result obtained by your function with an expected result. The other test must create the diagonal matrix `D` by using the vector `d` containing its diagonal elements (see the example below). This test must compare the result produced by one of your previous functions developed in the notebook `matrix-matrix.ipynb` and the result produced by the function `matmat_diagfull_prod`.\n",
    "5. In your `my_functions.py` file, create a function called `matmat_fulldiag_prod` for computing the product `BD` according to the second algorithm shown above. The function must receive the full matrix `B` and the diagonal `d`.\n",
    "6. In your `test_my_functions.py` file, create two tests for the function `matmat_diagfull_prod`. One test must receive an specific input and compare the result obtained by your function with an expected result. The other test must create the diagonal matrix `D` and the vector `d` containing its diagonal elements (see the example below). This test must compare the result produced by one of your previous functions developed in the notebook `matrix-matrix.ipynb` and the result produced by the function `matmat_diagfull_prod`.\n",
    "7. (Extra) Determine the total number of flops associated with each algorithm presented above. Are these number of flops equal to those required for computing the conventional product between two full matrices?"
   ]
  },
  {
   "cell_type": "code",
   "execution_count": null,
   "metadata": {},
   "outputs": [],
   "source": []
  }
 ],
 "metadata": {
  "anaconda-cloud": {},
  "kernelspec": {
   "display_name": "Python 3",
   "language": "python",
   "name": "python3"
  },
  "language_info": {
   "codemirror_mode": {
    "name": "ipython",
    "version": 3
   },
   "file_extension": ".py",
   "mimetype": "text/x-python",
   "name": "python",
   "nbconvert_exporter": "python",
   "pygments_lexer": "ipython3",
   "version": "3.6.8"
  }
 },
 "nbformat": 4,
 "nbformat_minor": 1
}
