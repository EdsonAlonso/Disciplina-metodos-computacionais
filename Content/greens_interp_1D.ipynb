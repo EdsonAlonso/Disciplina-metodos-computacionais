{
 "cells": [
  {
   "cell_type": "markdown",
   "metadata": {},
   "source": [
    "# Spline interpolation with Green's functions - 1D"
   ]
  },
  {
   "cell_type": "markdown",
   "metadata": {},
   "source": [
    "##### References\n",
    "\n",
    "* Davis, J. C., 2002. Statistics and Data Analysis in Geology. 3rd edition, John Wiley & Sons, ISBN 0-47 1-1 7275-8.\n",
    "\n",
    "* Wessel, Paul. 2009. “A General-Purpose Green’s Function-Based Interpolator.” Computers & Geosciences 35 (6): 1247–54. https://doi.org/10.1016/j.cageo.2008.08.012."
   ]
  },
  {
   "cell_type": "markdown",
   "metadata": {},
   "source": [
    "## 1D interpolation"
   ]
  },
  {
   "cell_type": "markdown",
   "metadata": {},
   "source": [
    "The cells below present an implementation using the 1D Cartesian Green's functions (Table 1 of notebook `greens_interp_theory`) to interpolate a data set of magnesium concentrations given as a function of distance upstream from a river mouth (Davis, 2002, Table 4-2, p. 164). The trend term $\\mathbf{s}(\\mathbf{q})$ (equation 5 of notebook `greens_interp_theory`) is not considered in this example."
   ]
  },
  {
   "cell_type": "code",
   "execution_count": 1,
   "metadata": {},
   "outputs": [],
   "source": [
    "import matplotlib.pyplot as plt\n",
    "import numpy as np"
   ]
  },
  {
   "cell_type": "code",
   "execution_count": 2,
   "metadata": {},
   "outputs": [],
   "source": [
    "distance, mg = np.loadtxt('interpolation_sample_data/magnesium_concentration.txt', unpack=True)"
   ]
  },
  {
   "cell_type": "code",
   "execution_count": 3,
   "metadata": {},
   "outputs": [
    {
     "data": {
      "text/plain": [
       "array([    0.,  1820.,  2542.,  2889.,  3460.,  4586.,  6020.,  6841.,\n",
       "        7232., 10903., 11098., 11922., 12530., 14065., 14937., 16244.,\n",
       "       17632., 19002., 20860., 22471.])"
      ]
     },
     "execution_count": 3,
     "metadata": {},
     "output_type": "execute_result"
    }
   ],
   "source": [
    "distance"
   ]
  },
  {
   "cell_type": "code",
   "execution_count": 4,
   "metadata": {},
   "outputs": [
    {
     "data": {
      "text/plain": [
       "array([6.44, 8.61, 5.24, 5.73, 3.81, 4.05, 2.95, 2.57, 3.37, 3.84, 2.86,\n",
       "       1.22, 1.09, 2.36, 2.24, 2.05, 2.23, 0.42, 0.87, 1.26])"
      ]
     },
     "execution_count": 4,
     "metadata": {},
     "output_type": "execute_result"
    }
   ],
   "source": [
    "mg"
   ]
  },
  {
   "cell_type": "code",
   "execution_count": 5,
   "metadata": {
    "scrolled": false
   },
   "outputs": [
    {
     "data": {
      "image/png": "[encoded data removed]",
      "text/plain": [
       "<Figure size 432x288 with 1 Axes>"
      ]
     },
     "metadata": {
      "needs_background": "light"
     },
     "output_type": "display_data"
    }
   ],
   "source": [
    "fig, ax = plt.subplots(nrows=1, ncols=1, )\n",
    "\n",
    "ax.plot(0.001*distance, mg, 'ko', markersize=7)\n",
    "ax.set_xlabel('Distance (km)', fontsize=16)\n",
    "ax.set_ylabel('Mg (ppm)', fontsize=16)\n",
    "ax.set_xlim(-2, 25)\n",
    "ax.set_ylim(0, 11)\n",
    "ax.tick_params(axis = 'both', which = 'major', labelsize = 14)\n",
    "ax.grid()\n",
    "plt.tight_layout()\n",
    "plt.show()"
   ]
  },
  {
   "cell_type": "code",
   "execution_count": 6,
   "metadata": {},
   "outputs": [],
   "source": [
    "def G_1D(p, t=0, p_interp=None):\n",
    "    '''\n",
    "    Compute matrix G formed by 1D Cartesian Green's functions.\n",
    "    \n",
    "    Parameters\n",
    "    ----------\n",
    "    p : array 1D\n",
    "        Vector with N coordinates.\n",
    "\n",
    "    t : float\n",
    "        Positive scalar, in the interval [0, 1[ , controlling the\n",
    "        tension in spline surface.\n",
    "\n",
    "    p_interp : array 1D\n",
    "        Vector with N interpolation coordinates.\n",
    "\n",
    "    Returns\n",
    "    -------\n",
    "    G : array 2D\n",
    "        Matrix of Green's functions.\n",
    "    '''\n",
    "\n",
    "    p = np.asarray(p)\n",
    "    assert p.ndim == 1, 'p must be a vector'\n",
    "    assert p.size > 2, 'p must have more than two elements'\n",
    "    assert np.isscalar(t), 't must be a scalar'\n",
    "    assert (t >= 0) and (t < 1), 't must be greater than or equal to zero and lower lower than one' \n",
    "\n",
    "    tau = np.sqrt(t/(1-t))\n",
    "\n",
    "    if p_interp is not None:\n",
    "        p_interp = np.asarray(p_interp)\n",
    "        assert p_interp.ndim == 1, 'p_interp must be a vector'\n",
    "        assert p_interp.size > 2, 'p_interp must have more than two elements'\n",
    "        y = p_interp\n",
    "    else:\n",
    "        y = p\n",
    "    \n",
    "    G = np.empty((y.size, p.size))\n",
    "    if tau == 0:\n",
    "        for j, pj in enumerate(p):\n",
    "            r = np.abs(y - pj)\n",
    "            G[:,j] = r**3\n",
    "    else:\n",
    "        for j, pj in enumerate(p):\n",
    "            r = np.abs(y - pj)\n",
    "            G[:,j] = np.exp(-tau*r) + tau*r - 1\n",
    "\n",
    "    return G"
   ]
  },
  {
   "cell_type": "markdown",
   "metadata": {},
   "source": [
    "### Estimate 1D spline coefficients"
   ]
  },
  {
   "cell_type": "code",
   "execution_count": 7,
   "metadata": {},
   "outputs": [],
   "source": [
    "# G matrix without tension\n",
    "G1D_no_tension = G_1D(distance, t=0)"
   ]
  },
  {
   "cell_type": "code",
   "execution_count": 8,
   "metadata": {},
   "outputs": [],
   "source": [
    "# Coefficients without tension\n",
    "coeffs_no_tension = np.linalg.solve(G1D_no_tension, mg)"
   ]
  },
  {
   "cell_type": "code",
   "execution_count": 9,
   "metadata": {},
   "outputs": [],
   "source": [
    "# G matrix with tension\n",
    "G1D_tension = G_1D(distance, t=0.000025)"
   ]
  },
  {
   "cell_type": "code",
   "execution_count": 10,
   "metadata": {},
   "outputs": [],
   "source": [
    "# Coefficients with tension\n",
    "coeffs_tension = np.linalg.solve(G1D_tension, mg)"
   ]
  },
  {
   "cell_type": "markdown",
   "metadata": {},
   "source": [
    "### Interpolate 1D data"
   ]
  },
  {
   "cell_type": "code",
   "execution_count": 11,
   "metadata": {},
   "outputs": [],
   "source": [
    "# Interpolation coordinates\n",
    "distance_interp = np.linspace(-2000, 25000, 60)"
   ]
  },
  {
   "cell_type": "code",
   "execution_count": 12,
   "metadata": {},
   "outputs": [],
   "source": [
    "# Compute interpolated data without tension\n",
    "G1D_no_tension_interp = G_1D(distance, t=0, p_interp=distance_interp)\n",
    "y_no_tension_interp = np.dot(G1D_no_tension_interp, coeffs_no_tension)"
   ]
  },
  {
   "cell_type": "code",
   "execution_count": 13,
   "metadata": {},
   "outputs": [],
   "source": [
    "# Compute interpolated data with tension\n",
    "G1D_tension_interp = G_1D(distance, t=0.000025, p_interp=distance_interp)\n",
    "y_tension_interp = np.dot(G1D_tension_interp, coeffs_tension)"
   ]
  },
  {
   "cell_type": "code",
   "execution_count": 16,
   "metadata": {},
   "outputs": [
    {
     "data": {
      "image/png": "[encoded data removed]",
      "text/plain": [
       "<Figure size 432x288 with 1 Axes>"
      ]
     },
     "metadata": {
      "needs_background": "light"
     },
     "output_type": "display_data"
    }
   ],
   "source": [
    "fig, ax = plt.subplots(nrows=1, ncols=1, )\n",
    "\n",
    "ax.plot(0.001*distance, mg, 'ko', markersize=7, label='true')\n",
    "ax.plot(0.001*distance_interp, y_no_tension_interp, 'b.-', label='no tension')\n",
    "ax.plot(0.001*distance_interp, y_tension_interp, 'r.-', label='tension t = 2.5e-5')\n",
    "ax.set_xlabel('Distance (km)', fontsize=16)\n",
    "ax.set_ylabel('Mg (ppm)', fontsize=16)\n",
    "ax.set_xlim(-2, 25)\n",
    "ax.set_ylim(0, 11)\n",
    "ax.tick_params(axis = 'both', which = 'major', labelsize = 14)\n",
    "ax.legend(loc='best')\n",
    "ax.grid()\n",
    "plt.tight_layout()\n",
    "plt.show()"
   ]
  },
  {
   "cell_type": "code",
   "execution_count": null,
   "metadata": {},
   "outputs": [],
   "source": []
  }
 ],
 "metadata": {
  "kernelspec": {
   "display_name": "Python 3",
   "language": "python",
   "name": "python3"
  },
  "language_info": {
   "codemirror_mode": {
    "name": "ipython",
    "version": 3
   },
   "file_extension": ".py",
   "mimetype": "text/x-python",
   "name": "python",
   "nbconvert_exporter": "python",
   "pygments_lexer": "ipython3",
   "version": "3.7.7"
  }
 },
 "nbformat": 4,
 "nbformat_minor": 1
}
