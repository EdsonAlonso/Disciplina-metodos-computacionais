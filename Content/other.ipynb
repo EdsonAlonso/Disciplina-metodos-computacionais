{
 "cells": [
  {
   "cell_type": "markdown",
   "metadata": {},
   "source": [
    "# Other products"
   ]
  },
  {
   "cell_type": "markdown",
   "metadata": {},
   "source": [
    "Let $\\mathbf{x}$ and $\\mathbf{y}$ be two $N \\times 1$ vectors given by:"
   ]
  },
  {
   "cell_type": "markdown",
   "metadata": {},
   "source": [
    "$$\\mathbf{x} = \\left[\n",
    "\\begin{array}{c}\n",
    "x_{1} \\\\\n",
    "x_{2} \\\\\n",
    "\\vdots \\\\\n",
    "x_{N}\n",
    "\\end{array}\n",
    "\\right]_{N \\times 1}$$"
   ]
  },
  {
   "cell_type": "markdown",
   "metadata": {},
   "source": [
    "and"
   ]
  },
  {
   "cell_type": "markdown",
   "metadata": {},
   "source": [
    "$$\\mathbf{y} = \\left[\n",
    "\\begin{array}{c}\n",
    "y_{1} \\\\\n",
    "y_{2} \\\\\n",
    "\\vdots \\\\\n",
    "y_{N}\n",
    "\\end{array}\n",
    "\\right]_{N \\times 1}$$ ."
   ]
  },
  {
   "cell_type": "markdown",
   "metadata": {},
   "source": [
    "** Hadamard (or entrywise) product** (Horn and Johnson, 1994, chapter 5)"
   ]
  },
  {
   "cell_type": "markdown",
   "metadata": {},
   "source": [
    "$$\\begin{split}\n",
    "\\mathbf{z} \n",
    "& = \\mathbf{x} \\circ \\mathbf{y} \\\\\n",
    "& = \\left[\n",
    "\\begin{array}{c}\n",
    "x_{1} \\, y_{1} \\\\\n",
    "x_{2} \\, y_{2}\\\\\n",
    "\\vdots \\\\\n",
    "x_{N} \\, y_{N}\n",
    "\\end{array}\n",
    "\\right]_{N \\times 1}\n",
    "\\end{split}$$"
   ]
  },
  {
   "cell_type": "markdown",
   "metadata": {},
   "source": [
    "Notice that the result is a vector with the same number of elements as $\\mathbf{x}$ and $\\mathbf{y}$."
   ]
  },
  {
   "cell_type": "markdown",
   "metadata": {},
   "source": [
    "Horn, R. A. and Johnson, C. R. Topics in matrix analysis, Cambridge University Press, 1994"
   ]
  },
  {
   "cell_type": "code",
   "execution_count": null,
   "metadata": {
    "collapsed": true
   },
   "outputs": [],
   "source": []
  },
  {
   "cell_type": "markdown",
   "metadata": {},
   "source": [
    "**Produto direto (ou produto de Kronecker)**"
   ]
  },
  {
   "cell_type": "markdown",
   "metadata": {},
   "source": [
    "$$\\begin{split}\n",
    "\\mathbf{M} & = \\mathbf{x} \\otimes \\mathbf{y}^{\\top} \\\\\n",
    "           & = \\left[\n",
    "                \\begin{array}{c}\n",
    "                x_{1} \\, \\mathbf{y}^{\\top} \\\\\n",
    "                x_{2} \\, \\mathbf{y}^{\\top}\\\\\n",
    "                \\vdots \\\\\n",
    "                x_{N} \\, \\mathbf{y}^{\\top}\n",
    "                \\end{array}\n",
    "                \\right]_{N \\times N} \\\\\n",
    "           & = \\left[\n",
    "                \\begin{array}{ccc}\n",
    "                y_{1} \\, \\mathbf{x} & \\dots & y_{N} \\, \\mathbf{x}\n",
    "                \\end{array}\n",
    "                \\right]_{N \\times N}\n",
    "\\end{split}$$"
   ]
  },
  {
   "cell_type": "markdown",
   "metadata": {},
   "source": [
    "Note que, neste caso, o resultado é uma matriz quadrada de ordem $N$ igual ao número de elementos dos vetores $\\mathbf{x}$ e $\\mathbf{y}$. Contudo, os vetores $\\mathbf{x}$ e $\\mathbf{y}$ NÃO precisam ter o mesmo número de elementos. Considere, por exemplo, que o vetor $\\mathbf{x}$ é $N \\times 1$ e o vetor $\\mathbf{y}$ é $M \\times 1$, em que $N \\neq M$. Neste caso, a matriz $\\mathbf{M}$ é $N \\times M$ e NÃO é quadrada. "
   ]
  },
  {
   "cell_type": "markdown",
   "metadata": {},
   "source": [
    "Para mais informações:\n",
    "\n",
    "* http://mathworld.wolfram.com/VectorDirectProduct.html\n",
    "\n",
    "* Horn e Johnson (1994), Capítulo 4, Seção 4.2"
   ]
  },
  {
   "cell_type": "markdown",
   "metadata": {},
   "source": [
    "Considere a situação em que o vetor $\\mathbf{x}$ é $N \\times 1$ e o vetor $\\mathbf{y}$ é $M \\times 1$. A matriz $\\mathbf{M}$ resultante do produto direto entre $\\mathbf{x}$ e $\\mathbf{y}$ pode ser particionada em linhas ou em colunas, tal como descrito abaixo:"
   ]
  },
  {
   "cell_type": "markdown",
   "metadata": {},
   "source": [
    "$$\\begin{split}\n",
    "    \\mathbf{M} \n",
    "    & = \\left[\n",
    "    \\begin{array}{ccc}\n",
    "        m_{11} & \\cdots & m_{1M} \\\\\n",
    "        \\vdots &        & \\vdots \\\\\n",
    "        m_{N1} & \\cdots & m_{NM}\n",
    "    \\end{array}\n",
    "    \\right]_{N \\times M} \\\\\n",
    "    & = \\left[\n",
    "    \\begin{array}{c}\n",
    "        \\mathbf{M}(1,:) \\\\\n",
    "        \\vdots \\\\\n",
    "        \\mathbf{M}(N,:)\n",
    "    \\end{array}\n",
    "    \\right]_{N \\times M} \\\\\n",
    "    & = \\left[\n",
    "    \\begin{array}{ccc}\n",
    "        \\mathbf{M}(:,1) &\n",
    "        \\cdots &\n",
    "        \\mathbf{M}(:,M)\n",
    "    \\end{array}\n",
    "    \\right]_{N \\times M} \\: , \\\\\n",
    "\\end{split}$$"
   ]
  },
  {
   "cell_type": "markdown",
   "metadata": {},
   "source": [
    "em que $\\mathbf{M}(i,:)$, $i = 1, ..., N$, é o vetor $1 \\times M$ que representa a $i$-ésima linha de $\\mathbf{M}$ e $\\mathbf{M}(:,j)$, $j = 1, ..., M$, é o vetor $N \\times 1$ que representa a $j$-ésima coluna de $\\mathbf{M}$."
   ]
  },
  {
   "cell_type": "markdown",
   "metadata": {},
   "source": [
    "Dessa forma, a matriz $\\mathbf{M} = \\mathbf{x} \\otimes \\mathbf{y}^{\\top}$ pode ser calculada de duas maneiras diferentes:"
   ]
  },
  {
   "cell_type": "markdown",
   "metadata": {},
   "source": [
    "----\n",
    "*Usando a partição por linhas*\n",
    "\n",
    "for $i = 1:N$\n",
    "\n",
    "$\\quad \\quad \\mathbf{M}(i,:) = x_{i} \\, \\mathbf{y}^{\\top}$\n",
    "    \n",
    "end\n",
    "\n",
    "-----"
   ]
  },
  {
   "cell_type": "markdown",
   "metadata": {},
   "source": [
    "ou"
   ]
  },
  {
   "cell_type": "markdown",
   "metadata": {},
   "source": [
    "----\n",
    "*Usando a partição por colunas*\n",
    "\n",
    "for $j = 1:M$\n",
    "\n",
    "$\\quad \\quad \\mathbf{M}(:,j) = y_{j} \\, \\mathbf{x}$\n",
    "    \n",
    "end\n",
    "\n",
    "----"
   ]
  },
  {
   "cell_type": "markdown",
   "metadata": {},
   "source": [
    "###Exercício"
   ]
  },
  {
   "cell_type": "markdown",
   "metadata": {
    "collapsed": true
   },
   "source": [
    "Implemente o produto elemento-a-elemento e o produto direto entre vetores. O produto direto deve ser implementado tanto usando a partição por linhas como a partição por colunas. Cada implementação deve estar em uma função diferente. As duas implementações do produto direto devem, **obrigatoriamente**, utilizar a função desenvolvida previamente para o produto entre um escalar e um vetor. **As implementações devem seguir o template da disciplina**."
   ]
  },
  {
   "cell_type": "markdown",
   "metadata": {
    "collapsed": true
   },
   "source": [
    "###Exemplo de implementação em Python"
   ]
  },
  {
   "cell_type": "code",
   "execution_count": 1,
   "metadata": {
    "collapsed": true
   },
   "outputs": [],
   "source": [
    "import numpy as np"
   ]
  },
  {
   "cell_type": "markdown",
   "metadata": {},
   "source": [
    "**Produto elemento-a-elemento**\n",
    "\n",
    "`z = x*y` ,\n",
    "\n",
    "em que z, x e y são arrays do numpy."
   ]
  },
  {
   "cell_type": "code",
   "execution_count": 2,
   "metadata": {
    "collapsed": true
   },
   "outputs": [],
   "source": [
    "x = np.array([[2.],\n",
    "              [4.],\n",
    "              [6.]])\n",
    "\n",
    "y = np.array([[3.],\n",
    "              [2.],\n",
    "              [1.]])"
   ]
  },
  {
   "cell_type": "code",
   "execution_count": 3,
   "metadata": {
    "collapsed": true
   },
   "outputs": [],
   "source": [
    "z = x*y"
   ]
  },
  {
   "cell_type": "code",
   "execution_count": 4,
   "metadata": {
    "collapsed": false
   },
   "outputs": [
    {
     "name": "stdout",
     "output_type": "stream",
     "text": [
      "[[ 6.]\n",
      " [ 8.]\n",
      " [ 6.]]\n"
     ]
    }
   ],
   "source": [
    "print z"
   ]
  },
  {
   "cell_type": "markdown",
   "metadata": {},
   "source": [
    "**Produto direto**\n",
    "\n",
    "`M = x*y.T` ,\n",
    "\n",
    "em que M, x e y são arrays do numpy."
   ]
  },
  {
   "cell_type": "code",
   "execution_count": 5,
   "metadata": {
    "collapsed": true
   },
   "outputs": [],
   "source": [
    "x = np.array([[1.],\n",
    "              [2.],\n",
    "              [3.]])\n",
    "y = np.array([4.,5.])"
   ]
  },
  {
   "cell_type": "code",
   "execution_count": 6,
   "metadata": {
    "collapsed": true
   },
   "outputs": [],
   "source": [
    "M = x*y.T"
   ]
  },
  {
   "cell_type": "code",
   "execution_count": 7,
   "metadata": {
    "collapsed": false
   },
   "outputs": [
    {
     "name": "stdout",
     "output_type": "stream",
     "text": [
      "[[  4.   5.]\n",
      " [  8.  10.]\n",
      " [ 12.  15.]]\n"
     ]
    }
   ],
   "source": [
    "print M"
   ]
  },
  {
   "cell_type": "code",
   "execution_count": null,
   "metadata": {
    "collapsed": true
   },
   "outputs": [],
   "source": []
  }
 ],
 "metadata": {
  "kernelspec": {
   "display_name": "Python 2",
   "language": "python",
   "name": "python2"
  },
  "language_info": {
   "codemirror_mode": {
    "name": "ipython",
    "version": 2
   },
   "file_extension": ".py",
   "mimetype": "text/x-python",
   "name": "python",
   "nbconvert_exporter": "python",
   "pygments_lexer": "ipython2",
   "version": "2.7.11"
  }
 },
 "nbformat": 4,
 "nbformat_minor": 0
}
