{
 "cells": [
  {
   "cell_type": "markdown",
   "metadata": {},
   "source": [
    "# Matrix norms"
   ]
  },
  {
   "cell_type": "markdown",
   "metadata": {},
   "source": [
    "## Definition"
   ]
  },
  {
   "cell_type": "markdown",
   "metadata": {},
   "source": [
    "Let $\\mathbf{A}$ be a $N \\times M$ matrix given by:"
   ]
  },
  {
   "cell_type": "markdown",
   "metadata": {},
   "source": [
    "$$\n",
    "\\mathbf{A} = \\begin{bmatrix}\n",
    "a_{11} & a_{12} & \\cdots & a_{1M} \\\\\n",
    "a_{21} & a_{22} & \\cdots & a_{2M} \\\\\n",
    "\\vdots & \\vdots &  & \\vdots \\\\\n",
    "a_{N1} & a_{N2} & \\cdots & a_{NM}\n",
    "\\end{bmatrix}_{\\, N \\times M} \\quad .\n",
    "$$"
   ]
  },
  {
   "cell_type": "markdown",
   "metadata": {},
   "source": [
    "A [matrix norm](http://mathworld.wolfram.com/MatrixNorm.html) is a scalar function $f(\\mathbf{A})$ satisfying the folllowing conditions:\n",
    "\n",
    "$$\n",
    "\\begin{split}\n",
    "f(\\mathbf{A}) > 0 & \\: , \\quad \\mathbf{A} \\in \\mathbb{R}^{N \\times M}, \\quad f(\\mathbf{A}) = 0 \\:\\: \\text{iff} \\:\\: A_{ij} = 0, \\quad \\forall \\: i, j \\\\\n",
    "f(\\mathbf{A} + \\mathbf{B}) \\leq f(\\mathbf{A}) + f(\\mathbf{B}) & \\: , \\quad \\mathbf{A}, \\mathbf{B} \\in \\mathbb{R}^{N \\times M} \\\\\n",
    "f(\\alpha \\, \\mathbf{A}) \\leq \\: \\mid \\alpha \\mid \\, f(\\mathbf{A}) & \\: , \\quad \\mathbf{A} \\in \\mathbb{R}^{N \\times M}, \\:\\: \\alpha \\in \\mathbb{R}\n",
    "\\end{split}\n",
    "$$"
   ]
  },
  {
   "cell_type": "markdown",
   "metadata": {},
   "source": [
    "A famous matrix norm is the Frobenius norm $\\| \\mathbf{A} \\|_{F}$:\n",
    "\n",
    "$$\n",
    "\\begin{split}\n",
    "\\| \\mathbf{A} \\|_{F} &= \\sqrt{\\sum\\limits_{i = 1}^{N}\\sum\\limits_{j = 1}^{M} \\mid a_{ij} \\mid^{2}} \\\\\n",
    "&= \\sqrt{\\mathrm{Tr}\\left(\\mathbf{A}^{\\top}\\mathbf{A}\\right)}\n",
    "\\end{split} \\quad .\n",
    "$$"
   ]
  },
  {
   "cell_type": "markdown",
   "metadata": {},
   "source": [
    "Similarly to vector norms, there is also an important class of matrix norms called $p$-norms. Three important norms are: "
   ]
  },
  {
   "cell_type": "markdown",
   "metadata": {},
   "source": [
    "#### 2-norm (p = 2)\n",
    "\n",
    "$$\n",
    "\\| \\mathbf{A} \\|_{2} = \\sqrt{\\sigma_{max} \\left(\\mathbf{A}^{\\top}\\mathbf{A} \\right)}\n",
    "$$"
   ]
  },
  {
   "cell_type": "markdown",
   "metadata": {},
   "source": [
    "#### 1-norm (p = 1)\n",
    "\n",
    "$$\n",
    "\\| \\mathbf{A} \\|_{1} = \\max\\limits_{1 \\leq j \\leq M} \\, \\sum\\limits_{i = 1}^{N} \\mid a_{ij} \\mid\n",
    "$$"
   ]
  },
  {
   "cell_type": "markdown",
   "metadata": {},
   "source": [
    "#### $\\infty$-norm (p = $\\infty$)\n",
    "\n",
    "$$\n",
    "\\| \\mathbf{A} \\|_{\\infty} = \\max\\limits_{1 \\leq i \\leq N} \\, \\sum\\limits_{j = 1}^{M} \\mid a_{ij} \\mid\n",
    "$$"
   ]
  },
  {
   "cell_type": "markdown",
   "metadata": {},
   "source": [
    "## Inequalities"
   ]
  },
  {
   "cell_type": "markdown",
   "metadata": {},
   "source": [
    "Property of $p$-norms\n",
    "\n",
    "$$\n",
    "\\| \\mathbf{A} \\mathbf{x} \\|_{p} \\leq \\| \\mathbf{A} \\|_{p} \\| \\mathbf{x} \\|_{p}\n",
    "$$"
   ]
  },
  {
   "cell_type": "markdown",
   "metadata": {},
   "source": [
    "Relationship $2$-norm and norms $1$ and $\\infty$\n",
    "\n",
    "$$\n",
    "\\| \\mathbf{x} \\|_{2} \\leq \\| \\mathbf{x} \\|_{1} \\leq \\sqrt{N} \\, \\| \\mathbf{x} \\|_{2}\n",
    "$$"
   ]
  },
  {
   "cell_type": "markdown",
   "metadata": {},
   "source": [
    "### Exercise"
   ]
  },
  {
   "cell_type": "markdown",
   "metadata": {},
   "source": [
    "1. Create a function called `vec_norm` that receives a numpy array 1D and an integer $p$ to define the norm. This function **must use your** `dot` **function** to compute the 2-norm. Use `p = 2` to define the 2-norm, `p = 1` to define the 1-norm and `p = 0` to define the $\\infty$-norm. Hints: (i) Use the chained conditionals `if`, `elif`, `else` (see the Software Carpentry lesson [Making Choices](http://swcarpentry.github.io/python-novice-inflammation/05-cond/index.html)). (ii) Use the function [numpy.abs](https://docs.scipy.org/doc/numpy/reference/generated/numpy.absolute.html) to compute the 1-norm. (iii) Use the function [numpy.max](https://docs.scipy.org/doc/numpy/reference/generated/numpy.ndarray.max.html) to compute the $\\infty$-norm."
   ]
  },
  {
   "cell_type": "markdown",
   "metadata": {},
   "source": [
    "2. Create one test to verify each one of the six inequalities given below:\n",
    "    * $f(\\mathbf{x} + \\mathbf{y}) \\leq f(\\mathbf{x}) + f(\\mathbf{y})$\n",
    "    * $f(\\alpha \\, \\mathbf{x}) \\leq \\: \\mid \\alpha \\mid \\, f(\\mathbf{x})$\n",
    "    * $\\mid \\mathbf{x}^{\\top}\\mathbf{y} \\mid \\leq \\| \\mathbf{x} \\|_{2} \\| \\mathbf{y} \\|_{2}$\n",
    "    * $\\| \\mathbf{x} \\|_{2} \\leq \\| \\mathbf{x} \\|_{1} \\leq \\sqrt{N} \\, \\| \\mathbf{x} \\|_{2}$\n",
    "    * $\\| \\mathbf{x} \\|_{\\infty} \\leq \\| \\mathbf{x} \\|_{2} \\leq \\sqrt{N} \\, \\| \\mathbf{x} \\|_{\\infty}$\n",
    "    * $\\| \\mathbf{x} \\|_{\\infty} \\leq \\| \\mathbf{x} \\|_{1} \\leq N \\, \\| \\mathbf{x} \\|_{\\infty}$"
   ]
  }
 ],
 "metadata": {
  "kernelspec": {
   "display_name": "Python 3",
   "language": "python",
   "name": "python3"
  },
  "language_info": {
   "codemirror_mode": {
    "name": "ipython",
    "version": 3
   },
   "file_extension": ".py",
   "mimetype": "text/x-python",
   "name": "python",
   "nbconvert_exporter": "python",
   "pygments_lexer": "ipython3",
   "version": "3.6.8"
  }
 },
 "nbformat": 4,
 "nbformat_minor": 1
}
