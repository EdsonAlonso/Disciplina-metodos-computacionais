{
 "cells": [
  {
   "cell_type": "markdown",
   "metadata": {},
   "source": [
    "# Discrete Convolution"
   ]
  },
  {
   "cell_type": "markdown",
   "metadata": {},
   "source": [
    "This notebook illustrates the (discrete) linear and circular convolutions.\n",
    "\n",
    "* \n",
    "\n",
    "* Graham, L., D. E. Knuth, and O. Patashnik, 1994, Concrete mathematics: a foundation for computer science, 2 ed.: Addison-Wesley Publishing Company."
   ]
  },
  {
   "cell_type": "code",
   "execution_count": 1,
   "metadata": {},
   "outputs": [],
   "source": [
    "import numpy as np\n",
    "from scipy.fft import fft, ifft\n",
    "from scipy.linalg import toeplitz, circulant, dft\n",
    "import matplotlib.pyplot as plt\n",
    "import my_functions as mfun"
   ]
  },
  {
   "cell_type": "markdown",
   "metadata": {},
   "source": [
    "## Discrete convolution"
   ]
  },
  {
   "cell_type": "markdown",
   "metadata": {},
   "source": [
    "Let $\\mathbf{a}$ be an $L \\times 1$ vector and $\\mathbf{b}$ be an $P \\times 1$ vector. The linear convolution of $\\mathbf{a}$ and $\\mathbf{b}$ generates a $(L + P - 1) \\times 1$ vector $\\mathbf{w}$ whose $i$th element is defined as follows:\n",
    "\n",
    "$$\n",
    "w_{i} = \\sum\\limits_{j = -\\infty}^{\\infty} b_{i - j} \\, a_{j} \\: .\n",
    "$$"
   ]
  },
  {
   "cell_type": "code",
   "execution_count": 2,
   "metadata": {
    "scrolled": false
   },
   "outputs": [
    {
     "name": "stdout",
     "output_type": "stream",
     "text": [
      "Linear convolution:\n",
      "w_0 = (b_0 * a_0) + (  0 * a_1) + (  0 * a_2) + (  0 *  0) + (  0 *  0) + (  0 *  0) + (  0 *  0)\n",
      "w_1 = (b_1 * a_0) + (b_0 * a_1) + (  0 * a_2) + (  0 *  0) + (  0 *  0) + (  0 *  0) + (  0 *  0)\n",
      "w_2 = (b_2 * a_0) + (b_1 * a_1) + (b_0 * a_2) + (  0 *  0) + (  0 *  0) + (  0 *  0) + (  0 *  0)\n",
      "w_3 = (b_3 * a_0) + (b_2 * a_1) + (b_1 * a_2) + (b_0 *  0) + (  0 *  0) + (  0 *  0) + (  0 *  0)\n",
      "w_4 = (  0 * a_0) + (b_3 * a_1) + (b_2 * a_2) + (b_1 *  0) + (b_0 *  0) + (  0 *  0) + (  0 *  0)\n",
      "w_5 = (  0 * a_0) + (  0 * a_1) + (b_3 * a_2) + (b_2 *  0) + (b_1 *  0) + (b_0 *  0) + (  0 *  0)\n",
      "  0 = (  0 * a_0) + (  0 * a_1) + (  0 * a_2) + (b_3 *  0) + (b_2 *  0) + (b_1 *  0) + (b_0 *  0)\n",
      "\n",
      "\n",
      "Toeplitz system:\n",
      " w_0 = |  b_0    0    0    0    0    0    0 |  a_0\n",
      " w_1 = |  b_1  b_0    0    0    0    0    0 |  a_1\n",
      " w_2 = |  b_2  b_1  b_0    0    0    0    0 |  a_2\n",
      " w_3 = |  b_3  b_2  b_1  b_0    0    0    0 |    0\n",
      " w_4 = |    0  b_3  b_2  b_1  b_0    0    0 |    0\n",
      " w_5 = |    0    0  b_3  b_2  b_1  b_0    0 |    0\n",
      "   0 = |    0    0    0  b_3  b_2  b_1  b_0 |    0\n",
      "\n",
      "\n",
      "Embedding circulant system:\n",
      " w_0 = |  b_0    0    0    0    0    0    0    0    0    0    0  b_3  b_2  b_1 |  a_0\n",
      " w_1 = |  b_1  b_0    0    0    0    0    0    0    0    0    0    0  b_3  b_2 |  a_1\n",
      " w_2 = |  b_2  b_1  b_0    0    0    0    0    0    0    0    0    0    0  b_3 |  a_2\n",
      " w_3 = |  b_3  b_2  b_1  b_0    0    0    0    0    0    0    0    0    0    0 |    0\n",
      " w_4 = |    0  b_3  b_2  b_1  b_0    0    0    0    0    0    0    0    0    0 |    0\n",
      " w_5 = |    0    0  b_3  b_2  b_1  b_0    0    0    0    0    0    0    0    0 |    0\n",
      "   0 = |    0    0    0  b_3  b_2  b_1  b_0    0    0    0    0    0    0    0 |    0\n",
      "   0 = |    0    0    0    0  b_3  b_2  b_1  b_0    0    0    0    0    0    0 |    0\n",
      "   0 = |    0    0    0    0    0  b_3  b_2  b_1  b_0    0    0    0    0    0 |    0\n",
      "   0 = |    0    0    0    0    0    0  b_3  b_2  b_1  b_0    0    0    0    0 |    0\n",
      "   0 = |    0    0    0    0    0    0    0  b_3  b_2  b_1  b_0    0    0    0 |    0\n",
      "   0 = |    0    0    0    0    0    0    0    0  b_3  b_2  b_1  b_0    0    0 |    0\n",
      "   0 = |    0    0    0    0    0    0    0    0    0  b_3  b_2  b_1  b_0    0 |    0\n",
      "   0 = |    0    0    0    0    0    0    0    0    0    0  b_3  b_2  b_1  b_0 |    0\n"
     ]
    }
   ],
   "source": [
    "mfun.linear_convolution_scheme(Na=3, Nb=4)"
   ]
  },
  {
   "cell_type": "code",
   "execution_count": 3,
   "metadata": {},
   "outputs": [],
   "source": [
    "# number of data points in a\n",
    "Na = 100\n",
    "\n",
    "# data vector a\n",
    "a = 10*np.random.rand(Na)\n",
    "\n",
    "# number of data points in b\n",
    "Nb = 80\n",
    "\n",
    "# data vector b\n",
    "b = 10*np.random.rand(Nb)"
   ]
  },
  {
   "cell_type": "code",
   "execution_count": 4,
   "metadata": {},
   "outputs": [],
   "source": [
    "# number of elements in w\n",
    "N = Na + Nb - 1"
   ]
  },
  {
   "cell_type": "code",
   "execution_count": 5,
   "metadata": {},
   "outputs": [],
   "source": [
    "# vector a padded with zeros\n",
    "a_padd = np.hstack([a, np.zeros(Nb)])"
   ]
  },
  {
   "cell_type": "code",
   "execution_count": 6,
   "metadata": {},
   "outputs": [],
   "source": [
    "# vector b padded with zeros\n",
    "b_padd = np.hstack([b, np.zeros(Na)])"
   ]
  },
  {
   "cell_type": "code",
   "execution_count": 7,
   "metadata": {},
   "outputs": [],
   "source": [
    "# Toeplitz matrix B\n",
    "B = toeplitz(b_padd, np.zeros(N+1))"
   ]
  },
  {
   "cell_type": "code",
   "execution_count": 8,
   "metadata": {},
   "outputs": [],
   "source": [
    "# linear convolution computed as a matrix-vector product\n",
    "w_matvec = np.dot(B, a_padd)[:-1]"
   ]
  },
  {
   "cell_type": "code",
   "execution_count": 9,
   "metadata": {},
   "outputs": [],
   "source": [
    "# linear convolution computed by FFT\n",
    "w_fft = ifft(fft(a_padd)*fft(b_padd)).real[:-1]"
   ]
  },
  {
   "cell_type": "code",
   "execution_count": 10,
   "metadata": {},
   "outputs": [
    {
     "data": {
      "text/plain": [
       "True"
      ]
     },
     "execution_count": 10,
     "metadata": {},
     "output_type": "execute_result"
    }
   ],
   "source": [
    "np.allclose(w_matvec, w_fft)"
   ]
  },
  {
   "cell_type": "code",
   "execution_count": 11,
   "metadata": {},
   "outputs": [],
   "source": [
    "# linear convolution computed by using numpy.convolve\n",
    "w_convolve = np.convolve(a, b, mode='full')"
   ]
  },
  {
   "cell_type": "code",
   "execution_count": 12,
   "metadata": {},
   "outputs": [
    {
     "data": {
      "text/plain": [
       "True"
      ]
     },
     "execution_count": 12,
     "metadata": {},
     "output_type": "execute_result"
    }
   ],
   "source": [
    "np.allclose(w_matvec, w_convolve)"
   ]
  },
  {
   "cell_type": "markdown",
   "metadata": {},
   "source": [
    "## Circular convolution"
   ]
  },
  {
   "cell_type": "markdown",
   "metadata": {},
   "source": [
    "Let $\\mathbf{a}$ and $\\mathbf{b}$ be $N \\times 1$ vectors. The circular convolution of $\\mathbf{a}$ and $\\mathbf{b}$ generates an $N \\times 1$ vector $\\mathbf{w}$ whose $i$th element is defined as follows:\n",
    "\n",
    "$$\n",
    "w_{i} = \\sum\\limits_{j = 0}^{N-1} b_{(i - j)\\text{mod}N} \\, a_{j} \\: .\n",
    "$$"
   ]
  },
  {
   "cell_type": "markdown",
   "metadata": {},
   "source": [
    "The **mod** function $x \\, \\text{mod} \\, y$ (Graham et al., 1994, p. 82) computes the remainder of division of `x` by `y`. It can be rewritten as follows:\n",
    "\n",
    "$$\n",
    "x \\, \\text{mod} \\, y = x - y \\, \\Big\\lfloor \\frac{x}{y} \\Big\\rfloor \\: ,\n",
    "$$\n",
    "\n",
    "where $\\lfloor \\cdot \\rfloor$ denotes the **floor** function (Graham et al., 1994, p. 67), which computes the\n",
    "greatest integer less than or equal to its argument. The mod function is implemented in the routine [`numpy.mod`](https://numpy.org/doc/stable/reference/generated/numpy.mod.html)."
   ]
  },
  {
   "cell_type": "code",
   "execution_count": null,
   "metadata": {},
   "outputs": [],
   "source": [
    "mfun.circular_convolution_scheme(N=4)"
   ]
  },
  {
   "cell_type": "code",
   "execution_count": null,
   "metadata": {},
   "outputs": [],
   "source": [
    "# number of data points\n",
    "N = 100\n",
    "\n",
    "# data vector a\n",
    "a = 10*np.random.rand(N)\n",
    "\n",
    "# data vector b\n",
    "b = 10*np.random.rand(N)"
   ]
  },
  {
   "cell_type": "code",
   "execution_count": null,
   "metadata": {},
   "outputs": [],
   "source": [
    "# Circulant matrix C\n",
    "C = circulant(b)"
   ]
  },
  {
   "cell_type": "code",
   "execution_count": null,
   "metadata": {},
   "outputs": [],
   "source": [
    "# linear convolution computed as a matrix-vector product\n",
    "w_matvec = np.dot(C, a)"
   ]
  },
  {
   "cell_type": "code",
   "execution_count": null,
   "metadata": {},
   "outputs": [],
   "source": [
    "# linear convolution computed by FFT\n",
    "w_fft = ifft(fft(a)*fft(b)).real"
   ]
  },
  {
   "cell_type": "code",
   "execution_count": null,
   "metadata": {},
   "outputs": [],
   "source": [
    "np.allclose(w_matvec, w_fft)"
   ]
  },
  {
   "cell_type": "markdown",
   "metadata": {},
   "source": [
    "## Comparison between linear and circular convolutions"
   ]
  },
  {
   "cell_type": "code",
   "execution_count": null,
   "metadata": {},
   "outputs": [],
   "source": [
    "mfun.linear_convolution_scheme(Na=3, Nb=3, embedding=False)"
   ]
  },
  {
   "cell_type": "code",
   "execution_count": null,
   "metadata": {},
   "outputs": [],
   "source": [
    "#mfun.circular_convolution_scheme(N=6)\n",
    "mfun.circular_convolution_scheme(N=3)"
   ]
  }
 ],
 "metadata": {
  "kernelspec": {
   "display_name": "Python 3",
   "language": "python",
   "name": "python3"
  },
  "language_info": {
   "codemirror_mode": {
    "name": "ipython",
    "version": 3
   },
   "file_extension": ".py",
   "mimetype": "text/x-python",
   "name": "python",
   "nbconvert_exporter": "python",
   "pygments_lexer": "ipython3",
   "version": "3.7.4"
  }
 },
 "nbformat": 4,
 "nbformat_minor": 4
}
