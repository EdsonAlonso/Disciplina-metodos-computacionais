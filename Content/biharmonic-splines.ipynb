{
 "cells": [
  {
   "cell_type": "markdown",
   "metadata": {},
   "source": [
    "# Biharmonic splines"
   ]
  },
  {
   "cell_type": "markdown",
   "metadata": {},
   "source": [
    "##### References\n",
    "\n",
    "* Sandwell, David T. 1987. “Biharmonic Spline Interpolation of GEOS-3 and SEASAT Altimeter Data.” Geophysical Research Letters 14 (2): 139–42. https://doi.org/10.1029/GL014i002p00139.\n",
    "\n",
    "* Wessel, Paul. 2009. “A General-Purpose Green’s Function-Based Interpolator.” Computers & Geosciences 35 (6): 1247–54. https://doi.org/10.1016/j.cageo.2008.08.012."
   ]
  },
  {
   "cell_type": "markdown",
   "metadata": {},
   "source": [
    "## Exercise"
   ]
  },
  {
   "cell_type": "markdown",
   "metadata": {},
   "source": [
    "#### 1D case\n",
    "\n",
    "* Implement the biharmonic-spline interpolation 1D at `my_functions.py` \n",
    "* create the tests at `test_my_functions.py`\n",
    "* In a jupyter notebook, apply your functions to the magnesium concentration data shown at `interpolation_sample_data/table42_magnesium_concentration.ipynb`\n",
    "\n",
    "#### 2D case\n",
    "\n",
    "* Implement the biharmonic-spline interpolation 2D at `my_functions.py` \n",
    "* create the tests at `test_my_functions.py`\n",
    "* In a jupyter notebook, apply your code to the synthetic data shown at `interpolation_sample_data/Lancaster_Salkauskas_data.ipynb`"
   ]
  },
  {
   "cell_type": "code",
   "execution_count": null,
   "metadata": {},
   "outputs": [],
   "source": []
  }
 ],
 "metadata": {
  "kernelspec": {
   "display_name": "Python 3",
   "language": "python",
   "name": "python3"
  },
  "language_info": {
   "codemirror_mode": {
    "name": "ipython",
    "version": 3
   },
   "file_extension": ".py",
   "mimetype": "text/x-python",
   "name": "python",
   "nbconvert_exporter": "python",
   "pygments_lexer": "ipython3",
   "version": "3.7.4"
  }
 },
 "nbformat": 4,
 "nbformat_minor": 1
}
