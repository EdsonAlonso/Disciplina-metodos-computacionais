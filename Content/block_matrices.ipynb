{
 "cells": [
  {
   "cell_type": "markdown",
   "metadata": {},
   "source": [
    "# Block matrices"
   ]
  },
  {
   "cell_type": "markdown",
   "metadata": {},
   "source": [
    "Consider an $N \\times M$ matrix $\\mathbf{A}$ given by:"
   ]
  },
  {
   "cell_type": "markdown",
   "metadata": {},
   "source": [
    "$$\\mathbf{A} \n",
    "= \\begin{bmatrix}\n",
    "\\mathbf{A}_{11} & \\cdots & \\mathbf{A}_{1r} \\\\\n",
    "\\vdots & & \\vdots  \\\\\n",
    "\\mathbf{A}_{q1} & \\cdots & \\mathbf{A}_{qr}\n",
    "\\end{bmatrix} \\: ,\n",
    "$$"
   ]
  },
  {
   "cell_type": "markdown",
   "metadata": {},
   "source": [
    "where "
   ]
  },
  {
   "cell_type": "markdown",
   "metadata": {},
   "source": [
    "$$\n",
    "N = \\sum_{\\alpha = 1}^{q} N_{\\alpha} \\: ,\n",
    "$$\n",
    "\n",
    "$$\n",
    "M = \\sum_{\\beta = 1}^{r} M_{\\alpha}\n",
    "$$"
   ]
  },
  {
   "cell_type": "markdown",
   "metadata": {},
   "source": [
    "and $\\mathbf{A}_{\\alpha \\beta}$ are $N_{\\alpha} \\times M_{\\beta}$ submatrices, $\\alpha = 1, \\dots, q$, $\\beta = 1, \\dots, r$, defined as follows:"
   ]
  },
  {
   "cell_type": "markdown",
   "metadata": {},
   "source": [
    "$$\n",
    "\\mathbf{A}_{\\alpha \\beta} =\n",
    "\\begin{bmatrix}\n",
    "a_{11}^{(\\alpha \\beta)} & \\cdots & a_{1 M_{\\beta}}^{(\\alpha \\beta)} \\\\\n",
    "\\vdots & & \\vdots \\\\\n",
    "a_{N_{\\alpha} 1}^{(\\alpha \\beta)} & \\cdots & a_{N_{\\alpha} M_{\\beta}}^{(\\alpha \\beta)}\n",
    "\\end{bmatrix} \\: .\n",
    "$$"
   ]
  },
  {
   "cell_type": "markdown",
   "metadata": {},
   "source": [
    "The matrix $\\mathbf{A}$, formed by the submatrices $\\mathbf{A}_{\\alpha \\beta}$, is an example of **block matrix**. The figure below shows an example of a block matrix $\\mathbf{A}$ and its tranpose $\\mathbf{A}^{\\top}$, where $q = 2$, $r = 3$, $M = M_{1} + M_{2} + M_{3}$ and $N = N_{1} + N_{2}$."
   ]
  },
  {
   "cell_type": "markdown",
   "metadata": {},
   "source": [
    "<img src='block_matrices_1.png', width = 500>"
   ]
  },
  {
   "cell_type": "markdown",
   "metadata": {},
   "source": [
    "### Multiplying a block matrix by a scalar"
   ]
  },
  {
   "cell_type": "markdown",
   "metadata": {},
   "source": [
    "It can be easily shown that:"
   ]
  },
  {
   "cell_type": "markdown",
   "metadata": {},
   "source": [
    "$$\n",
    "\\mu \\mathbf{A} = \\begin{bmatrix}\n",
    "\\mu \\mathbf{A}_{11} & \\cdots & \\mu \\mathbf{A}_{1r} \\\\\n",
    "\\vdots & & \\vdots  \\\\\n",
    "\\mu \\mathbf{A}_{q1} & \\cdots & \\mu \\mathbf{A}_{qr}\n",
    "\\end{bmatrix} \\: ,\n",
    "$$"
   ]
  },
  {
   "cell_type": "markdown",
   "metadata": {},
   "source": [
    "where $\\mu$ is a constant. "
   ]
  },
  {
   "cell_type": "markdown",
   "metadata": {},
   "source": [
    "### Adding two block matrices"
   ]
  },
  {
   "cell_type": "markdown",
   "metadata": {},
   "source": [
    "Let's consider another $N \\times M$ matrix $\\mathbf{B}$ given by:"
   ]
  },
  {
   "cell_type": "markdown",
   "metadata": {},
   "source": [
    "$$\\mathbf{B} \n",
    "= \\begin{bmatrix}\n",
    "\\mathbf{B}_{11} & \\cdots & \\mathbf{B}_{1r} \\\\\n",
    "\\vdots & & \\vdots  \\\\\n",
    "\\mathbf{B}_{q1} & \\cdots & \\mathbf{B}_{qr}\n",
    "\\end{bmatrix} \\: ,\n",
    "$$"
   ]
  },
  {
   "cell_type": "markdown",
   "metadata": {},
   "source": [
    "where $\\mathbf{B}_{\\alpha \\beta}$ are $N_{\\alpha} \\times M_{\\beta}$ submatrices, $\\alpha = 1, \\dots, q$, $\\beta = 1, \\dots, r$, defined as follows:"
   ]
  },
  {
   "cell_type": "markdown",
   "metadata": {},
   "source": [
    "$$\n",
    "\\mathbf{B}_{\\alpha \\beta} =\n",
    "\\begin{bmatrix}\n",
    "b_{11}^{(\\alpha \\beta)} & \\cdots & b_{1 M_{\\beta}}^{(\\alpha \\beta)} \\\\\n",
    "\\vdots & & \\vdots \\\\\n",
    "b_{N_{\\alpha} 1}^{(\\alpha \\beta)} & \\cdots & b_{N_{\\alpha} M_{\\beta}}^{(\\alpha \\beta)}\n",
    "\\end{bmatrix} \\: .\n",
    "$$"
   ]
  },
  {
   "cell_type": "markdown",
   "metadata": {},
   "source": [
    "Notice that, in this case, a resultant $N \\times M$ matrix $\\mathbf{C}$ can be defined by adding the submatrices $\\mathbf{A}_{\\alpha \\beta}$ and $\\mathbf{B}_{\\alpha \\beta}$, so that:"
   ]
  },
  {
   "cell_type": "markdown",
   "metadata": {},
   "source": [
    "$$\\mathbf{C} \n",
    "= \\begin{bmatrix}\n",
    "\\mathbf{C}_{11} & \\cdots & \\mathbf{C}_{1r} \\\\\n",
    "\\vdots & & \\vdots  \\\\\n",
    "\\mathbf{C}_{q1} & \\cdots & \\mathbf{C}_{qr}\n",
    "\\end{bmatrix} \\: ,\n",
    "$$"
   ]
  },
  {
   "cell_type": "markdown",
   "metadata": {},
   "source": [
    "where $\\mathbf{C_{\\alpha \\beta}} = \\mathbf{A}_{\\alpha \\beta} + \\mathbf{B}_{\\alpha \\beta}$, $\\alpha = 1, \\dots, q$, $\\beta = 1, \\dots, r$.\n",
    "\n",
    "**Be careful!**\n",
    "\n",
    "The next figure illustrates three block matrices $\\mathbf{A}$, $\\mathbf{B}$ and $\\mathbf{D}$. These three matrices are $N \\times M$. Let's consider a resultant matrix obtained by adding the elements of $\\mathbf{A}$ and $\\mathbf{B}$. In this case, the submatrices forming $\\mathbf{A}$ and $\\mathbf{B}$ have exactly the same shape. Consequently, the resultant matrix $\\mathbf{C}$ can be defined by adding the submatrices of $\\mathbf{A}$ and $\\mathbf{B}$. Consider now the case in which a matrix $\\mathbf{C}$ is obtained by adding the block matrices $\\mathbf{A}$ and $\\mathbf{D}$. In this case, the resultant matrix $\\mathbf{C}$ cannot be defined by adding the submatrices of $\\mathbf{A}$ and $\\mathbf{D}$ because they do not have exactly the same shape. However, it is still possible to define $\\mathbf{C}$ as the sum of $\\mathbf{A}$ and $\\mathbf{D}$ because these two block matrices are $N \\times M$."
   ]
  },
  {
   "cell_type": "markdown",
   "metadata": {},
   "source": [
    "<img src='block_matrices_2.png', width = 500>"
   ]
  },
  {
   "cell_type": "markdown",
   "metadata": {},
   "source": [
    "### Product of two block matrices"
   ]
  },
  {
   "cell_type": "markdown",
   "metadata": {},
   "source": [
    "Let $\\mathbf{A}$ and $\\mathbf{B}$ be two block matrices given by\n",
    "\n",
    "$$\\mathbf{A} \n",
    "= \\begin{bmatrix}\n",
    "\\mathbf{A}_{11} & \\cdots & \\mathbf{A}_{1r} \\\\\n",
    "\\vdots & & \\vdots  \\\\\n",
    "\\mathbf{A}_{q1} & \\cdots & \\mathbf{A}_{qr}\n",
    "\\end{bmatrix}\n",
    "$$\n",
    "\n",
    "and\n",
    "\n",
    "$$\\mathbf{B} \n",
    "= \\begin{bmatrix}\n",
    "\\mathbf{B}_{11} & \\cdots & \\mathbf{B}_{1s} \\\\\n",
    "\\vdots & & \\vdots  \\\\\n",
    "\\mathbf{B}_{r1} & \\cdots & \\mathbf{B}_{rs}\n",
    "\\end{bmatrix} \\: ,\n",
    "$$\n",
    "\n",
    "where $\\mathbf{A}_{\\alpha \\beta}$ and $\\mathbf{B}_{\\beta \\gamma}$ are, respectively, $N_{\\alpha} \\times M_{\\beta}$ and $M_{\\beta} \\times L_{\\gamma}$ submatrices, $\\alpha = 1, \\dots, q$, $\\beta = 1, \\dots, r$, $\\gamma = 1, \\dots, s$,\n",
    "\n",
    "$$\n",
    "N = \\sum_{\\alpha = 1}^{r} N_{\\alpha} \\: ,\n",
    "$$\n",
    "\n",
    "$$\n",
    "M = \\sum_{\\beta = 1}^{q} M_{\\beta}\n",
    "$$\n",
    "\n",
    "and\n",
    "\n",
    "$$\n",
    "L = \\sum_{\\gamma = 1}^{s} L_{\\gamma} \\: .\n",
    "$$"
   ]
  },
  {
   "cell_type": "markdown",
   "metadata": {},
   "source": [
    "In this case, the resultant $N \\times L$ matrix $\\mathbf{C}$ obtained by the product $\\mathbf{A}\\mathbf{B}$ is given by\n",
    "\n",
    "$$\\mathbf{C} \n",
    "= \\begin{bmatrix}\n",
    "\\mathbf{C}_{11} & \\cdots & \\mathbf{C}_{1s} \\\\\n",
    "\\vdots & & \\vdots  \\\\\n",
    "\\mathbf{C}_{q1} & \\cdots & \\mathbf{C}_{qs}\n",
    "\\end{bmatrix} \\: ,\n",
    "$$\n",
    "\n",
    "where $\\mathbf{C}_{\\alpha \\gamma}$ are $N_{\\alpha} \\times L_{\\gamma}$ submatrices."
   ]
  },
  {
   "cell_type": "markdown",
   "metadata": {},
   "source": [
    "The figure below shows a particular case in which the resultant matrix $\\matrix{C}$ is given by\n",
    "\n",
    "$$\n",
    "\\mathbf{C} = \\begin{bmatrix}\n",
    "\\mathbf{C}_{11} & \\mathbf{C}_{12} \\\\\n",
    "\\mathbf{C}_{21} & \\mathbf{C}_{22}\n",
    "\\end{bmatrix} \\: ,\n",
    "$$\n",
    "\n",
    "where\n",
    "\n",
    "$$\n",
    "\\mathbf{C}_{\\alpha \\beta} = \\sum_{\\beta = 1}^{3} \\mathbf{A}_{\\alpha\\beta} \\mathbf{B}_{\\beta\\gamma} \\: .\n",
    "$$\n",
    "\n",
    "The figure below also illustrates how the submatrix $\\mathbf{C}_{11}$ is computed. "
   ]
  },
  {
   "cell_type": "markdown",
   "metadata": {
    "collapsed": true
   },
   "source": [
    "<img src='block_matrices_3.png', width = 500>"
   ]
  },
  {
   "cell_type": "markdown",
   "metadata": {},
   "source": [
    "Let's consider the particular case in which "
   ]
  }
 ],
 "metadata": {
  "anaconda-cloud": {},
  "kernelspec": {
   "display_name": "Python 2",
   "language": "python",
   "name": "python2"
  },
  "language_info": {
   "codemirror_mode": {
    "name": "ipython",
    "version": 2
   },
   "file_extension": ".py",
   "mimetype": "text/x-python",
   "name": "python",
   "nbconvert_exporter": "python",
   "pygments_lexer": "ipython2",
   "version": "2.7.14"
  }
 },
 "nbformat": 4,
 "nbformat_minor": 1
}
