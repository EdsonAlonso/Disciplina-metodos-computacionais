{
 "cells": [
  {
   "cell_type": "markdown",
   "metadata": {},
   "source": [
    "# Block matrices"
   ]
  },
  {
   "cell_type": "markdown",
   "metadata": {},
   "source": [
    "Consider an $N \\times M$ matrix $\\mathbf{A}$ given by:"
   ]
  },
  {
   "cell_type": "markdown",
   "metadata": {},
   "source": [
    "$$\\mathbf{A} \n",
    "= \\begin{bmatrix}\n",
    "\\mathbf{A}_{11} & \\cdots & \\mathbf{A}_{1r} \\\\\n",
    "\\vdots & & \\vdots  \\\\\n",
    "\\mathbf{A}_{q1} & \\cdots & \\mathbf{A}_{qr}\n",
    "\\end{bmatrix} \\: ,\n",
    "$$"
   ]
  },
  {
   "cell_type": "markdown",
   "metadata": {},
   "source": [
    "where "
   ]
  },
  {
   "cell_type": "markdown",
   "metadata": {},
   "source": [
    "$$\n",
    "N = \\sum_{\\alpha = 1}^{q} N_{\\alpha} \\: ,\n",
    "$$\n",
    "\n",
    "$$\n",
    "M = \\sum_{\\beta = 1}^{r} M_{\\alpha}\n",
    "$$"
   ]
  },
  {
   "cell_type": "markdown",
   "metadata": {},
   "source": [
    "and $\\mathbf{A}_{\\alpha \\beta}$ are $N_{\\alpha} \\times M_{\\beta}$ submatrices, $\\alpha = 1, \\dots, q$, $\\beta = 1, \\dots, r$, defined as follows:"
   ]
  },
  {
   "cell_type": "markdown",
   "metadata": {},
   "source": [
    "$$\n",
    "\\mathbf{A}_{\\alpha \\beta} =\n",
    "\\begin{bmatrix}\n",
    "a_{11}^{(\\alpha \\beta)} & \\cdots & a_{1 M_{\\beta}}^{(\\alpha \\beta)} \\\\\n",
    "\\vdots & & \\vdots \\\\\n",
    "a_{N_{\\alpha} 1}^{(\\alpha \\beta)} & \\cdots & a_{N_{\\alpha} M_{\\beta}}^{(\\alpha \\beta)}\n",
    "\\end{bmatrix} \\: .\n",
    "$$"
   ]
  },
  {
   "cell_type": "markdown",
   "metadata": {},
   "source": [
    "Tha matrix $\\mathbf{A}$, formed by the submatrices $\\mathbf{A}_{\\alpha \\beta}$, is an example of **block matrix**."
   ]
  },
  {
   "cell_type": "markdown",
   "metadata": {},
   "source": [
    "### Multiplying a block matrix by a scalar"
   ]
  },
  {
   "cell_type": "markdown",
   "metadata": {},
   "source": [
    "It can be easily shown that:"
   ]
  },
  {
   "cell_type": "markdown",
   "metadata": {},
   "source": [
    "$$\n",
    "\\mu \\mathbf{A} = \\begin{bmatrix}\n",
    "\\mu \\mathbf{A}_{11} & \\cdots & \\mu \\mathbf{A}_{1r} \\\\\n",
    "\\vdots & & \\vdots  \\\\\n",
    "\\mu \\mathbf{A}_{q1} & \\cdots & \\mu \\mathbf{A}_{qr}\n",
    "\\end{bmatrix} \\: ,\n",
    "$$"
   ]
  },
  {
   "cell_type": "markdown",
   "metadata": {},
   "source": [
    "where $\\mu$ is a constant. "
   ]
  },
  {
   "cell_type": "markdown",
   "metadata": {},
   "source": [
    "### Adding two block matrices"
   ]
  },
  {
   "cell_type": "markdown",
   "metadata": {},
   "source": [
    "Let's consider another $N \\times M$ matrix $\\mathbf{B}$ given by:"
   ]
  },
  {
   "cell_type": "markdown",
   "metadata": {},
   "source": [
    "$$\\mathbf{B} \n",
    "= \\begin{bmatrix}\n",
    "\\mathbf{B}_{11} & \\cdots & \\mathbf{B}_{1r} \\\\\n",
    "\\vdots & & \\vdots  \\\\\n",
    "\\mathbf{B}_{q1} & \\cdots & \\mathbf{B}_{qr}\n",
    "\\end{bmatrix} \\: ,\n",
    "$$"
   ]
  },
  {
   "cell_type": "markdown",
   "metadata": {},
   "source": [
    "where $\\mathbf{B}_{\\alpha \\beta}$ are $N_{\\alpha} \\times M_{\\beta}$ submatrices, $\\alpha = 1, \\dots, q$, $\\beta = 1, \\dots, r$, defined as follows:"
   ]
  },
  {
   "cell_type": "markdown",
   "metadata": {},
   "source": [
    "$$\n",
    "\\mathbf{B}_{\\alpha \\beta} =\n",
    "\\begin{bmatrix}\n",
    "b_{11}^{(\\alpha \\beta)} & \\cdots & b_{1 M_{\\beta}}^{(\\alpha \\beta)} \\\\\n",
    "\\vdots & & \\vdots \\\\\n",
    "b_{N_{\\alpha} 1}^{(\\alpha \\beta)} & \\cdots & b_{N_{\\alpha} M_{\\beta}}^{(\\alpha \\beta)}\n",
    "\\end{bmatrix} \\: .\n",
    "$$"
   ]
  },
  {
   "cell_type": "markdown",
   "metadata": {},
   "source": [
    "Notice that, in this case, a resultant $N \\times M$ matrix $\\mathbf{C}$ can be defined by adding the submatrices $\\mathbf{A}_{\\alpha \\beta}$ and $\\mathbf{B}_{\\alpha \\beta}$, so that:"
   ]
  },
  {
   "cell_type": "markdown",
   "metadata": {},
   "source": [
    "$$\\mathbf{C} \n",
    "= \\begin{bmatrix}\n",
    "\\mathbf{C}_{11} & \\cdots & \\mathbf{C}_{1r} \\\\\n",
    "\\vdots & & \\vdots  \\\\\n",
    "\\mathbf{C}_{q1} & \\cdots & \\mathbf{C}_{qr}\n",
    "\\end{bmatrix} \\: ,\n",
    "$$"
   ]
  },
  {
   "cell_type": "markdown",
   "metadata": {},
   "source": [
    "where $\\mathbf{C_{\\alpha \\beta}} = \\mathbf{A}_{\\alpha \\beta} + \\mathbf{B}_{\\alpha \\beta}$, $\\alpha = 1, \\dots, q$, $\\beta = 1, \\dots, r$. \n",
    "\n",
    "**Be careful!**\n",
    "\n",
    "The submatrices $\\mathbf{C_{\\alpha \\beta}}$ can be defined in this way because the submatrices $\\mathbf{A}_{\\alpha \\beta}$ and $\\mathbf{B}_{\\alpha \\beta}$ have exactly the same shape. Otherwise, the resultant submatrices $\\mathbf{C_{\\alpha \\beta}}$ cannot be defined as the sum of the submatrices $\\mathbf{A}_{\\alpha \\beta}$ and $\\mathbf{B}_{\\alpha \\beta}$."
   ]
  },
  {
   "cell_type": "markdown",
   "metadata": {},
   "source": [
    "### Product of two block matrices"
   ]
  },
  {
   "cell_type": "markdown",
   "metadata": {},
   "source": [
    "PAREI AQUI"
   ]
  },
  {
   "cell_type": "markdown",
   "metadata": {},
   "source": [
    "Let $\\mathbf{x}$ be a $N \\times 1$ vector given by:"
   ]
  },
  {
   "cell_type": "markdown",
   "metadata": {},
   "source": [
    "$$\\mathbf{x} = \n",
    "\\left[ \\begin{array}{c}\n",
    "x_{1} \\\\\n",
    "\\vdots \\\\\n",
    "x_{N}\n",
    "\\end{array} \\right] \\: .\n",
    "$$"
   ]
  },
  {
   "cell_type": "markdown",
   "metadata": {},
   "source": [
    "The simplest algorithm for computing the product $\\mathbf{y} = \\mathbf{S} \\mathbf{x}$ is given by:"
   ]
  },
  {
   "cell_type": "markdown",
   "metadata": {},
   "source": [
    "    for i = 1:N\n",
    "        for j = 1:N\n",
    "            y[i] = y[i] + S[i,j]*x[j]"
   ]
  },
  {
   "cell_type": "markdown",
   "metadata": {},
   "source": [
    "The symmetry of $\\mathbf{S}$, however, allows storing its elements by using one of the storage schemes presented in the notebook [`triangular_matrices_2.ipynb`](https://nbviewer.jupyter.org/github/birocoles/Disciplina-metodos-computacionais/blob/master/Content/triangular_matrices_2.ipynb)."
   ]
  },
  {
   "cell_type": "markdown",
   "metadata": {},
   "source": [
    "    for i = 1:N\n",
    "        # main diagonal \n",
    "        y[i] = y[i] + S[i,i]*x[i]\n",
    "        # upper triangle\n",
    "        for j = i+1:N\n",
    "            y[i] = y[i] + S[i,j]*x[j]\n",
    "        # lower triangle\n",
    "        for j = 1:i-1\n",
    "            y[i] = y[i] + S[i,j]*x[j]"
   ]
  },
  {
   "cell_type": "markdown",
   "metadata": {},
   "source": [
    "    for i = 1:N\n",
    "        # main diagonal\n",
    "        y[i] = y[i] + S[i,i]*x[i]\n",
    "        # upper triangle\n",
    "        y[i] = y[i] + dot(S[i,i+1:], x[i+1:])\n",
    "    # lower triangle\n",
    "    for i = 2:N\n",
    "        for j = 1:i-1\n",
    "            y[i] = y[i] + S[i,j]*x[j]"
   ]
  },
  {
   "cell_type": "markdown",
   "metadata": {},
   "source": [
    "    for i = 1:N\n",
    "        # main diagonal\n",
    "        y[i] = y[i] + S[i,i]*x[i]\n",
    "        # upper triangle\n",
    "        y[i] = y[i] + dot(S[i,i+1:], x[i+1:])\n",
    "    # lower triangle\n",
    "    for j = 1:N\n",
    "        for i = j+1:N\n",
    "            y[i] = y[i] + S[i,j]*x[j]"
   ]
  },
  {
   "cell_type": "markdown",
   "metadata": {},
   "source": [
    "    for i = 1:N\n",
    "        # main diagonal\n",
    "        y[i] = y[i] + S[i,i]*x[i]\n",
    "        # upper triangle\n",
    "        y[i] = y[i] + dot(S[i,i+1:], x[i+1:])\n",
    "    # lower triangle\n",
    "    for j = 1:N\n",
    "        y[j+1:] = y[j+1:] + S[j+1:,j]*x[j]"
   ]
  },
  {
   "cell_type": "markdown",
   "metadata": {},
   "source": [
    "    for i = 1:N\n",
    "        # main diagonal\n",
    "        y[i] = y[i] + S[i,i]*x[i]\n",
    "        # upper triangle\n",
    "        y[i] = y[i] + dot(S[i,i+1:], x[i+1:])\n",
    "        # lower triangle\n",
    "        y[i+1:] = y[i+1:] + S[i,i+1:]*x[i]"
   ]
  },
  {
   "cell_type": "markdown",
   "metadata": {},
   "source": [
    "Algorithm obtained by using the transformed vector $\\mathbf{s}$ obtained by using either the **RBU** or **CBL** storage schemes presented in the notebook [`triangular_matrices_2.ipynb`](https://nbviewer.jupyter.org/github/birocoles/Disciplina-metodos-computacionais/blob/master/Content/triangular_matrices_2.ipynb)."
   ]
  },
  {
   "cell_type": "markdown",
   "metadata": {},
   "source": [
    "    for i = 1:N\n",
    "        k1 = i - 1 + (i - 1)*(2*N - i)/2\n",
    "        k2 = N - 1 + (i - 1)*(2*N - i)/2\n",
    "        # main diagonal\n",
    "        y[i] = y[i] + s[k1]*x[i]\n",
    "        # upper triangle\n",
    "        y[i] = y[i] + dot(s[k1+1:k2],x[i+1:])\n",
    "        # lower triangle\n",
    "        y[i+1:] = y[i+1:] + s[k1+1:k2]*x[i]"
   ]
  },
  {
   "cell_type": "code",
   "execution_count": 1,
   "metadata": {
    "collapsed": true
   },
   "outputs": [],
   "source": [
    "import numpy as np"
   ]
  },
  {
   "cell_type": "markdown",
   "metadata": {},
   "source": [
    "The cell below show the functions used to transform a tirnagular matrix into a vector according to the **RBU** and **CBL** storage schemes presented in the notebook [`triangular_matrices_2.ipynb`](https://nbviewer.jupyter.org/github/birocoles/Disciplina-metodos-computacionais/blob/master/Content/triangular_matrices_2.ipynb)."
   ]
  },
  {
   "cell_type": "code",
   "execution_count": 2,
   "metadata": {
    "collapsed": true
   },
   "outputs": [],
   "source": [
    "def U2ur(U):\n",
    "    'Transforms the upper triangular matrix U into \\\n",
    "a vector ur by using a row scheme'\n",
    "    assert U.shape[0] == U.shape[1], 'U must be square'\n",
    "    # indices of the non-null elements\n",
    "    i, j = np.triu_indices(U.shape[0])\n",
    "    # create the vector uc\n",
    "    ur = U[i, j]\n",
    "    return ur\n",
    "\n",
    "def L2lc(L):\n",
    "    'Transforms the lower triangular matrix L into \\\n",
    "a vector lc by using a column scheme'\n",
    "    assert L.shape[0] == L.shape[1], 'L must be square'\n",
    "    # indices of the non-null elements\n",
    "    i, j = np.tril_indices(L.shape[0])\n",
    "    # reorganize the elements according to the column scheme\n",
    "    p = np.argsort(j)\n",
    "    i = i[p]\n",
    "    j = j[p]\n",
    "    # create the vector lc\n",
    "    lc = L[i, j]\n",
    "    return lc"
   ]
  },
  {
   "cell_type": "code",
   "execution_count": 3,
   "metadata": {
    "collapsed": true
   },
   "outputs": [],
   "source": [
    "N = 5"
   ]
  },
  {
   "cell_type": "code",
   "execution_count": 4,
   "metadata": {
    "collapsed": true
   },
   "outputs": [],
   "source": [
    "A = np.around(np.random.rand(N,N), decimals=3)"
   ]
  },
  {
   "cell_type": "code",
   "execution_count": 5,
   "metadata": {
    "collapsed": true
   },
   "outputs": [],
   "source": [
    "S = np.dot(A.T, A)"
   ]
  },
  {
   "cell_type": "markdown",
   "metadata": {},
   "source": [
    "Vector obtained by using the **RBU** storage scheme"
   ]
  },
  {
   "cell_type": "code",
   "execution_count": 6,
   "metadata": {
    "collapsed": true
   },
   "outputs": [],
   "source": [
    "sr = U2ur(S)"
   ]
  },
  {
   "cell_type": "markdown",
   "metadata": {},
   "source": [
    "Vector obtained by using the **CBL** storage scheme"
   ]
  },
  {
   "cell_type": "code",
   "execution_count": 7,
   "metadata": {
    "collapsed": true
   },
   "outputs": [],
   "source": [
    "sc = L2lc(S)"
   ]
  },
  {
   "cell_type": "code",
   "execution_count": 8,
   "metadata": {},
   "outputs": [
    {
     "data": {
      "text/plain": [
       "True"
      ]
     },
     "execution_count": 8,
     "metadata": {},
     "output_type": "execute_result"
    }
   ],
   "source": [
    "np.allclose(sr, sc)"
   ]
  },
  {
   "cell_type": "markdown",
   "metadata": {},
   "source": [
    "### Exercise (extra)"
   ]
  },
  {
   "cell_type": "markdown",
   "metadata": {},
   "source": [
    "1. In your `my_functions.py` file, implement the algorithm for computing the product $\\mathbf{y} = \\mathbf{S}\\mathbf{x}$ by using the transformed vector $\\mathbf{s}$. The algorithm must receive the vector $\\mathbf{s}$ and the vector $\\mathbf{x}$ and return the vector $\\mathbf{y}$.\n",
    "2. In your `test_my_functions.py` file, create a test for comparing the function created above and one of your functions that compute the matrix-vector product."
   ]
  }
 ],
 "metadata": {
  "anaconda-cloud": {},
  "kernelspec": {
   "display_name": "Python 2",
   "language": "python",
   "name": "python2"
  },
  "language_info": {
   "codemirror_mode": {
    "name": "ipython",
    "version": 2
   },
   "file_extension": ".py",
   "mimetype": "text/x-python",
   "name": "python",
   "nbconvert_exporter": "python",
   "pygments_lexer": "ipython2",
   "version": "2.7.14"
  }
 },
 "nbformat": 4,
 "nbformat_minor": 1
}
