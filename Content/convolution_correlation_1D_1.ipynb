{
 "cells": [
  {
   "cell_type": "markdown",
   "metadata": {},
   "source": [
    "# Discrete Convolution and Correlation"
   ]
  },
  {
   "cell_type": "markdown",
   "metadata": {},
   "source": [
    "This notebook illustrates the (discrete) linear and circular convolutions.\n",
    "\n",
    "* Graham, L., D. E. Knuth, and O. Patashnik (1994). Concrete mathematics: a foundation for computer science, 2 ed.: Addison-Wesley Publishing Company. ISBN 0-201-55802-5\n",
    "\n",
    "* Yilmaz, Öz (2001). Seismic Data Analysis: Processing, Inversion, and Interpretation of Seismic Data, 2 ed.: Society of Exploration Geophysicists. ISBN 1-56080-098-4\n",
    "\n",
    "* Oppenheim, A. V., and Schafer, R., W. (2010). Discrete-Time Signal Processing, 3 ed.: Pearson. ISBN 0-13-198842-5"
   ]
  },
  {
   "cell_type": "code",
   "execution_count": 1,
   "metadata": {},
   "outputs": [],
   "source": [
    "import numpy as np\n",
    "from scipy.fft import fft, ifft\n",
    "from scipy.linalg import toeplitz, circulant, dft\n",
    "from scipy.signal import gaussian\n",
    "import matplotlib.pyplot as plt\n",
    "import my_functions as mfun\n",
    "import fatiando_seismic as fseis"
   ]
  },
  {
   "cell_type": "markdown",
   "metadata": {},
   "source": [
    "## Topics"
   ]
  },
  {
   "cell_type": "markdown",
   "metadata": {},
   "source": [
    "* [Linear convolution 1D](#sec1)\n",
    "\n",
    "* [Circular convolution 1D](#sec2)\n",
    "\n",
    "* [Comparison between linear and circular convolutions 1D](sec3)\n",
    "\n",
    "* [Crosscorrelation 1D](#sec4)\n",
    "\n",
    "* [Autocorrelation 1D](#sec5)"
   ]
  },
  {
   "cell_type": "markdown",
   "metadata": {},
   "source": [
    "<a id='sec1'></a>\n",
    "## Linear convolution"
   ]
  },
  {
   "cell_type": "markdown",
   "metadata": {},
   "source": [
    "Let $\\mathbf{a}$ be an $N_{a} \\times 1$ vector and $\\mathbf{b}$ be an $N_{b} \\times 1$ vector. The *linear convolution* of $\\mathbf{a}$ and $\\mathbf{b}$ generates a $N_{w} \\times 1$ vector $\\mathbf{w}$, where $N_{w} = N_{a} + N_{b} - 1$, whose $i$th element is defined as follows (Oppenheim and Shafer, 2010, p. 661):"
   ]
  },
  {
   "cell_type": "markdown",
   "metadata": {},
   "source": [
    "<a id='eq1'></a>\n",
    "$$\n",
    "w_{i} = \\sum\\limits_{j = -\\infty}^{\\infty} b_{i - j} \\, a_{j} \\: . \\tag{1}\n",
    "$$"
   ]
  },
  {
   "cell_type": "markdown",
   "metadata": {},
   "source": [
    "The linear convolution ([equation 1](#eq1)) is schematically represented as follows (e.g., Yilmaz, 2001, p. 39):"
   ]
  },
  {
   "cell_type": "code",
   "execution_count": 2,
   "metadata": {
    "scrolled": false
   },
   "outputs": [
    {
     "name": "stdout",
     "output_type": "stream",
     "text": [
      "Linear convolution:\n",
      "w_0 = (b_0 * a_0) + (  0 * a_1) + (  0 * a_2) + (  0 * a_3) + (  0 *   0) + (  0 *   0) + (  0 *   0)\n",
      "w_1 = (b_1 * a_0) + (b_0 * a_1) + (  0 * a_2) + (  0 * a_3) + (  0 *   0) + (  0 *   0) + (  0 *   0)\n",
      "w_2 = (b_2 * a_0) + (b_1 * a_1) + (b_0 * a_2) + (  0 * a_3) + (  0 *   0) + (  0 *   0) + (  0 *   0)\n",
      "w_3 = (  0 * a_0) + (b_2 * a_1) + (b_1 * a_2) + (b_0 * a_3) + (  0 *   0) + (  0 *   0) + (  0 *   0)\n",
      "w_4 = (  0 * a_0) + (  0 * a_1) + (b_2 * a_2) + (b_1 * a_3) + (b_0 *   0) + (  0 *   0) + (  0 *   0)\n",
      "w_5 = (  0 * a_0) + (  0 * a_1) + (  0 * a_2) + (b_2 * a_3) + (b_1 *   0) + (b_0 *   0) + (  0 *   0)\n",
      "  0 = (  0 * a_0) + (  0 * a_1) + (  0 * a_2) + (  0 * a_3) + (b_2 *   0) + (b_1 *   0) + (b_0 *   0)\n",
      "\n",
      "\n",
      "Toeplitz system:\n",
      "|w_0|   |  b_0    0    0    0    0    0    0 |  |a_0|\n",
      "|w_1|   |  b_1  b_0    0    0    0    0    0 |  |a_1|\n",
      "|w_2|   |  b_2  b_1  b_0    0    0    0    0 |  |a_2|\n",
      "|w_3| = |    0  b_2  b_1  b_0    0    0    0 |  |a_3|\n",
      "|w_4|   |    0    0  b_2  b_1  b_0    0    0 |  |  0|\n",
      "|w_5|   |    0    0    0  b_2  b_1  b_0    0 |  |  0|\n",
      "|  0|   |    0    0    0    0  b_2  b_1  b_0 |  |  0|\n"
     ]
    }
   ],
   "source": [
    "mfun.linear_convolution_scheme(Na=4, Nb=3)"
   ]
  },
  {
   "cell_type": "markdown",
   "metadata": {},
   "source": [
    "The scheme above shows that the linear convolution is a matrix-vector product:"
   ]
  },
  {
   "cell_type": "markdown",
   "metadata": {},
   "source": [
    "<a id='eq2'></a>\n",
    "$$\n",
    "\\begin{bmatrix}\n",
    "\\mathbf{w} \\\\\n",
    "\\hline\n",
    "0\n",
    "\\end{bmatrix} = \\mathbf{B} \\, \n",
    "\\begin{bmatrix}\n",
    "\\mathbf{a} \\\\\n",
    "\\hline\n",
    "\\mathbf{0}_{N_{b}}\n",
    "\\end{bmatrix} \\quad , \\tag{2}\n",
    "$$"
   ]
  },
  {
   "cell_type": "markdown",
   "metadata": {},
   "source": [
    "where $\\mathbf{B}$ is a Toeplitz matrix. Matrix-vetor products with Toeplitz matrices have some special properties (see the notebook `Toeplitz-circulant-matrices.ipynb`) and can be computed by using the Fourier transform. Specifically, the linear convolution can be computed as follows:"
   ]
  },
  {
   "cell_type": "markdown",
   "metadata": {},
   "source": [
    "<a id='eq3'></a>\n",
    "$$\n",
    "\\begin{bmatrix}\n",
    "\\mathbf{w} \\\\\n",
    "\\hline\n",
    "0\n",
    "\\end{bmatrix} \n",
    "= \\mathbf{F}_{(N)}^{\\ast} \\Bigg\\{ \\left( \\sqrt{N} \\:\\: \\mathbf{F}_{(N)} \n",
    "\\begin{bmatrix}\n",
    "\\mathbf{b} \\\\\n",
    "\\hline\n",
    "\\mathbf{0}_{N_{a}}\n",
    "\\end{bmatrix} \\right) \\circ \n",
    "\\left( \\mathbf{F}_{(N)} \n",
    "\\begin{bmatrix}\n",
    "\\mathbf{a} \\\\\n",
    "\\hline\n",
    "\\mathbf{0}_{N_{b}}\n",
    "\\end{bmatrix} \\right) \\Bigg\\} \\: . \\tag{3}\n",
    "$$"
   ]
  },
  {
   "cell_type": "markdown",
   "metadata": {},
   "source": [
    "Notice that [equation 3](#eq3) can be rewritten as follows:"
   ]
  },
  {
   "cell_type": "markdown",
   "metadata": {},
   "source": [
    "<a id='eq4'></a>\n",
    "$$\n",
    "\\mathbf{F}_{(N)}  \n",
    "\\begin{bmatrix}\n",
    "\\mathbf{w} \\\\\n",
    "\\hline\n",
    "0\n",
    "\\end{bmatrix}\n",
    "= \\sqrt{N} \\, \n",
    "\\left( \\mathbf{F}_{(N)} \n",
    "\\begin{bmatrix}\n",
    "\\mathbf{b} \\\\\n",
    "\\hline\n",
    "\\mathbf{0}_{N_{a}}\n",
    "\\end{bmatrix} \\right) \\circ \n",
    "\\left( \\mathbf{F}_{(N)} \n",
    "\\begin{bmatrix}\n",
    "\\mathbf{a} \\\\\n",
    "\\hline\n",
    "\\mathbf{0}_{N_{b}}\n",
    "\\end{bmatrix} \\right) \\: , \\tag{4}\n",
    "$$"
   ]
  },
  {
   "cell_type": "markdown",
   "metadata": {},
   "source": [
    "which means that, despite the scaling factor $\\sqrt{N}$, the DFT of the padded vector $\\mathbf{w}$ is equal to the Hadamard product of the DFT's of the padded vectors $\\mathbf{a}$ and $\\mathbf{b}$."
   ]
  },
  {
   "cell_type": "markdown",
   "metadata": {},
   "source": [
    "The linear convolution of $\\mathbf{a}$ and $\\mathbf{b}$ is commonly found in the literature (e.g., Oppenheim and Schafer, 2010, p. 24) as follows:"
   ]
  },
  {
   "cell_type": "markdown",
   "metadata": {},
   "source": [
    "<a id='eq5'></a>\n",
    "$$\n",
    "\\mathbf{a} \\ast \\mathbf{b} \\tag{5}\n",
    "$$"
   ]
  },
  {
   "cell_type": "markdown",
   "metadata": {},
   "source": [
    "As properly pointed out by (Oppenheim and Schafer, 2010, p. 24), the notation used in [equation 5](#eq5) \"*is convenient and compact but needs to be used with caution*\". The important thing here is knowing how to relate [equation 5](#eq5) and equations [2](#eq2) and [4](#eq4):\n",
    "\n",
    "* In the **data domain**, [equation 5](#eq5) is equivalent to [equation 2](#eq2), which is a linear convolution and produces the data vector $\\begin{bmatrix} \\mathbf{w} \\\\ \\hline 0 \\end{bmatrix}$ by computing the product of the Toeplitz matrix $\\mathbf{B}$ and the padded vector $\\begin{bmatrix} \\mathbf{a} \\\\ \\hline \\mathbf{0}_{N_{b}} \\end{bmatrix}$.\n",
    "\n",
    "* In the **Fourier domain**, [equation 5](#eq5) is equivalent to [equation 4](#eq4), which is a linear convolution and produces the DFT of data vector $\\begin{bmatrix} \\mathbf{w} \\\\ \\hline 0 \\end{bmatrix}$ by computing the Hadamard product of the DFT of the padded vector $\\begin{bmatrix} \\mathbf{b} \\\\ \\hline \\mathbf{0}_{N_{a}} \\end{bmatrix}$ and the padded vector $\\begin{bmatrix} \\mathbf{a} \\\\ \\hline \\mathbf{0}_{N_{b}} \\end{bmatrix}$."
   ]
  },
  {
   "cell_type": "code",
   "execution_count": 3,
   "metadata": {},
   "outputs": [],
   "source": [
    "# number of data points in a\n",
    "Na = 300\n",
    "\n",
    "# data vector a\n",
    "a = np.zeros(Na)\n",
    "a[100] = 1.\n",
    "a[200] = -2.\n",
    "\n",
    "# number of data points in b\n",
    "Nb = 30\n",
    "\n",
    "# data vector b\n",
    "b = gaussian(Nb, 3, sym=True)"
   ]
  },
  {
   "cell_type": "code",
   "execution_count": 4,
   "metadata": {},
   "outputs": [],
   "source": [
    "# number of elements in w\n",
    "Nw = Na + Nb - 1"
   ]
  },
  {
   "cell_type": "code",
   "execution_count": 5,
   "metadata": {},
   "outputs": [],
   "source": [
    "N = Na+Nb"
   ]
  },
  {
   "cell_type": "code",
   "execution_count": 6,
   "metadata": {},
   "outputs": [],
   "source": [
    "# vector a padded with zeros\n",
    "a_padd = np.hstack([a, np.zeros(Nb)])"
   ]
  },
  {
   "cell_type": "code",
   "execution_count": 7,
   "metadata": {},
   "outputs": [],
   "source": [
    "# vector b padded with zeros\n",
    "b_padd = np.hstack([b, np.zeros(Na)])"
   ]
  },
  {
   "cell_type": "code",
   "execution_count": 8,
   "metadata": {},
   "outputs": [],
   "source": [
    "# Toeplitz matrix B\n",
    "B = toeplitz(b_padd, np.zeros(N))"
   ]
  },
  {
   "cell_type": "code",
   "execution_count": 9,
   "metadata": {},
   "outputs": [],
   "source": [
    "# linear convolution computed as a matrix-vector product\n",
    "w_lin_conv_matvec_Ba = np.dot(B, a_padd)[:-1]"
   ]
  },
  {
   "cell_type": "code",
   "execution_count": 10,
   "metadata": {},
   "outputs": [],
   "source": [
    "# linear convolution computed by FFT\n",
    "DFT_a_padd = fft(x=a_padd, norm='ortho')\n",
    "DFT_b_padd = fft(x=b_padd, norm='ortho')\n",
    "w_lin_conv_fft_ab = ifft(x=np.sqrt(N)*DFT_a_padd*DFT_b_padd, norm='ortho').real[:-1]"
   ]
  },
  {
   "cell_type": "code",
   "execution_count": 11,
   "metadata": {},
   "outputs": [
    {
     "data": {
      "text/plain": [
       "True"
      ]
     },
     "execution_count": 11,
     "metadata": {},
     "output_type": "execute_result"
    }
   ],
   "source": [
    "np.allclose(w_lin_conv_matvec_Ba, w_lin_conv_fft_ab)"
   ]
  },
  {
   "cell_type": "code",
   "execution_count": 12,
   "metadata": {},
   "outputs": [],
   "source": [
    "# linear convolution computed by using numpy.convolve\n",
    "w_convolve_ab = np.convolve(a, b, mode='full')"
   ]
  },
  {
   "cell_type": "code",
   "execution_count": 13,
   "metadata": {},
   "outputs": [
    {
     "data": {
      "text/plain": [
       "True"
      ]
     },
     "execution_count": 13,
     "metadata": {},
     "output_type": "execute_result"
    }
   ],
   "source": [
    "np.allclose(w_lin_conv_matvec_Ba, w_convolve_ab)"
   ]
  },
  {
   "cell_type": "code",
   "execution_count": 14,
   "metadata": {},
   "outputs": [
    {
     "data": {
      "image/png": "[encoded data removed]",
      "text/plain": [
       "<Figure size 1152x288 with 3 Axes>"
      ]
     },
     "metadata": {
      "needs_background": "light"
     },
     "output_type": "display_data"
    }
   ],
   "source": [
    "plt.figure(figsize=(16, 4))\n",
    "\n",
    "plt.subplot(1,3,1)\n",
    "plt.title('a', fontsize=16)\n",
    "plt.plot(a, 'k-')\n",
    "plt.grid()\n",
    "\n",
    "plt.subplot(1,3,2)\n",
    "plt.title('b', fontsize=16)\n",
    "plt.plot(b, 'k-')\n",
    "plt.grid()\n",
    "\n",
    "plt.subplot(1,3,3)\n",
    "plt.title('w', fontsize=16)\n",
    "plt.plot(w_lin_conv_matvec_Ba, 'k-')\n",
    "plt.grid()\n",
    "\n",
    "plt.show()"
   ]
  },
  {
   "cell_type": "markdown",
   "metadata": {},
   "source": [
    "We have just computed the linear convolution of $\\mathbf{a}$ and $\\mathbf{b}$. What about the linear convolution of $\\mathbf{b}$ and $\\mathbf{a}$?"
   ]
  },
  {
   "cell_type": "code",
   "execution_count": 15,
   "metadata": {},
   "outputs": [],
   "source": [
    "# Toeplitz matrix A\n",
    "A = toeplitz(a_padd, np.zeros(N))\n",
    "\n",
    "# linear convolution computed as a matrix-vector product\n",
    "w_lin_conv_matvec_Ab = np.dot(A, b_padd)[:-1]"
   ]
  },
  {
   "cell_type": "code",
   "execution_count": 16,
   "metadata": {},
   "outputs": [],
   "source": [
    "# linear convolution computed by FFT\n",
    "DFT_a_padd = fft(x=a_padd, norm='ortho')\n",
    "DFT_b_padd = fft(x=b_padd, norm='ortho')\n",
    "w_lin_conv_fft_ba = ifft(x=np.sqrt(N)*DFT_b_padd*DFT_a_padd, norm='ortho').real[:-1]"
   ]
  },
  {
   "cell_type": "code",
   "execution_count": 17,
   "metadata": {},
   "outputs": [],
   "source": [
    "# linear convolution computed by using numpy.convolve\n",
    "w_convolve_ba = np.convolve(b, a, mode='full')"
   ]
  },
  {
   "cell_type": "code",
   "execution_count": 18,
   "metadata": {},
   "outputs": [
    {
     "data": {
      "text/plain": [
       "True"
      ]
     },
     "execution_count": 18,
     "metadata": {},
     "output_type": "execute_result"
    }
   ],
   "source": [
    "np.allclose(w_lin_conv_fft_ba, w_lin_conv_matvec_Ab)"
   ]
  },
  {
   "cell_type": "code",
   "execution_count": 19,
   "metadata": {},
   "outputs": [
    {
     "data": {
      "text/plain": [
       "True"
      ]
     },
     "execution_count": 19,
     "metadata": {},
     "output_type": "execute_result"
    }
   ],
   "source": [
    "np.allclose(w_convolve_ba, w_lin_conv_matvec_Ab)"
   ]
  },
  {
   "cell_type": "code",
   "execution_count": 20,
   "metadata": {},
   "outputs": [
    {
     "data": {
      "text/plain": [
       "True"
      ]
     },
     "execution_count": 20,
     "metadata": {},
     "output_type": "execute_result"
    }
   ],
   "source": [
    "np.allclose(w_lin_conv_fft_ba, w_lin_conv_fft_ab)"
   ]
  },
  {
   "cell_type": "code",
   "execution_count": 21,
   "metadata": {},
   "outputs": [
    {
     "data": {
      "text/plain": [
       "True"
      ]
     },
     "execution_count": 21,
     "metadata": {},
     "output_type": "execute_result"
    }
   ],
   "source": [
    "np.allclose(w_lin_conv_matvec_Ba, w_lin_conv_matvec_Ab)"
   ]
  },
  {
   "cell_type": "markdown",
   "metadata": {},
   "source": [
    "<a id='sec2'></a>\n",
    "## Circular convolution"
   ]
  },
  {
   "cell_type": "markdown",
   "metadata": {},
   "source": [
    "Let $\\mathbf{a}$ and $\\mathbf{b}$ be $N \\times 1$ vectors. The circular convolution of $\\mathbf{a}$ and $\\mathbf{b}$ generates an $N \\times 1$ vector $\\mathbf{w}$ whose $i$th element is defined as follows:"
   ]
  },
  {
   "cell_type": "markdown",
   "metadata": {},
   "source": [
    "<a id='eq6'></a>\n",
    "$$\n",
    "w_{i} = \\sum\\limits_{j = 0}^{N-1} b_{(i - j)\\text{mod}N} \\, a_{j} \\: . \\tag{6}\n",
    "$$"
   ]
  },
  {
   "cell_type": "markdown",
   "metadata": {},
   "source": [
    "The **mod** function $x \\, \\text{mod} \\, y$ (Graham et al., 1994, p. 82) computes the remainder of division of `x` by `y`. It can be rewritten as follows:"
   ]
  },
  {
   "cell_type": "markdown",
   "metadata": {},
   "source": [
    "<a id='eq7'></a>\n",
    "$$\n",
    "x \\, \\text{mod} \\, y = x - y \\, \\Big\\lfloor \\frac{x}{y} \\Big\\rfloor \\: , \\tag{7}\n",
    "$$"
   ]
  },
  {
   "cell_type": "markdown",
   "metadata": {},
   "source": [
    "where $\\lfloor \\cdot \\rfloor$ denotes the **floor** function (Graham et al., 1994, p. 67), which computes the\n",
    "greatest integer less than or equal to its argument. The mod function is implemented in the routine [`numpy.mod`](https://numpy.org/doc/stable/reference/generated/numpy.mod.html)."
   ]
  },
  {
   "cell_type": "code",
   "execution_count": 22,
   "metadata": {},
   "outputs": [
    {
     "name": "stdout",
     "output_type": "stream",
     "text": [
      "Circular convolution:\n",
      "w_0 = (b_0 * a_0) + (b_3 * a_1) + (b_2 * a_2) + (b_1 * a_3)\n",
      "w_1 = (b_1 * a_0) + (b_0 * a_1) + (b_3 * a_2) + (b_2 * a_3)\n",
      "w_2 = (b_2 * a_0) + (b_1 * a_1) + (b_0 * a_2) + (b_3 * a_3)\n",
      "w_3 = (b_3 * a_0) + (b_2 * a_1) + (b_1 * a_2) + (b_0 * a_3)\n",
      "\n",
      "\n",
      "Circulant system:\n",
      "|w_0|   |  b_0  b_3  b_2  b_1 |  |a_0|\n",
      "|w_1|   |  b_1  b_0  b_3  b_2 |  |a_1|\n",
      "|w_2| = |  b_2  b_1  b_0  b_3 |  |a_2|\n",
      "|w_3|   |  b_3  b_2  b_1  b_0 |  |a_3|\n"
     ]
    }
   ],
   "source": [
    "mfun.circular_convolution_scheme(N=4)"
   ]
  },
  {
   "cell_type": "markdown",
   "metadata": {},
   "source": [
    "The scheme above shows that the circular convolution is a matrix-vector product:"
   ]
  },
  {
   "cell_type": "markdown",
   "metadata": {},
   "source": [
    "<a id='eq8'></a>\n",
    "$$\n",
    "\\mathbf{w} = \\mathbf{C} \\, \\mathbf{a} \\quad , \\tag{8}\n",
    "$$"
   ]
  },
  {
   "cell_type": "markdown",
   "metadata": {},
   "source": [
    "where $\\mathbf{C}$ is a circulant matrix. Matrix-vetor products with circulant matrices have some special properties (see the notebook `Toeplitz-circulant-matrices.ipynb`) and can be computed by using the Fourier transform. Specifically, the circular convolution can be computed as follows:"
   ]
  },
  {
   "cell_type": "markdown",
   "metadata": {},
   "source": [
    "<a id='eq9'></a>\n",
    "$$\n",
    "\\mathbf{w} = \\mathbf{F}_{(N)}^{\\ast} \\Bigg\\{ \\left( \\sqrt{N} \\:\\: \n",
    "\\mathbf{F}_{(N)} \\, \\mathbf{b} \\right) \\circ \n",
    "\\left( \\mathbf{F}_{(N)} \\, \\mathbf{a} \\right) \\Bigg\\} \\quad . \\tag{9}\n",
    "$$"
   ]
  },
  {
   "cell_type": "markdown",
   "metadata": {},
   "source": [
    "Notice that [equation 9](#eq9) can be rewritten as follows:"
   ]
  },
  {
   "cell_type": "markdown",
   "metadata": {},
   "source": [
    "<a id='eq10'></a>\n",
    "$$\n",
    "\\mathbf{F}_{(N)} \\mathbf{w} = \\sqrt{N} \\, \\left( \\mathbf{F}_{(N)} \\, \\mathbf{b} \\right) \\circ \n",
    "\\left( \\mathbf{F}_{(N)} \\, \\mathbf{a} \\right) \\quad , \\tag{10}\n",
    "$$"
   ]
  },
  {
   "cell_type": "markdown",
   "metadata": {},
   "source": [
    "which means that, despite the scaling factor $\\sqrt{N}$, the DFT of the vector $\\mathbf{w}$ is equal to the Hadamard product of the DFT's of the vectors $\\mathbf{a}$ and $\\mathbf{b}$."
   ]
  },
  {
   "cell_type": "markdown",
   "metadata": {},
   "source": [
    "The circular convolution of $\\mathbf{a}$ and $\\mathbf{b}$ is also commonly found in the literature (e.g., Oppenheim and Schafer, 2010, p. 24) in the form of [equation 5](#eq5)."
   ]
  },
  {
   "cell_type": "markdown",
   "metadata": {},
   "source": [
    "Again, the important thing here is knowing how to relate [equation 5](#eq5) and equations [8](#eq8) and [10](#eq10):\n",
    "\n",
    "* In the **data domain**, [equation 5](#eq5) is equivalent to [equation 8](#eq8), which is a circular convolution and produces the data vector $\\mathbf{w}$ by computing the product of the circulant matrix $\\mathbf{C}$ and the vector $\\mathbf{a}$, without padding anything.\n",
    "\n",
    "* In the **Fourier domain**, [equation 5](#eq5) is equivalent to [equation 10](#eq10), which is a circular convolution and produces the DFT of data vector $\\mathbf{w}$ by computing the Hadamard product of the DFT of the vector $\\mathbf{b}$ and the vector $\\mathbf{a}$, without padding anything."
   ]
  },
  {
   "cell_type": "code",
   "execution_count": 23,
   "metadata": {},
   "outputs": [],
   "source": [
    "# number of data points\n",
    "N = 100\n",
    "\n",
    "# data vector a\n",
    "a = 10*np.random.rand(N)\n",
    "\n",
    "# data vector b\n",
    "b = 10*np.random.rand(N)"
   ]
  },
  {
   "cell_type": "code",
   "execution_count": 24,
   "metadata": {},
   "outputs": [],
   "source": [
    "# Circulant matrix C\n",
    "C = circulant(b)"
   ]
  },
  {
   "cell_type": "code",
   "execution_count": 25,
   "metadata": {},
   "outputs": [],
   "source": [
    "# circular convolution computed as a matrix-vector product\n",
    "w_circ_conv_matvec_Ca = np.dot(C, a)"
   ]
  },
  {
   "cell_type": "code",
   "execution_count": 26,
   "metadata": {},
   "outputs": [],
   "source": [
    "# circular convolution computed by FFT\n",
    "DFT_a = fft(x=a, norm='ortho')\n",
    "DFT_b = fft(x=b, norm='ortho')\n",
    "w_circ_conv_fft_ab = ifft(x=np.sqrt(N)*DFT_a*DFT_b, norm='ortho').real"
   ]
  },
  {
   "cell_type": "code",
   "execution_count": 27,
   "metadata": {},
   "outputs": [
    {
     "data": {
      "text/plain": [
       "True"
      ]
     },
     "execution_count": 27,
     "metadata": {},
     "output_type": "execute_result"
    }
   ],
   "source": [
    "np.allclose(w_circ_conv_matvec_Ca, w_circ_conv_fft_ab)"
   ]
  },
  {
   "cell_type": "markdown",
   "metadata": {},
   "source": [
    "<a id='sec3'></a>\n",
    "## Comparison between linear and circular convolutions"
   ]
  },
  {
   "cell_type": "code",
   "execution_count": 28,
   "metadata": {},
   "outputs": [
    {
     "name": "stdout",
     "output_type": "stream",
     "text": [
      "Linear convolution:\n",
      "w_0 = (b_0 * a_0) + (  0 * a_1) + (  0 * a_2) + (  0 *   0) + (  0 *   0) + (  0 *   0)\n",
      "w_1 = (b_1 * a_0) + (b_0 * a_1) + (  0 * a_2) + (  0 *   0) + (  0 *   0) + (  0 *   0)\n",
      "w_2 = (b_2 * a_0) + (b_1 * a_1) + (b_0 * a_2) + (  0 *   0) + (  0 *   0) + (  0 *   0)\n",
      "w_3 = (  0 * a_0) + (b_2 * a_1) + (b_1 * a_2) + (b_0 *   0) + (  0 *   0) + (  0 *   0)\n",
      "w_4 = (  0 * a_0) + (  0 * a_1) + (b_2 * a_2) + (b_1 *   0) + (b_0 *   0) + (  0 *   0)\n",
      "  0 = (  0 * a_0) + (  0 * a_1) + (  0 * a_2) + (b_2 *   0) + (b_1 *   0) + (b_0 *   0)\n",
      "\n",
      "\n",
      "Toeplitz system:\n",
      "|w_0|   |  b_0    0    0    0    0    0 |  |a_0|\n",
      "|w_1|   |  b_1  b_0    0    0    0    0 |  |a_1|\n",
      "|w_2|   |  b_2  b_1  b_0    0    0    0 |  |a_2|\n",
      "|w_3| = |    0  b_2  b_1  b_0    0    0 |  |  0|\n",
      "|w_4|   |    0    0  b_2  b_1  b_0    0 |  |  0|\n",
      "|  0|   |    0    0    0  b_2  b_1  b_0 |  |  0|\n"
     ]
    }
   ],
   "source": [
    "mfun.linear_convolution_scheme(Na=3, Nb=3)"
   ]
  },
  {
   "cell_type": "code",
   "execution_count": 29,
   "metadata": {},
   "outputs": [
    {
     "name": "stdout",
     "output_type": "stream",
     "text": [
      "Circular convolution:\n",
      "w_0 = (b_0 * a_0) + (b_2 * a_1) + (b_1 * a_2)\n",
      "w_1 = (b_1 * a_0) + (b_0 * a_1) + (b_2 * a_2)\n",
      "w_2 = (b_2 * a_0) + (b_1 * a_1) + (b_0 * a_2)\n",
      "\n",
      "\n",
      "Circulant system:\n",
      "|w_0|   |  b_0  b_2  b_1 |  |a_0|\n",
      "|w_1| = |  b_1  b_0  b_2 |  |a_1|\n",
      "|w_2|   |  b_2  b_1  b_0 |  |a_2|\n"
     ]
    }
   ],
   "source": [
    "mfun.circular_convolution_scheme(N=3)"
   ]
  },
  {
   "cell_type": "code",
   "execution_count": 30,
   "metadata": {},
   "outputs": [
    {
     "name": "stdout",
     "output_type": "stream",
     "text": [
      "Circular convolution:\n",
      "w_0 = (b_0 * a_0) + (b_5 * a_1) + (b_4 * a_2) + (b_3 * a_3) + (b_2 * a_4) + (b_1 * a_5)\n",
      "w_1 = (b_1 * a_0) + (b_0 * a_1) + (b_5 * a_2) + (b_4 * a_3) + (b_3 * a_4) + (b_2 * a_5)\n",
      "w_2 = (b_2 * a_0) + (b_1 * a_1) + (b_0 * a_2) + (b_5 * a_3) + (b_4 * a_4) + (b_3 * a_5)\n",
      "w_3 = (b_3 * a_0) + (b_2 * a_1) + (b_1 * a_2) + (b_0 * a_3) + (b_5 * a_4) + (b_4 * a_5)\n",
      "w_4 = (b_4 * a_0) + (b_3 * a_1) + (b_2 * a_2) + (b_1 * a_3) + (b_0 * a_4) + (b_5 * a_5)\n",
      "w_5 = (b_5 * a_0) + (b_4 * a_1) + (b_3 * a_2) + (b_2 * a_3) + (b_1 * a_4) + (b_0 * a_5)\n",
      "\n",
      "\n",
      "Circulant system:\n",
      "|w_0|   |  b_0  b_5  b_4  b_3  b_2  b_1 |  |a_0|\n",
      "|w_1|   |  b_1  b_0  b_5  b_4  b_3  b_2 |  |a_1|\n",
      "|w_2|   |  b_2  b_1  b_0  b_5  b_4  b_3 |  |a_2|\n",
      "|w_3| = |  b_3  b_2  b_1  b_0  b_5  b_4 |  |a_3|\n",
      "|w_4|   |  b_4  b_3  b_2  b_1  b_0  b_5 |  |a_4|\n",
      "|w_5|   |  b_5  b_4  b_3  b_2  b_1  b_0 |  |a_5|\n"
     ]
    }
   ],
   "source": [
    "mfun.circular_convolution_scheme(N=6)"
   ]
  },
  {
   "cell_type": "markdown",
   "metadata": {},
   "source": [
    "Circular convolution generates the same result as linear convolution if the input vectors are padded with zeros."
   ]
  },
  {
   "cell_type": "markdown",
   "metadata": {},
   "source": [
    "<a id='sec4'></a>\n",
    "## Crosscorrelation"
   ]
  },
  {
   "cell_type": "markdown",
   "metadata": {},
   "source": [
    "Let $\\mathbf{a}$ be an $N_{a} \\times 1$ vector and $\\mathbf{b}$ be an $N_{b} \\times 1$ vector. The *crosscorrelation* of $\\mathbf{a}$ and $\\mathbf{b}$ generates a $N \\times 1$ vector $\\mathbf{w}$, where $N = N_{a} + N_{b} - 1$, whose $i$th element is defined as follows:"
   ]
  },
  {
   "cell_type": "markdown",
   "metadata": {},
   "source": [
    "<a id='eq11'></a>\n",
    "$$\n",
    "w_{i} = \\sum\\limits_{j = 0}^{N-1} b_{i + j} \\, a_{j} \\: . \\tag{11}\n",
    "$$"
   ]
  },
  {
   "cell_type": "markdown",
   "metadata": {},
   "source": [
    "The crosscorrelation is schematically represented as follows (e.g., Yilmaz, 2001, p. 40):"
   ]
  },
  {
   "cell_type": "code",
   "execution_count": 31,
   "metadata": {
    "scrolled": false
   },
   "outputs": [
    {
     "name": "stdout",
     "output_type": "stream",
     "text": [
      "Crosscorrelation:\n",
      "w_-2 = (b_2 * a_0) + (  0 * a_1) + (  0 * a_2) + (  0 * a_3) + (  0 *   0) + (  0 *   0) + (  0 *   0)\n",
      "w_-1 = (b_1 * a_0) + (b_2 * a_1) + (  0 * a_2) + (  0 * a_3) + (  0 *   0) + (  0 *   0) + (  0 *   0)\n",
      " w_0 = (b_0 * a_0) + (b_1 * a_1) + (b_2 * a_2) + (  0 * a_3) + (  0 *   0) + (  0 *   0) + (  0 *   0)\n",
      " w_1 = (  0 * a_0) + (b_0 * a_1) + (b_1 * a_2) + (b_2 * a_3) + (  0 *   0) + (  0 *   0) + (  0 *   0)\n",
      " w_2 = (  0 * a_0) + (  0 * a_1) + (b_0 * a_2) + (b_1 * a_3) + (b_2 *   0) + (  0 *   0) + (  0 *   0)\n",
      " w_3 = (  0 * a_0) + (  0 * a_1) + (  0 * a_2) + (b_0 * a_3) + (b_1 *   0) + (b_2 *   0) + (  0 *   0)\n",
      "   0 = (  0 * a_0) + (  0 * a_1) + (  0 * a_2) + (  0 * a_3) + (b_0 *   0) + (b_1 *   0) + (b_2 *   0)\n",
      "\n",
      "\n",
      "Toeplitz system:\n",
      "|w_-2|   |  b_2    0    0    0    0    0    0 |  |a_0|\n",
      "|w_-1|   |  b_1  b_2    0    0    0    0    0 |  |a_1|\n",
      "| w_0|   |  b_0  b_1  b_2    0    0    0    0 |  |a_2|\n",
      "| w_1| = |    0  b_0  b_1  b_2    0    0    0 |  |a_3|\n",
      "| w_2|   |    0    0  b_0  b_1  b_2    0    0 |  |  0|\n",
      "| w_3|   |    0    0    0  b_0  b_1  b_2    0 |  |  0|\n",
      "|   0|   |    0    0    0    0  b_0  b_1  b_2 |  |  0|\n"
     ]
    }
   ],
   "source": [
    "mfun.crosscorrelation_scheme(Na=4, Nb=3)"
   ]
  },
  {
   "cell_type": "markdown",
   "metadata": {},
   "source": [
    "The scheme above shows that the linear convolution is a matrix-vector product:"
   ]
  },
  {
   "cell_type": "markdown",
   "metadata": {},
   "source": [
    "<a id='eq12'></a>\n",
    "$$\n",
    "\\begin{bmatrix}\n",
    "\\mathbf{w} \\\\\n",
    "\\hline\n",
    "0\n",
    "\\end{bmatrix} = \\tilde{\\mathbf{B}} \\, \n",
    "\\begin{bmatrix}\n",
    "\\mathbf{a} \\\\\n",
    "\\hline\n",
    "\\mathbf{0}_{N_{b}}\n",
    "\\end{bmatrix} \\quad , \\tag{12}\n",
    "$$"
   ]
  },
  {
   "cell_type": "markdown",
   "metadata": {},
   "source": [
    "where $\\tilde{\\mathbf{B}}$ is a Toeplitz matrix.\n",
    "\n",
    "What is the difference between the Toeplitz matrices of crosscorrelation ([equation 12](#eq12)) and linear convolution ([equation 2](#eq2))?\n",
    "\n",
    "Matrix-vetor products with Toeplitz matrices have some special properties (see the notebook `Toeplitz-circulant-matrix-vector.ipynb`) and can be computed by using the Fourier transform. Specifically, the linear convolution can be computed as follows:"
   ]
  },
  {
   "cell_type": "markdown",
   "metadata": {},
   "source": [
    "<a id='eq13'></a>\n",
    "$$\n",
    "\\begin{bmatrix}\n",
    "\\mathbf{w} \\\\\n",
    "\\hline\n",
    "0\n",
    "\\end{bmatrix} \n",
    "= \\mathbf{F}_{(N)}^{\\ast} \\Bigg\\{ \\left( \\sqrt{N} \\:\\: \\mathbf{F}_{(N)} \n",
    "\\begin{bmatrix}\n",
    "\\mathbf{b}[::-1] \\\\\n",
    "\\hline\n",
    "\\mathbf{0}_{N_{a}}\n",
    "\\end{bmatrix} \\right) \\circ \n",
    "\\left( \\mathbf{F}_{(N)} \n",
    "\\begin{bmatrix}\n",
    "\\mathbf{a} \\\\\n",
    "\\hline\n",
    "\\mathbf{0}_{N_{b}}\n",
    "\\end{bmatrix} \\right) \\Bigg\\} \\: . \\tag{13}\n",
    "$$"
   ]
  },
  {
   "cell_type": "markdown",
   "metadata": {},
   "source": [
    "Notice that [equation 13](#eq13) can be rewritten as follows:"
   ]
  },
  {
   "cell_type": "markdown",
   "metadata": {},
   "source": [
    "<a id='eq14'></a>\n",
    "$$\n",
    "\\mathbf{F}_{(N)}  \n",
    "\\begin{bmatrix}\n",
    "\\mathbf{w} \\\\\n",
    "\\hline\n",
    "0\n",
    "\\end{bmatrix}\n",
    "= \\sqrt{N} \\, \n",
    "\\left( \\mathbf{F}_{(N)} \n",
    "\\begin{bmatrix}\n",
    "\\mathbf{b}[::-1] \\\\\n",
    "\\hline\n",
    "\\mathbf{0}_{N_{a}}\n",
    "\\end{bmatrix} \\right) \\circ \n",
    "\\left( \\mathbf{F}_{(N)} \n",
    "\\begin{bmatrix}\n",
    "\\mathbf{a} \\\\\n",
    "\\hline\n",
    "\\mathbf{0}_{N_{b}}\n",
    "\\end{bmatrix} \\right) \\: , \\tag{14}\n",
    "$$"
   ]
  },
  {
   "cell_type": "markdown",
   "metadata": {},
   "source": [
    "which means that, despite the scaling factor $\\sqrt{N}$, the DFT of the padded vector $\\mathbf{w}$ is equal to the Hadamard product of the DFT's of the padded vectors $\\mathbf{a}$ and $\\mathbf{b}[::-1]$."
   ]
  },
  {
   "cell_type": "code",
   "execution_count": 32,
   "metadata": {},
   "outputs": [],
   "source": [
    "# number of data points in a\n",
    "Na = 40\n",
    "\n",
    "# data vector a\n",
    "a = np.concatenate([np.zeros(Na-15), gaussian(15, 2)])\n",
    "\n",
    "# number of data points in b\n",
    "Nb = 30\n",
    "\n",
    "# data vector b\n",
    "b = np.concatenate([gaussian(13, 2), np.zeros(Nb-13)])"
   ]
  },
  {
   "cell_type": "code",
   "execution_count": 33,
   "metadata": {},
   "outputs": [],
   "source": [
    "# number of elements in w\n",
    "Nw = Na + Nb - 1"
   ]
  },
  {
   "cell_type": "code",
   "execution_count": 34,
   "metadata": {},
   "outputs": [],
   "source": [
    "N = Na + Nb"
   ]
  },
  {
   "cell_type": "code",
   "execution_count": 35,
   "metadata": {},
   "outputs": [],
   "source": [
    "# vector a padded with zeros\n",
    "a_padd = np.hstack([a, np.zeros(Nb)])"
   ]
  },
  {
   "cell_type": "code",
   "execution_count": 36,
   "metadata": {},
   "outputs": [],
   "source": [
    "# inversed vector b padded with zeros\n",
    "b_padd = np.hstack([b[::-1], np.zeros(Na)])"
   ]
  },
  {
   "cell_type": "code",
   "execution_count": 37,
   "metadata": {},
   "outputs": [],
   "source": [
    "# Toeplitz matrix B formed with inversed b\n",
    "B = toeplitz(b_padd, np.zeros(N))"
   ]
  },
  {
   "cell_type": "code",
   "execution_count": 38,
   "metadata": {},
   "outputs": [],
   "source": [
    "# crosscorrelation computed as a matrix-vector product\n",
    "w_cross_matvec_Ba = np.dot(B, a_padd)[:-1]"
   ]
  },
  {
   "cell_type": "code",
   "execution_count": 39,
   "metadata": {},
   "outputs": [],
   "source": [
    "# crosscorrelation computed by FFT\n",
    "DFT_a_padd = fft(x=a_padd, norm='ortho')\n",
    "DFT_b_padd = fft(x=b_padd, norm='ortho')\n",
    "w_cross_fft_ab = ifft(x=np.sqrt(N)*DFT_a_padd*DFT_b_padd, norm='ortho').real[:-1]"
   ]
  },
  {
   "cell_type": "code",
   "execution_count": 40,
   "metadata": {
    "scrolled": true
   },
   "outputs": [
    {
     "data": {
      "text/plain": [
       "True"
      ]
     },
     "execution_count": 40,
     "metadata": {},
     "output_type": "execute_result"
    }
   ],
   "source": [
    "np.allclose(w_cross_matvec_Ba, w_cross_fft_ab)"
   ]
  },
  {
   "cell_type": "code",
   "execution_count": 41,
   "metadata": {},
   "outputs": [],
   "source": [
    "# crosscorrelation computed by using numpy.correlate\n",
    "w_correlate_ab = np.correlate(a, b, mode='full')"
   ]
  },
  {
   "cell_type": "code",
   "execution_count": 42,
   "metadata": {},
   "outputs": [
    {
     "data": {
      "text/plain": [
       "True"
      ]
     },
     "execution_count": 42,
     "metadata": {},
     "output_type": "execute_result"
    }
   ],
   "source": [
    "np.allclose(w_cross_fft_ab, w_correlate_ab)"
   ]
  },
  {
   "cell_type": "code",
   "execution_count": 43,
   "metadata": {},
   "outputs": [
    {
     "data": {
      "image/png": "[encoded data removed]",
      "text/plain": [
       "<Figure size 1152x288 with 3 Axes>"
      ]
     },
     "metadata": {
      "needs_background": "light"
     },
     "output_type": "display_data"
    }
   ],
   "source": [
    "plt.figure(figsize=(16, 4))\n",
    "\n",
    "plt.subplot(1,3,1)\n",
    "plt.title('a (max = {:d})'.format(np.argmax(a)), fontsize=16)\n",
    "plt.plot(a, 'k-')\n",
    "plt.plot([np.argmax(a), np.argmax(a)], [-1, 2], 'k--')\n",
    "plt.ylim(-0.2, 1.2)\n",
    "plt.grid()\n",
    "\n",
    "plt.subplot(1,3,2)\n",
    "plt.title('b (max = {:d})'.format(np.argmax(b)), fontsize=16)\n",
    "plt.plot(b, 'k-')\n",
    "plt.plot([np.argmax(b), np.argmax(b)], [-1, 2], 'k--')\n",
    "plt.ylim(-0.2, 1.2)\n",
    "plt.grid()\n",
    "\n",
    "plt.subplot(1,3,3)\n",
    "plt.title('w (max = {:d})'.format(np.argmax(w_cross_matvec_Ba)-Nb+1), fontsize=16)\n",
    "plt.plot(np.arange(-Nb+1, Na), w_cross_matvec_Ba, 'k-')\n",
    "plt.plot([np.argmax(w_cross_matvec_Ba)-Nb+1, np.argmax(w_cross_matvec_Ba)-Nb+1], [-1, 5], 'k--')\n",
    "plt.ylim(-0.2, 4)\n",
    "plt.grid()\n",
    "\n",
    "plt.show()"
   ]
  },
  {
   "cell_type": "code",
   "execution_count": 44,
   "metadata": {},
   "outputs": [
    {
     "data": {
      "text/plain": [
       "26"
      ]
     },
     "execution_count": 44,
     "metadata": {},
     "output_type": "execute_result"
    }
   ],
   "source": [
    "32-6"
   ]
  },
  {
   "cell_type": "markdown",
   "metadata": {},
   "source": [
    "We have just computed the crosscorrelation of $\\mathbf{a}$ and $\\mathbf{b}$. What about the crosscorrelation of $\\mathbf{b}$ and $\\mathbf{a}$?"
   ]
  },
  {
   "cell_type": "code",
   "execution_count": 45,
   "metadata": {},
   "outputs": [],
   "source": [
    "# inversed vector a padded with zeros\n",
    "a_padd = np.hstack([a[::-1], np.zeros(Nb)])"
   ]
  },
  {
   "cell_type": "code",
   "execution_count": 46,
   "metadata": {},
   "outputs": [],
   "source": [
    "# vector b padded with zeros\n",
    "b_padd = np.hstack([b, np.zeros(Na)])"
   ]
  },
  {
   "cell_type": "code",
   "execution_count": 47,
   "metadata": {},
   "outputs": [],
   "source": [
    "# Toeplitz matrix A\n",
    "A = toeplitz(a_padd, np.zeros(N))\n",
    "\n",
    "# crosscorrelation computed as a matrix-vector product\n",
    "w_cross_matvec_Ab = np.dot(A, b_padd)[:-1]"
   ]
  },
  {
   "cell_type": "code",
   "execution_count": 48,
   "metadata": {},
   "outputs": [],
   "source": [
    "# crosscorrelation computed by FFT\n",
    "DFT_a_padd = fft(x=a_padd, norm='ortho')\n",
    "DFT_b_padd = fft(x=b_padd, norm='ortho')\n",
    "w_cross_fft_ba = ifft(x=np.sqrt(N)*DFT_b_padd*DFT_a_padd, norm='ortho').real[:-1]"
   ]
  },
  {
   "cell_type": "code",
   "execution_count": 49,
   "metadata": {},
   "outputs": [],
   "source": [
    "# crosscorrelation computed by using numpy.correlate\n",
    "w_correlate_ba = np.correlate(b, a, mode='full')"
   ]
  },
  {
   "cell_type": "code",
   "execution_count": 50,
   "metadata": {},
   "outputs": [
    {
     "data": {
      "text/plain": [
       "True"
      ]
     },
     "execution_count": 50,
     "metadata": {},
     "output_type": "execute_result"
    }
   ],
   "source": [
    "np.allclose(w_cross_fft_ba, w_cross_matvec_Ab)"
   ]
  },
  {
   "cell_type": "code",
   "execution_count": 51,
   "metadata": {},
   "outputs": [
    {
     "data": {
      "text/plain": [
       "True"
      ]
     },
     "execution_count": 51,
     "metadata": {},
     "output_type": "execute_result"
    }
   ],
   "source": [
    "np.allclose(w_correlate_ba, w_cross_matvec_Ab)"
   ]
  },
  {
   "cell_type": "code",
   "execution_count": 52,
   "metadata": {},
   "outputs": [
    {
     "data": {
      "text/plain": [
       "False"
      ]
     },
     "execution_count": 52,
     "metadata": {},
     "output_type": "execute_result"
    }
   ],
   "source": [
    "np.allclose(w_cross_fft_ba, w_cross_fft_ab)"
   ]
  },
  {
   "cell_type": "code",
   "execution_count": 53,
   "metadata": {},
   "outputs": [
    {
     "data": {
      "text/plain": [
       "False"
      ]
     },
     "execution_count": 53,
     "metadata": {},
     "output_type": "execute_result"
    }
   ],
   "source": [
    "np.allclose(w_cross_matvec_Ba, w_cross_matvec_Ab)"
   ]
  },
  {
   "cell_type": "code",
   "execution_count": 54,
   "metadata": {},
   "outputs": [
    {
     "data": {
      "image/png": "[encoded data removed]",
      "text/plain": [
       "<Figure size 864x576 with 4 Axes>"
      ]
     },
     "metadata": {
      "needs_background": "light"
     },
     "output_type": "display_data"
    }
   ],
   "source": [
    "plt.figure(figsize=(12, 8))\n",
    "\n",
    "plt.subplot(2,2,1)\n",
    "plt.title('b (max = {:d})'.format(np.argmax(b)), fontsize=16)\n",
    "plt.plot(b, 'k-')\n",
    "plt.plot([np.argmax(b), np.argmax(b)], [-1, 2], 'k--')\n",
    "plt.ylim(-0.2, 1.2)\n",
    "plt.grid()\n",
    "\n",
    "plt.subplot(2,2,2)\n",
    "plt.title('a (max = {:d})'.format(np.argmax(a)), fontsize=16)\n",
    "plt.plot(a, 'k-')\n",
    "plt.plot([np.argmax(a), np.argmax(a)], [-1, 2], 'k--')\n",
    "plt.ylim(-0.2, 1.2)\n",
    "plt.grid()\n",
    "\n",
    "plt.subplot(2,2,3)\n",
    "plt.title('w ba (max = {:d})'.format(np.argmax(w_cross_matvec_Ab)-Na+1), fontsize=16)\n",
    "plt.plot(np.arange(-Na+1, Nb), w_cross_matvec_Ab, 'k-')\n",
    "plt.plot([np.argmax(w_cross_matvec_Ab)-Na+1, np.argmax(w_cross_matvec_Ab)-Na+1], [-1, 5], 'k--')\n",
    "plt.ylim(-0.2, 4)\n",
    "plt.grid()\n",
    "\n",
    "plt.subplot(2,2,4)\n",
    "plt.title('w ab (max = {:d})'.format(np.argmax(w_cross_matvec_Ba)-Nb+1), fontsize=16)\n",
    "plt.plot(np.arange(-Nb+1, Na), w_cross_matvec_Ba, 'k-')\n",
    "plt.plot([np.argmax(w_cross_matvec_Ba)-Nb+1, np.argmax(w_cross_matvec_Ba)-Nb+1], [-1, 5], 'k--')\n",
    "plt.ylim(-0.2, 4)\n",
    "plt.grid()\n",
    "\n",
    "plt.show()"
   ]
  },
  {
   "cell_type": "markdown",
   "metadata": {},
   "source": [
    "<a id='sec5'></a>\n",
    "## Autocorrelation"
   ]
  },
  {
   "cell_type": "markdown",
   "metadata": {},
   "source": [
    "If vectors $\\mathbf{a}$ and $\\mathbf{b}$ are the same, the crosscorrelation is called *autocorrelation*."
   ]
  },
  {
   "cell_type": "code",
   "execution_count": 55,
   "metadata": {},
   "outputs": [
    {
     "name": "stdout",
     "output_type": "stream",
     "text": [
      "Autocorrelation:\n",
      "w_-2 = (a_2 * a_0) + (  0 * a_1) + (  0 * a_2) + (  0 *   0) + (  0 *   0) + (  0 *   0)\n",
      "w_-1 = (a_1 * a_0) + (a_2 * a_1) + (  0 * a_2) + (  0 *   0) + (  0 *   0) + (  0 *   0)\n",
      " w_0 = (a_0 * a_0) + (a_1 * a_1) + (a_2 * a_2) + (  0 *   0) + (  0 *   0) + (  0 *   0)\n",
      " w_1 = (  0 * a_0) + (a_0 * a_1) + (a_1 * a_2) + (a_2 *   0) + (  0 *   0) + (  0 *   0)\n",
      " w_2 = (  0 * a_0) + (  0 * a_1) + (a_0 * a_2) + (a_1 *   0) + (a_2 *   0) + (  0 *   0)\n",
      "   0 = (  0 * a_0) + (  0 * a_1) + (  0 * a_2) + (a_0 *   0) + (a_1 *   0) + (a_2 *   0)\n",
      "\n",
      "\n",
      "Toeplitz system:\n",
      "|w_-2|   |  a_2    0    0    0    0    0 |  |a_0|\n",
      "|w_-1|   |  a_1  a_2    0    0    0    0 |  |a_1|\n",
      "| w_0|   |  a_0  a_1  a_2    0    0    0 |  |a_2|\n",
      "| w_1| = |    0  a_0  a_1  a_2    0    0 |  |  0|\n",
      "| w_2|   |    0    0  a_0  a_1  a_2    0 |  |  0|\n",
      "|   0|   |    0    0    0  a_0  a_1  a_2 |  |  0|\n"
     ]
    }
   ],
   "source": [
    "mfun.autocorrelation_scheme(N=3)"
   ]
  },
  {
   "cell_type": "code",
   "execution_count": 56,
   "metadata": {},
   "outputs": [],
   "source": [
    "# number of data points in a\n",
    "N = 100\n",
    "\n",
    "# data vector a\n",
    "a = np.random.rand(N)"
   ]
  },
  {
   "cell_type": "code",
   "execution_count": 57,
   "metadata": {},
   "outputs": [],
   "source": [
    "w_correlate = np.correlate(a, a, mode='full')"
   ]
  },
  {
   "cell_type": "code",
   "execution_count": 58,
   "metadata": {},
   "outputs": [
    {
     "data": {
      "image/png": "[encoded data removed]",
      "text/plain": [
       "<Figure size 864x288 with 2 Axes>"
      ]
     },
     "metadata": {
      "needs_background": "light"
     },
     "output_type": "display_data"
    }
   ],
   "source": [
    "plt.figure(figsize=(12, 4))\n",
    "\n",
    "plt.subplot(1,2,1)\n",
    "plt.title('a', fontsize=16)\n",
    "plt.plot(a, 'k-')\n",
    "plt.ylim(-0.2, 1.2)\n",
    "plt.grid()\n",
    "\n",
    "plt.subplot(1,2,2)\n",
    "plt.title('w (max = {:d})'.format(np.argmax(w_correlate)-N+1), fontsize=16)\n",
    "plt.plot(np.arange(-N+1, N), w_correlate, 'k-')\n",
    "#plt.ylim(-0.2, 4)\n",
    "plt.grid()\n",
    "\n",
    "plt.show()"
   ]
  },
  {
   "cell_type": "code",
   "execution_count": null,
   "metadata": {},
   "outputs": [],
   "source": []
  }
 ],
 "metadata": {
  "kernelspec": {
   "display_name": "Python 3",
   "language": "python",
   "name": "python3"
  },
  "language_info": {
   "codemirror_mode": {
    "name": "ipython",
    "version": 3
   },
   "file_extension": ".py",
   "mimetype": "text/x-python",
   "name": "python",
   "nbconvert_exporter": "python",
   "pygments_lexer": "ipython3",
   "version": "3.7.4"
  }
 },
 "nbformat": 4,
 "nbformat_minor": 4
}
