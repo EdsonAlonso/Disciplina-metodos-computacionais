{
 "cells": [
  {
   "cell_type": "markdown",
   "metadata": {},
   "source": [
    "# Discrete Convolution and Correlation"
   ]
  },
  {
   "cell_type": "markdown",
   "metadata": {},
   "source": [
    "This notebook illustrates the (discrete) linear and circular convolutions.\n",
    "\n",
    "* Graham, L., D. E. Knuth, and O. Patashnik (1994). Concrete mathematics: a foundation for computer science, 2 ed.: Addison-Wesley Publishing Company. ISBN 0-201-55802-5\n",
    "\n",
    "* Yilmaz, Öz (2001). Seismic Data Analysis: Processing, Inversion, and Interpretation of Seismic Data, 2 ed.: Society of Exploration Geophysicists. ISBN 1-56080-098-4\n",
    "\n",
    "* Oppenheim, A. V., and Schafer, R., W. (2010). Discrete-Time Signal Processing, 3 ed.: Pearson. ISBN 0-13-198842-5"
   ]
  },
  {
   "cell_type": "code",
   "execution_count": 1,
   "metadata": {},
   "outputs": [],
   "source": [
    "import numpy as np\n",
    "from scipy.fft import fft, ifft\n",
    "from scipy.linalg import toeplitz, circulant, dft\n",
    "import matplotlib.pyplot as plt\n",
    "import my_functions as mfun"
   ]
  },
  {
   "cell_type": "markdown",
   "metadata": {},
   "source": [
    "## Linear convolution"
   ]
  },
  {
   "cell_type": "markdown",
   "metadata": {},
   "source": [
    "Let $\\mathbf{a}$ be an $N_{a} \\times 1$ vector and $\\mathbf{b}$ be an $N_{b} \\times 1$ vector. The *linear convolution* of $\\mathbf{a}$ and $\\mathbf{b}$ generates a $N_{w} \\times 1$ vector $\\mathbf{w}$, where $N_{w} = N_{a} + N_{b} - 1$, whose $i$th element is defined as follows (Oppenheim and Shafer, 2010, p. 661):\n",
    "\n",
    "$$\n",
    "w_{i} = \\sum\\limits_{j = -\\infty}^{\\infty} b_{i - j} \\, a_{j} \\: .\n",
    "$$"
   ]
  },
  {
   "cell_type": "markdown",
   "metadata": {},
   "source": [
    "The linear convolution is schematically represented as follows (e.g., Yilmaz, 2001, p. 39):"
   ]
  },
  {
   "cell_type": "code",
   "execution_count": 2,
   "metadata": {
    "scrolled": false
   },
   "outputs": [
    {
     "name": "stdout",
     "output_type": "stream",
     "text": [
      "Linear convolution:\n",
      "w_0 = (b_0 * a_0) + (  0 * a_1) + (  0 * a_2) + (  0 * a_3) + (  0 *  0) + (  0 *  0) + (  0 *  0) + (  0 *  0)\n",
      "w_1 = (b_1 * a_0) + (b_0 * a_1) + (  0 * a_2) + (  0 * a_3) + (  0 *  0) + (  0 *  0) + (  0 *  0) + (  0 *  0)\n",
      "w_2 = (b_2 * a_0) + (b_1 * a_1) + (b_0 * a_2) + (  0 * a_3) + (  0 *  0) + (  0 *  0) + (  0 *  0) + (  0 *  0)\n",
      "w_3 = (  0 * a_0) + (b_2 * a_1) + (b_1 * a_2) + (b_0 * a_3) + (  0 *  0) + (  0 *  0) + (  0 *  0) + (  0 *  0)\n",
      "w_4 = (  0 * a_0) + (  0 * a_1) + (b_2 * a_2) + (b_1 * a_3) + (b_0 *  0) + (  0 *  0) + (  0 *  0) + (  0 *  0)\n",
      "w_5 = (  0 * a_0) + (  0 * a_1) + (  0 * a_2) + (b_2 * a_3) + (b_1 *  0) + (b_0 *  0) + (  0 *  0) + (  0 *  0)\n",
      "  0 = (  0 * a_0) + (  0 * a_1) + (  0 * a_2) + (  0 * a_3) + (b_2 *  0) + (b_1 *  0) + (b_0 *  0) + (  0 *  0)\n",
      "\n",
      "\n",
      "Toeplitz system:\n",
      " w_0 = |  b_0    0    0    0    0    0    0 |  a_0\n",
      " w_1 = |  b_1  b_0    0    0    0    0    0 |  a_1\n",
      " w_2 = |  b_2  b_1  b_0    0    0    0    0 |  a_2\n",
      " w_3 = |    0  b_2  b_1  b_0    0    0    0 |  a_3\n",
      " w_4 = |    0    0  b_2  b_1  b_0    0    0 |    0\n",
      " w_5 = |    0    0    0  b_2  b_1  b_0    0 |    0\n",
      "   0 = |    0    0    0    0  b_2  b_1  b_0 |    0\n"
     ]
    }
   ],
   "source": [
    "mfun.linear_convolution_scheme(Na=4, Nb=3)"
   ]
  },
  {
   "cell_type": "markdown",
   "metadata": {},
   "source": [
    "The scheme above shows that the convolution is a matrix-vector product:\n",
    "\n",
    "$$\n",
    "\\begin{bmatrix}\n",
    "\\mathbf{w} \\\\\n",
    "\\hline\n",
    "0\n",
    "\\end{bmatrix} = \\mathbf{B} \\, \n",
    "\\begin{bmatrix}\n",
    "\\mathbf{a} \\\\\n",
    "\\hline\n",
    "\\mathbf{0}_{N_{b}}\n",
    "\\end{bmatrix} \\quad ,\n",
    "$$"
   ]
  },
  {
   "cell_type": "markdown",
   "metadata": {},
   "source": [
    "where $\\mathbf{B}$ is a Toeplitz matrix. Matrix-vetor products with Toeplitz matrices have some special properties (see the notebook `Toeplitz-circulant-matrix-vector.ipynb`) and can be computed by using the Fourier transform. Specifically, the linear convolution can be computed as follows:"
   ]
  },
  {
   "cell_type": "markdown",
   "metadata": {},
   "source": [
    "$$\n",
    "\\begin{bmatrix}\n",
    "\\mathbf{w} \\\\\n",
    "\\hline\n",
    "0\n",
    "\\end{bmatrix} \n",
    "= \\mathbf{F}_{(N)}^{\\ast} \\Bigg\\{ \\left( \\sqrt{N} \\:\\: \\mathbf{F}_{(N)} \n",
    "\\begin{bmatrix}\n",
    "\\mathbf{b} \\\\\n",
    "\\hline\n",
    "\\mathbf{0}_{N_{a}}\n",
    "\\end{bmatrix} \\right) \\circ \n",
    "\\left( \\mathbf{F}_{(N)} \n",
    "\\begin{bmatrix}\n",
    "\\mathbf{a} \\\\\n",
    "\\hline\n",
    "\\mathbf{0}_{N_{b}}\n",
    "\\end{bmatrix} \\right) \\Bigg\\}\n",
    "$$"
   ]
  },
  {
   "cell_type": "code",
   "execution_count": 3,
   "metadata": {},
   "outputs": [],
   "source": [
    "# number of data points in a\n",
    "Na = 100\n",
    "\n",
    "# data vector a\n",
    "a = 10*np.random.rand(Na)\n",
    "\n",
    "# number of data points in b\n",
    "Nb = 80\n",
    "\n",
    "# data vector b\n",
    "b = 10*np.random.rand(Nb)"
   ]
  },
  {
   "cell_type": "code",
   "execution_count": 4,
   "metadata": {},
   "outputs": [],
   "source": [
    "# number of elements in w\n",
    "Nw = Na + Nb - 1"
   ]
  },
  {
   "cell_type": "code",
   "execution_count": 5,
   "metadata": {},
   "outputs": [],
   "source": [
    "N = Na+Nb"
   ]
  },
  {
   "cell_type": "code",
   "execution_count": 6,
   "metadata": {},
   "outputs": [],
   "source": [
    "# vector a padded with zeros\n",
    "a_padd = np.hstack([a, np.zeros(Nb)])"
   ]
  },
  {
   "cell_type": "code",
   "execution_count": 7,
   "metadata": {},
   "outputs": [],
   "source": [
    "# vector b padded with zeros\n",
    "b_padd = np.hstack([b, np.zeros(Na)])"
   ]
  },
  {
   "cell_type": "code",
   "execution_count": 8,
   "metadata": {},
   "outputs": [],
   "source": [
    "# Toeplitz matrix B\n",
    "B = toeplitz(b_padd, np.zeros(N))"
   ]
  },
  {
   "cell_type": "code",
   "execution_count": 9,
   "metadata": {},
   "outputs": [],
   "source": [
    "# linear convolution computed as a matrix-vector product\n",
    "w_matvec = np.dot(B, a_padd)[:-1]"
   ]
  },
  {
   "cell_type": "code",
   "execution_count": 10,
   "metadata": {},
   "outputs": [],
   "source": [
    "# linear convolution computed by FFT\n",
    "DFT_a_padd = fft(x=a_padd, norm='ortho')\n",
    "DFT_b_padd = fft(x=b_padd, norm='ortho')\n",
    "w_fft = ifft(x=np.sqrt(N)*DFT_a_padd*DFT_b_padd, norm='ortho').real[:-1]"
   ]
  },
  {
   "cell_type": "code",
   "execution_count": 11,
   "metadata": {},
   "outputs": [
    {
     "data": {
      "text/plain": [
       "True"
      ]
     },
     "execution_count": 11,
     "metadata": {},
     "output_type": "execute_result"
    }
   ],
   "source": [
    "np.allclose(w_matvec, w_fft)"
   ]
  },
  {
   "cell_type": "code",
   "execution_count": 12,
   "metadata": {},
   "outputs": [],
   "source": [
    "# linear convolution computed by using numpy.convolve\n",
    "w_convolve = np.convolve(a, b, mode='full')"
   ]
  },
  {
   "cell_type": "code",
   "execution_count": 13,
   "metadata": {},
   "outputs": [
    {
     "data": {
      "text/plain": [
       "True"
      ]
     },
     "execution_count": 13,
     "metadata": {},
     "output_type": "execute_result"
    }
   ],
   "source": [
    "np.allclose(w_matvec, w_convolve)"
   ]
  },
  {
   "cell_type": "markdown",
   "metadata": {},
   "source": [
    "## Circular convolution"
   ]
  },
  {
   "cell_type": "markdown",
   "metadata": {},
   "source": [
    "Let $\\mathbf{a}$ and $\\mathbf{b}$ be $N \\times 1$ vectors. The circular convolution of $\\mathbf{a}$ and $\\mathbf{b}$ generates an $N \\times 1$ vector $\\mathbf{w}$ whose $i$th element is defined as follows:\n",
    "\n",
    "$$\n",
    "w_{i} = \\sum\\limits_{j = 0}^{N-1} b_{(i - j)\\text{mod}N} \\, a_{j} \\: .\n",
    "$$"
   ]
  },
  {
   "cell_type": "markdown",
   "metadata": {},
   "source": [
    "The **mod** function $x \\, \\text{mod} \\, y$ (Graham et al., 1994, p. 82) computes the remainder of division of `x` by `y`. It can be rewritten as follows:\n",
    "\n",
    "$$\n",
    "x \\, \\text{mod} \\, y = x - y \\, \\Big\\lfloor \\frac{x}{y} \\Big\\rfloor \\: ,\n",
    "$$\n",
    "\n",
    "where $\\lfloor \\cdot \\rfloor$ denotes the **floor** function (Graham et al., 1994, p. 67), which computes the\n",
    "greatest integer less than or equal to its argument. The mod function is implemented in the routine [`numpy.mod`](https://numpy.org/doc/stable/reference/generated/numpy.mod.html)."
   ]
  },
  {
   "cell_type": "code",
   "execution_count": 14,
   "metadata": {},
   "outputs": [
    {
     "name": "stdout",
     "output_type": "stream",
     "text": [
      "Circular convolution:\n",
      "w_0 = (b_0 * a_0) + (b_3 * a_1) + (b_2 * a_2) + (b_1 * a_3)\n",
      "w_1 = (b_1 * a_0) + (b_0 * a_1) + (b_3 * a_2) + (b_2 * a_3)\n",
      "w_2 = (b_2 * a_0) + (b_1 * a_1) + (b_0 * a_2) + (b_3 * a_3)\n",
      "w_3 = (b_3 * a_0) + (b_2 * a_1) + (b_1 * a_2) + (b_0 * a_3)\n",
      "\n",
      "\n",
      "Circulant system:\n",
      " w_0 = |  b_0  b_3  b_2  b_1 |  a_0\n",
      " w_1 = |  b_1  b_0  b_3  b_2 |  a_1\n",
      " w_2 = |  b_2  b_1  b_0  b_3 |  a_2\n",
      " w_3 = |  b_3  b_2  b_1  b_0 |  a_3\n"
     ]
    }
   ],
   "source": [
    "mfun.circular_convolution_scheme(N=4)"
   ]
  },
  {
   "cell_type": "markdown",
   "metadata": {},
   "source": [
    "PAREI AQUI"
   ]
  },
  {
   "cell_type": "markdown",
   "metadata": {},
   "source": [
    "Notice that the system above satisfies the necessary conditions (see the notebook `Toeplitz-circulant-matrix-vector.ipynb`) so that the circular convolution can be computed by using the Fourier transform. Specifically, the circular convolution can be computed as follows:"
   ]
  },
  {
   "cell_type": "markdown",
   "metadata": {},
   "source": [
    "$$\n",
    "\\mathbf{w} = \\mathbf{F}_{(N)}^{\\ast} \\Bigg\\{ \\left( \\sqrt{N} \\:\\: \n",
    "\\mathbf{F}_{(N)} \\, \\mathbf{b} \\right) \\circ \n",
    "\\left( \\mathbf{F}_{(N)} \\, \\mathbf{a} \\right) \\Bigg\\}\n",
    "$$"
   ]
  },
  {
   "cell_type": "code",
   "execution_count": 15,
   "metadata": {},
   "outputs": [],
   "source": [
    "# number of data points\n",
    "N = 100\n",
    "\n",
    "# data vector a\n",
    "a = 10*np.random.rand(N)\n",
    "\n",
    "# data vector b\n",
    "b = 10*np.random.rand(N)"
   ]
  },
  {
   "cell_type": "code",
   "execution_count": 16,
   "metadata": {},
   "outputs": [],
   "source": [
    "# Circulant matrix C\n",
    "C = circulant(b)"
   ]
  },
  {
   "cell_type": "code",
   "execution_count": 17,
   "metadata": {},
   "outputs": [],
   "source": [
    "# circular convolution computed as a matrix-vector product\n",
    "w_matvec = np.dot(C, a)"
   ]
  },
  {
   "cell_type": "code",
   "execution_count": 18,
   "metadata": {},
   "outputs": [],
   "source": [
    "# circular convolution computed by FFT\n",
    "DFT_a = fft(x=a, norm='ortho')\n",
    "DFT_b = fft(x=b, norm='ortho')\n",
    "w_fft = ifft(x=np.sqrt(N)*DFT_a*DFT_b, norm='ortho').real"
   ]
  },
  {
   "cell_type": "code",
   "execution_count": 19,
   "metadata": {},
   "outputs": [
    {
     "data": {
      "text/plain": [
       "True"
      ]
     },
     "execution_count": 19,
     "metadata": {},
     "output_type": "execute_result"
    }
   ],
   "source": [
    "np.allclose(w_matvec, w_fft)"
   ]
  },
  {
   "cell_type": "markdown",
   "metadata": {},
   "source": [
    "## Comparison between linear and circular convolutions"
   ]
  },
  {
   "cell_type": "code",
   "execution_count": null,
   "metadata": {},
   "outputs": [],
   "source": [
    "mfun.linear_convolution_scheme(Na=3, Nb=3)"
   ]
  },
  {
   "cell_type": "code",
   "execution_count": null,
   "metadata": {},
   "outputs": [],
   "source": [
    "mfun.circular_convolution_scheme(N=3)"
   ]
  },
  {
   "cell_type": "code",
   "execution_count": null,
   "metadata": {},
   "outputs": [],
   "source": [
    "mfun.circular_convolution_scheme(N=6)"
   ]
  },
  {
   "cell_type": "markdown",
   "metadata": {},
   "source": [
    "Circular convolution generates the same result as linear convolution if the input vectors are padded with zeros."
   ]
  },
  {
   "cell_type": "markdown",
   "metadata": {},
   "source": [
    "## Crosscorrelation and Autocorrelation"
   ]
  },
  {
   "cell_type": "markdown",
   "metadata": {},
   "source": [
    "Let $\\mathbf{a}$ be an $N_{a} \\times 1$ vector and $\\mathbf{b}$ be an $N_{b} \\times 1$ vector. The *crosscorrelation* of $\\mathbf{a}$ and $\\mathbf{b}$ generates a $N \\times 1$ vector $\\mathbf{w}$, where $N = N_{a} + N_{b} - 1$, whose $i$th element is defined as follows:\n",
    "\n",
    "$$\n",
    "w_{i} = \\sum\\limits_{j = 0}^{N-1} b_{i + j} \\, a_{j} \\: .\n",
    "$$"
   ]
  },
  {
   "cell_type": "markdown",
   "metadata": {},
   "source": [
    "The crosscorrelation is schematically represented as follows (e.g., Yilmaz, 2001, p. 40):"
   ]
  },
  {
   "cell_type": "code",
   "execution_count": null,
   "metadata": {},
   "outputs": [],
   "source": [
    "mfun.crosscorrelation_scheme(Na=4, Nb=3)"
   ]
  },
  {
   "cell_type": "code",
   "execution_count": null,
   "metadata": {},
   "outputs": [],
   "source": [
    "# number of data points in a\n",
    "Na = 100\n",
    "\n",
    "# data vector a\n",
    "a = 10*np.random.rand(Na)\n",
    "\n",
    "# number of data points in b\n",
    "Nb = 80\n",
    "\n",
    "# data vector b\n",
    "b = 10*np.random.rand(Nb)"
   ]
  },
  {
   "cell_type": "code",
   "execution_count": null,
   "metadata": {},
   "outputs": [],
   "source": [
    "# number of elements in w\n",
    "Nw = Na + Nb - 1"
   ]
  },
  {
   "cell_type": "code",
   "execution_count": null,
   "metadata": {},
   "outputs": [],
   "source": [
    "N = Na + Nb"
   ]
  },
  {
   "cell_type": "code",
   "execution_count": null,
   "metadata": {},
   "outputs": [],
   "source": [
    "# vector a padded with zeros\n",
    "a_padd = np.hstack([a, np.zeros(Nb)])"
   ]
  },
  {
   "cell_type": "code",
   "execution_count": null,
   "metadata": {},
   "outputs": [],
   "source": [
    "# vector b padded with zeros\n",
    "b_padd = np.hstack([b[::-1], np.zeros(Na)])"
   ]
  },
  {
   "cell_type": "code",
   "execution_count": null,
   "metadata": {},
   "outputs": [],
   "source": [
    "# Toeplitz matrix B\n",
    "B = toeplitz(b_padd, np.zeros(N))"
   ]
  },
  {
   "cell_type": "code",
   "execution_count": null,
   "metadata": {},
   "outputs": [],
   "source": [
    "# crosscorrelation computed as a matrix-vector product\n",
    "w_matvec = np.dot(B, a_padd)[:-1]"
   ]
  },
  {
   "cell_type": "code",
   "execution_count": null,
   "metadata": {},
   "outputs": [],
   "source": [
    "# crosscorrelation computed by FFT\n",
    "DFT_a_padd = fft(x=a_padd, norm='ortho')\n",
    "DFT_b_padd = fft(x=b_padd, norm='ortho')\n",
    "w_fft = ifft(x=np.sqrt(N)*DFT_a_padd*DFT_b_padd, norm='ortho').real[:-1]"
   ]
  },
  {
   "cell_type": "code",
   "execution_count": null,
   "metadata": {},
   "outputs": [],
   "source": [
    "np.allclose(w_matvec, w_fft)"
   ]
  },
  {
   "cell_type": "code",
   "execution_count": null,
   "metadata": {},
   "outputs": [],
   "source": [
    "# crosscorrelation computed by using numpy.convolve\n",
    "w_correlate = np.correlate(a, b, mode='full')"
   ]
  },
  {
   "cell_type": "code",
   "execution_count": null,
   "metadata": {},
   "outputs": [],
   "source": [
    "np.allclose(w_matvec, w_correlate)"
   ]
  },
  {
   "cell_type": "markdown",
   "metadata": {},
   "source": [
    "If vectors $\\mathbf{a}$ and $\\mathbf{b}$ are the same, the crosscorrelation is called *autocorrelation*."
   ]
  },
  {
   "cell_type": "code",
   "execution_count": null,
   "metadata": {},
   "outputs": [],
   "source": [
    "mfun.autocorrelation_scheme(N=3)"
   ]
  },
  {
   "cell_type": "code",
   "execution_count": null,
   "metadata": {},
   "outputs": [],
   "source": []
  }
 ],
 "metadata": {
  "kernelspec": {
   "display_name": "Python 3",
   "language": "python",
   "name": "python3"
  },
  "language_info": {
   "codemirror_mode": {
    "name": "ipython",
    "version": 3
   },
   "file_extension": ".py",
   "mimetype": "text/x-python",
   "name": "python",
   "nbconvert_exporter": "python",
   "pygments_lexer": "ipython3",
   "version": "3.7.4"
  }
 },
 "nbformat": 4,
 "nbformat_minor": 4
}
