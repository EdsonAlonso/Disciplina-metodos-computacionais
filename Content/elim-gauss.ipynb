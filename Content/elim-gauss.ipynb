{
 "cells": [
  {
   "cell_type": "markdown",
   "metadata": {},
   "source": [
    "# Gaussian elimination"
   ]
  },
  {
   "cell_type": "markdown",
   "metadata": {},
   "source": [
    "Consider the following linear system:"
   ]
  },
  {
   "cell_type": "markdown",
   "metadata": {},
   "source": [
    "$$\\mathbf{A} \\, \\mathbf{x}  = \\mathbf{y}\\: ,$$"
   ]
  },
  {
   "cell_type": "markdown",
   "metadata": {},
   "source": [
    "where $\\mathbf{A}$ is a $N \\times N$ unstructured matrix given by"
   ]
  },
  {
   "cell_type": "markdown",
   "metadata": {},
   "source": [
    "$$\\mathbf{A} = \\left[\n",
    "\\begin{array}{cccccc}\n",
    "a_{11} & a_{12} & a_{13} & a_{14} & \\cdots & a_{1M} \\\\\n",
    "a_{21} & a_{22} & a_{23} & a_{24} & \\cdots & a_{2M} \\\\\n",
    "a_{31} & a_{32} & a_{33} & a_{34} & \\cdots & a_{3M} \\\\\n",
    "a_{41} & a_{42} & a_{43} & a_{44} & \\cdots & a_{4M} \\\\\n",
    "\\vdots & \\vdots & \\vdots & \\vdots & \\ddots & \\vdots \\\\\n",
    "a_{N1} & a_{N2} & a_{N3} & a_{N4} & \\cdots & a_{NN}\n",
    "\\end{array}\n",
    "\\right]_{\\, N \\times N} \\: ,$$"
   ]
  },
  {
   "cell_type": "markdown",
   "metadata": {},
   "source": [
    "$$\\mathbf{y} = \\left[\n",
    "\\begin{array}{c}\n",
    "y_{1} \\\\\n",
    "y_{2} \\\\\n",
    "\\vdots \\\\\n",
    "y_{N}\n",
    "\\end{array}\n",
    "\\right]_{\\,  \\times 1}$$"
   ]
  },
  {
   "cell_type": "markdown",
   "metadata": {},
   "source": [
    "and"
   ]
  },
  {
   "cell_type": "markdown",
   "metadata": {},
   "source": [
    "$$\\mathbf{x} = \\left[\n",
    "\\begin{array}{c}\n",
    "x_{1} \\\\\n",
    "x_{2} \\\\\n",
    "\\vdots \\\\\n",
    "x_{N}\n",
    "\\end{array}\n",
    "\\right]_{\\, N \\times 1} \\: .$$"
   ]
  },
  {
   "cell_type": "markdown",
   "metadata": {},
   "source": [
    "This is a **square and unstructured linear system** because $\\mathbf{A}$ is a general square matrix that is not diagonal, triangular, banded or any other type of structured matrix. \n",
    "\n",
    "How to solve this linear system? At this part of the course, we only know how to solve diagonal and triangular systems. It would be useful if this system were tranformed into an equivalent triangular system having the same solution $\\mathbf{x}$ as the unstructured system presented above. We say that this new system is equivalent because the solution is the same and triangular because its matrix is upper triangular.\n",
    "\n",
    "**Gaussian elimination** is a numerical procedure applied for transforming a square and unstructured system into this equivalent triangular system, which can be represented as follows: "
   ]
  },
  {
   "cell_type": "markdown",
   "metadata": {},
   "source": [
    "$$\\mathbf{B} \\, \\mathbf{x} = \\mathbf{z} \\: ,$$"
   ]
  },
  {
   "cell_type": "markdown",
   "metadata": {},
   "source": [
    "where"
   ]
  },
  {
   "cell_type": "markdown",
   "metadata": {},
   "source": [
    "$$\\mathbf{B} = \\left[\n",
    "\\begin{array}{ccccc}\n",
    "b_{11} & b_{12} & b_{13} & b_{14} & \\cdots & b_{1M} \\\\\n",
    "0 & b_{22} & b_{23} & b_{24} & \\cdots & b_{2M} \\\\\n",
    "0 & 0 & b_{33} & b_{34} & \\cdots & b_{3M} \\\\\n",
    "0 & 0 & 0 & b_{44} & \\cdots & b_{4M} \\\\\n",
    "\\vdots & \\vdots & \\vdots &  & \\ddots & \\vdots \\\\\n",
    "0 & 0 & 0 & 0 & \\cdots & b_{NN}\n",
    "\\end{array}\n",
    "\\right]_{\\, N \\times N}$$"
   ]
  },
  {
   "cell_type": "markdown",
   "metadata": {},
   "source": [
    "and"
   ]
  },
  {
   "cell_type": "markdown",
   "metadata": {},
   "source": [
    "$$\\mathbf{z} = \\left[\n",
    "\\begin{array}{c}\n",
    "z_{1} \\\\\n",
    "z_{2} \\\\\n",
    "\\vdots \\\\\n",
    "z_{N}\n",
    "\\end{array}\n",
    "\\right]_{\\, N \\times 1} \\: .$$"
   ]
  },
  {
   "cell_type": "markdown",
   "metadata": {},
   "source": [
    "As pointed out before, this equivalent system has the same solution $\\mathbf{x}$ as the unstructured system. The most striking observation to emerge from Gaussian elimination is that it transforms an unstructured linear system into a triangular system, which can be easily solved."
   ]
  },
  {
   "cell_type": "markdown",
   "metadata": {},
   "source": [
    "\n",
    "\n",
    "Contudo, este novo sistema pode ser resolvido de forma relativamente fácil, de acordo com o algoritmo descrito em uma aula anterior. A transformação do sistema linear original para o sistema triangular equivalente é feita de forma iterativa, por meio de sucessivas transformações lineares do tipo:"
   ]
  },
  {
   "cell_type": "markdown",
   "metadata": {},
   "source": [
    "$$\n",
    "\\begin{array}{ccccc}\n",
    "\\mathbf{A}^{(0)} = \\mathbf{A} & & & \\mathbf{y}^{(0)} = \\mathbf{y} \\\\\\\\\n",
    "\\mathbf{A}^{(1)} = \\left(\\mathbf{I} - \\mathbf{M}^{(1)}\\right) \\mathbf{A}^{(0)} & & &\n",
    "\\mathbf{y}^{(1)} = \\left(\\mathbf{I} - \\mathbf{M}^{(1)}\\right) \\mathbf{y}^{(0)} \\\\\\\\\n",
    "\\mathbf{A}^{(2)} = \\left(\\mathbf{I} - \\mathbf{M}^{(2)}\\right) \\mathbf{A}^{(1)} & & &\n",
    "\\mathbf{y}^{(2)} = \\left(\\mathbf{I} - \\mathbf{M}^{(2)}\\right) \\mathbf{y}^{(1)} \\\\\\\\\n",
    "\\vdots & & & \\vdots \\\\\\\\\n",
    "\\mathbf{A}^{(N-2)} = \\left(\\mathbf{I} - \\mathbf{M}^{(N-2)}\\right) \\mathbf{A}^{(N-3)} & & &\n",
    "\\mathbf{y}^{(N-2)} = \\left(\\mathbf{I} - \\mathbf{M}^{(N-2)}\\right) \\mathbf{y}^{(N-3)} \\\\\\\\\n",
    "\\mathbf{B} = \\left(\\mathbf{I} - \\mathbf{M}^{(N-1)}\\right) \\mathbf{A}^{(N-2)} & & &\n",
    "\\mathbf{z} = \\left(\\mathbf{I} - \\mathbf{M}^{(N-1)}\\right) \\mathbf{y}^{(N-2)} \\\\\\\\\n",
    "\\end{array} \\: ,$$"
   ]
  },
  {
   "cell_type": "markdown",
   "metadata": {},
   "source": [
    "em que $\\mathbf{I}$ é a matriz identidade de ordem $N$,"
   ]
  },
  {
   "cell_type": "markdown",
   "metadata": {},
   "source": [
    "$$\\mathbf{M}^{(k)} = \\mathbf{t}^{(k)} \\otimes (\\mathbf{u}^{(k)})^{\\top} \\: ,$$"
   ]
  },
  {
   "cell_type": "markdown",
   "metadata": {},
   "source": [
    "$\\mathbf{u}^{(k)}$ é um vetor $N \\times 1$ com o $k$-ésimo elemento igual a $1$ e os demais iguais a zero e $\\mathbf{t}^{(k)}$ é um vetor $N \\times 1$, cujo $i$-ésimo elemento $t_{i}^{(k)}$ é dado por:"
   ]
  },
  {
   "cell_type": "markdown",
   "metadata": {},
   "source": [
    "$t_{i}^{(k)} = \\begin{cases} 0 & \\quad \\text{if } i \\le k \\\\\\\\ \\dfrac{a^{(k-1)}_{ik}}{a^{(k-1)}_{kk}} & \\quad \\text{if } i \\gt k\\\\ \\end{cases} \\: ,$"
   ]
  },
  {
   "cell_type": "markdown",
   "metadata": {},
   "source": [
    "em que $a^{(k-1)}_{ij}$ é o elemento $ij$ da matriz $\\mathbf{A}^{(k-1)}$. Note que o número de iterações necessárias para transformar o sistema original (que é $N \\times N$) no sistema triangular equivalente é igual a $N - 1$. A matriz $\\left(\\mathbf{I} - \\mathbf{M}^{(k)}\\right)$ é denominada **Transformação de Gauss**, o vetor $\\mathbf{t}^{(k)}$ é denominado **vetor de Gauss** e os elementos não-nulos do vetor $\\mathbf{t}^{(k)}$ são denominados **multiplicadores**."
   ]
  },
  {
   "cell_type": "markdown",
   "metadata": {},
   "source": [
    "###Exemplo de sistema $3 \\times 3$"
   ]
  },
  {
   "cell_type": "markdown",
   "metadata": {
    "collapsed": true
   },
   "source": [
    "Considere, por exemplo, o sistema $3 \\times 3$ abaixo:"
   ]
  },
  {
   "cell_type": "markdown",
   "metadata": {},
   "source": [
    "$$\\mathbf{A} \\, \\mathbf{x} = \\mathbf{y} \\: ,$$"
   ]
  },
  {
   "cell_type": "markdown",
   "metadata": {},
   "source": [
    "em que"
   ]
  },
  {
   "cell_type": "code",
   "execution_count": 1,
   "metadata": {
    "collapsed": true
   },
   "outputs": [],
   "source": [
    "import numpy as np"
   ]
  },
  {
   "cell_type": "code",
   "execution_count": 2,
   "metadata": {
    "collapsed": true
   },
   "outputs": [],
   "source": [
    "A = np.array([[1.,3.,2.],\n",
    "              [7.,4.,9.],\n",
    "              [8.,6.,5.]])"
   ]
  },
  {
   "cell_type": "code",
   "execution_count": 3,
   "metadata": {
    "collapsed": true
   },
   "outputs": [],
   "source": [
    "y = np.array([[5.23],\n",
    "              [6.45],\n",
    "              [1.67]])"
   ]
  },
  {
   "cell_type": "markdown",
   "metadata": {},
   "source": [
    "A solução deste sistema é dada por:"
   ]
  },
  {
   "cell_type": "code",
   "execution_count": 4,
   "metadata": {
    "collapsed": true
   },
   "outputs": [],
   "source": [
    "x = np.linalg.solve(A,y)"
   ]
  },
  {
   "cell_type": "code",
   "execution_count": 5,
   "metadata": {
    "collapsed": false
   },
   "outputs": [
    {
     "name": "stdout",
     "output_type": "stream",
     "text": [
      "[[-1.70556701]\n",
      " [ 1.34958763]\n",
      " [ 1.44340206]]\n"
     ]
    }
   ],
   "source": [
    "print x"
   ]
  },
  {
   "cell_type": "markdown",
   "metadata": {},
   "source": [
    "Neste caso, 2 iterações são necessárias para transformar este sistema no sistema equivalente. Para tanto, vamos calcular a primeira Transformação de Gauss."
   ]
  },
  {
   "cell_type": "code",
   "execution_count": 6,
   "metadata": {
    "collapsed": true
   },
   "outputs": [],
   "source": [
    "I = np.identity(3)"
   ]
  },
  {
   "cell_type": "code",
   "execution_count": 7,
   "metadata": {
    "collapsed": true
   },
   "outputs": [],
   "source": [
    "u = np.array([[1.],\n",
    "              [0.],\n",
    "              [0.]])"
   ]
  },
  {
   "cell_type": "code",
   "execution_count": 8,
   "metadata": {
    "collapsed": true
   },
   "outputs": [],
   "source": [
    "t = np.array([[0.],\n",
    "              [A[1][0]/A[0][0]],\n",
    "              [A[2][0]/A[0][0]]])"
   ]
  },
  {
   "cell_type": "code",
   "execution_count": null,
   "metadata": {
    "collapsed": true
   },
   "outputs": [],
   "source": [
    "A1 = (I - t*u.T).dot(A)"
   ]
  },
  {
   "cell_type": "code",
   "execution_count": null,
   "metadata": {
    "collapsed": false
   },
   "outputs": [],
   "source": [
    "A1"
   ]
  },
  {
   "cell_type": "code",
   "execution_count": null,
   "metadata": {
    "collapsed": true
   },
   "outputs": [],
   "source": [
    "y1 = (I - t*u.T).dot(y)"
   ]
  },
  {
   "cell_type": "code",
   "execution_count": null,
   "metadata": {
    "collapsed": false
   },
   "outputs": [],
   "source": [
    "y1"
   ]
  },
  {
   "cell_type": "markdown",
   "metadata": {},
   "source": [
    "Agora a segunda Transformação de Gauss."
   ]
  },
  {
   "cell_type": "code",
   "execution_count": null,
   "metadata": {
    "collapsed": true
   },
   "outputs": [],
   "source": [
    "u = np.array([[0.],\n",
    "              [1.],\n",
    "              [0.]])"
   ]
  },
  {
   "cell_type": "code",
   "execution_count": null,
   "metadata": {
    "collapsed": true
   },
   "outputs": [],
   "source": [
    "t = np.array([[0.],\n",
    "              [0.],\n",
    "              [A1[2][1]/A1[1][1]]])"
   ]
  },
  {
   "cell_type": "code",
   "execution_count": null,
   "metadata": {
    "collapsed": false
   },
   "outputs": [],
   "source": [
    "B = (I - t*u.T).dot(A1)"
   ]
  },
  {
   "cell_type": "code",
   "execution_count": null,
   "metadata": {
    "collapsed": false
   },
   "outputs": [],
   "source": [
    "B"
   ]
  },
  {
   "cell_type": "code",
   "execution_count": null,
   "metadata": {
    "collapsed": true
   },
   "outputs": [],
   "source": [
    "z = (I - t*u.T).dot(y1)"
   ]
  },
  {
   "cell_type": "code",
   "execution_count": null,
   "metadata": {
    "collapsed": false
   },
   "outputs": [],
   "source": [
    "z"
   ]
  },
  {
   "cell_type": "markdown",
   "metadata": {},
   "source": [
    "Agora, vamos calcular a solução do novo sistema $\\mathbf{B} \\, \\mathbf{w} = \\mathbf{z}$"
   ]
  },
  {
   "cell_type": "code",
   "execution_count": null,
   "metadata": {
    "collapsed": true
   },
   "outputs": [],
   "source": [
    "w = np.linalg.solve(B,z)"
   ]
  },
  {
   "cell_type": "code",
   "execution_count": null,
   "metadata": {
    "collapsed": false
   },
   "outputs": [],
   "source": [
    "w"
   ]
  },
  {
   "cell_type": "markdown",
   "metadata": {},
   "source": [
    "Note que esta solução $\\mathbf{w}$ é igual a solução $\\mathbf{x}$ do sistema original:"
   ]
  },
  {
   "cell_type": "code",
   "execution_count": null,
   "metadata": {
    "collapsed": false
   },
   "outputs": [],
   "source": [
    "x"
   ]
  },
  {
   "cell_type": "markdown",
   "metadata": {},
   "source": [
    "###Exercício"
   ]
  },
  {
   "cell_type": "markdown",
   "metadata": {},
   "source": [
    "Implemente o algoritmo de Eliminação de Gauss apresentado acima para resolver um sistema de ordem $N$. Dentre as funções feitas anteriormente, use todas aquelas que são necessárias para implementar este algoritmo. **A implementação deve seguir o template da disciplina**."
   ]
  },
  {
   "cell_type": "code",
   "execution_count": null,
   "metadata": {
    "collapsed": true
   },
   "outputs": [],
   "source": []
  }
 ],
 "metadata": {
  "kernelspec": {
   "display_name": "Python 2",
   "language": "python",
   "name": "python2"
  },
  "language_info": {
   "codemirror_mode": {
    "name": "ipython",
    "version": 2
   },
   "file_extension": ".py",
   "mimetype": "text/x-python",
   "name": "python",
   "nbconvert_exporter": "python",
   "pygments_lexer": "ipython2",
   "version": "2.7.11"
  }
 },
 "nbformat": 4,
 "nbformat_minor": 0
}
