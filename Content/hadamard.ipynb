{
 "cells": [
  {
   "cell_type": "markdown",
   "metadata": {},
   "source": [
    "# Hadamard product"
   ]
  },
  {
   "cell_type": "markdown",
   "metadata": {},
   "source": [
    "Let $\\mathbf{x}$ and $\\mathbf{y}$ be two $N \\times 1$ vectors given by:"
   ]
  },
  {
   "cell_type": "markdown",
   "metadata": {},
   "source": [
    "$$\\mathbf{x} = \\left[\n",
    "\\begin{array}{c}\n",
    "x_{1} \\\\\n",
    "x_{2} \\\\\n",
    "\\vdots \\\\\n",
    "x_{N}\n",
    "\\end{array}\n",
    "\\right]_{\\, N \\times 1}$$"
   ]
  },
  {
   "cell_type": "markdown",
   "metadata": {},
   "source": [
    "and"
   ]
  },
  {
   "cell_type": "markdown",
   "metadata": {},
   "source": [
    "$$\\mathbf{y} = \\left[\n",
    "\\begin{array}{c}\n",
    "y_{1} \\\\\n",
    "y_{2} \\\\\n",
    "\\vdots \\\\\n",
    "y_{N}\n",
    "\\end{array}\n",
    "\\right]_{\\, N \\times 1} \\: .$$"
   ]
  },
  {
   "cell_type": "markdown",
   "metadata": {},
   "source": [
    "\n",
    "The <a href='https://en.wikipedia.org/wiki/Hadamard_product_(matrices)'>Hadamard product</a> (or entrywise product) is defined as follows:"
   ]
  },
  {
   "cell_type": "markdown",
   "metadata": {},
   "source": [
    "$$\\begin{split}\n",
    "\\mathbf{z} \n",
    "& = \\mathbf{x} \\circ \\mathbf{y} \\\\\n",
    "& = \\left[\n",
    "\\begin{array}{c}\n",
    "x_{1} \\, y_{1} \\\\\n",
    "x_{2} \\, y_{2}\\\\\n",
    "\\vdots \\\\\n",
    "x_{N} \\, y_{N}\n",
    "\\end{array}\n",
    "\\right]_{\\, N \\times 1}\n",
    "\\end{split} \\: .$$"
   ]
  },
  {
   "cell_type": "markdown",
   "metadata": {},
   "source": [
    "Notice that the result is a vector with the same number of elements as $\\mathbf{x}$ and $\\mathbf{y}$."
   ]
  },
  {
   "cell_type": "markdown",
   "metadata": {
    "collapsed": true
   },
   "source": [
    "This product can be represented by"
   ]
  },
  {
   "cell_type": "markdown",
   "metadata": {},
   "source": [
    "    for i = 1:N\n",
    "        z[i] = x[i]*y[i]"
   ]
  },
  {
   "cell_type": "markdown",
   "metadata": {},
   "source": [
    "Or, by using the *colon* notation"
   ]
  },
  {
   "cell_type": "markdown",
   "metadata": {},
   "source": [
    "    z[:] = x[:]*y[:]"
   ]
  },
  {
   "cell_type": "markdown",
   "metadata": {},
   "source": [
    "### Exercise"
   ]
  },
  {
   "cell_type": "markdown",
   "metadata": {},
   "source": [
    "1. Create a function that receives two numpy arrays and computes the Hadamard product by following the first algorithm shown above (with for). The numpy arrays must have the same size and shape (hint: use an `assert` to verify the input). The function must be written in your `my_functions.py` file, according to the template shown in the notebook `dot.ipynb`.\n",
    "2. Create three automatic tests in your `test_my_functions.py` file, according to the template shown in the notebook `dot.ipynb`. One of the tests must compare the result obtained by your function and the result obtained by the algorithm which uses the *colon* notation. Another test must set a specific input and compare the result obtained by your function and the expected result. The last test must verify if your function raises an AssertionError, given a specific input."
   ]
  },
  {
   "cell_type": "markdown",
   "metadata": {},
   "source": [
    "### Optional"
   ]
  },
  {
   "cell_type": "markdown",
   "metadata": {},
   "source": [
    "Use the `%timeit` to compare the computation time of the Hadamard product implemented by using `for` and by using the *colon notation*. What is the faster approach?"
   ]
  },
  {
   "cell_type": "code",
   "execution_count": null,
   "metadata": {
    "collapsed": true
   },
   "outputs": [],
   "source": []
  }
 ],
 "metadata": {
  "anaconda-cloud": {},
  "kernelspec": {
   "display_name": "Python [default]",
   "language": "python",
   "name": "python2"
  },
  "language_info": {
   "codemirror_mode": {
    "name": "ipython",
    "version": 2
   },
   "file_extension": ".py",
   "mimetype": "text/x-python",
   "name": "python",
   "nbconvert_exporter": "python",
   "pygments_lexer": "ipython2",
   "version": "2.7.10"
  }
 },
 "nbformat": 4,
 "nbformat_minor": 1
}
