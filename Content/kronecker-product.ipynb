{
 "cells": [
  {
   "cell_type": "markdown",
   "metadata": {},
   "source": [
    "# Kronecker product"
   ]
  },
  {
   "cell_type": "markdown",
   "metadata": {},
   "source": [
    "#### References\n",
    "\n",
    "* Magnus, J. R. and H. Neudecker (2007), Matrix differential calculus with applications in statistics and econometrics, 3rd edition, John Wiley & Sons, ISBN 0-471-98632-1.\n",
    "\n",
    "* Jain, A. K. (1989), Fundamentals of Digital Image Processing, Prentice Hall, ISBN 978-0-13-336165-0.\n",
    "\n",
    "* Horn, R. A. and C. R. Johnson, (1991), Topics in Matrix Analysis, Cambridge University Press, ISBN 978-0-521-46713-1."
   ]
  },
  {
   "cell_type": "markdown",
   "metadata": {},
   "source": [
    "Let $\\mathbf{A}$ and $\\mathbf{B}$ be, respectively, $N \\times M$ and $L \\times P$ matrices given by:"
   ]
  },
  {
   "cell_type": "markdown",
   "metadata": {},
   "source": [
    "$$\\mathbf{A} \n",
    "= \\begin{bmatrix}\n",
    "a_{11} & \\cdots & a_{1M} \\\\\n",
    "\\vdots &        & \\vdots \\\\\n",
    "a_{N1} & \\cdots & a_{NM}\n",
    "\\end{bmatrix}_{N \\times M} \\:\n",
    "$$"
   ]
  },
  {
   "cell_type": "markdown",
   "metadata": {},
   "source": [
    "and"
   ]
  },
  {
   "cell_type": "markdown",
   "metadata": {},
   "source": [
    "$$\\mathbf{B} \n",
    "= \\begin{bmatrix}\n",
    "b_{11} & \\cdots & b_{1P} \\\\\n",
    "\\vdots &        & \\vdots \\\\\n",
    "b_{L1} & \\cdots & b_{LP}\n",
    "\\end{bmatrix}_{L \\times P} \\: .\n",
    "$$"
   ]
  },
  {
   "cell_type": "markdown",
   "metadata": {
    "collapsed": true
   },
   "source": [
    "The [Kronecker product](https://en.wikipedia.org/wiki/Kronecker_product) of $\\mathbf{A}$ and $\\mathbf{B}$, denoted as $\\mathbf{A} \\otimes \\mathbf{B}$, is an $NL \\times MP$ matrix given by:"
   ]
  },
  {
   "cell_type": "markdown",
   "metadata": {},
   "source": [
    "<a id='eq1'></a>\n",
    "$$\n",
    "\\mathbf{A} \\otimes \\mathbf{B}\n",
    "= \\begin{bmatrix}\n",
    "a_{11} \\, \\mathbf{B} & \\cdots & a_{1M} \\, \\mathbf{B} \\\\\n",
    "\\vdots &        & \\vdots \\\\\n",
    "a_{N1} \\, \\mathbf{B} & \\cdots & a_{NM} \\, \\mathbf{B}\n",
    "\\end{bmatrix}_{\\, NL \\, \\times \\, MP} \\: . \\tag{1}\n",
    "$$"
   ]
  },
  {
   "cell_type": "markdown",
   "metadata": {},
   "source": [
    "Notice that $\\mathbf{A} \\otimes \\mathbf{B}$ ([equation 1](#eq1)) is a block matrix formed by $N \\times M$ blocks, each one with $L \\times P$ elements."
   ]
  },
  {
   "cell_type": "code",
   "execution_count": 1,
   "metadata": {},
   "outputs": [],
   "source": [
    "import numpy as np\n",
    "from numpy.linalg import multi_dot"
   ]
  },
  {
   "cell_type": "code",
   "execution_count": 2,
   "metadata": {},
   "outputs": [],
   "source": [
    "N = 3\n",
    "M = 4\n",
    "L = 2\n",
    "P = 3"
   ]
  },
  {
   "cell_type": "code",
   "execution_count": 3,
   "metadata": {},
   "outputs": [],
   "source": [
    "A = np.random.rand(N, M)\n",
    "B = np.random.rand(L, P)"
   ]
  },
  {
   "cell_type": "code",
   "execution_count": 4,
   "metadata": {},
   "outputs": [
    {
     "name": "stdout",
     "output_type": "stream",
     "text": [
      "[[0.28504691 0.14125843 0.26827027 0.25281422]\n",
      " [0.31210281 0.81128487 0.85484176 0.47271245]\n",
      " [0.49792762 0.51192315 0.37108006 0.01934159]]\n"
     ]
    }
   ],
   "source": [
    "print(A)"
   ]
  },
  {
   "cell_type": "code",
   "execution_count": 5,
   "metadata": {},
   "outputs": [
    {
     "name": "stdout",
     "output_type": "stream",
     "text": [
      "[[0.17286001 0.5970379  0.77745973]\n",
      " [0.34202057 0.2701088  0.75782418]]\n"
     ]
    }
   ],
   "source": [
    "print(B)"
   ]
  },
  {
   "cell_type": "code",
   "execution_count": 6,
   "metadata": {},
   "outputs": [],
   "source": [
    "Kron_AB = np.kron(A, B)"
   ]
  },
  {
   "cell_type": "code",
   "execution_count": 7,
   "metadata": {},
   "outputs": [
    {
     "data": {
      "text/plain": [
       "(6, 12)"
      ]
     },
     "execution_count": 7,
     "metadata": {},
     "output_type": "execute_result"
    }
   ],
   "source": [
    "Kron_AB.shape"
   ]
  },
  {
   "cell_type": "code",
   "execution_count": 8,
   "metadata": {},
   "outputs": [
    {
     "name": "stdout",
     "output_type": "stream",
     "text": [
      "[[0.04927321 0.17018381 0.22161249 0.02441793 0.08433664 0.10982274\n",
      "  0.0463732  0.16016752 0.20856933 0.04370147 0.15093967 0.19655288]\n",
      " [0.0974919  0.07699368 0.21601544 0.04831329 0.03815514 0.10704905\n",
      "  0.09175395 0.07246216 0.2033017  0.08646766 0.06828734 0.19158873]\n",
      " [0.0539501  0.18633721 0.24264736 0.14023871 0.48436782 0.63074132\n",
      "  0.14776796 0.51037293 0.66460505 0.08171308 0.28222725 0.3675149 ]\n",
      " [0.10674558 0.08430171 0.23651905 0.27747611 0.21913518 0.61481129\n",
      "  0.29237346 0.23090028 0.64781976 0.16167738 0.12768379 0.35823293]\n",
      " [0.08607178 0.29728166 0.38711867 0.08849104 0.30563753 0.39799964\n",
      "  0.06414491 0.22154886 0.28849981 0.00334339 0.01154766 0.0150373 ]\n",
      " [0.17030149 0.13449463 0.37734159 0.17508825 0.13827495 0.38794775\n",
      "  0.12691701 0.10023199 0.28121345 0.00661522 0.00522433 0.01465752]]\n"
     ]
    }
   ],
   "source": [
    "print(Kron_AB)"
   ]
  },
  {
   "cell_type": "markdown",
   "metadata": {},
   "source": [
    "It can be shown that the Kronecker product satisfies the following conditions:"
   ]
  },
  {
   "cell_type": "markdown",
   "metadata": {},
   "source": [
    "<a id='eq2'></a>\n",
    "$$\n",
    "\\begin{align}\n",
    "\\mathbf{A} \\otimes (\\mathbf{B} + \\mathbf{C}) &= \\mathbf{A} \\otimes \\mathbf{B} + \\mathbf{A} \\otimes \\mathbf{C} \\tag{2a} \\\\\n",
    "(\\mathbf{B} + \\mathbf{C}) \\otimes \\mathbf{A} &= \\mathbf{B} \\otimes \\mathbf{A} + \\mathbf{C} \\otimes \\mathbf{A} \\tag{2b} \\\\\n",
    "(k\\mathbf{A}) \\otimes \\mathbf{B} &= \\mathbf{A} \\otimes (k\\mathbf{B}) = k(\\mathbf{A} \\otimes \\mathbf{B}) \\tag{2c} \\\\\n",
    "(\\mathbf{A} \\otimes \\mathbf{B}) \\otimes \\mathbf{C} &= \\mathbf{A} \\otimes (\\mathbf{B} \\otimes \\mathbf{C}) \\tag{2d}\n",
    "\\end{align}\n",
    "$$"
   ]
  },
  {
   "cell_type": "markdown",
   "metadata": {},
   "source": [
    "where $\\mathbf{C}$ is an arbitrary matrix. Another very important property of the Kronecker product can be defined as follows:\n",
    "\n",
    "The matrix-vector product\n",
    "\n",
    "<a id='eq3'></a>\n",
    "$$\n",
    "\\left( \\mathbf{A} \\otimes \\mathbf{B} \\right) \\mathbf{v} = \\mathbf{w} \\: , \\tag{3}\n",
    "$$\n",
    "\n",
    "where $\\mathbf{v}$ is an $MP \\times 1$ vector and $\\mathbf{w}$ is an $NL \\times 1$ vector,  can be rewritten as follows:\n",
    "\n",
    "<a id='eq4'></a>\n",
    "$$\n",
    "\\mathbf{A} \\mathbf{V} \\mathbf{B}^{\\top} = \\mathbf{W} \\: , \\tag{4}\n",
    "$$\n",
    "\n",
    "where $\\mathbf{V}$ is an $M \\times P$ matrix obtained by reorganizing $\\mathbf{v}$ along its rows and $\\mathbf{W}$ is a $N \\times L$ matrix obtained by reorganizing $\\mathbf{w}$ along its rows (Jain, 1989; Horn and Johnson, 1991)."
   ]
  },
  {
   "cell_type": "code",
   "execution_count": 9,
   "metadata": {},
   "outputs": [],
   "source": [
    "v = np.arange(M*P)"
   ]
  },
  {
   "cell_type": "code",
   "execution_count": 10,
   "metadata": {},
   "outputs": [
    {
     "data": {
      "text/plain": [
       "(12,)"
      ]
     },
     "execution_count": 10,
     "metadata": {},
     "output_type": "execute_result"
    }
   ],
   "source": [
    "v.shape"
   ]
  },
  {
   "cell_type": "code",
   "execution_count": 11,
   "metadata": {},
   "outputs": [
    {
     "data": {
      "text/plain": [
       "array([ 0,  1,  2,  3,  4,  5,  6,  7,  8,  9, 10, 11])"
      ]
     },
     "execution_count": 11,
     "metadata": {},
     "output_type": "execute_result"
    }
   ],
   "source": [
    "v"
   ]
  },
  {
   "cell_type": "code",
   "execution_count": 12,
   "metadata": {},
   "outputs": [],
   "source": [
    "w = np.dot(Kron_AB, v)"
   ]
  },
  {
   "cell_type": "code",
   "execution_count": 13,
   "metadata": {},
   "outputs": [
    {
     "data": {
      "text/plain": [
       "(6,)"
      ]
     },
     "execution_count": 13,
     "metadata": {},
     "output_type": "execute_result"
    }
   ],
   "source": [
    "w.shape"
   ]
  },
  {
   "cell_type": "code",
   "execution_count": 14,
   "metadata": {},
   "outputs": [
    {
     "data": {
      "text/plain": [
       "array([ 8.7058809 ,  7.59456106, 23.55993867, 20.56596263,  9.10422782,\n",
       "        7.8931277 ])"
      ]
     },
     "execution_count": 14,
     "metadata": {},
     "output_type": "execute_result"
    }
   ],
   "source": [
    "w"
   ]
  },
  {
   "cell_type": "code",
   "execution_count": 15,
   "metadata": {},
   "outputs": [],
   "source": [
    "# reorganize v along the rows of V\n",
    "V = np.reshape(v, (M, P))"
   ]
  },
  {
   "cell_type": "code",
   "execution_count": 16,
   "metadata": {},
   "outputs": [
    {
     "data": {
      "text/plain": [
       "(4, 3)"
      ]
     },
     "execution_count": 16,
     "metadata": {},
     "output_type": "execute_result"
    }
   ],
   "source": [
    "V.shape"
   ]
  },
  {
   "cell_type": "code",
   "execution_count": 17,
   "metadata": {},
   "outputs": [
    {
     "data": {
      "text/plain": [
       "array([[ 0,  1,  2],\n",
       "       [ 3,  4,  5],\n",
       "       [ 6,  7,  8],\n",
       "       [ 9, 10, 11]])"
      ]
     },
     "execution_count": 17,
     "metadata": {},
     "output_type": "execute_result"
    }
   ],
   "source": [
    "V"
   ]
  },
  {
   "cell_type": "code",
   "execution_count": 18,
   "metadata": {},
   "outputs": [
    {
     "data": {
      "text/plain": [
       "array([ 0,  1,  2,  3,  4,  5,  6,  7,  8,  9, 10, 11])"
      ]
     },
     "execution_count": 18,
     "metadata": {},
     "output_type": "execute_result"
    }
   ],
   "source": [
    "v"
   ]
  },
  {
   "cell_type": "code",
   "execution_count": 19,
   "metadata": {},
   "outputs": [],
   "source": [
    "# reorganize w along the rows of W\n",
    "W = np.reshape(w, (N, L))"
   ]
  },
  {
   "cell_type": "code",
   "execution_count": 20,
   "metadata": {},
   "outputs": [
    {
     "data": {
      "text/plain": [
       "(3, 2)"
      ]
     },
     "execution_count": 20,
     "metadata": {},
     "output_type": "execute_result"
    }
   ],
   "source": [
    "W.shape"
   ]
  },
  {
   "cell_type": "code",
   "execution_count": 21,
   "metadata": {},
   "outputs": [
    {
     "data": {
      "text/plain": [
       "array([[ 8.7058809 ,  7.59456106],\n",
       "       [23.55993867, 20.56596263],\n",
       "       [ 9.10422782,  7.8931277 ]])"
      ]
     },
     "execution_count": 21,
     "metadata": {},
     "output_type": "execute_result"
    }
   ],
   "source": [
    "W"
   ]
  },
  {
   "cell_type": "code",
   "execution_count": 22,
   "metadata": {},
   "outputs": [
    {
     "data": {
      "text/plain": [
       "array([ 8.7058809 ,  7.59456106, 23.55993867, 20.56596263,  9.10422782,\n",
       "        7.8931277 ])"
      ]
     },
     "execution_count": 22,
     "metadata": {},
     "output_type": "execute_result"
    }
   ],
   "source": [
    "w"
   ]
  },
  {
   "cell_type": "code",
   "execution_count": 23,
   "metadata": {},
   "outputs": [
    {
     "data": {
      "text/plain": [
       "True"
      ]
     },
     "execution_count": 23,
     "metadata": {},
     "output_type": "execute_result"
    }
   ],
   "source": [
    "np.allclose(multi_dot([A, V, B.T]), W)"
   ]
  },
  {
   "cell_type": "markdown",
   "metadata": {},
   "source": [
    "Similarly to equations [3](#eq3) and [4](#eq4), the matrix-vector product\n",
    "\n",
    "<a id='eq5'></a>\n",
    "$$\n",
    "\\left( \\mathbf{B}^{\\top} \\otimes \\mathbf{A} \\right) \\mathbf{v} = \\mathbf{w} \\: , \\tag{5}\n",
    "$$\n",
    "\n",
    "where $\\mathbf{v}$ is an $LM \\times 1$ vector and $\\mathbf{w}$ is an $PN \\times 1$ vector, can be rewritten as follows:\n",
    "\n",
    "<a id='eq6'></a>\n",
    "$$\n",
    "\\mathbf{A} \\mathbf{V} \\mathbf{B} = \\mathbf{W} \\: , \\tag{6}\n",
    "$$\n",
    "\n",
    "where $\\mathbf{V}$ is an $M \\times L$ matrix obtained by reorganizing $\\mathbf{v}$ along its columns and $\\mathbf{W}$ is a $L \\times P$ matrix obtained by reorganizing $\\mathbf{w}$ along its columns (Magnus and Neudecker, 2007)."
   ]
  },
  {
   "cell_type": "code",
   "execution_count": 24,
   "metadata": {},
   "outputs": [],
   "source": [
    "Kron_BTA = np.kron(B.T, A)"
   ]
  },
  {
   "cell_type": "code",
   "execution_count": 25,
   "metadata": {},
   "outputs": [
    {
     "data": {
      "text/plain": [
       "(9, 8)"
      ]
     },
     "execution_count": 25,
     "metadata": {},
     "output_type": "execute_result"
    }
   ],
   "source": [
    "Kron_BTA.shape"
   ]
  },
  {
   "cell_type": "code",
   "execution_count": 26,
   "metadata": {},
   "outputs": [
    {
     "data": {
      "text/plain": [
       "array([[0.04927321, 0.02441793, 0.0463732 , 0.04370147, 0.0974919 ,\n",
       "        0.04831329, 0.09175395, 0.08646766],\n",
       "       [0.0539501 , 0.14023871, 0.14776796, 0.08171308, 0.10674558,\n",
       "        0.27747611, 0.29237346, 0.16167738],\n",
       "       [0.08607178, 0.08849104, 0.06414491, 0.00334339, 0.17030149,\n",
       "        0.17508825, 0.12691701, 0.00661522],\n",
       "       [0.17018381, 0.08433664, 0.16016752, 0.15093967, 0.07699368,\n",
       "        0.03815514, 0.07246216, 0.06828734],\n",
       "       [0.18633721, 0.48436782, 0.51037293, 0.28222725, 0.08430171,\n",
       "        0.21913518, 0.23090028, 0.12768379],\n",
       "       [0.29728166, 0.30563753, 0.22154886, 0.01154766, 0.13449463,\n",
       "        0.13827495, 0.10023199, 0.00522433],\n",
       "       [0.22161249, 0.10982274, 0.20856933, 0.19655288, 0.21601544,\n",
       "        0.10704905, 0.2033017 , 0.19158873],\n",
       "       [0.24264736, 0.63074132, 0.66460505, 0.3675149 , 0.23651905,\n",
       "        0.61481129, 0.64781976, 0.35823293],\n",
       "       [0.38711867, 0.39799964, 0.28849981, 0.0150373 , 0.37734159,\n",
       "        0.38794775, 0.28121345, 0.01465752]])"
      ]
     },
     "execution_count": 26,
     "metadata": {},
     "output_type": "execute_result"
    }
   ],
   "source": [
    "Kron_BTA"
   ]
  },
  {
   "cell_type": "code",
   "execution_count": 27,
   "metadata": {},
   "outputs": [],
   "source": [
    "v = np.arange(L*M)"
   ]
  },
  {
   "cell_type": "code",
   "execution_count": 28,
   "metadata": {},
   "outputs": [
    {
     "data": {
      "text/plain": [
       "(8,)"
      ]
     },
     "execution_count": 28,
     "metadata": {},
     "output_type": "execute_result"
    }
   ],
   "source": [
    "v.shape"
   ]
  },
  {
   "cell_type": "code",
   "execution_count": 29,
   "metadata": {},
   "outputs": [
    {
     "data": {
      "text/plain": [
       "array([0, 1, 2, 3, 4, 5, 6, 7])"
      ]
     },
     "execution_count": 29,
     "metadata": {},
     "output_type": "execute_result"
    }
   ],
   "source": [
    "v"
   ]
  },
  {
   "cell_type": "code",
   "execution_count": 30,
   "metadata": {},
   "outputs": [],
   "source": [
    "w = np.dot(Kron_BTA, v)"
   ]
  },
  {
   "cell_type": "code",
   "execution_count": 31,
   "metadata": {},
   "outputs": [
    {
     "data": {
      "text/plain": [
       "(9,)"
      ]
     },
     "execution_count": 31,
     "metadata": {},
     "output_type": "execute_result"
    }
   ],
   "source": [
    "w.shape"
   ]
  },
  {
   "cell_type": "code",
   "execution_count": 32,
   "metadata": {},
   "outputs": [
    {
     "data": {
      "text/plain": [
       "array([ 2.03560013,  5.38125918,  2.59126682,  2.26902548,  6.0638664 ,\n",
       "        2.65069376,  5.07685833, 13.47717779,  6.25909959])"
      ]
     },
     "execution_count": 32,
     "metadata": {},
     "output_type": "execute_result"
    }
   ],
   "source": [
    "w"
   ]
  },
  {
   "cell_type": "code",
   "execution_count": 33,
   "metadata": {},
   "outputs": [],
   "source": [
    "# reorganize v along the columns of V\n",
    "V = np.reshape(v, (L, M)).T"
   ]
  },
  {
   "cell_type": "code",
   "execution_count": 34,
   "metadata": {},
   "outputs": [
    {
     "data": {
      "text/plain": [
       "(4, 2)"
      ]
     },
     "execution_count": 34,
     "metadata": {},
     "output_type": "execute_result"
    }
   ],
   "source": [
    "V.shape"
   ]
  },
  {
   "cell_type": "code",
   "execution_count": 35,
   "metadata": {},
   "outputs": [
    {
     "data": {
      "text/plain": [
       "array([[0, 4],\n",
       "       [1, 5],\n",
       "       [2, 6],\n",
       "       [3, 7]])"
      ]
     },
     "execution_count": 35,
     "metadata": {},
     "output_type": "execute_result"
    }
   ],
   "source": [
    "V"
   ]
  },
  {
   "cell_type": "code",
   "execution_count": 36,
   "metadata": {},
   "outputs": [
    {
     "data": {
      "text/plain": [
       "array([0, 1, 2, 3, 4, 5, 6, 7])"
      ]
     },
     "execution_count": 36,
     "metadata": {},
     "output_type": "execute_result"
    }
   ],
   "source": [
    "v"
   ]
  },
  {
   "cell_type": "code",
   "execution_count": 37,
   "metadata": {},
   "outputs": [],
   "source": [
    "# reorganize w along the columns of W\n",
    "W = np.reshape(w, (P, N)).T"
   ]
  },
  {
   "cell_type": "code",
   "execution_count": 38,
   "metadata": {},
   "outputs": [
    {
     "data": {
      "text/plain": [
       "(3, 3)"
      ]
     },
     "execution_count": 38,
     "metadata": {},
     "output_type": "execute_result"
    }
   ],
   "source": [
    "W.shape"
   ]
  },
  {
   "cell_type": "code",
   "execution_count": 39,
   "metadata": {},
   "outputs": [
    {
     "data": {
      "text/plain": [
       "array([[ 2.03560013,  2.26902548,  5.07685833],\n",
       "       [ 5.38125918,  6.0638664 , 13.47717779],\n",
       "       [ 2.59126682,  2.65069376,  6.25909959]])"
      ]
     },
     "execution_count": 39,
     "metadata": {},
     "output_type": "execute_result"
    }
   ],
   "source": [
    "W"
   ]
  },
  {
   "cell_type": "code",
   "execution_count": 40,
   "metadata": {},
   "outputs": [
    {
     "data": {
      "text/plain": [
       "array([ 2.03560013,  5.38125918,  2.59126682,  2.26902548,  6.0638664 ,\n",
       "        2.65069376,  5.07685833, 13.47717779,  6.25909959])"
      ]
     },
     "execution_count": 40,
     "metadata": {},
     "output_type": "execute_result"
    }
   ],
   "source": [
    "w"
   ]
  },
  {
   "cell_type": "code",
   "execution_count": 41,
   "metadata": {},
   "outputs": [
    {
     "data": {
      "text/plain": [
       "True"
      ]
     },
     "execution_count": 41,
     "metadata": {},
     "output_type": "execute_result"
    }
   ],
   "source": [
    "np.allclose(multi_dot([A, V, B]), W)"
   ]
  },
  {
   "cell_type": "code",
   "execution_count": null,
   "metadata": {},
   "outputs": [],
   "source": []
  }
 ],
 "metadata": {
  "anaconda-cloud": {},
  "kernelspec": {
   "display_name": "Python 3",
   "language": "python",
   "name": "python3"
  },
  "language_info": {
   "codemirror_mode": {
    "name": "ipython",
    "version": 3
   },
   "file_extension": ".py",
   "mimetype": "text/x-python",
   "name": "python",
   "nbconvert_exporter": "python",
   "pygments_lexer": "ipython3",
   "version": "3.7.4"
  }
 },
 "nbformat": 4,
 "nbformat_minor": 1
}
