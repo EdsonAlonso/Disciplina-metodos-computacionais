{
 "cells": [
  {
   "cell_type": "markdown",
   "metadata": {},
   "source": [
    "# Kronecker product"
   ]
  },
  {
   "cell_type": "markdown",
   "metadata": {},
   "source": [
    "#### References\n",
    "\n",
    "* Magnus, J. R. and H. Neudecker (2007), Matrix differential calculus with applications in statistics and econometrics, 3rd edition, John Wiley & Sons, ISBN 0-471-98632-1.\n",
    "\n",
    "* Jain, A. K. (1989), Fundamentals of Digital Image Processing, Prentice Hall, ISBN 978-0-13-336165-0.\n",
    "\n",
    "* Horn, R. A. and C. R. Johnson, (1991), Topics in Matrix Analysis, Cambridge University Press, ISBN 978-0-521-46713-1."
   ]
  },
  {
   "cell_type": "markdown",
   "metadata": {},
   "source": [
    "Let $\\mathbf{A}$ and $\\mathbf{B}$ be, respectively, $N \\times M$ and $L \\times P$ matrices given by:"
   ]
  },
  {
   "cell_type": "markdown",
   "metadata": {},
   "source": [
    "$$\\mathbf{A} \n",
    "= \\begin{bmatrix}\n",
    "a_{11} & \\cdots & a_{1M} \\\\\n",
    "\\vdots &        & \\vdots \\\\\n",
    "a_{N1} & \\cdots & a_{NM}\n",
    "\\end{bmatrix}_{N \\times M} \\:\n",
    "$$"
   ]
  },
  {
   "cell_type": "markdown",
   "metadata": {},
   "source": [
    "and"
   ]
  },
  {
   "cell_type": "markdown",
   "metadata": {},
   "source": [
    "$$\\mathbf{B} \n",
    "= \\begin{bmatrix}\n",
    "b_{11} & \\cdots & b_{1P} \\\\\n",
    "\\vdots &        & \\vdots \\\\\n",
    "b_{L1} & \\cdots & b_{LP}\n",
    "\\end{bmatrix}_{L \\times P} \\: .\n",
    "$$"
   ]
  },
  {
   "cell_type": "markdown",
   "metadata": {
    "collapsed": true
   },
   "source": [
    "The [Kronecker product](https://en.wikipedia.org/wiki/Kronecker_product) of $\\mathbf{A}$ and $\\mathbf{B}$, denoted as $\\mathbf{A} \\otimes \\mathbf{B}$, is an $NL \\times MP$ matrix given by:"
   ]
  },
  {
   "cell_type": "markdown",
   "metadata": {},
   "source": [
    "<a id='eq1'></a>\n",
    "$$\n",
    "\\mathbf{A} \\otimes \\mathbf{B}\n",
    "= \\begin{bmatrix}\n",
    "a_{11} \\, \\mathbf{B} & \\cdots & a_{1M} \\, \\mathbf{B} \\\\\n",
    "\\vdots &        & \\vdots \\\\\n",
    "a_{N1} \\, \\mathbf{B} & \\cdots & a_{NM} \\, \\mathbf{B}\n",
    "\\end{bmatrix}_{\\, NL \\, \\times \\, MP} \\: . \\tag{1}\n",
    "$$"
   ]
  },
  {
   "cell_type": "markdown",
   "metadata": {},
   "source": [
    "Notice that $\\mathbf{A} \\otimes \\mathbf{B}$ ([equation 1](#eq1)) is a block matrix formed by $N \\times M$ blocks, each one with $L \\times P$ elements."
   ]
  },
  {
   "cell_type": "code",
   "execution_count": 1,
   "metadata": {},
   "outputs": [],
   "source": [
    "import numpy as np\n",
    "from numpy.linalg import multi_dot"
   ]
  },
  {
   "cell_type": "code",
   "execution_count": 2,
   "metadata": {},
   "outputs": [],
   "source": [
    "N = 3\n",
    "M = 4\n",
    "L = 2\n",
    "P = 3"
   ]
  },
  {
   "cell_type": "code",
   "execution_count": 3,
   "metadata": {},
   "outputs": [],
   "source": [
    "A = np.random.rand(N, M)\n",
    "B = np.random.rand(L, P)"
   ]
  },
  {
   "cell_type": "code",
   "execution_count": 4,
   "metadata": {},
   "outputs": [
    {
     "name": "stdout",
     "output_type": "stream",
     "text": [
      "[[0.22790782 0.99563861 0.99542867 0.16192179]\n",
      " [0.81417627 0.37756896 0.97364149 0.32643871]\n",
      " [0.23256292 0.13988534 0.91528559 0.12311775]]\n"
     ]
    }
   ],
   "source": [
    "print(A)"
   ]
  },
  {
   "cell_type": "code",
   "execution_count": 5,
   "metadata": {},
   "outputs": [
    {
     "name": "stdout",
     "output_type": "stream",
     "text": [
      "[[0.09954247 0.2260351  0.91104976]\n",
      " [0.07635364 0.81436109 0.30889322]]\n"
     ]
    }
   ],
   "source": [
    "print(B)"
   ]
  },
  {
   "cell_type": "code",
   "execution_count": 6,
   "metadata": {},
   "outputs": [],
   "source": [
    "A_kron_B = np.kron(A, B)"
   ]
  },
  {
   "cell_type": "code",
   "execution_count": 7,
   "metadata": {},
   "outputs": [
    {
     "data": {
      "text/plain": [
       "(6, 12)"
      ]
     },
     "execution_count": 7,
     "metadata": {},
     "output_type": "execute_result"
    }
   ],
   "source": [
    "A_kron_B.shape"
   ]
  },
  {
   "cell_type": "code",
   "execution_count": 8,
   "metadata": {},
   "outputs": [
    {
     "name": "stdout",
     "output_type": "stream",
     "text": [
      "[[0.02268651 0.05151517 0.20763536 0.09910833 0.22504927 0.90707632\n",
      "  0.09908743 0.22500182 0.90688505 0.01611809 0.03660001 0.14751881]\n",
      " [0.01740159 0.18559926 0.07039918 0.07602063 0.81080935 0.30754602\n",
      "  0.0760046  0.81063838 0.30748117 0.01236332 0.13186281 0.05001654]\n",
      " [0.08104512 0.18403241 0.74175509 0.03758415 0.08534384 0.34398411\n",
      "  0.09691868 0.22007715 0.88703585 0.03249451 0.0737866  0.2974019 ]\n",
      " [0.06216532 0.66303348 0.25149353 0.02882876 0.30747747 0.11662849\n",
      "  0.07434107 0.79289575 0.30075126 0.02492478 0.26583898 0.1008347 ]\n",
      " [0.02314989 0.05256738 0.21187639 0.01392453 0.031619   0.12744251\n",
      "  0.09110979 0.20688666 0.83387071 0.01225544 0.02782893 0.11216639]\n",
      " [0.01775702 0.18939019 0.07183711 0.01068075 0.11391718 0.04320963\n",
      "  0.06988538 0.74537297 0.28272552 0.00940049 0.1002623  0.03803024]]\n"
     ]
    }
   ],
   "source": [
    "print(A_kron_B)"
   ]
  },
  {
   "cell_type": "markdown",
   "metadata": {},
   "source": [
    "It can be shown that the Kronecker product satisfies the following conditions:"
   ]
  },
  {
   "cell_type": "markdown",
   "metadata": {},
   "source": [
    "<a id='eq2'></a>\n",
    "$$\n",
    "\\begin{align}\n",
    "\\mathbf{A} \\otimes (\\mathbf{B} + \\mathbf{C}) &= \\mathbf{A} \\otimes \\mathbf{B} + \\mathbf{A} \\otimes \\mathbf{C} \\tag{2a} \\\\\n",
    "(\\mathbf{B} + \\mathbf{C}) \\otimes \\mathbf{A} &= \\mathbf{B} \\otimes \\mathbf{A} + \\mathbf{C} \\otimes \\mathbf{A} \\tag{2b} \\\\\n",
    "(k\\mathbf{A}) \\otimes \\mathbf{B} &= \\mathbf{A} \\otimes (k\\mathbf{B}) = k(\\mathbf{A} \\otimes \\mathbf{B}) \\tag{2c} \\\\\n",
    "(\\mathbf{A} \\otimes \\mathbf{B}) \\otimes \\mathbf{C} &= \\mathbf{A} \\otimes (\\mathbf{B} \\otimes \\mathbf{C}) \\tag{2d} \\\\\n",
    "(\\mathbf{A} \\otimes \\mathbf{B})^{\\top} &= \\mathbf{A}^{\\top} \\otimes \\mathbf{B}^{\\top} \\tag{2e} \\\\\n",
    "(\\mathbf{A} \\otimes \\mathbf{B})^{\\ast} &= \\mathbf{A}^{\\ast} \\otimes \\mathbf{B}^{\\ast} \\tag{2f}\n",
    "\\end{align}\n",
    "$$"
   ]
  },
  {
   "cell_type": "markdown",
   "metadata": {},
   "source": [
    "where $\\mathbf{C}$ is an arbitrary matrix."
   ]
  },
  {
   "cell_type": "code",
   "execution_count": 9,
   "metadata": {},
   "outputs": [
    {
     "data": {
      "text/plain": [
       "True"
      ]
     },
     "execution_count": 9,
     "metadata": {},
     "output_type": "execute_result"
    }
   ],
   "source": [
    "C = np.random.rand(B.shape[0], B.shape[1])\n",
    "A_kron_B_plus_C = np.kron(A, B+C)\n",
    "A_kron_C = np.kron(A, C)\n",
    "np.allclose(A_kron_B_plus_C, A_kron_B + A_kron_C)"
   ]
  },
  {
   "cell_type": "code",
   "execution_count": 10,
   "metadata": {},
   "outputs": [
    {
     "data": {
      "text/plain": [
       "True"
      ]
     },
     "execution_count": 10,
     "metadata": {},
     "output_type": "execute_result"
    }
   ],
   "source": [
    "AT_kron_BT = np.kron(A.T, B.T)\n",
    "np.allclose(A_kron_B.T, AT_kron_BT)"
   ]
  },
  {
   "cell_type": "markdown",
   "metadata": {},
   "source": [
    "Another very important property of the Kronecker product can be defined as follows:\n",
    "\n",
    "The matrix-vector product\n",
    "\n",
    "<a id='eq3'></a>\n",
    "$$\n",
    "\\left( \\mathbf{A} \\otimes \\mathbf{B} \\right) \\mathbf{v} = \\mathbf{w} \\: , \\tag{3}\n",
    "$$\n",
    "\n",
    "where $\\mathbf{v}$ is an $MP \\times 1$ vector and $\\mathbf{w}$ is an $NL \\times 1$ vector,  can be rewritten as follows:\n",
    "\n",
    "<a id='eq4'></a>\n",
    "$$\n",
    "\\mathbf{A} \\mathbf{V} \\mathbf{B}^{\\top} = \\mathbf{W} \\: , \\tag{4}\n",
    "$$\n",
    "\n",
    "where $\\mathbf{V}$ is an $M \\times P$ matrix obtained by reorganizing $\\mathbf{v}$ along its rows and $\\mathbf{W}$ is a $N \\times L$ matrix obtained by reorganizing $\\mathbf{w}$ along its rows (Jain, 1989; Horn and Johnson, 1991)."
   ]
  },
  {
   "cell_type": "code",
   "execution_count": 11,
   "metadata": {},
   "outputs": [
    {
     "name": "stdout",
     "output_type": "stream",
     "text": [
      "3 4 2 3\n"
     ]
    }
   ],
   "source": [
    "print(N, M, L, P)"
   ]
  },
  {
   "cell_type": "code",
   "execution_count": 12,
   "metadata": {},
   "outputs": [
    {
     "data": {
      "text/plain": [
       "(6, 12)"
      ]
     },
     "execution_count": 12,
     "metadata": {},
     "output_type": "execute_result"
    }
   ],
   "source": [
    "A_kron_B.shape"
   ]
  },
  {
   "cell_type": "code",
   "execution_count": 13,
   "metadata": {},
   "outputs": [],
   "source": [
    "v = np.arange(M*P)"
   ]
  },
  {
   "cell_type": "code",
   "execution_count": 14,
   "metadata": {},
   "outputs": [
    {
     "data": {
      "text/plain": [
       "(12,)"
      ]
     },
     "execution_count": 14,
     "metadata": {},
     "output_type": "execute_result"
    }
   ],
   "source": [
    "v.shape"
   ]
  },
  {
   "cell_type": "code",
   "execution_count": 15,
   "metadata": {},
   "outputs": [
    {
     "data": {
      "text/plain": [
       "array([ 0,  1,  2,  3,  4,  5,  6,  7,  8,  9, 10, 11])"
      ]
     },
     "execution_count": 15,
     "metadata": {},
     "output_type": "execute_result"
    }
   ],
   "source": [
    "v"
   ]
  },
  {
   "cell_type": "code",
   "execution_count": 16,
   "metadata": {},
   "outputs": [],
   "source": [
    "w = np.dot(A_kron_B, v)"
   ]
  },
  {
   "cell_type": "code",
   "execution_count": 17,
   "metadata": {},
   "outputs": [
    {
     "data": {
      "text/plain": [
       "(6,)"
      ]
     },
     "execution_count": 17,
     "metadata": {},
     "output_type": "execute_result"
    }
   ],
   "source": [
    "w.shape"
   ]
  },
  {
   "cell_type": "code",
   "execution_count": 18,
   "metadata": {},
   "outputs": [
    {
     "data": {
      "text/plain": [
       "array([17.75807705, 15.90585256, 17.3616674 , 15.45978049, 11.57003195,\n",
       "       10.44111077])"
      ]
     },
     "execution_count": 18,
     "metadata": {},
     "output_type": "execute_result"
    }
   ],
   "source": [
    "w"
   ]
  },
  {
   "cell_type": "code",
   "execution_count": 19,
   "metadata": {},
   "outputs": [],
   "source": [
    "# reorganize v along the rows of V\n",
    "V = np.reshape(v, (M, P))"
   ]
  },
  {
   "cell_type": "code",
   "execution_count": 20,
   "metadata": {},
   "outputs": [
    {
     "data": {
      "text/plain": [
       "(4, 3)"
      ]
     },
     "execution_count": 20,
     "metadata": {},
     "output_type": "execute_result"
    }
   ],
   "source": [
    "V.shape"
   ]
  },
  {
   "cell_type": "code",
   "execution_count": 21,
   "metadata": {},
   "outputs": [
    {
     "data": {
      "text/plain": [
       "array([[ 0,  1,  2],\n",
       "       [ 3,  4,  5],\n",
       "       [ 6,  7,  8],\n",
       "       [ 9, 10, 11]])"
      ]
     },
     "execution_count": 21,
     "metadata": {},
     "output_type": "execute_result"
    }
   ],
   "source": [
    "V"
   ]
  },
  {
   "cell_type": "code",
   "execution_count": 22,
   "metadata": {},
   "outputs": [
    {
     "data": {
      "text/plain": [
       "array([ 0,  1,  2,  3,  4,  5,  6,  7,  8,  9, 10, 11])"
      ]
     },
     "execution_count": 22,
     "metadata": {},
     "output_type": "execute_result"
    }
   ],
   "source": [
    "v"
   ]
  },
  {
   "cell_type": "code",
   "execution_count": 23,
   "metadata": {},
   "outputs": [],
   "source": [
    "# reorganize w along the rows of W\n",
    "W = np.reshape(w, (N, L))"
   ]
  },
  {
   "cell_type": "code",
   "execution_count": 24,
   "metadata": {},
   "outputs": [
    {
     "data": {
      "text/plain": [
       "(3, 2)"
      ]
     },
     "execution_count": 24,
     "metadata": {},
     "output_type": "execute_result"
    }
   ],
   "source": [
    "W.shape"
   ]
  },
  {
   "cell_type": "code",
   "execution_count": 25,
   "metadata": {},
   "outputs": [
    {
     "data": {
      "text/plain": [
       "array([[17.75807705, 15.90585256],\n",
       "       [17.3616674 , 15.45978049],\n",
       "       [11.57003195, 10.44111077]])"
      ]
     },
     "execution_count": 25,
     "metadata": {},
     "output_type": "execute_result"
    }
   ],
   "source": [
    "W"
   ]
  },
  {
   "cell_type": "code",
   "execution_count": 26,
   "metadata": {},
   "outputs": [
    {
     "data": {
      "text/plain": [
       "array([17.75807705, 15.90585256, 17.3616674 , 15.45978049, 11.57003195,\n",
       "       10.44111077])"
      ]
     },
     "execution_count": 26,
     "metadata": {},
     "output_type": "execute_result"
    }
   ],
   "source": [
    "w"
   ]
  },
  {
   "cell_type": "code",
   "execution_count": 27,
   "metadata": {},
   "outputs": [
    {
     "data": {
      "text/plain": [
       "True"
      ]
     },
     "execution_count": 27,
     "metadata": {},
     "output_type": "execute_result"
    }
   ],
   "source": [
    "np.allclose(multi_dot([A, V, B.T]), W)"
   ]
  },
  {
   "cell_type": "markdown",
   "metadata": {},
   "source": [
    "Similarly to equations [3](#eq3) and [4](#eq4), the matrix-vector product\n",
    "\n",
    "<a id='eq5'></a>\n",
    "$$\n",
    "\\left( \\mathbf{B}^{\\top} \\otimes \\mathbf{A} \\right) \\mathbf{v} = \\mathbf{w} \\: , \\tag{5}\n",
    "$$\n",
    "\n",
    "where $\\mathbf{v}$ is an $LM \\times 1$ vector and $\\mathbf{w}$ is an $PN \\times 1$ vector, can be rewritten as follows:\n",
    "\n",
    "<a id='eq6'></a>\n",
    "$$\n",
    "\\mathbf{A} \\mathbf{V} \\mathbf{B} = \\mathbf{W} \\: , \\tag{6}\n",
    "$$\n",
    "\n",
    "where $\\mathbf{V}$ is an $M \\times L$ matrix obtained by reorganizing $\\mathbf{v}$ along its columns and $\\mathbf{W}$ is a $L \\times P$ matrix obtained by reorganizing $\\mathbf{w}$ along its columns (Magnus and Neudecker, 2007)."
   ]
  },
  {
   "cell_type": "code",
   "execution_count": 28,
   "metadata": {},
   "outputs": [],
   "source": [
    "BT_kron_A = np.kron(B.T, A)"
   ]
  },
  {
   "cell_type": "code",
   "execution_count": 29,
   "metadata": {},
   "outputs": [
    {
     "data": {
      "text/plain": [
       "(9, 8)"
      ]
     },
     "execution_count": 29,
     "metadata": {},
     "output_type": "execute_result"
    }
   ],
   "source": [
    "BT_kron_A.shape"
   ]
  },
  {
   "cell_type": "code",
   "execution_count": 30,
   "metadata": {},
   "outputs": [
    {
     "data": {
      "text/plain": [
       "array([[0.02268651, 0.09910833, 0.09908743, 0.01611809, 0.01740159,\n",
       "        0.07602063, 0.0760046 , 0.01236332],\n",
       "       [0.08104512, 0.03758415, 0.09691868, 0.03249451, 0.06216532,\n",
       "        0.02882876, 0.07434107, 0.02492478],\n",
       "       [0.02314989, 0.01392453, 0.09110979, 0.01225544, 0.01775702,\n",
       "        0.01068075, 0.06988538, 0.00940049],\n",
       "       [0.05151517, 0.22504927, 0.22500182, 0.03660001, 0.18559926,\n",
       "        0.81080935, 0.81063838, 0.13186281],\n",
       "       [0.18403241, 0.08534384, 0.22007715, 0.0737866 , 0.66303348,\n",
       "        0.30747747, 0.79289575, 0.26583898],\n",
       "       [0.05256738, 0.031619  , 0.20688666, 0.02782893, 0.18939019,\n",
       "        0.11391718, 0.74537297, 0.1002623 ],\n",
       "       [0.20763536, 0.90707632, 0.90688505, 0.14751881, 0.07039918,\n",
       "        0.30754602, 0.30748117, 0.05001654],\n",
       "       [0.74175509, 0.34398411, 0.88703585, 0.2974019 , 0.25149353,\n",
       "        0.11662849, 0.30075126, 0.1008347 ],\n",
       "       [0.21187639, 0.12744251, 0.83387071, 0.11216639, 0.07183711,\n",
       "        0.04320963, 0.28272552, 0.03803024]])"
      ]
     },
     "execution_count": 30,
     "metadata": {},
     "output_type": "execute_result"
    }
   ],
   "source": [
    "BT_kron_A"
   ]
  },
  {
   "cell_type": "code",
   "execution_count": 31,
   "metadata": {},
   "outputs": [],
   "source": [
    "v = np.arange(L*M)"
   ]
  },
  {
   "cell_type": "code",
   "execution_count": 32,
   "metadata": {},
   "outputs": [
    {
     "data": {
      "text/plain": [
       "(8,)"
      ]
     },
     "execution_count": 32,
     "metadata": {},
     "output_type": "execute_result"
    }
   ],
   "source": [
    "v.shape"
   ]
  },
  {
   "cell_type": "code",
   "execution_count": 33,
   "metadata": {},
   "outputs": [
    {
     "data": {
      "text/plain": [
       "array([0, 1, 2, 3, 4, 5, 6, 7])"
      ]
     },
     "execution_count": 33,
     "metadata": {},
     "output_type": "execute_result"
    }
   ],
   "source": [
    "v"
   ]
  },
  {
   "cell_type": "code",
   "execution_count": 34,
   "metadata": {},
   "outputs": [],
   "source": [
    "w = np.dot(BT_kron_A, v)"
   ]
  },
  {
   "cell_type": "code",
   "execution_count": 35,
   "metadata": {},
   "outputs": [
    {
     "data": {
      "text/plain": [
       "(9,)"
      ]
     },
     "execution_count": 35,
     "metadata": {},
     "output_type": "execute_result"
    }
   ],
   "source": [
    "w.shape"
   ]
  },
  {
   "cell_type": "code",
   "execution_count": 36,
   "metadata": {},
   "outputs": [
    {
     "data": {
      "text/plain": [
       "array([ 1.33791778,  1.34223001,  0.84245801, 11.36816664, 11.55462656,\n",
       "        7.0300997 ,  7.17773252,  7.1097286 ,  4.59764446])"
      ]
     },
     "execution_count": 36,
     "metadata": {},
     "output_type": "execute_result"
    }
   ],
   "source": [
    "w"
   ]
  },
  {
   "cell_type": "code",
   "execution_count": 37,
   "metadata": {},
   "outputs": [],
   "source": [
    "# reorganize v along the columns of V\n",
    "V = np.reshape(v, (L, M)).T"
   ]
  },
  {
   "cell_type": "code",
   "execution_count": 38,
   "metadata": {},
   "outputs": [
    {
     "data": {
      "text/plain": [
       "(4, 2)"
      ]
     },
     "execution_count": 38,
     "metadata": {},
     "output_type": "execute_result"
    }
   ],
   "source": [
    "V.shape"
   ]
  },
  {
   "cell_type": "code",
   "execution_count": 39,
   "metadata": {},
   "outputs": [
    {
     "data": {
      "text/plain": [
       "array([[0, 4],\n",
       "       [1, 5],\n",
       "       [2, 6],\n",
       "       [3, 7]])"
      ]
     },
     "execution_count": 39,
     "metadata": {},
     "output_type": "execute_result"
    }
   ],
   "source": [
    "V"
   ]
  },
  {
   "cell_type": "code",
   "execution_count": 40,
   "metadata": {},
   "outputs": [
    {
     "data": {
      "text/plain": [
       "array([0, 1, 2, 3, 4, 5, 6, 7])"
      ]
     },
     "execution_count": 40,
     "metadata": {},
     "output_type": "execute_result"
    }
   ],
   "source": [
    "v"
   ]
  },
  {
   "cell_type": "code",
   "execution_count": 41,
   "metadata": {},
   "outputs": [],
   "source": [
    "# reorganize w along the columns of W\n",
    "W = np.reshape(w, (P, N)).T"
   ]
  },
  {
   "cell_type": "code",
   "execution_count": 42,
   "metadata": {},
   "outputs": [
    {
     "data": {
      "text/plain": [
       "(3, 3)"
      ]
     },
     "execution_count": 42,
     "metadata": {},
     "output_type": "execute_result"
    }
   ],
   "source": [
    "W.shape"
   ]
  },
  {
   "cell_type": "code",
   "execution_count": 43,
   "metadata": {},
   "outputs": [
    {
     "data": {
      "text/plain": [
       "array([[ 1.33791778, 11.36816664,  7.17773252],\n",
       "       [ 1.34223001, 11.55462656,  7.1097286 ],\n",
       "       [ 0.84245801,  7.0300997 ,  4.59764446]])"
      ]
     },
     "execution_count": 43,
     "metadata": {},
     "output_type": "execute_result"
    }
   ],
   "source": [
    "W"
   ]
  },
  {
   "cell_type": "code",
   "execution_count": 44,
   "metadata": {},
   "outputs": [
    {
     "data": {
      "text/plain": [
       "array([ 1.33791778,  1.34223001,  0.84245801, 11.36816664, 11.55462656,\n",
       "        7.0300997 ,  7.17773252,  7.1097286 ,  4.59764446])"
      ]
     },
     "execution_count": 44,
     "metadata": {},
     "output_type": "execute_result"
    }
   ],
   "source": [
    "w"
   ]
  },
  {
   "cell_type": "code",
   "execution_count": 45,
   "metadata": {},
   "outputs": [
    {
     "data": {
      "text/plain": [
       "True"
      ]
     },
     "execution_count": 45,
     "metadata": {},
     "output_type": "execute_result"
    }
   ],
   "source": [
    "np.allclose(multi_dot([A, V, B]), W)"
   ]
  }
 ],
 "metadata": {
  "anaconda-cloud": {},
  "kernelspec": {
   "display_name": "Python 3",
   "language": "python",
   "name": "python3"
  },
  "language_info": {
   "codemirror_mode": {
    "name": "ipython",
    "version": 3
   },
   "file_extension": ".py",
   "mimetype": "text/x-python",
   "name": "python",
   "nbconvert_exporter": "python",
   "pygments_lexer": "ipython3",
   "version": "3.7.7"
  }
 },
 "nbformat": 4,
 "nbformat_minor": 1
}
