{
 "cells": [
  {
   "cell_type": "markdown",
   "metadata": {},
   "source": [
    "# Kronecker product"
   ]
  },
  {
   "cell_type": "markdown",
   "metadata": {},
   "source": [
    "Let $\\mathbf{A}$ and $\\mathbf{B}$ be, respectively, $N \\times M$ and $L \\times P$ matrices given by:"
   ]
  },
  {
   "cell_type": "markdown",
   "metadata": {},
   "source": [
    "$$\\mathbf{A} \n",
    "= \\begin{bmatrix}\n",
    "a_{11} & \\cdots & a_{1M} \\\\\n",
    "\\vdots &        & \\vdots \\\\\n",
    "a_{N1} & \\cdots & a_{NM}\n",
    "\\end{bmatrix}_{N \\times M} \\:\n",
    "$$"
   ]
  },
  {
   "cell_type": "markdown",
   "metadata": {},
   "source": [
    "and"
   ]
  },
  {
   "cell_type": "markdown",
   "metadata": {},
   "source": [
    "$$\\mathbf{B} \n",
    "= \\begin{bmatrix}\n",
    "b_{11} & \\cdots & b_{1P} \\\\\n",
    "\\vdots &        & \\vdots \\\\\n",
    "b_{L1} & \\cdots & b_{LP}\n",
    "\\end{bmatrix}_{L \\times P} \\: .\n",
    "$$"
   ]
  },
  {
   "cell_type": "markdown",
   "metadata": {
    "collapsed": true
   },
   "source": [
    "The [Kronecker product](https://en.wikipedia.org/wiki/Kronecker_product) of $\\mathbf{A}$ and $\\mathbf{B}$, denoted as $\\mathbf{A} \\otimes \\mathbf{B}$, is an $NL \\times MP$ matrix given by:"
   ]
  },
  {
   "cell_type": "markdown",
   "metadata": {},
   "source": [
    "$$\n",
    "\\mathbf{A} \\otimes \\mathbf{B}\n",
    "= \\begin{bmatrix}\n",
    "a_{11} \\, \\mathbf{B} & \\cdots & a_{1M} \\, \\mathbf{B} \\\\\n",
    "\\vdots &        & \\vdots \\\\\n",
    "a_{N1} \\, \\mathbf{B} & \\cdots & a_{NM} \\, \\mathbf{B}\n",
    "\\end{bmatrix}_{\\, NL \\, \\times \\, MP} \\: .\n",
    "$$"
   ]
  },
  {
   "cell_type": "markdown",
   "metadata": {},
   "source": [
    "Notice that $\\mathbf{A} \\otimes \\mathbf{B}$ is block matrix formed by $N \\times M$ blocks, each one with $L \\times P$ elements."
   ]
  },
  {
   "cell_type": "markdown",
   "metadata": {},
   "source": [
    "It can be shown that the Kronecker product satisfies the following conditions:"
   ]
  },
  {
   "cell_type": "markdown",
   "metadata": {},
   "source": [
    "$$\n",
    "\\begin{align}\n",
    "\\mathbf{A} \\otimes (\\mathbf{B} + \\mathbf{C}) &= \\mathbf{A} \\otimes \\mathbf{B} + \\mathbf{A} \\otimes \\mathbf{C} \\\\\n",
    "(\\mathbf{B} + \\mathbf{C}) \\otimes \\mathbf{A} &= \\mathbf{B} \\otimes \\mathbf{A} + \\mathbf{C} \\otimes \\mathbf{A} \\\\\n",
    "(k\\mathbf{A}) \\otimes \\mathbf{B} &= \\mathbf{A} \\otimes (k\\mathbf{B}) = k(\\mathbf{A} \\otimes \\mathbf{B}) \\\\\n",
    "(\\mathbf{A} \\otimes \\mathbf{B}) \\otimes \\mathbf{C} &= \\mathbf{A} \\otimes (\\mathbf{B} \\otimes \\mathbf{C})\n",
    "\\end{align} \\quad ,\n",
    "$$"
   ]
  },
  {
   "cell_type": "markdown",
   "metadata": {},
   "source": [
    "where $\\mathbf{C}$ is a matrix. The is also another very important property of Kronecker product. Let's first consider the equation:\n",
    "\n",
    "$$\n",
    "\\left( \\mathbf{A} \\otimes \\mathbf{B} \\right) \\mathbf{v} = \\mathbf{w} \\: ,\n",
    "$$\n",
    "\n",
    "where $\\mathbf{v}$ and $\\mathbf{w}$ are vectors. It can be shown that this equation can be rewritten as follows:\n",
    "\n",
    "$$\n",
    "\\mathbf{A} \\mathbf{V} \\mathbf{B}^{\\top} = \\mathbf{W} \\: ,\n",
    "$$\n",
    "\n",
    "where $\\mathbf{V}$ and $\\mathbf{W}$ are row-oriented matrices obtained from the vectors $\\mathbf{v}$ and $\\mathbf{w}$, respectively (Jain, 1989; Horn and Johnson, 1991)."
   ]
  },
  {
   "cell_type": "markdown",
   "metadata": {},
   "source": [
    "A pseudo-code for computing the Kronecker product can be written as follows:"
   ]
  },
  {
   "cell_type": "markdown",
   "metadata": {},
   "source": [
    "    C = zeros((N*L, M*P))\n",
    "    i1 = \n",
    "    i2 = \n",
    "    for i = 1:N\n",
    "        j1 = \n",
    "        j2 = \n",
    "        for j = 1:M\n",
    "            C[i1:i2, j1:j2] = A[i,j]*B\n",
    "            j1 = \n",
    "            j2 = \n",
    "        i1 = \n",
    "        i2 = "
   ]
  },
  {
   "cell_type": "markdown",
   "metadata": {},
   "source": [
    "### Exercise"
   ]
  },
  {
   "cell_type": "markdown",
   "metadata": {},
   "source": [
    "1. In your `my_function.py` file, create one functions called `kronecker` for computing the Krnecker product. Your function must receive 2 matrices `A` and `B` and return the resultant matrix.\n",
    "2. In your `test_my_function.py` file, create 3 tests for function `kronecker`. One test must compare the result produced by your function and an expected result produced by a specific input. The other test must compare the result produced by your function and the result produced by the routine [`numpy.kron`](https://docs.scipy.org/doc/numpy/reference/generated/numpy.kron.html) (see the example presented below). The last test must verify the conditions listed above about the Kronecker product."
   ]
  },
  {
   "cell_type": "code",
   "execution_count": 1,
   "metadata": {},
   "outputs": [],
   "source": [
    "import numpy as np"
   ]
  },
  {
   "cell_type": "code",
   "execution_count": 2,
   "metadata": {},
   "outputs": [],
   "source": [
    "A = np.array([[1.,2.,3.],\n",
    "              [4.,5.,6.],\n",
    "              [7.,8.,9.]])\n",
    "B = np.array([[7., 8.],\n",
    "              [9., 10.]])"
   ]
  },
  {
   "cell_type": "code",
   "execution_count": 3,
   "metadata": {},
   "outputs": [],
   "source": [
    "C = np.kron(A, B)"
   ]
  },
  {
   "cell_type": "code",
   "execution_count": 4,
   "metadata": {},
   "outputs": [
    {
     "data": {
      "text/plain": [
       "array([[ 7.,  8., 14., 16., 21., 24.],\n",
       "       [ 9., 10., 18., 20., 27., 30.],\n",
       "       [28., 32., 35., 40., 42., 48.],\n",
       "       [36., 40., 45., 50., 54., 60.],\n",
       "       [49., 56., 56., 64., 63., 72.],\n",
       "       [63., 70., 72., 80., 81., 90.]])"
      ]
     },
     "execution_count": 4,
     "metadata": {},
     "output_type": "execute_result"
    }
   ],
   "source": [
    "C"
   ]
  },
  {
   "cell_type": "code",
   "execution_count": 5,
   "metadata": {},
   "outputs": [],
   "source": [
    "v = np.arange(C.shape[1])"
   ]
  },
  {
   "cell_type": "code",
   "execution_count": 6,
   "metadata": {},
   "outputs": [
    {
     "data": {
      "text/plain": [
       "array([0, 1, 2, 3, 4, 5])"
      ]
     },
     "execution_count": 6,
     "metadata": {},
     "output_type": "execute_result"
    }
   ],
   "source": [
    "v"
   ]
  },
  {
   "cell_type": "code",
   "execution_count": 7,
   "metadata": {},
   "outputs": [],
   "source": [
    "w = np.dot(C, v)"
   ]
  },
  {
   "cell_type": "code",
   "execution_count": 8,
   "metadata": {},
   "outputs": [
    {
     "data": {
      "text/plain": [
       "array([ 288.,  364.,  630.,  796.,  972., 1228.])"
      ]
     },
     "execution_count": 8,
     "metadata": {},
     "output_type": "execute_result"
    }
   ],
   "source": [
    "w"
   ]
  },
  {
   "cell_type": "code",
   "execution_count": 9,
   "metadata": {},
   "outputs": [],
   "source": [
    "V = np.reshape(v, (A.shape[1], B.shape[0]))"
   ]
  },
  {
   "cell_type": "code",
   "execution_count": 10,
   "metadata": {},
   "outputs": [
    {
     "data": {
      "text/plain": [
       "array([[0, 1],\n",
       "       [2, 3],\n",
       "       [4, 5]])"
      ]
     },
     "execution_count": 10,
     "metadata": {},
     "output_type": "execute_result"
    }
   ],
   "source": [
    "V"
   ]
  },
  {
   "cell_type": "code",
   "execution_count": 11,
   "metadata": {},
   "outputs": [],
   "source": [
    "W = np.reshape(w, (A.shape[1], B.shape[0]))"
   ]
  },
  {
   "cell_type": "code",
   "execution_count": 12,
   "metadata": {},
   "outputs": [
    {
     "data": {
      "text/plain": [
       "array([[ 288.,  364.],\n",
       "       [ 630.,  796.],\n",
       "       [ 972., 1228.]])"
      ]
     },
     "execution_count": 12,
     "metadata": {},
     "output_type": "execute_result"
    }
   ],
   "source": [
    "W"
   ]
  },
  {
   "cell_type": "code",
   "execution_count": 15,
   "metadata": {},
   "outputs": [
    {
     "data": {
      "text/plain": [
       "True"
      ]
     },
     "execution_count": 15,
     "metadata": {},
     "output_type": "execute_result"
    }
   ],
   "source": [
    "np.allclose(np.dot(A, np.dot(V, B.T)), W)"
   ]
  },
  {
   "cell_type": "code",
   "execution_count": null,
   "metadata": {},
   "outputs": [],
   "source": []
  }
 ],
 "metadata": {
  "anaconda-cloud": {},
  "kernelspec": {
   "display_name": "Python 3",
   "language": "python",
   "name": "python3"
  },
  "language_info": {
   "codemirror_mode": {
    "name": "ipython",
    "version": 3
   },
   "file_extension": ".py",
   "mimetype": "text/x-python",
   "name": "python",
   "nbconvert_exporter": "python",
   "pygments_lexer": "ipython3",
   "version": "3.7.4"
  }
 },
 "nbformat": 4,
 "nbformat_minor": 1
}
