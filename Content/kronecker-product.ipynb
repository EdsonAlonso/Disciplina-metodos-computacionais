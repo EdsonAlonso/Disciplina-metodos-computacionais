{
 "cells": [
  {
   "cell_type": "markdown",
   "metadata": {},
   "source": [
    "# Kronecker product"
   ]
  },
  {
   "cell_type": "markdown",
   "metadata": {},
   "source": [
    "#### References\n",
    "\n",
    "* Magnus, J. R. and H. Neudecker (2007), Matrix differential calculus with applications in statistics and econometrics, 3rd edition, John Wiley & Sons, ISBN 0-471-98632-1.\n",
    "\n",
    "* Jain, A. K. (1989), Fundamentals of Digital Image Processing, Prentice Hall, ISBN 978-0-13-336165-0.\n",
    "\n",
    "* Horn, R. A. and C. R. Johnson, (1991), Topics in Matrix Analysis, Cambridge University Press, ISBN 978-0-521-46713-1."
   ]
  },
  {
   "cell_type": "markdown",
   "metadata": {},
   "source": [
    "Let $\\mathbf{A}$ and $\\mathbf{B}$ be, respectively, $N \\times M$ and $L \\times P$ matrices given by:"
   ]
  },
  {
   "cell_type": "markdown",
   "metadata": {},
   "source": [
    "$$\\mathbf{A} \n",
    "= \\begin{bmatrix}\n",
    "a_{11} & \\cdots & a_{1M} \\\\\n",
    "\\vdots &        & \\vdots \\\\\n",
    "a_{N1} & \\cdots & a_{NM}\n",
    "\\end{bmatrix}_{N \\times M} \\:\n",
    "$$"
   ]
  },
  {
   "cell_type": "markdown",
   "metadata": {},
   "source": [
    "and"
   ]
  },
  {
   "cell_type": "markdown",
   "metadata": {},
   "source": [
    "$$\\mathbf{B} \n",
    "= \\begin{bmatrix}\n",
    "b_{11} & \\cdots & b_{1P} \\\\\n",
    "\\vdots &        & \\vdots \\\\\n",
    "b_{L1} & \\cdots & b_{LP}\n",
    "\\end{bmatrix}_{L \\times P} \\: .\n",
    "$$"
   ]
  },
  {
   "cell_type": "markdown",
   "metadata": {
    "collapsed": true
   },
   "source": [
    "The [Kronecker product](https://en.wikipedia.org/wiki/Kronecker_product) of $\\mathbf{A}$ and $\\mathbf{B}$, denoted as $\\mathbf{A} \\otimes \\mathbf{B}$, is an $NL \\times MP$ matrix given by:"
   ]
  },
  {
   "cell_type": "markdown",
   "metadata": {},
   "source": [
    "$$\n",
    "\\mathbf{A} \\otimes \\mathbf{B}\n",
    "= \\begin{bmatrix}\n",
    "a_{11} \\, \\mathbf{B} & \\cdots & a_{1M} \\, \\mathbf{B} \\\\\n",
    "\\vdots &        & \\vdots \\\\\n",
    "a_{N1} \\, \\mathbf{B} & \\cdots & a_{NM} \\, \\mathbf{B}\n",
    "\\end{bmatrix}_{\\, NL \\, \\times \\, MP} \\: .\n",
    "$$"
   ]
  },
  {
   "cell_type": "markdown",
   "metadata": {},
   "source": [
    "Notice that $\\mathbf{A} \\otimes \\mathbf{B}$ is a block matrix formed by $N \\times M$ blocks, each one with $L \\times P$ elements."
   ]
  },
  {
   "cell_type": "code",
   "execution_count": 1,
   "metadata": {},
   "outputs": [],
   "source": [
    "import numpy as np\n",
    "from numpy.linalg import multi_dot"
   ]
  },
  {
   "cell_type": "code",
   "execution_count": 2,
   "metadata": {},
   "outputs": [],
   "source": [
    "N = 3\n",
    "M = 4\n",
    "L = 2\n",
    "P = 3"
   ]
  },
  {
   "cell_type": "code",
   "execution_count": 3,
   "metadata": {},
   "outputs": [],
   "source": [
    "A = np.random.rand(N, M)\n",
    "B = np.random.rand(L, P)"
   ]
  },
  {
   "cell_type": "code",
   "execution_count": 4,
   "metadata": {},
   "outputs": [],
   "source": [
    "Kron_AB = np.kron(A, B)"
   ]
  },
  {
   "cell_type": "code",
   "execution_count": 5,
   "metadata": {},
   "outputs": [
    {
     "data": {
      "text/plain": [
       "(6, 12)"
      ]
     },
     "execution_count": 5,
     "metadata": {},
     "output_type": "execute_result"
    }
   ],
   "source": [
    "Kron_AB.shape"
   ]
  },
  {
   "cell_type": "code",
   "execution_count": 6,
   "metadata": {},
   "outputs": [
    {
     "data": {
      "text/plain": [
       "array([[5.02619801e-02, 7.80877263e-01, 5.94319434e-01, 1.58680895e-02,\n",
       "        2.46528893e-01, 1.87631167e-01, 5.54084286e-02, 8.60833216e-01,\n",
       "        6.55173271e-01, 4.68580570e-04, 7.27993429e-03, 5.54069972e-03],\n",
       "       [5.38715953e-01, 4.62103873e-01, 6.85119560e-01, 1.70076725e-01,\n",
       "        1.45889709e-01, 2.16297458e-01, 5.93876412e-01, 5.09419832e-01,\n",
       "        7.55270645e-01, 5.02232160e-03, 4.30808527e-03, 6.38720785e-03],\n",
       "       [3.63771369e-02, 5.65160365e-01, 4.30139031e-01, 5.22065402e-02,\n",
       "        8.11088224e-01, 6.17312755e-01, 1.53447075e-02, 2.38397556e-01,\n",
       "        1.81442472e-01, 3.80532153e-02, 5.91200158e-01, 4.49957708e-01],\n",
       "       [3.89895979e-01, 3.34447943e-01, 4.95855673e-01, 5.59558059e-01,\n",
       "        4.79981974e-01, 7.11625800e-01, 1.64467033e-01, 1.41077784e-01,\n",
       "        2.09163253e-01, 4.07860456e-01, 3.49857649e-01, 5.18702249e-01],\n",
       "       [2.97680322e-02, 4.62480376e-01, 3.51990113e-01, 5.28261573e-04,\n",
       "        8.20714684e-03, 6.24639377e-03, 1.35884924e-02, 2.11112749e-01,\n",
       "        1.60676223e-01, 4.43306030e-02, 6.88726546e-01, 5.24184261e-01],\n",
       "       [3.19058537e-01, 2.73684462e-01, 4.05767163e-01, 5.66199215e-03,\n",
       "        4.85678675e-03, 7.20071783e-03, 1.45643638e-01, 1.24931309e-01,\n",
       "        1.85224337e-01, 4.75142503e-01, 4.07571356e-01, 6.04269135e-01]])"
      ]
     },
     "execution_count": 6,
     "metadata": {},
     "output_type": "execute_result"
    }
   ],
   "source": [
    "Kron_AB"
   ]
  },
  {
   "cell_type": "markdown",
   "metadata": {},
   "source": [
    "It can be shown that the Kronecker product satisfies the following conditions:"
   ]
  },
  {
   "cell_type": "markdown",
   "metadata": {},
   "source": [
    "$$\n",
    "\\begin{align}\n",
    "\\mathbf{A} \\otimes (\\mathbf{B} + \\mathbf{C}) &= \\mathbf{A} \\otimes \\mathbf{B} + \\mathbf{A} \\otimes \\mathbf{C} \\\\\n",
    "(\\mathbf{B} + \\mathbf{C}) \\otimes \\mathbf{A} &= \\mathbf{B} \\otimes \\mathbf{A} + \\mathbf{C} \\otimes \\mathbf{A} \\\\\n",
    "(k\\mathbf{A}) \\otimes \\mathbf{B} &= \\mathbf{A} \\otimes (k\\mathbf{B}) = k(\\mathbf{A} \\otimes \\mathbf{B}) \\\\\n",
    "(\\mathbf{A} \\otimes \\mathbf{B}) \\otimes \\mathbf{C} &= \\mathbf{A} \\otimes (\\mathbf{B} \\otimes \\mathbf{C})\n",
    "\\end{align} \\quad ,\n",
    "$$"
   ]
  },
  {
   "cell_type": "markdown",
   "metadata": {},
   "source": [
    "where $\\mathbf{C}$ is a matrix. The is also another very important property of Kronecker product. Let's first consider the equation:\n",
    "\n",
    "$$\n",
    "\\left( \\mathbf{A} \\otimes \\mathbf{B} \\right) \\mathbf{v} = \\mathbf{w} \\: ,\n",
    "$$\n",
    "\n",
    "where $\\mathbf{v}$ is an $MP \\times 1$ vector and $\\mathbf{w}$ is an $NL \\times 1$ vector. It can be shown that this equation can be rewritten as follows:\n",
    "\n",
    "$$\n",
    "\\mathbf{A} \\mathbf{V} \\mathbf{B}^{\\top} = \\mathbf{W} \\: ,\n",
    "$$\n",
    "\n",
    "where $\\mathbf{V}$ is an $M \\times P$ matrix obtained by reorganizing $\\mathbf{v}$ along its rows and $\\mathbf{W}$ is a $N \\times L$ matrix obtained by reorganizing $\\mathbf{w}$ along its rows (Jain, 1989; Horn and Johnson, 1991)."
   ]
  },
  {
   "cell_type": "code",
   "execution_count": 7,
   "metadata": {},
   "outputs": [],
   "source": [
    "v = np.arange(M*P)"
   ]
  },
  {
   "cell_type": "code",
   "execution_count": 8,
   "metadata": {},
   "outputs": [
    {
     "data": {
      "text/plain": [
       "(12,)"
      ]
     },
     "execution_count": 8,
     "metadata": {},
     "output_type": "execute_result"
    }
   ],
   "source": [
    "v.shape"
   ]
  },
  {
   "cell_type": "code",
   "execution_count": 9,
   "metadata": {},
   "outputs": [
    {
     "data": {
      "text/plain": [
       "array([ 0,  1,  2,  3,  4,  5,  6,  7,  8,  9, 10, 11])"
      ]
     },
     "execution_count": 9,
     "metadata": {},
     "output_type": "execute_result"
    }
   ],
   "source": [
    "v"
   ]
  },
  {
   "cell_type": "code",
   "execution_count": 10,
   "metadata": {},
   "outputs": [],
   "source": [
    "w = np.dot(Kron_AB, v)"
   ]
  },
  {
   "cell_type": "code",
   "execution_count": 11,
   "metadata": {},
   "outputs": [
    {
     "data": {
      "text/plain": [
       "(6,)"
      ]
     },
     "execution_count": 11,
     "metadata": {},
     "output_type": "execute_result"
    }
   ],
   "source": [
    "w.shape"
   ]
  },
  {
   "cell_type": "code",
   "execution_count": 12,
   "metadata": {},
   "outputs": [
    {
     "data": {
      "text/plain": [
       "array([15.67902532, 17.33752278, 22.32938095, 25.00558841, 17.12910368,\n",
       "       19.38676776])"
      ]
     },
     "execution_count": 12,
     "metadata": {},
     "output_type": "execute_result"
    }
   ],
   "source": [
    "w"
   ]
  },
  {
   "cell_type": "code",
   "execution_count": 13,
   "metadata": {},
   "outputs": [],
   "source": [
    "# reorganize v along the rows of V\n",
    "V = np.reshape(v, (M, P))"
   ]
  },
  {
   "cell_type": "code",
   "execution_count": 14,
   "metadata": {},
   "outputs": [
    {
     "data": {
      "text/plain": [
       "(4, 3)"
      ]
     },
     "execution_count": 14,
     "metadata": {},
     "output_type": "execute_result"
    }
   ],
   "source": [
    "V.shape"
   ]
  },
  {
   "cell_type": "code",
   "execution_count": 15,
   "metadata": {},
   "outputs": [
    {
     "data": {
      "text/plain": [
       "array([[ 0,  1,  2],\n",
       "       [ 3,  4,  5],\n",
       "       [ 6,  7,  8],\n",
       "       [ 9, 10, 11]])"
      ]
     },
     "execution_count": 15,
     "metadata": {},
     "output_type": "execute_result"
    }
   ],
   "source": [
    "V"
   ]
  },
  {
   "cell_type": "code",
   "execution_count": 16,
   "metadata": {},
   "outputs": [
    {
     "data": {
      "text/plain": [
       "array([ 0,  1,  2,  3,  4,  5,  6,  7,  8,  9, 10, 11])"
      ]
     },
     "execution_count": 16,
     "metadata": {},
     "output_type": "execute_result"
    }
   ],
   "source": [
    "v"
   ]
  },
  {
   "cell_type": "code",
   "execution_count": 17,
   "metadata": {},
   "outputs": [],
   "source": [
    "# reorganize w along the rows of W\n",
    "W = np.reshape(w, (N, L))"
   ]
  },
  {
   "cell_type": "code",
   "execution_count": 18,
   "metadata": {},
   "outputs": [
    {
     "data": {
      "text/plain": [
       "(3, 2)"
      ]
     },
     "execution_count": 18,
     "metadata": {},
     "output_type": "execute_result"
    }
   ],
   "source": [
    "W.shape"
   ]
  },
  {
   "cell_type": "code",
   "execution_count": 19,
   "metadata": {},
   "outputs": [
    {
     "data": {
      "text/plain": [
       "array([[15.67902532, 17.33752278],\n",
       "       [22.32938095, 25.00558841],\n",
       "       [17.12910368, 19.38676776]])"
      ]
     },
     "execution_count": 19,
     "metadata": {},
     "output_type": "execute_result"
    }
   ],
   "source": [
    "W"
   ]
  },
  {
   "cell_type": "code",
   "execution_count": 20,
   "metadata": {},
   "outputs": [
    {
     "data": {
      "text/plain": [
       "array([15.67902532, 17.33752278, 22.32938095, 25.00558841, 17.12910368,\n",
       "       19.38676776])"
      ]
     },
     "execution_count": 20,
     "metadata": {},
     "output_type": "execute_result"
    }
   ],
   "source": [
    "w"
   ]
  },
  {
   "cell_type": "code",
   "execution_count": 21,
   "metadata": {},
   "outputs": [
    {
     "data": {
      "text/plain": [
       "True"
      ]
     },
     "execution_count": 21,
     "metadata": {},
     "output_type": "execute_result"
    }
   ],
   "source": [
    "np.allclose(multi_dot([A, V, B.T]), W)"
   ]
  },
  {
   "cell_type": "markdown",
   "metadata": {},
   "source": [
    "Similarly, consider the equation:\n",
    "\n",
    "$$\n",
    "\\left( \\mathbf{B}^{\\top} \\otimes \\mathbf{A} \\right) \\mathbf{v} = \\mathbf{w} \\: ,\n",
    "$$\n",
    "\n",
    "where $\\mathbf{v}$ is an $LM \\times 1$ vector and $\\mathbf{w}$ is an $PN \\times 1$ vector. It can be shown that this equation can be rewritten as follows:\n",
    "\n",
    "$$\n",
    "\\mathbf{A} \\mathbf{V} \\mathbf{B} = \\mathbf{W} \\: ,\n",
    "$$\n",
    "\n",
    "where $\\mathbf{V}$ is an $M \\times L$ matrix obtained by reorganizing $\\mathbf{v}$ along its columns and $\\mathbf{W}$ is a $L \\times P$ matrix obtained by reorganizing $\\mathbf{w}$ along its columns (Magnus and Neudecker, 2007)."
   ]
  },
  {
   "cell_type": "code",
   "execution_count": 22,
   "metadata": {},
   "outputs": [],
   "source": [
    "Kron_BTA = np.kron(B.T, A)"
   ]
  },
  {
   "cell_type": "code",
   "execution_count": 23,
   "metadata": {},
   "outputs": [
    {
     "data": {
      "text/plain": [
       "(9, 8)"
      ]
     },
     "execution_count": 23,
     "metadata": {},
     "output_type": "execute_result"
    }
   ],
   "source": [
    "Kron_BTA.shape"
   ]
  },
  {
   "cell_type": "code",
   "execution_count": 24,
   "metadata": {},
   "outputs": [
    {
     "data": {
      "text/plain": [
       "array([[5.02619801e-02, 1.58680895e-02, 5.54084286e-02, 4.68580570e-04,\n",
       "        5.38715953e-01, 1.70076725e-01, 5.93876412e-01, 5.02232160e-03],\n",
       "       [3.63771369e-02, 5.22065402e-02, 1.53447075e-02, 3.80532153e-02,\n",
       "        3.89895979e-01, 5.59558059e-01, 1.64467033e-01, 4.07860456e-01],\n",
       "       [2.97680322e-02, 5.28261573e-04, 1.35884924e-02, 4.43306030e-02,\n",
       "        3.19058537e-01, 5.66199215e-03, 1.45643638e-01, 4.75142503e-01],\n",
       "       [7.80877263e-01, 2.46528893e-01, 8.60833216e-01, 7.27993429e-03,\n",
       "        4.62103873e-01, 1.45889709e-01, 5.09419832e-01, 4.30808527e-03],\n",
       "       [5.65160365e-01, 8.11088224e-01, 2.38397556e-01, 5.91200158e-01,\n",
       "        3.34447943e-01, 4.79981974e-01, 1.41077784e-01, 3.49857649e-01],\n",
       "       [4.62480376e-01, 8.20714684e-03, 2.11112749e-01, 6.88726546e-01,\n",
       "        2.73684462e-01, 4.85678675e-03, 1.24931309e-01, 4.07571356e-01],\n",
       "       [5.94319434e-01, 1.87631167e-01, 6.55173271e-01, 5.54069972e-03,\n",
       "        6.85119560e-01, 2.16297458e-01, 7.55270645e-01, 6.38720785e-03],\n",
       "       [4.30139031e-01, 6.17312755e-01, 1.81442472e-01, 4.49957708e-01,\n",
       "        4.95855673e-01, 7.11625800e-01, 2.09163253e-01, 5.18702249e-01],\n",
       "       [3.51990113e-01, 6.24639377e-03, 1.60676223e-01, 5.24184261e-01,\n",
       "        4.05767163e-01, 7.20071783e-03, 1.85224337e-01, 6.04269135e-01]])"
      ]
     },
     "execution_count": 24,
     "metadata": {},
     "output_type": "execute_result"
    }
   ],
   "source": [
    "Kron_BTA"
   ]
  },
  {
   "cell_type": "code",
   "execution_count": 28,
   "metadata": {},
   "outputs": [],
   "source": [
    "v = np.arange(L*M)"
   ]
  },
  {
   "cell_type": "code",
   "execution_count": 29,
   "metadata": {},
   "outputs": [
    {
     "data": {
      "text/plain": [
       "(8,)"
      ]
     },
     "execution_count": 29,
     "metadata": {},
     "output_type": "execute_result"
    }
   ],
   "source": [
    "v.shape"
   ]
  },
  {
   "cell_type": "code",
   "execution_count": 30,
   "metadata": {},
   "outputs": [
    {
     "data": {
      "text/plain": [
       "array([0, 1, 2, 3, 4, 5, 6, 7])"
      ]
     },
     "execution_count": 30,
     "metadata": {},
     "output_type": "execute_result"
    }
   ],
   "source": [
    "v"
   ]
  },
  {
   "cell_type": "code",
   "execution_count": 31,
   "metadata": {},
   "outputs": [],
   "source": [
    "w = np.dot(Kron_BTA, v)"
   ]
  },
  {
   "cell_type": "code",
   "execution_count": 32,
   "metadata": {},
   "outputs": [
    {
     "data": {
      "text/plain": [
       "(9,)"
      ]
     },
     "execution_count": 32,
     "metadata": {},
     "output_type": "execute_result"
    }
   ],
   "source": [
    "w.shape"
   ]
  },
  {
   "cell_type": "code",
   "execution_count": 33,
   "metadata": {},
   "outputs": [
    {
     "data": {
      "text/plain": [
       "array([ 6.73175285,  8.39625521,  5.66510052,  7.65457475, 10.0946557 ,\n",
       "        7.21822141,  9.91289966, 12.75751778,  8.90045383])"
      ]
     },
     "execution_count": 33,
     "metadata": {},
     "output_type": "execute_result"
    }
   ],
   "source": [
    "w"
   ]
  },
  {
   "cell_type": "code",
   "execution_count": 34,
   "metadata": {},
   "outputs": [],
   "source": [
    "# reorganize v along the columns of V\n",
    "V = np.reshape(v, (L, M)).T"
   ]
  },
  {
   "cell_type": "code",
   "execution_count": 35,
   "metadata": {},
   "outputs": [
    {
     "data": {
      "text/plain": [
       "(4, 2)"
      ]
     },
     "execution_count": 35,
     "metadata": {},
     "output_type": "execute_result"
    }
   ],
   "source": [
    "V.shape"
   ]
  },
  {
   "cell_type": "code",
   "execution_count": 36,
   "metadata": {},
   "outputs": [
    {
     "data": {
      "text/plain": [
       "array([[0, 4],\n",
       "       [1, 5],\n",
       "       [2, 6],\n",
       "       [3, 7]])"
      ]
     },
     "execution_count": 36,
     "metadata": {},
     "output_type": "execute_result"
    }
   ],
   "source": [
    "V"
   ]
  },
  {
   "cell_type": "code",
   "execution_count": 37,
   "metadata": {},
   "outputs": [
    {
     "data": {
      "text/plain": [
       "array([0, 1, 2, 3, 4, 5, 6, 7])"
      ]
     },
     "execution_count": 37,
     "metadata": {},
     "output_type": "execute_result"
    }
   ],
   "source": [
    "v"
   ]
  },
  {
   "cell_type": "code",
   "execution_count": 38,
   "metadata": {},
   "outputs": [],
   "source": [
    "# reorganize w along the columns of W\n",
    "W = np.reshape(w, (P, N)).T"
   ]
  },
  {
   "cell_type": "code",
   "execution_count": 39,
   "metadata": {},
   "outputs": [
    {
     "data": {
      "text/plain": [
       "(3, 3)"
      ]
     },
     "execution_count": 39,
     "metadata": {},
     "output_type": "execute_result"
    }
   ],
   "source": [
    "W.shape"
   ]
  },
  {
   "cell_type": "code",
   "execution_count": 40,
   "metadata": {},
   "outputs": [
    {
     "data": {
      "text/plain": [
       "array([[ 6.73175285,  7.65457475,  9.91289966],\n",
       "       [ 8.39625521, 10.0946557 , 12.75751778],\n",
       "       [ 5.66510052,  7.21822141,  8.90045383]])"
      ]
     },
     "execution_count": 40,
     "metadata": {},
     "output_type": "execute_result"
    }
   ],
   "source": [
    "W"
   ]
  },
  {
   "cell_type": "code",
   "execution_count": 41,
   "metadata": {},
   "outputs": [
    {
     "data": {
      "text/plain": [
       "array([ 6.73175285,  8.39625521,  5.66510052,  7.65457475, 10.0946557 ,\n",
       "        7.21822141,  9.91289966, 12.75751778,  8.90045383])"
      ]
     },
     "execution_count": 41,
     "metadata": {},
     "output_type": "execute_result"
    }
   ],
   "source": [
    "w"
   ]
  },
  {
   "cell_type": "code",
   "execution_count": 42,
   "metadata": {},
   "outputs": [
    {
     "data": {
      "text/plain": [
       "True"
      ]
     },
     "execution_count": 42,
     "metadata": {},
     "output_type": "execute_result"
    }
   ],
   "source": [
    "np.allclose(multi_dot([A, V, B]), W)"
   ]
  }
 ],
 "metadata": {
  "anaconda-cloud": {},
  "kernelspec": {
   "display_name": "Python 3",
   "language": "python",
   "name": "python3"
  },
  "language_info": {
   "codemirror_mode": {
    "name": "ipython",
    "version": 3
   },
   "file_extension": ".py",
   "mimetype": "text/x-python",
   "name": "python",
   "nbconvert_exporter": "python",
   "pygments_lexer": "ipython3",
   "version": "3.7.4"
  }
 },
 "nbformat": 4,
 "nbformat_minor": 1
}
