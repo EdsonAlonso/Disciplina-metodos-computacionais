{
 "cells": [
  {
   "cell_type": "markdown",
   "metadata": {},
   "source": [
    "# Kronecker product"
   ]
  },
  {
   "cell_type": "markdown",
   "metadata": {},
   "source": [
    "#### References\n",
    "\n",
    "* Magnus, J. R. and H. Neudecker (2007), Matrix differential calculus with applications in statistics and econometrics, 3rd edition, John Wiley & Sons, ISBN 0-471-98632-1.\n",
    "\n",
    "* Jain, A. K. (1989), Fundamentals of Digital Image Processing, Prentice Hall, ISBN 978-0-13-336165-0.\n",
    "\n",
    "* Horn, R. A. and C. R. Johnson, (1991), Topics in Matrix Analysis, Cambridge University Press, ISBN 978-0-521-46713-1."
   ]
  },
  {
   "cell_type": "markdown",
   "metadata": {},
   "source": [
    "Let $\\mathbf{A}$ and $\\mathbf{B}$ be, respectively, $N \\times M$ and $L \\times P$ matrices given by:"
   ]
  },
  {
   "cell_type": "markdown",
   "metadata": {},
   "source": [
    "$$\\mathbf{A} \n",
    "= \\begin{bmatrix}\n",
    "a_{11} & \\cdots & a_{1M} \\\\\n",
    "\\vdots &        & \\vdots \\\\\n",
    "a_{N1} & \\cdots & a_{NM}\n",
    "\\end{bmatrix}_{N \\times M} \\:\n",
    "$$"
   ]
  },
  {
   "cell_type": "markdown",
   "metadata": {},
   "source": [
    "and"
   ]
  },
  {
   "cell_type": "markdown",
   "metadata": {},
   "source": [
    "$$\\mathbf{B} \n",
    "= \\begin{bmatrix}\n",
    "b_{11} & \\cdots & b_{1P} \\\\\n",
    "\\vdots &        & \\vdots \\\\\n",
    "b_{L1} & \\cdots & b_{LP}\n",
    "\\end{bmatrix}_{L \\times P} \\: .\n",
    "$$"
   ]
  },
  {
   "cell_type": "markdown",
   "metadata": {
    "collapsed": true
   },
   "source": [
    "The [Kronecker product](https://en.wikipedia.org/wiki/Kronecker_product) of $\\mathbf{A}$ and $\\mathbf{B}$, denoted as $\\mathbf{A} \\otimes \\mathbf{B}$, is an $NL \\times MP$ matrix given by:"
   ]
  },
  {
   "cell_type": "markdown",
   "metadata": {},
   "source": [
    "<a id='eq1'></a>\n",
    "$$\n",
    "\\mathbf{A} \\otimes \\mathbf{B}\n",
    "= \\begin{bmatrix}\n",
    "a_{11} \\, \\mathbf{B} & \\cdots & a_{1M} \\, \\mathbf{B} \\\\\n",
    "\\vdots &        & \\vdots \\\\\n",
    "a_{N1} \\, \\mathbf{B} & \\cdots & a_{NM} \\, \\mathbf{B}\n",
    "\\end{bmatrix}_{\\, NL \\, \\times \\, MP} \\: . \\tag{1}\n",
    "$$"
   ]
  },
  {
   "cell_type": "markdown",
   "metadata": {},
   "source": [
    "Notice that $\\mathbf{A} \\otimes \\mathbf{B}$ ([equation 1](#eq1)) is a block matrix formed by $N \\times M$ blocks, each one with $L \\times P$ elements."
   ]
  },
  {
   "cell_type": "code",
   "execution_count": 1,
   "metadata": {},
   "outputs": [],
   "source": [
    "import numpy as np\n",
    "from numpy.linalg import multi_dot"
   ]
  },
  {
   "cell_type": "code",
   "execution_count": 2,
   "metadata": {},
   "outputs": [],
   "source": [
    "N = 3\n",
    "M = 4\n",
    "L = 2\n",
    "P = 3"
   ]
  },
  {
   "cell_type": "code",
   "execution_count": 3,
   "metadata": {},
   "outputs": [],
   "source": [
    "A = np.random.rand(N, M)\n",
    "B = np.random.rand(L, P)"
   ]
  },
  {
   "cell_type": "code",
   "execution_count": 4,
   "metadata": {},
   "outputs": [
    {
     "name": "stdout",
     "output_type": "stream",
     "text": [
      "[[0.26748972 0.52791847 0.77860038 0.81383297]\n",
      " [0.98263864 0.9992426  0.15667369 0.9724966 ]\n",
      " [0.31046894 0.81214042 0.44177935 0.34265088]]\n"
     ]
    }
   ],
   "source": [
    "print(A)"
   ]
  },
  {
   "cell_type": "code",
   "execution_count": 5,
   "metadata": {},
   "outputs": [
    {
     "name": "stdout",
     "output_type": "stream",
     "text": [
      "[[0.84463183 0.19731041 0.32089693]\n",
      " [0.22649296 0.51949212 0.27758031]]\n"
     ]
    }
   ],
   "source": [
    "print(B)"
   ]
  },
  {
   "cell_type": "code",
   "execution_count": 6,
   "metadata": {},
   "outputs": [],
   "source": [
    "Kron_AB = np.kron(A, B)"
   ]
  },
  {
   "cell_type": "code",
   "execution_count": 7,
   "metadata": {},
   "outputs": [
    {
     "data": {
      "text/plain": [
       "(6, 12)"
      ]
     },
     "execution_count": 7,
     "metadata": {},
     "output_type": "execute_result"
    }
   ],
   "source": [
    "Kron_AB.shape"
   ]
  },
  {
   "cell_type": "code",
   "execution_count": 8,
   "metadata": {},
   "outputs": [
    {
     "name": "stdout",
     "output_type": "stream",
     "text": [
      "[[0.22593033 0.05277851 0.08583663 0.44589674 0.10416381 0.16940741\n",
      "  0.65763067 0.15362596 0.24985047 0.68738923 0.16057771 0.2611565 ]\n",
      " [0.06058454 0.1389588  0.07424988 0.11956982 0.27424948 0.14653977\n",
      "  0.17634751 0.40447676 0.21612414 0.18432744 0.42277981 0.22590401]\n",
      " [0.82996788 0.19388483 0.31532572 0.84399211 0.19716096 0.32065388\n",
      "  0.13233159 0.03091335 0.05027611 0.82140159 0.1918837  0.31207117]\n",
      " [0.22256074 0.51047303 0.27276114 0.22632142 0.51909865 0.27737007\n",
      "  0.03548549 0.08139075 0.04348953 0.22026364 0.50520432 0.26994591]\n",
      " [0.26223195 0.06125875 0.09962853 0.68595965 0.16024376 0.26061336\n",
      "  0.3731409  0.08716766 0.14176564 0.28941384 0.06760859 0.10995562]\n",
      " [0.07031903 0.16128617 0.08618006 0.18394409 0.42190054 0.22543419\n",
      "  0.10005991 0.22950089 0.12262925 0.07760801 0.17800443 0.09511314]]\n"
     ]
    }
   ],
   "source": [
    "print(Kron_AB)"
   ]
  },
  {
   "cell_type": "markdown",
   "metadata": {},
   "source": [
    "It can be shown that the Kronecker product satisfies the following conditions:"
   ]
  },
  {
   "cell_type": "markdown",
   "metadata": {},
   "source": [
    "<a id='eq2'></a>\n",
    "$$\n",
    "\\begin{align}\n",
    "\\mathbf{A} \\otimes (\\mathbf{B} + \\mathbf{C}) &= \\mathbf{A} \\otimes \\mathbf{B} + \\mathbf{A} \\otimes \\mathbf{C} \\tag{2a} \\\\\n",
    "(\\mathbf{B} + \\mathbf{C}) \\otimes \\mathbf{A} &= \\mathbf{B} \\otimes \\mathbf{A} + \\mathbf{C} \\otimes \\mathbf{A} \\tag{2b} \\\\\n",
    "(k\\mathbf{A}) \\otimes \\mathbf{B} &= \\mathbf{A} \\otimes (k\\mathbf{B}) = k(\\mathbf{A} \\otimes \\mathbf{B}) \\tag{2c} \\\\\n",
    "(\\mathbf{A} \\otimes \\mathbf{B}) \\otimes \\mathbf{C} &= \\mathbf{A} \\otimes (\\mathbf{B} \\otimes \\mathbf{C}) \\tag{2d}\n",
    "\\end{align}\n",
    "$$"
   ]
  },
  {
   "cell_type": "markdown",
   "metadata": {},
   "source": [
    "where $\\mathbf{C}$ is an arbitrary matrix. Another very important property of the Kronecker product can be defined as follows:\n",
    "\n",
    "The matrix-vector product\n",
    "\n",
    "<a id='eq3'></a>\n",
    "$$\n",
    "\\left( \\mathbf{A} \\otimes \\mathbf{B} \\right) \\mathbf{v} = \\mathbf{w} \\: , \\tag{3}\n",
    "$$\n",
    "\n",
    "where $\\mathbf{v}$ is an $MP \\times 1$ vector and $\\mathbf{w}$ is an $NL \\times 1$ vector,  can be rewritten as follows:\n",
    "\n",
    "<a id='eq4'></a>\n",
    "$$\n",
    "\\mathbf{A} \\mathbf{V} \\mathbf{B}^{\\top} = \\mathbf{W} \\: , \\tag{4}\n",
    "$$\n",
    "\n",
    "where $\\mathbf{V}$ is an $M \\times P$ matrix obtained by reorganizing $\\mathbf{v}$ along its rows and $\\mathbf{W}$ is a $N \\times L$ matrix obtained by reorganizing $\\mathbf{w}$ along its rows (Jain, 1989; Horn and Johnson, 1991)."
   ]
  },
  {
   "cell_type": "code",
   "execution_count": 9,
   "metadata": {},
   "outputs": [
    {
     "name": "stdout",
     "output_type": "stream",
     "text": [
      "3 4 2 3\n"
     ]
    }
   ],
   "source": [
    "print(N, M, L, P)"
   ]
  },
  {
   "cell_type": "code",
   "execution_count": 10,
   "metadata": {},
   "outputs": [
    {
     "data": {
      "text/plain": [
       "(6, 12)"
      ]
     },
     "execution_count": 10,
     "metadata": {},
     "output_type": "execute_result"
    }
   ],
   "source": [
    "Kron_AB.shape"
   ]
  },
  {
   "cell_type": "code",
   "execution_count": 11,
   "metadata": {},
   "outputs": [],
   "source": [
    "v = np.arange(M*P)"
   ]
  },
  {
   "cell_type": "code",
   "execution_count": 12,
   "metadata": {},
   "outputs": [
    {
     "data": {
      "text/plain": [
       "(12,)"
      ]
     },
     "execution_count": 12,
     "metadata": {},
     "output_type": "execute_result"
    }
   ],
   "source": [
    "v.shape"
   ]
  },
  {
   "cell_type": "code",
   "execution_count": 13,
   "metadata": {},
   "outputs": [
    {
     "data": {
      "text/plain": [
       "array([ 0,  1,  2,  3,  4,  5,  6,  7,  8,  9, 10, 11])"
      ]
     },
     "execution_count": 13,
     "metadata": {},
     "output_type": "execute_result"
    }
   ],
   "source": [
    "v"
   ]
  },
  {
   "cell_type": "code",
   "execution_count": 14,
   "metadata": {},
   "outputs": [],
   "source": [
    "w = np.dot(Kron_AB, v)"
   ]
  },
  {
   "cell_type": "code",
   "execution_count": 15,
   "metadata": {},
   "outputs": [
    {
     "data": {
      "text/plain": [
       "(6,)"
      ]
     },
     "execution_count": 15,
     "metadata": {},
     "output_type": "execute_result"
    }
   ],
   "source": [
    "w.shape"
   ]
  },
  {
   "cell_type": "code",
   "execution_count": 16,
   "metadata": {},
   "outputs": [
    {
     "data": {
      "text/plain": [
       "array([20.51080546, 16.46596946, 19.90525185, 16.33258991, 12.73590295,\n",
       "       10.4129124 ])"
      ]
     },
     "execution_count": 16,
     "metadata": {},
     "output_type": "execute_result"
    }
   ],
   "source": [
    "w"
   ]
  },
  {
   "cell_type": "code",
   "execution_count": 17,
   "metadata": {},
   "outputs": [],
   "source": [
    "# reorganize v along the rows of V\n",
    "V = np.reshape(v, (M, P))"
   ]
  },
  {
   "cell_type": "code",
   "execution_count": 18,
   "metadata": {},
   "outputs": [
    {
     "data": {
      "text/plain": [
       "(4, 3)"
      ]
     },
     "execution_count": 18,
     "metadata": {},
     "output_type": "execute_result"
    }
   ],
   "source": [
    "V.shape"
   ]
  },
  {
   "cell_type": "code",
   "execution_count": 19,
   "metadata": {},
   "outputs": [
    {
     "data": {
      "text/plain": [
       "array([[ 0,  1,  2],\n",
       "       [ 3,  4,  5],\n",
       "       [ 6,  7,  8],\n",
       "       [ 9, 10, 11]])"
      ]
     },
     "execution_count": 19,
     "metadata": {},
     "output_type": "execute_result"
    }
   ],
   "source": [
    "V"
   ]
  },
  {
   "cell_type": "code",
   "execution_count": 20,
   "metadata": {},
   "outputs": [
    {
     "data": {
      "text/plain": [
       "array([ 0,  1,  2,  3,  4,  5,  6,  7,  8,  9, 10, 11])"
      ]
     },
     "execution_count": 20,
     "metadata": {},
     "output_type": "execute_result"
    }
   ],
   "source": [
    "v"
   ]
  },
  {
   "cell_type": "code",
   "execution_count": 21,
   "metadata": {},
   "outputs": [],
   "source": [
    "# reorganize w along the rows of W\n",
    "W = np.reshape(w, (N, L))"
   ]
  },
  {
   "cell_type": "code",
   "execution_count": 22,
   "metadata": {},
   "outputs": [
    {
     "data": {
      "text/plain": [
       "(3, 2)"
      ]
     },
     "execution_count": 22,
     "metadata": {},
     "output_type": "execute_result"
    }
   ],
   "source": [
    "W.shape"
   ]
  },
  {
   "cell_type": "code",
   "execution_count": 23,
   "metadata": {},
   "outputs": [
    {
     "data": {
      "text/plain": [
       "array([[20.51080546, 16.46596946],\n",
       "       [19.90525185, 16.33258991],\n",
       "       [12.73590295, 10.4129124 ]])"
      ]
     },
     "execution_count": 23,
     "metadata": {},
     "output_type": "execute_result"
    }
   ],
   "source": [
    "W"
   ]
  },
  {
   "cell_type": "code",
   "execution_count": 24,
   "metadata": {},
   "outputs": [
    {
     "data": {
      "text/plain": [
       "array([20.51080546, 16.46596946, 19.90525185, 16.33258991, 12.73590295,\n",
       "       10.4129124 ])"
      ]
     },
     "execution_count": 24,
     "metadata": {},
     "output_type": "execute_result"
    }
   ],
   "source": [
    "w"
   ]
  },
  {
   "cell_type": "code",
   "execution_count": 25,
   "metadata": {},
   "outputs": [
    {
     "data": {
      "text/plain": [
       "True"
      ]
     },
     "execution_count": 25,
     "metadata": {},
     "output_type": "execute_result"
    }
   ],
   "source": [
    "np.allclose(multi_dot([A, V, B.T]), W)"
   ]
  },
  {
   "cell_type": "markdown",
   "metadata": {},
   "source": [
    "Similarly to equations [3](#eq3) and [4](#eq4), the matrix-vector product\n",
    "\n",
    "<a id='eq5'></a>\n",
    "$$\n",
    "\\left( \\mathbf{B}^{\\top} \\otimes \\mathbf{A} \\right) \\mathbf{v} = \\mathbf{w} \\: , \\tag{5}\n",
    "$$\n",
    "\n",
    "where $\\mathbf{v}$ is an $LM \\times 1$ vector and $\\mathbf{w}$ is an $PN \\times 1$ vector, can be rewritten as follows:\n",
    "\n",
    "<a id='eq6'></a>\n",
    "$$\n",
    "\\mathbf{A} \\mathbf{V} \\mathbf{B} = \\mathbf{W} \\: , \\tag{6}\n",
    "$$\n",
    "\n",
    "where $\\mathbf{V}$ is an $M \\times L$ matrix obtained by reorganizing $\\mathbf{v}$ along its columns and $\\mathbf{W}$ is a $L \\times P$ matrix obtained by reorganizing $\\mathbf{w}$ along its columns (Magnus and Neudecker, 2007)."
   ]
  },
  {
   "cell_type": "code",
   "execution_count": 26,
   "metadata": {},
   "outputs": [],
   "source": [
    "Kron_BTA = np.kron(B.T, A)"
   ]
  },
  {
   "cell_type": "code",
   "execution_count": 27,
   "metadata": {},
   "outputs": [
    {
     "data": {
      "text/plain": [
       "(9, 8)"
      ]
     },
     "execution_count": 27,
     "metadata": {},
     "output_type": "execute_result"
    }
   ],
   "source": [
    "Kron_BTA.shape"
   ]
  },
  {
   "cell_type": "code",
   "execution_count": 28,
   "metadata": {},
   "outputs": [
    {
     "data": {
      "text/plain": [
       "array([[0.22593033, 0.44589674, 0.65763067, 0.68738923, 0.06058454,\n",
       "        0.11956982, 0.17634751, 0.18432744],\n",
       "       [0.82996788, 0.84399211, 0.13233159, 0.82140159, 0.22256074,\n",
       "        0.22632142, 0.03548549, 0.22026364],\n",
       "       [0.26223195, 0.68595965, 0.3731409 , 0.28941384, 0.07031903,\n",
       "        0.18394409, 0.10005991, 0.07760801],\n",
       "       [0.05277851, 0.10416381, 0.15362596, 0.16057771, 0.1389588 ,\n",
       "        0.27424948, 0.40447676, 0.42277981],\n",
       "       [0.19388483, 0.19716096, 0.03091335, 0.1918837 , 0.51047303,\n",
       "        0.51909865, 0.08139075, 0.50520432],\n",
       "       [0.06125875, 0.16024376, 0.08716766, 0.06760859, 0.16128617,\n",
       "        0.42190054, 0.22950089, 0.17800443],\n",
       "       [0.08583663, 0.16940741, 0.24985047, 0.2611565 , 0.07424988,\n",
       "        0.14653977, 0.21612414, 0.22590401],\n",
       "       [0.31532572, 0.32065388, 0.05027611, 0.31207117, 0.27276114,\n",
       "        0.27737007, 0.04348953, 0.26994591],\n",
       "       [0.09962853, 0.26061336, 0.14176564, 0.10995562, 0.08618006,\n",
       "        0.22543419, 0.12262925, 0.09511314]])"
      ]
     },
     "execution_count": 28,
     "metadata": {},
     "output_type": "execute_result"
    }
   ],
   "source": [
    "Kron_BTA"
   ]
  },
  {
   "cell_type": "code",
   "execution_count": 29,
   "metadata": {},
   "outputs": [],
   "source": [
    "v = np.arange(L*M)"
   ]
  },
  {
   "cell_type": "code",
   "execution_count": 30,
   "metadata": {},
   "outputs": [
    {
     "data": {
      "text/plain": [
       "(8,)"
      ]
     },
     "execution_count": 30,
     "metadata": {},
     "output_type": "execute_result"
    }
   ],
   "source": [
    "v.shape"
   ]
  },
  {
   "cell_type": "code",
   "execution_count": 31,
   "metadata": {},
   "outputs": [
    {
     "data": {
      "text/plain": [
       "array([0, 1, 2, 3, 4, 5, 6, 7])"
      ]
     },
     "execution_count": 31,
     "metadata": {},
     "output_type": "execute_result"
    }
   ],
   "source": [
    "v"
   ]
  },
  {
   "cell_type": "code",
   "execution_count": 32,
   "metadata": {},
   "outputs": [],
   "source": [
    "w = np.dot(Kron_BTA, v)"
   ]
  },
  {
   "cell_type": "code",
   "execution_count": 33,
   "metadata": {},
   "outputs": [
    {
     "data": {
      "text/plain": [
       "(9,)"
      ]
     },
     "execution_count": 33,
     "metadata": {},
     "output_type": "execute_result"
    }
   ],
   "source": [
    "w.shape"
   ]
  },
  {
   "cell_type": "code",
   "execution_count": 34,
   "metadata": {},
   "outputs": [
    {
     "data": {
      "text/plain": [
       "array([7.01189014, 7.34946846, 4.64509512, 8.20655071, 9.49679885,\n",
       "       5.91508858, 5.36034914, 5.98587312, 3.74747018])"
      ]
     },
     "execution_count": 34,
     "metadata": {},
     "output_type": "execute_result"
    }
   ],
   "source": [
    "w"
   ]
  },
  {
   "cell_type": "code",
   "execution_count": 35,
   "metadata": {},
   "outputs": [],
   "source": [
    "# reorganize v along the columns of V\n",
    "V = np.reshape(v, (L, M)).T"
   ]
  },
  {
   "cell_type": "code",
   "execution_count": 36,
   "metadata": {},
   "outputs": [
    {
     "data": {
      "text/plain": [
       "(4, 2)"
      ]
     },
     "execution_count": 36,
     "metadata": {},
     "output_type": "execute_result"
    }
   ],
   "source": [
    "V.shape"
   ]
  },
  {
   "cell_type": "code",
   "execution_count": 37,
   "metadata": {},
   "outputs": [
    {
     "data": {
      "text/plain": [
       "array([[0, 4],\n",
       "       [1, 5],\n",
       "       [2, 6],\n",
       "       [3, 7]])"
      ]
     },
     "execution_count": 37,
     "metadata": {},
     "output_type": "execute_result"
    }
   ],
   "source": [
    "V"
   ]
  },
  {
   "cell_type": "code",
   "execution_count": 38,
   "metadata": {},
   "outputs": [
    {
     "data": {
      "text/plain": [
       "array([0, 1, 2, 3, 4, 5, 6, 7])"
      ]
     },
     "execution_count": 38,
     "metadata": {},
     "output_type": "execute_result"
    }
   ],
   "source": [
    "v"
   ]
  },
  {
   "cell_type": "code",
   "execution_count": 39,
   "metadata": {},
   "outputs": [],
   "source": [
    "# reorganize w along the columns of W\n",
    "W = np.reshape(w, (P, N)).T"
   ]
  },
  {
   "cell_type": "code",
   "execution_count": 40,
   "metadata": {},
   "outputs": [
    {
     "data": {
      "text/plain": [
       "(3, 3)"
      ]
     },
     "execution_count": 40,
     "metadata": {},
     "output_type": "execute_result"
    }
   ],
   "source": [
    "W.shape"
   ]
  },
  {
   "cell_type": "code",
   "execution_count": 41,
   "metadata": {},
   "outputs": [
    {
     "data": {
      "text/plain": [
       "array([[7.01189014, 8.20655071, 5.36034914],\n",
       "       [7.34946846, 9.49679885, 5.98587312],\n",
       "       [4.64509512, 5.91508858, 3.74747018]])"
      ]
     },
     "execution_count": 41,
     "metadata": {},
     "output_type": "execute_result"
    }
   ],
   "source": [
    "W"
   ]
  },
  {
   "cell_type": "code",
   "execution_count": 42,
   "metadata": {},
   "outputs": [
    {
     "data": {
      "text/plain": [
       "array([7.01189014, 7.34946846, 4.64509512, 8.20655071, 9.49679885,\n",
       "       5.91508858, 5.36034914, 5.98587312, 3.74747018])"
      ]
     },
     "execution_count": 42,
     "metadata": {},
     "output_type": "execute_result"
    }
   ],
   "source": [
    "w"
   ]
  },
  {
   "cell_type": "code",
   "execution_count": 43,
   "metadata": {},
   "outputs": [
    {
     "data": {
      "text/plain": [
       "True"
      ]
     },
     "execution_count": 43,
     "metadata": {},
     "output_type": "execute_result"
    }
   ],
   "source": [
    "np.allclose(multi_dot([A, V, B]), W)"
   ]
  },
  {
   "cell_type": "code",
   "execution_count": null,
   "metadata": {},
   "outputs": [],
   "source": []
  }
 ],
 "metadata": {
  "anaconda-cloud": {},
  "kernelspec": {
   "display_name": "Python 3",
   "language": "python",
   "name": "python3"
  },
  "language_info": {
   "codemirror_mode": {
    "name": "ipython",
    "version": 3
   },
   "file_extension": ".py",
   "mimetype": "text/x-python",
   "name": "python",
   "nbconvert_exporter": "python",
   "pygments_lexer": "ipython3",
   "version": "3.7.4"
  }
 },
 "nbformat": 4,
 "nbformat_minor": 1
}
