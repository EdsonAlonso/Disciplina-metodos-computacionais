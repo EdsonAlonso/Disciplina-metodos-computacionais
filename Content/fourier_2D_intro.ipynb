{
 "cells": [
  {
   "cell_type": "markdown",
   "metadata": {},
   "source": [
    "# 2D Fourier Transform - introduction"
   ]
  },
  {
   "cell_type": "markdown",
   "metadata": {},
   "source": [
    "<a id='ref'></a>\n",
    "## References\n",
    "\n",
    "* Yilmaz, Öz (2001). Seismic Data Analysis: Processing, Inversion, and Interpretation of Seismic Data, 2 ed.: Society of Exploration Geophysicists. ISBN 1-56080-098-4"
   ]
  },
  {
   "cell_type": "code",
   "execution_count": 1,
   "metadata": {},
   "outputs": [],
   "source": [
    "import numpy as np\n",
    "from scipy.fft import fft2, ifft2, fftshift, ifftshift, fftfreq\n",
    "import matplotlib.pyplot as plt\n",
    "import matplotlib as mpl\n",
    "import my_functions as mfun"
   ]
  },
  {
   "cell_type": "markdown",
   "metadata": {},
   "source": [
    "<a id='sec1'></a>\n",
    "## Fourier transform example"
   ]
  },
  {
   "cell_type": "code",
   "execution_count": 2,
   "metadata": {},
   "outputs": [],
   "source": [
    "# number of samples\n",
    "M = 400 # along x\n",
    "N = 800 # along y"
   ]
  },
  {
   "cell_type": "code",
   "execution_count": 3,
   "metadata": {},
   "outputs": [],
   "source": [
    "# period (in meters)\n",
    "Tx = 1\n",
    "Ty = 1"
   ]
  },
  {
   "cell_type": "code",
   "execution_count": 4,
   "metadata": {},
   "outputs": [
    {
     "name": "stdout",
     "output_type": "stream",
     "text": [
      "0.0025\n",
      "0.00125\n"
     ]
    }
   ],
   "source": [
    "# sampling interval (is meters)\n",
    "dx = Tx/M\n",
    "dy = Ty/N\n",
    "print(dx)\n",
    "print(dy)"
   ]
  },
  {
   "cell_type": "code",
   "execution_count": 5,
   "metadata": {},
   "outputs": [],
   "source": [
    "# x and y (in meters)\n",
    "x = np.linspace(0, M*dx, M)\n",
    "y = np.linspace(0, N*dy, N)\n",
    "y, x = np.meshgrid(y, x)"
   ]
  },
  {
   "cell_type": "code",
   "execution_count": 6,
   "metadata": {},
   "outputs": [
    {
     "data": {
      "text/plain": [
       "array([[0.        , 0.        , 0.        , 0.        , 0.        ],\n",
       "       [0.00250627, 0.00250627, 0.00250627, 0.00250627, 0.00250627],\n",
       "       [0.00501253, 0.00501253, 0.00501253, 0.00501253, 0.00501253],\n",
       "       [0.0075188 , 0.0075188 , 0.0075188 , 0.0075188 , 0.0075188 ],\n",
       "       [0.01002506, 0.01002506, 0.01002506, 0.01002506, 0.01002506]])"
      ]
     },
     "execution_count": 6,
     "metadata": {},
     "output_type": "execute_result"
    }
   ],
   "source": [
    "x[:5,:5]"
   ]
  },
  {
   "cell_type": "code",
   "execution_count": 7,
   "metadata": {},
   "outputs": [
    {
     "data": {
      "text/plain": [
       "array([[0.        , 0.00125156, 0.00250313, 0.00375469, 0.00500626],\n",
       "       [0.        , 0.00125156, 0.00250313, 0.00375469, 0.00500626],\n",
       "       [0.        , 0.00125156, 0.00250313, 0.00375469, 0.00500626],\n",
       "       [0.        , 0.00125156, 0.00250313, 0.00375469, 0.00500626],\n",
       "       [0.        , 0.00125156, 0.00250313, 0.00375469, 0.00500626]])"
      ]
     },
     "execution_count": 7,
     "metadata": {},
     "output_type": "execute_result"
    }
   ],
   "source": [
    "y[:5,:5]"
   ]
  },
  {
   "cell_type": "code",
   "execution_count": 8,
   "metadata": {},
   "outputs": [],
   "source": [
    "# auxiliary function to create our synthetic signal\n",
    "def synthetic_signal_2d(A, u, v, x, y):\n",
    "    assert x.shape == y.shape, 'x and y must have the same shape'\n",
    "    assert len(A) == len(u) == len(v), 'A, u and v must have the same length'\n",
    "    signal = np.zeros_like(x)\n",
    "    for Amn, um, vn in zip(A, u, v):\n",
    "        # Example with sine\n",
    "        signal += Amn*np.sin(2*np.pi*(um*x + vn*y))\n",
    "        # Example with cosine\n",
    "        #signal += Amn*np.cos(2*np.pi*(um*x + vn*y))\n",
    "    return signal"
   ]
  },
  {
   "cell_type": "code",
   "execution_count": 9,
   "metadata": {},
   "outputs": [],
   "source": [
    "# We are gonna to create a signal formed by three components.\n",
    "# The lists below contain the wavenumbers u and v (in 1/m) and the \n",
    "# amplitude A of each component.\n",
    "\n",
    "# Example of signal depending on y only\n",
    "u = [ 0,  0,  0]\n",
    "v = [10, 30,  2]\n",
    "\n",
    "# Example of signal depending on x only\n",
    "#u = [10, 30,  2]\n",
    "#v = [ 0,  0,  0]\n",
    "\n",
    "# Example of signal depending on x and y\n",
    "# u = [10, 30,  2]\n",
    "# v = [10, 30,  2]\n",
    "\n",
    "A = [10,  5, 15]"
   ]
  },
  {
   "cell_type": "code",
   "execution_count": 10,
   "metadata": {},
   "outputs": [],
   "source": [
    "# This is our synthetic signal\n",
    "signal = synthetic_signal_2d(A, u, v, x, y)"
   ]
  },
  {
   "cell_type": "code",
   "execution_count": 11,
   "metadata": {},
   "outputs": [
    {
     "data": {
      "image/png": "[encoded data removed]",
      "text/plain": [
       "<Figure size 720x432 with 2 Axes>"
      ]
     },
     "metadata": {
      "needs_background": "light"
     },
     "output_type": "display_data"
    }
   ],
   "source": [
    "plt.figure(figsize=(10,6))\n",
    "plt.axis('scaled')\n",
    "ranges = np.max(np.abs(signal))\n",
    "plt.pcolormesh(y, x, signal, cmap='seismic', vmin=-ranges, vmax=ranges)\n",
    "plt.colorbar()\n",
    "plt.xlabel('y (m)', fontsize=14)\n",
    "plt.ylabel('x (m)', fontsize=14)\n",
    "plt.xlim(np.min(y), np.max(y))\n",
    "plt.ylim(np.min(x), np.max(x))\n",
    "plt.grid()\n",
    "plt.show()"
   ]
  },
  {
   "cell_type": "code",
   "execution_count": 12,
   "metadata": {},
   "outputs": [
    {
     "data": {
      "image/png": "[encoded data removed]",
      "text/plain": [
       "<Figure size 720x432 with 1 Axes>"
      ]
     },
     "metadata": {
      "needs_background": "light"
     },
     "output_type": "display_data"
    }
   ],
   "source": [
    "plt.figure(figsize=(10,6))\n",
    "# Example of signal depending on y only\n",
    "#plt.plot(y[M//2,:], signal[M//2,:], 'k-', label='signal at x = {:f}'.format(x[y[M//2,N//2]]))\n",
    "# Example of signal depending on x only\n",
    "plt.plot(x[:,N//2], signal[:,N//2], 'k-', label='signal at y = {:f}'.format(y[M//2,N//2]))\n",
    "plt.xlabel('space (meters)', fontsize=14)\n",
    "plt.ylabel('signal', fontsize=14)\n",
    "plt.legend(loc='best')\n",
    "plt.grid()\n",
    "plt.show()"
   ]
  },
  {
   "cell_type": "code",
   "execution_count": 13,
   "metadata": {},
   "outputs": [],
   "source": [
    "# Fourier Transform of our signal\n",
    "FT_signal = fft2(x=signal, norm=None)"
   ]
  },
  {
   "cell_type": "code",
   "execution_count": 14,
   "metadata": {},
   "outputs": [],
   "source": [
    "# Amplitude spectra of our signal\n",
    "Amplitude = np.abs(FT_signal)\n",
    "\n",
    "# For convenience, the amplitude is normalized by its maximum value\n",
    "Amplitude_max = np.max(Amplitude)"
   ]
  },
  {
   "cell_type": "code",
   "execution_count": 15,
   "metadata": {},
   "outputs": [],
   "source": [
    "# Frequencies contained in our signal\n",
    "u_freqs = fftfreq(n=M, d=dx)\n",
    "v_freqs = fftfreq(n=N, d=dy)"
   ]
  },
  {
   "cell_type": "code",
   "execution_count": 16,
   "metadata": {},
   "outputs": [
    {
     "name": "stdout",
     "output_type": "stream",
     "text": [
      "-200.0 199.0\n",
      "-400.0 399.0\n"
     ]
    }
   ],
   "source": [
    "# Minimum and maximum frequency values\n",
    "print(np.min(u_freqs), np.max(u_freqs))\n",
    "print(np.min(v_freqs), np.max(v_freqs))"
   ]
  },
  {
   "cell_type": "code",
   "execution_count": 17,
   "metadata": {},
   "outputs": [
    {
     "name": "stdout",
     "output_type": "stream",
     "text": [
      "200.0 400.0\n"
     ]
    }
   ],
   "source": [
    "# The maximum absolute frequency is defined by the sampling interval dt \n",
    "fnx = 1/(2*dx)\n",
    "fny = 1/(2*dy)\n",
    "print(fnx, fny)"
   ]
  },
  {
   "cell_type": "code",
   "execution_count": 18,
   "metadata": {},
   "outputs": [
    {
     "data": {
      "image/png": "[encoded data removed]",
      "text/plain": [
       "<Figure size 864x432 with 7 Axes>"
      ]
     },
     "metadata": {
      "needs_background": "light"
     },
     "output_type": "display_data"
    }
   ],
   "source": [
    "plt.figure(figsize=(12,6))\n",
    "\n",
    "plt.subplot(2,3,1)\n",
    "plt.axis('scaled')\n",
    "plt.title('Re', fontsize=16)\n",
    "plt.pcolormesh(fftshift(v_freqs), fftshift(u_freqs), fftshift(FT_signal).real, \n",
    "               cmap='seismic', vmin = -Amplitude_max, vmax = Amplitude_max)\n",
    "#plt.colorbar()\n",
    "#plt.xlabel('v (1/m)', fontsize=14)\n",
    "plt.ylabel('u (1/m)', fontsize=14)\n",
    "plt.yticks(ticks=np.arange(-fny, fny+100, 100))\n",
    "plt.xlim(-fny, fny)\n",
    "plt.ylim(-fnx, fnx)\n",
    "plt.grid()\n",
    "\n",
    "plt.subplot(2,3,2)\n",
    "plt.axis('scaled')\n",
    "plt.title('Im', fontsize=16)\n",
    "plt.pcolormesh(fftshift(v_freqs), fftshift(u_freqs), fftshift(FT_signal).imag, \n",
    "               cmap='seismic', vmin = -Amplitude_max, vmax = Amplitude_max)\n",
    "#plt.xlabel('v (1/m)', fontsize=14)\n",
    "#plt.ylabel('u (1/m)', fontsize=14)\n",
    "plt.xlim(-fny, fny)\n",
    "plt.ylim(-fnx, fnx)\n",
    "plt.grid()\n",
    "\n",
    "plt.subplot(2,3,3)\n",
    "plt.axis('scaled')\n",
    "plt.title('Amplitude', fontsize=16)\n",
    "plt.pcolormesh(fftshift(v_freqs), fftshift(u_freqs), fftshift(Amplitude),\n",
    "               cmap='seismic', vmin = -Amplitude_max, vmax = Amplitude_max)\n",
    "#plt.colorbar()\n",
    "#plt.xlabel('v (1/m)', fontsize=14)\n",
    "#plt.ylabel('u (1/m)', fontsize=14)\n",
    "plt.xlim(-fny, fny)\n",
    "plt.ylim(-fnx, fnx)\n",
    "plt.grid()\n",
    "\n",
    "plt.subplot(2,3,4)\n",
    "plt.axis('scaled')\n",
    "#plt.title('Re', fontsize=16)\n",
    "plt.pcolormesh(fftshift(v_freqs), fftshift(u_freqs), fftshift(FT_signal).real, \n",
    "               cmap='seismic', vmin = -Amplitude_max, vmax = Amplitude_max)\n",
    "#plt.colorbar()\n",
    "plt.xlabel('v (1/m)', fontsize=14)\n",
    "plt.ylabel('u (1/m)', fontsize=14)\n",
    "plt.xlim(-0.1*fny, 0.1*fny)\n",
    "plt.ylim(-0.1*fnx, 0.1*fnx)\n",
    "plt.grid()\n",
    "\n",
    "plt.subplot(2,3,5)\n",
    "plt.axis('scaled')\n",
    "#plt.title('Im', fontsize=16)\n",
    "plt.pcolormesh(fftshift(v_freqs), fftshift(u_freqs), fftshift(FT_signal).imag,\n",
    "               cmap='seismic', vmin = -Amplitude_max, vmax = Amplitude_max)\n",
    "#plt.colorbar()\n",
    "plt.xlabel('v (1/m)', fontsize=14)\n",
    "#plt.ylabel('u (1/m)', fontsize=14)\n",
    "plt.xlim(-0.1*fny, 0.1*fny)\n",
    "plt.ylim(-0.1*fnx, 0.1*fnx)\n",
    "plt.grid()\n",
    "\n",
    "plt.subplot(2,3,6)\n",
    "plt.axis('scaled')\n",
    "#plt.title('Amplitude', fontsize=16)\n",
    "plt.pcolormesh(fftshift(v_freqs), fftshift(u_freqs), fftshift(Amplitude),\n",
    "               cmap='seismic', vmin = -Amplitude_max, vmax = Amplitude_max)\n",
    "#plt.colorbar()\n",
    "plt.xlabel('v (1/m)', fontsize=14)\n",
    "#plt.ylabel('u (1/m)', fontsize=14)\n",
    "plt.xlim(-0.1*fny, 0.1*fny)\n",
    "plt.ylim(-0.1*fnx, 0.1*fnx)\n",
    "plt.grid()\n",
    "\n",
    "#cax = plt.axes([0.93, 0.15, 0.030, 0.85])\n",
    "cax = plt.axes([0.1, 0.0, 0.83, 0.03])\n",
    "plt.colorbar(cax=cax, orientation='horizontal')\n",
    "\n",
    "plt.show()"
   ]
  },
  {
   "cell_type": "code",
   "execution_count": null,
   "metadata": {},
   "outputs": [],
   "source": []
  }
 ],
 "metadata": {
  "anaconda-cloud": {},
  "kernelspec": {
   "display_name": "Python 3",
   "language": "python",
   "name": "python3"
  },
  "language_info": {
   "codemirror_mode": {
    "name": "ipython",
    "version": 3
   },
   "file_extension": ".py",
   "mimetype": "text/x-python",
   "name": "python",
   "nbconvert_exporter": "python",
   "pygments_lexer": "ipython3",
   "version": "3.7.4"
  }
 },
 "nbformat": 4,
 "nbformat_minor": 1
}
