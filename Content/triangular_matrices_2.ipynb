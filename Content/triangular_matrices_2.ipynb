{
 "cells": [
  {
   "cell_type": "markdown",
   "metadata": {},
   "source": [
    "# Triangular matrices - part 2"
   ]
  },
  {
   "cell_type": "markdown",
   "metadata": {},
   "source": [
    "Consider the two triangular matrices presented below:"
   ]
  },
  {
   "cell_type": "markdown",
   "metadata": {},
   "source": [
    "$$\\mathbf{U} \n",
    "= \\left[ \\begin{array}{ccccc}\n",
    "u_{11} & u_{12} & u_{13} & \\cdots & u_{1N} \\\\\n",
    "       & u_{22} & u_{23} & \\cdots & u_{2N} \\\\\n",
    "       &        & u_{33} & \\cdots & u_{3N}  \\\\\n",
    "       &        &        & \\ddots & \\vdots  \\\\\n",
    "       &        &        &        & u_{NN}\n",
    "\\end{array} \\right]\n",
    "$$"
   ]
  },
  {
   "cell_type": "markdown",
   "metadata": {},
   "source": [
    "and"
   ]
  },
  {
   "cell_type": "markdown",
   "metadata": {},
   "source": [
    "$$\\mathbf{L} \n",
    "= \\left[ \\begin{array}{ccccc}\n",
    "l_{11} & & & & \\\\\n",
    "\\vdots & \\ddots & & & \\\\\n",
    "l_{N-2 \\, 1} & \\cdots & l_{N-2\\,N-2} & &\\\\\n",
    "l_{N-1 \\, 1} & \\cdots & l_{N-1\\,N-2} & l_{N-1\\,N-1} &\\\\\n",
    "l_{N1} & \\cdots & l_{N\\,N-2} & l_{N\\,N-1} & l_{N\\,N}\n",
    "\\end{array} \\right] \\: .\n",
    "$$"
   ]
  },
  {
   "cell_type": "markdown",
   "metadata": {},
   "source": [
    "As we can see, a large fraction of the elements forming these matrices is zero. For the case in which $N$ is large, we need to think about **efficient storage schemes**. For example (see the notebook [`diagonal_matrices.ipynb`](https://nbviewer.jupyter.org/github/birocoles/Disciplina-metodos-computacionais/blob/master/Content/diagonal_matrices.ipynb)), a diagonal matrix $\\mathbf{D}$ can be efficiently stored as a vector $\\mathbf{d}$. Is this particular case, there is an easy relationship between the elements of $\\mathbf{d}$ and the elements of the original diagonal matrix $\\mathbf{D}$. It is also easy to rewrite the algorithms for computing the product of $\\mathbf{D}$ and a full matrix or vector by using the vector $\\mathbf{d}$."
   ]
  },
  {
   "cell_type": "markdown",
   "metadata": {},
   "source": [
    "In the case of triangular matrices, the storage schemes are more complicated. Let's create the triangular matrices presented above and use them to illustrate different storage schemes. The following cells use the routines [`numpy.random.rand`](https://docs.scipy.org/doc/numpy/reference/generated/numpy.random.rand.html), [`numpy.triu`](https://docs.scipy.org/doc/numpy/reference/generated/numpy.triu.html), [`numpy.tril`](https://docs.scipy.org/doc/numpy/reference/generated/numpy.tril.html), and [`numpy.around`](https://docs.scipy.org/doc/numpy/reference/generated/numpy.around.html)."
   ]
  },
  {
   "cell_type": "code",
   "execution_count": 1,
   "metadata": {
    "collapsed": true
   },
   "outputs": [],
   "source": [
    "import numpy as np"
   ]
  },
  {
   "cell_type": "code",
   "execution_count": 2,
   "metadata": {
    "collapsed": false,
    "scrolled": true
   },
   "outputs": [],
   "source": [
    "N = 4\n",
    "A = np.around(100*np.random.rand(N,N), decimals=3)\n",
    "U = np.triu(A)\n",
    "L = np.tril(A)"
   ]
  },
  {
   "cell_type": "code",
   "execution_count": 3,
   "metadata": {
    "collapsed": false
   },
   "outputs": [
    {
     "name": "stdout",
     "output_type": "stream",
     "text": [
      "[[ 19.712  89.383  57.459  73.792]\n",
      " [ 91.905   9.162   8.359  71.278]\n",
      " [ 27.108   5.278  22.732   8.701]\n",
      " [ 28.94    6.452  25.362  55.512]] \n",
      "\n",
      "[[ 19.712  89.383  57.459  73.792]\n",
      " [  0.      9.162   8.359  71.278]\n",
      " [  0.      0.     22.732   8.701]\n",
      " [  0.      0.      0.     55.512]] \n",
      "\n",
      "[[ 19.712   0.      0.      0.   ]\n",
      " [ 91.905   9.162   0.      0.   ]\n",
      " [ 27.108   5.278  22.732   0.   ]\n",
      " [ 28.94    6.452  25.362  55.512]]\n"
     ]
    }
   ],
   "source": [
    "print A, '\\n'\n",
    "print U, '\\n'\n",
    "print L"
   ]
  },
  {
   "cell_type": "markdown",
   "metadata": {},
   "source": [
    "**1) column-based storage scheme for $\\mathbf{U}$**\n",
    "\n",
    "This scheme stores the triangular matrix $\\mathbf{U}$, column by column, in a vector $\\mathbf{u}_{c}$ with $N(N+1)/2$ elements. Consider the example below:\n",
    "\n",
    "$$\n",
    "\\underbrace{\\begin{bmatrix}\n",
    "1 & 2 & 3 \\\\\n",
    "0 & 4 & 5 \\\\\n",
    "0 & 0 & 6\n",
    "\\end{bmatrix}}_{\\mathbf{U}} \\rightarrow\n",
    "\\underbrace{\\begin{bmatrix}\n",
    "1 \\\\ 2 \\\\ 4 \\\\ 3 \\\\ 5 \\\\ 6\n",
    "\\end{bmatrix}}_{\\mathbf{u}_{c}}\n",
    "$$"
   ]
  },
  {
   "cell_type": "markdown",
   "metadata": {},
   "source": [
    "An element $ij$ of the matrix $\\mathbf{U}$ is associated with the $k$th element of the vector $\\mathbf{u}_{c}$, where \n",
    "\n",
    "$$\n",
    "k = i - 1 + j*(j - 1)/2\n",
    "$$"
   ]
  },
  {
   "cell_type": "code",
   "execution_count": 4,
   "metadata": {
    "collapsed": false
   },
   "outputs": [
    {
     "name": "stdout",
     "output_type": "stream",
     "text": [
      "ij = 11 | k = 0\n",
      "ij = 12 | k = 1\n",
      "ij = 22 | k = 2\n",
      "ij = 13 | k = 3\n",
      "ij = 23 | k = 4\n",
      "ij = 33 | k = 5\n",
      "ij = 14 | k = 6\n",
      "ij = 24 | k = 7\n",
      "ij = 34 | k = 8\n",
      "ij = 44 | k = 9\n"
     ]
    }
   ],
   "source": [
    "for j in range(1,N+1):\n",
    "    for i in range(1,j+1):\n",
    "        k = i - 1 + j*(j - 1)/2\n",
    "        print 'ij = %d%d | k = %d' % (i, j, k)"
   ]
  },
  {
   "cell_type": "markdown",
   "metadata": {},
   "source": [
    "The function below transforms the triangular matrix $\\mathbf{U}$ into the vector $\\mathbf{u}_{c}$:"
   ]
  },
  {
   "cell_type": "code",
   "execution_count": 5,
   "metadata": {
    "collapsed": true
   },
   "outputs": [],
   "source": [
    "def U2uc(U):\n",
    "    'Transforms the upper triangular matrix U into \\\n",
    "a vector uc by using a column scheme'\n",
    "    assert U.shape[0] == U.shape[1], 'U must be square'\n",
    "    # indices of the non-null elements\n",
    "    i, j = np.triu_indices(U.shape[0])\n",
    "    # reorganize the elements according to the column scheme\n",
    "    p = np.argsort(j)\n",
    "    i = i[p]\n",
    "    j = j[p]\n",
    "    # create the vector uc\n",
    "    uc = U[i, j]\n",
    "    return uc"
   ]
  },
  {
   "cell_type": "code",
   "execution_count": 6,
   "metadata": {
    "collapsed": true
   },
   "outputs": [],
   "source": [
    "uc = U2uc(U)"
   ]
  },
  {
   "cell_type": "code",
   "execution_count": 7,
   "metadata": {
    "collapsed": false
   },
   "outputs": [
    {
     "name": "stdout",
     "output_type": "stream",
     "text": [
      "[ 19.712  89.383   9.162  57.459   8.359  22.732  73.792  71.278   8.701\n",
      "  55.512]\n"
     ]
    }
   ],
   "source": [
    "print uc"
   ]
  },
  {
   "cell_type": "code",
   "execution_count": 8,
   "metadata": {
    "collapsed": false
   },
   "outputs": [
    {
     "name": "stdout",
     "output_type": "stream",
     "text": [
      "[[ 19.712  89.383  57.459  73.792]\n",
      " [  0.      9.162   8.359  71.278]\n",
      " [  0.      0.     22.732   8.701]\n",
      " [  0.      0.      0.     55.512]]\n"
     ]
    }
   ],
   "source": [
    "print U"
   ]
  },
  {
   "cell_type": "markdown",
   "metadata": {},
   "source": [
    "**2) row-based storage scheme for $\\mathbf{U}$**\n",
    "\n",
    "This scheme stores the triangular matrix $\\mathbf{U}$, row by row, in a vector $\\mathbf{u}_{r}$ with $N(N+1)/2$ elements. Consider the example below:\n",
    "\n",
    "$$\n",
    "\\underbrace{\\begin{bmatrix}\n",
    "1 & 2 & 3 \\\\\n",
    "0 & 4 & 5 \\\\\n",
    "0 & 0 & 6\n",
    "\\end{bmatrix}}_{\\mathbf{U}} \\rightarrow\n",
    "\\underbrace{\\begin{bmatrix}\n",
    "1 \\\\ 2 \\\\ 3 \\\\ 4 \\\\ 5 \\\\ 6\n",
    "\\end{bmatrix}}_{\\mathbf{u}_{r}}\n",
    "$$"
   ]
  },
  {
   "cell_type": "markdown",
   "metadata": {},
   "source": [
    "An element $ij$ of the matrix $\\mathbf{U}$ is associated with the $k$th element of the vector $\\mathbf{u}_{r}$, where \n",
    "\n",
    "$$\n",
    "k = j - 1 + (i - 1)*(2*n - i)/2\n",
    "$$"
   ]
  },
  {
   "cell_type": "code",
   "execution_count": 9,
   "metadata": {
    "collapsed": false
   },
   "outputs": [
    {
     "name": "stdout",
     "output_type": "stream",
     "text": [
      "ij = 11 | k = 0\n",
      "ij = 12 | k = 1\n",
      "ij = 13 | k = 2\n",
      "ij = 14 | k = 3\n",
      "ij = 22 | k = 4\n",
      "ij = 23 | k = 5\n",
      "ij = 24 | k = 6\n",
      "ij = 33 | k = 7\n",
      "ij = 34 | k = 8\n",
      "ij = 44 | k = 9\n"
     ]
    }
   ],
   "source": [
    "for i in range(1,N+1):\n",
    "    for j in range(i,N+1):\n",
    "        k = j - 1 + (i - 1)*(2*N - i)/2\n",
    "        print 'ij = %d%d | k = %d' % (i, j, k)"
   ]
  },
  {
   "cell_type": "markdown",
   "metadata": {},
   "source": [
    "The function below transforms the triangular matrix $\\mathbf{U}$ into the vector $\\mathbf{u}_{r}$:"
   ]
  },
  {
   "cell_type": "code",
   "execution_count": 10,
   "metadata": {
    "collapsed": true
   },
   "outputs": [],
   "source": [
    "def U2ur(U):\n",
    "    'Transforms the upper triangular matrix U into \\\n",
    "a vector ur by using a row scheme'\n",
    "    assert U.shape[0] == U.shape[1], 'U must be square'\n",
    "    # indices of the non-null elements\n",
    "    i, j = np.triu_indices(U.shape[0])\n",
    "    # create the vector uc\n",
    "    ur = U[i, j]\n",
    "    return ur"
   ]
  },
  {
   "cell_type": "code",
   "execution_count": 11,
   "metadata": {
    "collapsed": true
   },
   "outputs": [],
   "source": [
    "ur = U2ur(U)"
   ]
  },
  {
   "cell_type": "code",
   "execution_count": 12,
   "metadata": {
    "collapsed": false
   },
   "outputs": [
    {
     "name": "stdout",
     "output_type": "stream",
     "text": [
      "[ 19.712  89.383  57.459  73.792   9.162   8.359  71.278  22.732   8.701\n",
      "  55.512]\n"
     ]
    }
   ],
   "source": [
    "print ur"
   ]
  },
  {
   "cell_type": "code",
   "execution_count": 13,
   "metadata": {
    "collapsed": false
   },
   "outputs": [
    {
     "name": "stdout",
     "output_type": "stream",
     "text": [
      "[[ 19.712  89.383  57.459  73.792]\n",
      " [  0.      9.162   8.359  71.278]\n",
      " [  0.      0.     22.732   8.701]\n",
      " [  0.      0.      0.     55.512]]\n"
     ]
    }
   ],
   "source": [
    "print U"
   ]
  },
  {
   "cell_type": "markdown",
   "metadata": {},
   "source": [
    "**3) column-based storage scheme for $\\mathbf{L}$**\n",
    "\n",
    "This scheme stores the triangular matrix $\\mathbf{L}$, column by column, in a vector $\\mathbf{l}_{c}$ with $N(N+1)/2$ elements. Consider the example below:\n",
    "\n",
    "$$\n",
    "\\underbrace{\\begin{bmatrix}\n",
    "1 & 0 & 0 \\\\\n",
    "2 & 3 & 0 \\\\\n",
    "4 & 5 & 6\n",
    "\\end{bmatrix}}_{\\mathbf{L}} \\rightarrow\n",
    "\\underbrace{\\begin{bmatrix}\n",
    "1 \\\\ 2 \\\\ 4 \\\\ 3 \\\\ 5 \\\\ 6\n",
    "\\end{bmatrix}}_{\\mathbf{l}_{c}}\n",
    "$$"
   ]
  },
  {
   "cell_type": "markdown",
   "metadata": {},
   "source": [
    "An element $ij$ of the matrix $\\mathbf{L}$ is associated with the $k$th element of the vector $\\mathbf{l}_{c}$, where \n",
    "\n",
    "$$\n",
    "k = i - 1 + (j - 1)*(2*n - j)/2\n",
    "$$"
   ]
  },
  {
   "cell_type": "code",
   "execution_count": 14,
   "metadata": {
    "collapsed": false
   },
   "outputs": [
    {
     "name": "stdout",
     "output_type": "stream",
     "text": [
      "ij = 11 | k = 0\n",
      "ij = 21 | k = 1\n",
      "ij = 31 | k = 2\n",
      "ij = 41 | k = 3\n",
      "ij = 22 | k = 4\n",
      "ij = 32 | k = 5\n",
      "ij = 42 | k = 6\n",
      "ij = 33 | k = 7\n",
      "ij = 43 | k = 8\n",
      "ij = 44 | k = 9\n"
     ]
    }
   ],
   "source": [
    "for j in range(1,N+1):\n",
    "    for i in range(j,N+1):\n",
    "        k = i - 1 + (j - 1)*(2*N - j)/2\n",
    "        print 'ij = %d%d | k = %d' % (i, j, k)"
   ]
  },
  {
   "cell_type": "markdown",
   "metadata": {},
   "source": [
    "The function below transforms the triangular matrix $\\mathbf{L}$ into the vector $\\mathbf{l}_{c}$:"
   ]
  },
  {
   "cell_type": "code",
   "execution_count": 15,
   "metadata": {
    "collapsed": true
   },
   "outputs": [],
   "source": [
    "def L2lc(L):\n",
    "    'Transforms the lower triangular matrix L into \\\n",
    "a vector lc by using a column scheme'\n",
    "    assert L.shape[0] == L.shape[1], 'L must be square'\n",
    "    # indices of the non-null elements\n",
    "    i, j = np.tril_indices(U.shape[0])\n",
    "    # reorganize the elements according to the column scheme\n",
    "    p = np.argsort(j)\n",
    "    i = i[p]\n",
    "    j = j[p]\n",
    "    # create the vector lc\n",
    "    lc = L[i, j]\n",
    "    return lc"
   ]
  },
  {
   "cell_type": "code",
   "execution_count": 16,
   "metadata": {
    "collapsed": true
   },
   "outputs": [],
   "source": [
    "lc = L2lc(L)"
   ]
  },
  {
   "cell_type": "code",
   "execution_count": 17,
   "metadata": {
    "collapsed": false
   },
   "outputs": [
    {
     "name": "stdout",
     "output_type": "stream",
     "text": [
      "[ 19.712  91.905  27.108  28.94    9.162   5.278   6.452  22.732  25.362\n",
      "  55.512]\n"
     ]
    }
   ],
   "source": [
    "print lc"
   ]
  },
  {
   "cell_type": "code",
   "execution_count": 18,
   "metadata": {
    "collapsed": false
   },
   "outputs": [
    {
     "name": "stdout",
     "output_type": "stream",
     "text": [
      "[[ 19.712   0.      0.      0.   ]\n",
      " [ 91.905   9.162   0.      0.   ]\n",
      " [ 27.108   5.278  22.732   0.   ]\n",
      " [ 28.94    6.452  25.362  55.512]]\n"
     ]
    }
   ],
   "source": [
    "print L"
   ]
  },
  {
   "cell_type": "markdown",
   "metadata": {},
   "source": [
    "**4) row-based storage scheme for $\\mathbf{L}$**\n",
    "\n",
    "This scheme stores the triangular matrix $\\mathbf{L}$, row by row, in a vector $\\mathbf{l}_{r}$ with $N(N+1)/2$ elements. Consider the example below:\n",
    "\n",
    "$$\n",
    "\\underbrace{\\begin{bmatrix}\n",
    "1 & 0 & 0 \\\\\n",
    "2 & 3 & 0 \\\\\n",
    "4 & 5 & 6\n",
    "\\end{bmatrix}}_{\\mathbf{L}} \\rightarrow\n",
    "\\underbrace{\\begin{bmatrix}\n",
    "1 \\\\ 2 \\\\ 3 \\\\ 4 \\\\ 5 \\\\ 6\n",
    "\\end{bmatrix}}_{\\mathbf{l}_{r}}\n",
    "$$"
   ]
  },
  {
   "cell_type": "markdown",
   "metadata": {},
   "source": [
    "An element $ij$ of the matrix $\\mathbf{L}$ is associated with the $k$th element of the vector $\\mathbf{l}_{r}$, where \n",
    "\n",
    "$$\n",
    "k = j - 1 + i*(i - 1)/2\n",
    "$$"
   ]
  },
  {
   "cell_type": "code",
   "execution_count": 19,
   "metadata": {
    "collapsed": false
   },
   "outputs": [
    {
     "name": "stdout",
     "output_type": "stream",
     "text": [
      "ij = 11 | k = 0\n",
      "ij = 21 | k = 1\n",
      "ij = 22 | k = 2\n",
      "ij = 31 | k = 3\n",
      "ij = 32 | k = 4\n",
      "ij = 33 | k = 5\n",
      "ij = 41 | k = 6\n",
      "ij = 42 | k = 7\n",
      "ij = 43 | k = 8\n",
      "ij = 44 | k = 9\n"
     ]
    }
   ],
   "source": [
    "for i in range(1,N+1):\n",
    "    for j in range(1,i+1):\n",
    "        k = j - 1 + i*(i - 1)/2\n",
    "        print 'ij = %d%d | k = %d' % (i, j, k)"
   ]
  },
  {
   "cell_type": "markdown",
   "metadata": {},
   "source": [
    "The function below transforms the triangular matrix $\\mathbf{L}$ into the vector $\\mathbf{l}_{r}$:"
   ]
  },
  {
   "cell_type": "code",
   "execution_count": 20,
   "metadata": {
    "collapsed": true
   },
   "outputs": [],
   "source": [
    "def L2lr(L):\n",
    "    'Transforms the lower triangular matrix L into \\\n",
    "a vector lc by using a row scheme'\n",
    "    assert L.shape[0] == L.shape[1], 'L must be square'\n",
    "    # indices of the non-null elements\n",
    "    i, j = np.tril_indices(U.shape[0])\n",
    "    # create the vector lr\n",
    "    lr = L[i, j]\n",
    "    return lr"
   ]
  },
  {
   "cell_type": "code",
   "execution_count": 21,
   "metadata": {
    "collapsed": true
   },
   "outputs": [],
   "source": [
    "lr = L2lr(L)"
   ]
  },
  {
   "cell_type": "code",
   "execution_count": 22,
   "metadata": {
    "collapsed": false
   },
   "outputs": [
    {
     "name": "stdout",
     "output_type": "stream",
     "text": [
      "[ 19.712  91.905   9.162  27.108   5.278  22.732  28.94    6.452  25.362\n",
      "  55.512]\n"
     ]
    }
   ],
   "source": [
    "print lr"
   ]
  },
  {
   "cell_type": "code",
   "execution_count": 23,
   "metadata": {
    "collapsed": false
   },
   "outputs": [
    {
     "name": "stdout",
     "output_type": "stream",
     "text": [
      "[[ 19.712   0.      0.      0.   ]\n",
      " [ 91.905   9.162   0.      0.   ]\n",
      " [ 27.108   5.278  22.732   0.   ]\n",
      " [ 28.94    6.452  25.362  55.512]]\n"
     ]
    }
   ],
   "source": [
    "print L"
   ]
  },
  {
   "cell_type": "raw",
   "metadata": {},
   "source": []
  },
  {
   "cell_type": "markdown",
   "metadata": {},
   "source": [
    "These storage schemes can be used to modify the algorithms presented in the previous class ([`triangular_matrices_1.ipynb`](https://nbviewer.jupyter.org/github/birocoles/Disciplina-metodos-computacionais/blob/master/Content/triangular_matrices_1.ipynb)) for computing the products $\\mathbf{y} = \\mathbf{U} \\mathbf{x}$ and $\\mathbf{z} = \\mathbf{L} \\mathbf{x}$. Consider the **Algorithm 3**, for example:\n",
    "\n",
    "**Algorithm 3**\n",
    "\n",
    "    for i = 1:N\n",
    "        y[i] = y[i] + dot(U[i,i:],x[i:])"
   ]
  },
  {
   "cell_type": "markdown",
   "metadata": {},
   "source": [
    "Notice that **Algorithm 3** accesses the elements of $\\mathbf{U}$, row by row. In this case, it is convenient to store $\\mathbf{U}$ in a vector $\\mathbf{u}_{r}$, according to the second storage scheme presented above. Finally, the **Algorithm 3** can be modified as follows:\n",
    "\n",
    "**Algorithm 3 (modified)**\n",
    "\n",
    "    for i = 1:N\n",
    "        k1 = i - 1 + (i - 1)*(2*N - i)/2\n",
    "        k2 = N - 1 + (i - 1)*(2*N - i)/2\n",
    "        y[i] = y[i] + dot(ur[k1:k2],x[i:])"
   ]
  },
  {
   "cell_type": "markdown",
   "metadata": {},
   "source": [
    "### Exercise"
   ]
  },
  {
   "cell_type": "markdown",
   "metadata": {},
   "source": [
    "1. In your `my_functions.py` file, implement the modified versions of algorithms 3, 5, 8, and 10, according to the storage schemes presented here. Each modified algorithm must be implemented in a single function. Each modified algorithm must receive the proper vector (uc, ur, lc, or lr) and a vector x and return the resultant vector y or z.\n",
    "2. In your `test_my_functions.py` file, create four tests to compare the results produced by the algorithms 3, 5, 8, and 10 (presented in the notebook [`triangular_matrices_1.ipynb`](https://nbviewer.jupyter.org/github/birocoles/Disciplina-metodos-computacionais/blob/master/Content/triangular_matrices_1.ipynb)) and their modified versions created here, in the item 1."
   ]
  },
  {
   "cell_type": "markdown",
   "metadata": {},
   "source": [
    "### References\n",
    "\n",
    "* Golub, G. H. and Van Loan, C. F. Matrix computations, 4th edition, Johns Hopkins University Press, 2013\n",
    "\n",
    "* [IBM Knowledge Center - Engineering and Scientific Subroutine Library](https://www.ibm.com/support/knowledgecenter/en/SSFHY8_5.5.0/com.ibm.cluster.essl.v5r5.essl100.doc/am5gr_data.htm)\n",
    "\n",
    "* [Intel developer zone - Matrix Storage Schemes for LAPACK Routines](https://software.intel.com/en-us/mkl-developer-reference-c-matrix-storage-schemes-for-lapack-routines)"
   ]
  },
  {
   "cell_type": "code",
   "execution_count": null,
   "metadata": {
    "collapsed": true
   },
   "outputs": [],
   "source": []
  }
 ],
 "metadata": {
  "anaconda-cloud": {},
  "kernelspec": {
   "display_name": "Python [default]",
   "language": "python",
   "name": "python2"
  },
  "language_info": {
   "codemirror_mode": {
    "name": "ipython",
    "version": 2
   },
   "file_extension": ".py",
   "mimetype": "text/x-python",
   "name": "python",
   "nbconvert_exporter": "python",
   "pygments_lexer": "ipython2",
   "version": "2.7.10"
  }
 },
 "nbformat": 4,
 "nbformat_minor": 0
}
