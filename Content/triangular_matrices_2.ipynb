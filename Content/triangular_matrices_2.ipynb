{
 "cells": [
  {
   "cell_type": "markdown",
   "metadata": {},
   "source": [
    "# Triangular matrices - part 2"
   ]
  },
  {
   "cell_type": "markdown",
   "metadata": {},
   "source": [
    "Consider the two triangular matrices presented below:"
   ]
  },
  {
   "cell_type": "markdown",
   "metadata": {},
   "source": [
    "$$\\mathbf{U} \n",
    "= \\left[ \\begin{array}{ccccc}\n",
    "u_{11} & u_{12} & u_{13} & \\cdots & u_{1N} \\\\\n",
    "       & u_{22} & u_{23} & \\cdots & u_{2N} \\\\\n",
    "       &        & u_{33} & \\cdots & u_{3N}  \\\\\n",
    "       &        &        & \\ddots & \\vdots  \\\\\n",
    "       &        &        &        & u_{NN}\n",
    "\\end{array} \\right]\n",
    "$$"
   ]
  },
  {
   "cell_type": "markdown",
   "metadata": {},
   "source": [
    "and"
   ]
  },
  {
   "cell_type": "markdown",
   "metadata": {},
   "source": [
    "$$\\mathbf{L} \n",
    "= \\left[ \\begin{array}{ccccc}\n",
    "l_{11} & & & & \\\\\n",
    "\\vdots & \\ddots & & & \\\\\n",
    "l_{N-2 \\, 1} & \\cdots & l_{N-2\\,N-2} & &\\\\\n",
    "l_{N-1 \\, 1} & \\cdots & l_{N-1\\,N-2} & l_{N-1\\,N-1} &\\\\\n",
    "l_{N1} & \\cdots & l_{N\\,N-2} & l_{N\\,N-1} & l_{N\\,N}\n",
    "\\end{array} \\right] \\: .\n",
    "$$"
   ]
  },
  {
   "cell_type": "markdown",
   "metadata": {},
   "source": [
    "As we can see, a large fraction of the elements forming these matrices is zero. For the case in which $N$ is large, we need to think about **efficient storage schemes**. For example (see the notebook [`diagonal_matrices.ipynb`](https://nbviewer.jupyter.org/github/birocoles/Disciplina-metodos-computacionais/blob/master/Content/diagonal_matrices.ipynb)), a diagonal matrix $\\mathbf{D}$ can be efficiently stored as a vector $\\mathbf{d}$. Is this particular case, there is an easy relationship between the elements of $\\mathbf{d}$ and the elements of the original diagonal matrix $\\mathbf{D}$. It is also easy to rewrite the algorithms for computing the product of $\\mathbf{D}$ and a full matrix or vector by using the vector $\\mathbf{d}$."
   ]
  },
  {
   "cell_type": "markdown",
   "metadata": {},
   "source": [
    "In the case of triangular matrices, the storage schemes are more complicated. Let's create the triangular matrices presented above and use them to illustrate different storage schemes. The following cells use the routines [`numpy.random.rand`](https://docs.scipy.org/doc/numpy/reference/generated/numpy.random.rand.html), [`numpy.triu`](https://docs.scipy.org/doc/numpy/reference/generated/numpy.triu.html), [`numpy.tril`](https://docs.scipy.org/doc/numpy/reference/generated/numpy.tril.html), and [`numpy.around`](https://docs.scipy.org/doc/numpy/reference/generated/numpy.around.html)."
   ]
  },
  {
   "cell_type": "code",
   "execution_count": 1,
   "metadata": {
    "collapsed": true
   },
   "outputs": [],
   "source": [
    "import numpy as np"
   ]
  },
  {
   "cell_type": "code",
   "execution_count": 2,
   "metadata": {
    "collapsed": false,
    "scrolled": true
   },
   "outputs": [],
   "source": [
    "N = 4\n",
    "A = np.around(100*np.random.rand(N,N), decimals=3)\n",
    "U = np.triu(A)\n",
    "L = np.tril(A)"
   ]
  },
  {
   "cell_type": "code",
   "execution_count": 5,
   "metadata": {
    "collapsed": false
   },
   "outputs": [
    {
     "name": "stdout",
     "output_type": "stream",
     "text": [
      "[[ 97.74   76.983  92.359  88.527]\n",
      " [ 76.681  10.941   3.158  98.564]\n",
      " [ 46.761  48.537  47.158  44.024]\n",
      " [ 83.151  57.731   2.521  90.861]] \n",
      "\n",
      "[[ 97.74   76.983  92.359  88.527]\n",
      " [  0.     10.941   3.158  98.564]\n",
      " [  0.      0.     47.158  44.024]\n",
      " [  0.      0.      0.     90.861]] \n",
      "\n",
      "[[ 97.74    0.      0.      0.   ]\n",
      " [ 76.681  10.941   0.      0.   ]\n",
      " [ 46.761  48.537  47.158   0.   ]\n",
      " [ 83.151  57.731   2.521  90.861]]\n"
     ]
    }
   ],
   "source": [
    "print A, '\\n'\n",
    "print U, '\\n'\n",
    "print L"
   ]
  },
  {
   "cell_type": "markdown",
   "metadata": {},
   "source": [
    "**1) column-based storage scheme for $\\mathbf{U}$**\n",
    "\n",
    "This scheme stores the triangular matrix $\\mathbf{U}$, column by column, in a vector $\\mathbf{u}_{c}$ with $N(N+1)/2$ elements. Consider the example below:\n",
    "\n",
    "$$\n",
    "\\underbrace{\\begin{bmatrix}\n",
    "1 & 2 & 3 \\\\\n",
    "0 & 4 & 5 \\\\\n",
    "0 & 0 & 6\n",
    "\\end{bmatrix}}_{\\mathbf{U}} \\rightarrow\n",
    "\\underbrace{\\begin{bmatrix}\n",
    "1 \\\\ 2 \\\\ 4 \\\\ 3 \\\\ 5 \\\\ 6\n",
    "\\end{bmatrix}}_{\\mathbf{u}_{c}}\n",
    "$$"
   ]
  },
  {
   "cell_type": "markdown",
   "metadata": {},
   "source": [
    "An element $ij$ of the matrix $\\mathbf{U}$ is associated with the $k$th element of the vector $\\mathbf{u}_{c}$, where \n",
    "\n",
    "$$\n",
    "k = i - 1 + j*(j - 1)/2\n",
    "$$"
   ]
  },
  {
   "cell_type": "code",
   "execution_count": 10,
   "metadata": {
    "collapsed": false
   },
   "outputs": [
    {
     "name": "stdout",
     "output_type": "stream",
     "text": [
      "11 0\n",
      "12 1\n",
      "22 2\n",
      "13 3\n",
      "23 4\n",
      "33 5\n",
      "14 6\n",
      "24 7\n",
      "34 8\n",
      "44 9\n"
     ]
    }
   ],
   "source": [
    "for j in range(1,N+1):\n",
    "    for i in range(1,j+1):\n",
    "        k = i - 1 + j*(j - 1)/2\n",
    "        print '%d%d %d' % (i, j, k)"
   ]
  },
  {
   "cell_type": "markdown",
   "metadata": {},
   "source": [
    "**2) row-based storage scheme for $\\mathbf{U}$**\n",
    "\n",
    "This scheme stores the triangular matrix $\\mathbf{U}$, row by row, in a vector $\\mathbf{u}_{r}$ with $N(N+1)/2$ elements. Consider the example below:\n",
    "\n",
    "$$\n",
    "\\underbrace{\\begin{bmatrix}\n",
    "1 & 2 & 3 \\\\\n",
    "0 & 4 & 5 \\\\\n",
    "0 & 0 & 6\n",
    "\\end{bmatrix}}_{\\mathbf{U}} \\rightarrow\n",
    "\\underbrace{\\begin{bmatrix}\n",
    "1 \\\\ 2 \\\\ 3 \\\\ 4 \\\\ 5 \\\\ 6\n",
    "\\end{bmatrix}}_{\\mathbf{u}_{r}}\n",
    "$$"
   ]
  },
  {
   "cell_type": "markdown",
   "metadata": {},
   "source": [
    "An element $ij$ of the matrix $\\mathbf{U}$ is associated with the $k$th element of the vector $\\mathbf{u}_{r}$, where \n",
    "\n",
    "$$\n",
    "k = j - 1 + (i - 1)*(2*n - i)/2\n",
    "$$"
   ]
  },
  {
   "cell_type": "code",
   "execution_count": 11,
   "metadata": {
    "collapsed": false
   },
   "outputs": [
    {
     "name": "stdout",
     "output_type": "stream",
     "text": [
      "11 0\n",
      "12 1\n",
      "13 2\n",
      "14 3\n",
      "22 4\n",
      "23 5\n",
      "24 6\n",
      "33 7\n",
      "34 8\n",
      "44 9\n"
     ]
    }
   ],
   "source": [
    "for i in range(1,N+1):\n",
    "    for j in range(i,N+1):\n",
    "        k = j - 1 + (i - 1)*(2*N - i)/2\n",
    "        print '%d%d %d' % (i, j, k)"
   ]
  },
  {
   "cell_type": "markdown",
   "metadata": {},
   "source": [
    "**3) column-based storage scheme for $\\mathbf{L}$**\n",
    "\n",
    "This scheme stores the triangular matrix $\\mathbf{L}$, column by column, in a vector $\\mathbf{l}_{c}$ with $N(N+1)/2$ elements. Consider the example below:\n",
    "\n",
    "$$\n",
    "\\underbrace{\\begin{bmatrix}\n",
    "1 & 0 & 0 \\\\\n",
    "2 & 3 & 0 \\\\\n",
    "4 & 5 & 6\n",
    "\\end{bmatrix}}_{\\mathbf{L}} \\rightarrow\n",
    "\\underbrace{\\begin{bmatrix}\n",
    "1 \\\\ 2 \\\\ 4 \\\\ 3 \\\\ 5 \\\\ 6\n",
    "\\end{bmatrix}}_{\\mathbf{l}_{c}}\n",
    "$$"
   ]
  },
  {
   "cell_type": "markdown",
   "metadata": {},
   "source": [
    "An element $ij$ of the matrix $\\mathbf{L}$ is associated with the $k$th element of the vector $\\mathbf{l}_{c}$, where \n",
    "\n",
    "$$\n",
    "k = i - 1 + (j - 1)*(2*n - j)/2\n",
    "$$"
   ]
  },
  {
   "cell_type": "code",
   "execution_count": 15,
   "metadata": {
    "collapsed": false
   },
   "outputs": [
    {
     "name": "stdout",
     "output_type": "stream",
     "text": [
      "11 0\n",
      "21 1\n",
      "31 2\n",
      "41 3\n",
      "22 4\n",
      "32 5\n",
      "42 6\n",
      "33 7\n",
      "43 8\n",
      "44 9\n"
     ]
    }
   ],
   "source": [
    "for j in range(1,N+1):\n",
    "    for i in range(j,N+1):\n",
    "        k = i - 1 + (j - 1)*(2*N - j)/2\n",
    "        print '%d%d %d' % (i, j, k)"
   ]
  },
  {
   "cell_type": "markdown",
   "metadata": {},
   "source": [
    "**4) row-based storage scheme for $\\mathbf{L}$**\n",
    "\n",
    "This scheme stores the triangular matrix $\\mathbf{L}$, row by row, in a vector $\\mathbf{l}_{r}$ with $N(N+1)/2$ elements. Consider the example below:\n",
    "\n",
    "$$\n",
    "\\underbrace{\\begin{bmatrix}\n",
    "1 & 0 & 0 \\\\\n",
    "2 & 3 & 0 \\\\\n",
    "4 & 5 & 6\n",
    "\\end{bmatrix}}_{\\mathbf{L}} \\rightarrow\n",
    "\\underbrace{\\begin{bmatrix}\n",
    "1 \\\\ 2 \\\\ 3 \\\\ 4 \\\\ 5 \\\\ 6\n",
    "\\end{bmatrix}}_{\\mathbf{l}_{r}}\n",
    "$$"
   ]
  },
  {
   "cell_type": "markdown",
   "metadata": {},
   "source": [
    "An element $ij$ of the matrix $\\mathbf{L}$ is associated with the $k$th element of the vector $\\mathbf{l}_{r}$, where \n",
    "\n",
    "$$\n",
    "k = j - 1 + i*(i - 1)/2\n",
    "$$"
   ]
  },
  {
   "cell_type": "code",
   "execution_count": 13,
   "metadata": {
    "collapsed": false
   },
   "outputs": [
    {
     "name": "stdout",
     "output_type": "stream",
     "text": [
      "11 0\n",
      "21 1\n",
      "22 2\n",
      "31 3\n",
      "32 4\n",
      "33 5\n",
      "41 6\n",
      "42 7\n",
      "43 8\n",
      "44 9\n"
     ]
    }
   ],
   "source": [
    "for i in range(1,N+1):\n",
    "    for j in range(1,i+1):\n",
    "        k = j - 1 + i*(i - 1)/2\n",
    "        print '%d%d %d' % (i, j, k)"
   ]
  },
  {
   "cell_type": "markdown",
   "metadata": {},
   "source": [
    "### References\n",
    "\n",
    "* Golub, G. H. and Van Loan, C. F. Matrix computations, 4th edition, Johns Hopkins University Press, 2013\n",
    "\n",
    "* [IBM Knowledge Center - Engineering and Scientific Subroutine Library](https://www.ibm.com/support/knowledgecenter/en/SSFHY8_5.5.0/com.ibm.cluster.essl.v5r5.essl100.doc/am5gr_data.htm)\n",
    "\n",
    "* [Intel developer zone - Matrix Storage Schemes for LAPACK Routines](https://software.intel.com/en-us/mkl-developer-reference-c-matrix-storage-schemes-for-lapack-routines)"
   ]
  },
  {
   "cell_type": "code",
   "execution_count": null,
   "metadata": {
    "collapsed": true
   },
   "outputs": [],
   "source": []
  }
 ],
 "metadata": {
  "anaconda-cloud": {},
  "kernelspec": {
   "display_name": "Python [default]",
   "language": "python",
   "name": "python2"
  },
  "language_info": {
   "codemirror_mode": {
    "name": "ipython",
    "version": 2
   },
   "file_extension": ".py",
   "mimetype": "text/x-python",
   "name": "python",
   "nbconvert_exporter": "python",
   "pygments_lexer": "ipython2",
   "version": "2.7.10"
  }
 },
 "nbformat": 4,
 "nbformat_minor": 0
}
