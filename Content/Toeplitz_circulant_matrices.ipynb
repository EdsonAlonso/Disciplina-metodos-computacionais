{
 "cells": [
  {
   "cell_type": "markdown",
   "metadata": {},
   "source": [
    "# Matrix-vector products with Toeplitz and Circulant matrices\n",
    "\n",
    "This notebook illustrates algoritmhs for computing the matrix-vector product for the cases in which the matrix is Toeplitz or Circulant.\n",
    "\n",
    "#### References\n",
    "\n",
    "* Jain, A. K. (1989), Fundamentals of Digital Image Processing, Prentice Hall, ISBN 978-0-13-336165-0.\n",
    "\n",
    "* Horn, R. A. and C. R. Johnson, (1991), Topics in Matrix Analysis, Cambridge University Press, ISBN 978-0-521-46713-1.\n",
    "\n",
    "* Chan, R. H. and X-Q Jin (2007), An introduction to iterative Toeplitz solvers, Philadelphia: Society for Industrial and Applied Mathematics, ISBN 978-0-898716-36-8. \n",
    "\n",
    "* Golub, G. H. and C. F. Van Loan, (2013), Matrix computations, 4th edition, Johns Hopkins University Press, ISBN 978-1-4214-0794-4."
   ]
  },
  {
   "cell_type": "code",
   "execution_count": 1,
   "metadata": {},
   "outputs": [],
   "source": [
    "import numpy as np\n",
    "import matplotlib.pyplot as plt\n",
    "from scipy.linalg import toeplitz, circulant, dft\n",
    "from scipy.fft import fft, ifft, fft2, ifft2"
   ]
  },
  {
   "cell_type": "markdown",
   "metadata": {},
   "source": [
    "### Circulant matrices"
   ]
  },
  {
   "cell_type": "markdown",
   "metadata": {},
   "source": [
    "A $N \\times N$ **circulant** matrix $\\mathbf{C}$ is a particular Toeplitz matrix that can be defined in terms of its first column $\\mathbf{c}_{0}$, as follows:"
   ]
  },
  {
   "cell_type": "markdown",
   "metadata": {},
   "source": [
    "$$\n",
    "\\mathbf{C} = c_{00} \\, \\mathbf{I} + c_{10} \\, \\mathbf{D} + c_{20} \\, \\mathbf{D}^{2} + ... + c_{(N-1)0} \\, \\mathbf{D}^{N-1} \\: ,\n",
    "$$"
   ]
  },
  {
   "cell_type": "markdown",
   "metadata": {},
   "source": [
    "where $\\mathbf{I}$ is the identity matrix and $\\mathbf{D}$ is the *downshift permutation matrix* (Golub and Van Loan, 2013, p. 220). For $N = 4$, the downshift permutation matrix is given by:"
   ]
  },
  {
   "cell_type": "markdown",
   "metadata": {},
   "source": [
    "$$\n",
    "\\mathbf{D} = \\begin{bmatrix}\n",
    "0 & 0 & 0 & 1 \\\\\n",
    "1 & 0 & 0 & 0 \\\\\n",
    "0 & 1 & 0 & 0 \\\\\n",
    "0 & 0 & 1 & 0\n",
    "\\end{bmatrix} \\quad ,\n",
    "$$\n",
    "\n",
    "$$\n",
    "\\mathbf{D}^{2} = \\begin{bmatrix}\n",
    "0 & 0 & 1 & 0 \\\\\n",
    "0 & 0 & 0 & 1 \\\\\n",
    "1 & 0 & 0 & 0 \\\\\n",
    "0 & 1 & 0 & 0\n",
    "\\end{bmatrix} \\quad ,\n",
    "$$\n",
    "\n",
    "$$\n",
    "\\mathbf{D}^{3} = \\begin{bmatrix}\n",
    "0 & 1 & 0 & 0 \\\\\n",
    "0 & 0 & 1 & 0 \\\\\n",
    "0 & 0 & 0 & 1 \\\\\n",
    "1 & 0 & 0 & 0\n",
    "\\end{bmatrix} \\quad .\n",
    "$$"
   ]
  },
  {
   "cell_type": "code",
   "execution_count": 2,
   "metadata": {},
   "outputs": [
    {
     "name": "stdout",
     "output_type": "stream",
     "text": [
      "[0 1 2 3 4]\n"
     ]
    }
   ],
   "source": [
    "x = np.arange(5)\n",
    "print(x)"
   ]
  },
  {
   "cell_type": "code",
   "execution_count": 3,
   "metadata": {},
   "outputs": [],
   "source": [
    "D = np.identity(5)[[4, 0, 1, 2, 3]]"
   ]
  },
  {
   "cell_type": "code",
   "execution_count": 4,
   "metadata": {},
   "outputs": [
    {
     "name": "stdout",
     "output_type": "stream",
     "text": [
      "[[0. 0. 0. 0. 1.]\n",
      " [1. 0. 0. 0. 0.]\n",
      " [0. 1. 0. 0. 0.]\n",
      " [0. 0. 1. 0. 0.]\n",
      " [0. 0. 0. 1. 0.]]\n"
     ]
    }
   ],
   "source": [
    "print(D)"
   ]
  },
  {
   "cell_type": "code",
   "execution_count": 5,
   "metadata": {},
   "outputs": [
    {
     "name": "stdout",
     "output_type": "stream",
     "text": [
      "[4. 0. 1. 2. 3.]\n"
     ]
    }
   ],
   "source": [
    "print(np.dot(D, x))"
   ]
  },
  {
   "cell_type": "code",
   "execution_count": 6,
   "metadata": {},
   "outputs": [],
   "source": [
    "N = 5\n",
    "#col_C = np.round(2*np.random.rand(N) - 1, decimals=2)\n",
    "col_C = np.linspace(-1, 1, N)"
   ]
  },
  {
   "cell_type": "code",
   "execution_count": 7,
   "metadata": {},
   "outputs": [],
   "source": [
    "C = circulant(col_C)"
   ]
  },
  {
   "cell_type": "code",
   "execution_count": 8,
   "metadata": {},
   "outputs": [
    {
     "name": "stdout",
     "output_type": "stream",
     "text": [
      "[[-1.   1.   0.5  0.  -0.5]\n",
      " [-0.5 -1.   1.   0.5  0. ]\n",
      " [ 0.  -0.5 -1.   1.   0.5]\n",
      " [ 0.5  0.  -0.5 -1.   1. ]\n",
      " [ 1.   0.5  0.  -0.5 -1. ]]\n"
     ]
    }
   ],
   "source": [
    "print(C)"
   ]
  },
  {
   "cell_type": "code",
   "execution_count": 9,
   "metadata": {},
   "outputs": [
    {
     "data": {
      "image/png": "[encoded data removed]",
      "text/plain": [
       "<Figure size 288x288 with 2 Axes>"
      ]
     },
     "metadata": {
      "needs_background": "light"
     },
     "output_type": "display_data"
    }
   ],
   "source": [
    "plt.close('all')\n",
    "plt.matshow(C, vmin = -1, vmax = 1, cmap='gist_rainbow_r')\n",
    "plt.colorbar()\n",
    "plt.xticks(ticks=np.arange(N-1)+0.5, labels=[])\n",
    "plt.yticks(ticks=np.arange(N-1)+0.5, labels=[])\n",
    "plt.grid(color='k', linewidth=2)\n",
    "plt.show()"
   ]
  },
  {
   "cell_type": "markdown",
   "metadata": {},
   "source": [
    "### Circulant matrices are diagonalized by the Fourier matrix"
   ]
  },
  {
   "cell_type": "markdown",
   "metadata": {},
   "source": [
    "The eigenvalues of a [**circulant matrix**](https://en.wikipedia.org/wiki/Circulant_matrix) can be computed by using the 1D Discrete Fourier Transform (DFT)."
   ]
  },
  {
   "cell_type": "markdown",
   "metadata": {},
   "source": [
    "Let's consider a $N \\times 1$ data vector $\\mathbf{d}$. The DFT of $\\tilde{\\mathbf{d}}$ can be computed as follows:\n",
    "\n",
    "$$\n",
    "\\tilde{\\mathbf{d}} = \\mathbf{F}_{(N)} \\mathbf{d} \\: ,\n",
    "$$\n",
    "\n",
    "where $\\mathbf{F}_{(N)}$ is $N \\times N$ the [**DFT matrix**](https://en.wikipedia.org/wiki/DFT_matrix)."
   ]
  },
  {
   "cell_type": "code",
   "execution_count": 10,
   "metadata": {},
   "outputs": [],
   "source": [
    "FN = dft(N, scale='sqrtn')"
   ]
  },
  {
   "cell_type": "markdown",
   "metadata": {},
   "source": [
    "Here, we compute the [**DFT matrix**](https://en.wikipedia.org/wiki/DFT_matrix) $\\mathbf{F}_{(N)}$ by using the scale $\\sqrt{N}$, where $N$ is the number of data.\n",
    "\n",
    "This scale makes the DFT matrix [**unitary**](https://en.wikipedia.org/wiki/Unitary_matrix), with inverse given by $\\mathbf{F}_{(N)}^{-1} = \\mathbf{F}_{(N)}^{H}$, where $\\mathbf{F}_{(N)}^{H}$ is its [**conjugate transpose**](https://en.wikipedia.org/wiki/Conjugate_transpose)."
   ]
  },
  {
   "cell_type": "code",
   "execution_count": 11,
   "metadata": {},
   "outputs": [
    {
     "data": {
      "text/plain": [
       "True"
      ]
     },
     "execution_count": 11,
     "metadata": {},
     "output_type": "execute_result"
    }
   ],
   "source": [
    "np.allclose(np.dot(np.conjugate(FN).T, FN), np.identity(N))"
   ]
  },
  {
   "cell_type": "markdown",
   "metadata": {},
   "source": [
    "Besides, it can be shown that $\\mathbf{F}_{(N)}^{H} = \\mathbf{F}_{(N)}^{\\ast}$ (Golub and Van Loan, 2013), where $\\mathbf{F}_{(N)}^{\\ast}$ is the [**conjugate matrix**](http://mathworld.wolfram.com/ConjugateMatrix.html) of $\\mathbf{F}_{(N)}$."
   ]
  },
  {
   "cell_type": "code",
   "execution_count": 12,
   "metadata": {},
   "outputs": [
    {
     "data": {
      "text/plain": [
       "True"
      ]
     },
     "execution_count": 12,
     "metadata": {},
     "output_type": "execute_result"
    }
   ],
   "source": [
    "np.allclose(np.conjugate(FN).T, np.conjugate(FN))"
   ]
  },
  {
   "cell_type": "markdown",
   "metadata": {},
   "source": [
    "In this case, the product $\\mathbf{F}_{(N)}^{\\ast}\\mathbf{F}_{(N)} = \\mathbf{F}_{(N)}\\mathbf{F}_{(N)}^{\\ast} = \\mathbf{I}$"
   ]
  },
  {
   "cell_type": "code",
   "execution_count": 13,
   "metadata": {},
   "outputs": [
    {
     "data": {
      "text/plain": [
       "True"
      ]
     },
     "execution_count": 13,
     "metadata": {},
     "output_type": "execute_result"
    }
   ],
   "source": [
    "np.allclose(np.dot(np.conjugate(FN), FN), np.identity(N))"
   ]
  },
  {
   "cell_type": "markdown",
   "metadata": {},
   "source": [
    "As a consequence, the Inverse Discrete Fourier Transform (IDFT) can be defined as follows:\n",
    "\n",
    "$$\n",
    "\\mathbf{d} = \\mathbf{F}_{(N)}^{\\ast} \\tilde{\\mathbf{d}} \\: .\n",
    "$$"
   ]
  },
  {
   "cell_type": "markdown",
   "metadata": {},
   "source": [
    "It can be shown that the DFT matrix $\\mathbf{F}_{(N)}$ diagonalizes a circulant matrix $\\mathbf{C}$. It means that the matrix $\\mathbf{C}$ satisfies the following equation:\n",
    "\n",
    "$$\n",
    "\\mathbf{C} = \\mathbf{F}_{(N)}^{\\ast}\\boldsymbol{\\Lambda}\\mathbf{F}_{(N)} \\: ,\n",
    "$$\n",
    "\n",
    "where $\\boldsymbol{\\Lambda}$ is a diagonal matrix containing the eigenvalues of $\\mathbf{C}$."
   ]
  },
  {
   "cell_type": "markdown",
   "metadata": {},
   "source": [
    "By properly manipulating the equation above, we obtain:"
   ]
  },
  {
   "cell_type": "markdown",
   "metadata": {},
   "source": [
    "$$\n",
    "\\begin{split}\n",
    "\\mathbf{C} &= \\mathbf{F}_{(N)}^{\\ast}\\boldsymbol{\\Lambda} \\, \\mathbf{F}_{(N)} \\\\\n",
    "\\mathbf{F}_{(N)} \\mathbf{C} &= \\boldsymbol{\\Lambda} \\, \\mathbf{F}_{(N)} \\\\\n",
    "\\mathbf{F}_{(N)} \\, \\mathbf{C} \\, \\mathbf{u}_{0} &= \\boldsymbol{\\Lambda} \\, \\mathbf{F}_{(N)} \\, \\mathbf{u}_{0} \\\\\n",
    "\\mathbf{F}_{(N)} \\, \\mathbf{c}_{0} &= \\boldsymbol{\\Lambda} \\, \\frac{1}{\\sqrt{N}}\\mathbf{1}_{(N)} \\\\\n",
    "\\mathbf{F}_{(N)} \\, \\mathbf{c}_{0} &= \\frac{1}{\\sqrt{N}} \\boldsymbol{\\lambda}\n",
    "\\end{split} \\quad ,\n",
    "$$"
   ]
  },
  {
   "cell_type": "markdown",
   "metadata": {},
   "source": [
    "where $\\mathbf{u}_{0}$ is an $N \\times 1$ vector with first element equal to $1$ and all the remaining elements equal to $0$, $\\mathbf{c}_{0}$ is the first column of $\\mathbf{C}$, $\\mathbf{1}_{(N)}$ is an $N \\times 1$ with all elements equal to 1 and $\\boldsymbol{\\lambda}$ is a vector representing the diagonal of $\\boldsymbol{\\Lambda}$ (the eigenvalues of $\\mathbf{C}$ ).\n",
    "\n",
    "This equation shows that the eigenvalues of $\\mathbf{C}$ can be computed as the DFT of its first column."
   ]
  },
  {
   "cell_type": "code",
   "execution_count": 14,
   "metadata": {},
   "outputs": [],
   "source": [
    "# vector containing the eigenvalues of C\n",
    "lambda_C = np.sqrt(N)*np.dot(FN, C[:,0])"
   ]
  },
  {
   "cell_type": "code",
   "execution_count": 15,
   "metadata": {},
   "outputs": [],
   "source": [
    "# diagonal matrix containing the eigenvalues of C\n",
    "Lambda_C = np.diag(lambda_C)"
   ]
  },
  {
   "cell_type": "code",
   "execution_count": 16,
   "metadata": {},
   "outputs": [],
   "source": [
    "# alternative C\n",
    "C2 = np.linalg.multi_dot([np.conjugate(FN), Lambda_C, FN]).real"
   ]
  },
  {
   "cell_type": "code",
   "execution_count": 17,
   "metadata": {},
   "outputs": [
    {
     "data": {
      "text/plain": [
       "True"
      ]
     },
     "execution_count": 17,
     "metadata": {},
     "output_type": "execute_result"
    }
   ],
   "source": [
    "# compare the original circulant matrix C and its alternative form\n",
    "np.allclose(C, C2)"
   ]
  },
  {
   "cell_type": "markdown",
   "metadata": {},
   "source": [
    "### Product of a Circulant matrix $\\mathbf{C}$ and arbitrary vector $\\mathbf{v}$"
   ]
  },
  {
   "cell_type": "markdown",
   "metadata": {},
   "source": [
    "Let $\\mathbf{v}$ be an arbitrary $N \\times 1$ vector. The product of the circulant matrix $\\mathbf{C}$ and vector $\\mathbf{v}$ is given by:"
   ]
  },
  {
   "cell_type": "markdown",
   "metadata": {},
   "source": [
    "$$\n",
    "\\begin{split}\n",
    "\\mathbf{C} \\, \\mathbf{v} \n",
    "&= \\mathbf{F}_{(N)}^{\\ast} \\, \\boldsymbol{\\Lambda} \\, \n",
    "\\overbrace{\\left( \\mathbf{F}_{(N)} \\, \\mathbf{v} \\right)}^{\\text{DFT of } \\mathbf{v}} \\\\\n",
    "&= \\mathbf{F}_{(N)}^{\\ast} \n",
    "\\underbrace{\\left( \\boldsymbol{\\lambda} \\circ \\tilde{\\mathbf{v}} \\right)}_{\\text{Hadamard product}}\n",
    "\\end{split} \\quad .\n",
    "$$"
   ]
  },
  {
   "cell_type": "markdown",
   "metadata": {},
   "source": [
    "As we can see, the product $\\mathbf{C} \\, \\mathbf{v}$ is the IDFT of $\\boldsymbol{\\lambda} \\circ \\tilde{\\mathbf{v}}$, where $\\boldsymbol{\\lambda}$ is the vector containing the eigenvalues of $\\mathbf{C}$ and $\\tilde{\\mathbf{v}}$ is the DFT of $\\mathbf{v}$."
   ]
  },
  {
   "cell_type": "code",
   "execution_count": 18,
   "metadata": {},
   "outputs": [],
   "source": [
    "v = np.random.rand(N)\n",
    "\n",
    "DFT_v = np.dot(FN, v)\n",
    "\n",
    "C_v_matvec = np.dot(C, v)\n",
    "\n",
    "C_v_DFT = np.dot(np.conjugate(FN), lambda_C*DFT_v)"
   ]
  },
  {
   "cell_type": "code",
   "execution_count": 19,
   "metadata": {},
   "outputs": [
    {
     "data": {
      "text/plain": [
       "True"
      ]
     },
     "execution_count": 19,
     "metadata": {},
     "output_type": "execute_result"
    }
   ],
   "source": [
    "np.allclose(C_v_matvec, C_v_DFT)"
   ]
  },
  {
   "cell_type": "markdown",
   "metadata": {},
   "source": [
    "### Toeplitz matrices"
   ]
  },
  {
   "cell_type": "markdown",
   "metadata": {},
   "source": [
    "Matrices whose entries are constant along each diagonal arise in many applications and are called **Toeplitz** matrices."
   ]
  },
  {
   "cell_type": "code",
   "execution_count": 20,
   "metadata": {},
   "outputs": [],
   "source": [
    "N = 10\n",
    "col_T = np.linspace(3, 10, N)\n",
    "row_T = np.linspace(10, 20, N)"
   ]
  },
  {
   "cell_type": "code",
   "execution_count": 21,
   "metadata": {},
   "outputs": [],
   "source": [
    "T = toeplitz(col_T, row_T)"
   ]
  },
  {
   "cell_type": "code",
   "execution_count": 22,
   "metadata": {},
   "outputs": [
    {
     "data": {
      "image/png": "[encoded data removed]",
      "text/plain": [
       "<Figure size 288x288 with 2 Axes>"
      ]
     },
     "metadata": {
      "needs_background": "light"
     },
     "output_type": "display_data"
    }
   ],
   "source": [
    "plt.close('all')\n",
    "plt.matshow(T, vmin = 0, vmax = 20, cmap='gist_rainbow_r')\n",
    "plt.colorbar()\n",
    "plt.xticks(ticks=np.arange(N-1)+0.5, labels=[])\n",
    "plt.yticks(ticks=np.arange(N-1)+0.5, labels=[])\n",
    "plt.grid(color='k', linewidth=2)\n",
    "plt.show()"
   ]
  },
  {
   "cell_type": "markdown",
   "metadata": {},
   "source": [
    "#### Toeplitz matrices are not diagonalized by the Fourier matrix"
   ]
  },
  {
   "cell_type": "code",
   "execution_count": 23,
   "metadata": {},
   "outputs": [],
   "source": [
    "FN = dft(N, scale='sqrtn')"
   ]
  },
  {
   "cell_type": "code",
   "execution_count": 24,
   "metadata": {},
   "outputs": [],
   "source": [
    "# vector containing the eigenvalues of T\n",
    "lambda_T_approx = np.sqrt(N)*np.dot(FN, T[:,0])"
   ]
  },
  {
   "cell_type": "code",
   "execution_count": 25,
   "metadata": {},
   "outputs": [],
   "source": [
    "# diagonal matrix containing the eigenvalues of T\n",
    "Lambda_T_approx = np.diag(lambda_T_approx)"
   ]
  },
  {
   "cell_type": "code",
   "execution_count": 26,
   "metadata": {},
   "outputs": [],
   "source": [
    "# alternative T\n",
    "T_approx = np.linalg.multi_dot([np.conjugate(FN), Lambda_T_approx, FN]).real"
   ]
  },
  {
   "cell_type": "code",
   "execution_count": 27,
   "metadata": {},
   "outputs": [
    {
     "data": {
      "text/plain": [
       "False"
      ]
     },
     "execution_count": 27,
     "metadata": {},
     "output_type": "execute_result"
    }
   ],
   "source": [
    "# compare the original Toepliz matrix T and its approximated form\n",
    "np.allclose(T, T_approx)"
   ]
  },
  {
   "cell_type": "code",
   "execution_count": 28,
   "metadata": {},
   "outputs": [
    {
     "data": {
      "image/png": "[encoded data removed]",
      "text/plain": [
       "<Figure size 720x216 with 4 Axes>"
      ]
     },
     "metadata": {
      "needs_background": "light"
     },
     "output_type": "display_data"
    }
   ],
   "source": [
    "plt.close('all')\n",
    "\n",
    "fig, ax = plt.subplots(nrows=1, ncols=2, figsize=(10,3))\n",
    "\n",
    "plt.subplot(121)\n",
    "plt.matshow(T, fignum=False, vmin = 0, vmax = 20, cmap='gist_rainbow_r')\n",
    "plt.colorbar()\n",
    "plt.xticks(ticks=np.arange(N-1)+0.5, labels=[])\n",
    "plt.yticks(ticks=np.arange(N-1)+0.5, labels=[])\n",
    "plt.grid(color='k', linewidth=2)\n",
    "\n",
    "plt.subplot(122)\n",
    "plt.matshow(T_approx, fignum=False, vmin = 0, vmax = 20, cmap='gist_rainbow_r')\n",
    "plt.colorbar()\n",
    "plt.xticks(ticks=np.arange(N-1)+0.5, labels=[])\n",
    "plt.yticks(ticks=np.arange(N-1)+0.5, labels=[])\n",
    "plt.grid(color='k', linewidth=2)\n",
    "\n",
    "plt.tight_layout()\n",
    "\n",
    "plt.show()"
   ]
  },
  {
   "cell_type": "code",
   "execution_count": 29,
   "metadata": {},
   "outputs": [
    {
     "data": {
      "text/plain": [
       "True"
      ]
     },
     "execution_count": 29,
     "metadata": {},
     "output_type": "execute_result"
    }
   ],
   "source": [
    "np.allclose(np.tril(T), np.tril(T_approx))"
   ]
  },
  {
   "cell_type": "markdown",
   "metadata": {},
   "source": [
    "#### We cannot compute the matrix-vector product by the Fourier transform"
   ]
  },
  {
   "cell_type": "code",
   "execution_count": 30,
   "metadata": {},
   "outputs": [],
   "source": [
    "w = np.random.rand(N)"
   ]
  },
  {
   "cell_type": "code",
   "execution_count": 31,
   "metadata": {},
   "outputs": [],
   "source": [
    "Tw_matvec = np.dot(T, w)"
   ]
  },
  {
   "cell_type": "code",
   "execution_count": 32,
   "metadata": {},
   "outputs": [],
   "source": [
    "DFT_w = np.dot(FN, w)"
   ]
  },
  {
   "cell_type": "code",
   "execution_count": 33,
   "metadata": {},
   "outputs": [],
   "source": [
    "Tw_approx = np.dot(np.conjugate(FN), lambda_T_approx*DFT_w).real"
   ]
  },
  {
   "cell_type": "code",
   "execution_count": 34,
   "metadata": {},
   "outputs": [
    {
     "data": {
      "text/plain": [
       "False"
      ]
     },
     "execution_count": 34,
     "metadata": {},
     "output_type": "execute_result"
    }
   ],
   "source": [
    "np.allclose(Tw_matvec, Tw_approx)"
   ]
  },
  {
   "cell_type": "code",
   "execution_count": 35,
   "metadata": {},
   "outputs": [
    {
     "name": "stdout",
     "output_type": "stream",
     "text": [
      "[102.95443647  89.76635661  80.3334586   72.84972696  66.49999416\n",
      "  59.15320645  53.33955682  51.48310932  50.86477261  48.81880595]\n"
     ]
    }
   ],
   "source": [
    "print(Tw_matvec)"
   ]
  },
  {
   "cell_type": "code",
   "execution_count": 36,
   "metadata": {},
   "outputs": [
    {
     "name": "stdout",
     "output_type": "stream",
     "text": [
      "[47.68256771 45.9984465  46.48647961 47.72612008 49.01444089 47.99674049\n",
      " 46.86208476 48.27231879 49.8929463  48.81880595]\n"
     ]
    }
   ],
   "source": [
    "print(Tw_approx)"
   ]
  },
  {
   "cell_type": "markdown",
   "metadata": {},
   "source": [
    "But in some particular situation, we are still able to compute the product of the Toeplitz matrix and a vector by using the Fourier transform."
   ]
  },
  {
   "cell_type": "code",
   "execution_count": 78,
   "metadata": {},
   "outputs": [],
   "source": [
    "N = 10\n",
    "\n",
    "# number of non-null elements in the first column\n",
    "N1 = 4\n",
    "\n",
    "# first column of the Toeplitz matrix\n",
    "col_T = np.linspace(3, 20, N)\n",
    "col_T[N1:] = 0\n",
    "\n",
    "# the first row has all off-diagonal term equal to zero\n",
    "row_T = np.zeros(N)"
   ]
  },
  {
   "cell_type": "code",
   "execution_count": 79,
   "metadata": {},
   "outputs": [],
   "source": [
    "T = toeplitz(col_T, row_T)"
   ]
  },
  {
   "cell_type": "code",
   "execution_count": 80,
   "metadata": {},
   "outputs": [],
   "source": [
    "w = np.random.rand(N)\n",
    "w[N-N1:] = 0"
   ]
  },
  {
   "cell_type": "code",
   "execution_count": 81,
   "metadata": {},
   "outputs": [
    {
     "data": {
      "image/png": "[encoded data removed]",
      "text/plain": [
       "<Figure size 288x288 with 2 Axes>"
      ]
     },
     "metadata": {
      "needs_background": "light"
     },
     "output_type": "display_data"
    }
   ],
   "source": [
    "plt.close('all')\n",
    "plt.matshow(T, vmin = 0, vmax = 20, cmap='gist_rainbow_r')\n",
    "plt.colorbar()\n",
    "plt.xticks(ticks=np.arange(N-1)+0.5, labels=[])\n",
    "plt.yticks(ticks=np.arange(N-1)+0.5, labels=[])\n",
    "plt.grid(color='k', linewidth=2)\n",
    "plt.show()"
   ]
  },
  {
   "cell_type": "code",
   "execution_count": 82,
   "metadata": {},
   "outputs": [],
   "source": [
    "FN = dft(N, scale='sqrtn')"
   ]
  },
  {
   "cell_type": "code",
   "execution_count": 83,
   "metadata": {},
   "outputs": [],
   "source": [
    "# vector containing the eigenvalues of T\n",
    "lambda_T_approx = np.sqrt(N)*np.dot(FN, T[:,0])"
   ]
  },
  {
   "cell_type": "code",
   "execution_count": 84,
   "metadata": {},
   "outputs": [],
   "source": [
    "# diagonal matrix containing the eigenvalues of T\n",
    "Lambda_T_approx = np.diag(lambda_T_approx)"
   ]
  },
  {
   "cell_type": "code",
   "execution_count": 85,
   "metadata": {},
   "outputs": [],
   "source": [
    "# alternative T\n",
    "T_approx = np.linalg.multi_dot([np.conjugate(FN), Lambda_T_approx, FN]).real"
   ]
  },
  {
   "cell_type": "code",
   "execution_count": 86,
   "metadata": {},
   "outputs": [
    {
     "data": {
      "text/plain": [
       "False"
      ]
     },
     "execution_count": 86,
     "metadata": {},
     "output_type": "execute_result"
    }
   ],
   "source": [
    "# compare the original Toepliz matrix T and its approximated form\n",
    "np.allclose(T, T_approx)"
   ]
  },
  {
   "cell_type": "code",
   "execution_count": 87,
   "metadata": {},
   "outputs": [
    {
     "data": {
      "image/png": "[encoded data removed]",
      "text/plain": [
       "<Figure size 720x216 with 4 Axes>"
      ]
     },
     "metadata": {
      "needs_background": "light"
     },
     "output_type": "display_data"
    }
   ],
   "source": [
    "plt.close('all')\n",
    "\n",
    "fig, ax = plt.subplots(nrows=1, ncols=2, figsize=(10,3))\n",
    "\n",
    "plt.subplot(121)\n",
    "plt.matshow(T, fignum=False, vmin = 0, vmax = 20, cmap='gist_rainbow_r')\n",
    "plt.colorbar()\n",
    "plt.xticks(ticks=np.arange(N-1)+0.5, labels=[])\n",
    "plt.yticks(ticks=np.arange(N-1)+0.5, labels=[])\n",
    "plt.grid(color='k', linewidth=2)\n",
    "\n",
    "plt.subplot(122)\n",
    "plt.matshow(T_approx, fignum=False, vmin = 0, vmax = 20, cmap='gist_rainbow_r')\n",
    "plt.colorbar()\n",
    "plt.xticks(ticks=np.arange(N-1)+0.5, labels=[])\n",
    "plt.yticks(ticks=np.arange(N-1)+0.5, labels=[])\n",
    "plt.grid(color='k', linewidth=2)\n",
    "\n",
    "plt.tight_layout()\n",
    "\n",
    "plt.show()"
   ]
  },
  {
   "cell_type": "code",
   "execution_count": 88,
   "metadata": {},
   "outputs": [
    {
     "data": {
      "text/plain": [
       "True"
      ]
     },
     "execution_count": 88,
     "metadata": {},
     "output_type": "execute_result"
    }
   ],
   "source": [
    "np.allclose(np.tril(T), np.tril(T_approx))"
   ]
  },
  {
   "cell_type": "code",
   "execution_count": 89,
   "metadata": {},
   "outputs": [],
   "source": [
    "Tw_matvec = np.dot(T, w)"
   ]
  },
  {
   "cell_type": "code",
   "execution_count": 90,
   "metadata": {},
   "outputs": [],
   "source": [
    "DFT_w = np.dot(FN, w)"
   ]
  },
  {
   "cell_type": "code",
   "execution_count": 91,
   "metadata": {},
   "outputs": [],
   "source": [
    "Tw_approx = np.dot(np.conjugate(FN), lambda_T_approx*DFT_w).real"
   ]
  },
  {
   "cell_type": "code",
   "execution_count": 92,
   "metadata": {},
   "outputs": [
    {
     "data": {
      "text/plain": [
       "True"
      ]
     },
     "execution_count": 92,
     "metadata": {},
     "output_type": "execute_result"
    }
   ],
   "source": [
    "np.allclose(Tw_matvec, Tw_approx)"
   ]
  },
  {
   "cell_type": "code",
   "execution_count": 93,
   "metadata": {},
   "outputs": [
    {
     "name": "stdout",
     "output_type": "stream",
     "text": [
      "[ 2.596   7.1636 13.1494 21.0432 20.4794 17.1413 13.21    6.5372  1.9801\n",
      "  0.    ]\n"
     ]
    }
   ],
   "source": [
    "print(np.round(Tw_matvec, decimals=4))"
   ]
  },
  {
   "cell_type": "code",
   "execution_count": 94,
   "metadata": {},
   "outputs": [
    {
     "name": "stdout",
     "output_type": "stream",
     "text": [
      "[ 2.596   7.1636 13.1494 21.0432 20.4794 17.1413 13.21    6.5372  1.9801\n",
      " -0.    ]\n"
     ]
    }
   ],
   "source": [
    "print(np.round(Tw_approx, decimals=4))"
   ]
  },
  {
   "cell_type": "markdown",
   "metadata": {},
   "source": [
    "The cells above show that the product of a Toeplitz matrix and a vector can be computed by using the Fourier transform if:\n",
    "\n",
    "* the matrix is lower triangular\n",
    "* the last N-N1 elements (with N1 < N) of the matrix first column are equal to zero\n",
    "* the last N1 elements (with N1 < N) of the vector are equal to zero"
   ]
  },
  {
   "cell_type": "markdown",
   "metadata": {},
   "source": [
    "### Any $N \\times N$ Toeplitz matrix can be embedded into a $2N \\times 2N$ circulant matrix"
   ]
  },
  {
   "cell_type": "markdown",
   "metadata": {},
   "source": [
    "Any Toeplitz matrix $\\mathbf{T}$ can be embedded into a $2N \\times 2N$ circulant matrix $\\mathbf{C}$ with first column given by:\n",
    "\n",
    "$$\n",
    "\\mathbf{c}_{0} = \\begin{bmatrix}\n",
    "t_{00} \\\\\n",
    "t_{10} \\\\\n",
    "\\vdots \\\\\n",
    "t_{(N-1)0} \\\\\n",
    "0 \\\\\n",
    "t_{0(N-1)} \\\\\n",
    "t_{0(N-2)} \\\\\n",
    "\\vdots \\\\\n",
    "t_{01}\n",
    "\\end{bmatrix} \\: .\n",
    "$$"
   ]
  },
  {
   "cell_type": "markdown",
   "metadata": {},
   "source": [
    "Let consider $N = 4$. In this case, the Toeplitz matrix $\\mathbf{T}$ and the embedding circulant matrix $\\mathbf{C}$ are given by:"
   ]
  },
  {
   "cell_type": "markdown",
   "metadata": {},
   "source": [
    "$$\n",
    "\\mathbf{T} = \\begin{bmatrix}\n",
    "t_{00} & t_{01} & t_{02} & t_{03} \\\\\n",
    "t_{10} & t_{00} & t_{01} & t_{02} \\\\\n",
    "t_{20} & t_{10} & t_{00} & t_{01} \\\\\n",
    "t_{30} & t_{20} & t_{10} & t_{00} \\\\\n",
    "\\end{bmatrix}\n",
    "$$\n",
    "\n",
    "and\n",
    "\n",
    "$$\n",
    "\\mathbf{C} = \\begin{bmatrix}\n",
    "t_{00} & t_{01} & t_{02} & t_{03} &      0 & t_{30} & t_{20} & t_{10} \\\\\n",
    "t_{10} & t_{00} & t_{01} & t_{02} & t_{03} &      0 & t_{30} & t_{20} \\\\\n",
    "t_{20} & t_{10} & t_{00} & t_{01} & t_{02} & t_{03} &      0 & t_{30} \\\\\n",
    "t_{30} & t_{20} & t_{10} & t_{00} & t_{01} & t_{02} & t_{03} &      0 \\\\\n",
    "     0 & t_{30} & t_{20} & t_{10} & t_{00} & t_{01} & t_{02} & t_{03} \\\\\n",
    "t_{03} &      0 & t_{30} & t_{20} & t_{10} & t_{00} & t_{01} & t_{02} \\\\\n",
    "t_{02} & t_{03} &      0 & t_{30} & t_{20} & t_{10} & t_{00} & t_{01} \\\\\n",
    "t_{01} & t_{02} & t_{03} &      0 & t_{30} & t_{20} & t_{10} & t_{00}\n",
    "\\end{bmatrix} \\quad .\n",
    "$$"
   ]
  },
  {
   "cell_type": "code",
   "execution_count": null,
   "metadata": {},
   "outputs": [],
   "source": [
    "N = 10\n",
    "col_T = np.linspace(3, 12, N)\n",
    "row_T = np.linspace(12, 20, N)"
   ]
  },
  {
   "cell_type": "code",
   "execution_count": null,
   "metadata": {},
   "outputs": [],
   "source": [
    "T = toeplitz(col_T, row_T)"
   ]
  },
  {
   "cell_type": "code",
   "execution_count": null,
   "metadata": {},
   "outputs": [],
   "source": [
    "C_embedding = circulant(c=np.hstack([T[:,0], 0, T[0,-1:0:-1]]))"
   ]
  },
  {
   "cell_type": "code",
   "execution_count": null,
   "metadata": {},
   "outputs": [],
   "source": [
    "plt.close('all')\n",
    "\n",
    "fig, ax = plt.subplots(nrows=1, ncols=2, figsize=(10,3))\n",
    "\n",
    "plt.subplot(121)\n",
    "plt.matshow(C_embedding, fignum=False, vmin = 0, vmax = 20, cmap='gist_rainbow_r')\n",
    "plt.colorbar()\n",
    "plt.xticks(ticks=[N-0.5], labels=[])\n",
    "plt.yticks(ticks=[N-0.5], labels=[])\n",
    "plt.grid(color='k', linewidth=2)\n",
    "\n",
    "plt.subplot(122)\n",
    "plt.matshow(T, fignum=False, vmin = 0, vmax = 20, cmap='gist_rainbow_r')\n",
    "plt.colorbar()\n",
    "plt.xticks(ticks=np.arange(N-1)+0.5, labels=[])\n",
    "plt.yticks(ticks=np.arange(N-1)+0.5, labels=[])\n",
    "plt.grid(color='k', linewidth=2)\n",
    "\n",
    "plt.tight_layout()\n",
    "\n",
    "plt.show()"
   ]
  },
  {
   "cell_type": "markdown",
   "metadata": {},
   "source": [
    "### Product of an arbitrary Toeplitz matrix $\\mathbf{T}$ and an arbitrary vector $\\mathbf{w}$"
   ]
  },
  {
   "cell_type": "markdown",
   "metadata": {},
   "source": [
    "Let $\\mathbf{w}$ be an arbitrary $N \\times 1$ vector. The product of the $N \\times N$ Toeplitz matrix $\\mathbf{T}$ and vector $\\mathbf{w}$ can be computed by first embedding $\\mathbf{T}$ into a $2N \\times 2N$ circulant matrix $\\mathbf{C}$ according to the procedure defined above. Then, padd the vector $\\mathbf{w}$ with $N$ zeros to create a new vector $\\mathbf{v}$. "
   ]
  },
  {
   "cell_type": "markdown",
   "metadata": {},
   "source": [
    "$$\n",
    "\\begin{split}\n",
    "\\mathbf{T} &\\Rightarrow \\mathbf{C} \\\\\n",
    "\\mathbf{w} &\\Rightarrow \\mathbf{v}\n",
    "\\end{split}\n",
    "$$"
   ]
  },
  {
   "cell_type": "code",
   "execution_count": null,
   "metadata": {},
   "outputs": [],
   "source": [
    "N = 21\n",
    "col_T = 10*np.random.rand(N)\n",
    "row_T = 10*np.random.rand(N)"
   ]
  },
  {
   "cell_type": "code",
   "execution_count": null,
   "metadata": {},
   "outputs": [],
   "source": [
    "T = toeplitz(col_T, row_T)"
   ]
  },
  {
   "cell_type": "code",
   "execution_count": null,
   "metadata": {},
   "outputs": [],
   "source": [
    "w = np.random.rand(N)"
   ]
  },
  {
   "cell_type": "code",
   "execution_count": null,
   "metadata": {},
   "outputs": [],
   "source": [
    "Tw_matvec = np.dot(T, w)"
   ]
  },
  {
   "cell_type": "code",
   "execution_count": null,
   "metadata": {},
   "outputs": [],
   "source": [
    "C_embedding = circulant(c=np.hstack([T[:,0], 0, T[0,-1:0:-1]]))"
   ]
  },
  {
   "cell_type": "code",
   "execution_count": null,
   "metadata": {},
   "outputs": [],
   "source": [
    "v_embedding = np.hstack([w, np.zeros(N)])"
   ]
  },
  {
   "cell_type": "code",
   "execution_count": null,
   "metadata": {},
   "outputs": [],
   "source": [
    "F2N = dft(2*N, scale='sqrtn')"
   ]
  },
  {
   "cell_type": "code",
   "execution_count": null,
   "metadata": {},
   "outputs": [],
   "source": [
    "DFT_v_embedding = np.dot(F2N, v_embedding)"
   ]
  },
  {
   "cell_type": "code",
   "execution_count": null,
   "metadata": {},
   "outputs": [],
   "source": [
    "lambda_C_embedding = np.sqrt(2*N)*np.dot(F2N, C_embedding[:,0])"
   ]
  },
  {
   "cell_type": "code",
   "execution_count": null,
   "metadata": {},
   "outputs": [],
   "source": [
    "C_v_embedding = np.dot(np.conjugate(F2N), lambda_C_embedding*DFT_v_embedding)"
   ]
  },
  {
   "cell_type": "code",
   "execution_count": null,
   "metadata": {},
   "outputs": [],
   "source": [
    "np.allclose(Tw_matvec, C_v_embedding[:N])"
   ]
  }
 ],
 "metadata": {
  "kernelspec": {
   "display_name": "Python 3",
   "language": "python",
   "name": "python3"
  },
  "language_info": {
   "codemirror_mode": {
    "name": "ipython",
    "version": 3
   },
   "file_extension": ".py",
   "mimetype": "text/x-python",
   "name": "python",
   "nbconvert_exporter": "python",
   "pygments_lexer": "ipython3",
   "version": "3.7.4"
  }
 },
 "nbformat": 4,
 "nbformat_minor": 2
}
