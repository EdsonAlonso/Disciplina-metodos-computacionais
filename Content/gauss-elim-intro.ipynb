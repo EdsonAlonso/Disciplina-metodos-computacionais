{
 "cells": [
  {
   "cell_type": "markdown",
   "metadata": {},
   "source": [
    "# Gaussian elimination - introduction"
   ]
  },
  {
   "cell_type": "markdown",
   "metadata": {},
   "source": [
    "Consider the following linear system:"
   ]
  },
  {
   "cell_type": "markdown",
   "metadata": {},
   "source": [
    "$$\\mathbf{A} \\, \\mathbf{x}  = \\mathbf{y}\\: ,$$"
   ]
  },
  {
   "cell_type": "markdown",
   "metadata": {},
   "source": [
    "where $\\mathbf{A}$ is a $N \\times N$ unstructured matrix given by"
   ]
  },
  {
   "cell_type": "markdown",
   "metadata": {},
   "source": [
    "$$\\mathbf{A} = \\left[\n",
    "\\begin{array}{cccccc}\n",
    "a_{11} & a_{12} & a_{13} & a_{14} & \\cdots & a_{1M} \\\\\n",
    "a_{21} & a_{22} & a_{23} & a_{24} & \\cdots & a_{2M} \\\\\n",
    "a_{31} & a_{32} & a_{33} & a_{34} & \\cdots & a_{3M} \\\\\n",
    "a_{41} & a_{42} & a_{43} & a_{44} & \\cdots & a_{4M} \\\\\n",
    "\\vdots & \\vdots & \\vdots & \\vdots & \\ddots & \\vdots \\\\\n",
    "a_{N1} & a_{N2} & a_{N3} & a_{N4} & \\cdots & a_{NN}\n",
    "\\end{array}\n",
    "\\right]_{\\, N \\times N} \\: ,$$"
   ]
  },
  {
   "cell_type": "markdown",
   "metadata": {},
   "source": [
    "$$\\mathbf{y} = \\left[\n",
    "\\begin{array}{c}\n",
    "y_{1} \\\\\n",
    "y_{2} \\\\\n",
    "\\vdots \\\\\n",
    "y_{N}\n",
    "\\end{array}\n",
    "\\right]_{\\,  \\times 1}$$"
   ]
  },
  {
   "cell_type": "markdown",
   "metadata": {},
   "source": [
    "and"
   ]
  },
  {
   "cell_type": "markdown",
   "metadata": {},
   "source": [
    "$$\\mathbf{x} = \\left[\n",
    "\\begin{array}{c}\n",
    "x_{1} \\\\\n",
    "x_{2} \\\\\n",
    "\\vdots \\\\\n",
    "x_{N}\n",
    "\\end{array}\n",
    "\\right]_{\\, N \\times 1} \\: .$$"
   ]
  },
  {
   "cell_type": "markdown",
   "metadata": {},
   "source": [
    "This is a **square and unstructured linear system** because $\\mathbf{A}$ is a general square matrix that is not diagonal, triangular, banded or any other type of structured matrix. \n",
    "\n",
    "How to solve this linear system? At this part of the course, we only know how to solve diagonal and triangular systems. It would be useful if this system were tranformed into an equivalent triangular system having the same solution $\\mathbf{x}$ as the unstructured system presented above. We say that this new system is equivalent because the solution is the same and triangular because its matrix is upper triangular.\n",
    "\n",
    "[**Gaussian elimination**](https://en.wikipedia.org/wiki/Gaussian_elimination) is a numerical procedure applied for transforming a square and unstructured system into this equivalent triangular system, which can be represented as follows: "
   ]
  },
  {
   "cell_type": "markdown",
   "metadata": {},
   "source": [
    "$$\\mathbf{B} \\, \\mathbf{x} = \\mathbf{z} \\: ,$$"
   ]
  },
  {
   "cell_type": "markdown",
   "metadata": {},
   "source": [
    "where"
   ]
  },
  {
   "cell_type": "markdown",
   "metadata": {},
   "source": [
    "$$\\mathbf{B} = \\left[\n",
    "\\begin{array}{ccccc}\n",
    "b_{11} & b_{12} & b_{13} & b_{14} & \\cdots & b_{1M} \\\\\n",
    "0 & b_{22} & b_{23} & b_{24} & \\cdots & b_{2M} \\\\\n",
    "0 & 0 & b_{33} & b_{34} & \\cdots & b_{3M} \\\\\n",
    "0 & 0 & 0 & b_{44} & \\cdots & b_{4M} \\\\\n",
    "\\vdots & \\vdots & \\vdots &  & \\ddots & \\vdots \\\\\n",
    "0 & 0 & 0 & 0 & \\cdots & b_{NN}\n",
    "\\end{array}\n",
    "\\right]_{\\, N \\times N}$$"
   ]
  },
  {
   "cell_type": "markdown",
   "metadata": {},
   "source": [
    "and"
   ]
  },
  {
   "cell_type": "markdown",
   "metadata": {},
   "source": [
    "$$\\mathbf{z} = \\left[\n",
    "\\begin{array}{c}\n",
    "z_{1} \\\\\n",
    "z_{2} \\\\\n",
    "\\vdots \\\\\n",
    "z_{N}\n",
    "\\end{array}\n",
    "\\right]_{\\, N \\times 1} \\: .$$"
   ]
  },
  {
   "cell_type": "markdown",
   "metadata": {},
   "source": [
    "As pointed out before, this equivalent system has the same solution $\\mathbf{x}$ as the unstructured system. The most striking observation to emerge from [Gaussian elimination](https://en.wikipedia.org/wiki/Gaussian_elimination) is that it transforms an unstructured linear system into a triangular system, which can be easily solved."
   ]
  },
  {
   "cell_type": "markdown",
   "metadata": {},
   "source": [
    "This transformation is based on three row transformations that do not change the solution of the linear system: **swapping the positions of two rows**, **multiplying a row by a nonzero scalar** and **adding to one row a scalar multiple of another**. The cells below examplify these transformations."
   ]
  },
  {
   "cell_type": "markdown",
   "metadata": {},
   "source": [
    "Let's consider a linear system `Ax = y` given by:"
   ]
  },
  {
   "cell_type": "code",
   "execution_count": 32,
   "metadata": {
    "collapsed": true
   },
   "outputs": [],
   "source": [
    "import numpy as np"
   ]
  },
  {
   "cell_type": "code",
   "execution_count": 33,
   "metadata": {
    "collapsed": true
   },
   "outputs": [],
   "source": [
    "A = np.array([[1.,3.,2.],\n",
    "              [7.,4.,9.],\n",
    "              [8.,6.,5.]])"
   ]
  },
  {
   "cell_type": "code",
   "execution_count": 34,
   "metadata": {
    "collapsed": true
   },
   "outputs": [],
   "source": [
    "y = np.array([5.23, 6.45, 1.67])"
   ]
  },
  {
   "cell_type": "markdown",
   "metadata": {},
   "source": [
    "The solution of this system is given by:"
   ]
  },
  {
   "cell_type": "code",
   "execution_count": 35,
   "metadata": {
    "collapsed": true
   },
   "outputs": [],
   "source": [
    "x = np.linalg.solve(A,y)"
   ]
  },
  {
   "cell_type": "code",
   "execution_count": 36,
   "metadata": {},
   "outputs": [
    {
     "name": "stdout",
     "output_type": "stream",
     "text": [
      "[-1.70556701  1.34958763  1.44340206]\n"
     ]
    }
   ],
   "source": [
    "print x"
   ]
  },
  {
   "cell_type": "markdown",
   "metadata": {},
   "source": [
    "### Solution obtained by **swapping the positions of two rows**"
   ]
  },
  {
   "cell_type": "markdown",
   "metadata": {},
   "source": [
    "Let's generating a matrix `T` and a vector `t` by swapping, respectively, the first two rows of `A` and the first two elements of `y`:"
   ]
  },
  {
   "cell_type": "code",
   "execution_count": 37,
   "metadata": {
    "collapsed": true
   },
   "outputs": [],
   "source": [
    "T = A[[1,0,2]]\n",
    "t = y[[1,0,2]]"
   ]
  },
  {
   "cell_type": "code",
   "execution_count": 38,
   "metadata": {},
   "outputs": [
    {
     "name": "stdout",
     "output_type": "stream",
     "text": [
      "[[ 1.  3.  2.]\n",
      " [ 7.  4.  9.]\n",
      " [ 8.  6.  5.]]\n",
      "\n",
      "\n",
      "[[ 7.  4.  9.]\n",
      " [ 1.  3.  2.]\n",
      " [ 8.  6.  5.]]\n"
     ]
    }
   ],
   "source": [
    "print A\n",
    "print '\\n'\n",
    "print T"
   ]
  },
  {
   "cell_type": "code",
   "execution_count": 39,
   "metadata": {},
   "outputs": [
    {
     "name": "stdout",
     "output_type": "stream",
     "text": [
      "[ 5.23  6.45  1.67]\n",
      "\n",
      "\n",
      "[ 6.45  5.23  1.67]\n"
     ]
    }
   ],
   "source": [
    "print y\n",
    "print '\\n'\n",
    "print t"
   ]
  },
  {
   "cell_type": "markdown",
   "metadata": {},
   "source": [
    "This row swapping is equivalent to premultiplying `A` and `y` by a permutation matrix `P` given by"
   ]
  },
  {
   "cell_type": "code",
   "execution_count": 40,
   "metadata": {},
   "outputs": [
    {
     "name": "stdout",
     "output_type": "stream",
     "text": [
      "[[ 0.  1.  0.]\n",
      " [ 1.  0.  0.]\n",
      " [ 0.  0.  1.]]\n"
     ]
    }
   ],
   "source": [
    "P = np.identity(3)[[1,0,2]]\n",
    "print P"
   ]
  },
  {
   "cell_type": "code",
   "execution_count": 41,
   "metadata": {
    "collapsed": true
   },
   "outputs": [],
   "source": [
    "T = np.dot(P,A)\n",
    "t = np.dot(P,y)"
   ]
  },
  {
   "cell_type": "code",
   "execution_count": 42,
   "metadata": {},
   "outputs": [
    {
     "name": "stdout",
     "output_type": "stream",
     "text": [
      "[[ 1.  3.  2.]\n",
      " [ 7.  4.  9.]\n",
      " [ 8.  6.  5.]]\n",
      "\n",
      "\n",
      "[[ 7.  4.  9.]\n",
      " [ 1.  3.  2.]\n",
      " [ 8.  6.  5.]]\n"
     ]
    }
   ],
   "source": [
    "print A\n",
    "print '\\n'\n",
    "print T"
   ]
  },
  {
   "cell_type": "code",
   "execution_count": 43,
   "metadata": {},
   "outputs": [
    {
     "name": "stdout",
     "output_type": "stream",
     "text": [
      "[ 5.23  6.45  1.67]\n",
      "\n",
      "\n",
      "[ 6.45  5.23  1.67]\n"
     ]
    }
   ],
   "source": [
    "print y\n",
    "print '\\n'\n",
    "print t"
   ]
  },
  {
   "cell_type": "markdown",
   "metadata": {},
   "source": [
    "The solution of the system `Tx = t` is given by:"
   ]
  },
  {
   "cell_type": "code",
   "execution_count": 44,
   "metadata": {
    "collapsed": true
   },
   "outputs": [],
   "source": [
    "x1 = np.linalg.solve(T,t)"
   ]
  },
  {
   "cell_type": "code",
   "execution_count": 45,
   "metadata": {},
   "outputs": [
    {
     "name": "stdout",
     "output_type": "stream",
     "text": [
      "[-1.70556701  1.34958763  1.44340206]\n"
     ]
    }
   ],
   "source": [
    "print x1"
   ]
  },
  {
   "cell_type": "markdown",
   "metadata": {},
   "source": [
    "### Solution obtained by **multiplying a row by a nonzero scalar**"
   ]
  },
  {
   "cell_type": "markdown",
   "metadata": {},
   "source": [
    "Now, let's generating a matrix `T` and a vector `t` by multiplying, respectively, the second row of `A` and the second element of `y` by `3`"
   ]
  },
  {
   "cell_type": "code",
   "execution_count": 46,
   "metadata": {
    "collapsed": true
   },
   "outputs": [],
   "source": [
    "T = np.dot(np.diag([1.,3.,1.]), A)\n",
    "t = np.dot(np.diag([1.,3.,1.]), y)"
   ]
  },
  {
   "cell_type": "code",
   "execution_count": 47,
   "metadata": {},
   "outputs": [
    {
     "name": "stdout",
     "output_type": "stream",
     "text": [
      "[[ 1.  3.  2.]\n",
      " [ 7.  4.  9.]\n",
      " [ 8.  6.  5.]]\n",
      "\n",
      "\n",
      "[[  1.   3.   2.]\n",
      " [ 21.  12.  27.]\n",
      " [  8.   6.   5.]]\n"
     ]
    }
   ],
   "source": [
    "print A\n",
    "print '\\n'\n",
    "print T"
   ]
  },
  {
   "cell_type": "code",
   "execution_count": 48,
   "metadata": {},
   "outputs": [
    {
     "name": "stdout",
     "output_type": "stream",
     "text": [
      "[ 5.23  6.45  1.67]\n",
      "\n",
      "\n",
      "[  5.23  19.35   1.67]\n"
     ]
    }
   ],
   "source": [
    "print y\n",
    "print '\\n'\n",
    "print t"
   ]
  },
  {
   "cell_type": "markdown",
   "metadata": {},
   "source": [
    "Notice that this operation is equivalent to premultiplying `A` and `y` by the matrix"
   ]
  },
  {
   "cell_type": "code",
   "execution_count": 49,
   "metadata": {},
   "outputs": [
    {
     "data": {
      "text/plain": [
       "array([[ 1.,  0.,  0.],\n",
       "       [ 0.,  3.,  0.],\n",
       "       [ 0.,  0.,  1.]])"
      ]
     },
     "execution_count": 49,
     "metadata": {},
     "output_type": "execute_result"
    }
   ],
   "source": [
    "np.diag([1.,3.,1.])"
   ]
  },
  {
   "cell_type": "markdown",
   "metadata": {},
   "source": [
    "The solution of this system is given by:"
   ]
  },
  {
   "cell_type": "code",
   "execution_count": 50,
   "metadata": {
    "collapsed": true
   },
   "outputs": [],
   "source": [
    "x2 = np.linalg.solve(T,t)"
   ]
  },
  {
   "cell_type": "code",
   "execution_count": 51,
   "metadata": {},
   "outputs": [
    {
     "name": "stdout",
     "output_type": "stream",
     "text": [
      "[-1.70556701  1.34958763  1.44340206]\n"
     ]
    }
   ],
   "source": [
    "print x2"
   ]
  },
  {
   "cell_type": "markdown",
   "metadata": {},
   "source": [
    "### Solution obtained by **adding to one row a scalar multiple of another**"
   ]
  },
  {
   "cell_type": "markdown",
   "metadata": {},
   "source": [
    "Finally, let's generating a matrix `T` by adding the double of the first row of `A` to the third row of `A`. Let's also generating a vector `t` by adding the double of the first element of `y` to the third element of `y`"
   ]
  },
  {
   "cell_type": "code",
   "execution_count": 52,
   "metadata": {
    "collapsed": true
   },
   "outputs": [],
   "source": [
    "Q = np.diag([1.,1.,1.])\n",
    "Q[2,0] += 2.\n",
    "T = np.dot(Q, A)\n",
    "t = np.dot(Q, y)"
   ]
  },
  {
   "cell_type": "code",
   "execution_count": 53,
   "metadata": {},
   "outputs": [
    {
     "name": "stdout",
     "output_type": "stream",
     "text": [
      "[[ 1.  3.  2.]\n",
      " [ 7.  4.  9.]\n",
      " [ 8.  6.  5.]]\n",
      "\n",
      "\n",
      "[[  1.   3.   2.]\n",
      " [  7.   4.   9.]\n",
      " [ 10.  12.   9.]]\n"
     ]
    }
   ],
   "source": [
    "print A\n",
    "print '\\n'\n",
    "print T"
   ]
  },
  {
   "cell_type": "code",
   "execution_count": 54,
   "metadata": {},
   "outputs": [
    {
     "name": "stdout",
     "output_type": "stream",
     "text": [
      "[ 5.23  6.45  1.67]\n",
      "\n",
      "\n",
      "[  5.23   6.45  12.13]\n"
     ]
    }
   ],
   "source": [
    "print y\n",
    "print '\\n'\n",
    "print t"
   ]
  },
  {
   "cell_type": "markdown",
   "metadata": {},
   "source": [
    "Notice that this operation is equivalent to premultiplying `A` and `y` by the matrix"
   ]
  },
  {
   "cell_type": "code",
   "execution_count": 55,
   "metadata": {},
   "outputs": [
    {
     "name": "stdout",
     "output_type": "stream",
     "text": [
      "[[ 1.  0.  0.]\n",
      " [ 0.  1.  0.]\n",
      " [ 2.  0.  1.]]\n"
     ]
    }
   ],
   "source": [
    "print Q"
   ]
  },
  {
   "cell_type": "markdown",
   "metadata": {},
   "source": [
    "The solution of this system is given by:"
   ]
  },
  {
   "cell_type": "code",
   "execution_count": 56,
   "metadata": {
    "collapsed": true
   },
   "outputs": [],
   "source": [
    "x3 = np.linalg.solve(T,t)"
   ]
  },
  {
   "cell_type": "code",
   "execution_count": 57,
   "metadata": {},
   "outputs": [
    {
     "name": "stdout",
     "output_type": "stream",
     "text": [
      "[-1.70556701  1.34958763  1.44340206]\n"
     ]
    }
   ],
   "source": [
    "print x3"
   ]
  },
  {
   "cell_type": "markdown",
   "metadata": {},
   "source": [
    "### Comparison between the solutions `x`, `x1`, `x2` and `x3`"
   ]
  },
  {
   "cell_type": "code",
   "execution_count": 58,
   "metadata": {},
   "outputs": [
    {
     "name": "stdout",
     "output_type": "stream",
     "text": [
      "[-1.70556701  1.34958763  1.44340206]\n"
     ]
    }
   ],
   "source": [
    "print x"
   ]
  },
  {
   "cell_type": "code",
   "execution_count": 59,
   "metadata": {},
   "outputs": [
    {
     "name": "stdout",
     "output_type": "stream",
     "text": [
      "[-1.70556701  1.34958763  1.44340206]\n"
     ]
    }
   ],
   "source": [
    "print x1"
   ]
  },
  {
   "cell_type": "code",
   "execution_count": 60,
   "metadata": {},
   "outputs": [
    {
     "name": "stdout",
     "output_type": "stream",
     "text": [
      "[-1.70556701  1.34958763  1.44340206]\n"
     ]
    }
   ],
   "source": [
    "print x2"
   ]
  },
  {
   "cell_type": "code",
   "execution_count": 61,
   "metadata": {},
   "outputs": [
    {
     "name": "stdout",
     "output_type": "stream",
     "text": [
      "[-1.70556701  1.34958763  1.44340206]\n"
     ]
    }
   ],
   "source": [
    "print x3"
   ]
  }
 ],
 "metadata": {
  "kernelspec": {
   "display_name": "Python 2",
   "language": "python",
   "name": "python2"
  },
  "language_info": {
   "codemirror_mode": {
    "name": "ipython",
    "version": 2
   },
   "file_extension": ".py",
   "mimetype": "text/x-python",
   "name": "python",
   "nbconvert_exporter": "python",
   "pygments_lexer": "ipython2",
   "version": "2.7.13"
  }
 },
 "nbformat": 4,
 "nbformat_minor": 1
}
