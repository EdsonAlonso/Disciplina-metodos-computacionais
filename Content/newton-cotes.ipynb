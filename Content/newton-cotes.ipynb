{
 "cells": [
  {
   "cell_type": "markdown",
   "metadata": {},
   "source": [
    "# Newton-Cotes formulas"
   ]
  },
  {
   "cell_type": "markdown",
   "metadata": {},
   "source": [
    "The Newton-Cotes formulas <sup>[[1]](https://en.wikipedia.org/wiki/Newton%E2%80%93Cotes_formulas)</sup> <sup>[[2]](http://mathworld.wolfram.com/Newton-CotesFormulas.html)</sup> are classical methods used to perform the numerical integration of one-dimensional integrals whose integrand is evaluated in a set of equally spaced points. Here, we limit our discussion to the [Trapezoidal Rule](https://en.wikipedia.org/wiki/Trapezoidal_rule) and [Simpson's Rule](https://en.wikipedia.org/wiki/Simpson%27s_rule), which are particular Newton-Cotes formulas. We also limit our discussion to definite integrals given by:"
   ]
  },
  {
   "cell_type": "markdown",
   "metadata": {},
   "source": [
    "$$\n",
    "\\int \\limits_{a}^{b} f \\, (x) \\, d x \\: ,\n",
    "$$"
   ]
  },
  {
   "cell_type": "markdown",
   "metadata": {},
   "source": [
    "where $a$ and $b$ are given constants. In the examples shown here, consider that we know $f_{i} \\equiv f \\, (x_{i})$, which represent the values of the integrand $f \\, (x)$ on a set of regularly spaced points $x_{i} = a + (i - 1) \\, h$, $i = 1, \\dots, N+1$, where $h$ is a positive constant and $x_{N+1} = b$."
   ]
  },
  {
   "cell_type": "markdown",
   "metadata": {},
   "source": [
    "## Trapezoidal rule"
   ]
  },
  {
   "cell_type": "markdown",
   "metadata": {},
   "source": [
    "Divide the definite integral over $\\left[ a, b \\right]$ into $N$ definite integrals as follows:"
   ]
  },
  {
   "cell_type": "markdown",
   "metadata": {},
   "source": [
    "$$\n",
    "\\int \\limits_{a}^{b} f \\, (x) \\, d x = \n",
    "\\int \\limits_{x_{1}}^{x_{2}} f \\, (x) \\, d x + \n",
    "\\int \\limits_{x_{2}}^{x_{3}} f \\, (x) \\, d x + \n",
    "\\cdots + \\int \\limits_{x_{N}}^{x_{N+1}} f \\, (x) \\, d x \\: .\n",
    "$$"
   ]
  },
  {
   "cell_type": "markdown",
   "metadata": {},
   "source": [
    "Now, consider that each integral can be approximated by:"
   ]
  },
  {
   "cell_type": "markdown",
   "metadata": {},
   "source": [
    "$$\n",
    "\\int \\limits_{x_{i}}^{x_{i+1}} f \\, (x) \\, d x \\approx \\int \\limits_{x_{i}}^{x_{i+1}} P_{1} \\left[ x_{i} , x_{i+1} \\right] \\, d x \\: ,\n",
    "$$"
   ]
  },
  {
   "cell_type": "markdown",
   "metadata": {},
   "source": [
    "where $P_{1} \\left[ x_{i} , x_{i+1} \\right]$ is a [Lagrange's polynomial](https://nbviewer.jupyter.org/github/birocoles/Disciplina-metodos-computacionais/blob/master/Content/lagrange.ipynb) of order 1 passing through the points $x_{i}$ and $x_{i+1}$, $i = 1, \\dots, N$. Here, this polynomial assumes the following form:"
   ]
  },
  {
   "cell_type": "markdown",
   "metadata": {},
   "source": [
    "$$\n",
    "\\begin{split}\n",
    "P_{1} \\left[ x_{i} , x_{i+1} \\right] \n",
    "&= \n",
    "\\left( \\frac{x - x_{i+1}}{x_{i} - x_{i+1}} \\right) \\, f_{i} +\n",
    "\\left( \\frac{x - x_{i}}{x_{i+1} - x_{i}} \\right) \\, f_{i+1} \\\\\\\\\n",
    "&= \n",
    "\\frac{f_{i+1}}{h} \\, \\left( x - x_{i}\\right) - \\frac{f_{i}}{h} \\, \\left( x - x_{i+1}\\right)\n",
    "\\end{split} \\: .\n",
    "$$"
   ]
  },
  {
   "cell_type": "markdown",
   "metadata": {},
   "source": [
    "By using this equation we obtain:"
   ]
  },
  {
   "cell_type": "markdown",
   "metadata": {},
   "source": [
    "$$\n",
    "\\begin{split}\n",
    "\\int \\limits_{x_{i}}^{x_{i+1}} P_{1} \\left[ x_{i} , x_{i+1} \\right] \\, d x \n",
    "&=\n",
    "\\int \\limits_{x_{i}}^{x_{i+1}} \\left[ \\frac{f_{i+1}}{h} \\, \\left( x - x_{i}\\right) - \\frac{f_{i}}{h} \\, \\left( x - x_{i+1}\\right) \\right] dx \\\\\n",
    "&=\n",
    "\\left[ \\frac{f_{i+1}}{h} \\, \\frac{\\left( x - x_{i}\\right)^{2}}{2} - \n",
    "\\frac{f_{i}}{h} \\, \\frac{\\left( x - x_{i+1}\\right)^{2}}{2} \\right] \\Bigg|^{\\, x_{i+1}}_{\\, x_{i}} \\\\\n",
    "&=\n",
    "h \\, \\left( \\frac{f_{i}}{2} + \\frac{f_{i+1}}{2} \\right)\n",
    "\\end{split} \\: ,\n",
    "$$"
   ]
  },
  {
   "cell_type": "markdown",
   "metadata": {},
   "source": [
    "which is known as **trapezoidal rule**. From the Trapezoidal rule, we obtain"
   ]
  },
  {
   "cell_type": "markdown",
   "metadata": {},
   "source": [
    "$$\n",
    "\\begin{split}\n",
    "\\int \\limits_{a}^{b} f \\, (x) \\, d x \n",
    "&\\approx \n",
    "\\int \\limits_{x_{1}}^{x_{2}} P_{1} \\left[ x_{1} , x_{2} \\right] \\, d x + \n",
    "\\int \\limits_{x_{2}}^{x_{3}} P_{1} \\left[ x_{2} , x_{3} \\right] \\, d x + \n",
    "\\cdots + \n",
    "\\int \\limits_{x_{N}}^{x_{N+1}} P_{1} \\left[ x_{N} , x_{N+1} \\right] \\, d x \\\\\\\\\n",
    "&\\approx\n",
    "h \\, \\left( \\frac{f_{1}}{2} + \\frac{f_{2}}{2} \\right) + \n",
    "h \\, \\left( \\frac{f_{2}}{2} + \\frac{f_{3}}{2} \\right) +\n",
    "\\cdots\n",
    "h \\, \\left( \\frac{f_{N}}{2} + \\frac{f_{N+1}}{2} \\right) \\\\\\\\\n",
    "&\\approx\n",
    "h \\, \\left( \\frac{f_{1}}{2} + f_{2} + \\cdots + f_{N} + \\frac{f_{N+1}}{2} \\right)\n",
    "\\end{split} \\: ,\n",
    "$$"
   ]
  },
  {
   "cell_type": "markdown",
   "metadata": {},
   "source": [
    "which is known as the **composite trapezoidal rule**."
   ]
  },
  {
   "cell_type": "markdown",
   "metadata": {},
   "source": [
    "## Simpson's rule"
   ]
  },
  {
   "cell_type": "markdown",
   "metadata": {},
   "source": [
    "Divide the definite integral over $\\left[ a, b \\right]$ into definite integrals as follows:"
   ]
  },
  {
   "cell_type": "markdown",
   "metadata": {},
   "source": [
    "$$\n",
    "\\int \\limits_{a}^{b} f \\, (x) \\, d x = \n",
    "\\int \\limits_{x_{1}}^{x_{3}} f \\, (x) \\, d x + \n",
    "\\int \\limits_{x_{3}}^{x_{5}} f \\, (x) \\, d x + \n",
    "\\cdots + \\int \\limits_{x_{N-1}}^{x_{N+1}} f \\, (x) \\, d x \\: .\n",
    "$$"
   ]
  },
  {
   "cell_type": "markdown",
   "metadata": {},
   "source": [
    "Now, consider that each integral can be approximated by:"
   ]
  },
  {
   "cell_type": "markdown",
   "metadata": {},
   "source": [
    "$$\n",
    "\\int \\limits_{x_{i}}^{x_{i+2}} f \\, (x) \\, d x \\approx \\int \\limits_{x_{i}}^{x_{i+2}} P_{2} \\left[ x_{i} , x_{i+1}, x_{i+2} \\right] \\, d x \\: ,\n",
    "$$"
   ]
  },
  {
   "cell_type": "markdown",
   "metadata": {},
   "source": [
    "where $P_{2} \\left[ x_{i} , x_{i+1}, x_{i+2} \\right]$ is a [Lagrange's polynomial](https://nbviewer.jupyter.org/github/birocoles/Disciplina-metodos-computacionais/blob/master/Content/lagrange.ipynb) of order 2 passing through the points $x_{i}$, $x_{i+1}$, and $x_{i+2}$, $i = 1, 3, 5, \\dots, N-1$. Here, this polynomial assumes the following form:"
   ]
  },
  {
   "cell_type": "markdown",
   "metadata": {},
   "source": [
    "$$\n",
    "\\begin{split}\n",
    "P_{2} \\left[ x_{i} , x_{i+1}, x_{i+2} \\right] \n",
    "&= \n",
    "\\left( \\frac{x - x_{i+1}}{x_{i} - x_{i+1}} \\right) \n",
    "\\left( \\frac{x - x_{i+2}}{x_{i} - x_{i+2}} \\right) \\,\n",
    "f_{i} +\n",
    "\\left( \\frac{x - x_{i}}{x_{i+1} - x_{i}} \\right) \n",
    "\\left( \\frac{x - x_{i+2}}{x_{i+1} - x_{i+2}} \\right) \\,\n",
    "f_{i+1} +\n",
    "\\left( \\frac{x - x_{i}}{x_{i+2} - x_{i}} \\right) \n",
    "\\left( \\frac{x - x_{i+1}}{x_{i+2} - x_{i+1}} \\right) \\,\n",
    "f_{i+2} \\\\\\\\\n",
    "&= \n",
    "\\frac{f_{i}}{2 \\, h^{2}} \\, \\left( x - x_{i+1}\\right) \\left( x - x_{i+2}\\right) - \n",
    "\\frac{f_{i+1}}{h^{2}} \\, \\left( x - x_{i}\\right) \\left( x - x_{i+2}\\right) +\n",
    "\\frac{f_{i+2}}{2 \\, h^{2}} \\, \\left( x - x_{i}\\right) \\left( x - x_{i+1}\\right)\n",
    "\\end{split} \\: .\n",
    "$$"
   ]
  },
  {
   "cell_type": "markdown",
   "metadata": {},
   "source": [
    "For convenience, we rewrite this equation by using $x_{i} = x_{i+1} - h$ and $x_{i+2} = x_{i+1} + h$:"
   ]
  },
  {
   "cell_type": "markdown",
   "metadata": {},
   "source": [
    "$$\n",
    "P_{2} \\left[ x_{i} , x_{i+1}, x_{i+2} \\right] =\n",
    "\\frac{f_{i}}{2 \\, h^{2}} \\, \\left( x - x_{i+1} \\right) \\left( x - x_{i+1} - h \\right) - \n",
    "\\frac{f_{i+1}}{h^{2}} \\, \\left( x - x_{i+1} + h \\right) \\left( x - x_{i+1} - h \\right) +\n",
    "\\frac{f_{i+2}}{2 \\, h^{2}} \\, \\left( x - x_{i+1} + h \\right) \\left( x - x_{i+1}\\right)\n",
    "\\: .\n",
    "$$"
   ]
  },
  {
   "cell_type": "markdown",
   "metadata": {},
   "source": [
    "Now, we define a new variable $m = x - x_{i+1}$ and change the variables of the integral as follows:"
   ]
  },
  {
   "cell_type": "markdown",
   "metadata": {},
   "source": [
    "$$\n",
    "\\begin{split}\n",
    "\\int \\limits_{x_{i}}^{x_{i+2}} P_{2} \\left[ x_{i} , x_{i+1}, x_{i+2} \\right] \\, d x \n",
    "&=\n",
    "\\int \\limits_{-h}^{h} \\frac{f_{i}}{2 \\, h^{2}} \\, \\left( m^{2} - h \\, m \\right) \\, d m  - \n",
    "\\int \\limits_{-h}^{h} \\frac{f_{i+1}}{h^{2}} \\, \\left( m^{2} - h^{2} \\right) \\, d m  +\n",
    "\\int \\limits_{-h}^{h} \\frac{f_{i+2}}{2 \\, h^{2}} \\, \\left( m^{2} + h \\, m \\right) \\, d m \\\\\\\\\n",
    "&=\n",
    "\\left[ \\frac{f_{i}}{2 \\, h^{2}} \\, \\left( \\frac{m^{3}}{3} - h \\, \\frac{m^{2}}{2} \\right) \\right] \\Bigg|^{\\, h}_{\\, -h}  - \n",
    "\\left[ \\frac{f_{i+1}}{h^{2}} \\, \\left( \\frac{m^{3}}{3} - h^{2} \\, m \\right) \\right] \\Bigg|^{\\, h}_{\\, -h}  +\n",
    "\\left[ \\frac{f_{i+2}}{2 \\, h^{2}} \\, \\left( \\frac{m^{3}}{3} + h \\, \\frac{m^{2}}{2} \\right) \\right] \\Bigg|^{\\, h}_{\\, -h} \\\\\\\\\n",
    "&=\n",
    "\\frac{h}{3} \\left( \\, f_{i} + 4 \\, f_{i+1} + f_{i+2} \\, \\right)\n",
    "\\end{split} \\: ,\n",
    "$$"
   ]
  },
  {
   "cell_type": "markdown",
   "metadata": {},
   "source": [
    "which is known as **Simpson's rule**. From the Simpson's rule, we obtain"
   ]
  },
  {
   "cell_type": "markdown",
   "metadata": {},
   "source": [
    "$$\n",
    "\\begin{split}\n",
    "\\int \\limits_{a}^{b} f \\, (x) \\, d x \n",
    "&\\approx \n",
    "\\int \\limits_{x_{1}}^{x_{3}} P_{2} \\left[ x_{1} , x_{2}, x_{3} \\right] \\, d x + \n",
    "\\int \\limits_{x_{3}}^{x_{5}} P_{2} \\left[ x_{3} , x_{4}, x_{5} \\right] \\, d x + \n",
    "\\cdots + \n",
    "\\int \\limits_{x_{N-1}}^{x_{N+1}} P_{2} \\left[ x_{N-1} , x_{N}, x_{N+1} \\right] \\, d x \\\\\\\\\n",
    "&\\approx\n",
    "\\frac{h}{3} \\left( \\, f_{1} + 4 \\, f_{2} + f_{3} \\, \\right) + \n",
    "\\frac{h}{3} \\left( \\, f_{3} + 4 \\, f_{4} + f_{5} \\, \\right) +\n",
    "\\cdots\n",
    "\\frac{h}{3} \\left( \\, f_{N-1} + 4 \\, f_{N} + f_{N-1} \\, \\right) \\\\\\\\\n",
    "&\\approx\n",
    "\\frac{h}{3} \\, \\left( f_{1} + 4 \\, f_{2} + 2 \\, f_{3} +\n",
    "4 \\, f_{4} + 2 \\, f_{5} + 4 \\, f_{6} + 2 \\, f_{7} + \\cdots + f_{N+1} \\right)\n",
    "\\end{split} \\: ,\n",
    "$$"
   ]
  },
  {
   "cell_type": "markdown",
   "metadata": {},
   "source": [
    "which is known as the **composite Simpson's rule**."
   ]
  },
  {
   "cell_type": "markdown",
   "metadata": {
    "collapsed": true
   },
   "source": [
    "### Exercise 29"
   ]
  },
  {
   "cell_type": "markdown",
   "metadata": {},
   "source": [
    "Consider a simple *vertical seismic profiling* problem where a downward-propagating seismic wavefront is generated at the surface by a source, and seismic waves are sensed by a string of seismometers in the borehole ([Aster et al., 2005](https://github.com/birocoles/Disciplina-metodos-computacionais#recommended-bibliography)). In this case, the arrival time $t_{i} \\equiv t \\, (z_{i})$ of the seismic wavefront located at depth $z_{i}$, $i = 1, \\dots, N$, is given by:"
   ]
  },
  {
   "cell_type": "markdown",
   "metadata": {},
   "source": [
    "$$\n",
    "t_{i} = \\int \\limits_{0}^{z_{i}} s \\, (\\eta) \\, d \\eta \\: ,\n",
    "$$"
   ]
  },
  {
   "cell_type": "markdown",
   "metadata": {},
   "source": [
    "where $s(\\eta)$ is the reciprocal of the seismic velocity (or *slowness*). Some references were listed below for those readers interested in this *vertical seismic profiling*:"
   ]
  },
  {
   "cell_type": "markdown",
   "metadata": {},
   "source": [
    "* Michel Dietrich and Michel Bouchon (1985). ”Synthetic vertical seismic profiles in elastic media.” GEOPHYSICS, 50(2), 224-234. doi: [10.1190/1.1441912](http://dx.doi.org/10.1190/1.1441912)\n",
    "\n",
    "* Geoff J.M. Moret, William P. Clement, Michael D. Knoll, and Warren Barrash (2004). VSP traveltime inversion: Near‐surface issues. GEOPHYSICS, 69(2), 345-351. doi: [10.1190/1.1707053](http://dx.doi.org/10.1190/1.1707053)\n",
    "\n",
    "* Giulio Vignoli, Rita Deiana, and Giorgio Cassiani (2012). Focused inversion of vertical radar profile (VRP) traveltime data. GEOPHYSICS, 77(1), H9-H18. doi: [10.1190/geo2011-0147.1](http://dx.doi.org/10.1190/geo2011-0147.1)\n",
    "\n",
    "* Yanghua Wang (2014). Stable Q analysis on vertical seismic profiling data. GEOPHYSICS, 79(4), D217-D225. doi: [10.1190/geo2013-0273.1](http://dx.doi.org/10.1190/geo2013-0273.1)"
   ]
  },
  {
   "cell_type": "markdown",
   "metadata": {},
   "source": [
    "This exercise consists in simulating a vertical seismic profiling by numerically integrating the definite integral shown above along the z axis. To do this, follow the steps below:"
   ]
  },
  {
   "cell_type": "markdown",
   "metadata": {},
   "source": [
    "1. Create an array with regularly spaced depths $z_{j}$, $j = 1, \\dots, M$. \n",
    "\n",
    "2. Create a slowness model formed by an array whose $j$th element represents the slowness at depth $z_{j}$, $j = 1, \\dots, M$. \n",
    "\n",
    "3. Create a function `comp_trapezoid` and a function `comp_simp` for implementing, respectively, the *composite trapezoidal rule* and the *composite Simpson's rule*. Use these functions for simulating the vertical seismic profiling. Each function must receive (i) the slowness model and (ii) an array whose $i$th element $z_{i}$, $i = 1, \\dots, N$, represents a depth on which the arrival $t_{i}$ is calculated. Each function must return an array with the calculated arrival times $t_{i}$, $i = 1, \\dots, N$.\n",
    "\n",
    "4. Plot a graph of depth against arrival time for the result obtained with each function."
   ]
  },
  {
   "cell_type": "code",
   "execution_count": 1,
   "metadata": {
    "collapsed": true
   },
   "outputs": [],
   "source": [
    "%matplotlib inline\n",
    "import numpy as np\n",
    "import matplotlib.pyplot as plt"
   ]
  },
  {
   "cell_type": "code",
   "execution_count": 2,
   "metadata": {
    "collapsed": true
   },
   "outputs": [],
   "source": [
    "# discretization step (in m)\n",
    "dz = 1.\n",
    "\n",
    "# auxiliary variable used for creating the model\n",
    "aux = [700, 1300, 800, 500]"
   ]
  },
  {
   "cell_type": "code",
   "execution_count": 3,
   "metadata": {
    "collapsed": false
   },
   "outputs": [],
   "source": [
    "# thickness of the four layers forming the model\n",
    "h = np.array(aux)*dz\n",
    "\n",
    "# depth in m\n",
    "zmax = np.sum(h) # maximum depth\n",
    "nz = int(zmax/dz) # number of discretizing points\n",
    "z = np.linspace(0., zmax, nz)\n",
    "\n",
    "# P-wave velocity in m/s\n",
    "vp = [1000., 1500., 2500., 4500.]\n",
    "v = np.zeros_like(z)\n",
    "i0 = 0\n",
    "for (ai, vpi) in zip(aux, vp):\n",
    "    v[i0:i0+ai] = vpi\n",
    "    i0 += ai"
   ]
  },
  {
   "cell_type": "code",
   "execution_count": 4,
   "metadata": {
    "collapsed": false
   },
   "outputs": [],
   "source": [
    "s = 1./v # slowness in s/m"
   ]
  },
  {
   "cell_type": "code",
   "execution_count": 16,
   "metadata": {
    "collapsed": false
   },
   "outputs": [
    {
     "data": {
      "image/png": "[encoded data removed]",
      "text/plain": [
       "<matplotlib.figure.Figure at 0xa83c198>"
      ]
     },
     "metadata": {},
     "output_type": "display_data"
    }
   ],
   "source": [
    "plt.figure(figsize=(14,10))\n",
    "\n",
    "plt.subplot(1,2,1)\n",
    "plt.plot(v, z, '-r')\n",
    "plt.ylim(zmax, 0.)\n",
    "plt.xlim(np.min(v) - 0.05*(np.max(v) - np.min(v)), \n",
    "         np.max(v) + 0.05*(np.max(v) - np.min(v)))\n",
    "plt.xlabel('Velocity (m/s)', fontsize=14)\n",
    "plt.ylabel('z (m)', fontsize=14)\n",
    "\n",
    "plt.subplot(1,2,2)\n",
    "plt.plot(1000.0*s, z, '-r')\n",
    "plt.ylim(zmax, 0.)\n",
    "plt.xlim(np.min(1000.0*s) - 1000.0*0.05*(np.max(s) - np.min(s)), \n",
    "         np.max(1000.0*s) + 1000.0*0.05*(np.max(s) - np.min(s)))\n",
    "plt.xlabel('Slowness ($\\\\times \\, 10^{-4}$ s/m)', fontsize=14)\n",
    "#plt.ylabel('z (m)', fontsize=14)\n",
    "\n",
    "plt.show()"
   ]
  },
  {
   "cell_type": "code",
   "execution_count": null,
   "metadata": {
    "collapsed": true
   },
   "outputs": [],
   "source": []
  }
 ],
 "metadata": {
  "kernelspec": {
   "display_name": "Python 2",
   "language": "python",
   "name": "python2"
  },
  "language_info": {
   "codemirror_mode": {
    "name": "ipython",
    "version": 2
   },
   "file_extension": ".py",
   "mimetype": "text/x-python",
   "name": "python",
   "nbconvert_exporter": "python",
   "pygments_lexer": "ipython2",
   "version": "2.7.11"
  }
 },
 "nbformat": 4,
 "nbformat_minor": 0
}
