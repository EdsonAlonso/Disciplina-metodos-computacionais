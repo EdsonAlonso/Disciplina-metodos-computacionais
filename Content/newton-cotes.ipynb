{
 "cells": [
  {
   "cell_type": "markdown",
   "metadata": {},
   "source": [
    "# Newton-Cotes formulas"
   ]
  },
  {
   "cell_type": "markdown",
   "metadata": {},
   "source": [
    "Newton-Cotes formulas <sup>[[1]](https://en.wikipedia.org/wiki/Newton%E2%80%93Cotes_formulas)</sup> <sup>[[2]](http://mathworld.wolfram.com/Newton-CotesFormulas.html)</sup>"
   ]
  },
  {
   "cell_type": "markdown",
   "metadata": {
    "collapsed": true
   },
   "source": [
    "### Exercise 23"
   ]
  },
  {
   "cell_type": "markdown",
   "metadata": {},
   "source": [
    "Consider a simple *vertical seismic profiling* problem where a downward-propagating seismic wavefront is generated at the surface by a source, and seismic waves are sensed by a string of seismometers in the borehole ([Aster et al., 2005](https://github.com/birocoles/Disciplina-metodos-computacionais#recommended-bibliography)). In this case, the arrival time $t_{i} \\equiv t \\, (z_{i})$ of the seismic wavefront located at depth $z_{i}$, $i = 1, \\dots, N$, is given by:"
   ]
  },
  {
   "cell_type": "markdown",
   "metadata": {},
   "source": [
    "$$\n",
    "t_{i} = \\int \\limits_{0}^{z_{i}} s \\, (\\eta) \\, d \\eta \\: ,\n",
    "$$"
   ]
  },
  {
   "cell_type": "markdown",
   "metadata": {},
   "source": [
    "where $s(\\eta)$ is the reciprocal of the seismic velocity (or *slowness*). some references were listed below for those readers interested in this *vertical seismic profiling*:"
   ]
  },
  {
   "cell_type": "markdown",
   "metadata": {},
   "source": [
    "* Michel Dietrich and Michel Bouchon (1985). ”Synthetic vertical seismic profiles in elastic media.” GEOPHYSICS, 50(2), 224-234. doi: [10.1190/1.1441912](http://dx.doi.org/10.1190/1.1441912)\n",
    "\n",
    "* Geoff J.M. Moret, William P. Clement, Michael D. Knoll, and Warren Barrash (2004). VSP traveltime inversion: Near‐surface issues. GEOPHYSICS, 69(2), 345-351. doi: [10.1190/1.1707053](http://dx.doi.org/10.1190/1.1707053)\n",
    "\n",
    "* Giulio Vignoli, Rita Deiana, and Giorgio Cassiani (2012). Focused inversion of vertical radar profile (VRP) traveltime data. GEOPHYSICS, 77(1), H9-H18. doi: [10.1190/geo2011-0147.1](http://dx.doi.org/10.1190/geo2011-0147.1)\n",
    "\n",
    "* Yanghua Wang (2014). Stable Q analysis on vertical seismic profiling data. GEOPHYSICS, 79(4), D217-D225. doi: [10.1190/geo2013-0273.1](http://dx.doi.org/10.1190/geo2013-0273.1)"
   ]
  },
  {
   "cell_type": "markdown",
   "metadata": {},
   "source": [
    "This exercise consists in simulating a vertical seismic profiling by using the integral shown above. To do this, follows the steps below:"
   ]
  },
  {
   "cell_type": "markdown",
   "metadata": {},
   "source": [
    "1. Create a model formed by four layers, each one with a constant seismic velocity. \n",
    "\n",
    "2. Create a slowness model formed by an array whose $j$th element represents the slowness at depth $z_{j}$, $j = 1, \\dots, M$. \n",
    "\n",
    "3. "
   ]
  },
  {
   "cell_type": "code",
   "execution_count": 1,
   "metadata": {
    "collapsed": true
   },
   "outputs": [],
   "source": [
    "%matplotlib inline\n",
    "import numpy as np\n",
    "import matplotlib.pyplot as plt"
   ]
  },
  {
   "cell_type": "code",
   "execution_count": 2,
   "metadata": {
    "collapsed": true
   },
   "outputs": [],
   "source": [
    "# discretization step (in m)\n",
    "dz = 1.\n",
    "\n",
    "# auxiliary variable used for creating the model\n",
    "aux = [700, 1300, 800, 500]"
   ]
  },
  {
   "cell_type": "code",
   "execution_count": 3,
   "metadata": {
    "collapsed": false
   },
   "outputs": [],
   "source": [
    "# thickness of the four layers forming the model\n",
    "h = np.array(aux)*dz\n",
    "\n",
    "# depth in m\n",
    "zmax = np.sum(h) # maximum depth\n",
    "nz = int(zmax/dz) # number of discretizing points\n",
    "z = np.linspace(0., zmax, nz)\n",
    "\n",
    "# P-wave velocity in m/s\n",
    "vp = [1000., 1500., 2500., 4500.]\n",
    "v = np.zeros_like(z)\n",
    "i0 = 0\n",
    "for (ai, vpi) in zip(aux, vp):\n",
    "    v[i0:i0+ai] = vpi\n",
    "    i0 += ai"
   ]
  },
  {
   "cell_type": "code",
   "execution_count": 4,
   "metadata": {
    "collapsed": false
   },
   "outputs": [],
   "source": [
    "s = 1./v # slowness in s/m"
   ]
  },
  {
   "cell_type": "code",
   "execution_count": null,
   "metadata": {
    "collapsed": true
   },
   "outputs": [],
   "source": []
  },
  {
   "cell_type": "code",
   "execution_count": 14,
   "metadata": {
    "collapsed": false
   },
   "outputs": [
    {
     "data": {
      "image/png": "[encoded data removed]",
      "text/plain": [
       "<matplotlib.figure.Figure at 0xbf4d5c0>"
      ]
     },
     "metadata": {},
     "output_type": "display_data"
    }
   ],
   "source": [
    "plt.figure(figsize=(7,10))\n",
    "\n",
    "plt.subplot(1,2,1)\n",
    "plt.title('Velocity (m/s)', fontsize=14)\n",
    "plt.plot(v, z, '-r')\n",
    "plt.ylim(zmax, 0.)\n",
    "plt.xlim(500., 5000.)\n",
    "plt.xlabel('t (s)', fontsize=12)\n",
    "plt.ylabel('z (m)', fontsize=12)\n",
    "\n",
    "plt.subplot(1,2,2)\n",
    "plt.title('slowness (s/m)', fontsize=14)\n",
    "plt.plot(s, z, '-r')\n",
    "plt.ylim(zmax, 0.)\n",
    "plt.xlim(500., 5000.)\n",
    "plt.xlabel('t (s)', fontsize=12)\n",
    "plt.ylabel('z (m)', fontsize=12)\n",
    "\n",
    "\n",
    "plt.show()"
   ]
  },
  {
   "cell_type": "code",
   "execution_count": null,
   "metadata": {
    "collapsed": true
   },
   "outputs": [],
   "source": []
  }
 ],
 "metadata": {
  "kernelspec": {
   "display_name": "Python 2",
   "language": "python",
   "name": "python2"
  },
  "language_info": {
   "codemirror_mode": {
    "name": "ipython",
    "version": 2
   },
   "file_extension": ".py",
   "mimetype": "text/x-python",
   "name": "python",
   "nbconvert_exporter": "python",
   "pygments_lexer": "ipython2",
   "version": "2.7.11"
  }
 },
 "nbformat": 4,
 "nbformat_minor": 0
}
