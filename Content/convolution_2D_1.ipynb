{
 "cells": [
  {
   "cell_type": "markdown",
   "metadata": {},
   "source": [
    "# 2D discrete convolution"
   ]
  },
  {
   "cell_type": "markdown",
   "metadata": {},
   "source": [
    "This notebook illustrates the 2D (discrete) linear and circular convolutions.\n",
    "\n",
    "* Jain, A. K. (1989), Fundamentals of Digital Image Processing, Prentice Hall, ISBN 978-0-13-336165-0.\n",
    "\n",
    "* Horn, R. A. and C. R. Johnson, (1991), Topics in Matrix Analysis, Cambridge University Press, ISBN 978-0-521-46713-1.\n",
    "\n",
    "* Notes at directory `Content/conv_1D2D/`"
   ]
  },
  {
   "cell_type": "code",
   "execution_count": 1,
   "metadata": {},
   "outputs": [],
   "source": [
    "import numpy as np\n",
    "from scipy.fft import fft2, ifft2\n",
    "from scipy.linalg import toeplitz, circulant, dft\n",
    "from scipy.signal import convolve2d\n",
    "import matplotlib.pyplot as plt\n",
    "import my_functions as mfun"
   ]
  },
  {
   "cell_type": "markdown",
   "metadata": {},
   "source": [
    "## Topics"
   ]
  },
  {
   "cell_type": "markdown",
   "metadata": {},
   "source": [
    "* [2D linear convolution](#sec1)\n",
    "\n",
    "    * [Matrix-vector approach](#sec1a)\n",
    "    \n",
    "    * [Fourier approach](#sec1b)\n",
    "\n",
    "* [2D circular convolution](#sec2)\n",
    "\n",
    "    * [Matrix-vector approach](#sec2a)\n",
    "    \n",
    "    * [Fourier approach](#sec2b)"
   ]
  },
  {
   "cell_type": "markdown",
   "metadata": {},
   "source": [
    "<a id='sec1'></a>\n",
    "## 2D linear convolution"
   ]
  },
  {
   "cell_type": "markdown",
   "metadata": {},
   "source": [
    "<a id='sec1a'></a>\n",
    "### Matrix-vector approach"
   ]
  },
  {
   "cell_type": "markdown",
   "metadata": {},
   "source": [
    "Let $\\mathbf{A}$ be an $M_{a} \\times N_{a}$ matrix and $\\mathbf{B}$ be an $M_{b} \\times N_{b}$ matrix. The *2D linear convolution* of $\\mathbf{A}$ and $\\mathbf{B}$ generates a $M_{w} \\times N_{w}$ matrix $\\mathbf{W}$, where $M_{w} = M_{a} + M_{b} - 1$ and $N_{w} = N_{a} + N_{b} - 1$. It can be shown that (see the notes at `Content/conv_1D2D/`) the 2D linear convolution leads to the following matrix-vector product (see the notebook `Block_Toeplitz_circulant_matrices`):"
   ]
  },
  {
   "cell_type": "markdown",
   "metadata": {},
   "source": [
    "<a id='eq1'></a>\n",
    "$$\n",
    "\\mathbf{w}_{padd} = \\mathbf{B}_{BTTB} \\, \\mathbf{a}_{padd} \\tag{1}\n",
    "$$\n",
    "\n",
    "where $\\mathbf{B}_{BTTB}$ is a BTTB matrix formed by $Q \\times Q$ blocks, where each block is a $P \\times P$ matrix, $Q = N_{a} + N_{b}$, $P = M_{a} + M_{b}$, \n",
    "\n",
    "<a id='eq2'></a>\n",
    "$$\n",
    "\\mathbf{w}_{padd} = \n",
    "\\begin{bmatrix}\n",
    "\\left( \\begin{array}{c} \\mathbf{w}_{0} \\\\ 0 \\end{array} \\right) \\\\\n",
    "\\vdots \\\\\n",
    "\\left( \\begin{array}{c} \\mathbf{w}_{Q-2} \\\\ 0 \\end{array} \\right) \\\\\n",
    "\\mathbf{0}_{P}\n",
    "\\end{bmatrix}_{\\, QP \\times 1} \\quad , \\tag{2}\n",
    "$$\n",
    "\n",
    "<a id='eq3'></a>\n",
    "$$\n",
    "\\mathbf{a}_{padd} = \n",
    "\\begin{bmatrix}\n",
    "\\left( \\begin{array}{c} \\mathbf{a}_{0} \\\\ \\mathbf{0}_{Mb} \\end{array} \\right) \\\\\n",
    "\\vdots \\\\\n",
    "\\left( \\begin{array}{c} \\mathbf{a}_{Na-1} \\\\ \\mathbf{0}_{Mb} \\end{array} \\right) \\\\\n",
    "\\mathbf{0}_{Nb \\, P}\n",
    "\\end{bmatrix}_{\\, QP \\times 1} \\quad , \\tag{3}\n",
    "$$"
   ]
  },
  {
   "cell_type": "markdown",
   "metadata": {},
   "source": [
    "$\\mathbf{w}_{k}$ is the $k$th column of $\\mathbf{W}$, $k = 0, \\dots, N_{w}-1$, $\\mathbf{a}_{n}$ is the $n$th column of $\\mathbf{A}$, $n = 0, \\dots, N_{a}-1$, and $\\mathbf{0}_{\\alpha}$ are $\\alpha \\times 1$ vectors with all elements equal to zero."
   ]
  },
  {
   "cell_type": "markdown",
   "metadata": {},
   "source": [
    "The following cells illustrate the particular case in which $M_{a} = 6$, $N_{a} = 4$, $M_{b} = 5$ and $N_{b} = 3$ (pages 11 and 12 of the notes at `Content/conv_1D2D/`)."
   ]
  },
  {
   "cell_type": "code",
   "execution_count": 2,
   "metadata": {},
   "outputs": [],
   "source": [
    "# define matrix A\n",
    "Ma = 6\n",
    "Na = 4\n",
    "\n",
    "A = 16*np.random.rand(Ma, Na) + 4\n",
    "\n",
    "# define matrix B\n",
    "Mb = 5\n",
    "Nb = 3\n",
    "\n",
    "B = np.arange(4, Mb*Nb+4).reshape((Mb, Nb))"
   ]
  },
  {
   "cell_type": "code",
   "execution_count": 3,
   "metadata": {},
   "outputs": [
    {
     "name": "stdout",
     "output_type": "stream",
     "text": [
      "[[ 4.86148278 16.72706414 11.99205786 15.11074676]\n",
      " [ 9.65413427 11.87194185 15.43673382  4.5876375 ]\n",
      " [15.21265655 16.01194221 12.8836793  10.86913558]\n",
      " [11.13089169 11.08535334 13.44954873 15.19673024]\n",
      " [13.51770968 18.6607736  18.22726391  7.02433304]\n",
      " [ 5.54418089 15.19890411 16.21781925  8.75597683]]\n"
     ]
    }
   ],
   "source": [
    "print(A)"
   ]
  },
  {
   "cell_type": "code",
   "execution_count": 4,
   "metadata": {},
   "outputs": [
    {
     "name": "stdout",
     "output_type": "stream",
     "text": [
      "[[ 4  5  6]\n",
      " [ 7  8  9]\n",
      " [10 11 12]\n",
      " [13 14 15]\n",
      " [16 17 18]]\n"
     ]
    }
   ],
   "source": [
    "print(B)"
   ]
  },
  {
   "cell_type": "code",
   "execution_count": 5,
   "metadata": {},
   "outputs": [],
   "source": [
    "Q = Na + Nb # number of blocks along rows/columns\n",
    "P = Ma + Mb # number of rows/columns in each block"
   ]
  },
  {
   "cell_type": "code",
   "execution_count": 6,
   "metadata": {},
   "outputs": [],
   "source": [
    "# define the first column and first row of the 2*Q - 1 blocks \n",
    "# located along the first block row and column\n",
    "\n",
    "# first columns of blocks along the first block row\n",
    "columns = []\n",
    "for n in range(Q-1):\n",
    "    columns.append(np.zeros(P))\n",
    "\n",
    "# first columns of the non-null blocks along the first block column\n",
    "for n in range(Nb):\n",
    "    columns.append(np.hstack([B[:,n], np.zeros(Ma)]))\n",
    "\n",
    "# first columns of last blocks along the first block column\n",
    "for n in range(Na):\n",
    "    columns.append(np.zeros(P))\n",
    "\n",
    "columns = np.vstack(columns)\n",
    "\n",
    "# first rows of all blocks along the first block row and column\n",
    "rows = np.zeros((2*Q - 1, P))"
   ]
  },
  {
   "cell_type": "code",
   "execution_count": 7,
   "metadata": {},
   "outputs": [
    {
     "name": "stdout",
     "output_type": "stream",
     "text": [
      "(13, 11) 7 11\n"
     ]
    }
   ],
   "source": [
    "print(columns.shape, Q, P)"
   ]
  },
  {
   "cell_type": "code",
   "execution_count": 8,
   "metadata": {},
   "outputs": [
    {
     "name": "stdout",
     "output_type": "stream",
     "text": [
      "(13, 11) 7 11\n"
     ]
    }
   ],
   "source": [
    "print(rows.shape, Q, P)"
   ]
  },
  {
   "cell_type": "code",
   "execution_count": 9,
   "metadata": {},
   "outputs": [],
   "source": [
    "# create a list of blocks \n",
    "list_of_blocks = []\n",
    "for block_column, block_row in zip(columns, rows):\n",
    "    list_of_blocks.append(toeplitz(block_column, block_row))\n",
    "list_of_blocks = np.stack(list_of_blocks, axis=0)"
   ]
  },
  {
   "cell_type": "code",
   "execution_count": 10,
   "metadata": {},
   "outputs": [],
   "source": [
    "# create the BTTB matrix from the list of blocks\n",
    "ind_col, ind_row = np.ogrid[0:Q, Q-1:-1:-1]\n",
    "indices = ind_col + ind_row\n",
    "B_BTTB = np.hstack(np.hstack(list_of_blocks[indices]))"
   ]
  },
  {
   "cell_type": "code",
   "execution_count": 11,
   "metadata": {},
   "outputs": [
    {
     "name": "stdout",
     "output_type": "stream",
     "text": [
      "(77, 77) 7 11\n"
     ]
    }
   ],
   "source": [
    "print(B_BTTB.shape, Q, P)"
   ]
  },
  {
   "cell_type": "code",
   "execution_count": 12,
   "metadata": {},
   "outputs": [],
   "source": [
    "# vector a containing the stacked-padded columns of matrix A\n",
    "a_padd = []\n",
    "\n",
    "# non-null subvetors\n",
    "for n in range(Na):\n",
    "    a_padd.append(np.hstack([A[:,n], np.zeros(Mb)]))\n",
    "\n",
    "# null subvectors\n",
    "for n in range(Nb):\n",
    "    a_padd.append(np.zeros(P))\n",
    "\n",
    "a_padd = np.hstack(a_padd)"
   ]
  },
  {
   "cell_type": "code",
   "execution_count": 13,
   "metadata": {},
   "outputs": [
    {
     "name": "stdout",
     "output_type": "stream",
     "text": [
      "(77,) 7 11\n"
     ]
    }
   ],
   "source": [
    "print(a_padd.shape, Q, P)"
   ]
  },
  {
   "cell_type": "code",
   "execution_count": 14,
   "metadata": {},
   "outputs": [
    {
     "data": {
      "image/png": "[encoded data removed]",
      "text/plain": [
       "<Figure size 720x432 with 3 Axes>"
      ]
     },
     "metadata": {
      "needs_background": "light"
     },
     "output_type": "display_data"
    }
   ],
   "source": [
    "plt.figure(figsize=(10, 6))\n",
    "\n",
    "plt.subplot(1,2,1)\n",
    "plt.title('$\\mathbf{B}_{BTTB}$', fontsize=18)\n",
    "plt.matshow(B_BTTB, fignum=0, vmin = 0, vmax = 20, cmap='gist_rainbow_r')\n",
    "plt.xticks(ticks=np.arange(Q)*P - 0.5, labels=[])\n",
    "plt.yticks(ticks=np.arange(Q)*P - 0.5, labels=[])\n",
    "plt.grid(color='k', linewidth=2)\n",
    "\n",
    "plt.subplot(1,2,2)\n",
    "plt.title('$\\mathbf{a}_{padd}$', fontsize=18)\n",
    "plt.matshow(np.reshape(a_padd, (a_padd.size,1)), fignum=0, \n",
    "            vmin = 0, vmax = 20, cmap='gist_rainbow_r')\n",
    "plt.colorbar()\n",
    "plt.xticks(ticks=[5], labels=[])\n",
    "plt.yticks(ticks=np.arange(Q)*P - 0.5, labels=[])\n",
    "plt.grid(color='k', linewidth=2)\n",
    "\n",
    "plt.tight_layout()\n",
    "\n",
    "plt.show()"
   ]
  },
  {
   "cell_type": "code",
   "execution_count": 15,
   "metadata": {},
   "outputs": [],
   "source": [
    "# partitioned vector containing the 2D linear convolution\n",
    "w_B_BTTB_a_padd = np.dot(B_BTTB, a_padd)"
   ]
  },
  {
   "cell_type": "code",
   "execution_count": 16,
   "metadata": {},
   "outputs": [
    {
     "name": "stdout",
     "output_type": "stream",
     "text": [
      "(77,) 7 11\n"
     ]
    }
   ],
   "source": [
    "print(w_B_BTTB_a_padd.shape, Q, P)"
   ]
  },
  {
   "cell_type": "code",
   "execution_count": 17,
   "metadata": {},
   "outputs": [
    {
     "name": "stdout",
     "output_type": "stream",
     "text": [
      "(11, 7) 7 11\n"
     ]
    }
   ],
   "source": [
    "# reorganize the elements of w_B_BTTB_a_padd along the columns of a matrix W_B_BTTB_a_padd\n",
    "W_B_BTTB_a_padd = np.reshape(w_B_BTTB_a_padd, (Q, P)).T\n",
    "print(W_B_BTTB_a_padd.shape, Q, P)"
   ]
  },
  {
   "cell_type": "code",
   "execution_count": 18,
   "metadata": {},
   "outputs": [
    {
     "name": "stdout",
     "output_type": "stream",
     "text": [
      "(10, 6) 7 11\n"
     ]
    }
   ],
   "source": [
    "# finally, remove the null elements of W_B_BTTB_a_padd\n",
    "W_B_BTTB_a_padd = W_B_BTTB_a_padd[:P-1, :Q-1]\n",
    "print(W_B_BTTB_a_padd.shape, Q, P)"
   ]
  },
  {
   "cell_type": "code",
   "execution_count": 19,
   "metadata": {},
   "outputs": [],
   "source": [
    "# compute the 2D linear convolution with scipy.signal.convolve2d\n",
    "W_scipy = convolve2d(in1=A, in2=B, mode='full')"
   ]
  },
  {
   "cell_type": "code",
   "execution_count": 20,
   "metadata": {},
   "outputs": [
    {
     "name": "stdout",
     "output_type": "stream",
     "text": [
      "(10, 6) 7 11\n"
     ]
    }
   ],
   "source": [
    "print(W_scipy.shape, Q, P)"
   ]
  },
  {
   "cell_type": "code",
   "execution_count": 21,
   "metadata": {},
   "outputs": [
    {
     "data": {
      "text/plain": [
       "True"
      ]
     },
     "execution_count": 21,
     "metadata": {},
     "output_type": "execute_result"
    }
   ],
   "source": [
    "# compare the results\n",
    "np.allclose(W_B_BTTB_a_padd, W_scipy)"
   ]
  },
  {
   "cell_type": "markdown",
   "metadata": {},
   "source": [
    "We have just computed the linear convolution of $\\mathbf{A}$ and $\\mathbf{B}$. What about the linear convolution of $\\mathbf{B}$ and $\\mathbf{A}$?"
   ]
  },
  {
   "cell_type": "markdown",
   "metadata": {},
   "source": [
    "<a id='sec1b'></a>\n",
    "### Fourier approach"
   ]
  },
  {
   "cell_type": "markdown",
   "metadata": {},
   "source": [
    "The 2D linear convolution ([equation 1](#eq1)) can also be computed by using a Fourier approach (see the notebook `Block_Toeplitz_circulant_matrices`):"
   ]
  },
  {
   "cell_type": "markdown",
   "metadata": {},
   "source": [
    "<a id='eq4'></a>\n",
    "$$\n",
    "\\mathbf{F}_{(P)}^{\\ast} \\left[ \\mathbf{L} \\circ \\left( \\mathbf{F}_{(P)} \\mathbf{A}_{padd} \\, \\mathbf{F}_{(Q)} \\right) \\right] \\mathbf{F}_{(Q)}^{\\ast} = \\mathbf{W}_{padd} \\: , \\tag{4}\n",
    "$$\n",
    "\n",
    "where $\\mathbf{F}_{(Q)}$ and $\\mathbf{F}_{(P)}$ are the Fourier matrices of order $Q$ and $P$, respectively, normalized by $\\sqrt{Q}$ and $\\sqrt{P}$ (see the notebook `fourier_1D_4`), $\\mathbf{W}_{padd}$ and $\\mathbf{A}_{padd}$ are $P \\times Q$ matrices obtained, respectively, by reorganizing the vectors $\\mathbf{w}_{padd}$ ([equation 2](#eq2)) and $\\mathbf{a}_{padd}$ ([equation 3](#eq3)) along their columns and\n",
    "\n",
    "<a id='eq5'></a>\n",
    "$$\n",
    "\\mathbf{L} = \\sqrt{QP} \\; \\mathbf{F}_{(P)} \\, \\mathbf{B}_{padd} \\, \\mathbf{F}_{(Q)} \\: , \\tag{5}\n",
    "$$\n",
    "\n",
    "where $\\mathbf{B}_{padd}$ is a $P \\times Q$ matrix obtained by padding matrix $\\mathbf{B}$ with zeros. Notice that, similarly, $\\mathbf{A}_{padd}$ is a $P \\times Q$ matrix obtained by padding matrix $\\mathbf{A}$ with zeros. See equations 4b and 9c of the notebook `Block_Toeplitz_circulant_matrices`."
   ]
  },
  {
   "cell_type": "code",
   "execution_count": 22,
   "metadata": {},
   "outputs": [],
   "source": [
    "# matrix B_padd\n",
    "B_padd = np.hstack([np.vstack([B, np.zeros((Ma, Nb))]), \n",
    "                    np.zeros((P, Na))])"
   ]
  },
  {
   "cell_type": "code",
   "execution_count": 23,
   "metadata": {},
   "outputs": [
    {
     "name": "stdout",
     "output_type": "stream",
     "text": [
      "(11, 7) 7 11\n"
     ]
    }
   ],
   "source": [
    "print(B_padd.shape, Q, P)"
   ]
  },
  {
   "cell_type": "code",
   "execution_count": 24,
   "metadata": {},
   "outputs": [],
   "source": [
    "# matrix L\n",
    "L = np.sqrt(Q*P)*fft2(x=B_padd, norm='ortho')"
   ]
  },
  {
   "cell_type": "code",
   "execution_count": 25,
   "metadata": {},
   "outputs": [],
   "source": [
    "# matrix A_padd\n",
    "A_padd = np.reshape(a_padd, (Q, P)).T"
   ]
  },
  {
   "cell_type": "code",
   "execution_count": 26,
   "metadata": {},
   "outputs": [
    {
     "name": "stdout",
     "output_type": "stream",
     "text": [
      "(11, 7) 7 11\n"
     ]
    }
   ],
   "source": [
    "print(A_padd.shape, Q, P)"
   ]
  },
  {
   "cell_type": "code",
   "execution_count": 27,
   "metadata": {},
   "outputs": [],
   "source": [
    "# compute a dummy matrix H\n",
    "H = L*fft2(x=A_padd, norm='ortho')"
   ]
  },
  {
   "cell_type": "code",
   "execution_count": 28,
   "metadata": {},
   "outputs": [],
   "source": [
    "# matrix W_padd (represented by W_lin_conv_fft)\n",
    "W_lin_conv_fft = ifft2(x=H, norm='ortho')\n",
    "\n",
    "# matrix W (obtained by removing the zeros from W_lin_conv_fft)\n",
    "W_lin_conv_fft = W_lin_conv_fft[:P-1, :Q-1]"
   ]
  },
  {
   "cell_type": "code",
   "execution_count": 29,
   "metadata": {},
   "outputs": [
    {
     "data": {
      "text/plain": [
       "True"
      ]
     },
     "execution_count": 29,
     "metadata": {},
     "output_type": "execute_result"
    }
   ],
   "source": [
    "# compare the result with that obtained via matrix-vector\n",
    "np.allclose(W_lin_conv_fft, W_B_BTTB_a_padd)"
   ]
  },
  {
   "cell_type": "markdown",
   "metadata": {},
   "source": [
    "<a id='sec2'></a>\n",
    "## 2D circular convolution"
   ]
  },
  {
   "cell_type": "markdown",
   "metadata": {},
   "source": [
    "<a id='sec2a'></a>\n",
    "### Matrix-vector approach"
   ]
  },
  {
   "cell_type": "markdown",
   "metadata": {},
   "source": [
    "Let $\\mathbf{A}$ and $\\mathbf{B}$ be two $M \\times N$ matrices. The *2D circular convolution* of $\\mathbf{A}$ and $\\mathbf{B}$ generates an $M \\times N$ matrix $\\mathbf{W}$. It can be shown that (see the notes at `Content/conv_1D2D/`) the 2D circular convolution leads to the following matrix-vector product (see the notebook `Block_Toeplitz_circulant_matrices`):"
   ]
  },
  {
   "cell_type": "markdown",
   "metadata": {},
   "source": [
    "<a id='eq6'></a>\n",
    "$$\n",
    "\\mathbf{w} = \\mathbf{C}_{BCCB} \\, \\mathbf{a} \\tag{6}\n",
    "$$\n",
    "\n",
    "where $\\mathbf{C}_{BCCB}$ is a BCCB matrix formed by $Q \\times Q$ blocks, where each block is a $P \\times P$ matrix, $Q = N$, $P = M$, \n",
    "\n",
    "<a id='eq7'></a>\n",
    "$$\n",
    "\\mathbf{w} = \n",
    "\\begin{bmatrix}\n",
    "\\mathbf{w}_{0} \\\\\n",
    "\\vdots \\\\\n",
    "\\mathbf{w}_{Q-1} \\\\\n",
    "\\end{bmatrix}_{\\, QP \\times 1} \\quad , \\tag{7}\n",
    "$$\n",
    "\n",
    "<a id='eq8'></a>\n",
    "$$\n",
    "\\mathbf{a} = \n",
    "\\begin{bmatrix}\n",
    "\\mathbf{a}_{0} \\\\\n",
    "\\vdots \\\\\n",
    "\\mathbf{a}_{Q-1}\n",
    "\\end{bmatrix}_{\\, QP \\times 1} \\quad , \\tag{8}\n",
    "$$"
   ]
  },
  {
   "cell_type": "markdown",
   "metadata": {},
   "source": [
    "$\\mathbf{w}_{k}$ is the $k$th column of $\\mathbf{W}$, $k = 0, \\dots, Q-1$, $\\mathbf{a}_{n}$ is the $n$th column of $\\mathbf{A}$, $n = 0, \\dots, Q-1$."
   ]
  },
  {
   "cell_type": "markdown",
   "metadata": {},
   "source": [
    "The following cells illustrate the particular case in which $M = 5$ and $N = 4$ (page 13 the notes at `Content/conv_1D2D/`)."
   ]
  },
  {
   "cell_type": "code",
   "execution_count": 30,
   "metadata": {},
   "outputs": [],
   "source": [
    "M = 5\n",
    "N = 4\n",
    "\n",
    "A = 20*np.random.rand(M, N)\n",
    "\n",
    "B = np.arange(M*N).reshape((M, N))"
   ]
  },
  {
   "cell_type": "code",
   "execution_count": 31,
   "metadata": {},
   "outputs": [
    {
     "name": "stdout",
     "output_type": "stream",
     "text": [
      "[[ 2.54705322 19.25073506 16.4440189   2.6173344 ]\n",
      " [ 3.33414801 13.85633367 19.2393466  12.81691556]\n",
      " [ 7.72358838 14.15029231  4.61142105  0.77229454]\n",
      " [11.75973867 18.72976129 17.37477157 10.110634  ]\n",
      " [17.868022    3.53671673  4.11640217  0.15455671]]\n"
     ]
    }
   ],
   "source": [
    "print(A)"
   ]
  },
  {
   "cell_type": "code",
   "execution_count": 32,
   "metadata": {},
   "outputs": [
    {
     "name": "stdout",
     "output_type": "stream",
     "text": [
      "[[ 0  1  2  3]\n",
      " [ 4  5  6  7]\n",
      " [ 8  9 10 11]\n",
      " [12 13 14 15]\n",
      " [16 17 18 19]]\n"
     ]
    }
   ],
   "source": [
    "print(B)"
   ]
  },
  {
   "cell_type": "code",
   "execution_count": 33,
   "metadata": {},
   "outputs": [],
   "source": [
    "Q = N # number of blocks along rows/columns\n",
    "P = M # number of rows/columns in each block"
   ]
  },
  {
   "cell_type": "code",
   "execution_count": 34,
   "metadata": {},
   "outputs": [],
   "source": [
    "# define the first column of the Q blocks \n",
    "# located along the first block column\n",
    "\n",
    "columns = B.T"
   ]
  },
  {
   "cell_type": "code",
   "execution_count": 35,
   "metadata": {},
   "outputs": [
    {
     "name": "stdout",
     "output_type": "stream",
     "text": [
      "(4, 5) 4 5\n"
     ]
    }
   ],
   "source": [
    "print(columns.shape, Q, P)"
   ]
  },
  {
   "cell_type": "code",
   "execution_count": 36,
   "metadata": {},
   "outputs": [],
   "source": [
    "# create a list of blocks \n",
    "list_of_blocks = []\n",
    "for block_column in columns:\n",
    "    list_of_blocks.append(circulant(block_column))\n",
    "list_of_blocks = np.stack(list_of_blocks, axis=0)"
   ]
  },
  {
   "cell_type": "code",
   "execution_count": 37,
   "metadata": {},
   "outputs": [],
   "source": [
    "# create the BCCB matrix from the list of blocks\n",
    "ind_col, ind_row = np.ogrid[0:Q, 0:-Q:-1]\n",
    "indices = ind_col + ind_row\n",
    "C_BCCB = np.hstack(np.hstack(list_of_blocks[indices]))"
   ]
  },
  {
   "cell_type": "code",
   "execution_count": 38,
   "metadata": {},
   "outputs": [
    {
     "name": "stdout",
     "output_type": "stream",
     "text": [
      "(20, 20) 4 5\n"
     ]
    }
   ],
   "source": [
    "print(C_BCCB.shape, Q, P)"
   ]
  },
  {
   "cell_type": "code",
   "execution_count": 39,
   "metadata": {},
   "outputs": [],
   "source": [
    "# vector a containing the stacked columns of matrix A\n",
    "a = np.ravel(A.T)"
   ]
  },
  {
   "cell_type": "code",
   "execution_count": 40,
   "metadata": {},
   "outputs": [
    {
     "name": "stdout",
     "output_type": "stream",
     "text": [
      "(20,) 4 5\n"
     ]
    }
   ],
   "source": [
    "print(a.shape, Q, P)"
   ]
  },
  {
   "cell_type": "code",
   "execution_count": 41,
   "metadata": {},
   "outputs": [
    {
     "data": {
      "image/png": "[encoded data removed]",
      "text/plain": [
       "<Figure size 720x432 with 3 Axes>"
      ]
     },
     "metadata": {
      "needs_background": "light"
     },
     "output_type": "display_data"
    }
   ],
   "source": [
    "plt.figure(figsize=(10, 6))\n",
    "\n",
    "plt.subplot(1,2,1)\n",
    "plt.title('$\\mathbf{C}_{BCCB}$', fontsize=18)\n",
    "plt.matshow(C_BCCB, fignum=0, vmin = 0, vmax = 20, cmap='gist_rainbow_r')\n",
    "plt.xticks(ticks=np.arange(Q)*P - 0.5, labels=[])\n",
    "plt.yticks(ticks=np.arange(Q)*P - 0.5, labels=[])\n",
    "plt.grid(color='k', linewidth=2)\n",
    "\n",
    "plt.subplot(1,2,2)\n",
    "plt.title('$\\mathbf{a}$', fontsize=18)\n",
    "plt.matshow(np.reshape(a, (a.size,1)), fignum=0, \n",
    "            vmin = 0, vmax = 20, cmap='gist_rainbow_r')\n",
    "plt.colorbar()\n",
    "plt.xticks(ticks=[5], labels=[])\n",
    "plt.yticks(ticks=np.arange(Q)*P - 0.5, labels=[])\n",
    "plt.grid(color='k', linewidth=2)\n",
    "\n",
    "plt.tight_layout()\n",
    "\n",
    "plt.show()"
   ]
  },
  {
   "cell_type": "code",
   "execution_count": 42,
   "metadata": {},
   "outputs": [],
   "source": [
    "# partitioned vector containing the the stacked columns of matrix A\n",
    "w_C_BCCB_a = np.dot(C_BCCB, a)"
   ]
  },
  {
   "cell_type": "code",
   "execution_count": 43,
   "metadata": {},
   "outputs": [
    {
     "name": "stdout",
     "output_type": "stream",
     "text": [
      "(20,) 4 5\n"
     ]
    }
   ],
   "source": [
    "print(w_C_BCCB_a.shape, Q, P)"
   ]
  },
  {
   "cell_type": "code",
   "execution_count": 44,
   "metadata": {},
   "outputs": [
    {
     "name": "stdout",
     "output_type": "stream",
     "text": [
      "(5, 4) 4 5\n"
     ]
    }
   ],
   "source": [
    "# reorganize the elements of w_C_BCCB_a along the columns of a matrix W_C_BCCB_a\n",
    "W_C_BCCB_a = np.reshape(w_C_BCCB_a, (Q, P)).T\n",
    "print(W_C_BCCB_a.shape, Q, P)"
   ]
  },
  {
   "cell_type": "markdown",
   "metadata": {},
   "source": [
    "We have just computed the circular convolution of $\\mathbf{A}$ and $\\mathbf{B}$. What about the circular convolution of $\\mathbf{B}$ and $\\mathbf{A}$?"
   ]
  },
  {
   "cell_type": "markdown",
   "metadata": {},
   "source": [
    "<a id='sec2b'></a>\n",
    "### Fourier approach"
   ]
  },
  {
   "cell_type": "markdown",
   "metadata": {},
   "source": [
    "The 2D circular convolution ([equation 6](#eq6)) can also be computed by using a Fourier approach (see equations 4b and 9c of the notebook `Block_Toeplitz_circulant_matrices`):"
   ]
  },
  {
   "cell_type": "markdown",
   "metadata": {},
   "source": [
    "<a id='eq9'></a>\n",
    "$$\n",
    "\\mathbf{F}_{(P)}^{\\ast} \\left[ \\mathbf{L} \\circ \\left( \\mathbf{F}_{(P)} \\mathbf{A} \\, \\mathbf{F}_{(Q)} \\right) \\right] \\mathbf{F}_{(Q)}^{\\ast} = \\mathbf{W} \\: , \\tag{9}\n",
    "$$\n",
    "\n",
    "where\n",
    "\n",
    "<a id='eq10'></a>\n",
    "$$\n",
    "\\mathbf{L} = \\sqrt{QP} \\; \\mathbf{F}_{(P)} \\, \\mathbf{B} \\, \\mathbf{F}_{(Q)} \\: . \\tag{10}\n",
    "$$"
   ]
  },
  {
   "cell_type": "code",
   "execution_count": 45,
   "metadata": {},
   "outputs": [],
   "source": [
    "# matrix L\n",
    "L = np.sqrt(Q*P)*fft2(x=B, norm='ortho')"
   ]
  },
  {
   "cell_type": "code",
   "execution_count": 46,
   "metadata": {},
   "outputs": [],
   "source": [
    "# compute a dummy matrix H\n",
    "H = L*fft2(x=A, norm='ortho')"
   ]
  },
  {
   "cell_type": "code",
   "execution_count": 47,
   "metadata": {},
   "outputs": [],
   "source": [
    "# matrix W (represented by W_cir_conv_fft)\n",
    "W_cir_conv_fft = ifft2(x=H, norm='ortho')"
   ]
  },
  {
   "cell_type": "code",
   "execution_count": 48,
   "metadata": {},
   "outputs": [
    {
     "data": {
      "text/plain": [
       "True"
      ]
     },
     "execution_count": 48,
     "metadata": {},
     "output_type": "execute_result"
    }
   ],
   "source": [
    "# compare the result with that obtained via matrix-vector\n",
    "np.allclose(W_cir_conv_fft, W_C_BCCB_a)"
   ]
  }
 ],
 "metadata": {
  "kernelspec": {
   "display_name": "Python 3",
   "language": "python",
   "name": "python3"
  },
  "language_info": {
   "codemirror_mode": {
    "name": "ipython",
    "version": 3
   },
   "file_extension": ".py",
   "mimetype": "text/x-python",
   "name": "python",
   "nbconvert_exporter": "python",
   "pygments_lexer": "ipython3",
   "version": "3.7.4"
  }
 },
 "nbformat": 4,
 "nbformat_minor": 4
}
