{
 "cells": [
  {
   "cell_type": "markdown",
   "metadata": {},
   "source": [
    "# Gaussian elimination - pivoting"
   ]
  },
  {
   "cell_type": "markdown",
   "metadata": {},
   "source": [
    "The [Gaussian elimination](https://en.wikipedia.org/wiki/Gaussian_elimination) iteratively transforms an unstructured linear system $\\mathbf{A}\\mathbf{x} = \\mathbf{y}$ into an equivalent triangular system $\\mathbf{B}\\mathbf{x} = \\mathbf{z}$ having the same solution $\\mathbf{x}$. As pointed out in the previous class, the **pivots** needed for computing the **Gauss multipliers** must be nonzero. The presence of small pivots produces arbitrarily poor results, even for well-conditioned problems, showing that Gauss elimination may be an unstable method, depending on the elements of $\\mathbf{A}$ (Golub and Van Loan, 2013)."
   ]
  },
  {
   "cell_type": "markdown",
   "metadata": {},
   "source": [
    "To avoid the division by small pivots and guarantee that the pivot has the largest absolute value, we may always swap the lines. "
   ]
  },
  {
   "cell_type": "markdown",
   "metadata": {},
   "source": [
    "Let's recall the linear system $\\mathbf{A}\\mathbf{x} = \\mathbf{y}$ presented in the previous class:"
   ]
  },
  {
   "cell_type": "code",
   "execution_count": 1,
   "metadata": {
    "collapsed": true
   },
   "outputs": [],
   "source": [
    "import numpy as np\n",
    "from scipy.linalg import lu"
   ]
  },
  {
   "cell_type": "code",
   "execution_count": 2,
   "metadata": {
    "collapsed": true
   },
   "outputs": [],
   "source": [
    "A = np.array([[2.,1.,-1.],\n",
    "              [-3.,-1.,2.],\n",
    "              [-2.,1.,2.]])"
   ]
  },
  {
   "cell_type": "code",
   "execution_count": 3,
   "metadata": {
    "collapsed": true
   },
   "outputs": [],
   "source": [
    "y = np.array([8., -11., -3.])"
   ]
  },
  {
   "cell_type": "markdown",
   "metadata": {},
   "source": [
    "The solution of this system is given by:"
   ]
  },
  {
   "cell_type": "code",
   "execution_count": 4,
   "metadata": {
    "collapsed": true
   },
   "outputs": [],
   "source": [
    "x = np.linalg.solve(A,y)"
   ]
  },
  {
   "cell_type": "code",
   "execution_count": 5,
   "metadata": {},
   "outputs": [
    {
     "name": "stdout",
     "output_type": "stream",
     "text": [
      "[ 2.  3. -1.]\n"
     ]
    }
   ],
   "source": [
    "print x"
   ]
  },
  {
   "cell_type": "markdown",
   "metadata": {},
   "source": [
    "This system can be solved by Gaussian elimination as follows:"
   ]
  },
  {
   "cell_type": "code",
   "execution_count": 6,
   "metadata": {
    "collapsed": true
   },
   "outputs": [],
   "source": [
    "I = np.identity(3)"
   ]
  },
  {
   "cell_type": "markdown",
   "metadata": {},
   "source": [
    "**Iteration k = 1:**"
   ]
  },
  {
   "cell_type": "markdown",
   "metadata": {},
   "source": [
    "Notice that, in this case, the pivot of the next Gauss transform is `2`. The pivot is not a small number. However, let's apply the partial pivoting for illustrating the procedure and showing that it does not change the final result."
   ]
  },
  {
   "cell_type": "markdown",
   "metadata": {},
   "source": [
    "In this case, we interchange the first and second rows/elements of `A0`/`y0`. This is equivalent to premultiply `A0` and `y0` by the following matrix:"
   ]
  },
  {
   "cell_type": "code",
   "execution_count": 7,
   "metadata": {},
   "outputs": [
    {
     "name": "stdout",
     "output_type": "stream",
     "text": [
      "[[ 0.  1.  0.]\n",
      " [ 1.  0.  0.]\n",
      " [ 0.  0.  1.]]\n"
     ]
    }
   ],
   "source": [
    "P1 = np.identity(3)[[1,0,2]]\n",
    "\n",
    "print P1"
   ]
  },
  {
   "cell_type": "code",
   "execution_count": 8,
   "metadata": {},
   "outputs": [
    {
     "name": "stdout",
     "output_type": "stream",
     "text": [
      "[[-3. -1.  2.]\n",
      " [ 2.  1. -1.]\n",
      " [-2.  1.  2.]]\n"
     ]
    }
   ],
   "source": [
    "print np.dot(P1, A)"
   ]
  },
  {
   "cell_type": "code",
   "execution_count": 9,
   "metadata": {},
   "outputs": [
    {
     "name": "stdout",
     "output_type": "stream",
     "text": [
      "[-11.   8.  -3.]\n"
     ]
    }
   ],
   "source": [
    "print np.dot(P1, y)"
   ]
  },
  {
   "cell_type": "markdown",
   "metadata": {},
   "source": [
    "Notice that this row permutation changed the pivot from `2` to `-3`."
   ]
  },
  {
   "cell_type": "code",
   "execution_count": 10,
   "metadata": {
    "collapsed": true
   },
   "outputs": [],
   "source": [
    "u = np.array([1., 0., 0.])"
   ]
  },
  {
   "cell_type": "code",
   "execution_count": 11,
   "metadata": {
    "collapsed": true
   },
   "outputs": [],
   "source": [
    "t = np.array([0., np.dot(P1, A)[1][0]/np.dot(P1, A)[0][0], np.dot(P1, A)[2][0]/np.dot(P1, A)[0][0]])"
   ]
  },
  {
   "cell_type": "code",
   "execution_count": 12,
   "metadata": {
    "collapsed": true
   },
   "outputs": [],
   "source": [
    "A1 = (I - np.outer(t, u)).dot(np.dot(P1,A))"
   ]
  },
  {
   "cell_type": "code",
   "execution_count": 13,
   "metadata": {},
   "outputs": [
    {
     "data": {
      "text/plain": [
       "array([[-3.        , -1.        ,  2.        ],\n",
       "       [ 0.        ,  0.33333333,  0.33333333],\n",
       "       [ 0.        ,  1.66666667,  0.66666667]])"
      ]
     },
     "execution_count": 13,
     "metadata": {},
     "output_type": "execute_result"
    }
   ],
   "source": [
    "A1"
   ]
  },
  {
   "cell_type": "code",
   "execution_count": 14,
   "metadata": {
    "collapsed": true
   },
   "outputs": [],
   "source": [
    "y1 = (I - np.outer(t, u)).dot(np.dot(P1,y))"
   ]
  },
  {
   "cell_type": "code",
   "execution_count": 15,
   "metadata": {},
   "outputs": [
    {
     "data": {
      "text/plain": [
       "array([-11.        ,   0.66666667,   4.33333333])"
      ]
     },
     "execution_count": 15,
     "metadata": {},
     "output_type": "execute_result"
    }
   ],
   "source": [
    "y1"
   ]
  },
  {
   "cell_type": "markdown",
   "metadata": {},
   "source": [
    "**Iteration k = 2:**"
   ]
  },
  {
   "cell_type": "markdown",
   "metadata": {},
   "source": [
    "Now, we interchange the second and third rows/elements of `A1`/`y1`. This is equivalent to premultiply `A1` and `y1` by the following matrix:"
   ]
  },
  {
   "cell_type": "code",
   "execution_count": 16,
   "metadata": {},
   "outputs": [
    {
     "name": "stdout",
     "output_type": "stream",
     "text": [
      "[[ 1.  0.  0.]\n",
      " [ 0.  0.  1.]\n",
      " [ 0.  1.  0.]]\n"
     ]
    }
   ],
   "source": [
    "P2 = np.identity(3)[[0,2,1]]\n",
    "\n",
    "print P2"
   ]
  },
  {
   "cell_type": "code",
   "execution_count": 17,
   "metadata": {},
   "outputs": [
    {
     "name": "stdout",
     "output_type": "stream",
     "text": [
      "[[-3.         -1.          2.        ]\n",
      " [ 0.          1.66666667  0.66666667]\n",
      " [ 0.          0.33333333  0.33333333]]\n"
     ]
    }
   ],
   "source": [
    "print np.dot(P2, A1)"
   ]
  },
  {
   "cell_type": "code",
   "execution_count": 18,
   "metadata": {},
   "outputs": [
    {
     "name": "stdout",
     "output_type": "stream",
     "text": [
      "[-11.           4.33333333   0.66666667]\n"
     ]
    }
   ],
   "source": [
    "print np.dot(P2, y1)"
   ]
  },
  {
   "cell_type": "code",
   "execution_count": 19,
   "metadata": {
    "collapsed": true
   },
   "outputs": [],
   "source": [
    "u = np.array([0., 1., 0.])"
   ]
  },
  {
   "cell_type": "code",
   "execution_count": 20,
   "metadata": {
    "collapsed": true
   },
   "outputs": [],
   "source": [
    "t = np.array([0., 0., np.dot(P2, A1)[2][1]/np.dot(P2, A1)[1][1]])"
   ]
  },
  {
   "cell_type": "code",
   "execution_count": 21,
   "metadata": {
    "collapsed": true
   },
   "outputs": [],
   "source": [
    "B = (I - np.outer(t, u)).dot(np.dot(P2, A1))"
   ]
  },
  {
   "cell_type": "code",
   "execution_count": 22,
   "metadata": {},
   "outputs": [
    {
     "data": {
      "text/plain": [
       "array([[-3.        , -1.        ,  2.        ],\n",
       "       [ 0.        ,  1.66666667,  0.66666667],\n",
       "       [ 0.        ,  0.        ,  0.2       ]])"
      ]
     },
     "execution_count": 22,
     "metadata": {},
     "output_type": "execute_result"
    }
   ],
   "source": [
    "B"
   ]
  },
  {
   "cell_type": "code",
   "execution_count": 23,
   "metadata": {
    "collapsed": true
   },
   "outputs": [],
   "source": [
    "z = (I - np.outer(t, u)).dot(np.dot(P2, y1))"
   ]
  },
  {
   "cell_type": "code",
   "execution_count": 24,
   "metadata": {},
   "outputs": [
    {
     "data": {
      "text/plain": [
       "array([-11.        ,   4.33333333,  -0.2       ])"
      ]
     },
     "execution_count": 24,
     "metadata": {},
     "output_type": "execute_result"
    }
   ],
   "source": [
    "z"
   ]
  },
  {
   "cell_type": "markdown",
   "metadata": {},
   "source": [
    "Solution of this equivalent triangular system:"
   ]
  },
  {
   "cell_type": "code",
   "execution_count": 25,
   "metadata": {},
   "outputs": [
    {
     "name": "stdout",
     "output_type": "stream",
     "text": [
      "[ 2.  3. -1.]\n"
     ]
    }
   ],
   "source": [
    "print np.linalg.solve(B,z)"
   ]
  },
  {
   "cell_type": "markdown",
   "metadata": {},
   "source": [
    "Solution of the original system:"
   ]
  },
  {
   "cell_type": "code",
   "execution_count": 26,
   "metadata": {},
   "outputs": [
    {
     "name": "stdout",
     "output_type": "stream",
     "text": [
      "[ 2.  3. -1.]\n"
     ]
    }
   ],
   "source": [
    "print np.linalg.solve(A,y)"
   ]
  },
  {
   "cell_type": "markdown",
   "metadata": {},
   "source": [
    "## Algorithm implementation"
   ]
  },
  {
   "cell_type": "markdown",
   "metadata": {},
   "source": [
    "Now, our equivalent triangular system was iteratively calculated according to the following algorithm:"
   ]
  },
  {
   "cell_type": "markdown",
   "metadata": {},
   "source": [
    "$$\n",
    "\\begin{array}{ccccc}\n",
    "\\mathbf{A}^{(0)} = \\mathbf{A} & & & \\mathbf{y}^{(0)} = \\mathbf{y} \\\\\\\\\n",
    "\\mathbf{A}^{(1)} = \\left(\\mathbf{I} - \\mathbf{M}^{(1)}\\right) \\mathbf{P}^{(1)}\\mathbf{A}^{(0)} & & &\n",
    "\\mathbf{y}^{(1)} = \\left(\\mathbf{I} - \\mathbf{M}^{(1)}\\right) \\mathbf{P}^{(1)}\\mathbf{y}^{(0)} \\\\\\\\\n",
    "\\mathbf{A}^{(2)} = \\left(\\mathbf{I} - \\mathbf{M}^{(2)}\\right) \\mathbf{P}^{(2)}\\mathbf{A}^{(1)} & & &\n",
    "\\mathbf{y}^{(2)} = \\left(\\mathbf{I} - \\mathbf{M}^{(2)}\\right) \\mathbf{P}^{(2)}\\mathbf{y}^{(1)}\n",
    "\\end{array} \\: ,$$"
   ]
  },
  {
   "cell_type": "markdown",
   "metadata": {},
   "source": [
    "where $\\mathbf{P}^{(k)}$ is the permutation matrix used to interchange the rows and perform the partial pivoting. Or, alternatively,"
   ]
  },
  {
   "cell_type": "markdown",
   "metadata": {},
   "source": [
    "$$\n",
    "\\mathbf{C}^{(0)} = \\left[ \\: \\mathbf{A} \\: \\vert \\: \\mathbf{y} \\: \\right] \\: ,\n",
    "$$"
   ]
  },
  {
   "cell_type": "markdown",
   "metadata": {},
   "source": [
    "$$\n",
    "\\begin{array}{c}\n",
    "\\mathbf{C}^{(1)} = \\left(\\mathbf{I} - \\mathbf{M}^{(1)}\\right) \\mathbf{P}^{(1)}\\mathbf{C}^{(0)} \\\\\\\\\n",
    "\\mathbf{C}^{(2)} = \\left(\\mathbf{I} - \\mathbf{M}^{(2)}\\right) \\mathbf{P}^{(2)}\\mathbf{C}^{(1)} \n",
    "\\end{array} \\: ,$$"
   ]
  },
  {
   "cell_type": "markdown",
   "metadata": {},
   "source": [
    "where $\\mathbf{B} = \\mathbf{C}^{(2)}[ \\, : \\, , \\, :N]$ and $\\mathbf{z} = \\mathbf{C}^{(2)}[ \\, : \\, , \\, N+1]$."
   ]
  },
  {
   "cell_type": "markdown",
   "metadata": {},
   "source": [
    "Notice that a matrix $\\mathbf{P}^{(k)}$ may interchange the set of rows $\\left[ \\, k \\, , \\, : \\, \\right]$. For example, while the matrix $\\mathbf{P}^{(1)}$ can interchange all the rows forming the matrix $\\mathbf{C}^{(0)}$, the matrix $\\mathbf{P}^{(2)}$ can interchange only the set of rows $\\left[ \\, 2 \\, , \\, : \\, \\right]$ (from the second on) forming the matrix $\\mathbf{C}^{(1)}$ ."
   ]
  },
  {
   "cell_type": "markdown",
   "metadata": {},
   "source": [
    "For convenience, let's define $\\tilde{\\mathbf{C}}^{(k-1)} = \\mathbf{P}^{(k)} \\mathbf{C}^{(k-1)}$. Then, the computation of  $\\mathbf{C}^{(k)}$ can be rewritten as follows:"
   ]
  },
  {
   "cell_type": "markdown",
   "metadata": {},
   "source": [
    "$$\n",
    "\\begin{split}\n",
    "\\mathbf{C}^{(k)} &= \\left( \\mathbf{I} - \\mathbf{M}^{(k)} \\right) \\tilde{\\mathbf{C}}^{(k-1)} \\\\\\\\\n",
    "&= \\tilde{\\mathbf{C}}^{(k-1)} - \\mathbf{M}^{(k)}\\tilde{\\mathbf{C}}^{(k-1)} \\\\\\\\\n",
    "&= \\tilde{\\mathbf{C}}^{(k-1)} - \\mathbf{t}^{(k)} \\otimes \\left(\\mathbf{u}^{(k)}\\right)^{\\top}\\tilde{\\mathbf{C}}^{(k-1)} \\\\\\\\\n",
    "&= \\tilde{\\mathbf{C}}^{(k-1)} - \\mathbf{t}^{(k)} \\otimes \\tilde{\\mathbf{C}}^{(k-1)}\n",
    "\\left[ \\, k \\, , \\, : \\, \\right]\n",
    "\\end{split}\n",
    "$$"
   ]
  },
  {
   "cell_type": "markdown",
   "metadata": {},
   "source": [
    "We know that the subtraction of the outer product $\\mathbf{t}^{(k)} \\otimes \\tilde{\\mathbf{C}}^{(k-1)}\\left[ \\, k \\, , \\, : \\, \\right]$ from the matrix $\\mathbf{C}^{(k-1)}$ produces $\\mathbf{C}^{(k)}\\left[ \\, i+1 \\, , \\, i \\, \\right] = 0$. Besides, \n",
    "notice that $\\mathbf{t}^{(k)} \\left[ \\, : k\\right] = 0$. Consequently, the outer product affects only the elements $\\left[ \\, k+1 : \\, ,  \\, k+1 : \\, \\right]$ of the matrix $\\mathbf{C}^{(k)}$. Then, we may simplify the computations as follows:"
   ]
  },
  {
   "cell_type": "markdown",
   "metadata": {},
   "source": [
    "$$\n",
    "\\mathbf{C}^{(k)} \\left[ \\, k+1 : \\, ,  \\, k+1 : \\, \\right] = \n",
    "\\tilde{\\mathbf{C}}^{(k-1)} \\left[ \\, k+1 : \\, ,  \\, k+1 : \\, \\right] - \n",
    "\\mathbf{t}^{(k)} \\left[ \\, k+1 : \\, \\right] \\otimes \n",
    "\\tilde{\\mathbf{C}}^{(k-1)}\n",
    "\\left[ \\, k \\, , \\, k+1 : \\, \\right]\n",
    "$$"
   ]
  },
  {
   "cell_type": "markdown",
   "metadata": {},
   "source": [
    "Finally, instead of storing the Gauss multipliers in the Gauss vector $\\mathbf{t}^{(k)} \\left[ \\, k+1 : \\, \\right]$, we may store them below the main diagonal of the matrix $\\tilde{\\mathbf{C}}^{(k-1)}$, e.g.,"
   ]
  },
  {
   "cell_type": "markdown",
   "metadata": {},
   "source": [
    "$$\n",
    "\\tilde{\\mathbf{C}}^{(k-1)} \\left[ \\, k+1 : \\, ,  \\, k \\, \\right] = \n",
    "\\mathbf{t}^{(k)} \\left[ \\, k+1 : \\, \\right]\n",
    "$$"
   ]
  },
  {
   "cell_type": "markdown",
   "metadata": {},
   "source": [
    "and, consequently,"
   ]
  },
  {
   "cell_type": "markdown",
   "metadata": {},
   "source": [
    "$$\n",
    "\\mathbf{C}^{(k)} \\left[ \\, k+1 : \\, ,  \\, k+1 : \\, \\right] = \n",
    "\\tilde{\\mathbf{C}}^{(k-1)} \\left[ \\, k+1 : \\, ,  \\, k+1 : \\, \\right] - \n",
    "\\tilde{\\mathbf{C}}^{(k-1)} \\left[ \\, k+1 : \\, ,  \\, k \\, \\right] \\otimes \n",
    "\\tilde{\\mathbf{C}}^{(k-1)}\n",
    "\\left[ \\, k \\, , \\, k+1 : \\, \\right]\n",
    "$$"
   ]
  },
  {
   "cell_type": "markdown",
   "metadata": {},
   "source": [
    "The Gaussian elimination with partial pivoting can be implemented as follows:"
   ]
  },
  {
   "cell_type": "markdown",
   "metadata": {},
   "source": [
    "    N = y.size\n",
    "    assert A.shape[1] == N, 'A columns must be equal to y size'\n",
    "    C = np.vstack([A.T, y]).T\n",
    "    \n",
    "    for k = 1:N-1\n",
    "        \n",
    "        # permutation step (computation of C tilde)\n",
    "        p, C = permut(C, k)\n",
    "        \n",
    "        # assert the pivot is nonzero\n",
    "        assert C[k,k] != 0., 'null pivot!'\n",
    "        \n",
    "        # calculate the Gauss multipliers and store them \n",
    "        # in the lower part of C\n",
    "        C[k+1:,k] = C[k+1:,k]/C[k,k]\n",
    "        \n",
    "        # zeroing of the elements in the ith column\n",
    "        C[k+1:,k+1:] = C[k+1:,k+1:] - outer(C[k+1:,k], C[k,k+1:])\n",
    "        \n",
    "    return C[:,:N], C[:,N]"
   ]
  },
  {
   "cell_type": "markdown",
   "metadata": {},
   "source": [
    "The permutation function can be defined as follows:"
   ]
  },
  {
   "cell_type": "markdown",
   "metadata": {},
   "source": [
    "    permut (C, i):\n",
    "        p = [j for j in range(C.shape[0])]\n",
    "        imax = i + np.argmax(np.abs(C[i:,i]))\n",
    "        if imax != i:\n",
    "            p[i], p[imax] = p[imax], p[i]\n",
    "        return p, C[p,:]"
   ]
  },
  {
   "cell_type": "markdown",
   "metadata": {},
   "source": [
    "### Exercise"
   ]
  },
  {
   "cell_type": "markdown",
   "metadata": {},
   "source": [
    "1) In your `my_functions.py` file, create a function that implement the algorithm shown above. Note that the algorithm shown above uses the function `permut`, receives the matrix `A` and the vector `y` and return two numpy arrays containing the equivalent triangular system, as well as the Gauss multipliers. \n",
    "\n",
    "2) Create a first test in your `test_my_functions.py` file. For this test, create a linear system and the associated equivalent triangular system (do not use the function implemented in item 1). Then use the function implemented in item 1 to compute an equivalent triangular system. Finally, compare the true and the computed triangular system. They must be equal to each other.\n",
    "\n",
    "3) Create a second test in your `test_my_functions.py` file. In this test, create a matrix `A0` and a vector `x0` and use them to compute a vector `A0x0 = y0`. Then, use the function created in item 1 to compute the equivalent triangular system. Use one of your functions to compute a vector `x1` by solving the equivalent triangular system. Finally, compare the computed vector `x1` and the expected vector `x0`.\n",
    "\n",
    "4) In your `test_my_functions.py` file, create a test for the function `permut` presented above. For this test, create a reference input and a reference output. Then, compare the result produced by the function `permut` and the reference output."
   ]
  },
  {
   "cell_type": "markdown",
   "metadata": {},
   "source": [
    "## Inverse matrices"
   ]
  },
  {
   "cell_type": "markdown",
   "metadata": {
    "collapsed": true
   },
   "source": [
    "Sometimes, we need to calculate the inverse of a matrix. The inverse of a $N \\times N$ matrix $\\mathbf{A}$ is commonly represented by $\\mathbf{A}^{-1}$. The inverse satisfies the following property:"
   ]
  },
  {
   "cell_type": "markdown",
   "metadata": {},
   "source": [
    "$$\n",
    "\\begin{split}\n",
    "\\mathbf{A}^{-1} \\mathbf{A} &= \\mathbf{I} \\\\\n",
    "\\mathbf{A} \\mathbf{A}^{-1} &= \\mathbf{I} \n",
    "\\end{split} \\: ,\n",
    "$$"
   ]
  },
  {
   "cell_type": "markdown",
   "metadata": {},
   "source": [
    "where $\\mathbf{I}$ represents the identity matrix."
   ]
  },
  {
   "cell_type": "markdown",
   "metadata": {},
   "source": [
    "The second equation presented above can be conveniently rewritten by using a column partition given by:"
   ]
  },
  {
   "cell_type": "markdown",
   "metadata": {},
   "source": [
    "$$\n",
    "\\mathbf{A} \n",
    "\\left[ \\mathbf{A}^{-1}\\left[ \\, : \\, , \\, 1  \\right] \\cdots \\mathbf{A}^{-1} \\left[ \\, : \\, , \\, N  \\right]  \\right] = \n",
    "\\left[ \\mathbf{u}_{1} \\cdots \\mathbf{u}_{N} \\right] \\: ,\n",
    "$$"
   ]
  },
  {
   "cell_type": "markdown",
   "metadata": {},
   "source": [
    "where $\\mathbf{u}_{i}$, $i = 1, \\dots, N$, is a $N \\times 1$ vector with all elements equal to zero, except the $i$th element, which is equal to $1$. The vectors $\\mathbf{A}^{-1}\\left[ \\, : \\, , \\, i  \\right]$ and $\\mathbf{u}_{i}$ represent the $i$th column of $\\mathbf{A}^{-1}$ and $\\mathbf{I}$, respectively. This equation can then be separated into $N$ linear systems:"
   ]
  },
  {
   "cell_type": "markdown",
   "metadata": {},
   "source": [
    "$$\n",
    "\\begin{split}\n",
    "\\mathbf{A} \\, \\mathbf{A}^{-1} \\left[ \\, : \\, , \\, 1 \\right] &= \\mathbf{u}_{1} \\\\\n",
    "\\mathbf{A} \\, \\mathbf{A}^{-1} \\left[ \\, : \\, , \\, 2 \\right] &= \\mathbf{u}_{2} \\\\\n",
    "\\vdots \\\\\n",
    "\\mathbf{A} \\, \\mathbf{A}^{-1} \\left[ \\, : \\, , \\, N \\right] &= \\mathbf{u}_{N}\n",
    "\\end{split} \\: .\n",
    "$$"
   ]
  },
  {
   "cell_type": "markdown",
   "metadata": {},
   "source": [
    "This equation shows that each column of the inverse matrix $\\mathbf{A}^{-1}$ can be calculated by solving a linear system."
   ]
  },
  {
   "cell_type": "markdown",
   "metadata": {},
   "source": [
    "### Exercise"
   ]
  },
  {
   "cell_type": "markdown",
   "metadata": {},
   "source": [
    "1) In your `my_functions.py` file, create a function to compute the inverse of a matrix. The code must receive a matrix `A` and calculate its inverse `Ainv`, column by column, according to the scheme presented above.\n",
    "\n",
    "2) Create two tests in your `test_my_functions.py` file. In the first test, create a matrix `A`, compute its inverse `Ainv` by using the function created in the previous item and verify if the products dot(A, Ainv) and dot(Ainv, A) are equal to the identity matrix. The second test must compare the inverse matrix computed by using your function and the inverse matrix computed by using the routine [`numpy.linalg.inv`](https://docs.scipy.org/doc/numpy/reference/generated/numpy.linalg.inv.html). "
   ]
  },
  {
   "cell_type": "code",
   "execution_count": null,
   "metadata": {
    "collapsed": true
   },
   "outputs": [],
   "source": []
  }
 ],
 "metadata": {
  "kernelspec": {
   "display_name": "Python 2",
   "language": "python",
   "name": "python2"
  },
  "language_info": {
   "codemirror_mode": {
    "name": "ipython",
    "version": 2
   },
   "file_extension": ".py",
   "mimetype": "text/x-python",
   "name": "python",
   "nbconvert_exporter": "python",
   "pygments_lexer": "ipython2",
   "version": "2.7.13"
  }
 },
 "nbformat": 4,
 "nbformat_minor": 1
}
