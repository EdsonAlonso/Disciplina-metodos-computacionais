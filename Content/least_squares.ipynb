{
 "cells": [
  {
   "cell_type": "markdown",
   "metadata": {},
   "source": [
    "# Least squares"
   ]
  },
  {
   "cell_type": "markdown",
   "metadata": {},
   "source": [
    "Let's consider a set of measurements $d_{i}$, $i = 1, \\dots, N$, of a given physical quantity. **The measurements** $d_{i}$ **are usually called observed data**. Let's also consider that each observed data $d_{i}$ can be properly approximated by a function $y_{i}$, $i = 1, \\dots, N$, given by:"
   ]
  },
  {
   "cell_type": "markdown",
   "metadata": {},
   "source": [
    "$$\n",
    "y_{i} = a_{i1} \\, x_{1} + a_{i2} \\, x_{2} + \\cdots + a_{iM} \\, x_{M} \\: ,\n",
    "$$"
   ]
  },
  {
   "cell_type": "markdown",
   "metadata": {},
   "source": [
    "where $a_{ij}$ are known variables and $x_{j}$ are unknown variables, $i = 1, \\dots, N$, $j = 1, \\dots, M$, $N \\gt M$. **The** $y_{i}$ **are usually called predicted data**."
   ]
  },
  {
   "cell_type": "markdown",
   "metadata": {},
   "source": [
    "Then, by considering the $N$ measurements, we obtain"
   ]
  },
  {
   "cell_type": "markdown",
   "metadata": {},
   "source": [
    "$$\n",
    "\\begin{split}\n",
    "d_{1} &\\approx \\; &y_{1} &= \\: &a_{11} \\, x_{1} + &a_{12} \\, x_{2} + \\cdots + &a_{1M} \\, x_{M} \\\\\n",
    "d_{2} &\\approx &y_{2} &= &a_{21} \\, x_{1} + &a_{22} \\, x_{2} + \\cdots + &a_{2M} \\, x_{M} \\\\\n",
    "\\vdots & &\\vdots & & \\: \\vdots & \\: \\vdots & \\: \\vdots \\\\\n",
    "d_{N} &\\approx &y_{N} &= &a_{N1} \\, x_{1} + &a_{N2} \\, x_{2} + \\cdots + &a_{NM} \\, x_{M}\n",
    "\\end{split}\n",
    "$$"
   ]
  },
  {
   "cell_type": "markdown",
   "metadata": {},
   "source": [
    "or, equivalently,"
   ]
  },
  {
   "cell_type": "markdown",
   "metadata": {},
   "source": [
    "$$\n",
    "\\mathbf{d} \\approx \\mathbf{y} = \\mathbf{A} \\, \\mathbf{x} \\: ,\n",
    "$$"
   ]
  },
  {
   "cell_type": "markdown",
   "metadata": {},
   "source": [
    "where"
   ]
  },
  {
   "cell_type": "markdown",
   "metadata": {},
   "source": [
    "$$\n",
    "\\mathbf{x} = \n",
    "\\left[ \\begin{array}{c}\n",
    "x_{1} \\\\\n",
    "x_{2} \\\\\n",
    "\\vdots \\\\\n",
    "x_{M}\n",
    "\\end{array} \\right] \\: ,\n",
    "$$"
   ]
  },
  {
   "cell_type": "markdown",
   "metadata": {},
   "source": [
    "$$\n",
    "\\mathbf{y} = \n",
    "\\left[ \\begin{array}{c}\n",
    "y_{1} \\\\\n",
    "y_{2} \\\\\n",
    "\\vdots \\\\\n",
    "y_{N}\n",
    "\\end{array} \\right] \\: ,\n",
    "$$"
   ]
  },
  {
   "cell_type": "markdown",
   "metadata": {},
   "source": [
    "$$\n",
    "\\mathbf{d} = \n",
    "\\left[ \\begin{array}{c}\n",
    "d_{1} \\\\\n",
    "d_{2} \\\\\n",
    "\\vdots \\\\\n",
    "d_{N}\n",
    "\\end{array} \\right]\n",
    "$$"
   ]
  },
  {
   "cell_type": "markdown",
   "metadata": {},
   "source": [
    "and"
   ]
  },
  {
   "cell_type": "markdown",
   "metadata": {},
   "source": [
    "$$\n",
    "\\mathbf{A} = \n",
    "\\left[ \\begin{array}{cccc}\n",
    "a_{11} & a_{12} & \\cdots & a_{1M} \\\\\n",
    "a_{21} & a_{22} & \\cdots & a_{2M} \\\\\n",
    "\\vdots & \\vdots &        & \\vdots \\\\\n",
    "a_{N1} & a_{N2} & \\cdots & a_{NM}\n",
    "\\end{array} \\right] \\: .\n",
    "$$"
   ]
  },
  {
   "cell_type": "markdown",
   "metadata": {},
   "source": [
    "The vector $\\mathbf{x}$ is usually called **parameter vector**. Notice that, to determine the parameter vector $\\mathbf{x}$ from $\\mathbf{d}$ and $\\mathbf{A}$, it is needed to solve a non-square linear system."
   ]
  },
  {
   "cell_type": "markdown",
   "metadata": {},
   "source": [
    "Now, consider the problem of determining $\\mathbf{x}$ from the observed data $\\mathbf{d}$ and the $N \\times M$ matrix $\\mathbf{A}$. Mathematically, this problem consists in determining a vector $\\mathbf{x} = \\tilde{\\mathbf{x}}$ producing a $\\mathbf{y}$ *\"as close as possible\"* to $\\mathbf{d}$. To solve this problem, we need to define what *\"as close as possible\"* means. The notion of \"*closeness*\" is intrinsically related to the notion of \"*distance*\" and, consequently, to the notion of <a href=\"https://en.wikipedia.org/wiki/Norm_(mathematics)\">norm</a>.\n",
    "\n",
    "For example, let's consider a vector $\\mathbf{r} = \\mathbf{d} - \\mathbf{y}$, which is defined as the difference between the observed data $\\mathbf{d}$ and the predicted data $\\mathbf{y}$. The vector $\\mathbf{r}$ is usually called **residuals vector**. The length of the residuals vector can be determined by the following scalar function:"
   ]
  },
  {
   "cell_type": "markdown",
   "metadata": {},
   "source": [
    "$$\n",
    "\\begin{split}\n",
    "\\| \\mathbf{r} \\|_{2} &= \\sqrt{\\mathbf{r}^{\\top}\\mathbf{r}} \\\\\n",
    "&= \\sqrt{\\sum \\limits_{i = 1}^{N} r_{i}^{2}}\n",
    "\\end{split} \\: ,\n",
    "$$"
   ]
  },
  {
   "cell_type": "markdown",
   "metadata": {},
   "source": [
    "where $r_{i} = d_{i} - y_{i}$, $i = 1, \\dots, N$. This function is a norm that quantifies the \"*distance*\" between the vectors $\\mathbf{d}$ and $\\mathbf{y}$. It is called **<a href=\"https://en.wikipedia.org/wiki/Norm_(mathematics)#Euclidean_norm\">Euclidean norm</a>** (or **Euclidean distance**). Notice that this function equals to zero if $\\mathbf{d} = \\mathbf{y}$ and it is greater than zero if $\\mathbf{d} \\ne \\mathbf{y}$.\n",
    "\n",
    "So, the problem of determining a vector $\\mathbf{x} = \\tilde{\\mathbf{x}}$ producing a $\\mathbf{y}$ *\"as close as possible\"* to $\\mathbf{d}$ can be thought of the problem of determining a parameter vector $\\mathbf{x} = \\tilde{\\mathbf{x}}$ producing the minimum Euclidean norm of the difference between the observed data $\\mathbf{d}$ and the predicted data $\\mathbf{y}$."
   ]
  },
  {
   "cell_type": "markdown",
   "metadata": {},
   "source": [
    "In practical situations, instead of determining the vector $\\tilde{\\mathbf{x}}$ minimizing the Euclidean norm of $\\mathbf{r}$, we determine the vector $\\tilde{\\mathbf{x}}$ minimizing the **Squared Euclidean norm** (or **<a href=\"https://en.wikipedia.org/wiki/Euclidean_distance\">Squared Euclidean distance</a>**) of $\\mathbf{r}$, which is given by:"
   ]
  },
  {
   "cell_type": "markdown",
   "metadata": {},
   "source": [
    "$$\n",
    "\\begin{split}\n",
    "\\| \\mathbf{r} \\|_{2}^{2} &= \\mathbf{r}^{\\top}\\mathbf{r} \\\\\n",
    "&= \\sum \\limits_{i = 1}^{N} r_{i}^{2}\n",
    "\\end{split} \\: .\n",
    "$$"
   ]
  },
  {
   "cell_type": "markdown",
   "metadata": {},
   "source": [
    "Be careful! According to the mathematical definition of norm, the **Squared Euclidean norm** (or **<a href=\"https://en.wikipedia.org/wiki/Euclidean_distance\">Squared Euclidean distance</a>**) is not a norm!"
   ]
  },
  {
   "cell_type": "markdown",
   "metadata": {},
   "source": [
    "Notice that the Squared Euclidean norm of $\\mathbf{r}$ is a scalar function depending on the unknows $\\mathbf{x}$ and can be written as follows: "
   ]
  },
  {
   "cell_type": "markdown",
   "metadata": {},
   "source": [
    "$$\n",
    "\\Phi(\\mathbf{x}) = \\left[ \\mathbf{d} - \\mathbf{A}\\mathbf{x} \\right]^{\\top}\\left[ \\mathbf{d} - \\mathbf{A}\\mathbf{x} \\right] \\: .\n",
    "$$"
   ]
  },
  {
   "cell_type": "markdown",
   "metadata": {},
   "source": [
    "This function is usually called **misfit function**."
   ]
  },
  {
   "cell_type": "markdown",
   "metadata": {},
   "source": [
    "By considering that there is only one particular parameter vector $\\tilde{\\mathbf{x}}$ minimizing the misfit function $\\Phi(\\mathbf{x})$, we can state that"
   ]
  },
  {
   "cell_type": "markdown",
   "metadata": {},
   "source": [
    "$$\n",
    "\\Phi(\\tilde{\\mathbf{x}} + \\Delta \\mathbf{x})\n",
    "\\begin{cases}\n",
    "\\gt \\Phi(\\tilde{\\mathbf{x}}) \\, , \\: \\text{if} \\:\\: \\| \\Delta \\mathbf{x}\\|_{2} \\ne 0 \\\\\n",
    "= \\Phi(\\tilde{\\mathbf{x}}) \\, , \\: \\text{if} \\:\\: \\| \\Delta \\mathbf{x}\\|_{2} = 0 \\\\\n",
    "\\end{cases} \\: .\n",
    "$$"
   ]
  },
  {
   "cell_type": "markdown",
   "metadata": {},
   "source": [
    "We may use the misfit function to estimate the particular parameter vector $\\tilde{\\mathbf{x}}$. To do it, we may simply compute the misfit function produced by a set of given parameter vectors and choose the particular parameter vector producing the minimum misfit function value."
   ]
  },
  {
   "cell_type": "markdown",
   "metadata": {},
   "source": [
    "Alternatively, we may estimate the parameter vector $\\tilde{\\mathbf{x}}$ by exploring the derivatives of the misfit function with respect to the components $x_{j}$, $j = 1, \\dots, M$, of the parameter vector. We know that, if the misfit function assumes a minimum value at $\\tilde{\\mathbf{x}}$, then its gradient evaluated at $\\tilde{\\mathbf{x}}$ equals to the null vector. It means that"
   ]
  },
  {
   "cell_type": "markdown",
   "metadata": {},
   "source": [
    "$$\n",
    "\\nabla \\Phi(\\tilde{\\mathbf{x}}) = \n",
    "\\left[ \\begin{array}{c}\n",
    "0 \\\\\n",
    "\\vdots \\\\\n",
    "0\n",
    "\\end{array} \\right] \\: ,\n",
    "$$"
   ]
  },
  {
   "cell_type": "markdown",
   "metadata": {},
   "source": [
    "where"
   ]
  },
  {
   "cell_type": "markdown",
   "metadata": {},
   "source": [
    "$$\n",
    "\\nabla \\Phi(\\mathbf{x}) = \n",
    "\\left[ \\begin{array}{c}\n",
    "\\dfrac{\\partial \\, \\Phi(\\mathbf{x})}{\\partial \\, x_{1}} \\\\\n",
    "\\vdots \\\\\n",
    "\\dfrac{\\partial \\, \\Phi(\\mathbf{x})}{\\partial \\, x_{M}} \n",
    "\\end{array} \\right]\n",
    "$$"
   ]
  },
  {
   "cell_type": "markdown",
   "metadata": {},
   "source": [
    "is the gradient of $\\Phi(\\mathbf{x})$."
   ]
  },
  {
   "cell_type": "markdown",
   "metadata": {},
   "source": [
    "The $j$ th element of the gradient $\\nabla \\Phi(\\mathbf{x})$ is given by:"
   ]
  },
  {
   "cell_type": "markdown",
   "metadata": {
    "collapsed": true
   },
   "source": [
    "$$\n",
    "\\begin{split}\n",
    "\\dfrac{\\partial \\, \\Phi(\\mathbf{x})}{\\partial \\, x_{j}} &= \n",
    "\\Big \\{ \\dfrac{\\partial}{\\partial \\, x_{j}} \\left[ \\mathbf{d} - \\mathbf{A}\\mathbf{x} \\right] \\Big \\} \n",
    "^{\\top}\\left[ \\mathbf{d} - \\mathbf{A}\\mathbf{x} \\right] +\n",
    "\\left[ \\mathbf{d} - \\mathbf{A}\\mathbf{x} \\right]^{\\top}\n",
    "\\Big \\{ \\dfrac{\\partial}{\\partial \\, x_{j}} \\left[ \\mathbf{d} - \\mathbf{A}\\mathbf{x} \\right] \\Big \\} \\\\\n",
    "&= 2\\Big \\{ \\dfrac{\\partial}{\\partial \\, x_{j}} \\left[ \\mathbf{d} - \\mathbf{A}\\mathbf{x} \\right] \\Big \\} \n",
    "^{\\top}\\left[ \\mathbf{d} - \\mathbf{A}\\mathbf{x} \\right] \\\\\n",
    "&= 2 \\Big \\{ -\\mathbf{u}_{j}^{\\top}\\mathbf{A}^{\\top} \\Big \\} \\left[ \\mathbf{d} - \\mathbf{A}\\mathbf{x} \\right]\n",
    "\\end{split} \\: ,\n",
    "$$"
   ]
  },
  {
   "cell_type": "markdown",
   "metadata": {},
   "source": [
    "where $\\mathbf{u}_{j}$ is a $M \\times 1$ vector whose $j$ th element is equal to $1$ and all the remaining elements are equal to $0$. By substituting this $\\dfrac{\\partial \\, \\Phi(\\mathbf{x})}{\\partial \\, x_{j}}$ into the gradient equation, we obtain"
   ]
  },
  {
   "cell_type": "markdown",
   "metadata": {},
   "source": [
    "$$\n",
    "\\nabla \\Phi(\\mathbf{x}) = -2 \\mathbf{A}^{\\top} \\left[ \\mathbf{d} - \\mathbf{A}\\mathbf{x} \\right] \\: .\n",
    "$$"
   ]
  },
  {
   "cell_type": "markdown",
   "metadata": {},
   "source": [
    "Finally, by evaluating the gradient $\\nabla \\Phi(\\mathbf{x})$ at $\\mathbf{x} = \\tilde{\\mathbf{x}}$, we obtain "
   ]
  },
  {
   "cell_type": "markdown",
   "metadata": {},
   "source": [
    "$$\n",
    "\\begin{split}\n",
    "\\nabla \\Phi(\\tilde{\\mathbf{x}}) &= -2 \\mathbf{A}^{\\top} \\left[ \\mathbf{d} - \\mathbf{A}\\tilde{\\mathbf{x}} \\right] \\\\\n",
    "\\mathbf{0} &= -\\mathbf{A}^{\\top}\\mathbf{d} + \\mathbf{A}^{\\top}\\mathbf{A}\\tilde{\\mathbf{x}} \n",
    "\\end{split} \\: ,\n",
    "$$"
   ]
  },
  {
   "cell_type": "markdown",
   "metadata": {},
   "source": [
    "resulting that"
   ]
  },
  {
   "cell_type": "markdown",
   "metadata": {},
   "source": [
    "$$\n",
    "\\left( \\mathbf{A}^{\\top}\\mathbf{A} \\right) \\tilde{\\mathbf{x}} = \\mathbf{A}^{\\top}\\mathbf{d} \\: .\n",
    "$$"
   ]
  },
  {
   "cell_type": "markdown",
   "metadata": {},
   "source": [
    "This equation is commonly called **Least Squares Estimator**."
   ]
  },
  {
   "cell_type": "markdown",
   "metadata": {},
   "source": [
    "Notice that, to determine the vector $\\tilde{\\mathbf{x}}$, it is needed to solve a square linear system with a symmetric matrix $\\mathbf{A}^{\\top}\\mathbf{A}$ and an independent vector $\\mathbf{A}^{\\top}\\mathbf{d}$."
   ]
  },
  {
   "cell_type": "markdown",
   "metadata": {},
   "source": [
    "## Estimating the uncertainty of the parameters"
   ]
  },
  {
   "cell_type": "markdown",
   "metadata": {},
   "source": [
    "Let's consider two $N \\times 1$ vectors $\\mathbf{t}$ and $\\mathbf{v}$, whose elements $t_{i}$ and $v_{i}$, $i = 1, \\dots, N$, respectively, are [random variables](https://en.wikipedia.org/wiki/Random_variable). Let's also consider that these vectors are related as follows:\n",
    "\n",
    "$$\n",
    "\\mathbf{t} = \\mathbf{H} \\mathbf{v} + \\mathbf{c} \\: ,\n",
    "$$\n",
    "\n",
    "where $\\mathbf{H}$ and $\\mathbf{c}$ are, respectively, an $N \\times N$ matrix and an $N \\times 1$ vector formed by constant (non-random) elements. In this case, the [covariance matrix](https://en.wikipedia.org/wiki/Covariance_matrix) of $\\mathbf{t}$ (denoted by $\\mathbf{\\Sigma_{t}}$) can be computed by using the covariance matrix of $\\mathbf{v}$ (denoted by $\\mathbf{\\Sigma_{v}}$) as follows:\n",
    "\n",
    "$$\n",
    "\\mathbf{\\Sigma_t} = \\mathbf{H} \\, \\mathbf{\\Sigma_{v}} \\mathbf{H}^{\\top} \\: .\n",
    "$$\n",
    "\n",
    "The matrix $\\mathbf{\\Sigma_{t}}$ is symmetric, with elements $ij$ representing the covariance between the $i$-th and $j$-th elements of $\\mathbf{t}$. Consequently, the elements $ii$ on its main diagonal represent the variances of the elements of $\\mathbf{t}$. If all elements $ij$ outside the main diagonal of $\\mathbf{\\Sigma_{t}}$ are zero, we say that the elements of $\\mathbf{t}$ are uncorrelated. If we additionally consider that all elements of $\\mathbf{t}$ have the same variance $\\sigma_{\\mathbf{t}}^{2}$, the covariance matrix $\\mathbf{\\Sigma_{t}}$ assumes the particular form:\n",
    "\n",
    "$$\n",
    "\\mathbf{\\Sigma_t} = \\sigma_{\\mathbf{t}}^{2} \\mathbf{I} \\: ,\n",
    "$$\n",
    "\n",
    "where $\\mathbf{I}$ represents the identity. The matrix $\\mathbf{\\Sigma_{v}}$ is defined in the same way."
   ]
  },
  {
   "cell_type": "markdown",
   "metadata": {},
   "source": [
    "By using this equation and the least-squares estimator, we may define the covariance matrix $\\mathbf{\\Sigma}_{\\tilde{\\mathbf{x}}}$ of the estimated parameter vector $\\tilde{\\mathbf{x}}$ as follows:\n",
    "\n",
    "$$\n",
    "\\mathbf{\\Sigma}_{\\tilde{\\mathbf{x}}} \n",
    "= \\left[ \\left( \\mathbf{A}^{\\top}\\mathbf{A} \\right)^{-1}\\mathbf{A} \\right] \\mathbf{\\Sigma_{d}} \n",
    "\\left[ \\left( \\mathbf{A}^{\\top}\\mathbf{A} \\right)^{-1}\\mathbf{A} \\right]^{\\top} \\: ,\n",
    "$$\n",
    "\n",
    "where $\\mathbf{\\Sigma_{d}}$ is the covariance matrix of the observed data $\\mathbf{d}$. By considering that the observed data are uncorrelated and have the same covariance $\\sigma_{\\mathbf{d}}^{2}$, the covariance matrix $\\mathbf{\\Sigma}_{\\tilde{\\mathbf{x}}}$ of the estimated parameter vector $\\tilde{\\mathbf{x}}$ assumes the particular form:\n",
    "\n",
    "$$\n",
    "\\mathbf{\\Sigma}_{\\tilde{\\mathbf{x}}} = \\sigma_{\\mathbf{d}}^{2} \\left( \\mathbf{A}^{\\top}\\mathbf{A} \\right)^{-1} \\: .\n",
    "$$"
   ]
  },
  {
   "cell_type": "markdown",
   "metadata": {},
   "source": [
    "Finally, the uncertainty of the $j$-th element of the estimated parameter vector $\\tilde{\\mathbf{x}}$ can be defined as the root square of the $j$-th element of the main diagonal of $\\mathbf{\\Sigma}_{\\tilde{\\mathbf{x}}}$."
   ]
  },
  {
   "cell_type": "markdown",
   "metadata": {},
   "source": [
    "### Exercise"
   ]
  },
  {
   "cell_type": "markdown",
   "metadata": {},
   "source": [
    "Consider a $N \\times 1$ data vector $\\mathbf{d}$ whose $i$th element $d_{i}$ is given by:"
   ]
  },
  {
   "cell_type": "markdown",
   "metadata": {},
   "source": [
    "$$\n",
    "d_{i} = f(x_{i}) \\: ,\n",
    "$$"
   ]
  },
  {
   "cell_type": "markdown",
   "metadata": {},
   "source": [
    "where $f(x)$ is an unknown function depending on the variable $x$. Besides, consider that each $d_{i}$ can be approximated as follows:"
   ]
  },
  {
   "cell_type": "markdown",
   "metadata": {},
   "source": [
    "$$\n",
    "d_{i} \\approx a + b \\, x_{i} \\: ,\n",
    "$$"
   ]
  },
  {
   "cell_type": "markdown",
   "metadata": {},
   "source": [
    "where $a$ and $b$ are unknown constants."
   ]
  },
  {
   "cell_type": "markdown",
   "metadata": {},
   "source": [
    "Given a data vector $\\mathbf{d}$ and a vector $\\mathbf{x}$ containing the data coordinates, estimate the constants $a$ and $b$ by using the Least Squares Estimator. Follow the four steps below:"
   ]
  },
  {
   "cell_type": "markdown",
   "metadata": {},
   "source": [
    "1. Simulate a noise-free data vector `d_free`, a noise-corrupted data vector `d_noise`, and a coordinate vector `x` according to the cells at the end of this Jupyter Notebook.\n",
    "\n",
    "2. Create a function `straight_line` that receives a data vector `d` and a coordinate vector `x` and returns a numpy array `p` containing the estimated constants $a$ and $b$. Use your previously implemented functions for calculating any matrix operation and/or solving any linear system. Use the `code-template.ipynb` and test the function `straight_line`. Use the noise-free data to test the function `straight_line`.\n",
    "\n",
    "3. Calculate the predicted data at the coordinates `x`. Use your previously implemented functions for calculating any matrix operation.\n",
    "\n",
    "4. Use the covariance matrix of the estimated parameters to compute their uncertainty. You must use one of your previous functions to compute the inverse matrix. Consider that all data have the same variance given by the square of the standard deviation (the variable `stdev` used below) of the simulated noise.\n",
    "\n",
    "5. Plot the noise-corrupted data and the predicted data."
   ]
  },
  {
   "cell_type": "markdown",
   "metadata": {},
   "source": [
    "#### Simulating noise-free and noise-corrupted data"
   ]
  },
  {
   "cell_type": "markdown",
   "metadata": {},
   "source": [
    "The noise are generated by using the routine [`numpy.random.normal`](http://docs.scipy.org/doc/numpy/reference/generated/numpy.random.normal.html)."
   ]
  },
  {
   "cell_type": "code",
   "execution_count": 1,
   "metadata": {
    "collapsed": true
   },
   "outputs": [],
   "source": [
    "%matplotlib inline\n",
    "import numpy as np\n",
    "import matplotlib.pyplot as plt"
   ]
  },
  {
   "cell_type": "code",
   "execution_count": 23,
   "metadata": {
    "collapsed": true
   },
   "outputs": [],
   "source": [
    "# number of data\n",
    "N = 31\n",
    "\n",
    "# coordinates of the data\n",
    "x = np.linspace(0., 30., N)\n",
    "\n",
    "xmax = np.max(x)\n",
    "xmin = np.min(x)\n",
    "Dx = xmax - xmin\n",
    "\n",
    "# true constants a and b\n",
    "a = -5.\n",
    "b = 0.1\n",
    "\n",
    "# noise-free data vector\n",
    "d_free = a + b*x\n",
    "\n",
    "# Gaussian noise with null mean and standard deviation defined \n",
    "#by the variable stdev\n",
    "stdev = 0.3\n",
    "noise = np.random.normal(loc = 0., scale=stdev, size=N)\n",
    "\n",
    "# noise-corrupted data\n",
    "d_noise = d_free + noise\n",
    "\n",
    "dmin = np.min(d_noise)\n",
    "dmax = np.max(d_noise)\n",
    "Dd = dmax - dmin"
   ]
  },
  {
   "cell_type": "code",
   "execution_count": 24,
   "metadata": {},
   "outputs": [
    {
     "data": {
      "image/png": "[encoded data removed]",
      "text/plain": [
       "<matplotlib.figure.Figure at 0xb411f98>"
      ]
     },
     "metadata": {},
     "output_type": "display_data"
    }
   ],
   "source": [
    "plt.close('all')\n",
    "plt.figure(figsize=(10,8))\n",
    "plt.plot(x, d_free, 'ko', label='noise-free data')\n",
    "plt.plot(x, d_noise, 'ro', label='noise-corrupted data')\n",
    "plt.xlim(xmin - 0.05*Dx, xmax + 0.05*Dx)\n",
    "plt.ylim(dmin - 0.05*Dd, dmax + 0.05*Dd)\n",
    "plt.xlabel('x', fontsize=14)\n",
    "plt.ylabel('data', fontsize=14)\n",
    "plt.grid()\n",
    "plt.legend(loc='best', fontsize=12)\n",
    "plt.show()"
   ]
  }
 ],
 "metadata": {
  "kernelspec": {
   "display_name": "Python 2",
   "language": "python",
   "name": "python2"
  },
  "language_info": {
   "codemirror_mode": {
    "name": "ipython",
    "version": 2
   },
   "file_extension": ".py",
   "mimetype": "text/x-python",
   "name": "python",
   "nbconvert_exporter": "python",
   "pygments_lexer": "ipython2",
   "version": "2.7.13"
  }
 },
 "nbformat": 4,
 "nbformat_minor": 1
}
