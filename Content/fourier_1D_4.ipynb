{
 "cells": [
  {
   "cell_type": "markdown",
   "metadata": {},
   "source": [
    "# 1D Fourier Transform - part 4"
   ]
  },
  {
   "cell_type": "markdown",
   "metadata": {},
   "source": [
    "## Contents"
   ]
  },
  {
   "cell_type": "markdown",
   "metadata": {},
   "source": [
    "* [1D Fourier Transform](#sec1)\n",
    "\n",
    "\n",
    "* [1D Discrete Fourier Transform](#sec2)\n",
    "    * [Sampling Theorem](#sec2.1)\n",
    "    * [Numerical approximations for equations 39 and 40](#sec2.2)\n",
    "\n",
    "\n",
    "* [Exercise](#exercise)"
   ]
  },
  {
   "cell_type": "markdown",
   "metadata": {},
   "source": [
    "<a id='sec1'></a>\n",
    "## 1D Fourier Transform"
   ]
  },
  {
   "cell_type": "markdown",
   "metadata": {},
   "source": [
    "By substituting the coefficient $c_{n}$ ([equation 37](https://nbviewer.jupyter.org/github/birocoles/Disciplina-metodos-computacionais/blob/master/Content/fourier_1D_3.ipynb#eq37)) into the Fourier series of $g(y)$ ([equation 36](https://nbviewer.jupyter.org/github/birocoles/Disciplina-metodos-computacionais/blob/master/Content/fourier_1D_3.ipynb#eq36)) and using the definition of fundamental frequency $f_{0}$ ([equation 31b](https://nbviewer.jupyter.org/github/birocoles/Disciplina-metodos-computacionais/blob/master/Content/fourier_1D_3.ipynb#eq31b)), we obtain:"
   ]
  },
  {
   "cell_type": "markdown",
   "metadata": {},
   "source": [
    "<a id='eq38a'></a>\n",
    "\n",
    "$$\n",
    "\\begin{split}\n",
    "g(y) &= \\sum \\limits_{n=-N}^{N} \\left[ \n",
    "\\frac{1}{T_{0}} \\int \\limits_{-\\frac{T_{0}}{2}}^{\\frac{T_{0}}{2}} e^{\\, -i \\, 2 \\, \\pi \\, n \\, f_{0} \\, y} \\, g(y) \\; dy\n",
    "\\right] e^{\\, i \\, 2 \\, \\pi \\, n \\, f_{0} \\, y} \\\\\n",
    "&= \\sum \\limits_{n=-N}^{N} \\left[ \n",
    "\\int \\limits_{-\\frac{T_{0}}{2}}^{\\frac{T_{0}}{2}} \n",
    "e^{\\, -i \\, 2 \\, \\pi \\, n \\, f_{0} \\, y} \\, g(y) \\; dy\n",
    "\\right] e^{\\, i \\, 2 \\, \\pi \\, n \\, f_{0} \\, y} \\: f_{0} \\\\\n",
    "&= \\sum \\limits_{n=-N}^{N} G \\left( f_{n} \\right) \\, e^{\\, i \\, 2 \\, \\pi \\, f_{n} \\, y} \\: f_{0}\n",
    "\\end{split} \\: , \\quad \\quad \\text{for} \\; N \\to \\infty \\: , \\tag{38a}\n",
    "$$"
   ]
  },
  {
   "cell_type": "markdown",
   "metadata": {},
   "source": [
    "where"
   ]
  },
  {
   "cell_type": "markdown",
   "metadata": {},
   "source": [
    "<a id='eq38b'></a>\n",
    "\n",
    "$$\n",
    "G \\left( f_{n} \\right) = \\int \\limits_{-\\frac{T_{0}}{2}}^{\\frac{T_{0}}{2}} \n",
    "e^{\\, -i \\, 2 \\, \\pi \\, f_{n} \\, y} \\, g(y) \\; dy \\quad , \\tag{38b}\n",
    "$$"
   ]
  },
  {
   "cell_type": "markdown",
   "metadata": {},
   "source": [
    "and $f_{n} = n \\, f_{0}$. [Equation 38b](#eq38b) represents a function evaluated at discrete values of the variable $f_{n}$. Notice that $f_{0}$ represents the increment in the variable $f_{n}$. Moreover, $n \\to \\pm \\infty \\rightarrow f_{n} \\to \\pm \\infty$. By letting $T_{0} \\rightarrow \\infty$, $f_{0}$ tends to an infinitesimal $d \\, f$, $f_{n}$ tends to a continuous variable and the functions $g(y)$ ([equation 38a](#eq38a)) and $G(f_{n})$ ([equation 38b](#eq38b)) become"
   ]
  },
  {
   "cell_type": "markdown",
   "metadata": {},
   "source": [
    "<a id='eq39'></a>\n",
    "\n",
    "$$\n",
    "g(y) = \\int \\limits_{-\\infty}^{\\infty} \n",
    "G(f) \\, e^{\\, i \\, 2 \\, \\pi \\, f \\, y} \\; d \\, f \\quad , \\tag{39}\n",
    "$$"
   ]
  },
  {
   "cell_type": "markdown",
   "metadata": {},
   "source": [
    "and"
   ]
  },
  {
   "cell_type": "markdown",
   "metadata": {},
   "source": [
    "<a id='eq40'></a>\n",
    "\n",
    "$$\n",
    "G(f) = \\int \\limits_{-\\infty}^{\\infty} \n",
    "g(y) \\, e^{\\, -i \\, 2 \\, \\pi \\, f \\, y} \\; d y \\quad . \\tag{40}\n",
    "$$"
   ]
  },
  {
   "cell_type": "markdown",
   "metadata": {},
   "source": [
    "Equations [39](#eq39) and [40](#eq40) are known as **Inverse Fourier Transform** and **Fourier Transform**, respectively. By considering that $y$ is a length/time, we say that $g(y)$ is in space/time domain and $G(f)$ is in Fourier domain. If $y$ is measured in seconds, then $f$ is in cycles per second, or Hertz (the unit of frequency). If $y$ is measured in meters, $f$ cycles per meter, or inverse wavelength. For many purposes it is useful to think of $g(y)$ and $G(f)$ as being two different representations of the same function.\n",
    "\n",
    "\n",
    "Notice that equations [39](#eq39) and [40](#eq40) deal with continuous functions that are integrated from $-\\infty$ to $\\infty$. In practical situations, we want to calculate the Fourier Transform $G(f)$ ([equation 40](#eq40)) of a function $g(y)$ that is evaluated on a discrete set of points $y$. In this case, we solve [equation 40](#eq40) numerically in order to obtain estimates of $G(f)$ at a discrete set of points $f$. These discrete forms of equations [39](#eq39) and [40](#eq40) are called **Discrete Inverse Fourier Transform** and **Discrete Fourier Transform**, respectively."
   ]
  },
  {
   "cell_type": "markdown",
   "metadata": {},
   "source": [
    "<a id='sec2'></a>\n",
    "## 1D Discrete Fourier Transform"
   ]
  },
  {
   "cell_type": "markdown",
   "metadata": {},
   "source": [
    "Consider a function $g(y)$ that is sampled at evenly spaced intervals $\\Delta y$ (sampling interval), so that we have "
   ]
  },
  {
   "cell_type": "markdown",
   "metadata": {},
   "source": [
    "<a id='eq41a'></a>\n",
    "\n",
    "$$\n",
    "g_{k} \\equiv g(y_{k}) \\: , \\tag{41a}\n",
    "$$"
   ]
  },
  {
   "cell_type": "markdown",
   "metadata": {},
   "source": [
    "<a id='eq41b'></a>\n",
    "\n",
    "$$\n",
    "y_{k} = k \\, \\Delta y \\: , \\quad k = 0, 1, \\dots , N-1 \\: . \\tag{41b}\n",
    "$$"
   ]
  },
  {
   "cell_type": "markdown",
   "metadata": {},
   "source": [
    "For simplicity, let's consider that $N$ is even."
   ]
  },
  {
   "cell_type": "markdown",
   "metadata": {},
   "source": [
    "<a id='sec2.1'></a>\n",
    "### Sampling Theorem"
   ]
  },
  {
   "cell_type": "markdown",
   "metadata": {},
   "source": [
    "For any sampling interval $\\Delta y$, there is also a special frequency $f_{c}$, called the **Nyquist critical frequency**, given by (Press et al., 1992):"
   ]
  },
  {
   "cell_type": "markdown",
   "metadata": {},
   "source": [
    "<a id='eq42'></a>\n",
    "\n",
    "$$\n",
    "f_{c} = \\frac{1}{2 \\Delta y} \\: . \\tag{42}\n",
    "$$"
   ]
  },
  {
   "cell_type": "markdown",
   "metadata": {},
   "source": [
    "According to the **sampling theorem**: If a continuous function $g(y)$, sampled at an interval $\\Delta y$, happens to be bandwidth limited to frequencies smaller in magnitude than $f_{c}$, i.e., if $G(f) = 0$ for all $\\lvert \\, f \\, \\rvert  \\ge f_{c} \\,$, then the function $g(y)$ is completely determined by its samples $g_{i}$ (Press et al., 1992)."
   ]
  },
  {
   "cell_type": "markdown",
   "metadata": {},
   "source": [
    "<a id='sec2.2'></a>\n",
    "### Numerical approximations for equations [39](#eq39) and [40](#eq40)"
   ]
  },
  {
   "cell_type": "markdown",
   "metadata": {},
   "source": [
    "Let's consider the Fourier Transform $G(f)$ evaluated at evenly spaced at points $f_{n}$ given by:"
   ]
  },
  {
   "cell_type": "markdown",
   "metadata": {},
   "source": [
    "<a id='eq43'></a>\n",
    "\n",
    "$$\n",
    "f_{n} = \\frac{n}{N \\Delta y} \\: , \\quad n = -\\frac{N}{2}, \\dots , \\frac{N}{2} \\: . \\tag{43}\n",
    "$$"
   ]
  },
  {
   "cell_type": "markdown",
   "metadata": {},
   "source": [
    "Equation [40](#eq40) can then be approximated as follows:"
   ]
  },
  {
   "cell_type": "markdown",
   "metadata": {},
   "source": [
    "<a id='eq44'></a>\n",
    "\n",
    "$$\n",
    "\\begin{split}\n",
    "G(f_{n}) &\\approx \\sum \\limits_{k = 0}^{N-1} \n",
    "g_{k} \\, e^{\\, -i \\, 2 \\, \\pi \\, f_{n} \\, y_{k}} \\; \\Delta y \\\\\n",
    "&\\approx \\Delta y \\sum \\limits_{k = 0}^{N-1} \n",
    "g_{k} \\, e^{\\, -i \\, 2 \\, \\pi \\, \\left( \\frac{n}{N \\Delta y} \\right) \\, \\left( k \\, \\Delta y\\right)} \\\\\n",
    "&\\approx \\Delta y \\sum \\limits_{k = 0}^{N-1} \n",
    "g_{k} \\, e^{\\, -i \\, 2 \\, \\pi \\, n \\, k \\, \\mathbin{/} \\, N}\n",
    "\\end{split} \\quad . \\tag{44}\n",
    "$$"
   ]
  },
  {
   "cell_type": "markdown",
   "metadata": {},
   "source": [
    "The **Discrete Fourier Transform** is defined as follows:"
   ]
  },
  {
   "cell_type": "markdown",
   "metadata": {},
   "source": [
    "<a id='eq45'></a>\n",
    "\n",
    "$$\n",
    "G_{n} \\equiv \\sum \\limits_{k = 0}^{N-1} \n",
    "g_{k} \\, e^{\\, -i \\, 2 \\, \\pi \\, n \\, k \\, \\mathbin{/} \\, N} \\quad , \\tag{45}\n",
    "$$"
   ]
  },
  {
   "cell_type": "markdown",
   "metadata": {},
   "source": [
    "where $G(f_{n}) \\approx \\Delta y \\, G_{n}$ (Press et al., 1992)."
   ]
  },
  {
   "cell_type": "markdown",
   "metadata": {},
   "source": [
    "In [equation 43](#eq43), $n$ varies from $−\\frac{N}{2}$ to $\\frac{N}{2}$. Notice that $G_{n}$ ([equation 45](#eq45)) is periodic $n$, with period $N$. Therefore, $G_{-N/2} = G_{N/2}$ or, in a general form, $G_{n} = G_{n+N}$, $n = 1, 2, \\dots$. With this conversion in mind, one generally lets $n$ ([equation 45](#eq45)) varies from $0$ to $N − 1$ (one complete period). Then $n$ and $k$ vary exactly over the same range. When this convention is followed, you must remember that zero frequency corresponds to $n = 0$, positive frequencies $0 < f < f_{c}$ correspond to values $1 \\le n \\le (N/2) − 1$, and negative frequencies $−f_{c} < f < 0$ correspond to $(N/2) + 1 \\le n \\le N−1$. The value $n = N/2$ corresponds to both $G_{-N/2}$ and $G_{N/2}$ (Press et al., 1992)."
   ]
  },
  {
   "cell_type": "markdown",
   "metadata": {},
   "source": [
    "Similarly, the **Discrete Inverse Fourier Transform** is given by:"
   ]
  },
  {
   "cell_type": "markdown",
   "metadata": {},
   "source": [
    "<a id='eq46'></a>\n",
    "\n",
    "$$\n",
    "g_{k} \\equiv \\frac{1}{N} \\sum \\limits_{k = 0}^{N-1} \n",
    "G_{n} \\, e^{\\, i \\, 2 \\, \\pi \\, n \\, k \\, \\mathbin{/} \\, N} \\quad . \\tag{46}\n",
    "$$"
   ]
  },
  {
   "cell_type": "markdown",
   "metadata": {},
   "source": [
    "In practical situations, equation [45](#eq45) is written in matrix notation, as follows:"
   ]
  },
  {
   "cell_type": "markdown",
   "metadata": {},
   "source": [
    "<a id='eq47'></a>\n",
    "\n",
    "$$\n",
    "\\mathbf{G} = \\mathbf{W} \\, \\mathbf{g} \\quad, \\tag{47}\n",
    "$$"
   ]
  },
  {
   "cell_type": "markdown",
   "metadata": {},
   "source": [
    "where $\\mathbf{W}$ is an $N \\times N$ complex matrix called *Discrete Fourier Transform Matrix* or simply *DFT matrix*, with element $nk$ given by $w_{nk} = s \\, e^{ -i \\, 2 \\pi \\, n \\, k \\, / N}$, and $s$ is a scalar factor that can assumes the three possible values: $1$, $\\frac{1}{N}$ or $\\frac{1}{\\sqrt{N}}$."
   ]
  },
  {
   "cell_type": "markdown",
   "metadata": {},
   "source": [
    "In practical situations, equation [46](#eq46) is written in matrix notation, as follows:"
   ]
  },
  {
   "cell_type": "markdown",
   "metadata": {},
   "source": [
    "<a id='eq48'></a>\n",
    "\n",
    "$$\n",
    "\\mathbf{g} = \\mathbf{W}^{H} \\, \\mathbf{G} \\quad, \\tag{48}\n",
    "$$"
   ]
  },
  {
   "cell_type": "markdown",
   "metadata": {},
   "source": [
    "where $\\mathbf{W}^{H}$ is the [conjugate transpose](https://en.wikipedia.org/wiki/Conjugate_transpose) of $\\mathbf{W}$ ([equation 47](#eq47)), with element $kn$ given by $w_{kn} = s \\, e^{\\, i \\, 2 \\pi \\, n \\, k \\, / N}$."
   ]
  },
  {
   "cell_type": "markdown",
   "metadata": {
    "collapsed": true
   },
   "source": [
    "<a id='exercise'></a>\n",
    "\n",
    "### Exercise"
   ]
  },
  {
   "cell_type": "markdown",
   "metadata": {},
   "source": [
    "1. In your `my_function.py` file, create a function called `DFT_matrix`. The function must receive the positive integer $N$ and a string called `scale` representing the scale factor $s$. This string may assume three possible values: `None`, `'n'` or `'sqrtn'`. Your function must define the scale factor $s$ based on the string `scale`. Hint: the DFT matrix and can be defined by using `outer(n, n)`, where `n` is a vector with elements varying from `0` to `N-1`.\n",
    "2. In your file `test_my_function.py`, create two tests for the function `DFT_matrix`. One test must compare the result produced by `DFT_matrix` and an expected result produced by a specific input. The other test must compare the result produced by your function and the result produced by the routine [`scipy.linalg.dft`](https://docs.scipy.org/doc/scipy/reference/generated/scipy.linalg.dft.html).\n",
    "3. In your `my_function.py` file, create a function called `fft1D`. The function must receive the data vector $\\mathbf{g}$ and return its Discrete Fourier Transform. This function must create the DFT matrix $\\mathbf{W}$ ([equation 47](#eq47)) by using your function `DFT_matrix` and must compute the matrix-vector product by using your function `matvec_complex` (see the notebook `block_matrix.ipynb`).\n",
    "4. In your file `test_my_function.py`, create one test for the function `fft1D`. This test must compare the result produced by `fft1D` and the result produced by the routine [`scipy.fftpack.fft`](https://docs.scipy.org/doc/scipy/reference/generated/scipy.fftpack.fft.html#scipy.fftpack.fft).\n",
    "5. In your `my_function.py` file, create a function called `ifft1D`. The function must receive the complex vector $\\mathbf{G}$ and return its Discrete Inverse Fourier Transform. This function must create the DFT matrix $\\mathbf{W}$ ([equation 47](#eq47)) by using your function `DFT_matrix` and must compute the matrix-vector product by using your function `matvec_complex` (see the notebook `block_matrix.ipynb`). Hint: given a complex numpy array 2D `A`, its conjugate transpose is given by `np.conjugate(A).T`.\n",
    "6. In your file `test_my_function.py`, create one test for the function `ifft1D`. This test must compare the result produced by `ifft1D` and the result produced by the routine [`scipy.fftpack.ifft`](https://docs.scipy.org/doc/scipy/reference/generated/scipy.fftpack.ifft.html)."
   ]
  }
 ],
 "metadata": {
  "anaconda-cloud": {},
  "kernelspec": {
   "display_name": "Python 3",
   "language": "python",
   "name": "python3"
  },
  "language_info": {
   "codemirror_mode": {
    "name": "ipython",
    "version": 3
   },
   "file_extension": ".py",
   "mimetype": "text/x-python",
   "name": "python",
   "nbconvert_exporter": "python",
   "pygments_lexer": "ipython3",
   "version": "3.6.8"
  }
 },
 "nbformat": 4,
 "nbformat_minor": 1
}
