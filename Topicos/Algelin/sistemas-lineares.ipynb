{
 "cells": [
  {
   "cell_type": "markdown",
   "metadata": {},
   "source": [
    "#Sistemas lineares"
   ]
  },
  {
   "cell_type": "markdown",
   "metadata": {},
   "source": [
    "Considere o seguinte conjunto de equações:"
   ]
  },
  {
   "cell_type": "markdown",
   "metadata": {},
   "source": [
    "$\\begin{array}{r}\n",
    "       x_{1} & + & 5 \\, x_{2} & - & 5.3 \\, x_{3} & = y_{1} \\\\\n",
    "2.4 \\, x_{1} & - & 2 \\, x_{2} & + & x_{3} & = y_{2} \\\\\n",
    "7.8 \\, x_{1} & - & 4.1 \\, x_{2} & + & 6.4 \\, x_{3} & = y_{3} \\\\\n",
    "\\end{array}\n",
    "$"
   ]
  },
  {
   "cell_type": "markdown",
   "metadata": {},
   "source": [
    "###Coisas para importar"
   ]
  },
  {
   "cell_type": "code",
   "execution_count": 1,
   "metadata": {
    "collapsed": true
   },
   "outputs": [],
   "source": [
    "import numpy as np"
   ]
  },
  {
   "cell_type": "markdown",
   "metadata": {},
   "source": [
    "###Minha função (Opção 1)"
   ]
  },
  {
   "cell_type": "code",
   "execution_count": 2,
   "metadata": {
    "collapsed": false
   },
   "outputs": [],
   "source": [
    "def minha_funcao():\n",
    "    \n",
    "    '''\n",
    "    Descrição breve da função\n",
    "    \n",
    "    \n",
    "    input\n",
    "    \n",
    "    parâmetro de entrada 1: tipo de variável - descrição da variável\n",
    "    parâmetro de entrada 2: tipo de variável - descrição da variável\n",
    "    ...\n",
    "    \n",
    "    output\n",
    "    \n",
    "    parâmetro de saída 1: tipo de variável - descrição da variável\n",
    "    parâmetro de saída 2: tipo de variável - descrição da variável\n",
    "    ...\n",
    "    \n",
    "    '''\n",
    "    \n",
    "    #inicialização de variáveis\n",
    "    \n",
    "    #mensagens de erro\n",
    "    #if ... :\n",
    "    #    raise ValueError('mensagem de erro')\n",
    "    #if ... :\n",
    "    #    raise ValueError('mensagem de erro')\n",
    "    #...\n",
    "\n",
    "    #implementação da função\n",
    "    \n",
    "    #return saída1, saída2, ..."
   ]
  },
  {
   "cell_type": "markdown",
   "metadata": {},
   "source": [
    "###Importar minhas funções de um arquivo externo (Opção 2)"
   ]
  },
  {
   "cell_type": "code",
   "execution_count": 3,
   "metadata": {
    "collapsed": true
   },
   "outputs": [],
   "source": [
    "import minhas_funcoes as mfun"
   ]
  },
  {
   "cell_type": "markdown",
   "metadata": {},
   "source": [
    "###Input"
   ]
  },
  {
   "cell_type": "code",
   "execution_count": null,
   "metadata": {
    "collapsed": true
   },
   "outputs": [],
   "source": [
    "#Gerar o(s) input(s) da sua função."
   ]
  },
  {
   "cell_type": "markdown",
   "metadata": {},
   "source": [
    "###Resultado da minha função"
   ]
  },
  {
   "cell_type": "code",
   "execution_count": null,
   "metadata": {
    "collapsed": true
   },
   "outputs": [],
   "source": [
    "#Exemplo de mensagem de erro emitida pela sua função (opcional)."
   ]
  },
  {
   "cell_type": "code",
   "execution_count": null,
   "metadata": {
    "collapsed": true
   },
   "outputs": [],
   "source": [
    "#Resultado gerado com a função mostrada no próprio IPython Notebook (Opção 1)."
   ]
  },
  {
   "cell_type": "code",
   "execution_count": null,
   "metadata": {
    "collapsed": true
   },
   "outputs": [],
   "source": [
    "#Resultado gerado com a função definida no arquivo externo 'minhas_funcoes.py' (Opção 2)."
   ]
  },
  {
   "cell_type": "markdown",
   "metadata": {},
   "source": [
    "###Resultado proveniente de outra implementação"
   ]
  },
  {
   "cell_type": "code",
   "execution_count": 1,
   "metadata": {
    "collapsed": true
   },
   "outputs": [],
   "source": [
    "#Resultado proveniente de uma implementação independente, que pode ser feita em Python, por exemplo."
   ]
  },
  {
   "cell_type": "markdown",
   "metadata": {},
   "source": [
    "###Teste de validação"
   ]
  },
  {
   "cell_type": "code",
   "execution_count": 9,
   "metadata": {
    "collapsed": false
   },
   "outputs": [
    {
     "data": {
      "text/plain": [
       "True"
      ]
     },
     "execution_count": 9,
     "metadata": {},
     "output_type": "execute_result"
    }
   ],
   "source": [
    "np.allclose(meu_resultado, python_resultado, rtol=1e-10, atol=1e-10)"
   ]
  },
  {
   "cell_type": "code",
   "execution_count": null,
   "metadata": {
    "collapsed": true
   },
   "outputs": [],
   "source": []
  }
 ],
 "metadata": {
  "kernelspec": {
   "display_name": "Python 2",
   "language": "python",
   "name": "python2"
  },
  "language_info": {
   "codemirror_mode": {
    "name": "ipython",
    "version": 2
   },
   "file_extension": ".py",
   "mimetype": "text/x-python",
   "name": "python",
   "nbconvert_exporter": "python",
   "pygments_lexer": "ipython2",
   "version": "2.7.7"
  }
 },
 "nbformat": 4,
 "nbformat_minor": 0
}
