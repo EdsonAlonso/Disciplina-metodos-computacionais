{
 "cells": [
  {
   "cell_type": "markdown",
   "metadata": {},
   "source": [
    "#Sistemas lineares"
   ]
  },
  {
   "cell_type": "markdown",
   "metadata": {},
   "source": [
    "Considere o seguinte conjunto de equações:"
   ]
  },
  {
   "cell_type": "markdown",
   "metadata": {},
   "source": [
    "$\\begin{array}{r}\n",
    "       x_{1} & + & 5 \\, x_{2} & - & 5.3 \\, x_{3} & = & y_{1} \\\\\n",
    "2.4 \\, x_{1} & - & 2 \\, x_{2} & + & x_{3} & = & y_{2} \\\\\n",
    "7.8 \\, x_{1} & - & 4.1 \\, x_{2} & + & 6.4 \\, x_{3} & = & y_{3} \\\\\n",
    "\\end{array}\n",
    "$ ,"
   ]
  },
  {
   "cell_type": "markdown",
   "metadata": {},
   "source": [
    "em que $x_{1}$, $x_{2}$, $x_{3}$ são as incógnitas. Note que $y_{i}$, $i = 1, 2, 3$, são [combinações lineares](http://mathworld.wolfram.com/LinearCombination.html) das variáveis  $x_{1}$, $x_{2}$, $x_{3}$. Isso significa que a derivada de $y_{i}$, $i = 1, 2, 3$, em relação a qualquer uma das variáveis $x_{1}$, $x_{2}$, $x_{3}$ é uma constante. Por exemplo, a derivada de $y_{2}$ em relação a $x_{3}$ é igual a $1$."
   ]
  },
  {
   "cell_type": "markdown",
   "metadata": {},
   "source": [
    "Este conjunto de equações pode ser reescrito em notação matricial, da seguinte forma:"
   ]
  },
  {
   "cell_type": "markdown",
   "metadata": {},
   "source": [
    "$\\mathbf{A}\\, \\mathbf{x} = \\mathbf{y} \\: ,$"
   ]
  },
  {
   "cell_type": "markdown",
   "metadata": {},
   "source": [
    "em que"
   ]
  },
  {
   "cell_type": "markdown",
   "metadata": {},
   "source": [
    "$\\mathbf{A} = \\left[\n",
    "\\begin{array}{ccc}\n",
    "1 & 5 & -5.3 \\\\\n",
    "2.4 & -2 & 1 \\\\\n",
    "7.8 & -4.1 & 6.4\n",
    "\\end{array}\n",
    "\\right]_{3 \\times 3} \\: ,$"
   ]
  },
  {
   "cell_type": "markdown",
   "metadata": {},
   "source": [
    "$\\mathbf{y} = \\left[\n",
    "\\begin{array}{c}\n",
    "y_{1} \\\\\n",
    "y_{2} \\\\\n",
    "y_{3}\n",
    "\\end{array}\n",
    "\\right]_{3 \\times 1}$"
   ]
  },
  {
   "cell_type": "markdown",
   "metadata": {},
   "source": [
    "e"
   ]
  },
  {
   "cell_type": "markdown",
   "metadata": {},
   "source": [
    "$\\mathbf{x} = \\left[\n",
    "\\begin{array}{c}\n",
    "x_{1} \\\\\n",
    "x_{2} \\\\\n",
    "x_{3}\n",
    "\\end{array}\n",
    "\\right]_{3 \\times 1} \\: .$"
   ]
  },
  {
   "cell_type": "markdown",
   "metadata": {},
   "source": [
    "Esta equação é comumente denominada sistema de equações lineares ou apenas **sistema linear**."
   ]
  },
  {
   "cell_type": "markdown",
   "metadata": {},
   "source": [
    "Tal como visto anteriormente, o produto $\\mathbf{A} \\, \\mathbf{x}$ pode ser reescrito como uma combinação linear das colunas de $\\mathbf{A}$. Dessa forma, é possível reescrever o sistema linear acima da seguinte forma:"
   ]
  },
  {
   "cell_type": "markdown",
   "metadata": {},
   "source": [
    "$\\begin{split}\n",
    "\\mathbf{y} & =\n",
    "x_{1} \\left[\n",
    "\\begin{array}{c}\n",
    "1 \\\\\n",
    "2.4 \\\\\n",
    "7.8\n",
    "\\end{array} \\right]_{3 \\times 1} +\n",
    "x_{2} \\left[\n",
    "\\begin{array}{c}\n",
    "5 \\\\\n",
    "-2 \\\\\n",
    "-4.1\n",
    "\\end{array} \\right]_{3 \\times 1} +\n",
    "x_{3} \\left[\n",
    "\\begin{array}{c}\n",
    "-5.3 \\\\\n",
    "1 \\\\\n",
    "6.4\n",
    "\\end{array} \\right]_{3 \\times 1} \\\\\\\\\n",
    "& = x_{1} \\, \\mathbf{A}(:,1) + x_{2} \\, \\mathbf{A}(:,2) + x_{3} \\, \\mathbf{A}(:,3) \\: ,\n",
    "\\end{split}$"
   ]
  },
  {
   "cell_type": "markdown",
   "metadata": {},
   "source": [
    "em que $\\mathbf{A}(:,j)$, $j = 1, 2, 3$, é um vetor $3 \\times 1$ que representa a $j$-ésima coluna de $\\mathbf{A}$. Esta formulação evidencia o fato de que o vetor $\\mathbf{y}$ é uma [combinação linear](http://mathworld.wolfram.com/LinearCombination.html) das colunas da matriz $\\mathbf{A}$, cujos coeficientes são os elementos do vetor $\\mathbf{x}$."
   ]
  },
  {
   "cell_type": "markdown",
   "metadata": {},
   "source": [
    "Esta formulação nos permite analisar a unicidade do sistema linear apresentado acima. A unicidade de um sistema linear está relacionada à seguinte questão: Seja uma matriz $\\mathbf{A}$ e um determinado vetor $\\mathbf{y} = \\mathbf{y}^{\\dagger}$. Existem diferentes vetores $\\mathbf{x}$ cujo produto $\\mathbf{A} \\mathbf{x}$ produz o mesmo vetor $\\mathbf{y}^{\\dagger}$? Ou seja, existem diferentes vetores $\\mathbf{x}$ que satisfazem a equação"
   ]
  },
  {
   "cell_type": "markdown",
   "metadata": {},
   "source": [
    "$\\mathbf{A}\\, \\mathbf{x} = \\mathbf{y}^{\\dagger}$ ?"
   ]
  },
  {
   "cell_type": "markdown",
   "metadata": {},
   "source": [
    "Por definição, se existir apenas um determinado vetor $\\mathbf{x} = \\mathbf{x}^{\\dagger}$ que satisfaz a equação acima, então diz-se que o sistema linear é **único**."
   ]
  },
  {
   "cell_type": "markdown",
   "metadata": {
    "collapsed": true
   },
   "source": [
    "Para analisar se um sistema linear é único, considere o caso particular em que o vetor $\\mathbf{y}^{\\dagger}$ possui todos o elementos iguais a zero, ou seja:"
   ]
  },
  {
   "cell_type": "markdown",
   "metadata": {},
   "source": [
    "$\\mathbf{0} = \\mathbf{A} \\mathbf{x}$"
   ]
  },
  {
   "cell_type": "markdown",
   "metadata": {},
   "source": [
    "ou"
   ]
  },
  {
   "cell_type": "markdown",
   "metadata": {},
   "source": [
    "$\\left[\n",
    "\\begin{array}{c}\n",
    "0 \\\\\n",
    "0 \\\\\n",
    "0\n",
    "\\end{array} \\right]_{3 \\times 1} =\n",
    "x_{1} \\left[\n",
    "\\begin{array}{c}\n",
    "1 \\\\\n",
    "2.4 \\\\\n",
    "7.8\n",
    "\\end{array} \\right]_{3 \\times 1} +\n",
    "x_{2} \\left[\n",
    "\\begin{array}{c}\n",
    "5 \\\\\n",
    "-2 \\\\\n",
    "-4.1\n",
    "\\end{array} \\right]_{3 \\times 1} +\n",
    "x_{3} \\left[\n",
    "\\begin{array}{c}\n",
    "-5.3 \\\\\n",
    "1 \\\\\n",
    "6.4\n",
    "\\end{array} \\right]_{3 \\times 1} \\: . $"
   ]
  },
  {
   "cell_type": "markdown",
   "metadata": {},
   "source": [
    "Por definição, se o único vetor $\\mathbf{x}$ que satisfaz esta equação é aquele que possui todos os elementos iguais a zero, então o sistema linear é único. Nesse caso, diz-se que as colunas da matriz $\\mathbf{A}$ formam uma [base](http://mathworld.wolfram.com/VectorSpaceBasis.html), o que corresponde a dizer que as colunas de $\\mathbf{A}$ são vetores [linearmente independentes](http://mathworld.wolfram.com/LinearlyIndependent.html) e que $\\mathbf{A}$ tem posto (ou *rank*) completo."
   ]
  },
  {
   "cell_type": "markdown",
   "metadata": {},
   "source": [
    "Dar exemplos de sistemas lineares únicos e não-unicos"
   ]
  },
  {
   "cell_type": "code",
   "execution_count": null,
   "metadata": {
    "collapsed": true
   },
   "outputs": [],
   "source": []
  }
 ],
 "metadata": {
  "kernelspec": {
   "display_name": "Python 2",
   "language": "python",
   "name": "python2"
  },
  "language_info": {
   "codemirror_mode": {
    "name": "ipython",
    "version": 2
   },
   "file_extension": ".py",
   "mimetype": "text/x-python",
   "name": "python",
   "nbconvert_exporter": "python",
   "pygments_lexer": "ipython2",
   "version": "2.7.7"
  }
 },
 "nbformat": 4,
 "nbformat_minor": 0
}
