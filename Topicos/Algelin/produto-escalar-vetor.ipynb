{
 "cells": [
  {
   "cell_type": "markdown",
   "metadata": {},
   "source": [
    "#Produto entre um escalar e um vetor"
   ]
  },
  {
   "cell_type": "markdown",
   "metadata": {},
   "source": [
    "Seja $a$ um escalar e $\\mathbf{x}$ um vetor $N \\times 1$. O produto entre $a$ e $\\mathbf{x}$ é dado por:"
   ]
  },
  {
   "cell_type": "markdown",
   "metadata": {},
   "source": [
    "$\\begin{align}\n",
    "\\mathbf{y} & = a \\, \\mathbf{x}\\\\\n",
    "           & = \\left[\n",
    "                \\begin{array}{c}\n",
    "                a \\, x_{1} \\\\\n",
    "                a \\, x_{2} \\\\\n",
    "                \\vdots \\\\\n",
    "                a \\, x_{N}\n",
    "                \\end{array}\n",
    "                \\right]_{N \\times 1}\n",
    "\\end{align}$"
   ]
  },
  {
   "cell_type": "markdown",
   "metadata": {},
   "source": [
    "###Exercício"
   ]
  },
  {
   "cell_type": "markdown",
   "metadata": {
    "collapsed": true
   },
   "source": [
    "Implemente o produto $a \\, \\mathbf{x}$. **A implementação deve seguir o template da disciplina**."
   ]
  },
  {
   "cell_type": "code",
   "execution_count": null,
   "metadata": {
    "collapsed": true
   },
   "outputs": [],
   "source": []
  }
 ],
 "metadata": {
  "kernelspec": {
   "display_name": "Python 2",
   "language": "python",
   "name": "python2"
  },
  "language_info": {
   "codemirror_mode": {
    "name": "ipython",
    "version": 2
   },
   "file_extension": ".py",
   "mimetype": "text/x-python",
   "name": "python",
   "nbconvert_exporter": "python",
   "pygments_lexer": "ipython2",
   "version": "2.7.7"
  }
 },
 "nbformat": 4,
 "nbformat_minor": 0
}
