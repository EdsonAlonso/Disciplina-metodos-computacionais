{
 "cells": [
  {
   "cell_type": "markdown",
   "metadata": {},
   "source": [
    "#Produto entre um escalar e um vetor"
   ]
  },
  {
   "cell_type": "markdown",
   "metadata": {},
   "source": [
    "Seja $a$ um escalar e $\\mathbf{x}$ um vetor $N \\times 1$. O produto entre $a$ e $\\mathbf{x}$ é dado por:"
   ]
  },
  {
   "cell_type": "markdown",
   "metadata": {},
   "source": [
    "$$\\begin{split}\n",
    "\\mathbf{y} & = a \\, \\mathbf{x}\\\\\n",
    "           & = \\left[\n",
    "                \\begin{array}{c}\n",
    "                a \\, x_{1} \\\\\n",
    "                a \\, x_{2} \\\\\n",
    "                \\vdots \\\\\n",
    "                a \\, x_{N}\n",
    "                \\end{array}\n",
    "                \\right]_{N \\times 1}\n",
    "\\end{split}$$"
   ]
  },
  {
   "cell_type": "markdown",
   "metadata": {},
   "source": [
    "###Coisas para importar"
   ]
  },
  {
   "cell_type": "code",
   "execution_count": 1,
   "metadata": {
    "collapsed": true
   },
   "outputs": [],
   "source": [
    "import numpy as np"
   ]
  },
  {
   "cell_type": "markdown",
   "metadata": {},
   "source": [
    "###Minha função"
   ]
  },
  {
   "cell_type": "markdown",
   "metadata": {},
   "source": [
    "A célula abaixo contém um exemplo de função definida no próprio IPython Notebook."
   ]
  },
  {
   "cell_type": "code",
   "execution_count": 2,
   "metadata": {
    "collapsed": true
   },
   "outputs": [],
   "source": [
    "def prod_escalar_vetor(a, x):\n",
    "    \n",
    "    '''\n",
    "    Esta funcao calcula o produto escalar entre o\n",
    "    escalar \"a\" e o vetor \"x\"\n",
    "    \n",
    "    input\n",
    "    \n",
    "    a: float - escalar\n",
    "    x: numpy array - vetor\n",
    "    \n",
    "    output\n",
    "    \n",
    "    y: float - produto escalar entre os \n",
    "       vetores x e y\n",
    "    '''\n",
    "\n",
    "    y = a*x\n",
    "    \n",
    "    return y"
   ]
  },
  {
   "cell_type": "markdown",
   "metadata": {},
   "source": [
    "###Importar minhas funções de um arquivo externo"
   ]
  },
  {
   "cell_type": "markdown",
   "metadata": {},
   "source": [
    "A célula abaixo mostra um exemplo de como uma função pode ser definida em um arquivo externo. No exemplo abaixo, o arquivo é denominado `minhas_funcoes.py` e está localizado no mesmo diretório deste IPython Notebook. O conteúdo deste arquivo é o código da função `prod_escalar_vetor`, exatamente como mostrado na célula acima."
   ]
  },
  {
   "cell_type": "code",
   "execution_count": 3,
   "metadata": {
    "collapsed": true
   },
   "outputs": [],
   "source": [
    "import minhas_funcoes as mfun"
   ]
  },
  {
   "cell_type": "markdown",
   "metadata": {},
   "source": [
    "###Input"
   ]
  },
  {
   "cell_type": "code",
   "execution_count": 4,
   "metadata": {
    "collapsed": false
   },
   "outputs": [],
   "source": [
    "a = 4.0\n",
    "x = np.array([[1.],[2.],[3.]])"
   ]
  },
  {
   "cell_type": "markdown",
   "metadata": {},
   "source": [
    "###Resultado da minha função"
   ]
  },
  {
   "cell_type": "code",
   "execution_count": 5,
   "metadata": {
    "collapsed": false
   },
   "outputs": [
    {
     "name": "stdout",
     "output_type": "stream",
     "text": [
      "[[  4.]\n",
      " [  8.]\n",
      " [ 12.]]\n"
     ]
    }
   ],
   "source": [
    "meu_resultado = prod_escalar_vetor(a,x)\n",
    "\n",
    "print meu_resultado"
   ]
  },
  {
   "cell_type": "code",
   "execution_count": 6,
   "metadata": {
    "collapsed": false
   },
   "outputs": [
    {
     "name": "stdout",
     "output_type": "stream",
     "text": [
      "[[  4.]\n",
      " [  8.]\n",
      " [ 12.]]\n"
     ]
    }
   ],
   "source": [
    "meu_resultado2 = mfun.prod_escalar_vetor(a,x)\n",
    "\n",
    "print meu_resultado2"
   ]
  }
 ],
 "metadata": {
  "kernelspec": {
   "display_name": "Python 2",
   "language": "python",
   "name": "python2"
  },
  "language_info": {
   "codemirror_mode": {
    "name": "ipython",
    "version": 2
   },
   "file_extension": ".py",
   "mimetype": "text/x-python",
   "name": "python",
   "nbconvert_exporter": "python",
   "pygments_lexer": "ipython2",
   "version": "2.7.7"
  }
 },
 "nbformat": 4,
 "nbformat_minor": 0
}
