{
 "cells": [
  {
   "cell_type": "markdown",
   "metadata": {},
   "source": [
    "#Produtos entre vetores"
   ]
  },
  {
   "cell_type": "markdown",
   "metadata": {},
   "source": [
    "Sejam $\\mathbf{x}$ e $\\mathbf{y}$ dois vetores $N \\times 1$ definidos de acordo com a convenção baixo:"
   ]
  },
  {
   "cell_type": "markdown",
   "metadata": {},
   "source": [
    "$\\mathbf{v} = \\left[\n",
    "\\begin{array}{c}\n",
    "v_{1} \\\\\n",
    "v_{2} \\\\\n",
    "\\vdots \\\\\n",
    "v_{N}\n",
    "\\end{array}\n",
    "\\right]_{N \\times 1}$"
   ]
  },
  {
   "cell_type": "markdown",
   "metadata": {},
   "source": [
    "Além do produto escalar (definido anteriormente), podemos definir outros dois tipos de produtos entre estes vetores:"
   ]
  },
  {
   "cell_type": "markdown",
   "metadata": {},
   "source": [
    "**Produto elemento-a-elemento**"
   ]
  },
  {
   "cell_type": "markdown",
   "metadata": {},
   "source": [
    "$\\mathbf{z}\n",
    "= \\left[\n",
    "\\begin{array}{c}\n",
    "x_{1} \\, y_{1} \\\\\n",
    "x_{2} \\, y_{2}\\\\\n",
    "\\vdots \\\\\n",
    "x_{N} \\, y_{N}\n",
    "\\end{array}\n",
    "\\right]_{N \\times 1}$"
   ]
  },
  {
   "cell_type": "markdown",
   "metadata": {},
   "source": [
    "Note que o resultado é um vetor com o mesmo número de elementos dos vetores $\\mathbf{x}$ e $\\mathbf{y}$."
   ]
  },
  {
   "cell_type": "markdown",
   "metadata": {},
   "source": [
    "**Produto direto**"
   ]
  },
  {
   "cell_type": "markdown",
   "metadata": {},
   "source": [
    "$\\begin{align}\n",
    "\\mathbf{M} & = \\mathbf{x} \\otimes \\mathbf{y}^{\\top} \\\\\n",
    "           & = \\left[\n",
    "                \\begin{array}{c}\n",
    "                x_{1} \\, \\mathbf{y}^{\\top} \\\\\n",
    "                x_{2} \\, \\mathbf{y}^{\\top}\\\\\n",
    "                \\vdots \\\\\n",
    "                x_{N} \\, \\mathbf{y}^{\\top}\n",
    "                \\end{array}\n",
    "                \\right]_{N \\times N}\n",
    "\\end{align}$"
   ]
  },
  {
   "cell_type": "markdown",
   "metadata": {},
   "source": [
    "Note que, neste caso, o resultado é uma matriz quadrada de ordem $N$ igual ao número de elementos dos vetores $\\mathbf{x}$ e $\\mathbf{y}$. Contudo, os vetores $\\mathbf{x}$ e $\\mathbf{y}$ NÃO precisam ter o mesmo número de elementos. Considere, por exemplo, que o vetor $\\mathbf{x}$ é $N \\times 1$ e o vetor $\\mathbf{y}$ é $M \\times 1$, em que $N \\neq M$. Neste caso, a matriz $\\mathbf{M}$ é $N \\times M$ e NÃO é quadrada. Para mais informações sobre o produto direto, acesse http://mathworld.wolfram.com/VectorDirectProduct.html."
   ]
  },
  {
   "cell_type": "markdown",
   "metadata": {},
   "source": [
    "Considere a situação em que o vetor $\\mathbf{x}$ é $N \\times 1$ e o vetor $\\mathbf{y}$ é $M \\times 1$. A matriz $\\mathbf{M}$ resultante do produto direto entre $\\mathbf{x}$ e $\\mathbf{y}$ pode ser particionada em linhas ou em colunas, tal como descrito abaixo:"
   ]
  },
  {
   "cell_type": "markdown",
   "metadata": {},
   "source": [
    "$\\begin{align}\n",
    "    \\mathbf{M} \n",
    "    & = \\left[\n",
    "    \\begin{array}{ccc}\n",
    "        m_{11} & \\cdots & m_{1M} \\\\\n",
    "        \\vdots &        & \\vdots \\\\\n",
    "        m_{N1} & \\cdots & m_{NM}\n",
    "    \\end{array}\n",
    "    \\right] \\\\\n",
    "    & = \\left[\n",
    "    \\begin{array}{c}\n",
    "        \\mathbf{r}_{1}^{\\top} \\\\\n",
    "        \\vdots \\\\\n",
    "        \\mathbf{r}_{N}^{\\top}\n",
    "    \\end{array}\n",
    "    \\right] \\\\\n",
    "    & = \\left[\n",
    "    \\begin{array}{ccc}\n",
    "        \\mathbf{c}_{1} &\n",
    "        \\cdots &\n",
    "        \\mathbf{c}_{M}\n",
    "    \\end{array}\n",
    "    \\right] \\: , \\\\\n",
    "\\end{align}$"
   ]
  },
  {
   "cell_type": "markdown",
   "metadata": {},
   "source": [
    "em que $\\mathbf{r}_{i}^{\\top}$, $i = 1, ..., N$, é o vetor $1 \\times M$ que representa a $i$-ésima linha de $\\mathbf{M}$ e $\\mathbf{c}_{j}$, $j = 1, ..., M$, é o vetor $N \\times 1$ que representa a $j$-ésima coluna de $\\mathbf{M}$."
   ]
  },
  {
   "cell_type": "markdown",
   "metadata": {},
   "source": [
    "Dessa forma, a matriz $\\mathbf{M} = \\mathbf{x} \\otimes \\mathbf{y}^{\\top}$ pode ser calculada de duas maneiras diferentes:"
   ]
  },
  {
   "cell_type": "markdown",
   "metadata": {},
   "source": [
    "----\n",
    "*Usando a partição por linhas*\n",
    "\n",
    "for $i = 1:N$\n",
    "\n",
    "$\\quad \\quad \\mathbf{r}_{i}^{\\top} = x_{i} \\, \\mathbf{y}^{\\top}$\n",
    "    \n",
    "end\n",
    "\n",
    "-----"
   ]
  },
  {
   "cell_type": "markdown",
   "metadata": {},
   "source": [
    "ou"
   ]
  },
  {
   "cell_type": "markdown",
   "metadata": {},
   "source": [
    "----\n",
    "*Usando a partição por colunas*\n",
    "\n",
    "for $j = 1:M$\n",
    "\n",
    "$\\quad \\quad \\mathbf{c}_{j} = y_{j} \\, \\mathbf{x}$\n",
    "    \n",
    "end\n",
    "\n",
    "----"
   ]
  },
  {
   "cell_type": "markdown",
   "metadata": {},
   "source": [
    "###Exercício"
   ]
  },
  {
   "cell_type": "markdown",
   "metadata": {
    "collapsed": true
   },
   "source": [
    "Implemente o produto elemento-a-elemento e o produto direto entre vetores. O produto direto deve ser implementado tanto usando a partição por linhas como a partição por colunas. Cada implementação deve estar em uma função diferente. As duas implementações do produto direto devem, **obrigatoriamente**, utilizar a função desenvolvida previamente para o produto entre um escalar e um vetor. **As implementações devem seguir o template da disciplina**."
   ]
  },
  {
   "cell_type": "code",
   "execution_count": null,
   "metadata": {
    "collapsed": true
   },
   "outputs": [],
   "source": []
  }
 ],
 "metadata": {
  "kernelspec": {
   "display_name": "Python 2",
   "language": "python",
   "name": "python2"
  },
  "language_info": {
   "codemirror_mode": {
    "name": "ipython",
    "version": 2
   },
   "file_extension": ".py",
   "mimetype": "text/x-python",
   "name": "python",
   "nbconvert_exporter": "python",
   "pygments_lexer": "ipython2",
   "version": "2.7.7"
  }
 },
 "nbformat": 4,
 "nbformat_minor": 0
}
