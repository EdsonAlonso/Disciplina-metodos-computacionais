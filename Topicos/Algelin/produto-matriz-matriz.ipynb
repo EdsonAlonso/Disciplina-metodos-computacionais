{
 "cells": [
  {
   "cell_type": "markdown",
   "metadata": {},
   "source": [
    "#Produto entre matrizes"
   ]
  },
  {
   "cell_type": "markdown",
   "metadata": {},
   "source": [
    "Seja $\\mathbf{A}$ uma matriz $N \\times M$ e $\\mathbf{B}$ uma matriz $M \\times L$. Tais matrizes podem ser particionadas em linhas ou em colunas, tal como descrito abaixo:"
   ]
  },
  {
   "cell_type": "markdown",
   "metadata": {},
   "source": [
    "$$\\begin{split}\n",
    "    \\mathbf{A} \n",
    "    & = \\left[\n",
    "    \\begin{array}{ccc}\n",
    "        a_{11} & \\cdots & a_{1M} \\\\\n",
    "        \\vdots &        & \\vdots \\\\\n",
    "        a_{N1} & \\cdots & a_{NM}\n",
    "    \\end{array}\n",
    "    \\right] \\\\\n",
    "    & = \\left[\n",
    "    \\begin{array}{c}\n",
    "        \\mathbf{A}(1,:) \\\\\n",
    "        \\vdots \\\\\n",
    "        \\mathbf{A}(N,:)\n",
    "    \\end{array}\n",
    "    \\right] \\\\\n",
    "    & = \\left[\n",
    "    \\begin{array}{ccc}\n",
    "        \\mathbf{A}(:,1) &\n",
    "        \\cdots &\n",
    "        \\mathbf{A}(:,M)\n",
    "    \\end{array}\n",
    "    \\right] \\: , \\\\\n",
    "\\end{split}$$"
   ]
  },
  {
   "cell_type": "markdown",
   "metadata": {},
   "source": [
    "em que $\\mathbf{A}(i,:)$, $i = 1, ..., N$, é o vetor $1 \\times M$ que representa a $i$-ésima linha de $\\mathbf{A}$ e $\\mathbf{A}(:,j)$, $j = 1, ..., M$, é o vetor $N \\times 1$ que representa a $j$-ésima coluna de $\\mathbf{A}$. Analogamente, $\\mathbf{B}(i,:)$, $i = 1, ..., M$, é o vetor $1 \\times L$ que representa a $i$-ésima linha de $\\mathbf{B}$ e $\\mathbf{B}(:,j)$, $j = 1, ..., L$, é o vetor $M \\times 1$ que representa a $j$-ésima coluna de $\\mathbf{B}$."
   ]
  },
  {
   "cell_type": "code",
   "execution_count": null,
   "metadata": {
    "collapsed": true
   },
   "outputs": [],
   "source": []
  },
  {
   "cell_type": "markdown",
   "metadata": {},
   "source": [
    "**Formulação baseada no encadeamento de três laços**\n",
    "\n",
    "A maneira mais simples de escrever o produto $\\mathbf{C} = \\mathbf{A} \\mathbf{B}$ é dada por:"
   ]
  },
  {
   "cell_type": "markdown",
   "metadata": {},
   "source": [
    "-----\n",
    "$\\mathbf{C} = \\mathbf{0}$\n",
    "\n",
    "for $i = 1:N$\n",
    "\n",
    ">for $j = 1:L$ \n",
    "\n",
    ">>for $k = 1:M$\n",
    "\n",
    ">>>$c_{ij} = c_{ij} + a_{ik} \\, b_{kj}$\n",
    "\n",
    ">>end\n",
    "\n",
    ">end\n",
    "\n",
    "end\n",
    "\n",
    "-----"
   ]
  },
  {
   "cell_type": "markdown",
   "metadata": {},
   "source": [
    "Note que o loop $i$ percorre as linhas de $\\mathbf{A}$, o loop $j$ percorre as colunas de $\\mathbf{B}$ e o loop $k$ está relacionado ao produto escalar entre $\\mathbf{A}(i,:)$ e $\\mathbf{B}(:,j)$. Há outras três maneiras distintas de escrever o produto $\\mathbf{C} = \\mathbf{A} \\mathbf{B}$."
   ]
  },
  {
   "cell_type": "code",
   "execution_count": null,
   "metadata": {
    "collapsed": true
   },
   "outputs": [],
   "source": []
  },
  {
   "cell_type": "markdown",
   "metadata": {},
   "source": [
    "**Formulação baseada no produto escalar**\n",
    "\n",
    "Esta formulação consiste em representar cada elemento $\\mathbf{C}(i,j)$, $i = 1, ..., N$, $j = 1, ..., L$, pelo produto escalar entre $\\mathbf{A}(i,:)$ e $\\mathbf{B}(:,j)$. Este produto escalar é representado pelo loop $k$."
   ]
  },
  {
   "cell_type": "markdown",
   "metadata": {},
   "source": [
    "----\n",
    "for $i = 1:N$\n",
    "\n",
    ">for $j = 1:L$ \n",
    "\n",
    ">>$c_{ij} = \\mathbf{A}(i,:) \\, \\mathbf{B}(:,j)$\n",
    "\n",
    ">end\n",
    "\n",
    "end\n",
    "\n",
    "-----"
   ]
  },
  {
   "cell_type": "markdown",
   "metadata": {},
   "source": [
    "**ATENÇÃO:** $\\mathbf{A}(i,:) \\, \\mathbf{B}(:,j)$ indica o produto escalar entre o vetor $\\mathbf{A}(i,:)$, que é $1 \\times M$, e o vetor $\\mathbf{B}(:,j)$, que é $M \\times 1$. Portanto, $c_{ij}$ é um escalar."
   ]
  },
  {
   "cell_type": "markdown",
   "metadata": {},
   "source": [
    "Note que o loop $j$ percorre os elementos da $i$-ésima linha da matriz $\\mathbf{C}$. Se particionarmos a matriz $\\mathbf{C}$ em linhas, é possível suprimir o loop $j$:"
   ]
  },
  {
   "cell_type": "markdown",
   "metadata": {},
   "source": [
    "----\n",
    "for $i = 1:N$\n",
    "\n",
    ">$\\mathbf{C}(i,:) = \\mathbf{A}(i,:) \\, \\mathbf{B}$\n",
    "\n",
    "end\n",
    "\n",
    "-----"
   ]
  },
  {
   "cell_type": "markdown",
   "metadata": {},
   "source": [
    "**ATENÇÃO:** $\\mathbf{A}(i,:) \\, \\mathbf{B}$ indica o produto entre o vetor $\\mathbf{A}(i,:)$, que é $1 \\times M$, pela matriz $\\mathbf{B}$, que é $M \\times L$. Portanto, $\\mathbf{C}(i,:)$ é um vetor $1 \\times L$."
   ]
  },
  {
   "cell_type": "code",
   "execution_count": null,
   "metadata": {
    "collapsed": true
   },
   "outputs": [],
   "source": []
  },
  {
   "cell_type": "markdown",
   "metadata": {},
   "source": [
    "**Formulação baseada na combinação linear de colunas**\n",
    "\n",
    "Esta formulação consiste em representar cada coluna $\\mathbf{C}(:,j)$, $j = 1, ..., L$, pela combinação linear das colunas de $\\mathbf{A}$. Para tanto, vamos rearranjar a ordem dos loops $i$, $j$ e $k$ da \"Formulação baseada no encadeamento de três laços\", tal como mostrado abaixo:"
   ]
  },
  {
   "cell_type": "markdown",
   "metadata": {},
   "source": [
    "-----\n",
    "$\\mathbf{C} = \\mathbf{0}$\n",
    "\n",
    "for $j = 1:L$ \n",
    "\n",
    ">for $k = 1:M$\n",
    "\n",
    ">>for $i = 1:N$\n",
    "\n",
    ">>>$c_{ij} = c_{ij} + a_{ik} \\, b_{kj}$\n",
    "\n",
    ">>end\n",
    "\n",
    ">end\n",
    "\n",
    "end\n",
    "\n",
    "-----"
   ]
  },
  {
   "cell_type": "markdown",
   "metadata": {},
   "source": [
    "Note que o loop $i$ representa a multiplicação da coluna $\\mathbf{A}(:,k)$ pelo elemento $\\mathbf{B}(k,j)$. Este loop pode ser suprimido da seguinte forma:"
   ]
  },
  {
   "cell_type": "markdown",
   "metadata": {},
   "source": [
    "-----\n",
    "$\\mathbf{C} = \\mathbf{0}$\n",
    "\n",
    "for $j = 1:L$ \n",
    "\n",
    ">for $k = 1:M$\n",
    "\n",
    ">>$\\mathbf{C}(:,j) = \\mathbf{C}(:,j) + \\mathbf{A}(:,k) \\, \\mathbf{B}(k,j)$\n",
    "\n",
    ">end\n",
    "\n",
    "end\n",
    "\n",
    "-----"
   ]
  },
  {
   "cell_type": "markdown",
   "metadata": {},
   "source": [
    "**ATENÇÃO:** $\\mathbf{A}(:,k) \\, \\mathbf{B}(k,j)$ indica o produto entre o vetor $\\mathbf{A}(:,k)$, que é $N \\times 1$, pelo elemento $\\mathbf{B}(k,j)$, que é um escalar. Portanto, $\\mathbf{C}(:,j)$ é um vetor $N \\times 1$."
   ]
  },
  {
   "cell_type": "markdown",
   "metadata": {},
   "source": [
    "Por fim, note que o loop $k$ representa o produto entre $\\mathbf{A}$ e as colunas $\\mathbf{B}(:,j)$, tal que:"
   ]
  },
  {
   "cell_type": "markdown",
   "metadata": {},
   "source": [
    "-----\n",
    "for $j = 1:L$ \n",
    "\n",
    ">$\\mathbf{C}(:,j) = \\mathbf{A} \\, \\mathbf{B}(:,j)$\n",
    "\n",
    "end\n",
    "\n",
    "-----"
   ]
  },
  {
   "cell_type": "markdown",
   "metadata": {},
   "source": [
    "**ATENÇÃO:** $\\mathbf{A} \\, \\mathbf{B}(:,j)$ indica o produto entre a matriz $\\mathbf{A}$, que é $N \\times M$, pelo vetor $\\mathbf{B}(:,j)$, que é $M \\times 1$. Portanto, $\\mathbf{C}(:,j)$ é um vetor $N \\times 1$."
   ]
  },
  {
   "cell_type": "code",
   "execution_count": null,
   "metadata": {
    "collapsed": true
   },
   "outputs": [],
   "source": []
  },
  {
   "cell_type": "markdown",
   "metadata": {},
   "source": [
    "**Formulação baseada no produto direto**\n",
    "\n",
    "Esta formaulação consiste em representar a matriz $\\mathbf{C}$ como uma soma de matrizes definidas pelo produto direto entre as colunas $\\mathbf{A}(:,k)$ e as linhas $\\mathbf{B}(k,:)$, $k = 1, ..., M$. Para tanto, vamos rearranjar a ordem dos loops $i$, $j$ e $k$ da \"Formulação baseada no encadeamento de três laços\", tal como mostrado abaixo:"
   ]
  },
  {
   "cell_type": "markdown",
   "metadata": {},
   "source": [
    "-----\n",
    "$\\mathbf{C} = \\mathbf{0}$\n",
    "\n",
    "for $k = 1:M$\n",
    "\n",
    ">for $j = 1:L$\n",
    "\n",
    ">>for $i = 1:N$ \n",
    "\n",
    ">>>$c_{ij} = c_{ij} + a_{ik} \\, b_{kj}$\n",
    "\n",
    ">>end\n",
    "\n",
    ">end\n",
    "\n",
    "end\n",
    "\n",
    "-----"
   ]
  },
  {
   "cell_type": "markdown",
   "metadata": {},
   "source": [
    "Note que, tal como mostrado na \"Formulação baseada na combinação linear de colunas\", o loop $i$ representa a multiplicação da coluna $\\mathbf{A}(:,k)$ pelo elemento $\\mathbf{B}(k,j)$ e, portanto, o loop $i$ ser suprimido da seguinte forma:"
   ]
  },
  {
   "cell_type": "markdown",
   "metadata": {},
   "source": [
    "-----\n",
    "$\\mathbf{C} = \\mathbf{0}$\n",
    "\n",
    "for $k = 1:M$\n",
    "\n",
    ">for $j = 1:L$\n",
    "\n",
    ">>$\\mathbf{C}(:,j) = \\mathbf{C}(:,j) + \\mathbf{A}(:,k) \\, \\mathbf{B}(k,j)$\n",
    "\n",
    ">end\n",
    "\n",
    "end\n",
    "\n",
    "-----"
   ]
  },
  {
   "cell_type": "markdown",
   "metadata": {},
   "source": [
    "**ATENÇÃO:** $\\mathbf{A}(:,k) \\, \\mathbf{B}(k,j)$ indica o produto entre o vetor $\\mathbf{A}(:,k)$, que é $N \\times 1$, pelo elemento $\\mathbf{B}(k,j)$, que é um escalar. Portanto, $\\mathbf{C}(:,j)$ é um vetor $N \\times 1$."
   ]
  },
  {
   "cell_type": "markdown",
   "metadata": {},
   "source": [
    "Por fim, note que o loop $j$ representa o produto direto entre $\\mathbf{A}(:,k)$ e $\\mathbf{B}(k,:)$, tal que:"
   ]
  },
  {
   "cell_type": "markdown",
   "metadata": {},
   "source": [
    "-----\n",
    "$\\mathbf{C} = \\mathbf{0}$\n",
    "\n",
    "for $k = 1:M$\n",
    "\n",
    ">$\\mathbf{C} = \\mathbf{C} + \\mathbf{A}(:,k) \\, \\mathbf{B}(k,:)$\n",
    "\n",
    "end\n",
    "\n",
    "-----"
   ]
  },
  {
   "cell_type": "markdown",
   "metadata": {},
   "source": [
    "**ATENÇÃO:** $\\mathbf{A}(:,k) \\, \\mathbf{B}(k,:)$ indica o produto direto entre o vetor $\\mathbf{A}(:,k)$, que é $N \\times 1$, e o vetor $\\mathbf{B}(k,:)$, que é $1 \\times L$. Portanto, $\\mathbf{C}$ é uma matriz $N \\times L$."
   ]
  },
  {
   "cell_type": "code",
   "execution_count": null,
   "metadata": {
    "collapsed": true
   },
   "outputs": [],
   "source": []
  },
  {
   "cell_type": "markdown",
   "metadata": {},
   "source": [
    "###Exercício"
   ]
  },
  {
   "cell_type": "markdown",
   "metadata": {},
   "source": [
    "Implemente o produto $\\mathbf{A} \\mathbf{B}$ seguindo as quatro formulações diferentes apresentadas acima. **Cada implementação deve estar em uma função diferente**. Todas as implementações, exceto aquela baseada no encadeamento de três laços, devem, **obrigatoriamente**, utilizar as funções desenvolvidas previamente. **As implementações devem seguir o template da disciplina**."
   ]
  },
  {
   "cell_type": "markdown",
   "metadata": {
    "collapsed": true
   },
   "source": [
    "###Exemplo de implementação em Python"
   ]
  },
  {
   "cell_type": "code",
   "execution_count": 1,
   "metadata": {
    "collapsed": false
   },
   "outputs": [],
   "source": [
    "import numpy as np"
   ]
  },
  {
   "cell_type": "markdown",
   "metadata": {},
   "source": [
    "`C = A.dot(B)` ,\n",
    "\n",
    "em que A e B são arrays do numpy."
   ]
  },
  {
   "cell_type": "code",
   "execution_count": 2,
   "metadata": {
    "collapsed": false
   },
   "outputs": [],
   "source": [
    "A = np.array([[1.,2.],\n",
    "              [3.,4.],\n",
    "              [5.,6.]])\n",
    "B = np.array([[7., 8.],\n",
    "              [9., 10.]])"
   ]
  },
  {
   "cell_type": "code",
   "execution_count": 3,
   "metadata": {
    "collapsed": true
   },
   "outputs": [],
   "source": [
    "C = A.dot(B)"
   ]
  },
  {
   "cell_type": "code",
   "execution_count": 4,
   "metadata": {
    "collapsed": false
   },
   "outputs": [
    {
     "name": "stdout",
     "output_type": "stream",
     "text": [
      "[[  25.   28.]\n",
      " [  57.   64.]\n",
      " [  89.  100.]]\n"
     ]
    }
   ],
   "source": [
    "print C"
   ]
  },
  {
   "cell_type": "code",
   "execution_count": null,
   "metadata": {
    "collapsed": true
   },
   "outputs": [],
   "source": []
  }
 ],
 "metadata": {
  "kernelspec": {
   "display_name": "Python 2",
   "language": "python",
   "name": "python2"
  },
  "language_info": {
   "codemirror_mode": {
    "name": "ipython",
    "version": 2
   },
   "file_extension": ".py",
   "mimetype": "text/x-python",
   "name": "python",
   "nbconvert_exporter": "python",
   "pygments_lexer": "ipython2",
   "version": "2.7.7"
  }
 },
 "nbformat": 4,
 "nbformat_minor": 0
}
