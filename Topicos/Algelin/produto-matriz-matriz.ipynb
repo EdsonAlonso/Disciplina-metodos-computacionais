{
 "cells": [
  {
   "cell_type": "markdown",
   "metadata": {},
   "source": [
    "#Produto entre matrizes"
   ]
  },
  {
   "cell_type": "markdown",
   "metadata": {},
   "source": [
    "Seja $\\mathbf{A}$ uma matriz $N \\times M$ e $\\mathbf{B}$ uma matriz $M \\times L$. Tais matrizes podem ser particionadas em linhas ou em colunas, tal como descrito abaixo:"
   ]
  },
  {
   "cell_type": "markdown",
   "metadata": {},
   "source": [
    "$\\begin{align}\n",
    "    \\mathbf{A} \n",
    "    & = \\left[\n",
    "    \\begin{array}{ccc}\n",
    "        a_{11} & \\cdots & a_{1M} \\\\\n",
    "        \\vdots &        & \\vdots \\\\\n",
    "        a_{N1} & \\cdots & a_{NM}\n",
    "    \\end{array}\n",
    "    \\right] \\\\\n",
    "    & = \\left[\n",
    "    \\begin{array}{c}\n",
    "        \\mathbf{A}(1,:) \\\\\n",
    "        \\vdots \\\\\n",
    "        \\mathbf{A}(N,:)\n",
    "    \\end{array}\n",
    "    \\right] \\\\\n",
    "    & = \\left[\n",
    "    \\begin{array}{ccc}\n",
    "        \\mathbf{A}(:,1) &\n",
    "        \\cdots &\n",
    "        \\mathbf{A}(:,M)\n",
    "    \\end{array}\n",
    "    \\right] \\: , \\\\\n",
    "\\end{align}$"
   ]
  },
  {
   "cell_type": "markdown",
   "metadata": {},
   "source": [
    "em que $\\mathbf{A}(i,:)$, $i = 1, ..., N$, é o vetor $1 \\times M$ que representa a $i$-ésima linha de $\\mathbf{A}$ e $\\mathbf{A}(:,j)$, $j = 1, ..., M$, é o vetor $N \\times 1$ que representa a $j$-ésima coluna de $\\mathbf{A}$. analogamente para a matriz $\\mathbf{B}$."
   ]
  },
  {
   "cell_type": "markdown",
   "metadata": {},
   "source": [
    "A maneira mais simples de escrever o produto $\\mathbf{C} = \\mathbf{A} \\mathbf{B}$ é dada por:"
   ]
  },
  {
   "cell_type": "markdown",
   "metadata": {},
   "source": [
    "----\n",
    "$\\mathbf{C} = \\mathbf{0}$\n",
    "\n",
    "for $i = 1:N$\n",
    "\n",
    ">for $j = 1:L$ \n",
    "\n",
    ">>for $k = 1:M$\n",
    "\n",
    ">>>$c_{ij} = c_{ij} + a_{ik} \\, b_{kj}$\n",
    "\n",
    ">>end\n",
    "\n",
    ">end\n",
    "\n",
    "end"
   ]
  },
  {
   "cell_type": "markdown",
   "metadata": {},
   "source": [
    "Note que $i$ percorre as linhas de $\\mathbf{A}$, $j$ percorre as colunas de $\\mathbf{B}$ e $k$ está relacionado ao produto escalar entre $\\mathbf{A}(i,:)$ e $\\mathbf{B}(:,j)$.\n"
   ]
  },
  {
   "cell_type": "code",
   "execution_count": null,
   "metadata": {
    "collapsed": true
   },
   "outputs": [],
   "source": []
  },
  {
   "cell_type": "markdown",
   "metadata": {},
   "source": [
    "----\n",
    "*Usando a partição por linhas*\n",
    "\n",
    "for $i = 1:N$\n",
    "\n",
    "$\\quad \\quad y_{i} = \\mathbf{r}_{i}^{\\top} \\mathbf{x}$\n",
    "    \n",
    "end\n",
    "\n",
    "-----"
   ]
  },
  {
   "cell_type": "markdown",
   "metadata": {},
   "source": [
    "ou"
   ]
  },
  {
   "cell_type": "markdown",
   "metadata": {},
   "source": [
    "----\n",
    "*Usando a partição por colunas*\n",
    "\n",
    "$\\mathbf{y} = \\mathbf{0}$\n",
    "\n",
    "for $j = 1:M$\n",
    "\n",
    "$\\quad \\quad \\mathbf{y} = \\mathbf{y} + x_{j} \\mathbf{c}_{j}$\n",
    "    \n",
    "end\n",
    "\n",
    "----"
   ]
  },
  {
   "cell_type": "markdown",
   "metadata": {},
   "source": [
    "###Exercício"
   ]
  },
  {
   "cell_type": "markdown",
   "metadata": {},
   "source": [
    "Implemente o produto $\\mathbf{A} \\mathbf{x}$ utilizando a partição por linhas e a partição por colunas. **Cada implementação deve estar em uma função diferente**. Ambas as implementações devem, **obrigatoriamente**, utilizar as funções desenvolvidas previamente para o cáculo de produtos entre vetores. **As implementações devem seguir o template da disciplina**."
   ]
  },
  {
   "cell_type": "markdown",
   "metadata": {
    "collapsed": true
   },
   "source": [
    "###Exemplo de implementação em Python"
   ]
  },
  {
   "cell_type": "code",
   "execution_count": 1,
   "metadata": {
    "collapsed": false
   },
   "outputs": [],
   "source": [
    "import numpy as np"
   ]
  },
  {
   "cell_type": "markdown",
   "metadata": {},
   "source": [
    "`y = A.dot(x)` ,\n",
    "\n",
    "em que A e x são arrays do numpy."
   ]
  },
  {
   "cell_type": "code",
   "execution_count": 2,
   "metadata": {
    "collapsed": true
   },
   "outputs": [],
   "source": [
    "A = np.array([[1.,2.],\n",
    "              [3.,4.],\n",
    "              [5.,6.]])\n",
    "x = np.array([[7.],\n",
    "              [8.]])"
   ]
  },
  {
   "cell_type": "code",
   "execution_count": 3,
   "metadata": {
    "collapsed": true
   },
   "outputs": [],
   "source": [
    "y = A.dot(x)"
   ]
  },
  {
   "cell_type": "code",
   "execution_count": 4,
   "metadata": {
    "collapsed": false
   },
   "outputs": [
    {
     "name": "stdout",
     "output_type": "stream",
     "text": [
      "[[ 23.]\n",
      " [ 53.]\n",
      " [ 83.]]\n"
     ]
    }
   ],
   "source": [
    "print y"
   ]
  },
  {
   "cell_type": "code",
   "execution_count": null,
   "metadata": {
    "collapsed": true
   },
   "outputs": [],
   "source": []
  }
 ],
 "metadata": {
  "kernelspec": {
   "display_name": "Python 2",
   "language": "python",
   "name": "python2"
  },
  "language_info": {
   "codemirror_mode": {
    "name": "ipython",
    "version": 2
   },
   "file_extension": ".py",
   "mimetype": "text/x-python",
   "name": "python",
   "nbconvert_exporter": "python",
   "pygments_lexer": "ipython2",
   "version": "2.7.7"
  }
 },
 "nbformat": 4,
 "nbformat_minor": 0
}
