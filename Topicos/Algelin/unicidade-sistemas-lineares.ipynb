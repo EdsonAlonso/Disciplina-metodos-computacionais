{
 "cells": [
  {
   "cell_type": "markdown",
   "metadata": {},
   "source": [
    "#Unicidade de sistemas lineares"
   ]
  },
  {
   "cell_type": "markdown",
   "metadata": {},
   "source": [
    "Tal como visto anteriormente, o produto $\\mathbf{A} \\mathbf{x}$ pode ser reescrito como uma combinação linear das colunas de $\\mathbf{A}$. Dessa forma, é possível reescrever o sistema linear da seguinte forma:"
   ]
  },
  {
   "cell_type": "markdown",
   "metadata": {},
   "source": [
    "$$\\begin{split}\n",
    "\\mathbf{y} & =\n",
    "x_{1} \\left[\n",
    "\\begin{array}{c}\n",
    "1 \\\\\n",
    "2,4 \\\\\n",
    "7,8\n",
    "\\end{array} \\right]_{3 \\times 1} +\n",
    "x_{2} \\left[\n",
    "\\begin{array}{c}\n",
    "5 \\\\\n",
    "-2 \\\\\n",
    "-4,1\n",
    "\\end{array} \\right]_{3 \\times 1} +\n",
    "x_{3} \\left[\n",
    "\\begin{array}{c}\n",
    "-5,3 \\\\\n",
    "1 \\\\\n",
    "6,4\n",
    "\\end{array} \\right]_{3 \\times 1} \\\\\\\\\n",
    "& = x_{1} \\, \\mathbf{A}(:,1) + x_{2} \\, \\mathbf{A}(:,2) + x_{3} \\, \\mathbf{A}(:,3) \\: ,\n",
    "\\end{split}$$"
   ]
  },
  {
   "cell_type": "markdown",
   "metadata": {},
   "source": [
    "em que"
   ]
  },
  {
   "cell_type": "markdown",
   "metadata": {},
   "source": [
    "$$\\mathbf{A}(:,1) = \\left[\n",
    "\\begin{array}{c}\n",
    "1 \\\\\n",
    "2,4 \\\\\n",
    "7,8\n",
    "\\end{array} \\right]_{3 \\times 1} \\: ,$$"
   ]
  },
  {
   "cell_type": "markdown",
   "metadata": {},
   "source": [
    "$$\\mathbf{A}(:,2) = \\left[\n",
    "\\begin{array}{c}\n",
    "5 \\\\\n",
    "-2 \\\\\n",
    "-4,1\n",
    "\\end{array} \\right]_{3 \\times 1}$$"
   ]
  },
  {
   "cell_type": "markdown",
   "metadata": {},
   "source": [
    "e"
   ]
  },
  {
   "cell_type": "markdown",
   "metadata": {},
   "source": [
    "$$\\mathbf{A}(:,3) = \\left[\n",
    "\\begin{array}{c}\n",
    "-5,3 \\\\\n",
    "1 \\\\\n",
    "6,4\n",
    "\\end{array} \\right]_{3 \\times 1} \\: .$$"
   ]
  },
  {
   "cell_type": "markdown",
   "metadata": {},
   "source": [
    "Esta formulação evidencia o fato de que o vetor $\\mathbf{y}$ é uma [combinação linear](http://mathworld.wolfram.com/LinearCombination.html) das colunas da matriz $\\mathbf{A}$, cujos coeficientes são os elementos do vetor $\\mathbf{x}$."
   ]
  },
  {
   "cell_type": "markdown",
   "metadata": {},
   "source": [
    "Esta formulação nos permite analisar a unicidade da solução do sistema linear acima. A unicidade da solução de um sistema linear está relacionada à seguinte questão: Seja uma matriz $\\mathbf{A}$ e um determinado vetor $\\mathbf{y} = \\mathbf{y}^{\\dagger}$. Existem diferentes vetores $\\mathbf{x}$ cujo produto $\\mathbf{A} \\mathbf{x}$ produz o mesmo vetor $\\mathbf{y}^{\\dagger}$? Ou seja, existem diferentes vetores $\\mathbf{x}$ que satisfazem a equação abaixo?"
   ]
  },
  {
   "cell_type": "markdown",
   "metadata": {},
   "source": [
    "$$\\mathbf{A}\\, \\mathbf{x} = \\mathbf{y}^{\\dagger} \\: .$$"
   ]
  },
  {
   "cell_type": "markdown",
   "metadata": {},
   "source": [
    "Se existir apenas um determinado vetor $\\mathbf{x} = \\mathbf{x}^{\\dagger}$ que satisfaz a equação acima, então a solução do sistema linear é **única**. Nesse caso, diz-se que as colunas da matriz $\\mathbf{A}$ formam uma [base](http://mathworld.wolfram.com/VectorSpaceBasis.html), o que corresponde a dizer que as colunas de $\\mathbf{A}$ são vetores [linearmente independentes](http://mathworld.wolfram.com/LinearlyIndependent.html) e que $\\mathbf{A}$ tem posto (ou *rank*) completo."
   ]
  },
  {
   "cell_type": "markdown",
   "metadata": {},
   "source": [
    "###Exemplo de sistema linear com múltiplas soluções"
   ]
  },
  {
   "cell_type": "code",
   "execution_count": 1,
   "metadata": {
    "collapsed": true
   },
   "outputs": [],
   "source": [
    "import numpy as np"
   ]
  },
  {
   "cell_type": "markdown",
   "metadata": {},
   "source": [
    "Considere o sistema linear $\\mathbf{y}^{\\dagger} = \\mathbf{A} \\mathbf{x}$, em que"
   ]
  },
  {
   "cell_type": "markdown",
   "metadata": {
    "collapsed": true
   },
   "source": [
    "$$\\mathbf{A} = \\left[\n",
    "\\begin{array}{rrr}\n",
    "1,0 & 4,3 & 2,0 \\\\\n",
    "2,7 & 5,0 & 5,4 \\\\\n",
    "-3,1 & 6,0 & -6,2\n",
    "\\end{array}\n",
    "\\right]_{3 \\times 3}$$"
   ]
  },
  {
   "cell_type": "code",
   "execution_count": 2,
   "metadata": {
    "collapsed": true
   },
   "outputs": [],
   "source": [
    "A = np.array([[1., 1., 2.],\n",
    "              [0.7, 1., 1.4],\n",
    "              [-3.1, 1.0, -6.2]])"
   ]
  },
  {
   "cell_type": "markdown",
   "metadata": {},
   "source": [
    "(observe que a terceira coluna de $\\mathbf{A}$ é igual a duas vezes a primeira coluna) e"
   ]
  },
  {
   "cell_type": "markdown",
   "metadata": {},
   "source": [
    "$$\\mathbf{y}^{\\dagger} = \\left[\n",
    "\\begin{array}{c}\n",
    "9,0 \\\\\n",
    "6,6 \\\\\n",
    "-23,8\n",
    "\\end{array}\n",
    "\\right]_{3 \\times 3}$$ ."
   ]
  },
  {
   "cell_type": "code",
   "execution_count": 3,
   "metadata": {
    "collapsed": true
   },
   "outputs": [],
   "source": [
    "y = np.array([[9.],\n",
    "              [6.6],\n",
    "              [-23.8]])"
   ]
  },
  {
   "cell_type": "markdown",
   "metadata": {},
   "source": [
    "Considere o vetor $\\mathbf{x}_{1}$ abaixo:"
   ]
  },
  {
   "cell_type": "markdown",
   "metadata": {},
   "source": [
    "$$\\mathbf{x}_{1} = \\left[\n",
    "\\begin{array}{c}\n",
    "2,0 \\\\\n",
    "1,0 \\\\\n",
    "3,0\n",
    "\\end{array}\n",
    "\\right]_{3 \\times 3}$$"
   ]
  },
  {
   "cell_type": "code",
   "execution_count": 4,
   "metadata": {
    "collapsed": true
   },
   "outputs": [],
   "source": [
    "x1 = np.array([[2.0],\n",
    "              [1.0],\n",
    "              [3.0]])"
   ]
  },
  {
   "cell_type": "markdown",
   "metadata": {},
   "source": [
    "Observe que este vetor é uma solução do sistema linear, ou seja, o produto $\\mathbf{A} \\mathbf{x}_{1}$ produz um vetor $\\mathbf{y}_{1} = \\mathbf{y}^{\\dagger}$."
   ]
  },
  {
   "cell_type": "code",
   "execution_count": 5,
   "metadata": {
    "collapsed": true
   },
   "outputs": [],
   "source": [
    "y1 =A.dot(x1)"
   ]
  },
  {
   "cell_type": "code",
   "execution_count": 6,
   "metadata": {
    "collapsed": false
   },
   "outputs": [
    {
     "name": "stdout",
     "output_type": "stream",
     "text": [
      "[[  9. ]\n",
      " [  6.6]\n",
      " [-23.8]]\n"
     ]
    }
   ],
   "source": [
    "print y1"
   ]
  },
  {
   "cell_type": "markdown",
   "metadata": {},
   "source": [
    "Agora, considere o outro vetor $\\mathbf{x}_{2}$ abaixo:"
   ]
  },
  {
   "cell_type": "markdown",
   "metadata": {},
   "source": [
    "$$\\mathbf{x}_{2} = \\left[\n",
    "\\begin{array}{c}\n",
    "6,0 \\\\\n",
    "1,0 \\\\\n",
    "1,0\n",
    "\\end{array}\n",
    "\\right]_{3 \\times 3}$$"
   ]
  },
  {
   "cell_type": "code",
   "execution_count": 7,
   "metadata": {
    "collapsed": true
   },
   "outputs": [],
   "source": [
    "x2 = np.array([[6.0],\n",
    "              [1.0],\n",
    "              [1.0]])"
   ]
  },
  {
   "cell_type": "markdown",
   "metadata": {},
   "source": [
    "Observe que este vetor é outra solução do sistema linear, isto é, o produto $\\mathbf{A} \\mathbf{x}_{2}$ produz um vetor $\\mathbf{y}_{2} = \\mathbf{y}^{\\dagger}$:"
   ]
  },
  {
   "cell_type": "code",
   "execution_count": 8,
   "metadata": {
    "collapsed": true
   },
   "outputs": [],
   "source": [
    "y2 = A.dot(x2)"
   ]
  },
  {
   "cell_type": "code",
   "execution_count": 9,
   "metadata": {
    "collapsed": false
   },
   "outputs": [
    {
     "data": {
      "text/plain": [
       "array([[  9. ],\n",
       "       [  6.6],\n",
       "       [-23.8]])"
      ]
     },
     "execution_count": 9,
     "metadata": {},
     "output_type": "execute_result"
    }
   ],
   "source": [
    "y2"
   ]
  },
  {
   "cell_type": "markdown",
   "metadata": {},
   "source": [
    "Na verdade, este sistema linear possui infinitas soluções. Para verificar esta falta de unicidade, vamos reescrever o sistema linear da seguinte forma:"
   ]
  },
  {
   "cell_type": "markdown",
   "metadata": {},
   "source": [
    "$$\\begin{split}\n",
    "\\mathbf{y}^{\\dagger} & = x_{1} \\mathbf{A}(:,1) + x_{2} \\mathbf{A}(:,2) + x_{3} \\mathbf{A}(:,3) \\\\\\\\\n",
    "                     & = \\left( x_{1} + 2 \\, x_{3} \\right) \\mathbf{A}(:,1) + x_{2} \\mathbf{A}(:,2) \\: .\n",
    "\\end{split}$$"
   ]
  },
  {
   "cell_type": "markdown",
   "metadata": {},
   "source": [
    "Neste caso, verifica-se que qualquer vetor $\\mathbf{x}$ que satisfaz a condição $x_{2} = 1$ e $x_{1} + 2 \\, x_{3} = 8$ é uma solução do sistema linear. Isto é, para qualquer valor de $x_{1}$, a solução pode ser escrita da seguinte forma:"
   ]
  },
  {
   "cell_type": "markdown",
   "metadata": {},
   "source": [
    "$$\\mathbf{x} = \\left[\n",
    "\\begin{array}{c}\n",
    "x_{1} \\\\\n",
    "1 \\\\\n",
    "\\left(8 - x_{1} \\right)/2\n",
    "\\end{array}\n",
    "\\right]$$ ."
   ]
  },
  {
   "cell_type": "code",
   "execution_count": null,
   "metadata": {
    "collapsed": true
   },
   "outputs": [],
   "source": []
  }
 ],
 "metadata": {
  "kernelspec": {
   "display_name": "Python 2",
   "language": "python",
   "name": "python2"
  },
  "language_info": {
   "codemirror_mode": {
    "name": "ipython",
    "version": 2
   },
   "file_extension": ".py",
   "mimetype": "text/x-python",
   "name": "python",
   "nbconvert_exporter": "python",
   "pygments_lexer": "ipython2",
   "version": "2.7.7"
  }
 },
 "nbformat": 4,
 "nbformat_minor": 0
}
