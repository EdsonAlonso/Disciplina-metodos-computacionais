{
 "cells": [
  {
   "cell_type": "markdown",
   "metadata": {},
   "source": [
    "#Sistemas lineares"
   ]
  },
  {
   "cell_type": "markdown",
   "metadata": {},
   "source": [
    "Considere o seguinte conjunto de equações:"
   ]
  },
  {
   "cell_type": "markdown",
   "metadata": {},
   "source": [
    "$$\\begin{array}{r}\n",
    "       x_{1} & + & 5 \\, x_{2} & - & 5.3 \\, x_{3} & = & y_{1} \\\\\n",
    "2.4 \\, x_{1} & - & 2 \\, x_{2} & + & x_{3} & = & y_{2} \\\\\n",
    "7.8 \\, x_{1} & - & 4.1 \\, x_{2} & + & 6.4 \\, x_{3} & = & y_{3} \\\\\n",
    "\\end{array} \\: .\n",
    "$$"
   ]
  },
  {
   "cell_type": "markdown",
   "metadata": {},
   "source": [
    "Note que $y_{i}$, $i = 1, 2, 3$, são [combinações lineares](http://mathworld.wolfram.com/LinearCombination.html) das variáveis  $x_{1}$, $x_{2}$, $x_{3}$. Isso significa que a derivada de $y_{i}$, $i = 1, 2, 3$, em relação a qualquer uma das variáveis $x_{1}$, $x_{2}$, $x_{3}$ é uma constante. Por exemplo, a derivada de $y_{2}$ em relação a $x_{3}$ é igual a $1$."
   ]
  },
  {
   "cell_type": "markdown",
   "metadata": {},
   "source": [
    "Este conjunto de equações pode ser reescrito em notação matricial, da seguinte forma:"
   ]
  },
  {
   "cell_type": "markdown",
   "metadata": {},
   "source": [
    "$$\\mathbf{A}\\, \\mathbf{x} = \\mathbf{y} \\: ,$$"
   ]
  },
  {
   "cell_type": "markdown",
   "metadata": {},
   "source": [
    "em que"
   ]
  },
  {
   "cell_type": "markdown",
   "metadata": {},
   "source": [
    "$$\\mathbf{A} = \\left[\n",
    "\\begin{array}{ccc}\n",
    "1 & 5 & -5,3 \\\\\n",
    "2,4 & -2 & 1 \\\\\n",
    "7,8 & -4,1 & 6,4\n",
    "\\end{array}\n",
    "\\right]_{3 \\times 3} \\: ,$$"
   ]
  },
  {
   "cell_type": "markdown",
   "metadata": {},
   "source": [
    "$$\\mathbf{y} = \\left[\n",
    "\\begin{array}{c}\n",
    "y_{1} \\\\\n",
    "y_{2} \\\\\n",
    "y_{3}\n",
    "\\end{array}\n",
    "\\right]_{3 \\times 1}$$"
   ]
  },
  {
   "cell_type": "markdown",
   "metadata": {},
   "source": [
    "e"
   ]
  },
  {
   "cell_type": "markdown",
   "metadata": {},
   "source": [
    "$$\\mathbf{x} = \\left[\n",
    "\\begin{array}{c}\n",
    "x_{1} \\\\\n",
    "x_{2} \\\\\n",
    "x_{3}\n",
    "\\end{array}\n",
    "\\right]_{3 \\times 1} \\: .$$"
   ]
  },
  {
   "cell_type": "markdown",
   "metadata": {},
   "source": [
    "Esta equação é comumente denominada sistema de equações lineares ou apenas **sistema linear**."
   ]
  },
  {
   "cell_type": "markdown",
   "metadata": {},
   "source": [
    "Sistemas lineares são muito comuns em problemas de geofísica. Geralmente, $\\mathbf{y}$ contém grandezas observáveis (medidas de anomalia de gravidade, anomalia de campo total, tempo de chegada de ondas sísmicas, componentes horizontal e vertical de campos elétricos e magnéticos, etc.) e, portanto, é conhecido. A matriz $\\mathbf{A}$, normalmente, contém grandezas observáveis secundárias (por exemplo, coordenadas geográficas, tempo, parâmetros de aquisição, etc.) e, portanto, também é conhecida. Já o vetor $\\mathbf{x}$ contém variáveis desconhecidas, ou incógnitas. Estas variáveis são, geralmente, parâmetros que descrevem o sistema físico em estudo. Por exemplo, dimensões de um corpo geológicos, distribuição de velocidades sísmicas, distribuição de resistividade elétrica, etc."
   ]
  },
  {
   "cell_type": "markdown",
   "metadata": {},
   "source": [
    "Resolver um sistema linear, portanto, significa determinar o vetor $\\mathbf{x}$ a partir da matriz $\\mathbf{A}$ e do vetor $\\mathbf{y}$. Alguns sistemas lineares são relativamente fáceis de serem resolvidos, tais como os exemplos apresentados abaixo."
   ]
  },
  {
   "cell_type": "markdown",
   "metadata": {},
   "source": [
    "##Sistema linear envolvendo matriz diagonal"
   ]
  },
  {
   "cell_type": "markdown",
   "metadata": {},
   "source": [
    "Neste caso, os elementos da matriz $\\mathbf{A}$ fora da diagonal principal são nulos:"
   ]
  },
  {
   "cell_type": "markdown",
   "metadata": {},
   "source": [
    "$$\\begin{split}\n",
    "\\mathbf{A} \n",
    "& = \\left[ \\begin{array}{ccc}\n",
    "a_{11} & a_{12} & a_{13} \\\\\n",
    "a_{21} & a_{22} & a_{23} \\\\\n",
    "a_{31} & a_{32} & a_{33}\n",
    "\\end{array} \\right]_{3 \\times 3} \\\\\\\\\n",
    "& = \\left[ \\begin{array}{ccc}\n",
    "a_{11} & 0 & 0 \\\\\n",
    "0 & a_{22} & 0 \\\\\n",
    "0 & 0 & a_{33}\n",
    "\\end{array} \\right]_{3 \\times 3} \\: .\n",
    "\\end{split}$$"
   ]
  },
  {
   "cell_type": "markdown",
   "metadata": {},
   "source": [
    "A solução deste tipo de sistema é dada por:"
   ]
  },
  {
   "cell_type": "markdown",
   "metadata": {},
   "source": [
    "$$\\begin{split}\n",
    "\\begin{array}{c}\n",
    "x_{1} = \\dfrac{y_{1}}{a_{11}} \\\\\\\\\n",
    "x_{2} = \\dfrac{y_{2}}{a_{22}} \\\\\\\\\n",
    "x_{3} = \\dfrac{y_{3}}{a_{33}}\n",
    "\\end{array}\n",
    "\\end{split} \\: .$$"
   ]
  },
  {
   "cell_type": "markdown",
   "metadata": {},
   "source": [
    "##Sistema linear envolvendo matriz triangular superior"
   ]
  },
  {
   "cell_type": "markdown",
   "metadata": {},
   "source": [
    "Neste caso, os elementos da matriz $\\mathbf{A}$ abaixo da diagonal principal são nulos:"
   ]
  },
  {
   "cell_type": "markdown",
   "metadata": {},
   "source": [
    "$$\\begin{split}\n",
    "\\mathbf{A} \n",
    "& = \\left[ \\begin{array}{ccc}\n",
    "a_{11} & a_{12} & a_{13} \\\\\n",
    "a_{21} & a_{22} & a_{23} \\\\\n",
    "a_{31} & a_{32} & a_{33}\n",
    "\\end{array} \\right]_{3 \\times 3} \\\\\\\\\n",
    "& = \\left[ \\begin{array}{ccc}\n",
    "a_{11} & a_{12} & a_{13} \\\\\n",
    "0 & a_{22} & a_{23} \\\\\n",
    "0 & 0 & a_{33}\n",
    "\\end{array} \\right]_{3 \\times 3} \\: .\n",
    "\\end{split}$$"
   ]
  },
  {
   "cell_type": "markdown",
   "metadata": {},
   "source": [
    "A solução deste tipo de sistema pode ser calculada por meio de um algoritmo denominado *substituição regressiva*. De acordo com este algoritmo, os elementos do vetor $\\mathbf{x}$ são calculados do último até o primeiro, tal como descrito abaixo:"
   ]
  },
  {
   "cell_type": "markdown",
   "metadata": {},
   "source": [
    "$$\\begin{split}\n",
    "\\begin{array}{c}\n",
    "a_{33} \\, x_{3} = y_{33} \\rightarrow x_{33} = \\dfrac{y_{3}}{a_{33}} \\\\\\\\\n",
    "a_{22} \\, x_{2} + a_{23} \\, x_{3} = y_{2} \\rightarrow\n",
    "x_{2} = \\dfrac{y_{2} - a_{23} \\, x_{3}}{a_{22}} \\\\\\\\\n",
    "a_{11} \\, x_{1} + a_{12} \\, x_{2} + a_{13} \\, x_{3} = y_{1} \\rightarrow\n",
    "x_{1} = \\dfrac{y_{1} - a_{12} \\, x_{2} - a_{13} \\, x_{3}}{a_{11}}\n",
    "\\end{array}\n",
    "\\end{split} \\: .$$"
   ]
  },
  {
   "cell_type": "markdown",
   "metadata": {},
   "source": [
    "Note que esta expressão permite elaborar o seguinte algoritmo para a solução deste sistema:"
   ]
  },
  {
   "cell_type": "markdown",
   "metadata": {},
   "source": [
    "----\n",
    "for $i = N:1:-1$\n",
    "\n",
    ">$x_{i} = y_{i}$\n",
    "\n",
    ">for $j = \\left( i+1 \\right):N:1$ \n",
    "\n",
    ">>$x_{i} = x_{i} - a_{ij} \\, x_{j}$\n",
    "\n",
    ">end\n",
    "\n",
    ">$x_{i} = \\dfrac{x_{i}}{a_{ii}}$\n",
    "\n",
    "end\n",
    "\n",
    "-----"
   ]
  },
  {
   "cell_type": "markdown",
   "metadata": {},
   "source": [
    "**ATENÇÃO**: Neste algotimo, o comando \"for $i = N:1:-1$\" significa que o contador $i$ começa em $N$ e termina em $1$, em intervalos de $-1$. Analogamente, o comando for $j = \\left( i+1 \\right):N:1$ significa que o contador $j$ começa em $\\left( i+1 \\right)$ e termina em $N$, em intervalos de $1$."
   ]
  },
  {
   "cell_type": "markdown",
   "metadata": {},
   "source": [
    "###Exercício"
   ]
  },
  {
   "cell_type": "markdown",
   "metadata": {},
   "source": [
    "Implemente o algoritmo apresentado acima para resolver um sistema envolvendo uma matriz triangular superior. **A implementação deve seguir o template da disciplina**."
   ]
  },
  {
   "cell_type": "markdown",
   "metadata": {},
   "source": [
    "###Exemplo de implementação em Python"
   ]
  },
  {
   "cell_type": "code",
   "execution_count": 10,
   "metadata": {
    "collapsed": true
   },
   "outputs": [],
   "source": [
    "import numpy as np"
   ]
  },
  {
   "cell_type": "markdown",
   "metadata": {},
   "source": [
    "`x = np.linalg.solve(A,y)` ,\n",
    "\n",
    "em que A e y são arrays do numpy."
   ]
  },
  {
   "cell_type": "code",
   "execution_count": 18,
   "metadata": {
    "collapsed": false
   },
   "outputs": [],
   "source": [
    "A = np.array([[1.,2.,7.],\n",
    "              [3.,14.,8.],\n",
    "              [25.,6.,9.]])\n",
    "y = np.array([[42.],\n",
    "              [11.],\n",
    "              [67.]])"
   ]
  },
  {
   "cell_type": "code",
   "execution_count": 19,
   "metadata": {
    "collapsed": true
   },
   "outputs": [],
   "source": [
    "x = np.linalg.solve(A,y)"
   ]
  },
  {
   "cell_type": "code",
   "execution_count": 20,
   "metadata": {
    "collapsed": false
   },
   "outputs": [
    {
     "name": "stdout",
     "output_type": "stream",
     "text": [
      "[[ 1.02842105]\n",
      " [-3.32157895]\n",
      " [ 6.80210526]]\n"
     ]
    }
   ],
   "source": [
    "print x"
   ]
  },
  {
   "cell_type": "code",
   "execution_count": null,
   "metadata": {
    "collapsed": true
   },
   "outputs": [],
   "source": []
  }
 ],
 "metadata": {
  "kernelspec": {
   "display_name": "Python 2",
   "language": "python",
   "name": "python2"
  },
  "language_info": {
   "codemirror_mode": {
    "name": "ipython",
    "version": 2
   },
   "file_extension": ".py",
   "mimetype": "text/x-python",
   "name": "python",
   "nbconvert_exporter": "python",
   "pygments_lexer": "ipython2",
   "version": "2.7.7"
  }
 },
 "nbformat": 4,
 "nbformat_minor": 0
}
