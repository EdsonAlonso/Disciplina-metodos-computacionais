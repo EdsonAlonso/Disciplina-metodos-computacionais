{
 "cells": [
  {
   "cell_type": "markdown",
   "metadata": {},
   "source": [
    "#Produto entre uma matriz e um vetor"
   ]
  },
  {
   "cell_type": "markdown",
   "metadata": {},
   "source": [
    "Seja $\\mathbf{A}$ uma matriz $N \\times M$ e $\\mathbf{x}$ um vetor $M \\times 1$. A matriz $\\mathbf{A}$ pode ser particionada em linhas ou em colunas, tal como descrito abaixo:"
   ]
  },
  {
   "cell_type": "markdown",
   "metadata": {},
   "source": [
    "$$\\begin{align}\n",
    "    \\mathbf{A} \n",
    "    & = \\left[\n",
    "    \\begin{array}{ccc}\n",
    "        a_{11} & \\cdots & a_{1M} \\\\\n",
    "        \\vdots &        & \\vdots \\\\\n",
    "        a_{N1} & \\cdots & a_{NM}\n",
    "    \\end{array}\n",
    "    \\right] \\\\\n",
    "    & = \\left[\n",
    "    \\begin{array}{c}\n",
    "        \\mathbf{r}_{1}^{\\top} \\\\\n",
    "        \\vdots \\\\\n",
    "        \\mathbf{r}_{N}^{\\top}\n",
    "    \\end{array}\n",
    "    \\right] \\\\\n",
    "    & = \\left[\n",
    "    \\begin{array}{ccc}\n",
    "        \\mathbf{c}_{1} &\n",
    "        \\cdots &\n",
    "        \\mathbf{c}_{M}\n",
    "    \\end{array}\n",
    "    \\right] \\: , \\\\\n",
    "\\end{align}$$"
   ]
  },
  {
   "cell_type": "markdown",
   "metadata": {},
   "source": [
    "em que $\\mathbf{r}_{i}^{\\top}$, $i = 1, ..., N$, é o vetor $1 \\times M$ que representa a $i$-ésima linha de $\\mathbf{A}$ e $\\mathbf{c}_{j}$, $j = 1, ..., M$, é o vetor $N \\times 1$ que representa a $j$-ésima coluna de $\\mathbf{A}$."
   ]
  },
  {
   "cell_type": "markdown",
   "metadata": {},
   "source": [
    "Dessa forma, o produto $\\mathbf{y} = \\mathbf{A} \\mathbf{x}$ pode ser feito de duas maneiras diferentes:"
   ]
  },
  {
   "cell_type": "markdown",
   "metadata": {},
   "source": [
    "----\n",
    "*Usando a partição por linhas*\n",
    "\n",
    "for $i = 1:N$\n",
    "\n",
    "$\\quad \\quad y_{i} = \\mathbf{r}_{i}^{\\top} \\mathbf{x}$\n",
    "    \n",
    "end\n",
    "\n",
    "-----"
   ]
  },
  {
   "cell_type": "markdown",
   "metadata": {},
   "source": [
    "ou"
   ]
  },
  {
   "cell_type": "markdown",
   "metadata": {},
   "source": [
    "----\n",
    "*Usando a partição por colunas*\n",
    "\n",
    "$\\mathbf{y} = \\mathbf{0}$\n",
    "\n",
    "for $j = 1:M$\n",
    "\n",
    "$\\quad \\quad \\mathbf{y} = \\mathbf{y} + x_{j} \\mathbf{c}_{j}$\n",
    "    \n",
    "end\n",
    "\n",
    "----"
   ]
  },
  {
   "cell_type": "markdown",
   "metadata": {},
   "source": [
    "A partição por linhas mostra que o elemento $y_{i}$ do vetor $\\mathbf{y}$ é o produto escalar entre a linha $\\mathbf{r}_{i}^{\\top}$, $i, ..., N$, da matriz $\\mathbf{A}$ e o vetor $\\mathbf{x}$. Já a partição por colunas mostra que o vetor $\\mathbf{y}$ é a combinação linear das colunas $\\mathbf{c}_{j}$, $j = 1, ..., M$, de $\\mathbf{A}$. Neste caso, os elementos de $\\mathbf{x}$ são os coeficientes da combinação linear."
   ]
  },
  {
   "cell_type": "markdown",
   "metadata": {},
   "source": [
    "###Exercício"
   ]
  },
  {
   "cell_type": "markdown",
   "metadata": {},
   "source": [
    "Implemente o produto $\\mathbf{A} \\mathbf{x}$ utilizando a partição por linhas e a partição por colunas. **Cada implementação deve estar em uma função diferente**. Ambas as implementações devem, **obrigatoriamente**, utilizar as funções desenvolvidas previamente para o cáculo de produtos entre vetores. **As implementações devem seguir o template da disciplina**."
   ]
  },
  {
   "cell_type": "markdown",
   "metadata": {
    "collapsed": true
   },
   "source": [
    "###Exemplo de implementação em Python"
   ]
  },
  {
   "cell_type": "code",
   "execution_count": 1,
   "metadata": {
    "collapsed": false
   },
   "outputs": [],
   "source": [
    "import numpy as np"
   ]
  },
  {
   "cell_type": "markdown",
   "metadata": {},
   "source": [
    "`y = A.dot(x)` ,\n",
    "\n",
    "em que A e x são arrays do numpy."
   ]
  },
  {
   "cell_type": "code",
   "execution_count": 2,
   "metadata": {
    "collapsed": true
   },
   "outputs": [],
   "source": [
    "A = np.array([[1.,2.],\n",
    "              [3.,4.],\n",
    "              [5.,6.]])\n",
    "x = np.array([[7.],\n",
    "              [8.]])"
   ]
  },
  {
   "cell_type": "code",
   "execution_count": 3,
   "metadata": {
    "collapsed": true
   },
   "outputs": [],
   "source": [
    "y = A.dot(x)"
   ]
  },
  {
   "cell_type": "code",
   "execution_count": 4,
   "metadata": {
    "collapsed": false
   },
   "outputs": [
    {
     "name": "stdout",
     "output_type": "stream",
     "text": [
      "[[ 23.]\n",
      " [ 53.]\n",
      " [ 83.]]\n"
     ]
    }
   ],
   "source": [
    "print y"
   ]
  },
  {
   "cell_type": "code",
   "execution_count": null,
   "metadata": {
    "collapsed": true
   },
   "outputs": [],
   "source": []
  }
 ],
 "metadata": {
  "kernelspec": {
   "display_name": "Python 2",
   "language": "python",
   "name": "python2"
  },
  "language_info": {
   "codemirror_mode": {
    "name": "ipython",
    "version": 2
   },
   "file_extension": ".py",
   "mimetype": "text/x-python",
   "name": "python",
   "nbconvert_exporter": "python",
   "pygments_lexer": "ipython2",
   "version": "2.7.7"
  }
 },
 "nbformat": 4,
 "nbformat_minor": 0
}
