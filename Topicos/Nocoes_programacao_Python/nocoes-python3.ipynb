{
 "cells": [
  {
   "cell_type": "markdown",
   "metadata": {},
   "source": [
    "#Noções de Python 3"
   ]
  },
  {
   "cell_type": "markdown",
   "metadata": {},
   "source": [
    "Este notebook é baseado na lição [Control Flow](http://software-carpentry.org/v4/python/flow.html) da [Software Carpentry](http://software-carpentry.org/index.html)"
   ]
  },
  {
   "cell_type": "markdown",
   "metadata": {},
   "source": [
    "##while"
   ]
  },
  {
   "cell_type": "markdown",
   "metadata": {},
   "source": [
    "Executa alguma coisa enquanto uma determinada condição for satisfeita."
   ]
  },
  {
   "cell_type": "markdown",
   "metadata": {},
   "source": [
    "Por exemplo, contar até dez."
   ]
  },
  {
   "cell_type": "code",
   "execution_count": 1,
   "metadata": {
    "collapsed": false
   },
   "outputs": [
    {
     "name": "stdout",
     "output_type": "stream",
     "text": [
      "1\n",
      "2\n",
      "3\n",
      "4\n",
      "5\n",
      "6\n",
      "7\n",
      "8\n",
      "9\n",
      "10\n"
     ]
    }
   ],
   "source": [
    "contador = 1 # condição inicial\n",
    "\n",
    "while contador <= 10:       # condição a ser satisfeita para executar a ação abaixo\n",
    "    print contador          # ação a ser executada caso a condição acima seja satisfeita\n",
    "    contador = contador + 1 # atualização"
   ]
  },
  {
   "cell_type": "code",
   "execution_count": 2,
   "metadata": {
    "collapsed": false
   },
   "outputs": [
    {
     "name": "stdout",
     "output_type": "stream",
     "text": [
      "1\n",
      "2\n",
      "3\n",
      "4\n",
      "5\n",
      "6\n",
      "7\n",
      "8\n",
      "9\n",
      "10\n"
     ]
    }
   ],
   "source": [
    "contador = 1\n",
    "\n",
    "while contador <= 10:\n",
    "    print contador\n",
    "    contador += 1 # é o mesmo que \"contador += 1\""
   ]
  },
  {
   "cell_type": "markdown",
   "metadata": {},
   "source": [
    "Outros exemplos"
   ]
  },
  {
   "cell_type": "code",
   "execution_count": 3,
   "metadata": {
    "collapsed": false
   },
   "outputs": [
    {
     "name": "stdout",
     "output_type": "stream",
     "text": [
      "1.0\n",
      "2.0\n",
      "4.0\n",
      "8.0\n"
     ]
    }
   ],
   "source": [
    "a = 1.0\n",
    "\n",
    "while a < 16.0:\n",
    "    print a\n",
    "    a *= 2."
   ]
  },
  {
   "cell_type": "code",
   "execution_count": 4,
   "metadata": {
    "collapsed": false
   },
   "outputs": [
    {
     "name": "stdout",
     "output_type": "stream",
     "text": [
      "0 [1]\n",
      "1 [1, 4]\n",
      "2 [1, 4, 9]\n",
      "3 [1, 4, 9, 16]\n",
      "4 [1, 4, 9, 16, 25]\n",
      "5 [1, 4, 9, 16, 25, 36]\n",
      "6 [1, 4, 9, 16, 25, 36, 49]\n",
      "7 [1, 4, 9, 16, 25, 36, 49, 64]\n",
      "8 [1, 4, 9, 16, 25, 36, 49, 64, 81]\n",
      "9 [1, 4, 9, 16, 25, 36, 49, 64, 81, 100]\n"
     ]
    }
   ],
   "source": [
    "x = [1,2,3,4,5,6,7,8,9,10]\n",
    "y = []\n",
    "\n",
    "i = 0\n",
    "\n",
    "while i < len(x):\n",
    "    y.append(x[i]**2)\n",
    "    print i, y\n",
    "    i += 1"
   ]
  },
  {
   "cell_type": "markdown",
   "metadata": {},
   "source": [
    "**No último exemplo, o que aconteceria se:**\n",
    "\n",
    "* a atualização `i += 1` não fosse feita?\n",
    "* a condição inicial fosse `1 = 23`?"
   ]
  },
  {
   "cell_type": "markdown",
   "metadata": {},
   "source": [
    "##if, elif, else"
   ]
  },
  {
   "cell_type": "markdown",
   "metadata": {},
   "source": [
    "Enquanto o comando `while` possibilita repetir coisas, os comandos `if`, `elif` e `else` possibilitam fazer escolhas."
   ]
  },
  {
   "cell_type": "code",
   "execution_count": 5,
   "metadata": {
    "collapsed": false
   },
   "outputs": [],
   "source": [
    "a = 3.0\n",
    "\n",
    "if a == 5.0:\n",
    "    print 'condicao satisfeita'"
   ]
  },
  {
   "cell_type": "code",
   "execution_count": 6,
   "metadata": {
    "collapsed": false
   },
   "outputs": [
    {
     "name": "stdout",
     "output_type": "stream",
     "text": [
      "condicao satisfeita\n"
     ]
    }
   ],
   "source": [
    "a = 5.0\n",
    "\n",
    "if a == 5.0:\n",
    "    print 'condicao satisfeita'"
   ]
  },
  {
   "cell_type": "code",
   "execution_count": 7,
   "metadata": {
    "collapsed": false
   },
   "outputs": [],
   "source": [
    "a = 7.0\n",
    "\n",
    "if a == 5.0:\n",
    "    print 'condicao satisfeita'"
   ]
  },
  {
   "cell_type": "markdown",
   "metadata": {},
   "source": [
    "No exemplo acima, optou-se por executar uma ação apenas na situação em que `a` é igual a 5."
   ]
  },
  {
   "cell_type": "markdown",
   "metadata": {},
   "source": [
    "O comando `else` possibilita executar alguma ação na situação em que a condição do `if` não é satisfeita. Por exemplo:"
   ]
  },
  {
   "cell_type": "code",
   "execution_count": 8,
   "metadata": {
    "collapsed": false
   },
   "outputs": [
    {
     "name": "stdout",
     "output_type": "stream",
     "text": [
      "condicao NAO satisfeita\n"
     ]
    }
   ],
   "source": [
    "a = 3.0\n",
    "\n",
    "if a == 5.0:\n",
    "    print 'condicao satisfeita'\n",
    "\n",
    "else:\n",
    "    print 'condicao NAO satisfeita'"
   ]
  },
  {
   "cell_type": "code",
   "execution_count": 9,
   "metadata": {
    "collapsed": false
   },
   "outputs": [
    {
     "name": "stdout",
     "output_type": "stream",
     "text": [
      "condicao satisfeita\n"
     ]
    }
   ],
   "source": [
    "a = 5.0\n",
    "\n",
    "if a == 5.0:\n",
    "    print 'condicao satisfeita'\n",
    "\n",
    "else:\n",
    "    print 'condicao NAO satisfeita'"
   ]
  },
  {
   "cell_type": "code",
   "execution_count": 10,
   "metadata": {
    "collapsed": false
   },
   "outputs": [
    {
     "name": "stdout",
     "output_type": "stream",
     "text": [
      "condicao NAO satisfeita\n"
     ]
    }
   ],
   "source": [
    "a = 7.0\n",
    "\n",
    "if a == 5.0:\n",
    "    print 'condicao satisfeita'\n",
    "\n",
    "else:\n",
    "    print 'condicao NAO satisfeita'"
   ]
  },
  {
   "cell_type": "markdown",
   "metadata": {},
   "source": [
    "O comando `elif` possibilita o encadeamento de vários comandos `if`. Por exemplo:"
   ]
  },
  {
   "cell_type": "code",
   "execution_count": 11,
   "metadata": {
    "collapsed": false
   },
   "outputs": [
    {
     "name": "stdout",
     "output_type": "stream",
     "text": [
      "nenhuma condicao satisfeita\n"
     ]
    }
   ],
   "source": [
    "a = 3.0\n",
    "\n",
    "if a == 5.0:           #condicao 1\n",
    "    print 'condicao 1 satisfeita'\n",
    "    \n",
    "elif a == 4.0:         #condicao 2\n",
    "    print 'condicao 2 satisfeita'\n",
    "    \n",
    "elif a == 6.0:         #condicao 3\n",
    "    print 'condicao 3 satisfeita'\n",
    "\n",
    "else:\n",
    "    print 'nenhuma condicao satisfeita'"
   ]
  },
  {
   "cell_type": "code",
   "execution_count": 12,
   "metadata": {
    "collapsed": false
   },
   "outputs": [
    {
     "name": "stdout",
     "output_type": "stream",
     "text": [
      "condicao 2 satisfeita\n"
     ]
    }
   ],
   "source": [
    "a = 4.0\n",
    "\n",
    "if a == 5.0:           #condicao 1\n",
    "    print 'condicao 1 satisfeita'\n",
    "    \n",
    "elif a == 4.0:         #condicao 2\n",
    "    print 'condicao 2 satisfeita'\n",
    "    \n",
    "elif a == 6.0:         #condicao 3\n",
    "    print 'condicao 3 satisfeita'\n",
    "\n",
    "else:\n",
    "    print 'nenhuma condicao satisfeita'"
   ]
  },
  {
   "cell_type": "code",
   "execution_count": 13,
   "metadata": {
    "collapsed": false
   },
   "outputs": [
    {
     "name": "stdout",
     "output_type": "stream",
     "text": [
      "condicao 1 satisfeita\n"
     ]
    }
   ],
   "source": [
    "a = 5.0\n",
    "\n",
    "if a == 5.0:           #condicao 1\n",
    "    print 'condicao 1 satisfeita'\n",
    "    \n",
    "elif a == 4.0:         #condicao 2\n",
    "    print 'condicao 2 satisfeita'\n",
    "    \n",
    "elif a == 6.0:         #condicao 3\n",
    "    print 'condicao 3 satisfeita'\n",
    "\n",
    "else:\n",
    "    print 'nenhuma condicao satisfeita'"
   ]
  },
  {
   "cell_type": "code",
   "execution_count": 14,
   "metadata": {
    "collapsed": false
   },
   "outputs": [
    {
     "name": "stdout",
     "output_type": "stream",
     "text": [
      "condicao 3 satisfeita\n"
     ]
    }
   ],
   "source": [
    "a = 6.0\n",
    "\n",
    "if a == 5.0:           #condicao 1\n",
    "    print 'condicao 1 satisfeita'\n",
    "    \n",
    "elif a == 4.0:         #condicao 2\n",
    "    print 'condicao 2 satisfeita'\n",
    "    \n",
    "elif a == 6.0:         #condicao 3\n",
    "    print 'condicao 3 satisfeita'\n",
    "\n",
    "else:\n",
    "    print 'nenhuma condicao satisfeita'"
   ]
  },
  {
   "cell_type": "markdown",
   "metadata": {},
   "source": [
    "O que acontece quando mais de uma condição é satisfeita?"
   ]
  },
  {
   "cell_type": "code",
   "execution_count": 15,
   "metadata": {
    "collapsed": false
   },
   "outputs": [
    {
     "name": "stdout",
     "output_type": "stream",
     "text": [
      "condicao 2 satisfeita\n"
     ]
    }
   ],
   "source": [
    "a = 6.0\n",
    "\n",
    "if a == 5.0:           #condicao 1\n",
    "    print 'condicao 1 satisfeita'\n",
    "    \n",
    "elif a > 5.0:         #condicao 2\n",
    "    print 'condicao 2 satisfeita'\n",
    "    \n",
    "elif a == 6.0:         #condicao 3\n",
    "    print 'condicao 3 satisfeita'\n",
    "    \n",
    "else:\n",
    "    print 'nenhuma condicao satisfeita'"
   ]
  },
  {
   "cell_type": "markdown",
   "metadata": {},
   "source": [
    "Este encadeamento de comandos pode ser representado de acordo com a figura abaixo:"
   ]
  },
  {
   "cell_type": "code",
   "execution_count": 16,
   "metadata": {
    "collapsed": true
   },
   "outputs": [],
   "source": [
    "from IPython.display import Image"
   ]
  },
  {
   "cell_type": "code",
   "execution_count": 17,
   "metadata": {
    "collapsed": false
   },
   "outputs": [
    {
     "data": {
      "image/png": "[encoded data removed]",
      "text/plain": [
       "<IPython.core.display.Image object>"
      ]
     },
     "execution_count": 17,
     "metadata": {},
     "output_type": "execute_result"
    }
   ],
   "source": [
    "Image('if-elif-else.png')"
   ]
  },
  {
   "cell_type": "markdown",
   "metadata": {},
   "source": [
    "##for"
   ]
  },
  {
   "cell_type": "code",
   "execution_count": 20,
   "metadata": {
    "collapsed": false
   },
   "outputs": [
    {
     "name": "stdout",
     "output_type": "stream",
     "text": [
      "0\n",
      "1\n",
      "2\n",
      "3\n",
      "4\n",
      "5\n",
      "6\n",
      "7\n",
      "8\n",
      "9\n"
     ]
    }
   ],
   "source": [
    "for i in range(10):\n",
    "    print i"
   ]
  },
  {
   "cell_type": "code",
   "execution_count": 25,
   "metadata": {
    "collapsed": false
   },
   "outputs": [
    {
     "name": "stdout",
     "output_type": "stream",
     "text": [
      "3\n",
      "4\n",
      "5\n",
      "6\n",
      "7\n",
      "8\n",
      "9\n"
     ]
    }
   ],
   "source": [
    "for i in range(3,10):\n",
    "    print i"
   ]
  },
  {
   "cell_type": "code",
   "execution_count": 26,
   "metadata": {
    "collapsed": true
   },
   "outputs": [],
   "source": [
    "x = [i for i in range(3,10)]"
   ]
  },
  {
   "cell_type": "code",
   "execution_count": 27,
   "metadata": {
    "collapsed": false
   },
   "outputs": [
    {
     "name": "stdout",
     "output_type": "stream",
     "text": [
      "[3, 4, 5, 6, 7, 8, 9]\n"
     ]
    }
   ],
   "source": [
    "print x"
   ]
  },
  {
   "cell_type": "markdown",
   "metadata": {},
   "source": [
    "##Exercícios\n",
    "\n",
    "1. Dada uma lista de números, imprima apenas os números ímpares.\n",
    "\n",
    "2. Dada uma lista de números, imprima apenas aquelas que forem maiores que um valor \"a\" e menores que um valor \"b\".\n",
    "\n",
    "3. Seja um caixa eletrônico com \"a\" notas de 100, \"b\" notas de 50, \"c\" notas de 20, \"d\" notas de 10, \"e\" notas de 5 e \"f\" notas de 2. Implemente o algoritmo que retorna um determinado valor x com a menor quantidade de notas possível."
   ]
  },
  {
   "cell_type": "code",
   "execution_count": null,
   "metadata": {
    "collapsed": true
   },
   "outputs": [],
   "source": []
  }
 ],
 "metadata": {
  "kernelspec": {
   "display_name": "Python 2",
   "language": "python",
   "name": "python2"
  },
  "language_info": {
   "codemirror_mode": {
    "name": "ipython",
    "version": 2
   },
   "file_extension": ".py",
   "mimetype": "text/x-python",
   "name": "python",
   "nbconvert_exporter": "python",
   "pygments_lexer": "ipython2",
   "version": "2.7.7"
  }
 },
 "nbformat": 4,
 "nbformat_minor": 0
}
