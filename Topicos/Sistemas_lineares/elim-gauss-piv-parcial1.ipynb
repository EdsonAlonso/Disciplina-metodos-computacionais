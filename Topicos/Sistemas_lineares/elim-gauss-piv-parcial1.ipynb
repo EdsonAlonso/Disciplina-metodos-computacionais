{
 "cells": [
  {
   "cell_type": "markdown",
   "metadata": {},
   "source": [
    "#Eliminação de Gauss com pivotamento parcial"
   ]
  },
  {
   "cell_type": "markdown",
   "metadata": {},
   "source": [
    "Um sistema linear $N \\times N$ pode ser transformado, de forma iterativa, em um sistema triangular equivalente por meio da Eliminação de Gauss. Isto é, o sistema linear"
   ]
  },
  {
   "cell_type": "markdown",
   "metadata": {},
   "source": [
    "$$\\mathbf{A} \\, \\mathbf{x}  = \\mathbf{y}$$"
   ]
  },
  {
   "cell_type": "markdown",
   "metadata": {},
   "source": [
    "é transformado no sistema triangular equivalente"
   ]
  },
  {
   "cell_type": "markdown",
   "metadata": {},
   "source": [
    "$$\\mathbf{B} \\, \\mathbf{x} = \\mathbf{z} \\: ,$$"
   ]
  },
  {
   "cell_type": "markdown",
   "metadata": {},
   "source": [
    "com a mesma solução $\\mathbf{x}$ do sistema original."
   ]
  },
  {
   "cell_type": "markdown",
   "metadata": {},
   "source": [
    "Tal como visto anteriormente, a transformação do sistema linear original para o sistema triangular equivalente é feita de forma iterativa, por meio de sucessivas transformações lineares do tipo:"
   ]
  },
  {
   "cell_type": "markdown",
   "metadata": {},
   "source": [
    "$$\n",
    "\\begin{array}{ccccc}\n",
    "\\mathbf{A}^{(0)} = \\mathbf{A} & & & \\mathbf{y}^{(0)} = \\mathbf{y} \\\\\\\\\n",
    "\\mathbf{A}^{(1)} = \\mathbf{G}^{(1)} \\mathbf{A}^{(0)} & & &\n",
    "\\mathbf{y}^{(1)} = \\mathbf{G}^{(1)} \\mathbf{y}^{(0)} \\\\\\\\\n",
    "\\mathbf{A}^{(2)} = \\mathbf{G}^{(2)} \\mathbf{A}^{(1)} & & &\n",
    "\\mathbf{y}^{(2)} = \\mathbf{G}^{(2)} \\mathbf{y}^{(1)} \\\\\\\\\n",
    "\\vdots & & & \\vdots \\\\\\\\\n",
    "\\mathbf{A}^{(N-2)} = \\mathbf{G}^{(N-2)} \\mathbf{A}^{(N-3)} & & &\n",
    "\\mathbf{y}^{(N-2)} = \\mathbf{G}^{(N-2)} \\mathbf{y}^{(N-3)} \\\\\\\\\n",
    "\\mathbf{B} = \\mathbf{G}^{(N-1)} \\mathbf{A}^{(N-2)} & & &\n",
    "\\mathbf{z} = \\mathbf{G}^{(N-1)} \\mathbf{y}^{(N-2)} \\\\\\\\\n",
    "\\end{array} \\: ,$$"
   ]
  },
  {
   "cell_type": "markdown",
   "metadata": {},
   "source": [
    "em que $\\mathbf{G}^{(k)}$ é a **Transformação de Gauss** da k-ésima iteração. Esta matriz depende do **vetor de Gauss** $\\mathbf{t}^{(k)}$, cujo i-ésimo elemento é definido como:"
   ]
  },
  {
   "cell_type": "markdown",
   "metadata": {},
   "source": [
    "$t_{i}^{(k)} = \\begin{cases} 0 & \\quad \\text{if } i \\le k \\\\\\\\ \\dfrac{a^{(k-1)}_{ik}}{a^{(k-1)}_{kk}} & \\quad \\text{if } i \\gt k\\\\ \\end{cases} \\: ,$"
   ]
  },
  {
   "cell_type": "markdown",
   "metadata": {},
   "source": [
    "em que $a^{(k-1)}_{ij}$ é o elemento $ij$ da matriz $\\mathbf{A}^{(k-1)}$. Observe que, para calcular o elemento $t^{(k)}_i$, é necessário que $a^{(k-1)}_{kk} \\ne 0$. Contudo, é possível que $a^{(k-1)}_{kk} = 0$ e, consequentemente, que o vetor de Gauss não possa ser calculado. Valores $a^{(k-1)}_{kk} \\approx 0$ também são um problema porque podem produzir resultados espúrios. Para exemplificar este problema, vamos considerar o sistema linear abaixo:"
   ]
  },
  {
   "cell_type": "code",
   "execution_count": 1,
   "metadata": {
    "collapsed": true
   },
   "outputs": [],
   "source": [
    "import numpy as np"
   ]
  },
  {
   "cell_type": "code",
   "execution_count": 2,
   "metadata": {
    "collapsed": true
   },
   "outputs": [],
   "source": [
    "A = np.array([[1.e-6, 2.],\n",
    "              [1.e-2, 1.e-3]])"
   ]
  },
  {
   "cell_type": "code",
   "execution_count": 3,
   "metadata": {
    "collapsed": false
   },
   "outputs": [
    {
     "name": "stdout",
     "output_type": "stream",
     "text": [
      "[[  1.00000000e-06   2.00000000e+00]\n",
      " [  1.00000000e-02   1.00000000e-03]]\n"
     ]
    }
   ],
   "source": [
    "print A"
   ]
  },
  {
   "cell_type": "code",
   "execution_count": 4,
   "metadata": {
    "collapsed": true
   },
   "outputs": [],
   "source": [
    "y = np.reshape((7.*A[:,0] + 0.15*A[:,1]),(2,1))"
   ]
  },
  {
   "cell_type": "code",
   "execution_count": 5,
   "metadata": {
    "collapsed": false
   },
   "outputs": [
    {
     "name": "stdout",
     "output_type": "stream",
     "text": [
      "[[ 0.300007]\n",
      " [ 0.07015 ]]\n"
     ]
    }
   ],
   "source": [
    "print y"
   ]
  },
  {
   "cell_type": "markdown",
   "metadata": {},
   "source": [
    "A solução deste sistema é dada por:"
   ]
  },
  {
   "cell_type": "code",
   "execution_count": 6,
   "metadata": {
    "collapsed": true
   },
   "outputs": [],
   "source": [
    "x = np.array([[7.],\n",
    "              [0.15]])"
   ]
  },
  {
   "cell_type": "code",
   "execution_count": 7,
   "metadata": {
    "collapsed": false
   },
   "outputs": [
    {
     "name": "stdout",
     "output_type": "stream",
     "text": [
      "[[ 7.  ]\n",
      " [ 0.15]]\n"
     ]
    }
   ],
   "source": [
    "print x"
   ]
  },
  {
   "cell_type": "markdown",
   "metadata": {},
   "source": [
    "Neste caso, apenas uma iteração é necessária para transformar este sistema no sistema equivalente. Neste caso, a Transformação de Gauss é dada por:"
   ]
  },
  {
   "cell_type": "code",
   "execution_count": 8,
   "metadata": {
    "collapsed": true
   },
   "outputs": [],
   "source": [
    "I = np.identity(2)"
   ]
  },
  {
   "cell_type": "code",
   "execution_count": 9,
   "metadata": {
    "collapsed": true
   },
   "outputs": [],
   "source": [
    "u = np.array([[1.],\n",
    "              [0.]])"
   ]
  },
  {
   "cell_type": "code",
   "execution_count": 10,
   "metadata": {
    "collapsed": true
   },
   "outputs": [],
   "source": [
    "t = np.array([[0.],\n",
    "              [A[1][0]/A[0][0]]])"
   ]
  },
  {
   "cell_type": "code",
   "execution_count": 11,
   "metadata": {
    "collapsed": true
   },
   "outputs": [],
   "source": [
    "G = I - t*u.T"
   ]
  },
  {
   "cell_type": "code",
   "execution_count": 12,
   "metadata": {
    "collapsed": false
   },
   "outputs": [
    {
     "name": "stdout",
     "output_type": "stream",
     "text": [
      "[[  1.00000000e+00   0.00000000e+00]\n",
      " [ -1.00000000e+04   1.00000000e+00]]\n"
     ]
    }
   ],
   "source": [
    "print G"
   ]
  },
  {
   "cell_type": "markdown",
   "metadata": {},
   "source": [
    "A aplicação desta Transformação de Gauss resulta na seguinte matriz triangular:"
   ]
  },
  {
   "cell_type": "code",
   "execution_count": 13,
   "metadata": {
    "collapsed": true
   },
   "outputs": [],
   "source": [
    "B = G.dot(A)\n",
    "z = G.dot(y)"
   ]
  },
  {
   "cell_type": "code",
   "execution_count": 14,
   "metadata": {
    "collapsed": false
   },
   "outputs": [
    {
     "name": "stdout",
     "output_type": "stream",
     "text": [
      "[[  1.00000000e-06   2.00000000e+00]\n",
      " [  0.00000000e+00  -1.99999990e+04]]\n"
     ]
    }
   ],
   "source": [
    "print B"
   ]
  },
  {
   "cell_type": "code",
   "execution_count": 15,
   "metadata": {
    "collapsed": false
   },
   "outputs": [
    {
     "name": "stdout",
     "output_type": "stream",
     "text": [
      "[[ 0.300007]\n",
      " [ 0.07015 ]]\n"
     ]
    }
   ],
   "source": [
    "print y"
   ]
  },
  {
   "cell_type": "markdown",
   "metadata": {},
   "source": [
    "A solução do sistema triangular equivalente é dada por:"
   ]
  },
  {
   "cell_type": "code",
   "execution_count": 16,
   "metadata": {
    "collapsed": true
   },
   "outputs": [],
   "source": [
    "w = np.zeros((2,1))\n",
    "w[1] = y[1]/B[1,1]\n",
    "w[0] = (y[0] - B[0,1]*w[1])/B[0,0]"
   ]
  },
  {
   "cell_type": "code",
   "execution_count": 17,
   "metadata": {
    "collapsed": false
   },
   "outputs": [
    {
     "name": "stdout",
     "output_type": "stream",
     "text": [
      "[[  3.00014015e+05]\n",
      " [ -3.50750018e-06]]\n"
     ]
    }
   ],
   "source": [
    "print w"
   ]
  },
  {
   "cell_type": "markdown",
   "metadata": {},
   "source": [
    "Note que esta solução é muito diferente daquela do sistema original"
   ]
  },
  {
   "cell_type": "code",
   "execution_count": 18,
   "metadata": {
    "collapsed": false
   },
   "outputs": [
    {
     "name": "stdout",
     "output_type": "stream",
     "text": [
      "[[ 7.  ]\n",
      " [ 0.15]]\n"
     ]
    }
   ],
   "source": [
    "print x"
   ]
  },
  {
   "cell_type": "markdown",
   "metadata": {},
   "source": [
    "Neste exemplo, a Transformação de Gauss calculada a partir dos elementos de $\\mathbf{A}$ envolve uma divisão por um número $a_{11} \\approx 0$ e isso faz com que a solução do sistema triangular seja espúria. Para contornar este problema, basta fazer uma permutação das linhas de $\\mathbf{A}$ e também do vetor $\\mathbf{y}$. Esta permutação gera uma nova matriz $\\tilde{\\mathbf{A}}$ e um novo vetor $\\tilde{\\mathbf{y}}$. Ao fazer a permutação, o elemento $\\tilde{a}_{11}$ da matriz $\\tilde{\\mathbf{A}}$ deixa de ser tão próximo a zero. Contudo, o que acontece com a solução do sistema linear? Vamos exemplificar esta operação abaixo:"
   ]
  },
  {
   "cell_type": "markdown",
   "metadata": {},
   "source": [
    "#####Permutação das linhas de $\\mathbf{A}$ e $\\mathbf{y}$"
   ]
  },
  {
   "cell_type": "code",
   "execution_count": 19,
   "metadata": {
    "collapsed": true
   },
   "outputs": [],
   "source": [
    "A_til = A[::-1,:]"
   ]
  },
  {
   "cell_type": "code",
   "execution_count": 20,
   "metadata": {
    "collapsed": false
   },
   "outputs": [
    {
     "name": "stdout",
     "output_type": "stream",
     "text": [
      "[[  1.00000000e-02   1.00000000e-03]\n",
      " [  1.00000000e-06   2.00000000e+00]]\n"
     ]
    }
   ],
   "source": [
    "print A_til"
   ]
  },
  {
   "cell_type": "code",
   "execution_count": 21,
   "metadata": {
    "collapsed": true
   },
   "outputs": [],
   "source": [
    "y_til = y[::-1]"
   ]
  },
  {
   "cell_type": "code",
   "execution_count": 22,
   "metadata": {
    "collapsed": false
   },
   "outputs": [
    {
     "name": "stdout",
     "output_type": "stream",
     "text": [
      "[[ 0.07015 ]\n",
      " [ 0.300007]]\n"
     ]
    }
   ],
   "source": [
    "print y_til"
   ]
  },
  {
   "cell_type": "markdown",
   "metadata": {},
   "source": [
    "#####Cálculo do novo vetor de Gauss $\\tilde{\\mathbf{t}}$ e da nova Transformação de Gauss $\\tilde{\\mathbf{G}}$"
   ]
  },
  {
   "cell_type": "code",
   "execution_count": 23,
   "metadata": {
    "collapsed": false
   },
   "outputs": [],
   "source": [
    "t_til = np.array([[0.],\n",
    "                 [A_til[1][0]/A_til[0][0]]])"
   ]
  },
  {
   "cell_type": "code",
   "execution_count": 24,
   "metadata": {
    "collapsed": true
   },
   "outputs": [],
   "source": [
    "G_til = I - t_til*u.T"
   ]
  },
  {
   "cell_type": "code",
   "execution_count": 25,
   "metadata": {
    "collapsed": true
   },
   "outputs": [],
   "source": [
    "B_til = G_til.dot(A_til)\n",
    "z_til = G_til.dot(y_til)"
   ]
  },
  {
   "cell_type": "code",
   "execution_count": 26,
   "metadata": {
    "collapsed": false
   },
   "outputs": [
    {
     "name": "stdout",
     "output_type": "stream",
     "text": [
      "[[  1.00000000e-02   1.00000000e-03]\n",
      " [  0.00000000e+00   1.99999990e+00]]\n"
     ]
    }
   ],
   "source": [
    "print B_til"
   ]
  },
  {
   "cell_type": "code",
   "execution_count": 27,
   "metadata": {
    "collapsed": false
   },
   "outputs": [
    {
     "name": "stdout",
     "output_type": "stream",
     "text": [
      "[[ 0.07015   ]\n",
      " [ 0.29999998]]\n"
     ]
    }
   ],
   "source": [
    "print z_til"
   ]
  },
  {
   "cell_type": "markdown",
   "metadata": {},
   "source": [
    "#####Solução do sistema triangular equivalente"
   ]
  },
  {
   "cell_type": "code",
   "execution_count": 28,
   "metadata": {
    "collapsed": true
   },
   "outputs": [],
   "source": [
    "w_til = np.zeros((2,1))\n",
    "w_til[1] = y_til[1]/B_til[1,1]\n",
    "w_til[0] = (y_til[0] - B_til[0,1]*w[1])/B_til[0,0]"
   ]
  },
  {
   "cell_type": "code",
   "execution_count": 29,
   "metadata": {
    "collapsed": false
   },
   "outputs": [
    {
     "name": "stdout",
     "output_type": "stream",
     "text": [
      "[[ 7.01500035]\n",
      " [ 0.15000351]]\n"
     ]
    }
   ],
   "source": [
    "print w_til"
   ]
  },
  {
   "cell_type": "markdown",
   "metadata": {},
   "source": [
    "Note que esta solução é muito próxima da solução do sistema original"
   ]
  },
  {
   "cell_type": "code",
   "execution_count": 30,
   "metadata": {
    "collapsed": false
   },
   "outputs": [
    {
     "name": "stdout",
     "output_type": "stream",
     "text": [
      "[[ 7.  ]\n",
      " [ 0.15]]\n"
     ]
    }
   ],
   "source": [
    "print x"
   ]
  },
  {
   "cell_type": "markdown",
   "metadata": {},
   "source": [
    "Matematicamente, a permutação das linhas de uma matriz ou de um vetor é o resultado da premultiplicação por uma matriz $\\mathbf{P}$. Esta matriz é convenientemente denominada **matriz permutação** e será explicada no próximo IPython Notebook."
   ]
  },
  {
   "cell_type": "code",
   "execution_count": null,
   "metadata": {
    "collapsed": true
   },
   "outputs": [],
   "source": []
  }
 ],
 "metadata": {
  "kernelspec": {
   "display_name": "Python 2",
   "language": "python",
   "name": "python2"
  },
  "language_info": {
   "codemirror_mode": {
    "name": "ipython",
    "version": 2
   },
   "file_extension": ".py",
   "mimetype": "text/x-python",
   "name": "python",
   "nbconvert_exporter": "python",
   "pygments_lexer": "ipython2",
   "version": "2.7.7"
  }
 },
 "nbformat": 4,
 "nbformat_minor": 0
}
