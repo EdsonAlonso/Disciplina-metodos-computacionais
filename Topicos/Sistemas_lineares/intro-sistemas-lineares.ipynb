{
 "cells": [
  {
   "cell_type": "markdown",
   "metadata": {},
   "source": [
    "#Sistemas lineares"
   ]
  },
  {
   "cell_type": "markdown",
   "metadata": {},
   "source": [
    "Considere o seguinte conjunto de equações:"
   ]
  },
  {
   "cell_type": "markdown",
   "metadata": {},
   "source": [
    "$$\\begin{array}{r}\n",
    "       x_{1} & + & 5 \\, x_{2} & - & 5.3 \\, x_{3} & = & y_{1} \\\\\n",
    "2.4 \\, x_{1} & - & 2 \\, x_{2} & + & x_{3} & = & y_{2} \\\\\n",
    "7.8 \\, x_{1} & - & 4.1 \\, x_{2} & + & 6.4 \\, x_{3} & = & y_{3} \\\\\n",
    "\\end{array} \\: .\n",
    "$$"
   ]
  },
  {
   "cell_type": "markdown",
   "metadata": {},
   "source": [
    "Note que $y_{i}$, $i = 1, 2, 3$, são [combinações lineares](http://mathworld.wolfram.com/LinearCombination.html) das variáveis  $x_{1}$, $x_{2}$, $x_{3}$. Isso significa que a derivada de $y_{i}$, $i = 1, 2, 3$, em relação a qualquer uma das variáveis $x_{1}$, $x_{2}$, $x_{3}$ é uma constante. Por exemplo, a derivada de $y_{2}$ em relação a $x_{3}$ é igual a $1$."
   ]
  },
  {
   "cell_type": "markdown",
   "metadata": {},
   "source": [
    "Este conjunto de equações pode ser reescrito em notação matricial, da seguinte forma:"
   ]
  },
  {
   "cell_type": "markdown",
   "metadata": {},
   "source": [
    "$$\\mathbf{A}\\, \\mathbf{x} = \\mathbf{y} \\: ,$$"
   ]
  },
  {
   "cell_type": "markdown",
   "metadata": {},
   "source": [
    "em que"
   ]
  },
  {
   "cell_type": "markdown",
   "metadata": {},
   "source": [
    "$$\\mathbf{A} = \\left[\n",
    "\\begin{array}{ccc}\n",
    "1 & 5 & -5,3 \\\\\n",
    "2,4 & -2 & 1 \\\\\n",
    "7,8 & -4,1 & 6,4\n",
    "\\end{array}\n",
    "\\right]_{3 \\times 3} \\: ,$$"
   ]
  },
  {
   "cell_type": "markdown",
   "metadata": {},
   "source": [
    "$$\\mathbf{y} = \\left[\n",
    "\\begin{array}{c}\n",
    "y_{1} \\\\\n",
    "y_{2} \\\\\n",
    "y_{3}\n",
    "\\end{array}\n",
    "\\right]_{3 \\times 1}$$"
   ]
  },
  {
   "cell_type": "markdown",
   "metadata": {},
   "source": [
    "e"
   ]
  },
  {
   "cell_type": "markdown",
   "metadata": {},
   "source": [
    "$$\\mathbf{x} = \\left[\n",
    "\\begin{array}{c}\n",
    "x_{1} \\\\\n",
    "x_{2} \\\\\n",
    "x_{3}\n",
    "\\end{array}\n",
    "\\right]_{3 \\times 1} \\: .$$"
   ]
  },
  {
   "cell_type": "markdown",
   "metadata": {},
   "source": [
    "Esta equação é comumente denominada sistema de equações lineares ou apenas **sistema linear**."
   ]
  },
  {
   "cell_type": "markdown",
   "metadata": {},
   "source": [
    "Sistemas lineares são muito comuns em problemas de geofísica. Geralmente, $\\mathbf{y}$ contém grandezas observáveis (medidas de anomalia de gravidade, anomalia de campo total, tempo de chegada de ondas sísmicas, componentes horizontal e vertical de campos elétricos e magnéticos, etc.) e, portanto, é conhecido. A matriz $\\mathbf{A}$, normalmente, contém grandezas observáveis secundárias (por exemplo, coordenadas geográficas, tempo, parâmetros de aquisição, etc.) e, portanto, também é conhecida. Já o vetor $\\mathbf{x}$ contém variáveis desconhecidas, ou incógnitas. Estas variáveis são, geralmente, parâmetros que descrevem o sistema físico em estudo. Por exemplo, dimensões de um corpo geológicos, distribuição de velocidades sísmicas, distribuição de resistividade elétrica, etc."
   ]
  },
  {
   "cell_type": "markdown",
   "metadata": {},
   "source": [
    "Resolver um sistema linear, portanto, significa determinar o vetor $\\mathbf{x}$ a partir da matriz $\\mathbf{A}$ e do vetor $\\mathbf{y}$. Alguns sistemas lineares são relativamente fáceis de serem resolvidos, tais como os exemplos apresentados abaixo."
   ]
  },
  {
   "cell_type": "markdown",
   "metadata": {},
   "source": [
    "###Exemplo de implementação em Python"
   ]
  },
  {
   "cell_type": "code",
   "execution_count": 1,
   "metadata": {
    "collapsed": true
   },
   "outputs": [],
   "source": [
    "import numpy as np"
   ]
  },
  {
   "cell_type": "markdown",
   "metadata": {},
   "source": [
    "`x = np.linalg.solve(A,y)` ,\n",
    "\n",
    "em que A e y são arrays do numpy."
   ]
  },
  {
   "cell_type": "code",
   "execution_count": 2,
   "metadata": {
    "collapsed": false
   },
   "outputs": [],
   "source": [
    "A = np.array([[1.,5.,-5.3],\n",
    "              [2.4,-2.,1.],\n",
    "              [7.8,-4.1,6.4]])\n",
    "y = np.array([[42.],\n",
    "              [11.],\n",
    "              [67.]])"
   ]
  },
  {
   "cell_type": "code",
   "execution_count": 3,
   "metadata": {
    "collapsed": true
   },
   "outputs": [],
   "source": [
    "x = np.linalg.solve(A,y)"
   ]
  },
  {
   "cell_type": "code",
   "execution_count": 4,
   "metadata": {
    "collapsed": false
   },
   "outputs": [
    {
     "name": "stdout",
     "output_type": "stream",
     "text": [
      "[[ 11.08129511]\n",
      " [  9.23845874]\n",
      " [  2.88180921]]\n"
     ]
    }
   ],
   "source": [
    "print x"
   ]
  },
  {
   "cell_type": "code",
   "execution_count": null,
   "metadata": {
    "collapsed": true
   },
   "outputs": [],
   "source": []
  }
 ],
 "metadata": {
  "kernelspec": {
   "display_name": "Python 2",
   "language": "python",
   "name": "python2"
  },
  "language_info": {
   "codemirror_mode": {
    "name": "ipython",
    "version": 2
   },
   "file_extension": ".py",
   "mimetype": "text/x-python",
   "name": "python",
   "nbconvert_exporter": "python",
   "pygments_lexer": "ipython2",
   "version": "2.7.7"
  }
 },
 "nbformat": 4,
 "nbformat_minor": 0
}
