{
 "cells": [
  {
   "cell_type": "markdown",
   "metadata": {},
   "source": [
    "##Sistema diagonal"
   ]
  },
  {
   "cell_type": "markdown",
   "metadata": {},
   "source": [
    "Neste sistema linear, os elementos da matriz $\\mathbf{A}$ fora da diagonal principal são nulos:"
   ]
  },
  {
   "cell_type": "markdown",
   "metadata": {},
   "source": [
    "$$\\begin{split}\n",
    "\\mathbf{A} \n",
    "& = \\left[ \\begin{array}{ccc}\n",
    "a_{11} & a_{12} & a_{13} \\\\\n",
    "a_{21} & a_{22} & a_{23} \\\\\n",
    "a_{31} & a_{32} & a_{33}\n",
    "\\end{array} \\right]_{3 \\times 3} \\\\\\\\\n",
    "& = \\left[ \\begin{array}{ccc}\n",
    "a_{11} & 0 & 0 \\\\\n",
    "0 & a_{22} & 0 \\\\\n",
    "0 & 0 & a_{33}\n",
    "\\end{array} \\right]_{3 \\times 3} \\: .\n",
    "\\end{split}$$"
   ]
  },
  {
   "cell_type": "markdown",
   "metadata": {},
   "source": [
    "A solução deste tipo de sistema é dada por:"
   ]
  },
  {
   "cell_type": "markdown",
   "metadata": {},
   "source": [
    "$$\\begin{split}\n",
    "\\begin{array}{c}\n",
    "x_{1} = \\dfrac{y_{1}}{a_{11}} \\\\\\\\\n",
    "x_{2} = \\dfrac{y_{2}}{a_{22}} \\\\\\\\\n",
    "x_{3} = \\dfrac{y_{3}}{a_{33}}\n",
    "\\end{array}\n",
    "\\end{split} \\: .$$"
   ]
  },
  {
   "cell_type": "markdown",
   "metadata": {},
   "source": [
    "##Sistemas triangulares"
   ]
  },
  {
   "cell_type": "markdown",
   "metadata": {},
   "source": [
    "Neste caso, os elementos da matriz $\\mathbf{A}$ abaixo da diagonal principal são nulos:"
   ]
  },
  {
   "cell_type": "markdown",
   "metadata": {},
   "source": [
    "$$\\begin{split}\n",
    "\\mathbf{A} \n",
    "& = \\left[ \\begin{array}{ccc}\n",
    "a_{11} & a_{12} & a_{13} \\\\\n",
    "a_{21} & a_{22} & a_{23} \\\\\n",
    "a_{31} & a_{32} & a_{33}\n",
    "\\end{array} \\right]_{3 \\times 3} \\\\\\\\\n",
    "& = \\left[ \\begin{array}{ccc}\n",
    "a_{11} & a_{12} & a_{13} \\\\\n",
    "0 & a_{22} & a_{23} \\\\\n",
    "0 & 0 & a_{33}\n",
    "\\end{array} \\right]_{3 \\times 3} \\: .\n",
    "\\end{split}$$"
   ]
  },
  {
   "cell_type": "markdown",
   "metadata": {},
   "source": [
    "A solução deste tipo de sistema pode ser calculada por meio de um algoritmo denominado *substituição regressiva*. De acordo com este algoritmo, os elementos do vetor $\\mathbf{x}$ são calculados do último até o primeiro, tal como descrito abaixo:"
   ]
  },
  {
   "cell_type": "markdown",
   "metadata": {},
   "source": [
    "$$\\begin{split}\n",
    "\\begin{array}{c}\n",
    "a_{33} \\, x_{3} = y_{33} \\rightarrow x_{3} = \\dfrac{y_{3}}{a_{33}} \\\\\\\\\n",
    "a_{22} \\, x_{2} + a_{23} \\, x_{3} = y_{2} \\rightarrow\n",
    "x_{2} = \\dfrac{y_{2} - a_{23} \\, x_{3}}{a_{22}} \\\\\\\\\n",
    "a_{11} \\, x_{1} + a_{12} \\, x_{2} + a_{13} \\, x_{3} = y_{1} \\rightarrow\n",
    "x_{1} = \\dfrac{y_{1} - a_{12} \\, x_{2} - a_{13} \\, x_{3}}{a_{11}}\n",
    "\\end{array}\n",
    "\\end{split} \\: .$$"
   ]
  },
  {
   "cell_type": "markdown",
   "metadata": {},
   "source": [
    "Note que esta expressão permite elaborar o seguinte algoritmo para a solução deste sistema:"
   ]
  },
  {
   "cell_type": "markdown",
   "metadata": {},
   "source": [
    "----\n",
    "for $i = N:1:-1$\n",
    "\n",
    ">$x_{i} = y_{i}$\n",
    "\n",
    ">for $j = \\left( i+1 \\right):N:1$ \n",
    "\n",
    ">>$x_{i} = x_{i} - a_{ij} \\, x_{j}$\n",
    "\n",
    ">end\n",
    "\n",
    ">$x_{i} = \\dfrac{x_{i}}{a_{ii}}$\n",
    "\n",
    "end\n",
    "\n",
    "-----"
   ]
  },
  {
   "cell_type": "markdown",
   "metadata": {},
   "source": [
    "**ATENÇÃO**: Neste algotimo, o comando \"for $i = N:1:-1$\" significa que o contador $i$ começa em $N$ e termina em $1$, em intervalos de $-1$. Analogamente, o comando for $j = \\left( i+1 \\right):N:1$ significa que o contador $j$ começa em $\\left( i+1 \\right)$ e termina em $N$, em intervalos de $1$."
   ]
  },
  {
   "cell_type": "markdown",
   "metadata": {},
   "source": [
    "###Exercício"
   ]
  },
  {
   "cell_type": "markdown",
   "metadata": {},
   "source": [
    "Implemente o algoritmo apresentado acima para resolver um sistema envolvendo uma matriz triangular superior. Com base neste algoritmo, deduza e implemente o algoritmo para resolver sistemas que envolvem uma matriz triangular inferior. **A implementação deve seguir o template da disciplina**."
   ]
  },
  {
   "cell_type": "markdown",
   "metadata": {},
   "source": [
    "###Exemplo de implementação em Python"
   ]
  },
  {
   "cell_type": "code",
   "execution_count": 1,
   "metadata": {
    "collapsed": true
   },
   "outputs": [],
   "source": [
    "import numpy as np"
   ]
  },
  {
   "cell_type": "markdown",
   "metadata": {},
   "source": [
    "`x = np.linalg.solve(A,y)` ,\n",
    "\n",
    "em que A e y são arrays do numpy."
   ]
  },
  {
   "cell_type": "code",
   "execution_count": 2,
   "metadata": {
    "collapsed": false
   },
   "outputs": [],
   "source": [
    "A = np.array([[1.,2.,7.],\n",
    "              [0.,14.,8.],\n",
    "              [0.,0.,9.]])\n",
    "y = np.array([[42.],\n",
    "              [11.],\n",
    "              [67.]])"
   ]
  },
  {
   "cell_type": "code",
   "execution_count": 3,
   "metadata": {
    "collapsed": true
   },
   "outputs": [],
   "source": [
    "x = np.linalg.solve(A,y)"
   ]
  },
  {
   "cell_type": "code",
   "execution_count": 4,
   "metadata": {
    "collapsed": false
   },
   "outputs": [
    {
     "name": "stdout",
     "output_type": "stream",
     "text": [
      "[[-3.17460317]\n",
      " [-3.46825397]\n",
      " [ 7.44444444]]\n"
     ]
    }
   ],
   "source": [
    "print x"
   ]
  },
  {
   "cell_type": "code",
   "execution_count": null,
   "metadata": {
    "collapsed": true
   },
   "outputs": [],
   "source": []
  }
 ],
 "metadata": {
  "kernelspec": {
   "display_name": "Python 2",
   "language": "python",
   "name": "python2"
  },
  "language_info": {
   "codemirror_mode": {
    "name": "ipython",
    "version": 2
   },
   "file_extension": ".py",
   "mimetype": "text/x-python",
   "name": "python",
   "nbconvert_exporter": "python",
   "pygments_lexer": "ipython2",
   "version": "2.7.7"
  }
 },
 "nbformat": 4,
 "nbformat_minor": 0
}
