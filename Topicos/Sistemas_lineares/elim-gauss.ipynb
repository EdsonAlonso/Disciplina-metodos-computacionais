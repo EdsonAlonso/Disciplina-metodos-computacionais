{
 "cells": [
  {
   "cell_type": "markdown",
   "metadata": {},
   "source": [
    "#Eliminação de Gauss"
   ]
  },
  {
   "cell_type": "markdown",
   "metadata": {},
   "source": [
    "Considere o seguinte sistema linear:"
   ]
  },
  {
   "cell_type": "markdown",
   "metadata": {},
   "source": [
    "$$\\mathbf{A} \\, \\mathbf{x}  = \\mathbf{y}\\: ,$$"
   ]
  },
  {
   "cell_type": "markdown",
   "metadata": {},
   "source": [
    "em que"
   ]
  },
  {
   "cell_type": "markdown",
   "metadata": {},
   "source": [
    "$$\\mathbf{A} = \\left[\n",
    "\\begin{array}{cccccc}\n",
    "a_{11} & a_{12} & a_{13} & a_{14} & \\cdots & a_{1M} \\\\\n",
    "a_{21} & a_{22} & a_{23} & a_{24} & \\cdots & a_{2M} \\\\\n",
    "a_{31} & a_{32} & a_{33} & a_{34} & \\cdots & a_{3M} \\\\\n",
    "a_{41} & a_{42} & a_{43} & a_{44} & \\cdots & a_{4M} \\\\\n",
    "\\vdots & \\vdots & \\vdots & \\vdots & \\ddots & \\vdots \\\\\n",
    "a_{N1} & a_{N2} & a_{N3} & a_{N4} & \\cdots & a_{NN}\n",
    "\\end{array}\n",
    "\\right]_{N \\times N} \\: ,$$"
   ]
  },
  {
   "cell_type": "markdown",
   "metadata": {},
   "source": [
    "$$\\mathbf{y} = \\left[\n",
    "\\begin{array}{c}\n",
    "y_{1} \\\\\n",
    "y_{2} \\\\\n",
    "\\vdots \\\\\n",
    "y_{N}\n",
    "\\end{array}\n",
    "\\right]_{N \\times 1}$$"
   ]
  },
  {
   "cell_type": "markdown",
   "metadata": {},
   "source": [
    "e"
   ]
  },
  {
   "cell_type": "markdown",
   "metadata": {},
   "source": [
    "$$\\mathbf{x} = \\left[\n",
    "\\begin{array}{c}\n",
    "x_{1} \\\\\n",
    "x_{2} \\\\\n",
    "\\vdots \\\\\n",
    "x_{N}\n",
    "\\end{array}\n",
    "\\right]_{N \\times 1} \\: .$$"
   ]
  },
  {
   "cell_type": "markdown",
   "metadata": {},
   "source": [
    "É possível transformar este sistema linear em outro sistema linear equivalente envolvendo uma matriz triangular superior dado por:"
   ]
  },
  {
   "cell_type": "markdown",
   "metadata": {},
   "source": [
    "$$\\mathbf{B} \\, \\mathbf{x} = \\mathbf{z} \\: ,$$"
   ]
  },
  {
   "cell_type": "markdown",
   "metadata": {},
   "source": [
    "sendo"
   ]
  },
  {
   "cell_type": "markdown",
   "metadata": {},
   "source": [
    "$$\\mathbf{B} = \\left[\n",
    "\\begin{array}{ccccc}\n",
    "b_{11} & b_{12} & b_{13} & b_{14} & \\cdots & b_{1M} \\\\\n",
    "0 & b_{22} & b_{23} & b_{24} & \\cdots & b_{2M} \\\\\n",
    "0 & 0 & b_{33} & b_{34} & \\cdots & b_{3M} \\\\\n",
    "0 & 0 & 0 & b_{44} & \\cdots & b_{4M} \\\\\n",
    "\\vdots & \\vdots & \\vdots &  & \\ddots & \\vdots \\\\\n",
    "0 & 0 & 0 & 0 & \\cdots & b_{NN}\n",
    "\\end{array}\n",
    "\\right]_{N \\times N}$$"
   ]
  },
  {
   "cell_type": "markdown",
   "metadata": {},
   "source": [
    "e"
   ]
  },
  {
   "cell_type": "markdown",
   "metadata": {},
   "source": [
    "$$\\mathbf{z} = \\left[\n",
    "\\begin{array}{c}\n",
    "z_{1} \\\\\n",
    "z_{2} \\\\\n",
    "\\vdots \\\\\n",
    "z_{N}\n",
    "\\end{array}\n",
    "\\right]_{N \\times 1} \\: .$$"
   ]
  },
  {
   "cell_type": "markdown",
   "metadata": {},
   "source": [
    "Sistemas lineares envolvendo matrizes triangulares superiores podem ser resolvidos de forma relativamente fácil, de acordo com o algoritmo descrito em uma aula anterior."
   ]
  },
  {
   "cell_type": "markdown",
   "metadata": {},
   "source": [
    "A transformação do sistema linear original para o sistema linear equivalente é feita de forma iterativa, por meio de sucessivas transformações lineares do tipo:"
   ]
  },
  {
   "cell_type": "markdown",
   "metadata": {},
   "source": [
    "$$\n",
    "\\begin{array}{ccccc}\n",
    "\\mathbf{A}_{1} = \\left(\\mathbf{I} - \\mathbf{M}_{1}\\right) \\mathbf{A} & & &\n",
    "\\mathbf{y}_{1} = \\left(\\mathbf{I} - \\mathbf{M}_{1}\\right) \\mathbf{y} \\\\\\\\\n",
    "\\mathbf{A}_{2} = \\left(\\mathbf{I} - \\mathbf{M}_{2}\\right) \\mathbf{A}_{1} & & &\n",
    "\\mathbf{y}_{2} = \\left(\\mathbf{I} - \\mathbf{M}_{2}\\right) \\mathbf{y}_{1} \\\\\\\\\n",
    "\\vdots & & & \\vdots \\\\\\\\\n",
    "\\mathbf{A}_{N-2} = \\left(\\mathbf{I} - \\mathbf{M}_{N-2}\\right) \\mathbf{A}_{N-3} & & &\n",
    "\\mathbf{y}_{N-2} = \\left(\\mathbf{I} - \\mathbf{M}_{N-2}\\right) \\mathbf{y}_{N-3} \\\\\\\\\n",
    "\\mathbf{B} = \\left(\\mathbf{I} - \\mathbf{M}_{N-1}\\right) \\mathbf{A}_{N-2} & & &\n",
    "\\mathbf{z} = \\left(\\mathbf{I} - \\mathbf{M}_{N-1}\\right) \\mathbf{y}_{N-2} \\\\\\\\\n",
    "\\end{array}$$"
   ]
  },
  {
   "cell_type": "markdown",
   "metadata": {},
   "source": [
    "##Sistema linear envolvendo matriz diagonal"
   ]
  },
  {
   "cell_type": "markdown",
   "metadata": {},
   "source": [
    "Neste caso, os elementos da matriz $\\mathbf{A}$ fora da diagonal principal são nulos:"
   ]
  },
  {
   "cell_type": "markdown",
   "metadata": {},
   "source": [
    "$$\\begin{split}\n",
    "\\mathbf{A} \n",
    "& = \\left[ \\begin{array}{ccc}\n",
    "a_{11} & a_{12} & a_{13} \\\\\n",
    "a_{21} & a_{22} & a_{23} \\\\\n",
    "a_{31} & a_{32} & a_{33}\n",
    "\\end{array} \\right]_{3 \\times 3} \\\\\\\\\n",
    "& = \\left[ \\begin{array}{ccc}\n",
    "a_{11} & 0 & 0 \\\\\n",
    "0 & a_{22} & 0 \\\\\n",
    "0 & 0 & a_{33}\n",
    "\\end{array} \\right]_{3 \\times 3} \\: .\n",
    "\\end{split}$$"
   ]
  },
  {
   "cell_type": "markdown",
   "metadata": {},
   "source": [
    "A solução deste tipo de sistema é dada por:"
   ]
  },
  {
   "cell_type": "markdown",
   "metadata": {},
   "source": [
    "$$\\begin{split}\n",
    "\\begin{array}{c}\n",
    "x_{1} = \\dfrac{y_{1}}{a_{11}} \\\\\\\\\n",
    "x_{2} = \\dfrac{y_{2}}{a_{22}} \\\\\\\\\n",
    "x_{3} = \\dfrac{y_{3}}{a_{33}}\n",
    "\\end{array}\n",
    "\\end{split} \\: .$$"
   ]
  },
  {
   "cell_type": "markdown",
   "metadata": {},
   "source": [
    "##Sistema linear envolvendo matriz triangular superior"
   ]
  },
  {
   "cell_type": "markdown",
   "metadata": {},
   "source": [
    "Neste caso, os elementos da matriz $\\mathbf{A}$ abaixo da diagonal principal são nulos:"
   ]
  },
  {
   "cell_type": "markdown",
   "metadata": {},
   "source": [
    "$$\\begin{split}\n",
    "\\mathbf{A} \n",
    "& = \\left[ \\begin{array}{ccc}\n",
    "a_{11} & a_{12} & a_{13} \\\\\n",
    "a_{21} & a_{22} & a_{23} \\\\\n",
    "a_{31} & a_{32} & a_{33}\n",
    "\\end{array} \\right]_{3 \\times 3} \\\\\\\\\n",
    "& = \\left[ \\begin{array}{ccc}\n",
    "a_{11} & a_{12} & a_{13} \\\\\n",
    "0 & a_{22} & a_{23} \\\\\n",
    "0 & 0 & a_{33}\n",
    "\\end{array} \\right]_{3 \\times 3} \\: .\n",
    "\\end{split}$$"
   ]
  },
  {
   "cell_type": "markdown",
   "metadata": {},
   "source": [
    "A solução deste tipo de sistema pode ser calculada por meio de um algoritmo denominado *substituição regressiva*. De acordo com este algoritmo, os elementos do vetor $\\mathbf{x}$ são calculados do último até o primeiro, tal como descrito abaixo:"
   ]
  },
  {
   "cell_type": "markdown",
   "metadata": {},
   "source": [
    "$$\\begin{split}\n",
    "\\begin{array}{c}\n",
    "a_{33} \\, x_{3} = y_{33} \\rightarrow x_{33} = \\dfrac{y_{3}}{a_{33}} \\\\\\\\\n",
    "a_{22} \\, x_{2} + a_{23} \\, x_{3} = y_{2} \\rightarrow\n",
    "x_{2} = \\dfrac{y_{2} - a_{23} \\, x_{3}}{a_{22}} \\\\\\\\\n",
    "a_{11} \\, x_{1} + a_{12} \\, x_{2} + a_{13} \\, x_{3} = y_{1} \\rightarrow\n",
    "x_{1} = \\dfrac{y_{1} - a_{12} \\, x_{2} - a_{13} \\, x_{3}}{a_{11}}\n",
    "\\end{array}\n",
    "\\end{split} \\: .$$"
   ]
  },
  {
   "cell_type": "markdown",
   "metadata": {},
   "source": [
    "Note que esta expressão permite elaborar o seguinte algoritmo para a solução deste sistema:"
   ]
  },
  {
   "cell_type": "markdown",
   "metadata": {},
   "source": [
    "----\n",
    "for $i = N:1:-1$\n",
    "\n",
    ">$x_{i} = y_{i}$\n",
    "\n",
    ">for $j = \\left( i+1 \\right):N:1$ \n",
    "\n",
    ">>$x_{i} = x_{i} - a_{ij} \\, x_{j}$\n",
    "\n",
    ">end\n",
    "\n",
    ">$x_{i} = \\dfrac{x_{i}}{a_{ii}}$\n",
    "\n",
    "end\n",
    "\n",
    "-----"
   ]
  },
  {
   "cell_type": "markdown",
   "metadata": {},
   "source": [
    "**ATENÇÃO**: Neste algotimo, o comando \"for $i = N:1:-1$\" significa que o contador $i$ começa em $N$ e termina em $1$, em intervalos de $-1$. Analogamente, o comando for $j = \\left( i+1 \\right):N:1$ significa que o contador $j$ começa em $\\left( i+1 \\right)$ e termina em $N$, em intervalos de $1$."
   ]
  },
  {
   "cell_type": "markdown",
   "metadata": {},
   "source": [
    "###Exercício"
   ]
  },
  {
   "cell_type": "markdown",
   "metadata": {},
   "source": [
    "Implemente o algoritmo apresentado acima para resolver um sistema envolvendo uma matriz triangular superior. **A implementação deve seguir o template da disciplina**."
   ]
  },
  {
   "cell_type": "markdown",
   "metadata": {},
   "source": [
    "###Exemplo de implementação em Python"
   ]
  },
  {
   "cell_type": "code",
   "execution_count": 10,
   "metadata": {
    "collapsed": true
   },
   "outputs": [],
   "source": [
    "import numpy as np"
   ]
  },
  {
   "cell_type": "markdown",
   "metadata": {},
   "source": [
    "`x = np.linalg.solve(A,y)` ,\n",
    "\n",
    "em que A e y são arrays do numpy."
   ]
  },
  {
   "cell_type": "code",
   "execution_count": 18,
   "metadata": {
    "collapsed": false
   },
   "outputs": [],
   "source": [
    "A = np.array([[1.,2.,7.],\n",
    "              [3.,14.,8.],\n",
    "              [25.,6.,9.]])\n",
    "y = np.array([[42.],\n",
    "              [11.],\n",
    "              [67.]])"
   ]
  },
  {
   "cell_type": "code",
   "execution_count": 19,
   "metadata": {
    "collapsed": true
   },
   "outputs": [],
   "source": [
    "x = np.linalg.solve(A,y)"
   ]
  },
  {
   "cell_type": "code",
   "execution_count": 20,
   "metadata": {
    "collapsed": false
   },
   "outputs": [
    {
     "name": "stdout",
     "output_type": "stream",
     "text": [
      "[[ 1.02842105]\n",
      " [-3.32157895]\n",
      " [ 6.80210526]]\n"
     ]
    }
   ],
   "source": [
    "print x"
   ]
  },
  {
   "cell_type": "code",
   "execution_count": null,
   "metadata": {
    "collapsed": true
   },
   "outputs": [],
   "source": []
  }
 ],
 "metadata": {
  "kernelspec": {
   "display_name": "Python 2",
   "language": "python",
   "name": "python2"
  },
  "language_info": {
   "codemirror_mode": {
    "name": "ipython",
    "version": 2
   },
   "file_extension": ".py",
   "mimetype": "text/x-python",
   "name": "python",
   "nbconvert_exporter": "python",
   "pygments_lexer": "ipython2",
   "version": "2.7.7"
  }
 },
 "nbformat": 4,
 "nbformat_minor": 0
}
