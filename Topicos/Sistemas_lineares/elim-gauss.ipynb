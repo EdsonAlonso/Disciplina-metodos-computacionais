{
 "cells": [
  {
   "cell_type": "markdown",
   "metadata": {},
   "source": [
    "#Eliminação de Gauss"
   ]
  },
  {
   "cell_type": "markdown",
   "metadata": {},
   "source": [
    "Considere o seguinte sistema linear:"
   ]
  },
  {
   "cell_type": "markdown",
   "metadata": {},
   "source": [
    "$$\\mathbf{A} \\, \\mathbf{x}  = \\mathbf{y}\\: ,$$"
   ]
  },
  {
   "cell_type": "markdown",
   "metadata": {},
   "source": [
    "em que"
   ]
  },
  {
   "cell_type": "markdown",
   "metadata": {},
   "source": [
    "$$\\mathbf{A} = \\left[\n",
    "\\begin{array}{cccccc}\n",
    "a_{11} & a_{12} & a_{13} & a_{14} & \\cdots & a_{1M} \\\\\n",
    "a_{21} & a_{22} & a_{23} & a_{24} & \\cdots & a_{2M} \\\\\n",
    "a_{31} & a_{32} & a_{33} & a_{34} & \\cdots & a_{3M} \\\\\n",
    "a_{41} & a_{42} & a_{43} & a_{44} & \\cdots & a_{4M} \\\\\n",
    "\\vdots & \\vdots & \\vdots & \\vdots & \\ddots & \\vdots \\\\\n",
    "a_{N1} & a_{N2} & a_{N3} & a_{N4} & \\cdots & a_{NN}\n",
    "\\end{array}\n",
    "\\right]_{N \\times N} \\: ,$$"
   ]
  },
  {
   "cell_type": "markdown",
   "metadata": {},
   "source": [
    "$$\\mathbf{y} = \\left[\n",
    "\\begin{array}{c}\n",
    "y_{1} \\\\\n",
    "y_{2} \\\\\n",
    "\\vdots \\\\\n",
    "y_{N}\n",
    "\\end{array}\n",
    "\\right]_{N \\times 1}$$"
   ]
  },
  {
   "cell_type": "markdown",
   "metadata": {},
   "source": [
    "e"
   ]
  },
  {
   "cell_type": "markdown",
   "metadata": {},
   "source": [
    "$$\\mathbf{x} = \\left[\n",
    "\\begin{array}{c}\n",
    "x_{1} \\\\\n",
    "x_{2} \\\\\n",
    "\\vdots \\\\\n",
    "x_{N}\n",
    "\\end{array}\n",
    "\\right]_{N \\times 1} \\: .$$"
   ]
  },
  {
   "cell_type": "markdown",
   "metadata": {},
   "source": [
    "É possível transformar este sistema linear em outro sistema linear contendo uma matriz triangular superior, tal como exemplificado abaixo:"
   ]
  },
  {
   "cell_type": "markdown",
   "metadata": {},
   "source": [
    "$$\\mathbf{B} \\, \\mathbf{x} = \\mathbf{z} \\: ,$$"
   ]
  },
  {
   "cell_type": "markdown",
   "metadata": {},
   "source": [
    "sendo"
   ]
  },
  {
   "cell_type": "markdown",
   "metadata": {},
   "source": [
    "$$\\mathbf{B} = \\left[\n",
    "\\begin{array}{ccccc}\n",
    "b_{11} & b_{12} & b_{13} & b_{14} & \\cdots & b_{1M} \\\\\n",
    "0 & b_{22} & b_{23} & b_{24} & \\cdots & b_{2M} \\\\\n",
    "0 & 0 & b_{33} & b_{34} & \\cdots & b_{3M} \\\\\n",
    "0 & 0 & 0 & b_{44} & \\cdots & b_{4M} \\\\\n",
    "\\vdots & \\vdots & \\vdots &  & \\ddots & \\vdots \\\\\n",
    "0 & 0 & 0 & 0 & \\cdots & b_{NN}\n",
    "\\end{array}\n",
    "\\right]_{N \\times N}$$"
   ]
  },
  {
   "cell_type": "markdown",
   "metadata": {},
   "source": [
    "e"
   ]
  },
  {
   "cell_type": "markdown",
   "metadata": {},
   "source": [
    "$$\\mathbf{z} = \\left[\n",
    "\\begin{array}{c}\n",
    "z_{1} \\\\\n",
    "z_{2} \\\\\n",
    "\\vdots \\\\\n",
    "z_{N}\n",
    "\\end{array}\n",
    "\\right]_{N \\times 1} \\: .$$"
   ]
  },
  {
   "cell_type": "markdown",
   "metadata": {},
   "source": [
    "Sistemas lineares envolvendo matrizes triangulares superiores podem ser resolvidos de forma relativamente fácil, de acordo com o algoritmo descrito em uma aula anterior."
   ]
  },
  {
   "cell_type": "markdown",
   "metadata": {},
   "source": [
    "A transformação do sistema linear original para o sistema linear equivalente é feita de forma iterativa, por meio de sucessivas transformações lineares do tipo:"
   ]
  },
  {
   "cell_type": "markdown",
   "metadata": {},
   "source": [
    "$$\n",
    "\\begin{array}{ccccc}\n",
    "\\mathbf{A}^{(1)} = \\left(\\mathbf{I} - \\mathbf{M}^{(1)}\\right) \\mathbf{A} & & &\n",
    "\\mathbf{y}^{(1)} = \\left(\\mathbf{I} - \\mathbf{M}^{(1)}\\right) \\mathbf{y} \\\\\\\\\n",
    "\\mathbf{A}^{(2)} = \\left(\\mathbf{I} - \\mathbf{M}^{(2)}\\right) \\mathbf{A}^{(1)} & & &\n",
    "\\mathbf{y}^{(2)} = \\left(\\mathbf{I} - \\mathbf{M}^{(2)}\\right) \\mathbf{y}^{(1)} \\\\\\\\\n",
    "\\vdots & & & \\vdots \\\\\\\\\n",
    "\\mathbf{A}^{(N-2)} = \\left(\\mathbf{I} - \\mathbf{M}^{(N-2)}\\right) \\mathbf{A}^{(N-3)} & & &\n",
    "\\mathbf{y}^{(N-2)} = \\left(\\mathbf{I} - \\mathbf{M}^{(N-2)}\\right) \\mathbf{y}^{(N-3)} \\\\\\\\\n",
    "\\mathbf{B} = \\left(\\mathbf{I} - \\mathbf{M}^{(N-1)}\\right) \\mathbf{A}^{(N-2)} & & &\n",
    "\\mathbf{z} = \\left(\\mathbf{I} - \\mathbf{M}^{(N-1)}\\right) \\mathbf{y}^{(N-2)} \\\\\\\\\n",
    "\\end{array} \\: ,$$"
   ]
  },
  {
   "cell_type": "markdown",
   "metadata": {},
   "source": [
    "em que $\\mathbf{I}$ é a matriz identidade de ordem $N$,"
   ]
  },
  {
   "cell_type": "markdown",
   "metadata": {},
   "source": [
    "$$\\mathbf{M}^{(k)} = \\mathbf{t}^{(k)} \\otimes (\\mathbf{u}^{(k)})^{\\top} \\: ,$$"
   ]
  },
  {
   "cell_type": "markdown",
   "metadata": {},
   "source": [
    "$\\mathbf{u}^{(k)}$ é um vetor $N \\times 1$ com o $k$-ésimo elemento igual a $1$ e os demais iguais a zero e $\\mathbf{t}^{(k)}$ é um vetor $N \\times 1$, cujo $i$-ésimo elemento $t_{i}^{(k)}$ é dado por:"
   ]
  },
  {
   "cell_type": "markdown",
   "metadata": {},
   "source": [
    "$t_{i}^{(k)} = \\begin{cases} 0 & \\quad \\text{if } i \\le k \\\\\\\\ \\dfrac{a^{(k)}_{ik}}{a^{(k)}_{kk}} & \\quad \\text{if } i \\gt k\\\\ \\end{cases} \\: ,$"
   ]
  },
  {
   "cell_type": "markdown",
   "metadata": {},
   "source": [
    "where $a^{(k)}_{ij}$ é o elemento $ij$ da matriz $\\mathbf{A}^{(k)}$."
   ]
  },
  {
   "cell_type": "code",
   "execution_count": null,
   "metadata": {
    "collapsed": true
   },
   "outputs": [],
   "source": [
    "parei aqui!!!"
   ]
  },
  {
   "cell_type": "markdown",
   "metadata": {},
   "source": [
    "###Exercício"
   ]
  },
  {
   "cell_type": "markdown",
   "metadata": {},
   "source": [
    "Implemente o algoritmo apresentado acima para resolver um sistema envolvendo uma matriz triangular superior. **A implementação deve seguir o template da disciplina**."
   ]
  },
  {
   "cell_type": "markdown",
   "metadata": {},
   "source": [
    "###Exemplo de implementação em Python"
   ]
  },
  {
   "cell_type": "code",
   "execution_count": 10,
   "metadata": {
    "collapsed": true
   },
   "outputs": [],
   "source": [
    "import numpy as np"
   ]
  },
  {
   "cell_type": "markdown",
   "metadata": {},
   "source": [
    "`x = np.linalg.solve(A,y)` ,\n",
    "\n",
    "em que A e y são arrays do numpy."
   ]
  },
  {
   "cell_type": "code",
   "execution_count": 18,
   "metadata": {
    "collapsed": false
   },
   "outputs": [],
   "source": [
    "A = np.array([[1.,2.,7.],\n",
    "              [3.,14.,8.],\n",
    "              [25.,6.,9.]])\n",
    "y = np.array([[42.],\n",
    "              [11.],\n",
    "              [67.]])"
   ]
  },
  {
   "cell_type": "code",
   "execution_count": 19,
   "metadata": {
    "collapsed": true
   },
   "outputs": [],
   "source": [
    "x = np.linalg.solve(A,y)"
   ]
  },
  {
   "cell_type": "code",
   "execution_count": 20,
   "metadata": {
    "collapsed": false
   },
   "outputs": [
    {
     "name": "stdout",
     "output_type": "stream",
     "text": [
      "[[ 1.02842105]\n",
      " [-3.32157895]\n",
      " [ 6.80210526]]\n"
     ]
    }
   ],
   "source": [
    "print x"
   ]
  },
  {
   "cell_type": "code",
   "execution_count": null,
   "metadata": {
    "collapsed": true
   },
   "outputs": [],
   "source": []
  }
 ],
 "metadata": {
  "kernelspec": {
   "display_name": "Python 2",
   "language": "python",
   "name": "python2"
  },
  "language_info": {
   "codemirror_mode": {
    "name": "ipython",
    "version": 2
   },
   "file_extension": ".py",
   "mimetype": "text/x-python",
   "name": "python",
   "nbconvert_exporter": "python",
   "pygments_lexer": "ipython2",
   "version": "2.7.7"
  }
 },
 "nbformat": 4,
 "nbformat_minor": 0
}
